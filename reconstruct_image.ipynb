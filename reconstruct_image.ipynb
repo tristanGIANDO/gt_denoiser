{
 "cells": [
  {
   "cell_type": "code",
   "execution_count": 3,
   "metadata": {},
   "outputs": [],
   "source": [
    "import pandas as pd\n",
    "import numpy as np\n",
    "from PIL import Image\n",
    "\n",
    "\n",
    "def reconstruct_image_from_blocks(df, h_blocks, w_blocks, block_size=30):\n",
    "    blocks = df.values.reshape((h_blocks, w_blocks, block_size, block_size))\n",
    "    blocks = blocks.swapaxes(1, 2).reshape(h_blocks * block_size, w_blocks * block_size)\n",
    "    return blocks\n",
    "\n",
    "\n",
    "df_red = pd.read_csv(\"output/denoised_R.csv\")\n",
    "df_green = pd.read_csv(\"output/denoised_G.csv\")\n",
    "df_blue = pd.read_csv(\"output/denoised_B.csv\")\n",
    "\n",
    "block_size = 30\n",
    "h_blocks = int(np.sqrt(len(df_red)))\n",
    "w_blocks = h_blocks\n",
    "\n",
    "red_channel_reconstructed = reconstruct_image_from_blocks(df_red, h_blocks, w_blocks, block_size)\n",
    "green_channel_reconstructed = reconstruct_image_from_blocks(df_green, h_blocks, w_blocks, block_size)\n",
    "blue_channel_reconstructed = reconstruct_image_from_blocks(df_blue, h_blocks, w_blocks, block_size)\n",
    "\n",
    "reconstructed_image_np = np.stack((red_channel_reconstructed, green_channel_reconstructed, blue_channel_reconstructed), axis=-1)\n",
    "reconstructed_image = Image.fromarray(reconstructed_image_np.astype('uint8'))\n",
    "\n",
    "\n",
    "reconstructed_image.save(\"output/denoised_image.png\")\n",
    "reconstructed_image.show()\n"
   ]
  }
 ],
 "metadata": {
  "kernelspec": {
   "display_name": "Python 3",
   "language": "python",
   "name": "python3"
  },
  "language_info": {
   "codemirror_mode": {
    "name": "ipython",
    "version": 3
   },
   "file_extension": ".py",
   "mimetype": "text/x-python",
   "name": "python",
   "nbconvert_exporter": "python",
   "pygments_lexer": "ipython3",
   "version": "3.12.3"
  }
 },
 "nbformat": 4,
 "nbformat_minor": 2
}
