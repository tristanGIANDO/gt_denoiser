{
 "cells": [
  {
   "cell_type": "markdown",
   "metadata": {},
   "source": [
    "# Reflexions sur le débruitage\n",
    "\n",
    "## SOMMAIRE\n",
    "\n",
    "#### I. Types de bruit\n",
    "\n",
    "* Bruit Gaussien\n",
    "* Bruit de Poisson\n",
    "* Bruit impulsionnel\n",
    "* Bruit uniforme\n",
    "\n",
    "#### II. Techniques de débruitage\n",
    "\n",
    "* **A. Filtres**\n",
    "  * Filtre moyen\n",
    "  * Filtre médian\n",
    "  * Filtre gaussien\n",
    "\n",
    "* **B. Statistiques**\n",
    "  * PCA\n",
    "    * Version de `sklearn`\n",
    "    * _Ma version_\n",
    "  * Non Local Means\n",
    "    * Version de `opencv`\n",
    "    * _Ma version_\n",
    "\n",
    "* **C. Réseaux de neurones**\n",
    "  * Auto encodeurs\n",
    "  * CNNs\n",
    "\n",
    "* **D. Débruiter des images plus complexes (EXR, 32 Bits Float...)**\n",
    "\n",
    "___"
   ]
  },
  {
   "cell_type": "markdown",
   "metadata": {},
   "source": [
    "### Introduction\n",
    "\n",
    "Le débruitage d'images est une technique utilisée en traitement d'images pour réduire ou éliminer le bruit présent dans une image. Le bruit est une perturbation indésirable généralement introduite lors de l'acquisition de l'image par des capteurs électroniques.\n",
    "\n",
    "Le débruitage d'images est crucial dans de nombreux domaines tels que :\n",
    "\n",
    "* **Imagerie médicale** : Pour améliorer la clarté des images obtenues par radiographie, IRM, etc.\n",
    "* **Photographie numérique** : Pour améliorer la qualité des photos prises dans des conditions de faible luminosité.\n",
    "* **Surveillance et sécurité** : Pour améliorer les images des caméras de surveillance.\n",
    "* **Astronomie** : Pour éliminer le bruit des images capturées par des télescopes."
   ]
  },
  {
   "cell_type": "markdown",
   "metadata": {},
   "source": [
    "### I. Types de Bruit\n",
    "\n",
    "#### Bruit Gaussien\n",
    "\n",
    "Bruit aléatoire suivant une distribution normale, souvent dû à des perturbations thermiques dans les capteurs.\n",
    "\n",
    "#### Bruit de Poisson\n",
    "\n",
    "Bruit dépendant de l'intensité du signal, typique dans les images acquises avec peu de lumière.\n",
    "\n",
    "#### Bruit Impulsionnel (Sel et Poivre)\n",
    "\n",
    "Apparition de pixels noirs et blancs aléatoirement répartis, souvent causé par des erreurs de transmission.\n",
    "\n",
    "#### Bruit Uniforme\n",
    "\n",
    "Bruit avec une distribution de probabilité uniforme sur une plage spécifique."
   ]
  },
  {
   "cell_type": "markdown",
   "metadata": {},
   "source": [
    "### II. Techniques de Débruitage\n",
    "\n",
    "Les méthodes de débruitage peuvent être classées en plusieurs catégories principales :\n",
    "\n",
    "#### A. Filtres"
   ]
  },
  {
   "cell_type": "markdown",
   "metadata": {},
   "source": [
    "##### Filtre Moyen\n",
    "\n",
    "Chaque pixel est remplacé par la moyenne des pixels de son voisinage."
   ]
  },
  {
   "cell_type": "markdown",
   "metadata": {},
   "source": [
    "##### Filtre Median\n",
    "\n",
    "Chaque pixel est remplacé par la médiane des pixels de son voisinage, efficace contre le bruit impulsionnel."
   ]
  },
  {
   "cell_type": "markdown",
   "metadata": {},
   "source": [
    "![\".\"](https://raw.githubusercontent.com/tristanGIANDO/gt_denoiser/main/output/images/median_low.png)\n",
    "![\".\"](https://raw.githubusercontent.com/tristanGIANDO/gt_denoiser/main/output/images/median_high.png)"
   ]
  },
  {
   "cell_type": "markdown",
   "metadata": {},
   "source": [
    "##### Filtre Gaussien\n",
    "\n",
    "Utilise une convolution avec une fonction gaussienne, réduisant le bruit gaussien de manière plus lisse."
   ]
  },
  {
   "cell_type": "markdown",
   "metadata": {},
   "source": [
    "![\".\"](https://raw.githubusercontent.com/tristanGIANDO/gt_denoiser/main/output/images/gaussian_low.png)\n",
    "![\".\"](https://raw.githubusercontent.com/tristanGIANDO/gt_denoiser/main/output/images/gaussian_high.png)"
   ]
  },
  {
   "cell_type": "markdown",
   "metadata": {},
   "source": [
    "#### B. Statistiques\n",
    "\n",
    "##### PCA"
   ]
  },
  {
   "cell_type": "markdown",
   "metadata": {},
   "source": [
    "SKLearn PCA :\n",
    "![\"skpca\"](https://raw.githubusercontent.com/tristanGIANDO/gt_denoiser/main/output/images/PCA_sklearn.png)"
   ]
  },
  {
   "cell_type": "markdown",
   "metadata": {},
   "source": [
    "Manual PCA\n",
    "![\"mypca\"](https://raw.githubusercontent.com/tristanGIANDO/gt_denoiser/main/output/images/PCA_custom.png)\n",
    "\n",
    "* **SKLearn PCA :** 84.999 % in 0.119 seconds\n",
    "* **My version of PCA :** -> 84.0344 % in 0.839 seconds\n",
    "\n",
    "###### Testing on \"lena_bruit.png\" (RGB, 512*512px)\n",
    "\n",
    "From this :\n",
    "\n",
    "![\".\"](https://raw.githubusercontent.com/tristanGIANDO/gt_denoiser/main/src/base_lena_bruit.png)\n",
    "\n",
    "To this (my favourites are the green ones):\n",
    "![\".\"](https://raw.githubusercontent.com/tristanGIANDO/gt_denoiser/main/output/images/patch_denoise_pca_median_gauss.jpg)"
   ]
  },
  {
   "cell_type": "markdown",
   "metadata": {},
   "source": [
    "##### Non Local Means\n",
    "\n",
    "Moyennage des pixels ayant des patchs similaires dans l'image, prenant en compte des pixels éloignés pour un meilleur lissage.\n",
    "I was a little frustrated.\n",
    "Despite the rather promising results, the quality of RGB denoising isn't really up to scratch with what we tested.\n",
    "\n",
    "So I went looking for the best known software methods and discovered the **non-local means** method.\n",
    "\n",
    "1. For each pixel, the NLM compares it with other pixels in the image, more or less distant.\n",
    "2. A weight is then calculated based on the similarity between the patches centered around the target pixel and the comparison pixel. The more similar the patches, the higher the weight.\n",
    "3. The target pixel is then replaced by a weighted average of all comparison pixels, using the calculated weights. This means that similar pixels have more influence on the final pixel value.\n",
    "\n",
    "**Result : Detail is preserved!**\n",
    "\n",
    "`open-cv` does this in one line and very quickly, but the aim of this project is to understand how it works. So I've redone my own version (which works even though it's _40 times_ slower!).\n",
    "\n",
    "###### NLM openCV"
   ]
  },
  {
   "cell_type": "markdown",
   "metadata": {},
   "source": [
    "![\".\"](https://raw.githubusercontent.com/tristanGIANDO/gt_denoiser/main/output/images/NLM_opencv.png)"
   ]
  },
  {
   "cell_type": "markdown",
   "metadata": {},
   "source": [
    "###### NLM custom"
   ]
  },
  {
   "cell_type": "markdown",
   "metadata": {},
   "source": [
    "![\".\"](https://raw.githubusercontent.com/tristanGIANDO/gt_denoiser/main/output/images/NLM_custom.png)"
   ]
  },
  {
   "cell_type": "markdown",
   "metadata": {},
   "source": [
    "#### C. Réseaux de neurones\n",
    "\n",
    "##### Autoencodeurs\n",
    "\n",
    "Réseaux de neurones entraînés pour encoder puis décoder une image, apprenant à éliminer le bruit lors de la reconstruction.\n",
    "\n",
    "##### CNNs (Convolutional Neural Networks)\n",
    "\n",
    "Réseaux convolutifs spécialement conçus pour le débruitage d'images, exploitant des architectures profondes pour améliorer la qualité de l'image débruitée.\n",
    "\n",
    "#### D. Débruiter des images plus complexes (EXR, 32 bits Float...)"
   ]
  },
  {
   "cell_type": "markdown",
   "metadata": {},
   "source": [
    "![\".\"](https://raw.githubusercontent.com/tristanGIANDO/gt_denoiser/main/src/base_rafale.jpg)\n",
    "\n",
    "![\".\"](https://raw.githubusercontent.com/tristanGIANDO/gt_denoiser/main/output/images/rafale.jpg)\n"
   ]
  }
 ],
 "metadata": {
  "language_info": {
   "name": "python"
  }
 },
 "nbformat": 4,
 "nbformat_minor": 2
}
