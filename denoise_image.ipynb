{
 "cells": [
  {
   "cell_type": "code",
   "execution_count": 1,
   "metadata": {},
   "outputs": [],
   "source": [
    "import time\n",
    "import pandas as pd\n",
    "import numpy as np\n",
    "from sklearn.decomposition import PCA\n",
    "from scipy.ndimage import gaussian_filter, median_filter\n",
    "import plotly.express as px"
   ]
  },
  {
   "cell_type": "markdown",
   "metadata": {},
   "source": [
    "## PREPROCESSING"
   ]
  },
  {
   "cell_type": "code",
   "execution_count": 13,
   "metadata": {},
   "outputs": [],
   "source": [
    "X = pd.read_csv(\"src/R.csv\")\n",
    "Y = pd.read_csv(\"src/G.csv\")\n",
    "Z = pd.read_csv(\"src/B.csv\")"
   ]
  },
  {
   "cell_type": "code",
   "execution_count": 3,
   "metadata": {},
   "outputs": [
    {
     "data": {
      "text/plain": [
       "(1024, 256)"
      ]
     },
     "execution_count": 3,
     "metadata": {},
     "output_type": "execute_result"
    }
   ],
   "source": [
    "X.shape"
   ]
  },
  {
   "cell_type": "code",
   "execution_count": 4,
   "metadata": {},
   "outputs": [],
   "source": [
    "X_train = X.sample(30)"
   ]
  },
  {
   "cell_type": "markdown",
   "metadata": {},
   "source": [
    "## DISPLAY"
   ]
  },
  {
   "cell_type": "code",
   "execution_count": 5,
   "metadata": {},
   "outputs": [],
   "source": [
    "def show_images(data: pd.DataFrame, title=\"Result\", col_wrap=10):\n",
    "    side_length = int(np.sqrt(data.shape[1]))\n",
    "    fig = px.imshow(data.values.reshape(-1, side_length, side_length),\n",
    "                    binary_string=True,\n",
    "                    facet_col=0,\n",
    "                    facet_col_wrap=col_wrap,\n",
    "                    title=title)\n",
    "    fig.show()"
   ]
  },
  {
   "cell_type": "code",
   "execution_count": 6,
   "metadata": {},
   "outputs": [
    {
     "data": {
      "application/vnd.plotly.v1+json": {
       "config": {
        "plotlyServerURL": "https://plot.ly"
       },
       "data": [
        {
         "hovertemplate": "x: %{x}<br>y: %{y}<br>color: %{z}<extra></extra>",
         "name": "0",
         "source": "data:image/png;base64,iVBORw0KGgoAAAANSUhEUgAAABAAAAAQCAAAAAA6mKC9AAABG0lEQVR4XgEQAe/+Af/qA4uqHvEZ/dIJGfQNEgwCuQt+AD3n/+cMBicC+dvjugISyAb43+fq+97+IvklIAIPAfoFy50D3uD+KQTfzku4NuIE0hjr3OLbTPX3ItYt/BX99QQZv8cv2Erw3O4EF/LqCh4eBO8ez+cjuS1M/50BCUkF6QcCCAPL1Qz9AAW4Ej/+EAkS9gHYydDSB+oJCeMMDxjK9S/YAssgzb76QvoEGQjJ5wDq0iQCVqjyOce2CcwRE/wJFXMPDAIAHxYRcAby/dAGHuUk0zWuBNvr1xH68PJm1sUT+u3hLTUCzNscHNESUsDg9B3VtAaI6wLF9gC2KjSyGfwy2jYyIwDgATkC6QUGCjWrMBb6vQ7e/0MrKX77DXXjFQAAAABJRU5ErkJggg==",
         "type": "image",
         "xaxis": "x21",
         "yaxis": "y21"
        },
        {
         "hovertemplate": "x: %{x}<br>y: %{y}<br>color: %{z}<extra></extra>",
         "name": "1",
         "source": "data:image/png;base64,iVBORw0KGgoAAAANSUhEUgAAABAAAAAQCAAAAAA6mKC9AAABG0lEQVR4XgEQAe/+AZW2NEmUMsTl/DcCpTzn6ysBRfQz6wnQDgob8e75DMYu0AIVR8IR+TE+Ie3WJPHFIuQyAtu8C0cZC8YB+BLGAC7oCykCIBgrACv9yeLpHfs17evq2AFh6+Ie8QQXC6shGLkjHw0AAg40FFMv+wfMHtIEQSQO1AMCJ+ID5ghJyg/0JtTs4rA0BAT55jX47/QI6A3mN8UmMb3zBPIi8/E+jzIx3tjd+g2+HxUE4OUT8OMJyLb5J/v38kHk6wL9TfQC9DgLQhvT/ATM7BkEAjGNHQgEzRvlKiAj/EMF5ugCvVfyD8gx2hi8LAkf2QjwOwIiGEfqLv8rvUjv/xIKA/LzBOUFr0rC5RTx6vfkDhsNNlLFaHtVW9EALAAAAABJRU5ErkJggg==",
         "type": "image",
         "xaxis": "x22",
         "yaxis": "y22"
        },
        {
         "hovertemplate": "x: %{x}<br>y: %{y}<br>color: %{z}<extra></extra>",
         "name": "2",
         "source": "data:image/png;base64,iVBORw0KGgoAAAANSUhEUgAAABAAAAAQCAAAAAA6mKC9AAABG0lEQVR4XgEQAe/+Ad8g0QIIzj3LJAjfAy25JAMC5wD61bM70ikmhgEP2yzlxQHU4gkc+QsK8h7U4vMgEQwWAfrc7AHPZQjL0BJT+uL76hABzhawHwT09UgC9df2HyHISwH/3BLv8/vLJDTzwzsS29oqAtrmpBrF1joon/keuQnmM9wB0c5Y4xSaDljlwC8NBgre/AIIKM3+5jVM/Kj/EvoJ0wPRAtgZHOvdAfHkhA8g1947EGMEENUdCvUECvzsJQs9+rIe7ATr8zvO+Dv5v/4L6fTtFBQFAiFgDfgIBs4pVumt9EFB+RgC5vFw5D3G8tHqYjAQ6PUG0ALdDy830tQnOMzCOu778hjbAbnuMdg52Pr3IucW9wgvk0UAQoWJHa/UnwAAAABJRU5ErkJggg==",
         "type": "image",
         "xaxis": "x23",
         "yaxis": "y23"
        },
        {
         "hovertemplate": "x: %{x}<br>y: %{y}<br>color: %{z}<extra></extra>",
         "name": "3",
         "source": "data:image/png;base64,iVBORw0KGgoAAAANSUhEUgAAABAAAAAQCAAAAAA6mKC9AAABAklEQVR4XgXBy0oCYRiA4c8fxMhdSdKRiFpUdAeBF9MVtW3TFbiqlYsoNKZy0pLGJskcGw/Z4JzSBp307XkEz2NkFk2KFxPjjDhR2tySQXKJq42knXtPKaGOmQfdfgB7SkXQn6KofAlWb5xv4UnY+TOYUzC9WkgQj4S44jLVfmIK88bNGCV3Ue03uWb13UxpL7U4FB0XnlufPW0Mho1a0eb+x5FaXA38eytuNhKvC9txOEjst0Xst1xaqVn6thqnouFovXl8sttZFt0JOMXp+zMXrVxFHWbO5UAyXbfdsbPZHRG/b3eBF77woI40DagThGXLLNLGke/rietN6T3iADP+AZJzwDNuI/0kAAAAAElFTkSuQmCC",
         "type": "image",
         "xaxis": "x24",
         "yaxis": "y24"
        },
        {
         "hovertemplate": "x: %{x}<br>y: %{y}<br>color: %{z}<extra></extra>",
         "name": "4",
         "source": "data:image/png;base64,iVBORw0KGgoAAAANSUhEUgAAABAAAAAQCAAAAAA6mKC9AAABG0lEQVR4XgEQAe/+AY4i9A4A1zEbrhEHI9of5NsE6NAQJi3q3t0Q5wkBMtsQXQLyJ0zc7R0PKUUGE++k5+8DBAHw1CPsAunzBDoF9gUHOpwC/sz85SX4ICfztgTe9SXKGAQmQAAJ+uD/7UIptSrcvCINAifE4eehvUX//i8E/URV/AcBTBU7Avsg/OH58y/zFvP8BgRWnAIK5RYiGRTtD9UC8vQZBMkMBSYnE/zqBA3bEgzjG84EGSkH7hzHChELF9wU+ELTQQE7NdQqBOb290AJA/QE+9ZJBART6eBCTrIT8Svq7RkTIBsCHbXoCRSZIP/S0QsE4joL2QL5rgUW10HPD0UI+wjbqMMcAvYTBgTR4hKiFfrK+dvz7a+vhHcZvVEnrwAAAABJRU5ErkJggg==",
         "type": "image",
         "xaxis": "x25",
         "yaxis": "y25"
        },
        {
         "hovertemplate": "x: %{x}<br>y: %{y}<br>color: %{z}<extra></extra>",
         "name": "5",
         "source": "data:image/png;base64,iVBORw0KGgoAAAANSUhEUgAAABAAAAAQCAAAAAA6mKC9AAABG0lEQVR4XgEQAe/+Ac0B9vDtShTqB+UqzPjhWr8EzBcrHR6lRd05D9cp9w/+CQIh7iTjtiwWFZ3HAfyzEAPtAc8o7xkA48gxBR/jAfAe0ggB3eg2xi/XLu7oBgD8C/sR9wLlOAQ3DwHLz9gu6Q3zH+v0AfvFDxIe+eod0RHy8Dy+HAQA1ez/+8x9+v/9/73/9sTyvwDx3P/L+P/j//Dxwf210P/kAt/+ABPD9hyvD+Ls4j4vw/8B3u0H0kD4BASsLgw1+ObxKwH/AADDOPsK3COfHEbLCQEDBAAAvjHN+Rkm3knhAPkdBAEAw7Hq++jK/Pezs//T86/i/wDh+P//5v/uvO23ps//1tD/Agf2ALgN7BEV8RoXFPYnJLjV+5Kh6utTvgAAAABJRU5ErkJggg==",
         "type": "image",
         "xaxis": "x26",
         "yaxis": "y26"
        },
        {
         "hovertemplate": "x: %{x}<br>y: %{y}<br>color: %{z}<extra></extra>",
         "name": "6",
         "source": "data:image/png;base64,iVBORw0KGgoAAAANSUhEUgAAABAAAAAQCAAAAAA6mKC9AAABG0lEQVR4XgEQAe/+AXzJN/4FwyDmA/0R6CoD9OQBP+FE2/JC2v8CFeH0BhgWGwE4GNf+MArWCiXLJxv19uUWAiIWI1zI7OMs7h7q6Dv3AwUE1xvCXRcfJNQLzkau/RQy9AEYR+b4/PQrLsPkDvFBmzwtASYHCeITSccA1/wmD/XoOdkBZNnhUtXVHewR0fxR/CD3/ALmMAT233HkMBVLNOsgzeu6ASEHPdz9ygYZJuTxGR/YCQkBTN8GAdgUGfoV++8VyB8uAQIg9+YKCQ/3++XH+PpQLNcdArMsEMQOBtYA4fg+/P7PA5YBBEkL7e8K1QXyCzHm5v80WwImzAkhE9EwBx8g29QzH/DVATwXDcEE+A723zgJ6PEfEBxc7nqwfXIj5AAAAABJRU5ErkJggg==",
         "type": "image",
         "xaxis": "x27",
         "yaxis": "y27"
        },
        {
         "hovertemplate": "x: %{x}<br>y: %{y}<br>color: %{z}<extra></extra>",
         "name": "7",
         "source": "data:image/png;base64,iVBORw0KGgoAAAANSUhEUgAAABAAAAAQCAAAAAA6mKC9AAABG0lEQVR4XgEQAe/+AbQE5vYC/xXlEf1KuvL8DwgC2ucrEir1DRfiAq4jMf3SNAIGCawAAjzQAzTR/gr+T+zWAibiCCja5CZL+woJ1N3BLf0C0AkUCAfbEY4PFyXyJs1R6AHD5f/yNtAIAOkhAiXtvigIBAD37RvBRtfs7hbg9vYbAQwCEAY7GP+wMwAk9iU/CBTXDwGw6egWDB3WAzXv399Q9uoGAs/9ZhIH6ShZxgwTPNj48gEBvdXVETYHJf7n0ez0OOfYUwIeDj0IBu/0rvk7JEbLJBsWBAMWCAUfArRKsupN+U34G+gE8N3sOwDdBtoISM8S//o52gSyIf0O0c9TATER+fYL7NkOBAAg+QsEMwW6JvHo9/vtD/yTz3kZShPE3gAAAABJRU5ErkJggg==",
         "type": "image",
         "xaxis": "x28",
         "yaxis": "y28"
        },
        {
         "hovertemplate": "x: %{x}<br>y: %{y}<br>color: %{z}<extra></extra>",
         "name": "8",
         "source": "data:image/png;base64,iVBORw0KGgoAAAANSUhEUgAAABAAAAAQCAAAAAA6mKC9AAABG0lEQVR4XgEQAe/+AI05viplQg8hLkknEiE8AwAC8SbkTQwPLfXytxodBsQGAALuAroUlr7E/AUY6dQoAP80Akj1CAU8SDINHCHYGMk9FMwC+R4CCE7O8igG5TdCFt4CAAFsXp7WChTsAsgf2hABBfEeAknI+UHtu8wh7iALBADf7vUEyg4VnTIK7sUIwwEBMwo83QHEuhTe+pYAPM9E4yX3xO4TBLv/4r4bIBngDe0FFtVW590EOtX2Vf0E4x3S6dvUEP8Q+ATwE8sByALQDhUCABAu5Nw/AvrtKCr+ISw4HtkeVenV6sACF+QU+xjtB7sPR+Ky+0JN9ALXSgsN+sfhNvMXZN71A+UfAifKHroJKzcpFfHoO+QbzfeTdHMHlAdzMwAAAABJRU5ErkJggg==",
         "type": "image",
         "xaxis": "x29",
         "yaxis": "y29"
        },
        {
         "hovertemplate": "x: %{x}<br>y: %{y}<br>color: %{z}<extra></extra>",
         "name": "9",
         "source": "data:image/png;base64,iVBORw0KGgoAAAANSUhEUgAAABAAAAAQCAAAAAA6mKC9AAABG0lEQVR4XgEQAe/+Ab3huWvf+wHx9ky0DPcrAxAC1t2Nzf/TEQP+qUwY/dQFAwHojAIUL+E4pBpGsz/30voMAnQPNDf/An8+GsQW/IggI8UBsvD2/y6sTtQaG+fGUQDbHgL+FD/u6h76/u/U+0nF9f7AAdbbs0Md4vYl4SkI0A344i0Bixfk//sMI/scOZXxB1DLAQLyAhk1Az32+svcCxJEjiPpAujqE/407+Q7Fozu6NpIuSABozat3/dbMrYTKs4F30nR3gHftD3SDfYZ9wALAOjlEPsFArkg7Oj6C+2zCgD53xcM8BYCzPbcKAHDAjjYAgAh9ODc1wGR+wL1N8UEAfAuIv8P1gL/AcK1CCvq4ANCAO0MCuX+7v/J7YX61imAdAAAAABJRU5ErkJggg==",
         "type": "image",
         "xaxis": "x30",
         "yaxis": "y30"
        },
        {
         "hovertemplate": "x: %{x}<br>y: %{y}<br>color: %{z}<extra></extra>",
         "name": "10",
         "source": "data:image/png;base64,iVBORw0KGgoAAAANSUhEUgAAABAAAAAQCAAAAAA6mKC9AAABG0lEQVR4XgEQAe/+AbU4tjsD2CocreIMZZov2esByRbf/+kc6B4Q8OjwBCDXDwHcCe/O9+M75Rz3+AgC+B/TAszs5RI5NLwduC4I/+QT5yABvfkFAfzzFeHkKjbz6O/w/AIb+xDzDwzkHXr8/abdDBVDBN/oAR/7HvEupesNMvH4G/ACHO0Z6MgIEuADKiAgDNzg1AIdPOIGCO3w+PG7+efDIwghAvPnySv29MMPRyfM1C8IEewBtQwJ7+LvatPQEQAR3zP60AIT9g3jEiRf/QscCvgyz/cOArYV2RTU01ER7AE0JfYh+xMEXNMY42X67gD/9+Qi5QTx5QLB7gMA9s7SCVbvza3TI+Y/AhgrJuzB5wvr/ff5Fh/GE9sEmIfY0/kedgAAAABJRU5ErkJggg==",
         "type": "image",
         "xaxis": "x11",
         "yaxis": "y11"
        },
        {
         "hovertemplate": "x: %{x}<br>y: %{y}<br>color: %{z}<extra></extra>",
         "name": "11",
         "source": "data:image/png;base64,iVBORw0KGgoAAAANSUhEUgAAABAAAAAQCAAAAAA6mKC9AAABG0lEQVR4XgEQAe/+AbresGYLvRkQWZH/I7chKwICANVJ8Po7BuqlFwDBf/js+ALuaCwQxEVeIxEOuUfFN9wLAdDW/u8dFubp9Drb/NoC/e0Ez0W65e8EExU0fhdW2h/9PATr3A0uCeMo+co2M+4ZHhnZAvPk9BHj9eL0/x4nFg4dvPoC6BjxzT//Ii8H6e7/BvYFDgRJ1u4Hwf/Z2vc13uMAGtgOAvLrIDcxHh7fIQUMXPn7HQcELOrXJbYK20LB/w0LPAgY9wGjE+3x+/YJ6B45v/kq10W4AggLzfoAEDIBB8AfFt/+thUC0N9lOuUl5Qn28trDCj8tIgG/xBjtCeb3CTisTwXSNd/xBOMy5DTGXgQDxhsC1iPeSOjM9H/5I1XRwwAAAABJRU5ErkJggg==",
         "type": "image",
         "xaxis": "x12",
         "yaxis": "y12"
        },
        {
         "hovertemplate": "x: %{x}<br>y: %{y}<br>color: %{z}<extra></extra>",
         "name": "12",
         "source": "data:image/png;base64,iVBORw0KGgoAAAANSUhEUgAAABAAAAAQCAAAAAA6mKC9AAABG0lEQVR4XgEQAe/+AfLjzF7299/2Ndv8pWL5+fQB5s4KBeADJeQIGgsaxwUStwGdYuoCBuD9A+4BBDu+CPsCBDy69BUl8x0M2gL90fEE/vwC3P8zLu8T7e5UKu4A5RoA8wIMsuTdse0HvtgDTwMe5OEoAvyFOyAt0A8XDA+97+Xw7yQB1gfR+gszvu5HqHTm5fnwywKj2xUCNPIL/NkL4N8aCCQ9AldA5xYY7zNDDDjR+SULLhME4gAK89LZ8wv5BgLyAPOl7QHTFxXC4SMf9b8dzlTJ9S3pAav6Rf6sNeL7FgYXANnnEjAB2+j8/ukFx2f39Qnd7h4j+ATs4/kcHtEU3wEo9wcH+qkRBO4ny+v3CCMWxfwQHBsDBAJCHoNBOJDbhgAAAABJRU5ErkJggg==",
         "type": "image",
         "xaxis": "x13",
         "yaxis": "y13"
        },
        {
         "hovertemplate": "x: %{x}<br>y: %{y}<br>color: %{z}<extra></extra>",
         "name": "13",
         "source": "data:image/png;base64,iVBORw0KGgoAAAANSUhEUgAAABAAAAAQCAAAAAA6mKC9AAABG0lEQVR4XgEQAe/+AVPmEQncANwvA+A4Cfsa0/UBOdgwHAraAOvUVx0JD9MD4gTo9Nj35Rghzh7kHeH+ML3WAiwMEuwyEvk0/N3y/DvcBggEAREbDNXsLdbqADcOtMfzLgTMIcb0JUXa/ybo4/so9R36AgrgJync6CYX8izHHKDyq/cBOwjsKgDlCbkAJe2uo98gQwQUCA7VBCq1UcJMCqAF89APAuvfGCkApEy7+9sJ+cgMD7gC7/6hHCcR7xc6OQ0vG9sb8AIe8Rnt30Hq7QcBv48tZ+EvBM9C9dnwO9Mg9x07GN8L8coE96gAAGrt5QlEBp74FenSMwIrZkYpsxcXKSQqBh8wAQjgBA3BRfDzx0gqyLTy+/Mq3jOK2noyfDXX5AAAAABJRU5ErkJggg==",
         "type": "image",
         "xaxis": "x14",
         "yaxis": "y14"
        },
        {
         "hovertemplate": "x: %{x}<br>y: %{y}<br>color: %{z}<extra></extra>",
         "name": "14",
         "source": "data:image/png;base64,iVBORw0KGgoAAAANSUhEUgAAABAAAAAQCAAAAAA6mKC9AAABG0lEQVR4XgEQAe/+AfQL//ARvC7sAijPAePuzQ0C5gDWEQBEFh78wB7u5/US+wILAAXW1gD+88Xi7Ogt5RYZAbT7MRvk/ecmFvXo3eH/CQYBxRUI6zLl+Nwb7fMH/e/8+QIf8REAABvwEOL++AP25QbLAhsl7O/D+/QbFkED/i8r6gQB/936E+bHYwbQ/QYqjQ0H3wHFOgDm9wLbETXQ2fslsmWNAdkm0QklAe7fFR67HPz+pjkC58rQEgEA/Q3V/irwBiM74gH/1SAL4CDo//vPT+L1tRgOAf8A2Rn++BizKA399N79/uIC/OMn+QPvAEwAAvMh+SIRUwLLHfsV7gwAyRYW7M7/G9+/AfkGAPvwziTUL/sl+97kH6wACYndDPMopwAAAABJRU5ErkJggg==",
         "type": "image",
         "xaxis": "x15",
         "yaxis": "y15"
        },
        {
         "hovertemplate": "x: %{x}<br>y: %{y}<br>color: %{z}<extra></extra>",
         "name": "15",
         "source": "data:image/png;base64,iVBORw0KGgoAAAANSUhEUgAAABAAAAAQCAAAAAA6mKC9AAABG0lEQVR4XgEQAe/+AX3XufNMwCAUI51oywT7KskCkQr4PME4D/CtbuLsR9z3LAFj4fsB/dc6/AAD3OFB0FXQAsYI/BTIEfsG5ewFKucO1xkCDA7oyzjt9fUSDB/7Aynw2QIIJjw53+9Q+cPs/xMjAcn7AhaN89UdSXIb/Cjf3+r5MBsEKBXd/ETgNuhG9/0zA9bb9gL66PQOodPpyffZ6KwB7FfaBN4o7wkICQhAuUIU5sIZ6SACCeHF3vwnyOUZzi06KCfa+gId6jcz/d4A0jcZvc7yy/g5ATIJ8Q73CADHOhUH2Bn94SICCxYYAAM0+Df/IM7izwYj/wIG+e3fAc0M2BmsWjMf/+XeBAkN+DLZESX39Aj16DPbFCQZX4SXmoWNYwAAAABJRU5ErkJggg==",
         "type": "image",
         "xaxis": "x16",
         "yaxis": "y16"
        },
        {
         "hovertemplate": "x: %{x}<br>y: %{y}<br>color: %{z}<extra></extra>",
         "name": "16",
         "source": "data:image/png;base64,iVBORw0KGgoAAAANSUhEUgAAABAAAAAQCAAAAAA6mKC9AAABG0lEQVR4XgEQAe/+AZHM2QL2FD3DAeZS9ODRLA0BOxMwAqUl7zywKu0ayvH5DAI07bD6FuMYolP+LfQbMTkaAuXvIrY0QOVCxAMk+Drv7v8CCyPm/+v3HuI47KEeryEZ+gL25iUY6RAm1bz7Qe/3G+ojATkRBwnu9STTLOr+uB78UfoBKVre5cc7AvD6/Tfm+AjpCgQtw/wu+RHzNACrDMoQFTYMBCHQDvf5yBkOzVm8IwwX0AoC9ercyg0NThrn7vIG8O8Y9wE4G/fi/UK6Mtn2Td4dyBXjAhAM6xMO6zfbTRTm/gbvETYC49kQAuTBBFGoTrvluAMW3AQh+Q4WD1OiHO7EM+UJHuZBAgHd1Rjyk+7aUfgsH/v2DqinuYJRM0BFVgAAAABJRU5ErkJggg==",
         "type": "image",
         "xaxis": "x17",
         "yaxis": "y17"
        },
        {
         "hovertemplate": "x: %{x}<br>y: %{y}<br>color: %{z}<extra></extra>",
         "name": "17",
         "source": "data:image/png;base64,iVBORw0KGgoAAAANSUhEUgAAABAAAAAQCAAAAAA6mKC9AAABG0lEQVR4XgEQAe/+AfO5T8sDni0+3cgo8C7yAwUBm/Qv5O8I+wj1DfQY/xfxAQIQMfbQAw77B+wVCOAJCM37BDOiIBjx9CsL6Q8bJr/5HzsBtArsN9D2+P4z7eostCbl3AQPDOj1F9Id8ADu5B0zEAhNAtH8KOHUG+QD9u4/FBL4DLICJdTQKxMPGfUZL/TN95wY7wLoQFfLAM4XBPOx1SPYKdoYAZX87lbM9BTr+yz3CuMaF9YCOvkXpv356M5F0/glHdn9AgTOCBr19Sk29pkQEfa1QvraBCQMFvoO0AQPFwb7AGT0JQIEAt8P5f4sARvbLyyt7QQR9QLYuA8eONwr+B4T81MvPeLbAcTg+gMY4RX3D/kM4izwMdjMLX8dSx5zuQAAAABJRU5ErkJggg==",
         "type": "image",
         "xaxis": "x18",
         "yaxis": "y18"
        },
        {
         "hovertemplate": "x: %{x}<br>y: %{y}<br>color: %{z}<extra></extra>",
         "name": "18",
         "source": "data:image/png;base64,iVBORw0KGgoAAAANSUhEUgAAABAAAAAQCAAAAAA6mKC9AAABG0lEQVR4XgEQAe/+AZATz1SpQe0QzTi2M/8AFfcEKSwUCR7o5U87yi/49gkQ6gLfrOPbJ90b05b7+hgP5hDjAhjgvfTdDQf5ILUX4NYGny0Bv+vpItcUEfQJ/xTeDhqtEALa9SLiM9mL0OQQ1/o90yj3Au/izw377VZD/s0DZrwh7lECD/wnBOsuK9sLEf6Q3w0N3wIH0BsT4/fs8iAV8/og6fDKAud3+BME79ktxxImERfdRRICMKD9wz4Z//sY8NDj9wTbQQTnIdUvwvRGAPTvIxLqM7oWAg0O5dgCCuWfBfoLOvq2IuUE9wMt8wHXBB7sBBTSIPT4AALT+dwF7DYlAuTH5fC2MfTUAgP6JOrcI/wQQlXsH1DjzS59M4TzxLisqwAAAABJRU5ErkJggg==",
         "type": "image",
         "xaxis": "x19",
         "yaxis": "y19"
        },
        {
         "hovertemplate": "x: %{x}<br>y: %{y}<br>color: %{z}<extra></extra>",
         "name": "19",
         "source": "data:image/png;base64,iVBORw0KGgoAAAANSUhEUgAAABAAAAAQCAAAAAA6mKC9AAABG0lEQVR4XgEQAe/+ARgq3/8d7yrj2QA0Ce7z4BUCPSD3EPgy/AoUHcnn7ecUCAEUBwL2JD2W+CsP1e9H9AkEAhoQHg3nzw7+DNn+OeEzwvsC3QoA4BEOGi37ByIqA8tt2wEf8Cf88Dn33t4hBQ0HyQYlAQA66PjuHgggDtEdCrZj7+4BJ/vxOdEaCMpBz/YY7RzeIgIfG/64NPTdFxAhDflG/TINAULz/gnw6fEiEvUc+OQKJwgBHQ7b/DX92jcAI+QI9/Ep0QIE7UI7GPcUN9rAtBwRx9bpAu0hyeH94RejBR0J4NpKHRMCSx4V5cs8ADf/8wfV+bMbEgEzCfHtLcP+CzMLAQSvHt0nBPX09hPxCC0bzSLs8/8YB++VyXeI8IQr/QAAAABJRU5ErkJggg==",
         "type": "image",
         "xaxis": "x20",
         "yaxis": "y20"
        },
        {
         "hovertemplate": "x: %{x}<br>y: %{y}<br>color: %{z}<extra></extra>",
         "name": "20",
         "source": "data:image/png;base64,iVBORw0KGgoAAAANSUhEUgAAABAAAAAQCAAAAAA6mKC9AAABG0lEQVR4XgEQAe/+AU4ZDg3j/CvoCOYs3usdKPoESNrW/TL4EdoIMMggHfLQ8wTbFEbi1g/MHQgA/fQC+PQQBCYEwR8P8ivOBsWDFZMPLPQE5x3lw0/F8gsw/fC0KQD/IQIcBSYx7koDA8wzsSTC5bjmAuwGyyb5tff23RjVA0kIQzYBctI5zV7C7x0c4uj/KwLeCwIFP+0eoArswtUTRPXtClMRBDrP6gADADMBry/O1RMFBPQBIBU7E/TuTOYC9NUDGeQY9wFHT9UQFOD9GOUUBAQU8dw3Ah/KGODT8gcS6A3VH8nuEOkBiOMFBgD2Kt4i1i/DNtHjEwT78BkfyeckyeH4Ax3R+SgrArMFKNgBMM4xEf4O4h72E9b+nnlETvFmYAAAAABJRU5ErkJggg==",
         "type": "image",
         "xaxis": "x",
         "yaxis": "y"
        },
        {
         "hovertemplate": "x: %{x}<br>y: %{y}<br>color: %{z}<extra></extra>",
         "name": "21",
         "source": "data:image/png;base64,iVBORw0KGgoAAAANSUhEUgAAABAAAAAQCAAAAAA6mKC9AAABG0lEQVR4XgEQAe/+AZb4By755SqsPvRTuuf5/goBwL4h8OoYNPugQsoGNsr7HAKhRfrf4vnkBhwONQ3UBxMHAcmySvMO1ej2LN0n5OIfGd4E0zj99/L4Bjf+vxoBMeUtCwL01t3KIvoQ7O0pCgcuDNAbAdTCHQiwLhfb9vP8HxHxH+AEtQjMFgf0xjf2M+Tj7xwpGwTSW+0Y/TAJzxkBKsM7E7/XAcLMDhng5N19+arwYdDkJ+gBex4QwT3DO9H8/jfuKNnUAAGx1R3zBBsGz9cr3Tn/Avj6AuwSCOfH7vH5I+kRGBbCEzkBW/4qIO3z+fQiE+74INs3yQIWWPbIwOlGHSj6IhrNErP9BPzU5ywqFqoB9xzH/uIZDhhcGoc7Nbn9BQAAAABJRU5ErkJggg==",
         "type": "image",
         "xaxis": "x2",
         "yaxis": "y2"
        },
        {
         "hovertemplate": "x: %{x}<br>y: %{y}<br>color: %{z}<extra></extra>",
         "name": "22",
         "source": "data:image/png;base64,iVBORw0KGgoAAAANSUhEUgAAABAAAAAQCAAAAAA6mKC9AAABG0lEQVR4XgEQAe/+AbzSNBbiEaM+BfpUn+Q5+PYCwS7npyDlJuXy468679jSGAQ/+OUT3SXUERoQFqNNAvzPBNYA7d3r3zHkF7/r7NADCT4EDcoGPgfpRsD1/foWFz3QoAGTDwII1Pz3Qu31UN3dEtg6AezdDNodsSEA8CoBQ8TX3PAC/wPjNyMX9uoh7A6+tkE/EQT64hrZPgwNK/Qu2zgd9/gIAcnpDRwB7TbPvyQa++s1/NAC5swR0Q4K1i4xEggkIs3tSQL4awMkuM4NxAXlCgsQId7oBD8WAqNxAN8/9Rr67Oz6/gQC9ADjUAAA8+b+Ih8FL9wY0AQA999C9/wN7O8r/PHkNSPxAiDXGNvf5PkuvgAN6wcjycFzl4L2rL+6IQAAAABJRU5ErkJggg==",
         "type": "image",
         "xaxis": "x3",
         "yaxis": "y3"
        },
        {
         "hovertemplate": "x: %{x}<br>y: %{y}<br>color: %{z}<extra></extra>",
         "name": "23",
         "source": "data:image/png;base64,iVBORw0KGgoAAAANSUhEUgAAABAAAAAQCAAAAAA6mKC9AAABG0lEQVR4XgEQAe/+ASf36lAI+OkQ0vo33P8AOg8EC//4GP/2INVu0ewUIwoQtwJk6TjZ6xAKMKHwEOnF3AjsAvBj5PDBLOPJDg3i4SkYvkUCmuli9xMTV0ZG0wkbGOgn6gQXLqj5QevT+PPv9Bzc4ALVAW/89C7OBfoxwxLyxkDkF+MC1/FE7ubWyIERNun6B9X5IAE59v1J+Z0j8E8VzwT8BxLwAvgE/v3PNDQj9NwqNQg+8OwEAD7L4NTvDUHj9+ffF7n+/QIRqtnqEBT8DiDr+A0XDd0TAvL2Pfws/BCO7A9ox/sAD+UBH+soCPEMSL7s/iNED9bW/QQG+RAMTNLs6FLQ1xQB5y3AAR33AjwJ5j4O4Br5zPsV0jg9DonWazIZlwAAAABJRU5ErkJggg==",
         "type": "image",
         "xaxis": "x4",
         "yaxis": "y4"
        },
        {
         "hovertemplate": "x: %{x}<br>y: %{y}<br>color: %{z}<extra></extra>",
         "name": "24",
         "source": "data:image/png;base64,iVBORw0KGgoAAAANSUhEUgAAABAAAAAQCAAAAAA6mKC9AAABG0lEQVR4XgEQAe/+Ab4M/rZ86a87HMn2BAf5DwYC8QwPgAUZAdfo+PoIxPc5ugQWshbcByQZJgPw7hcr46T7BC4d3Pz91uYF0UvbABLsDMwC5/kGM/ssSA4t3jXd5PgdPwKr9BDU//jxPzMU3PQcF8P3BDD0AO4X+xnACRPLMPru+0YC4h7/MA3v6wq27ADdNB8juAQe8OQECgAMrlnjDDSKDdVPBN4EBub5Jsth6iztyiUgA7AB4uvZV/u9JxP0th4DCdvf+QIL4i/G8ijpsaUECC3XvDYFAenPI936GusJHNsI8OkI6Q0CBUW87RMmMu7cy/AH9Br19AIFmRUd9enw2BVFz+02BwnKAbb1GzfLBvLd4ic5/tno5v8Xj4MxIRKkzgAAAABJRU5ErkJggg==",
         "type": "image",
         "xaxis": "x5",
         "yaxis": "y5"
        },
        {
         "hovertemplate": "x: %{x}<br>y: %{y}<br>color: %{z}<extra></extra>",
         "name": "25",
         "source": "data:image/png;base64,iVBORw0KGgoAAAANSUhEUgAAABAAAAAQCAAAAAA6mKC9AAABG0lEQVR4XgEQAe/+AYrdESC1ZK491wcv3Qv4Mc0BbhkR5P7PPSziFecOJtfQAgIb1w3DHTMHtsDnDr6vFisGAsfs0Dvz9ez/Hge8bwKnAyUEQNkhA+IjE+/8GhWuLdkR2AQbw+/32ff+A//yXO3QUL8rBMEc/uk8/AP5ySHz5yH+BgUC18YE+vjayPtM+fwM7/pbxgQ0Ghfo8B8YFMr/EtYX6uNPAi7n4PJM3vLAKg3MR93OmvgBkO8ME+L8+yTgvmvw+uHm+gFkKAMQD/ET8PjNCLwWwlTmAT5E5B4D7Qm/MCDHDP7QBvwBtPbNFPIGHDLLsN76OOzc7wFv+0PXCfrh0PcDCRfgKPogAhwAw+nW+S4G8t3cDTrXwvC25IuQ2A2QFwAAAABJRU5ErkJggg==",
         "type": "image",
         "xaxis": "x6",
         "yaxis": "y6"
        },
        {
         "hovertemplate": "x: %{x}<br>y: %{y}<br>color: %{z}<extra></extra>",
         "name": "26",
         "source": "data:image/png;base64,iVBORw0KGgoAAAANSUhEUgAAABAAAAAQCAAAAAA6mKC9AAABG0lEQVR4XgEQAe/+AUk2xggPIvznBEEMqfj3OLoEJuQmAN/7Ie8nlCz/EzXDDwI69ukSUgPtNwt05yr+ykMaAp0MA+nNEvPekdbm6jD60foEKfwCDP7nHQYjt0MEuPwDLAE4IfEY7/sZNe4C/ff0Ht34AiYh0x8oCQ/U0/QBFinJEfsEE9wlyhYg0vwU6//mQ/jx9QKu6TM5D9Qn8DMK7wneDM4ZAmI48cQKMAQZsRoQHBog/CkCBB4bChn4JCkdxSUBExAU4QLswaQXthkK2xsrDSMZizYIAU8wFbgDJvHeHvE59NwNFrkBidfqKxAC0RQLONjrBwb9HAFmAhME9uH6KQwE6wnqCgv+AvsL2AzpPhQr0+D51RwOCwmesnCHCGerDAAAAABJRU5ErkJggg==",
         "type": "image",
         "xaxis": "x7",
         "yaxis": "y7"
        },
        {
         "hovertemplate": "x: %{x}<br>y: %{y}<br>color: %{z}<extra></extra>",
         "name": "27",
         "source": "data:image/png;base64,iVBORw0KGgoAAAANSUhEUgAAABAAAAAQCAAAAAA6mKC9AAABG0lEQVR4XgEQAe/+AW0f07AiHrEu/hEP7VHtI+4EAc/RberpLdkjCdAKuv0hCQLk8hv88tvTURrFEff2Luj/AT8rzQbMMxXa5Tzs+BkHF0oEIbgDTEKrCQ31EAvfHBEc4gFW8AT6DdYV+vLnQ/3bESJHASweIvTMDu4T9vH+BQ1ACCUCE+S+ADDdDgHTTiUUKLqfDAE3JvcE1w0G5SrDBU/SFQpTAjfQNv4ECRAV8PAPxR/r5rkC3gaF/T/Q8/b3U/UH9en/KATwFv8LszTZPhzMBSfGJBjeAQ9cLJ4AAwoQCw218ynVKxMCOdm9Fur879UK2SUDEQ349QI6MsvzAxPt7sEnBifkPP8oASA5BOEP/9kk2wRRrRkH2ASi7HTkv+H6XgAAAABJRU5ErkJggg==",
         "type": "image",
         "xaxis": "x8",
         "yaxis": "y8"
        },
        {
         "hovertemplate": "x: %{x}<br>y: %{y}<br>color: %{z}<extra></extra>",
         "name": "28",
         "source": "data:image/png;base64,iVBORw0KGgoAAAANSUhEUgAAABAAAAAQCAAAAAA6mKC9AAABG0lEQVR4XgEQAe/+AYqf+BDPZeT7ySdikCD8SqoCzCcBLgu36/tT/3IWwPe02AFM5xjPKCHFN/gH3gzpBCb6Au7Y4wYfyPLN6qUJ4w/mIv8BNd8QMQUA5PAIHfwBzRfdGAIUDAr329zFMerxxvL48RYmAgUQDfYsEUTVF97rAALwBdABLxTx6fr4Mu7pM+j88ug5HQLqCCvwPlP97wy8HClS997FBAXk/kEA+ekP80Xv3OcAChkC/gcKsqziSNMg/9kjKRn23gANGANAPABVJT4AKxVAACIfASg9skDo79UYCCvVKdMpDeMEK9bp5wbmVPkCrizzDOIIAAErEBf18ff6AAgB/Drs5OT2Ag/N8PgHDAUOIDMR2awd/2R2zX1ljdxaSAAAAABJRU5ErkJggg==",
         "type": "image",
         "xaxis": "x9",
         "yaxis": "y9"
        },
        {
         "hovertemplate": "x: %{x}<br>y: %{y}<br>color: %{z}<extra></extra>",
         "name": "29",
         "source": "data:image/png;base64,iVBORw0KGgoAAAANSUhEUgAAABAAAAAQCAAAAAA6mKC9AAABG0lEQVR4XgEQAe/+AZQVB/fX9yzq6CrLIQn2IeUC0gXYzhkr7Osax+z4DvrIDAGy6bZFGtkr+AoU0RrZD/QhAY0W/fLbHvLrOMw54BnhPpoC9bjNBDzqEePlPBzxOCO5KQQkBgsk2xjvOiTzxuW/Ks74AqAR597X3QRO+qUXCAqzDTACJ/gj+jMVBNMFa7L3MScN0wIqDucZ8NgI/RnmbyLFFQ0GAt4E8uE3IRXUverZKNyRCxUCNt0rtpELwyP03QzC4yLaDAF8KbsmFv3GDmKsDkHf9A0BAhbQDAkD9DId6QYDsMAIKeoC/UNRAfkMGObg9gv4CAS1KAIAy9oF3gzYDd0r3xkA5ErWAcnuqxQ2F+EUeSZO4BbuFympLnlq9LonbgAAAABJRU5ErkJggg==",
         "type": "image",
         "xaxis": "x10",
         "yaxis": "y10"
        }
       ],
       "layout": {
        "annotations": [
         {
          "font": {},
          "showarrow": false,
          "text": "facet_col=20",
          "x": 0.04100000000000001,
          "xanchor": "center",
          "xref": "paper",
          "y": 0.2866666666666666,
          "yanchor": "bottom",
          "yref": "paper"
         },
         {
          "font": {},
          "showarrow": false,
          "text": "facet_col=21",
          "x": 0.14300000000000004,
          "xanchor": "center",
          "xref": "paper",
          "y": 0.2866666666666666,
          "yanchor": "bottom",
          "yref": "paper"
         },
         {
          "font": {},
          "showarrow": false,
          "text": "facet_col=22",
          "x": 0.24500000000000005,
          "xanchor": "center",
          "xref": "paper",
          "y": 0.2866666666666666,
          "yanchor": "bottom",
          "yref": "paper"
         },
         {
          "font": {},
          "showarrow": false,
          "text": "facet_col=23",
          "x": 0.3470000000000001,
          "xanchor": "center",
          "xref": "paper",
          "y": 0.2866666666666666,
          "yanchor": "bottom",
          "yref": "paper"
         },
         {
          "font": {},
          "showarrow": false,
          "text": "facet_col=24",
          "x": 0.44900000000000007,
          "xanchor": "center",
          "xref": "paper",
          "y": 0.2866666666666666,
          "yanchor": "bottom",
          "yref": "paper"
         },
         {
          "font": {},
          "showarrow": false,
          "text": "facet_col=25",
          "x": 0.5510000000000002,
          "xanchor": "center",
          "xref": "paper",
          "y": 0.2866666666666666,
          "yanchor": "bottom",
          "yref": "paper"
         },
         {
          "font": {},
          "showarrow": false,
          "text": "facet_col=26",
          "x": 0.6530000000000001,
          "xanchor": "center",
          "xref": "paper",
          "y": 0.2866666666666666,
          "yanchor": "bottom",
          "yref": "paper"
         },
         {
          "font": {},
          "showarrow": false,
          "text": "facet_col=27",
          "x": 0.7550000000000001,
          "xanchor": "center",
          "xref": "paper",
          "y": 0.2866666666666666,
          "yanchor": "bottom",
          "yref": "paper"
         },
         {
          "font": {},
          "showarrow": false,
          "text": "facet_col=28",
          "x": 0.8570000000000002,
          "xanchor": "center",
          "xref": "paper",
          "y": 0.2866666666666666,
          "yanchor": "bottom",
          "yref": "paper"
         },
         {
          "font": {},
          "showarrow": false,
          "text": "facet_col=29",
          "x": 0.9590000000000002,
          "xanchor": "center",
          "xref": "paper",
          "y": 0.2866666666666666,
          "yanchor": "bottom",
          "yref": "paper"
         },
         {
          "font": {},
          "showarrow": false,
          "text": "facet_col=10",
          "x": 0.04100000000000001,
          "xanchor": "center",
          "xref": "paper",
          "y": 0.6433333333333333,
          "yanchor": "bottom",
          "yref": "paper"
         },
         {
          "font": {},
          "showarrow": false,
          "text": "facet_col=11",
          "x": 0.14300000000000004,
          "xanchor": "center",
          "xref": "paper",
          "y": 0.6433333333333333,
          "yanchor": "bottom",
          "yref": "paper"
         },
         {
          "font": {},
          "showarrow": false,
          "text": "facet_col=12",
          "x": 0.24500000000000005,
          "xanchor": "center",
          "xref": "paper",
          "y": 0.6433333333333333,
          "yanchor": "bottom",
          "yref": "paper"
         },
         {
          "font": {},
          "showarrow": false,
          "text": "facet_col=13",
          "x": 0.3470000000000001,
          "xanchor": "center",
          "xref": "paper",
          "y": 0.6433333333333333,
          "yanchor": "bottom",
          "yref": "paper"
         },
         {
          "font": {},
          "showarrow": false,
          "text": "facet_col=14",
          "x": 0.44900000000000007,
          "xanchor": "center",
          "xref": "paper",
          "y": 0.6433333333333333,
          "yanchor": "bottom",
          "yref": "paper"
         },
         {
          "font": {},
          "showarrow": false,
          "text": "facet_col=15",
          "x": 0.5510000000000002,
          "xanchor": "center",
          "xref": "paper",
          "y": 0.6433333333333333,
          "yanchor": "bottom",
          "yref": "paper"
         },
         {
          "font": {},
          "showarrow": false,
          "text": "facet_col=16",
          "x": 0.6530000000000001,
          "xanchor": "center",
          "xref": "paper",
          "y": 0.6433333333333333,
          "yanchor": "bottom",
          "yref": "paper"
         },
         {
          "font": {},
          "showarrow": false,
          "text": "facet_col=17",
          "x": 0.7550000000000001,
          "xanchor": "center",
          "xref": "paper",
          "y": 0.6433333333333333,
          "yanchor": "bottom",
          "yref": "paper"
         },
         {
          "font": {},
          "showarrow": false,
          "text": "facet_col=18",
          "x": 0.8570000000000002,
          "xanchor": "center",
          "xref": "paper",
          "y": 0.6433333333333333,
          "yanchor": "bottom",
          "yref": "paper"
         },
         {
          "font": {},
          "showarrow": false,
          "text": "facet_col=19",
          "x": 0.9590000000000002,
          "xanchor": "center",
          "xref": "paper",
          "y": 0.6433333333333333,
          "yanchor": "bottom",
          "yref": "paper"
         },
         {
          "font": {},
          "showarrow": false,
          "text": "facet_col=0",
          "x": 0.04100000000000001,
          "xanchor": "center",
          "xref": "paper",
          "y": 0.9999999999999999,
          "yanchor": "bottom",
          "yref": "paper"
         },
         {
          "font": {},
          "showarrow": false,
          "text": "facet_col=1",
          "x": 0.14300000000000004,
          "xanchor": "center",
          "xref": "paper",
          "y": 0.9999999999999999,
          "yanchor": "bottom",
          "yref": "paper"
         },
         {
          "font": {},
          "showarrow": false,
          "text": "facet_col=2",
          "x": 0.24500000000000005,
          "xanchor": "center",
          "xref": "paper",
          "y": 0.9999999999999999,
          "yanchor": "bottom",
          "yref": "paper"
         },
         {
          "font": {},
          "showarrow": false,
          "text": "facet_col=3",
          "x": 0.3470000000000001,
          "xanchor": "center",
          "xref": "paper",
          "y": 0.9999999999999999,
          "yanchor": "bottom",
          "yref": "paper"
         },
         {
          "font": {},
          "showarrow": false,
          "text": "facet_col=4",
          "x": 0.44900000000000007,
          "xanchor": "center",
          "xref": "paper",
          "y": 0.9999999999999999,
          "yanchor": "bottom",
          "yref": "paper"
         },
         {
          "font": {},
          "showarrow": false,
          "text": "facet_col=5",
          "x": 0.5510000000000002,
          "xanchor": "center",
          "xref": "paper",
          "y": 0.9999999999999999,
          "yanchor": "bottom",
          "yref": "paper"
         },
         {
          "font": {},
          "showarrow": false,
          "text": "facet_col=6",
          "x": 0.6530000000000001,
          "xanchor": "center",
          "xref": "paper",
          "y": 0.9999999999999999,
          "yanchor": "bottom",
          "yref": "paper"
         },
         {
          "font": {},
          "showarrow": false,
          "text": "facet_col=7",
          "x": 0.7550000000000001,
          "xanchor": "center",
          "xref": "paper",
          "y": 0.9999999999999999,
          "yanchor": "bottom",
          "yref": "paper"
         },
         {
          "font": {},
          "showarrow": false,
          "text": "facet_col=8",
          "x": 0.8570000000000002,
          "xanchor": "center",
          "xref": "paper",
          "y": 0.9999999999999999,
          "yanchor": "bottom",
          "yref": "paper"
         },
         {
          "font": {},
          "showarrow": false,
          "text": "facet_col=9",
          "x": 0.9590000000000002,
          "xanchor": "center",
          "xref": "paper",
          "y": 0.9999999999999999,
          "yanchor": "bottom",
          "yref": "paper"
         }
        ],
        "template": {
         "data": {
          "bar": [
           {
            "error_x": {
             "color": "#2a3f5f"
            },
            "error_y": {
             "color": "#2a3f5f"
            },
            "marker": {
             "line": {
              "color": "#E5ECF6",
              "width": 0.5
             },
             "pattern": {
              "fillmode": "overlay",
              "size": 10,
              "solidity": 0.2
             }
            },
            "type": "bar"
           }
          ],
          "barpolar": [
           {
            "marker": {
             "line": {
              "color": "#E5ECF6",
              "width": 0.5
             },
             "pattern": {
              "fillmode": "overlay",
              "size": 10,
              "solidity": 0.2
             }
            },
            "type": "barpolar"
           }
          ],
          "carpet": [
           {
            "aaxis": {
             "endlinecolor": "#2a3f5f",
             "gridcolor": "white",
             "linecolor": "white",
             "minorgridcolor": "white",
             "startlinecolor": "#2a3f5f"
            },
            "baxis": {
             "endlinecolor": "#2a3f5f",
             "gridcolor": "white",
             "linecolor": "white",
             "minorgridcolor": "white",
             "startlinecolor": "#2a3f5f"
            },
            "type": "carpet"
           }
          ],
          "choropleth": [
           {
            "colorbar": {
             "outlinewidth": 0,
             "ticks": ""
            },
            "type": "choropleth"
           }
          ],
          "contour": [
           {
            "colorbar": {
             "outlinewidth": 0,
             "ticks": ""
            },
            "colorscale": [
             [
              0,
              "#0d0887"
             ],
             [
              0.1111111111111111,
              "#46039f"
             ],
             [
              0.2222222222222222,
              "#7201a8"
             ],
             [
              0.3333333333333333,
              "#9c179e"
             ],
             [
              0.4444444444444444,
              "#bd3786"
             ],
             [
              0.5555555555555556,
              "#d8576b"
             ],
             [
              0.6666666666666666,
              "#ed7953"
             ],
             [
              0.7777777777777778,
              "#fb9f3a"
             ],
             [
              0.8888888888888888,
              "#fdca26"
             ],
             [
              1,
              "#f0f921"
             ]
            ],
            "type": "contour"
           }
          ],
          "contourcarpet": [
           {
            "colorbar": {
             "outlinewidth": 0,
             "ticks": ""
            },
            "type": "contourcarpet"
           }
          ],
          "heatmap": [
           {
            "colorbar": {
             "outlinewidth": 0,
             "ticks": ""
            },
            "colorscale": [
             [
              0,
              "#0d0887"
             ],
             [
              0.1111111111111111,
              "#46039f"
             ],
             [
              0.2222222222222222,
              "#7201a8"
             ],
             [
              0.3333333333333333,
              "#9c179e"
             ],
             [
              0.4444444444444444,
              "#bd3786"
             ],
             [
              0.5555555555555556,
              "#d8576b"
             ],
             [
              0.6666666666666666,
              "#ed7953"
             ],
             [
              0.7777777777777778,
              "#fb9f3a"
             ],
             [
              0.8888888888888888,
              "#fdca26"
             ],
             [
              1,
              "#f0f921"
             ]
            ],
            "type": "heatmap"
           }
          ],
          "heatmapgl": [
           {
            "colorbar": {
             "outlinewidth": 0,
             "ticks": ""
            },
            "colorscale": [
             [
              0,
              "#0d0887"
             ],
             [
              0.1111111111111111,
              "#46039f"
             ],
             [
              0.2222222222222222,
              "#7201a8"
             ],
             [
              0.3333333333333333,
              "#9c179e"
             ],
             [
              0.4444444444444444,
              "#bd3786"
             ],
             [
              0.5555555555555556,
              "#d8576b"
             ],
             [
              0.6666666666666666,
              "#ed7953"
             ],
             [
              0.7777777777777778,
              "#fb9f3a"
             ],
             [
              0.8888888888888888,
              "#fdca26"
             ],
             [
              1,
              "#f0f921"
             ]
            ],
            "type": "heatmapgl"
           }
          ],
          "histogram": [
           {
            "marker": {
             "pattern": {
              "fillmode": "overlay",
              "size": 10,
              "solidity": 0.2
             }
            },
            "type": "histogram"
           }
          ],
          "histogram2d": [
           {
            "colorbar": {
             "outlinewidth": 0,
             "ticks": ""
            },
            "colorscale": [
             [
              0,
              "#0d0887"
             ],
             [
              0.1111111111111111,
              "#46039f"
             ],
             [
              0.2222222222222222,
              "#7201a8"
             ],
             [
              0.3333333333333333,
              "#9c179e"
             ],
             [
              0.4444444444444444,
              "#bd3786"
             ],
             [
              0.5555555555555556,
              "#d8576b"
             ],
             [
              0.6666666666666666,
              "#ed7953"
             ],
             [
              0.7777777777777778,
              "#fb9f3a"
             ],
             [
              0.8888888888888888,
              "#fdca26"
             ],
             [
              1,
              "#f0f921"
             ]
            ],
            "type": "histogram2d"
           }
          ],
          "histogram2dcontour": [
           {
            "colorbar": {
             "outlinewidth": 0,
             "ticks": ""
            },
            "colorscale": [
             [
              0,
              "#0d0887"
             ],
             [
              0.1111111111111111,
              "#46039f"
             ],
             [
              0.2222222222222222,
              "#7201a8"
             ],
             [
              0.3333333333333333,
              "#9c179e"
             ],
             [
              0.4444444444444444,
              "#bd3786"
             ],
             [
              0.5555555555555556,
              "#d8576b"
             ],
             [
              0.6666666666666666,
              "#ed7953"
             ],
             [
              0.7777777777777778,
              "#fb9f3a"
             ],
             [
              0.8888888888888888,
              "#fdca26"
             ],
             [
              1,
              "#f0f921"
             ]
            ],
            "type": "histogram2dcontour"
           }
          ],
          "mesh3d": [
           {
            "colorbar": {
             "outlinewidth": 0,
             "ticks": ""
            },
            "type": "mesh3d"
           }
          ],
          "parcoords": [
           {
            "line": {
             "colorbar": {
              "outlinewidth": 0,
              "ticks": ""
             }
            },
            "type": "parcoords"
           }
          ],
          "pie": [
           {
            "automargin": true,
            "type": "pie"
           }
          ],
          "scatter": [
           {
            "fillpattern": {
             "fillmode": "overlay",
             "size": 10,
             "solidity": 0.2
            },
            "type": "scatter"
           }
          ],
          "scatter3d": [
           {
            "line": {
             "colorbar": {
              "outlinewidth": 0,
              "ticks": ""
             }
            },
            "marker": {
             "colorbar": {
              "outlinewidth": 0,
              "ticks": ""
             }
            },
            "type": "scatter3d"
           }
          ],
          "scattercarpet": [
           {
            "marker": {
             "colorbar": {
              "outlinewidth": 0,
              "ticks": ""
             }
            },
            "type": "scattercarpet"
           }
          ],
          "scattergeo": [
           {
            "marker": {
             "colorbar": {
              "outlinewidth": 0,
              "ticks": ""
             }
            },
            "type": "scattergeo"
           }
          ],
          "scattergl": [
           {
            "marker": {
             "colorbar": {
              "outlinewidth": 0,
              "ticks": ""
             }
            },
            "type": "scattergl"
           }
          ],
          "scattermapbox": [
           {
            "marker": {
             "colorbar": {
              "outlinewidth": 0,
              "ticks": ""
             }
            },
            "type": "scattermapbox"
           }
          ],
          "scatterpolar": [
           {
            "marker": {
             "colorbar": {
              "outlinewidth": 0,
              "ticks": ""
             }
            },
            "type": "scatterpolar"
           }
          ],
          "scatterpolargl": [
           {
            "marker": {
             "colorbar": {
              "outlinewidth": 0,
              "ticks": ""
             }
            },
            "type": "scatterpolargl"
           }
          ],
          "scatterternary": [
           {
            "marker": {
             "colorbar": {
              "outlinewidth": 0,
              "ticks": ""
             }
            },
            "type": "scatterternary"
           }
          ],
          "surface": [
           {
            "colorbar": {
             "outlinewidth": 0,
             "ticks": ""
            },
            "colorscale": [
             [
              0,
              "#0d0887"
             ],
             [
              0.1111111111111111,
              "#46039f"
             ],
             [
              0.2222222222222222,
              "#7201a8"
             ],
             [
              0.3333333333333333,
              "#9c179e"
             ],
             [
              0.4444444444444444,
              "#bd3786"
             ],
             [
              0.5555555555555556,
              "#d8576b"
             ],
             [
              0.6666666666666666,
              "#ed7953"
             ],
             [
              0.7777777777777778,
              "#fb9f3a"
             ],
             [
              0.8888888888888888,
              "#fdca26"
             ],
             [
              1,
              "#f0f921"
             ]
            ],
            "type": "surface"
           }
          ],
          "table": [
           {
            "cells": {
             "fill": {
              "color": "#EBF0F8"
             },
             "line": {
              "color": "white"
             }
            },
            "header": {
             "fill": {
              "color": "#C8D4E3"
             },
             "line": {
              "color": "white"
             }
            },
            "type": "table"
           }
          ]
         },
         "layout": {
          "annotationdefaults": {
           "arrowcolor": "#2a3f5f",
           "arrowhead": 0,
           "arrowwidth": 1
          },
          "autotypenumbers": "strict",
          "coloraxis": {
           "colorbar": {
            "outlinewidth": 0,
            "ticks": ""
           }
          },
          "colorscale": {
           "diverging": [
            [
             0,
             "#8e0152"
            ],
            [
             0.1,
             "#c51b7d"
            ],
            [
             0.2,
             "#de77ae"
            ],
            [
             0.3,
             "#f1b6da"
            ],
            [
             0.4,
             "#fde0ef"
            ],
            [
             0.5,
             "#f7f7f7"
            ],
            [
             0.6,
             "#e6f5d0"
            ],
            [
             0.7,
             "#b8e186"
            ],
            [
             0.8,
             "#7fbc41"
            ],
            [
             0.9,
             "#4d9221"
            ],
            [
             1,
             "#276419"
            ]
           ],
           "sequential": [
            [
             0,
             "#0d0887"
            ],
            [
             0.1111111111111111,
             "#46039f"
            ],
            [
             0.2222222222222222,
             "#7201a8"
            ],
            [
             0.3333333333333333,
             "#9c179e"
            ],
            [
             0.4444444444444444,
             "#bd3786"
            ],
            [
             0.5555555555555556,
             "#d8576b"
            ],
            [
             0.6666666666666666,
             "#ed7953"
            ],
            [
             0.7777777777777778,
             "#fb9f3a"
            ],
            [
             0.8888888888888888,
             "#fdca26"
            ],
            [
             1,
             "#f0f921"
            ]
           ],
           "sequentialminus": [
            [
             0,
             "#0d0887"
            ],
            [
             0.1111111111111111,
             "#46039f"
            ],
            [
             0.2222222222222222,
             "#7201a8"
            ],
            [
             0.3333333333333333,
             "#9c179e"
            ],
            [
             0.4444444444444444,
             "#bd3786"
            ],
            [
             0.5555555555555556,
             "#d8576b"
            ],
            [
             0.6666666666666666,
             "#ed7953"
            ],
            [
             0.7777777777777778,
             "#fb9f3a"
            ],
            [
             0.8888888888888888,
             "#fdca26"
            ],
            [
             1,
             "#f0f921"
            ]
           ]
          },
          "colorway": [
           "#636efa",
           "#EF553B",
           "#00cc96",
           "#ab63fa",
           "#FFA15A",
           "#19d3f3",
           "#FF6692",
           "#B6E880",
           "#FF97FF",
           "#FECB52"
          ],
          "font": {
           "color": "#2a3f5f"
          },
          "geo": {
           "bgcolor": "white",
           "lakecolor": "white",
           "landcolor": "#E5ECF6",
           "showlakes": true,
           "showland": true,
           "subunitcolor": "white"
          },
          "hoverlabel": {
           "align": "left"
          },
          "hovermode": "closest",
          "mapbox": {
           "style": "light"
          },
          "paper_bgcolor": "white",
          "plot_bgcolor": "#E5ECF6",
          "polar": {
           "angularaxis": {
            "gridcolor": "white",
            "linecolor": "white",
            "ticks": ""
           },
           "bgcolor": "#E5ECF6",
           "radialaxis": {
            "gridcolor": "white",
            "linecolor": "white",
            "ticks": ""
           }
          },
          "scene": {
           "xaxis": {
            "backgroundcolor": "#E5ECF6",
            "gridcolor": "white",
            "gridwidth": 2,
            "linecolor": "white",
            "showbackground": true,
            "ticks": "",
            "zerolinecolor": "white"
           },
           "yaxis": {
            "backgroundcolor": "#E5ECF6",
            "gridcolor": "white",
            "gridwidth": 2,
            "linecolor": "white",
            "showbackground": true,
            "ticks": "",
            "zerolinecolor": "white"
           },
           "zaxis": {
            "backgroundcolor": "#E5ECF6",
            "gridcolor": "white",
            "gridwidth": 2,
            "linecolor": "white",
            "showbackground": true,
            "ticks": "",
            "zerolinecolor": "white"
           }
          },
          "shapedefaults": {
           "line": {
            "color": "#2a3f5f"
           }
          },
          "ternary": {
           "aaxis": {
            "gridcolor": "white",
            "linecolor": "white",
            "ticks": ""
           },
           "baxis": {
            "gridcolor": "white",
            "linecolor": "white",
            "ticks": ""
           },
           "bgcolor": "#E5ECF6",
           "caxis": {
            "gridcolor": "white",
            "linecolor": "white",
            "ticks": ""
           }
          },
          "title": {
           "x": 0.05
          },
          "xaxis": {
           "automargin": true,
           "gridcolor": "white",
           "linecolor": "white",
           "ticks": "",
           "title": {
            "standoff": 15
           },
           "zerolinecolor": "white",
           "zerolinewidth": 2
          },
          "yaxis": {
           "automargin": true,
           "gridcolor": "white",
           "linecolor": "white",
           "ticks": "",
           "title": {
            "standoff": 15
           },
           "zerolinecolor": "white",
           "zerolinewidth": 2
          }
         }
        },
        "title": {
         "text": "Original"
        },
        "xaxis": {
         "anchor": "y",
         "domain": [
          0,
          0.08200000000000002
         ]
        },
        "xaxis10": {
         "anchor": "y10",
         "domain": [
          0.9180000000000001,
          1
         ],
         "matches": "x"
        },
        "xaxis11": {
         "anchor": "y11",
         "domain": [
          0,
          0.08200000000000002
         ],
         "matches": "x",
         "showticklabels": false
        },
        "xaxis12": {
         "anchor": "y12",
         "domain": [
          0.10200000000000002,
          0.18400000000000005
         ],
         "matches": "x",
         "showticklabels": false
        },
        "xaxis13": {
         "anchor": "y13",
         "domain": [
          0.20400000000000004,
          0.28600000000000003
         ],
         "matches": "x",
         "showticklabels": false
        },
        "xaxis14": {
         "anchor": "y14",
         "domain": [
          0.30600000000000005,
          0.38800000000000007
         ],
         "matches": "x",
         "showticklabels": false
        },
        "xaxis15": {
         "anchor": "y15",
         "domain": [
          0.4080000000000001,
          0.4900000000000001
         ],
         "matches": "x",
         "showticklabels": false
        },
        "xaxis16": {
         "anchor": "y16",
         "domain": [
          0.5100000000000001,
          0.5920000000000001
         ],
         "matches": "x",
         "showticklabels": false
        },
        "xaxis17": {
         "anchor": "y17",
         "domain": [
          0.6120000000000001,
          0.6940000000000002
         ],
         "matches": "x",
         "showticklabels": false
        },
        "xaxis18": {
         "anchor": "y18",
         "domain": [
          0.7140000000000001,
          0.796
         ],
         "matches": "x",
         "showticklabels": false
        },
        "xaxis19": {
         "anchor": "y19",
         "domain": [
          0.8160000000000002,
          0.8980000000000001
         ],
         "matches": "x",
         "showticklabels": false
        },
        "xaxis2": {
         "anchor": "y2",
         "domain": [
          0.10200000000000002,
          0.18400000000000005
         ],
         "matches": "x"
        },
        "xaxis20": {
         "anchor": "y20",
         "domain": [
          0.9180000000000001,
          1
         ],
         "matches": "x",
         "showticklabels": false
        },
        "xaxis21": {
         "anchor": "y21",
         "domain": [
          0,
          0.08200000000000002
         ],
         "matches": "x",
         "showticklabels": false
        },
        "xaxis22": {
         "anchor": "y22",
         "domain": [
          0.10200000000000002,
          0.18400000000000005
         ],
         "matches": "x",
         "showticklabels": false
        },
        "xaxis23": {
         "anchor": "y23",
         "domain": [
          0.20400000000000004,
          0.28600000000000003
         ],
         "matches": "x",
         "showticklabels": false
        },
        "xaxis24": {
         "anchor": "y24",
         "domain": [
          0.30600000000000005,
          0.38800000000000007
         ],
         "matches": "x",
         "showticklabels": false
        },
        "xaxis25": {
         "anchor": "y25",
         "domain": [
          0.4080000000000001,
          0.4900000000000001
         ],
         "matches": "x",
         "showticklabels": false
        },
        "xaxis26": {
         "anchor": "y26",
         "domain": [
          0.5100000000000001,
          0.5920000000000001
         ],
         "matches": "x",
         "showticklabels": false
        },
        "xaxis27": {
         "anchor": "y27",
         "domain": [
          0.6120000000000001,
          0.6940000000000002
         ],
         "matches": "x",
         "showticklabels": false
        },
        "xaxis28": {
         "anchor": "y28",
         "domain": [
          0.7140000000000001,
          0.796
         ],
         "matches": "x",
         "showticklabels": false
        },
        "xaxis29": {
         "anchor": "y29",
         "domain": [
          0.8160000000000002,
          0.8980000000000001
         ],
         "matches": "x",
         "showticklabels": false
        },
        "xaxis3": {
         "anchor": "y3",
         "domain": [
          0.20400000000000004,
          0.28600000000000003
         ],
         "matches": "x"
        },
        "xaxis30": {
         "anchor": "y30",
         "domain": [
          0.9180000000000001,
          1
         ],
         "matches": "x",
         "showticklabels": false
        },
        "xaxis4": {
         "anchor": "y4",
         "domain": [
          0.30600000000000005,
          0.38800000000000007
         ],
         "matches": "x"
        },
        "xaxis5": {
         "anchor": "y5",
         "domain": [
          0.4080000000000001,
          0.4900000000000001
         ],
         "matches": "x"
        },
        "xaxis6": {
         "anchor": "y6",
         "domain": [
          0.5100000000000001,
          0.5920000000000001
         ],
         "matches": "x"
        },
        "xaxis7": {
         "anchor": "y7",
         "domain": [
          0.6120000000000001,
          0.6940000000000002
         ],
         "matches": "x"
        },
        "xaxis8": {
         "anchor": "y8",
         "domain": [
          0.7140000000000001,
          0.796
         ],
         "matches": "x"
        },
        "xaxis9": {
         "anchor": "y9",
         "domain": [
          0.8160000000000002,
          0.8980000000000001
         ],
         "matches": "x"
        },
        "yaxis": {
         "anchor": "x",
         "domain": [
          0,
          0.2866666666666666
         ]
        },
        "yaxis10": {
         "anchor": "x10",
         "domain": [
          0,
          0.2866666666666666
         ],
         "matches": "y",
         "showticklabels": false
        },
        "yaxis11": {
         "anchor": "x11",
         "domain": [
          0.35666666666666663,
          0.6433333333333333
         ],
         "matches": "y"
        },
        "yaxis12": {
         "anchor": "x12",
         "domain": [
          0.35666666666666663,
          0.6433333333333333
         ],
         "matches": "y",
         "showticklabels": false
        },
        "yaxis13": {
         "anchor": "x13",
         "domain": [
          0.35666666666666663,
          0.6433333333333333
         ],
         "matches": "y",
         "showticklabels": false
        },
        "yaxis14": {
         "anchor": "x14",
         "domain": [
          0.35666666666666663,
          0.6433333333333333
         ],
         "matches": "y",
         "showticklabels": false
        },
        "yaxis15": {
         "anchor": "x15",
         "domain": [
          0.35666666666666663,
          0.6433333333333333
         ],
         "matches": "y",
         "showticklabels": false
        },
        "yaxis16": {
         "anchor": "x16",
         "domain": [
          0.35666666666666663,
          0.6433333333333333
         ],
         "matches": "y",
         "showticklabels": false
        },
        "yaxis17": {
         "anchor": "x17",
         "domain": [
          0.35666666666666663,
          0.6433333333333333
         ],
         "matches": "y",
         "showticklabels": false
        },
        "yaxis18": {
         "anchor": "x18",
         "domain": [
          0.35666666666666663,
          0.6433333333333333
         ],
         "matches": "y",
         "showticklabels": false
        },
        "yaxis19": {
         "anchor": "x19",
         "domain": [
          0.35666666666666663,
          0.6433333333333333
         ],
         "matches": "y",
         "showticklabels": false
        },
        "yaxis2": {
         "anchor": "x2",
         "domain": [
          0,
          0.2866666666666666
         ],
         "matches": "y",
         "showticklabels": false
        },
        "yaxis20": {
         "anchor": "x20",
         "domain": [
          0.35666666666666663,
          0.6433333333333333
         ],
         "matches": "y",
         "showticklabels": false
        },
        "yaxis21": {
         "anchor": "x21",
         "domain": [
          0.7133333333333333,
          0.9999999999999999
         ],
         "matches": "y"
        },
        "yaxis22": {
         "anchor": "x22",
         "domain": [
          0.7133333333333333,
          0.9999999999999999
         ],
         "matches": "y",
         "showticklabels": false
        },
        "yaxis23": {
         "anchor": "x23",
         "domain": [
          0.7133333333333333,
          0.9999999999999999
         ],
         "matches": "y",
         "showticklabels": false
        },
        "yaxis24": {
         "anchor": "x24",
         "domain": [
          0.7133333333333333,
          0.9999999999999999
         ],
         "matches": "y",
         "showticklabels": false
        },
        "yaxis25": {
         "anchor": "x25",
         "domain": [
          0.7133333333333333,
          0.9999999999999999
         ],
         "matches": "y",
         "showticklabels": false
        },
        "yaxis26": {
         "anchor": "x26",
         "domain": [
          0.7133333333333333,
          0.9999999999999999
         ],
         "matches": "y",
         "showticklabels": false
        },
        "yaxis27": {
         "anchor": "x27",
         "domain": [
          0.7133333333333333,
          0.9999999999999999
         ],
         "matches": "y",
         "showticklabels": false
        },
        "yaxis28": {
         "anchor": "x28",
         "domain": [
          0.7133333333333333,
          0.9999999999999999
         ],
         "matches": "y",
         "showticklabels": false
        },
        "yaxis29": {
         "anchor": "x29",
         "domain": [
          0.7133333333333333,
          0.9999999999999999
         ],
         "matches": "y",
         "showticklabels": false
        },
        "yaxis3": {
         "anchor": "x3",
         "domain": [
          0,
          0.2866666666666666
         ],
         "matches": "y",
         "showticklabels": false
        },
        "yaxis30": {
         "anchor": "x30",
         "domain": [
          0.7133333333333333,
          0.9999999999999999
         ],
         "matches": "y",
         "showticklabels": false
        },
        "yaxis4": {
         "anchor": "x4",
         "domain": [
          0,
          0.2866666666666666
         ],
         "matches": "y",
         "showticklabels": false
        },
        "yaxis5": {
         "anchor": "x5",
         "domain": [
          0,
          0.2866666666666666
         ],
         "matches": "y",
         "showticklabels": false
        },
        "yaxis6": {
         "anchor": "x6",
         "domain": [
          0,
          0.2866666666666666
         ],
         "matches": "y",
         "showticklabels": false
        },
        "yaxis7": {
         "anchor": "x7",
         "domain": [
          0,
          0.2866666666666666
         ],
         "matches": "y",
         "showticklabels": false
        },
        "yaxis8": {
         "anchor": "x8",
         "domain": [
          0,
          0.2866666666666666
         ],
         "matches": "y",
         "showticklabels": false
        },
        "yaxis9": {
         "anchor": "x9",
         "domain": [
          0,
          0.2866666666666666
         ],
         "matches": "y",
         "showticklabels": false
        }
       }
      }
     },
     "metadata": {},
     "output_type": "display_data"
    }
   ],
   "source": [
    "col_wrap = 10\n",
    "show_images(X_train, \"Original\", col_wrap=col_wrap)"
   ]
  },
  {
   "cell_type": "code",
   "execution_count": 7,
   "metadata": {},
   "outputs": [],
   "source": [
    "def apply_filters(images, side_length: int, sigma: int = None, size: int = None):\n",
    "    rows = []\n",
    "    for image in images:\n",
    "        image = image.reshape(side_length, side_length)\n",
    "        if size:\n",
    "            image = median_filter(image, size=size)\n",
    "        if sigma:\n",
    "            image = gaussian_filter(image, sigma=sigma)\n",
    "        rows.append(image.flatten())\n",
    "\n",
    "    return pd.DataFrame(rows)"
   ]
  },
  {
   "cell_type": "code",
   "execution_count": 8,
   "metadata": {},
   "outputs": [],
   "source": [
    "class MyPCA:\n",
    "    def __init__(self, n_components: int = None) -> None:\n",
    "        self._components = n_components\n",
    "\n",
    "    def normalize_x(self, X):\n",
    "        mean = np.mean(X, axis=0)\n",
    "        std_dev = np.std(X, axis=0)\n",
    "\n",
    "        X = (X - mean) / std_dev\n",
    "\n",
    "        return X, mean, std_dev\n",
    "\n",
    "    def fit_transform(self, X):\n",
    "        if self._components is None:\n",
    "            self._components = X.shape[1]\n",
    "\n",
    "        # 1. Normalize X\n",
    "        X, self._X_mean, self._X_std_dev = self.normalize_x(X)\n",
    "\n",
    "        # 2. Calculate covariance matrix\n",
    "        cov_matrix = np.cov(X, rowvar=False)\n",
    "\n",
    "        # 3. Calculate eigen-vectors and eigen-values\n",
    "        self._eig_vals, self._eig_vecs = np.linalg.eig(cov_matrix)\n",
    "\n",
    "        # 4. Deduct PCA\n",
    "        indices = np.argsort(self._eig_vals)[::-1]\n",
    "\n",
    "        sort_eig_vecs = self._eig_vecs[:, indices]\n",
    "        self._sort_eig_vals = self._eig_vals[indices]\n",
    "\n",
    "        self._sel_eig_vecs = sort_eig_vecs[:, :self._components]\n",
    "\n",
    "        return np.dot(X, self._sel_eig_vecs)\n",
    "\n",
    "    def explained_variance_ratio_(self):\n",
    "        return np.real(self._sort_eig_vals / np.sum(self._sort_eig_vals))[:self._components]\n",
    "\n",
    "    def inverse_transform(self, X_pca):\n",
    "        dot_product = np.dot(X_pca, self._sel_eig_vecs.T)\n",
    "        return np.real((dot_product * self._X_std_dev) + self._X_mean)  # avoid complex issues"
   ]
  },
  {
   "cell_type": "code",
   "execution_count": 9,
   "metadata": {},
   "outputs": [],
   "source": [
    "def denoise(images: pd.DataFrame,\n",
    "            pca_components: float = None,\n",
    "            gaussian_strength: int = None,\n",
    "            median_strength: int = None):\n",
    "\n",
    "    side_length = int(np.sqrt(images.shape[1]))\n",
    "\n",
    "    my_pca = MyPCA(n_components=pca_components)\n",
    "    images = my_pca.fit_transform(images.values)\n",
    "    images = my_pca.inverse_transform(images)\n",
    "\n",
    "    images = apply_filters(images,\n",
    "                           side_length,\n",
    "                           sigma=gaussian_strength,\n",
    "                           size=median_strength)\n",
    "\n",
    "    return pd.DataFrame(images), my_pca"
   ]
  },
  {
   "cell_type": "code",
   "execution_count": 10,
   "metadata": {},
   "outputs": [
    {
     "data": {
      "application/vnd.plotly.v1+json": {
       "config": {
        "plotlyServerURL": "https://plot.ly"
       },
       "data": [
        {
         "hovertemplate": "x: %{x}<br>y: %{y}<extra></extra>",
         "name": "0",
         "source": "data:image/png;base64,iVBORw0KGgoAAAANSUhEUgAAABAAAAAQCAAAAAA6mKC9AAABCElEQVR4XgXBX0+CQAAAcO44MIEIEBmllgu3ttZLL7X1cfsm9dpDW/XgRqWGgvFPoPOOPyf0+4FlkT2+dP1B4oLrvSAh9GE9K2de0UqGjjFRCyisGvK7SsO8ZzaWIkjognKBw8dQUzA5ohJFRRlv48DmoJZZSKYUiUvfCi+rMK2zku+r52hL8wy4xkP6StitwiHEumjBg2Pek05jncECmaGuVBaIGZCH82pG4Bede2SCU11dJKxNe/Dq+2DmnhiAk1LQ7g0Ia1kx7rh1lzV6ae/lT7TBvpoW2s3O78Bf7UzR2rfITnOiGBs/zeSJwfecbcyxC9sBZ9rDksEIH8QqHCWz8Ygjb6X9DzRKiXyh1UBRAAAAAElFTkSuQmCC",
         "type": "image",
         "xaxis": "x21",
         "yaxis": "y21"
        },
        {
         "hovertemplate": "x: %{x}<br>y: %{y}<extra></extra>",
         "name": "1",
         "source": "data:image/png;base64,iVBORw0KGgoAAAANSUhEUgAAABAAAAAQCAAAAAA6mKC9AAAA8klEQVR4XgXBS06EMAAA0P5bykAjqEwmGePGnZfxRHM59y5cmqiJUXD+hVo6LS2+BzcvD5Pm+5avy+emPyXyBpzdAloPhzbb7aFHZ/VpMR0R2IEIGFyj+Z09rqilknc0w1clyitR3hTgEqng2vABPnnAHcvn1xxrHFhF6mRE5GcdNMExpRHJaIwLRwd9pMA1kPTy3uYxJHWmw8q1Pcq81+UXu6uWVhE4KhLsOLnCfPTEf0dpOiLRxEblC/Ob0Z2tFAmHAp3M4EQhxWwvIwHXOP3NU31a7Y9ucYuQr5YkM+KHLxomiy4RbLciOnCEISktaPMPBTt/4jYsHFMAAAAASUVORK5CYII=",
         "type": "image",
         "xaxis": "x22",
         "yaxis": "y22"
        },
        {
         "hovertemplate": "x: %{x}<br>y: %{y}<extra></extra>",
         "name": "2",
         "source": "data:image/png;base64,iVBORw0KGgoAAAANSUhEUgAAABAAAAAQCAAAAAA6mKC9AAAA40lEQVR4XgXB2XKDIBQAULxcFASXsZk0k7f+/1f0VzqZLmmjUREQWXpO8d49WZyUVdEGmtoC2XGspAyF/2Qqko2jaWux5diRwWIuygbO7qFtlPtirmxC4nHxB7S3g/eFNufLjCihjoDfg1RfA7mlV6Bpre7zSzPFlAXWBz5nZXtDEfXZFnJ0oEPIu6qMi5EACI20odlLyqewG1W2AuwzjMJVSbSh4fNPB2yQ5S/mZY31285Zjb0KREjf+Tkf3DcNWqdFe4d0usitTPABS5jJuNT95mD/I06jY6dVXC1HNJHSR/gHY2N+yYVSxEAAAAAASUVORK5CYII=",
         "type": "image",
         "xaxis": "x23",
         "yaxis": "y23"
        },
        {
         "hovertemplate": "x: %{x}<br>y: %{y}<extra></extra>",
         "name": "3",
         "source": "data:image/png;base64,iVBORw0KGgoAAAANSUhEUgAAABAAAAAQCAAAAAA6mKC9AAAA1klEQVR4XgXB0VKDMBAF0M3mLpAUKDKOjv//Wz7r6NRiaYMkJFnPMe+itl5wapZtiMec+eNKm7aIa2zJ9RV8pvtygbd7QX802xXDlp9iuD27UUo0XBELRNP82ya9z5mYMXgd7beMTXC0FwFdGbt3WAwbdyPigPOL/ZLOoxmLbzPI5nC8mSpJwwpNWLxQPZRsIjXdJni9ryr5XLaCE6c8sR9me0xyU3HdgzoLnn7Y1Nhn5TgY0+AC48bAD7WnTUrqsJverrUXMp88wQQM2qwO6S93cJxK/AeyXG9iEkOhzAAAAABJRU5ErkJggg==",
         "type": "image",
         "xaxis": "x24",
         "yaxis": "y24"
        },
        {
         "hovertemplate": "x: %{x}<br>y: %{y}<extra></extra>",
         "name": "4",
         "source": "data:image/png;base64,iVBORw0KGgoAAAANSUhEUgAAABAAAAAQCAAAAAA6mKC9AAAA5ElEQVR4XgXBy1LDIBQA0HC5QB4Q06gLF904rvQ7/Uxn1IXj1KZpE8Ib4jnkvf54M+vrNq3jsGUVEE7N2fAZYFjKfYgUl6abek5TvdfdSZGC0jnRlouwcCSmAg0zBatz2zwFuxCgI/Shavtkfou8AtMZcXW5/ayPxVRhg0PN4M/RnUidU1CE2tkDkNlY9NF58mMSs6i8GNOlPDDYFPUY0DX7dyzPEZVVzOiI1smMTcjmMUIKGfH2cvOis45mWQQMDMrXnORSddlmu+5uwbgdaOSVqL3lV6bvwHPCN1acJNN59Yz8Aw3oh7CEyl1TAAAAAElFTkSuQmCC",
         "type": "image",
         "xaxis": "x25",
         "yaxis": "y25"
        },
        {
         "hovertemplate": "x: %{x}<br>y: %{y}<extra></extra>",
         "name": "5",
         "source": "data:image/png;base64,iVBORw0KGgoAAAANSUhEUgAAABAAAAAQCAAAAAA6mKC9AAAA4UlEQVR4XgXBy1LDIBQA0HC5QCDv1naj4zgu/P9/ceFKN93FZjIIoeER8BzySaDayT4E73kIrxv8WFr6SD2vBJIhRHz7TdvE0c/Qo0N/h9CQSzE36K+Vz/aQQKJsZP9hQsnLhSMgZ5ib9TaKvLd7ShkrC3CauNQJcq9pBsvOz+aL0m6CNtZdRGDFsXcOailsPojAew80QwjicTgitIQXambjENYHSpFJiyqjo63QjWm4rrhHaBekj6MkVbSCioL1Sk31Cf80xfqwiPa4slynNfHv8cy6iNMWTZepd8PTiC6kf9JXc4NXXFWaAAAAAElFTkSuQmCC",
         "type": "image",
         "xaxis": "x26",
         "yaxis": "y26"
        },
        {
         "hovertemplate": "x: %{x}<br>y: %{y}<extra></extra>",
         "name": "6",
         "source": "data:image/png;base64,iVBORw0KGgoAAAANSUhEUgAAABAAAAAQCAAAAAA6mKC9AAAA9klEQVR4XgXB0U6DMBQA0PZy2UqB1W2wSdiivPrmJ/m/PhiNb8aEaaILA+yAtZTCPIc+Hfadrm5KxbfNpuUWnzuXGH9wZjx3Fprt0GefwvV7MZ1itxcVB+Enj1ciXcrpmJIFwQKJuFfbetTLUsodAKbOqznzWMuPtisbgCm3+itujrKc+j/EE0SC32GuWz+rl2s6ZUA4UcOqCW7d+GKxeMHD9eFC3ua+VVevlgHDtHpvKaG/oR1oy1AAmnrGViOw84irDDwogmQeWOsch8SsFf+mUbIZlLlIEwnJcL/HmC07M8Yk5A0VvdIQLsrOBWXaHoefuef9A+/Hdug2LyPSAAAAAElFTkSuQmCC",
         "type": "image",
         "xaxis": "x27",
         "yaxis": "y27"
        },
        {
         "hovertemplate": "x: %{x}<br>y: %{y}<extra></extra>",
         "name": "7",
         "source": "data:image/png;base64,iVBORw0KGgoAAAANSUhEUgAAABAAAAAQCAAAAAA6mKC9AAAA1ElEQVR4XgXBSVLDMBAAwJnRaLVs7FQO8P8bz+ICrkDFiRUvWunGzzCo8mN3CzKoQzT+qmYhg7QQSKgwURt+z53B+aJ87c5EU6gffGxGSIfYXKMNm7sWvOVUXgQdE09+rrkY4BU5RM16Q567vK8sRSrlzkKoC2ySfGw2apZ8Sj7LuCgF+OcpbLQGCzSTxlowkfFsz+/UC3oUAJGy6Ml5y883PmpEn3vuiUanOnE4aA4vTUe+DdrL9VXVuwwIg2dWku/P6250iQ534F5BEG47zoyQxgb/sMxmbhau8jYAAAAASUVORK5CYII=",
         "type": "image",
         "xaxis": "x28",
         "yaxis": "y28"
        },
        {
         "hovertemplate": "x: %{x}<br>y: %{y}<extra></extra>",
         "name": "8",
         "source": "data:image/png;base64,iVBORw0KGgoAAAANSUhEUgAAABAAAAAQCAAAAAA6mKC9AAAA+klEQVR4XgXB2VLCMBQA0OTmpqUtJNAKgvCC4Az+q1/lD+iLPjiD4jYshSLd0iVNPYc+bOaP3fCJrEC9DyDsQGT/zLA7xMOmEfmahVCYD+/1Mwswu6QjtxzBHRdE+De8lWeVO2Ag8yiM9yGtm+FS1x6FDVfPa38id7rcUw4+3DJ3yo/bsuWxY5rEYP+o0pkq/lJEdI3loFbjuCoSNpqmg6reETzR+st1FyZymprMvBTFy++KVSet47C9IpaLwSTVO3YxoJmQBe+hPk9jxaQga19mW0Mh4hU3Vv5m3ZNDMQl6YFYdrb/tvn29aB2/SDCqZC5aq0lADgzj83/ujn1hUUfz0gAAAABJRU5ErkJggg==",
         "type": "image",
         "xaxis": "x29",
         "yaxis": "y29"
        },
        {
         "hovertemplate": "x: %{x}<br>y: %{y}<extra></extra>",
         "name": "9",
         "source": "data:image/png;base64,iVBORw0KGgoAAAANSUhEUgAAABAAAAAQCAAAAAA6mKC9AAAAxklEQVR4XgXBUW7DMAgAUAzYbpysUitNu/wuuI9Ja5SU2IDZe+kb/h5ClXdf5xmfb9y1GqnpyhJ0ews+JF7YWKWWmFicDzA0uyrOrFMTo0PBlL+gJLvWW0xetGYav4ShTb0nhClzzrZFhC+RCY9otZ8+cqYYgYIQqnynRAOTe6kY0QkJkoABlCszz/lTyhME8uLvkTAgt8Kh1Amv3Z3T9ool+rVsKHAn4CTBdWxlxxXABvNhH4VJzhl7s2zO1TueVFgzQbIB/5sSe6oc3PfLAAAAAElFTkSuQmCC",
         "type": "image",
         "xaxis": "x30",
         "yaxis": "y30"
        },
        {
         "hovertemplate": "x: %{x}<br>y: %{y}<extra></extra>",
         "name": "10",
         "source": "data:image/png;base64,iVBORw0KGgoAAAANSUhEUgAAABAAAAAQCAAAAAA6mKC9AAAAzklEQVR4XgXBW3aEIAwAUAiJiM7DOf3p/jfTpfSj06lzRJGQkN7rv+yd1nxL5YmPv06Kv8Edos2XOEiqcqAp/BjRdlKACq3Bpfv5E56Urikwg4DEqG9deuLaR2cJcRMg2HkkdWg0oXLXAotY43HwQrB6CCoda73PvceCwYz9ImDW193mjmLH5LilhBsSsOC06WHnR/Ej3rS/GBGWPZAUpVAqg2KZvqHObjAYzDwl3A/Gu0yaGc9zXB2+2lVbrOFib0LIAAje5z1kkOZ6jsM/PLeHNRtN7yIAAAAASUVORK5CYII=",
         "type": "image",
         "xaxis": "x11",
         "yaxis": "y11"
        },
        {
         "hovertemplate": "x: %{x}<br>y: %{y}<extra></extra>",
         "name": "11",
         "source": "data:image/png;base64,iVBORw0KGgoAAAANSUhEUgAAABAAAAAQCAAAAAA6mKC9AAABAElEQVR4XgXB606DMBgAUNp+sBVWGJExcImb05mY+Ao+po+kv43GxKjZ1Bgml6gr0MFKi+egG/QWX9xNvdVtM8kMhkDWASquDkVGDX59j2wYh636PYmMHq1XX9YOgCkpcb1veHzqJkb3BMVitwUe2uxxIglxfMyb4dQZnw26WSi9CCngnwp25sarjmhLifQBWXV1KTSxM890a1HBvMy9l72bM18kTqgBEDZtqxoelGWO1+A0OLC10+pt0LwrHVn9Hgsz4pKpB3zORb9xfZzWdVuhJVHfVJT0D7BCsxH1BTEg/xCLCQOWlJ1+1gM3PSYi70ro5z9BsbDFaxp0cbkc/QMxBXv6hrnEvQAAAABJRU5ErkJggg==",
         "type": "image",
         "xaxis": "x12",
         "yaxis": "y12"
        },
        {
         "hovertemplate": "x: %{x}<br>y: %{y}<extra></extra>",
         "name": "12",
         "source": "data:image/png;base64,iVBORw0KGgoAAAANSUhEUgAAABAAAAAQCAAAAAA6mKC9AAAA8klEQVR4XgXBy06DQBQAUO7lMp1hJtBKW0PiUuO/+xMuTPoDujIu1ETT1rY8BoYyD/AceJ6qhyEknUK/B2s9pX3x0+FWnD1wZztDH/eLiAFNM3ZpG9INLt6+aBOsH022Pgc+o1qnwQ2H+E6Zq5SQIK9w/HPx0RRFvBJOIpZeDXoZWt9GnBGDp6v0SmiaL4/6JEONPcsXMVJTu/abTxPCbjRsWc+5tp0vDY70KVXEp7StE0yy4dAhrrawz4U7exe/vlNGfDZRw3R/k5gyuPgWXmwtQLtyJj0EEVV0lJMzrboAFv7Efhn1gGiza5/3TVFEAv4BRG6CJSrhzdMAAAAASUVORK5CYII=",
         "type": "image",
         "xaxis": "x13",
         "yaxis": "y13"
        },
        {
         "hovertemplate": "x: %{x}<br>y: %{y}<extra></extra>",
         "name": "13",
         "source": "data:image/png;base64,iVBORw0KGgoAAAANSUhEUgAAABAAAAAQCAAAAAA6mKC9AAABCklEQVR4XgXBa0+CUBgAYDm8qFwOHAS1BhZpbbZoq62tL/2B/njrS19qrXvq1GHj4ElBOyCXnke4pWpVxNNTzi7M2BozoMGgXRN6YXhlQDshEkTxPMzUWqRSkhPyMUJ7UsltSTksedbQGQckkZa7XkmMzoaXi7cYw6e9SOxuBm7KV3rL0pDGbMJFvcz2x8rz7jsBYqYnBeTRVmPYjRwfOlxbVmYwDM+112KzaiO6wN7uhQRZqm1+ML5HpfikD+Q6PvZE2/wzagjyJp11l+uqPr8jR1RFk741q3qFIdg3fsboCOAhF6+FRDmQHrcNtlXAkdPfyQD3+qbQJEkqg7g8+5rKvhe8z8uO6Rj/rfx6vbBXlaMAAAAASUVORK5CYII=",
         "type": "image",
         "xaxis": "x14",
         "yaxis": "y14"
        },
        {
         "hovertemplate": "x: %{x}<br>y: %{y}<extra></extra>",
         "name": "14",
         "source": "data:image/png;base64,iVBORw0KGgoAAAANSUhEUgAAABAAAAAQCAAAAAA6mKC9AAAA70lEQVR4XgXB3U7CMBQA4J7TbmvXDkQHgSAXvoDv/x7emRijEXAb4uZG17Of1u+D1ypbQjMOAqfjqb/F+CVT90chHgqvZxBn8TAcQ1iH60/s+rtCarTf7H5P7+qQd7dWo0G23YDX626uGx0zuCF4ssTmpJcZmSyJoP5tQHgHTjaj/+gatEkqLhc/hTqKS/ZIoowUe6o6ZoIblbUciZ/IyyznOej1c3QQhngnubafBoIJkcOdOaiecxrLbFG/zBrCm1M0R5VoN6LoJo8lS0CKZEurAadsmeIpLFLJQrtRfSW0LXE/X1lzrltKVrsUl+oftVt+RSrw/iIAAAAASUVORK5CYII=",
         "type": "image",
         "xaxis": "x15",
         "yaxis": "y15"
        },
        {
         "hovertemplate": "x: %{x}<br>y: %{y}<extra></extra>",
         "name": "15",
         "source": "data:image/png;base64,iVBORw0KGgoAAAANSUhEUgAAABAAAAAQCAAAAAA6mKC9AAAA40lEQVR4XgXB2VKDMBQAUHK5WYCwFHSs0vGn/Hp98U1nGAKSlpAQQjyHfIwzKUZB8/GqHUoHQ4hpeM1WVYzu5jTDF70VHoVv8Dvd68hQJ7m9Y3CKU+FsYsHgw4opCj7xzDIGcNCyMrSv/2gToHQUNnMk3H4RJuCEiCl0zJu+JVqSwZX7vsJzOOn8s1laZX4/M4AjECLrSzIQ+TZ7KIAddzeyqeZTPHOBDhZKuYhONfliLwtB0F44gKv3QayK7gaE7CvToQzZ9DvT/AnzR3pIpSPb3sslnhExU61ub+TTd4uMkv8D/TF5fk61qD0AAAAASUVORK5CYII=",
         "type": "image",
         "xaxis": "x16",
         "yaxis": "y16"
        },
        {
         "hovertemplate": "x: %{x}<br>y: %{y}<extra></extra>",
         "name": "16",
         "source": "data:image/png;base64,iVBORw0KGgoAAAANSUhEUgAAABAAAAAQCAAAAAA6mKC9AAAA2ElEQVR4XgXByU7DMBAAUHs83tKsBy7c+T3+GQmlEqGl2WPP2OY9+Xnf+0m8LyN+POacGcdC825e0KixpJMK2iOtLcTgXHro3DA8Z288LkKthBolQvSSgxpQcaw3EZ7QMpuTbZySCqCgA10DluXwAzAJ9AkAOJ7mmlkKSpsowAzQy6CVtDRkl0CmFQ1Le3SxT+ZqMYb05ar6EkIbUV0TUChdX06kO0f3uzNGu0mVYfG+othUGjPbdKju7btd8+a0wVX2oaedBriVDX8c3Oju/iYlalteV66bf/0MgZriHkIHAAAAAElFTkSuQmCC",
         "type": "image",
         "xaxis": "x17",
         "yaxis": "y17"
        },
        {
         "hovertemplate": "x: %{x}<br>y: %{y}<extra></extra>",
         "name": "17",
         "source": "data:image/png;base64,iVBORw0KGgoAAAANSUhEUgAAABAAAAAQCAAAAAA6mKC9AAAA4ElEQVR4XgXBUVKDMBAA0N3NQiCh0A610y/1/kfRMzjjhyPTaoe2BExKkvU9fBsZh+FV/NSj85T5vatPufb4W7qqmG/PbOvR2Q25jozIIUWWc/OELh+U13HOTaYES0lBf83h6oFh4v7O2ispIzKTVDsOKbposZTbPlPAbzIG+mqtbVugfUABBNr+qT5bUPIjAQJfBI04vK5qqhylIzdD/Nju8KJK02UNxNhH1CYG/eBELJFV/1m0kPdeqbzhZuVz03njqViOdPKGa15gS2sq2ILUpfbAL/MosuIk9xwqasM/j/ZzJVtQeSMAAAAASUVORK5CYII=",
         "type": "image",
         "xaxis": "x18",
         "yaxis": "y18"
        },
        {
         "hovertemplate": "x: %{x}<br>y: %{y}<extra></extra>",
         "name": "18",
         "source": "data:image/png;base64,iVBORw0KGgoAAAANSUhEUgAAABAAAAAQCAAAAAA6mKC9AAAA1klEQVR4XgXB107EMBAAwHh33eLkCFckvpo/RDwhIeV0IsVxXJcZ8Tk8xzwefPYYgK4BJtRGbw0eh5cB0gzpaSpwRi8hcZSalHpJQ7jndg8VvKHUXJHZSGbi9z4hgNQI7XtBtbg2rxUspim9PtyBe5VSO/pN91jFwTLdgqQaKHAWcBFeZ01cVKGehIgW3NkVfzPthC22MvqrG9/K4LaFiJjFirGL0Qw+FyI5iaWZFWxXRUNCsH9feVi7zNnCRccfWhFM1K3u2lOC1uiFj9ipZJWunPVs/wFutXuBcMl99wAAAABJRU5ErkJggg==",
         "type": "image",
         "xaxis": "x19",
         "yaxis": "y19"
        },
        {
         "hovertemplate": "x: %{x}<br>y: %{y}<extra></extra>",
         "name": "19",
         "source": "data:image/png;base64,iVBORw0KGgoAAAANSUhEUgAAABAAAAAQCAAAAAA6mKC9AAAA30lEQVR4XgXB21LDIBAAUNhdlgTSpnXU6kwfffIv/P9v8NXOtI02VyBA8Bz51V3fF3ye7/x5WYgcLYDON65Y/Y08ZyRyNZzkGo/mOraV2eRHonVnw6JDkzmhgshbElEZs8ndROuDaqF5BusmrAqKYEnWK8e/Qo2MMmEjiHOKuu3dKfsAk0CAVAD7qKSy6VUdJViVbY3WdDU8uSIMdSL/aFJIgASYexhCaDgtBR5TsMMoINaV06xuZW/EYPea2iLkzHx2fE+CKoTsSbc4TuTfXlz5LYRzPI94OPjNXzKB/QfWAW4GgxB21AAAAABJRU5ErkJggg==",
         "type": "image",
         "xaxis": "x20",
         "yaxis": "y20"
        },
        {
         "hovertemplate": "x: %{x}<br>y: %{y}<extra></extra>",
         "name": "20",
         "source": "data:image/png;base64,iVBORw0KGgoAAAANSUhEUgAAABAAAAAQCAAAAAA6mKC9AAAA3klEQVR4XgXBCU7DMBAAQO9m7VzNBVUjgcQfeTESoBaKaFySeH0mzMBr/VaDEl4CLaU8MY1Wkg8oionLLGhL8/6szJw61S+JZdWQcrc9lc01bEeaGiayKfpOxxMu6NpjypHE0PvNaFOkw66/IzJw579AGTFzXg09TbH6eNhsRmv7+wQaMNujurtcc6ASRbfTyDZBT92cBSH8IeF1AVSWDkMRVGV/Iq604QqOI24tM0rcZbU6ua3oXbACEMd0AZytJ2zu1IhPtPwXgzHurPv64hnwfWmBXtrHIvOmSDfxD9TngK9L+5ghAAAAAElFTkSuQmCC",
         "type": "image",
         "xaxis": "x",
         "yaxis": "y"
        },
        {
         "hovertemplate": "x: %{x}<br>y: %{y}<extra></extra>",
         "name": "21",
         "source": "data:image/png;base64,iVBORw0KGgoAAAANSUhEUgAAABAAAAAQCAAAAAA6mKC9AAAA5ElEQVR4XgXB4U6DMBAA4HLXUtbCiENjpvvhy/taOuOWmegGDFqgvaN+X/bu+eB/X86AalCjl3K51V9t0ZtrIhTzmuDzCYUuSJqIdky8g8Nl2r/mLiOxs8LUAYZKMUbHj8nNzKaEzRLPPui/3gzeTqsBjdF+eOvaMDGVKkI/Bo/1HenaKCZm6AEF6smT4KPMhqPcklKbb36je1+WLmc5qmUwoTmBIblCO4POFHdN4kuXituMjSQDOLFbdah3oqusvI9QlD9k82fsqaqCnGsJg9vnGgrn5OkBljWJ1dxOGM9xybabf0uph2dOheySAAAAAElFTkSuQmCC",
         "type": "image",
         "xaxis": "x2",
         "yaxis": "y2"
        },
        {
         "hovertemplate": "x: %{x}<br>y: %{y}<extra></extra>",
         "name": "22",
         "source": "data:image/png;base64,iVBORw0KGgoAAAANSUhEUgAAABAAAAAQCAAAAAA6mKC9AAAA9klEQVR4XgXBaW+CMBgAYFte5Kq05ZbERDb9sP3v/aJ9WmJcNJh5ENyg3Ef3POijJXWjXBnw8EtYywqnTi84ccbpfIv7PgNI0pJJdZytQJ52eM7h+DdkNvUKSPmQrZoQ28McxtVwutAFY1H5Cfoe9F/1ECi6beai4zgKDFirK18lCoNzn2JHtX1P8iZGTX6nfIZi9gSnhKJl7Wg3XcDTapRiEx6Or+5ljBAD8YjKnd+vETHMZxpGoCVL9uN4ZZD57jgJDm9OdX1XKsqIMGoTt9iQhUVluzD2MfLvUONKk25VK8N3Z0wy2er45aHdug62eYZqsskf/1NhcxhvLeE2AAAAAElFTkSuQmCC",
         "type": "image",
         "xaxis": "x3",
         "yaxis": "y3"
        },
        {
         "hovertemplate": "x: %{x}<br>y: %{y}<extra></extra>",
         "name": "23",
         "source": "data:image/png;base64,iVBORw0KGgoAAAANSUhEUgAAABAAAAAQCAAAAAA6mKC9AAABAUlEQVR4XgXBTU+DMBgAYPrSFsrX2NiYYjBuLBovRi+a+P+vRuPFqIc5XQamsAErY8iXz4Mu2Wp+QaAMqdUm5KqCCXXvHKvvHtwip1Obwy1Xon0HBpcR6XiVQXav7dck/EkqtnMma4C3ZiyY+7gYcY0QxIb4OIoMX8Skh3eap+oK/PBwcgxrKgVjiRJzBlwO9Gi5fS5dUZA+G0KzfKqVOitOW+e80c0GC1upuN1ZHPmi9b524HhoWyXutfVXIJZjG8jrd0mPvwfGzYknUhUXBpRarb4EqvuhDZoMC0SYZM/EZ18v2kzFWIm9qd7l0jzeMChJggskaVWn3vRnMt9oqfIPI9t4D3ShD8YAAAAASUVORK5CYII=",
         "type": "image",
         "xaxis": "x4",
         "yaxis": "y4"
        },
        {
         "hovertemplate": "x: %{x}<br>y: %{y}<extra></extra>",
         "name": "24",
         "source": "data:image/png;base64,iVBORw0KGgoAAAANSUhEUgAAABAAAAAQCAAAAAA6mKC9AAAA90lEQVR4XgXBTU/CMBgA4L5vO7qxMYfjKxIxhnjwh/tTPHjzYjR6wTAywUzGWla6dq3PA0+0oyv3NhvXJSqYasZwsaRlrglZCE6yF3bzGRRNPBYfgFFjfIPhvY8SKFpY2da4xsNzgFLFRB4tbVk5kbj19R6pjOPQaJfoCudNm/KOQpNCeNWf7rDEa1QbVV+sjwaDqWKhNKwfKJEzDL+cypnh+gIJ4QkZsUn8+oO3qV1PLsGs2p5F2nEC7zsXKdsBaZmR3yOHQmhzkPgHNHMq3B+xD4gb5Rmei00wf+ARGjtktK8rPtz9EkjPTNDYn3y2PAWPmT7Y7B+MPH1M74mYOQAAAABJRU5ErkJggg==",
         "type": "image",
         "xaxis": "x5",
         "yaxis": "y5"
        },
        {
         "hovertemplate": "x: %{x}<br>y: %{y}<extra></extra>",
         "name": "25",
         "source": "data:image/png;base64,iVBORw0KGgoAAAANSUhEUgAAABAAAAAQCAAAAAA6mKC9AAABBElEQVR4XgXB206DMBgAYFp+wijdwbGwTSW6mEUz74w3Xvp0vpQPsEtNtmTZLsicBxg4BhQqa6F+H3pJ0rOPp42XGL24q11vcICGMJrDyRqzdkttI8DZxfYG20kBUvx4uoEXSeJAEXJR/56jZdOBhy9Kq4HJYChjkrMaQ8bTdYwJ4bdWNUsJrPqyvDshIfyi6ih9AEwz6lxx2+BCwdFdgOe2/drRuQgvBePkHk9Vbk0LxnQa4mo9/8S5EnQv/9A+6Gp0rL1D6DWkn9fSFmGcfj/uICLCOTIjcrylQu5BwXMTSd4jM/+NxbQV2MCiUWBaq9daapPSVFeYq11zYC4EfkknGYJ/kluNiUyoWJgAAAAASUVORK5CYII=",
         "type": "image",
         "xaxis": "x6",
         "yaxis": "y6"
        },
        {
         "hovertemplate": "x: %{x}<br>y: %{y}<extra></extra>",
         "name": "26",
         "source": "data:image/png;base64,iVBORw0KGgoAAAANSUhEUgAAABAAAAAQCAAAAAA6mKC9AAAA0UlEQVR4XgXBSVLEMAwAQFuSl9hZYKqAC+/i/5ehuMCkQoJXWXTrj/rzvqoqiLc703KBdTc3yA6QT1x0qTSVyTpXNJoHKgiK9pIEn+Vs2plGpwL2VsUOce3OgAdNPYaRDNHfEhTLw4Mn2WxKvT4pBDaBuE55gevYSh7I4yTszbdDszHjWosetHV0GGI+3mZkrxkOaVVIXkMSDFfOUJWGQ/gMIyN/1wjKzJksfkm07XfmRC8uk8a6Ie7KY2iEbcR+ckFY2z6JUB/i8gLxrmMJNtl/W9Z0FXxfJegAAAAASUVORK5CYII=",
         "type": "image",
         "xaxis": "x7",
         "yaxis": "y7"
        },
        {
         "hovertemplate": "x: %{x}<br>y: %{y}<extra></extra>",
         "name": "27",
         "source": "data:image/png;base64,iVBORw0KGgoAAAANSUhEUgAAABAAAAAQCAAAAAA6mKC9AAAA80lEQVR4XgXB206DMBgA4Lb8lENBJpONZeoy46WP46MbjTebGkwWYjcKrNADxe/Dr958kI/vsZ9T8RLta/D0dWXbxC7NJWs1n0jP5wTarqQ6QjIcMcnWvfwOnsWx8Vh0Hn2AarhFhyixu8XvxnoUhgJOva43tFcJH8QSOJ6YxFTX0m4ZZZQ4jtQaj12YgyqYcpAGoTpls42mdaHd9EcAraRRLCBnXfGfuSFD9xUvnQvK/Gokb1JyZQ30sYEsNoHdUUf66EmMIHA3IY3qywe5nyvqK3ekKutucNuRmCEs1CzfsB+r9K4kn7zk6cNiOwhkrHcw/06NhWUaopH9AAAAAElFTkSuQmCC",
         "type": "image",
         "xaxis": "x8",
         "yaxis": "y8"
        },
        {
         "hovertemplate": "x: %{x}<br>y: %{y}<extra></extra>",
         "name": "28",
         "source": "data:image/png;base64,iVBORw0KGgoAAAANSUhEUgAAABAAAAAQCAAAAAA6mKC9AAAA8UlEQVR4XgXB0U6DMBQA0La0tGVjINPMTI1vxiV+hZ/gz2uML9O4sGwyGKyF9t7Wc+jbnqmvl7F73zx/ZESf6CsdZjUWWQRIfivRcDxEc3s8lEJUW8WWhO8mLUBZz48+KRw8cD3qUszVEO4wAu3/eGHwRGTPxpiwHlnF1crLYLJpdnELTPLIvKWhts0eCjl4mwp+lrld00ZmlxLLrTQsI1MkZ5ZParCILWeHi/luYTXyRSIhhZ7h1N5kwa2TzxjBdZbTOXoJtdCPQKLSA7uKrTeuugcH3DZnpE95SiTYEZdGd8Fcs7A7js3PyeUzbrt0CP8wCI5ye2bC2gAAAABJRU5ErkJggg==",
         "type": "image",
         "xaxis": "x9",
         "yaxis": "y9"
        },
        {
         "hovertemplate": "x: %{x}<br>y: %{y}<extra></extra>",
         "name": "29",
         "source": "data:image/png;base64,iVBORw0KGgoAAAANSUhEUgAAABAAAAAQCAAAAAA6mKC9AAAA60lEQVR4XgXBy1KDMBQA0DxugEt4NZaxOo47Z9z4uf03N104brSUUjCkhJDEc+jRzcbrEtkNQwzvM/s0xqQt/G1iWJvkt4SP3olEbKKIISX7YKArVvulCBc8o3bByOzQk3ZViwtbV+7TFSpZ5p32h9lBM5MeWXe5nXnRyzDiWltpoQKewY8ir9OZ8GQcoVkWbpIscMdx5LWDS2Q2U3C9rDzpEJ/YwQ2nk+9zMkIqGKlA175Nopie7zSXGxqIKaXNLJ32WmOebczLt5egGnolOBntaqDfFcP7ctMgFcPHwNTDoEHtWh13ofLG/gNNTXr+UnP1agAAAABJRU5ErkJggg==",
         "type": "image",
         "xaxis": "x10",
         "yaxis": "y10"
        }
       ],
       "layout": {
        "annotations": [
         {
          "font": {},
          "showarrow": false,
          "text": "facet_col=20",
          "x": 0.04100000000000001,
          "xanchor": "center",
          "xref": "paper",
          "y": 0.2866666666666666,
          "yanchor": "bottom",
          "yref": "paper"
         },
         {
          "font": {},
          "showarrow": false,
          "text": "facet_col=21",
          "x": 0.14300000000000004,
          "xanchor": "center",
          "xref": "paper",
          "y": 0.2866666666666666,
          "yanchor": "bottom",
          "yref": "paper"
         },
         {
          "font": {},
          "showarrow": false,
          "text": "facet_col=22",
          "x": 0.24500000000000005,
          "xanchor": "center",
          "xref": "paper",
          "y": 0.2866666666666666,
          "yanchor": "bottom",
          "yref": "paper"
         },
         {
          "font": {},
          "showarrow": false,
          "text": "facet_col=23",
          "x": 0.3470000000000001,
          "xanchor": "center",
          "xref": "paper",
          "y": 0.2866666666666666,
          "yanchor": "bottom",
          "yref": "paper"
         },
         {
          "font": {},
          "showarrow": false,
          "text": "facet_col=24",
          "x": 0.44900000000000007,
          "xanchor": "center",
          "xref": "paper",
          "y": 0.2866666666666666,
          "yanchor": "bottom",
          "yref": "paper"
         },
         {
          "font": {},
          "showarrow": false,
          "text": "facet_col=25",
          "x": 0.5510000000000002,
          "xanchor": "center",
          "xref": "paper",
          "y": 0.2866666666666666,
          "yanchor": "bottom",
          "yref": "paper"
         },
         {
          "font": {},
          "showarrow": false,
          "text": "facet_col=26",
          "x": 0.6530000000000001,
          "xanchor": "center",
          "xref": "paper",
          "y": 0.2866666666666666,
          "yanchor": "bottom",
          "yref": "paper"
         },
         {
          "font": {},
          "showarrow": false,
          "text": "facet_col=27",
          "x": 0.7550000000000001,
          "xanchor": "center",
          "xref": "paper",
          "y": 0.2866666666666666,
          "yanchor": "bottom",
          "yref": "paper"
         },
         {
          "font": {},
          "showarrow": false,
          "text": "facet_col=28",
          "x": 0.8570000000000002,
          "xanchor": "center",
          "xref": "paper",
          "y": 0.2866666666666666,
          "yanchor": "bottom",
          "yref": "paper"
         },
         {
          "font": {},
          "showarrow": false,
          "text": "facet_col=29",
          "x": 0.9590000000000002,
          "xanchor": "center",
          "xref": "paper",
          "y": 0.2866666666666666,
          "yanchor": "bottom",
          "yref": "paper"
         },
         {
          "font": {},
          "showarrow": false,
          "text": "facet_col=10",
          "x": 0.04100000000000001,
          "xanchor": "center",
          "xref": "paper",
          "y": 0.6433333333333333,
          "yanchor": "bottom",
          "yref": "paper"
         },
         {
          "font": {},
          "showarrow": false,
          "text": "facet_col=11",
          "x": 0.14300000000000004,
          "xanchor": "center",
          "xref": "paper",
          "y": 0.6433333333333333,
          "yanchor": "bottom",
          "yref": "paper"
         },
         {
          "font": {},
          "showarrow": false,
          "text": "facet_col=12",
          "x": 0.24500000000000005,
          "xanchor": "center",
          "xref": "paper",
          "y": 0.6433333333333333,
          "yanchor": "bottom",
          "yref": "paper"
         },
         {
          "font": {},
          "showarrow": false,
          "text": "facet_col=13",
          "x": 0.3470000000000001,
          "xanchor": "center",
          "xref": "paper",
          "y": 0.6433333333333333,
          "yanchor": "bottom",
          "yref": "paper"
         },
         {
          "font": {},
          "showarrow": false,
          "text": "facet_col=14",
          "x": 0.44900000000000007,
          "xanchor": "center",
          "xref": "paper",
          "y": 0.6433333333333333,
          "yanchor": "bottom",
          "yref": "paper"
         },
         {
          "font": {},
          "showarrow": false,
          "text": "facet_col=15",
          "x": 0.5510000000000002,
          "xanchor": "center",
          "xref": "paper",
          "y": 0.6433333333333333,
          "yanchor": "bottom",
          "yref": "paper"
         },
         {
          "font": {},
          "showarrow": false,
          "text": "facet_col=16",
          "x": 0.6530000000000001,
          "xanchor": "center",
          "xref": "paper",
          "y": 0.6433333333333333,
          "yanchor": "bottom",
          "yref": "paper"
         },
         {
          "font": {},
          "showarrow": false,
          "text": "facet_col=17",
          "x": 0.7550000000000001,
          "xanchor": "center",
          "xref": "paper",
          "y": 0.6433333333333333,
          "yanchor": "bottom",
          "yref": "paper"
         },
         {
          "font": {},
          "showarrow": false,
          "text": "facet_col=18",
          "x": 0.8570000000000002,
          "xanchor": "center",
          "xref": "paper",
          "y": 0.6433333333333333,
          "yanchor": "bottom",
          "yref": "paper"
         },
         {
          "font": {},
          "showarrow": false,
          "text": "facet_col=19",
          "x": 0.9590000000000002,
          "xanchor": "center",
          "xref": "paper",
          "y": 0.6433333333333333,
          "yanchor": "bottom",
          "yref": "paper"
         },
         {
          "font": {},
          "showarrow": false,
          "text": "facet_col=0",
          "x": 0.04100000000000001,
          "xanchor": "center",
          "xref": "paper",
          "y": 0.9999999999999999,
          "yanchor": "bottom",
          "yref": "paper"
         },
         {
          "font": {},
          "showarrow": false,
          "text": "facet_col=1",
          "x": 0.14300000000000004,
          "xanchor": "center",
          "xref": "paper",
          "y": 0.9999999999999999,
          "yanchor": "bottom",
          "yref": "paper"
         },
         {
          "font": {},
          "showarrow": false,
          "text": "facet_col=2",
          "x": 0.24500000000000005,
          "xanchor": "center",
          "xref": "paper",
          "y": 0.9999999999999999,
          "yanchor": "bottom",
          "yref": "paper"
         },
         {
          "font": {},
          "showarrow": false,
          "text": "facet_col=3",
          "x": 0.3470000000000001,
          "xanchor": "center",
          "xref": "paper",
          "y": 0.9999999999999999,
          "yanchor": "bottom",
          "yref": "paper"
         },
         {
          "font": {},
          "showarrow": false,
          "text": "facet_col=4",
          "x": 0.44900000000000007,
          "xanchor": "center",
          "xref": "paper",
          "y": 0.9999999999999999,
          "yanchor": "bottom",
          "yref": "paper"
         },
         {
          "font": {},
          "showarrow": false,
          "text": "facet_col=5",
          "x": 0.5510000000000002,
          "xanchor": "center",
          "xref": "paper",
          "y": 0.9999999999999999,
          "yanchor": "bottom",
          "yref": "paper"
         },
         {
          "font": {},
          "showarrow": false,
          "text": "facet_col=6",
          "x": 0.6530000000000001,
          "xanchor": "center",
          "xref": "paper",
          "y": 0.9999999999999999,
          "yanchor": "bottom",
          "yref": "paper"
         },
         {
          "font": {},
          "showarrow": false,
          "text": "facet_col=7",
          "x": 0.7550000000000001,
          "xanchor": "center",
          "xref": "paper",
          "y": 0.9999999999999999,
          "yanchor": "bottom",
          "yref": "paper"
         },
         {
          "font": {},
          "showarrow": false,
          "text": "facet_col=8",
          "x": 0.8570000000000002,
          "xanchor": "center",
          "xref": "paper",
          "y": 0.9999999999999999,
          "yanchor": "bottom",
          "yref": "paper"
         },
         {
          "font": {},
          "showarrow": false,
          "text": "facet_col=9",
          "x": 0.9590000000000002,
          "xanchor": "center",
          "xref": "paper",
          "y": 0.9999999999999999,
          "yanchor": "bottom",
          "yref": "paper"
         }
        ],
        "template": {
         "data": {
          "bar": [
           {
            "error_x": {
             "color": "#2a3f5f"
            },
            "error_y": {
             "color": "#2a3f5f"
            },
            "marker": {
             "line": {
              "color": "#E5ECF6",
              "width": 0.5
             },
             "pattern": {
              "fillmode": "overlay",
              "size": 10,
              "solidity": 0.2
             }
            },
            "type": "bar"
           }
          ],
          "barpolar": [
           {
            "marker": {
             "line": {
              "color": "#E5ECF6",
              "width": 0.5
             },
             "pattern": {
              "fillmode": "overlay",
              "size": 10,
              "solidity": 0.2
             }
            },
            "type": "barpolar"
           }
          ],
          "carpet": [
           {
            "aaxis": {
             "endlinecolor": "#2a3f5f",
             "gridcolor": "white",
             "linecolor": "white",
             "minorgridcolor": "white",
             "startlinecolor": "#2a3f5f"
            },
            "baxis": {
             "endlinecolor": "#2a3f5f",
             "gridcolor": "white",
             "linecolor": "white",
             "minorgridcolor": "white",
             "startlinecolor": "#2a3f5f"
            },
            "type": "carpet"
           }
          ],
          "choropleth": [
           {
            "colorbar": {
             "outlinewidth": 0,
             "ticks": ""
            },
            "type": "choropleth"
           }
          ],
          "contour": [
           {
            "colorbar": {
             "outlinewidth": 0,
             "ticks": ""
            },
            "colorscale": [
             [
              0,
              "#0d0887"
             ],
             [
              0.1111111111111111,
              "#46039f"
             ],
             [
              0.2222222222222222,
              "#7201a8"
             ],
             [
              0.3333333333333333,
              "#9c179e"
             ],
             [
              0.4444444444444444,
              "#bd3786"
             ],
             [
              0.5555555555555556,
              "#d8576b"
             ],
             [
              0.6666666666666666,
              "#ed7953"
             ],
             [
              0.7777777777777778,
              "#fb9f3a"
             ],
             [
              0.8888888888888888,
              "#fdca26"
             ],
             [
              1,
              "#f0f921"
             ]
            ],
            "type": "contour"
           }
          ],
          "contourcarpet": [
           {
            "colorbar": {
             "outlinewidth": 0,
             "ticks": ""
            },
            "type": "contourcarpet"
           }
          ],
          "heatmap": [
           {
            "colorbar": {
             "outlinewidth": 0,
             "ticks": ""
            },
            "colorscale": [
             [
              0,
              "#0d0887"
             ],
             [
              0.1111111111111111,
              "#46039f"
             ],
             [
              0.2222222222222222,
              "#7201a8"
             ],
             [
              0.3333333333333333,
              "#9c179e"
             ],
             [
              0.4444444444444444,
              "#bd3786"
             ],
             [
              0.5555555555555556,
              "#d8576b"
             ],
             [
              0.6666666666666666,
              "#ed7953"
             ],
             [
              0.7777777777777778,
              "#fb9f3a"
             ],
             [
              0.8888888888888888,
              "#fdca26"
             ],
             [
              1,
              "#f0f921"
             ]
            ],
            "type": "heatmap"
           }
          ],
          "heatmapgl": [
           {
            "colorbar": {
             "outlinewidth": 0,
             "ticks": ""
            },
            "colorscale": [
             [
              0,
              "#0d0887"
             ],
             [
              0.1111111111111111,
              "#46039f"
             ],
             [
              0.2222222222222222,
              "#7201a8"
             ],
             [
              0.3333333333333333,
              "#9c179e"
             ],
             [
              0.4444444444444444,
              "#bd3786"
             ],
             [
              0.5555555555555556,
              "#d8576b"
             ],
             [
              0.6666666666666666,
              "#ed7953"
             ],
             [
              0.7777777777777778,
              "#fb9f3a"
             ],
             [
              0.8888888888888888,
              "#fdca26"
             ],
             [
              1,
              "#f0f921"
             ]
            ],
            "type": "heatmapgl"
           }
          ],
          "histogram": [
           {
            "marker": {
             "pattern": {
              "fillmode": "overlay",
              "size": 10,
              "solidity": 0.2
             }
            },
            "type": "histogram"
           }
          ],
          "histogram2d": [
           {
            "colorbar": {
             "outlinewidth": 0,
             "ticks": ""
            },
            "colorscale": [
             [
              0,
              "#0d0887"
             ],
             [
              0.1111111111111111,
              "#46039f"
             ],
             [
              0.2222222222222222,
              "#7201a8"
             ],
             [
              0.3333333333333333,
              "#9c179e"
             ],
             [
              0.4444444444444444,
              "#bd3786"
             ],
             [
              0.5555555555555556,
              "#d8576b"
             ],
             [
              0.6666666666666666,
              "#ed7953"
             ],
             [
              0.7777777777777778,
              "#fb9f3a"
             ],
             [
              0.8888888888888888,
              "#fdca26"
             ],
             [
              1,
              "#f0f921"
             ]
            ],
            "type": "histogram2d"
           }
          ],
          "histogram2dcontour": [
           {
            "colorbar": {
             "outlinewidth": 0,
             "ticks": ""
            },
            "colorscale": [
             [
              0,
              "#0d0887"
             ],
             [
              0.1111111111111111,
              "#46039f"
             ],
             [
              0.2222222222222222,
              "#7201a8"
             ],
             [
              0.3333333333333333,
              "#9c179e"
             ],
             [
              0.4444444444444444,
              "#bd3786"
             ],
             [
              0.5555555555555556,
              "#d8576b"
             ],
             [
              0.6666666666666666,
              "#ed7953"
             ],
             [
              0.7777777777777778,
              "#fb9f3a"
             ],
             [
              0.8888888888888888,
              "#fdca26"
             ],
             [
              1,
              "#f0f921"
             ]
            ],
            "type": "histogram2dcontour"
           }
          ],
          "mesh3d": [
           {
            "colorbar": {
             "outlinewidth": 0,
             "ticks": ""
            },
            "type": "mesh3d"
           }
          ],
          "parcoords": [
           {
            "line": {
             "colorbar": {
              "outlinewidth": 0,
              "ticks": ""
             }
            },
            "type": "parcoords"
           }
          ],
          "pie": [
           {
            "automargin": true,
            "type": "pie"
           }
          ],
          "scatter": [
           {
            "fillpattern": {
             "fillmode": "overlay",
             "size": 10,
             "solidity": 0.2
            },
            "type": "scatter"
           }
          ],
          "scatter3d": [
           {
            "line": {
             "colorbar": {
              "outlinewidth": 0,
              "ticks": ""
             }
            },
            "marker": {
             "colorbar": {
              "outlinewidth": 0,
              "ticks": ""
             }
            },
            "type": "scatter3d"
           }
          ],
          "scattercarpet": [
           {
            "marker": {
             "colorbar": {
              "outlinewidth": 0,
              "ticks": ""
             }
            },
            "type": "scattercarpet"
           }
          ],
          "scattergeo": [
           {
            "marker": {
             "colorbar": {
              "outlinewidth": 0,
              "ticks": ""
             }
            },
            "type": "scattergeo"
           }
          ],
          "scattergl": [
           {
            "marker": {
             "colorbar": {
              "outlinewidth": 0,
              "ticks": ""
             }
            },
            "type": "scattergl"
           }
          ],
          "scattermapbox": [
           {
            "marker": {
             "colorbar": {
              "outlinewidth": 0,
              "ticks": ""
             }
            },
            "type": "scattermapbox"
           }
          ],
          "scatterpolar": [
           {
            "marker": {
             "colorbar": {
              "outlinewidth": 0,
              "ticks": ""
             }
            },
            "type": "scatterpolar"
           }
          ],
          "scatterpolargl": [
           {
            "marker": {
             "colorbar": {
              "outlinewidth": 0,
              "ticks": ""
             }
            },
            "type": "scatterpolargl"
           }
          ],
          "scatterternary": [
           {
            "marker": {
             "colorbar": {
              "outlinewidth": 0,
              "ticks": ""
             }
            },
            "type": "scatterternary"
           }
          ],
          "surface": [
           {
            "colorbar": {
             "outlinewidth": 0,
             "ticks": ""
            },
            "colorscale": [
             [
              0,
              "#0d0887"
             ],
             [
              0.1111111111111111,
              "#46039f"
             ],
             [
              0.2222222222222222,
              "#7201a8"
             ],
             [
              0.3333333333333333,
              "#9c179e"
             ],
             [
              0.4444444444444444,
              "#bd3786"
             ],
             [
              0.5555555555555556,
              "#d8576b"
             ],
             [
              0.6666666666666666,
              "#ed7953"
             ],
             [
              0.7777777777777778,
              "#fb9f3a"
             ],
             [
              0.8888888888888888,
              "#fdca26"
             ],
             [
              1,
              "#f0f921"
             ]
            ],
            "type": "surface"
           }
          ],
          "table": [
           {
            "cells": {
             "fill": {
              "color": "#EBF0F8"
             },
             "line": {
              "color": "white"
             }
            },
            "header": {
             "fill": {
              "color": "#C8D4E3"
             },
             "line": {
              "color": "white"
             }
            },
            "type": "table"
           }
          ]
         },
         "layout": {
          "annotationdefaults": {
           "arrowcolor": "#2a3f5f",
           "arrowhead": 0,
           "arrowwidth": 1
          },
          "autotypenumbers": "strict",
          "coloraxis": {
           "colorbar": {
            "outlinewidth": 0,
            "ticks": ""
           }
          },
          "colorscale": {
           "diverging": [
            [
             0,
             "#8e0152"
            ],
            [
             0.1,
             "#c51b7d"
            ],
            [
             0.2,
             "#de77ae"
            ],
            [
             0.3,
             "#f1b6da"
            ],
            [
             0.4,
             "#fde0ef"
            ],
            [
             0.5,
             "#f7f7f7"
            ],
            [
             0.6,
             "#e6f5d0"
            ],
            [
             0.7,
             "#b8e186"
            ],
            [
             0.8,
             "#7fbc41"
            ],
            [
             0.9,
             "#4d9221"
            ],
            [
             1,
             "#276419"
            ]
           ],
           "sequential": [
            [
             0,
             "#0d0887"
            ],
            [
             0.1111111111111111,
             "#46039f"
            ],
            [
             0.2222222222222222,
             "#7201a8"
            ],
            [
             0.3333333333333333,
             "#9c179e"
            ],
            [
             0.4444444444444444,
             "#bd3786"
            ],
            [
             0.5555555555555556,
             "#d8576b"
            ],
            [
             0.6666666666666666,
             "#ed7953"
            ],
            [
             0.7777777777777778,
             "#fb9f3a"
            ],
            [
             0.8888888888888888,
             "#fdca26"
            ],
            [
             1,
             "#f0f921"
            ]
           ],
           "sequentialminus": [
            [
             0,
             "#0d0887"
            ],
            [
             0.1111111111111111,
             "#46039f"
            ],
            [
             0.2222222222222222,
             "#7201a8"
            ],
            [
             0.3333333333333333,
             "#9c179e"
            ],
            [
             0.4444444444444444,
             "#bd3786"
            ],
            [
             0.5555555555555556,
             "#d8576b"
            ],
            [
             0.6666666666666666,
             "#ed7953"
            ],
            [
             0.7777777777777778,
             "#fb9f3a"
            ],
            [
             0.8888888888888888,
             "#fdca26"
            ],
            [
             1,
             "#f0f921"
            ]
           ]
          },
          "colorway": [
           "#636efa",
           "#EF553B",
           "#00cc96",
           "#ab63fa",
           "#FFA15A",
           "#19d3f3",
           "#FF6692",
           "#B6E880",
           "#FF97FF",
           "#FECB52"
          ],
          "font": {
           "color": "#2a3f5f"
          },
          "geo": {
           "bgcolor": "white",
           "lakecolor": "white",
           "landcolor": "#E5ECF6",
           "showlakes": true,
           "showland": true,
           "subunitcolor": "white"
          },
          "hoverlabel": {
           "align": "left"
          },
          "hovermode": "closest",
          "mapbox": {
           "style": "light"
          },
          "paper_bgcolor": "white",
          "plot_bgcolor": "#E5ECF6",
          "polar": {
           "angularaxis": {
            "gridcolor": "white",
            "linecolor": "white",
            "ticks": ""
           },
           "bgcolor": "#E5ECF6",
           "radialaxis": {
            "gridcolor": "white",
            "linecolor": "white",
            "ticks": ""
           }
          },
          "scene": {
           "xaxis": {
            "backgroundcolor": "#E5ECF6",
            "gridcolor": "white",
            "gridwidth": 2,
            "linecolor": "white",
            "showbackground": true,
            "ticks": "",
            "zerolinecolor": "white"
           },
           "yaxis": {
            "backgroundcolor": "#E5ECF6",
            "gridcolor": "white",
            "gridwidth": 2,
            "linecolor": "white",
            "showbackground": true,
            "ticks": "",
            "zerolinecolor": "white"
           },
           "zaxis": {
            "backgroundcolor": "#E5ECF6",
            "gridcolor": "white",
            "gridwidth": 2,
            "linecolor": "white",
            "showbackground": true,
            "ticks": "",
            "zerolinecolor": "white"
           }
          },
          "shapedefaults": {
           "line": {
            "color": "#2a3f5f"
           }
          },
          "ternary": {
           "aaxis": {
            "gridcolor": "white",
            "linecolor": "white",
            "ticks": ""
           },
           "baxis": {
            "gridcolor": "white",
            "linecolor": "white",
            "ticks": ""
           },
           "bgcolor": "#E5ECF6",
           "caxis": {
            "gridcolor": "white",
            "linecolor": "white",
            "ticks": ""
           }
          },
          "title": {
           "x": 0.05
          },
          "xaxis": {
           "automargin": true,
           "gridcolor": "white",
           "linecolor": "white",
           "ticks": "",
           "title": {
            "standoff": 15
           },
           "zerolinecolor": "white",
           "zerolinewidth": 2
          },
          "yaxis": {
           "automargin": true,
           "gridcolor": "white",
           "linecolor": "white",
           "ticks": "",
           "title": {
            "standoff": 15
           },
           "zerolinecolor": "white",
           "zerolinewidth": 2
          }
         }
        },
        "title": {
         "text": "Sample"
        },
        "xaxis": {
         "anchor": "y",
         "domain": [
          0,
          0.08200000000000002
         ]
        },
        "xaxis10": {
         "anchor": "y10",
         "domain": [
          0.9180000000000001,
          1
         ],
         "matches": "x"
        },
        "xaxis11": {
         "anchor": "y11",
         "domain": [
          0,
          0.08200000000000002
         ],
         "matches": "x",
         "showticklabels": false
        },
        "xaxis12": {
         "anchor": "y12",
         "domain": [
          0.10200000000000002,
          0.18400000000000005
         ],
         "matches": "x",
         "showticklabels": false
        },
        "xaxis13": {
         "anchor": "y13",
         "domain": [
          0.20400000000000004,
          0.28600000000000003
         ],
         "matches": "x",
         "showticklabels": false
        },
        "xaxis14": {
         "anchor": "y14",
         "domain": [
          0.30600000000000005,
          0.38800000000000007
         ],
         "matches": "x",
         "showticklabels": false
        },
        "xaxis15": {
         "anchor": "y15",
         "domain": [
          0.4080000000000001,
          0.4900000000000001
         ],
         "matches": "x",
         "showticklabels": false
        },
        "xaxis16": {
         "anchor": "y16",
         "domain": [
          0.5100000000000001,
          0.5920000000000001
         ],
         "matches": "x",
         "showticklabels": false
        },
        "xaxis17": {
         "anchor": "y17",
         "domain": [
          0.6120000000000001,
          0.6940000000000002
         ],
         "matches": "x",
         "showticklabels": false
        },
        "xaxis18": {
         "anchor": "y18",
         "domain": [
          0.7140000000000001,
          0.796
         ],
         "matches": "x",
         "showticklabels": false
        },
        "xaxis19": {
         "anchor": "y19",
         "domain": [
          0.8160000000000002,
          0.8980000000000001
         ],
         "matches": "x",
         "showticklabels": false
        },
        "xaxis2": {
         "anchor": "y2",
         "domain": [
          0.10200000000000002,
          0.18400000000000005
         ],
         "matches": "x"
        },
        "xaxis20": {
         "anchor": "y20",
         "domain": [
          0.9180000000000001,
          1
         ],
         "matches": "x",
         "showticklabels": false
        },
        "xaxis21": {
         "anchor": "y21",
         "domain": [
          0,
          0.08200000000000002
         ],
         "matches": "x",
         "showticklabels": false
        },
        "xaxis22": {
         "anchor": "y22",
         "domain": [
          0.10200000000000002,
          0.18400000000000005
         ],
         "matches": "x",
         "showticklabels": false
        },
        "xaxis23": {
         "anchor": "y23",
         "domain": [
          0.20400000000000004,
          0.28600000000000003
         ],
         "matches": "x",
         "showticklabels": false
        },
        "xaxis24": {
         "anchor": "y24",
         "domain": [
          0.30600000000000005,
          0.38800000000000007
         ],
         "matches": "x",
         "showticklabels": false
        },
        "xaxis25": {
         "anchor": "y25",
         "domain": [
          0.4080000000000001,
          0.4900000000000001
         ],
         "matches": "x",
         "showticklabels": false
        },
        "xaxis26": {
         "anchor": "y26",
         "domain": [
          0.5100000000000001,
          0.5920000000000001
         ],
         "matches": "x",
         "showticklabels": false
        },
        "xaxis27": {
         "anchor": "y27",
         "domain": [
          0.6120000000000001,
          0.6940000000000002
         ],
         "matches": "x",
         "showticklabels": false
        },
        "xaxis28": {
         "anchor": "y28",
         "domain": [
          0.7140000000000001,
          0.796
         ],
         "matches": "x",
         "showticklabels": false
        },
        "xaxis29": {
         "anchor": "y29",
         "domain": [
          0.8160000000000002,
          0.8980000000000001
         ],
         "matches": "x",
         "showticklabels": false
        },
        "xaxis3": {
         "anchor": "y3",
         "domain": [
          0.20400000000000004,
          0.28600000000000003
         ],
         "matches": "x"
        },
        "xaxis30": {
         "anchor": "y30",
         "domain": [
          0.9180000000000001,
          1
         ],
         "matches": "x",
         "showticklabels": false
        },
        "xaxis4": {
         "anchor": "y4",
         "domain": [
          0.30600000000000005,
          0.38800000000000007
         ],
         "matches": "x"
        },
        "xaxis5": {
         "anchor": "y5",
         "domain": [
          0.4080000000000001,
          0.4900000000000001
         ],
         "matches": "x"
        },
        "xaxis6": {
         "anchor": "y6",
         "domain": [
          0.5100000000000001,
          0.5920000000000001
         ],
         "matches": "x"
        },
        "xaxis7": {
         "anchor": "y7",
         "domain": [
          0.6120000000000001,
          0.6940000000000002
         ],
         "matches": "x"
        },
        "xaxis8": {
         "anchor": "y8",
         "domain": [
          0.7140000000000001,
          0.796
         ],
         "matches": "x"
        },
        "xaxis9": {
         "anchor": "y9",
         "domain": [
          0.8160000000000002,
          0.8980000000000001
         ],
         "matches": "x"
        },
        "yaxis": {
         "anchor": "x",
         "domain": [
          0,
          0.2866666666666666
         ]
        },
        "yaxis10": {
         "anchor": "x10",
         "domain": [
          0,
          0.2866666666666666
         ],
         "matches": "y",
         "showticklabels": false
        },
        "yaxis11": {
         "anchor": "x11",
         "domain": [
          0.35666666666666663,
          0.6433333333333333
         ],
         "matches": "y"
        },
        "yaxis12": {
         "anchor": "x12",
         "domain": [
          0.35666666666666663,
          0.6433333333333333
         ],
         "matches": "y",
         "showticklabels": false
        },
        "yaxis13": {
         "anchor": "x13",
         "domain": [
          0.35666666666666663,
          0.6433333333333333
         ],
         "matches": "y",
         "showticklabels": false
        },
        "yaxis14": {
         "anchor": "x14",
         "domain": [
          0.35666666666666663,
          0.6433333333333333
         ],
         "matches": "y",
         "showticklabels": false
        },
        "yaxis15": {
         "anchor": "x15",
         "domain": [
          0.35666666666666663,
          0.6433333333333333
         ],
         "matches": "y",
         "showticklabels": false
        },
        "yaxis16": {
         "anchor": "x16",
         "domain": [
          0.35666666666666663,
          0.6433333333333333
         ],
         "matches": "y",
         "showticklabels": false
        },
        "yaxis17": {
         "anchor": "x17",
         "domain": [
          0.35666666666666663,
          0.6433333333333333
         ],
         "matches": "y",
         "showticklabels": false
        },
        "yaxis18": {
         "anchor": "x18",
         "domain": [
          0.35666666666666663,
          0.6433333333333333
         ],
         "matches": "y",
         "showticklabels": false
        },
        "yaxis19": {
         "anchor": "x19",
         "domain": [
          0.35666666666666663,
          0.6433333333333333
         ],
         "matches": "y",
         "showticklabels": false
        },
        "yaxis2": {
         "anchor": "x2",
         "domain": [
          0,
          0.2866666666666666
         ],
         "matches": "y",
         "showticklabels": false
        },
        "yaxis20": {
         "anchor": "x20",
         "domain": [
          0.35666666666666663,
          0.6433333333333333
         ],
         "matches": "y",
         "showticklabels": false
        },
        "yaxis21": {
         "anchor": "x21",
         "domain": [
          0.7133333333333333,
          0.9999999999999999
         ],
         "matches": "y"
        },
        "yaxis22": {
         "anchor": "x22",
         "domain": [
          0.7133333333333333,
          0.9999999999999999
         ],
         "matches": "y",
         "showticklabels": false
        },
        "yaxis23": {
         "anchor": "x23",
         "domain": [
          0.7133333333333333,
          0.9999999999999999
         ],
         "matches": "y",
         "showticklabels": false
        },
        "yaxis24": {
         "anchor": "x24",
         "domain": [
          0.7133333333333333,
          0.9999999999999999
         ],
         "matches": "y",
         "showticklabels": false
        },
        "yaxis25": {
         "anchor": "x25",
         "domain": [
          0.7133333333333333,
          0.9999999999999999
         ],
         "matches": "y",
         "showticklabels": false
        },
        "yaxis26": {
         "anchor": "x26",
         "domain": [
          0.7133333333333333,
          0.9999999999999999
         ],
         "matches": "y",
         "showticklabels": false
        },
        "yaxis27": {
         "anchor": "x27",
         "domain": [
          0.7133333333333333,
          0.9999999999999999
         ],
         "matches": "y",
         "showticklabels": false
        },
        "yaxis28": {
         "anchor": "x28",
         "domain": [
          0.7133333333333333,
          0.9999999999999999
         ],
         "matches": "y",
         "showticklabels": false
        },
        "yaxis29": {
         "anchor": "x29",
         "domain": [
          0.7133333333333333,
          0.9999999999999999
         ],
         "matches": "y",
         "showticklabels": false
        },
        "yaxis3": {
         "anchor": "x3",
         "domain": [
          0,
          0.2866666666666666
         ],
         "matches": "y",
         "showticklabels": false
        },
        "yaxis30": {
         "anchor": "x30",
         "domain": [
          0.7133333333333333,
          0.9999999999999999
         ],
         "matches": "y",
         "showticklabels": false
        },
        "yaxis4": {
         "anchor": "x4",
         "domain": [
          0,
          0.2866666666666666
         ],
         "matches": "y",
         "showticklabels": false
        },
        "yaxis5": {
         "anchor": "x5",
         "domain": [
          0,
          0.2866666666666666
         ],
         "matches": "y",
         "showticklabels": false
        },
        "yaxis6": {
         "anchor": "x6",
         "domain": [
          0,
          0.2866666666666666
         ],
         "matches": "y",
         "showticklabels": false
        },
        "yaxis7": {
         "anchor": "x7",
         "domain": [
          0,
          0.2866666666666666
         ],
         "matches": "y",
         "showticklabels": false
        },
        "yaxis8": {
         "anchor": "x8",
         "domain": [
          0,
          0.2866666666666666
         ],
         "matches": "y",
         "showticklabels": false
        },
        "yaxis9": {
         "anchor": "x9",
         "domain": [
          0,
          0.2866666666666666
         ],
         "matches": "y",
         "showticklabels": false
        }
       }
      }
     },
     "metadata": {},
     "output_type": "display_data"
    }
   ],
   "source": [
    "start = time.time()\n",
    "my_pca_result, my_pca = denoise(X_train, pca_components=10, gaussian_strength=.5, median_strength=None)\n",
    "show_images(my_pca_result, \"Sample\", col_wrap=col_wrap)\n",
    "my_time = time.time() - start"
   ]
  },
  {
   "cell_type": "markdown",
   "metadata": {},
   "source": [
    "## ANALYSING RESULTS"
   ]
  },
  {
   "cell_type": "code",
   "execution_count": 11,
   "metadata": {},
   "outputs": [
    {
     "name": "stdout",
     "output_type": "stream",
     "text": [
      "Manual PCA -> 0.8810939654232409 in 0.26123881340026855 seconds\n"
     ]
    }
   ],
   "source": [
    "print(f\"Manual PCA -> {my_pca.explained_variance_ratio_().sum()} in {my_time} seconds\")"
   ]
  },
  {
   "cell_type": "markdown",
   "metadata": {},
   "source": [
    "## PRODUCTION"
   ]
  },
  {
   "cell_type": "code",
   "execution_count": 14,
   "metadata": {},
   "outputs": [],
   "source": [
    "for layer, df in zip((\"R\", \"G\", \"B\"), (X, Y, Z)):\n",
    "    result, pca = denoise(df, pca_components=10, gaussian_strength=.5, median_strength=None)\n",
    "    result.to_csv(f\"output/denoised_{layer}.csv\", index=False)"
   ]
  }
 ],
 "metadata": {
  "kernelspec": {
   "display_name": "Python 3",
   "language": "python",
   "name": "python3"
  },
  "language_info": {
   "codemirror_mode": {
    "name": "ipython",
    "version": 3
   },
   "file_extension": ".py",
   "mimetype": "text/x-python",
   "name": "python",
   "nbconvert_exporter": "python",
   "pygments_lexer": "ipython3",
   "version": "3.12.3"
  }
 },
 "nbformat": 4,
 "nbformat_minor": 2
}
