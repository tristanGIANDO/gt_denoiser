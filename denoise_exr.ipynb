{
 "cells": [
  {
   "cell_type": "markdown",
   "metadata": {},
   "source": [
    "# Denoising EXR"
   ]
  },
  {
   "cell_type": "code",
   "execution_count": 3,
   "metadata": {},
   "outputs": [],
   "source": [
    "import OpenEXR\n",
    "import Imath\n",
    "import numpy as np\n",
    "import scipy.ndimage\n",
    "\n",
    "def read_exr(file_path):\n",
    "    exr_file = OpenEXR.InputFile(file_path)\n",
    "    header = exr_file.header()\n",
    "    dw = header['dataWindow']\n",
    "    size = (dw.max.x - dw.min.x + 1, dw.max.y - dw.min.y + 1)\n",
    "\n",
    "    channels = {}\n",
    "    for channel_name in exr_file.header()['channels'].keys():\n",
    "        channel_data = exr_file.channel(channel_name, Imath.PixelType(Imath.PixelType.FLOAT))\n",
    "        channel = np.frombuffer(channel_data, dtype=np.float32).reshape(size[1], size[0])\n",
    "        channels[channel_name] = channel\n",
    "    \n",
    "    return channels, size\n",
    "\n",
    "def write_exr(file_path, channels, size):\n",
    "    header = OpenEXR.Header(size[0], size[1])\n",
    "    for channel_name in channels.keys():\n",
    "        header['channels'][channel_name] = Imath.Channel(Imath.PixelType(Imath.PixelType.FLOAT))\n",
    "    \n",
    "    exr_file = OpenEXR.OutputFile(file_path, header)\n",
    "    channel_data = {name: data.tobytes() for name, data in channels.items()}\n",
    "    exr_file.writePixels(channel_data)\n",
    "\n",
    "def denoise_image(channels):\n",
    "    denoised_channels = {}\n",
    "    for channel_name, channel in channels.items():\n",
    "        denoised_channel = scipy.ndimage.median_filter(channel, size=10)\n",
    "        denoised_channels[channel_name] = denoised_channel\n",
    "    return denoised_channels\n",
    "\n",
    "def main(input_file, output_file):\n",
    "    channels, size = read_exr(input_file)\n",
    "    denoised_channels = denoise_image(channels)\n",
    "    write_exr(output_file, denoised_channels, size)\n",
    "\n",
    "\n",
    "if __name__ == \"__main__\":\n",
    "    input_file = \"src/noise.exr\"\n",
    "    output_file = \"output/denoised_noise.exr\"\n",
    "    main(input_file, output_file)\n"
   ]
  }
 ],
 "metadata": {
  "kernelspec": {
   "display_name": "Python 3",
   "language": "python",
   "name": "python3"
  },
  "language_info": {
   "codemirror_mode": {
    "name": "ipython",
    "version": 3
   },
   "file_extension": ".py",
   "mimetype": "text/x-python",
   "name": "python",
   "nbconvert_exporter": "python",
   "pygments_lexer": "ipython3",
   "version": "3.12.3"
  }
 },
 "nbformat": 4,
 "nbformat_minor": 2
}
