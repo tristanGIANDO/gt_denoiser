{
 "cells": [
  {
   "cell_type": "code",
   "execution_count": 109,
   "metadata": {},
   "outputs": [],
   "source": [
    "import time\n",
    "import pandas as pd\n",
    "import numpy as np\n",
    "from sklearn.decomposition import PCA\n",
    "from scipy.ndimage import gaussian_filter, median_filter\n",
    "import plotly.express as px"
   ]
  },
  {
   "cell_type": "markdown",
   "metadata": {},
   "source": [
    "## PREPROCESSING"
   ]
  },
  {
   "cell_type": "code",
   "execution_count": 110,
   "metadata": {},
   "outputs": [],
   "source": [
    "X = pd.read_csv(\"src/noisy_images.csv\")"
   ]
  },
  {
   "cell_type": "code",
   "execution_count": 111,
   "metadata": {},
   "outputs": [
    {
     "data": {
      "text/plain": [
       "(20, 784)"
      ]
     },
     "execution_count": 111,
     "metadata": {},
     "output_type": "execute_result"
    }
   ],
   "source": [
    "X.shape"
   ]
  },
  {
   "cell_type": "code",
   "execution_count": 112,
   "metadata": {},
   "outputs": [
    {
     "data": {
      "text/html": [
       "<div>\n",
       "<style scoped>\n",
       "    .dataframe tbody tr th:only-of-type {\n",
       "        vertical-align: middle;\n",
       "    }\n",
       "\n",
       "    .dataframe tbody tr th {\n",
       "        vertical-align: top;\n",
       "    }\n",
       "\n",
       "    .dataframe thead th {\n",
       "        text-align: right;\n",
       "    }\n",
       "</style>\n",
       "<table border=\"1\" class=\"dataframe\">\n",
       "  <thead>\n",
       "    <tr style=\"text-align: right;\">\n",
       "      <th></th>\n",
       "      <th>pixel0</th>\n",
       "      <th>pixel1</th>\n",
       "      <th>pixel2</th>\n",
       "      <th>pixel3</th>\n",
       "      <th>pixel4</th>\n",
       "      <th>pixel5</th>\n",
       "      <th>pixel6</th>\n",
       "      <th>pixel7</th>\n",
       "      <th>pixel8</th>\n",
       "      <th>pixel9</th>\n",
       "      <th>...</th>\n",
       "      <th>pixel774</th>\n",
       "      <th>pixel775</th>\n",
       "      <th>pixel776</th>\n",
       "      <th>pixel777</th>\n",
       "      <th>pixel778</th>\n",
       "      <th>pixel779</th>\n",
       "      <th>pixel780</th>\n",
       "      <th>pixel781</th>\n",
       "      <th>pixel782</th>\n",
       "      <th>pixel783</th>\n",
       "    </tr>\n",
       "  </thead>\n",
       "  <tbody>\n",
       "    <tr>\n",
       "      <th>0</th>\n",
       "      <td>-176.321245</td>\n",
       "      <td>-52.743850</td>\n",
       "      <td>143.604939</td>\n",
       "      <td>-53.567749</td>\n",
       "      <td>80.289381</td>\n",
       "      <td>20.686379</td>\n",
       "      <td>-197.423519</td>\n",
       "      <td>-229.401206</td>\n",
       "      <td>-221.900009</td>\n",
       "      <td>64.194187</td>\n",
       "      <td>...</td>\n",
       "      <td>34.407070</td>\n",
       "      <td>1.950735</td>\n",
       "      <td>-25.095565</td>\n",
       "      <td>133.684095</td>\n",
       "      <td>-21.664094</td>\n",
       "      <td>-94.305438</td>\n",
       "      <td>-55.987821</td>\n",
       "      <td>-89.929231</td>\n",
       "      <td>40.394774</td>\n",
       "      <td>-214.754480</td>\n",
       "    </tr>\n",
       "    <tr>\n",
       "      <th>1</th>\n",
       "      <td>-158.421239</td>\n",
       "      <td>16.371695</td>\n",
       "      <td>62.810879</td>\n",
       "      <td>263.533916</td>\n",
       "      <td>-193.920320</td>\n",
       "      <td>-25.366668</td>\n",
       "      <td>107.062706</td>\n",
       "      <td>125.403427</td>\n",
       "      <td>83.536343</td>\n",
       "      <td>-55.713640</td>\n",
       "      <td>...</td>\n",
       "      <td>-5.419961</td>\n",
       "      <td>-123.584030</td>\n",
       "      <td>20.240434</td>\n",
       "      <td>-25.699206</td>\n",
       "      <td>-128.545930</td>\n",
       "      <td>52.525885</td>\n",
       "      <td>-54.214887</td>\n",
       "      <td>-133.842624</td>\n",
       "      <td>-30.141215</td>\n",
       "      <td>210.408665</td>\n",
       "    </tr>\n",
       "    <tr>\n",
       "      <th>2</th>\n",
       "      <td>-290.343750</td>\n",
       "      <td>81.586500</td>\n",
       "      <td>12.615232</td>\n",
       "      <td>146.567851</td>\n",
       "      <td>111.233602</td>\n",
       "      <td>-188.989259</td>\n",
       "      <td>-101.464605</td>\n",
       "      <td>-107.015195</td>\n",
       "      <td>-13.069827</td>\n",
       "      <td>-245.921093</td>\n",
       "      <td>...</td>\n",
       "      <td>-139.909318</td>\n",
       "      <td>-85.214133</td>\n",
       "      <td>167.495617</td>\n",
       "      <td>62.402411</td>\n",
       "      <td>-144.402970</td>\n",
       "      <td>152.263950</td>\n",
       "      <td>-4.687051</td>\n",
       "      <td>-59.270131</td>\n",
       "      <td>-93.193600</td>\n",
       "      <td>188.229794</td>\n",
       "    </tr>\n",
       "    <tr>\n",
       "      <th>3</th>\n",
       "      <td>-208.840590</td>\n",
       "      <td>136.190431</td>\n",
       "      <td>38.552191</td>\n",
       "      <td>-67.825346</td>\n",
       "      <td>24.316303</td>\n",
       "      <td>176.103673</td>\n",
       "      <td>31.581298</td>\n",
       "      <td>-163.582673</td>\n",
       "      <td>29.777077</td>\n",
       "      <td>-110.969396</td>\n",
       "      <td>...</td>\n",
       "      <td>-131.385192</td>\n",
       "      <td>40.329733</td>\n",
       "      <td>-10.111639</td>\n",
       "      <td>163.497435</td>\n",
       "      <td>41.010287</td>\n",
       "      <td>-21.408008</td>\n",
       "      <td>328.274235</td>\n",
       "      <td>-15.341672</td>\n",
       "      <td>121.570863</td>\n",
       "      <td>151.757537</td>\n",
       "    </tr>\n",
       "    <tr>\n",
       "      <th>4</th>\n",
       "      <td>-328.876288</td>\n",
       "      <td>-42.862900</td>\n",
       "      <td>174.651874</td>\n",
       "      <td>-228.833439</td>\n",
       "      <td>71.909654</td>\n",
       "      <td>-97.206392</td>\n",
       "      <td>48.048853</td>\n",
       "      <td>-34.071313</td>\n",
       "      <td>3.820465</td>\n",
       "      <td>137.807730</td>\n",
       "      <td>...</td>\n",
       "      <td>-135.713199</td>\n",
       "      <td>-71.396796</td>\n",
       "      <td>155.237981</td>\n",
       "      <td>-141.860908</td>\n",
       "      <td>155.657335</td>\n",
       "      <td>166.609760</td>\n",
       "      <td>-52.911774</td>\n",
       "      <td>267.150703</td>\n",
       "      <td>-36.749672</td>\n",
       "      <td>131.913772</td>\n",
       "    </tr>\n",
       "  </tbody>\n",
       "</table>\n",
       "<p>5 rows × 784 columns</p>\n",
       "</div>"
      ],
      "text/plain": [
       "       pixel0      pixel1      pixel2      pixel3      pixel4      pixel5  \\\n",
       "0 -176.321245  -52.743850  143.604939  -53.567749   80.289381   20.686379   \n",
       "1 -158.421239   16.371695   62.810879  263.533916 -193.920320  -25.366668   \n",
       "2 -290.343750   81.586500   12.615232  146.567851  111.233602 -188.989259   \n",
       "3 -208.840590  136.190431   38.552191  -67.825346   24.316303  176.103673   \n",
       "4 -328.876288  -42.862900  174.651874 -228.833439   71.909654  -97.206392   \n",
       "\n",
       "       pixel6      pixel7      pixel8      pixel9  ...    pixel774  \\\n",
       "0 -197.423519 -229.401206 -221.900009   64.194187  ...   34.407070   \n",
       "1  107.062706  125.403427   83.536343  -55.713640  ...   -5.419961   \n",
       "2 -101.464605 -107.015195  -13.069827 -245.921093  ... -139.909318   \n",
       "3   31.581298 -163.582673   29.777077 -110.969396  ... -131.385192   \n",
       "4   48.048853  -34.071313    3.820465  137.807730  ... -135.713199   \n",
       "\n",
       "     pixel775    pixel776    pixel777    pixel778    pixel779    pixel780  \\\n",
       "0    1.950735  -25.095565  133.684095  -21.664094  -94.305438  -55.987821   \n",
       "1 -123.584030   20.240434  -25.699206 -128.545930   52.525885  -54.214887   \n",
       "2  -85.214133  167.495617   62.402411 -144.402970  152.263950   -4.687051   \n",
       "3   40.329733  -10.111639  163.497435   41.010287  -21.408008  328.274235   \n",
       "4  -71.396796  155.237981 -141.860908  155.657335  166.609760  -52.911774   \n",
       "\n",
       "     pixel781    pixel782    pixel783  \n",
       "0  -89.929231   40.394774 -214.754480  \n",
       "1 -133.842624  -30.141215  210.408665  \n",
       "2  -59.270131  -93.193600  188.229794  \n",
       "3  -15.341672  121.570863  151.757537  \n",
       "4  267.150703  -36.749672  131.913772  \n",
       "\n",
       "[5 rows x 784 columns]"
      ]
     },
     "execution_count": 112,
     "metadata": {},
     "output_type": "execute_result"
    }
   ],
   "source": [
    "X.head()"
   ]
  },
  {
   "cell_type": "markdown",
   "metadata": {},
   "source": [
    "## DISPLAY"
   ]
  },
  {
   "cell_type": "code",
   "execution_count": 113,
   "metadata": {},
   "outputs": [],
   "source": [
    "def show_images(data: pd.DataFrame, title=\"Result\", col_wrap=10):\n",
    "    side_length = int(np.sqrt(data.shape[1]))\n",
    "    fig = px.imshow(data.values.reshape(-1, side_length, side_length),\n",
    "                    binary_string=True,\n",
    "                    facet_col=0,\n",
    "                    facet_col_wrap=col_wrap,\n",
    "                    title=title)\n",
    "    fig.show()"
   ]
  },
  {
   "cell_type": "code",
   "execution_count": 114,
   "metadata": {},
   "outputs": [
    {
     "data": {
      "application/vnd.plotly.v1+json": {
       "config": {
        "plotlyServerURL": "https://plot.ly"
       },
       "data": [
        {
         "hovertemplate": "x: %{x}<br>y: %{y}<extra></extra>",
         "name": "0",
         "source": "data:image/png;base64,iVBORw0KGgoAAAANSUhEUgAAABwAAAAcCAAAAABXZoBIAAADLElEQVR4XgXBS2zbZAAAYP+/EzdO4qTNo62T2qnTJqE0LctrQ1FZq4mOyzhMQZo2ceKAtMMkEEcOHDkiIQ5ISCBOSCAxhDQEDFXrtlJKUF9x+nDSZmnqvBM7bhLHzsN8H7jpDrL01Z4CV7uYSc9ey/XcDpbvxceLJg8Mu7asVW/Xd7dpnRerfp9PPX0hLMjgXLpidZcWA9gaUOZmLXbW82wuZtBZvBfvQEx0qvDNkeskWjQSUS2dsmx293G6WWn/MRrWtFwBNkrmkLYy0//qreGStvq+CLu8FksQpo5sZXQCeW4yVtrXJoYVX2QPDHjiHdJxzvPC7cdGOE+V7YNT6esk7ip8B0pjy0RN7ddCb7+O+9Z0pWeYdHJPXNLZkrN9N8cdXS+buVHmge/sRhl8SZ6wxJjjUj96bT/HCJ7u5JyK/FBbD27CDvg0k1qWUQzi/jw2PsA6ZMz9faET3cO8HKE7DzNIlmw5fM2qphdsi8UU3x0w1TdKz70IvDgRmKIilVL9ybt/pSlIVZ6z00phIxvhDBAlO7/Q4sDKPJWfBD43tH9GuVURZqan03EOkkeGh/ZTm7DpnwKJfN4a3LWkkWxkrGBxy1Ast7+wPkRLgUbD+o/UPestzlwUDQcKHzARULtBJP48PA5uqLI97rEf6FtbUUA7Q2t9zgv92ZXYo+YVv6a6keO6P/pNxn8cK7uyrHoxCz6py97ei0ie9phvbT+BtIw1WjZ04dRMpZ3wiBpLz8b5mSUcf1pZCmKCdn0FSqX+LsXqQeLgtm6HWfD/dkcuHY7w+SayP2DCw0Np27kMHk0M+R8/Qnpz+ma1NbGDYwGtYRQWDhlml4H4r3nk43ragZpIpVInmakqrU3oC+rFt/4UVD6waf8iof9kiyEXHr6qBBFlSnK9+tDCdCTwLmJ3XraXO3PRzwjSXAGaeyOsvFwfwhzV0hXvPdOcZmD46fF0fEcR/WgbCiFoSLdv2l+ChAMM3EN0MpmNlsJtgeKM1GWxX478vgrL0FqGxvquVKDv8+tZbryhC/49dRUxMO9ZaADu2FHMmcSjQjdJBJysEbGgPXX+TMR71Pb/3gODCkHrMe4AAAAASUVORK5CYII=",
         "type": "image",
         "xaxis": "x11",
         "yaxis": "y11"
        },
        {
         "hovertemplate": "x: %{x}<br>y: %{y}<extra></extra>",
         "name": "1",
         "source": "data:image/png;base64,iVBORw0KGgoAAAANSUhEUgAAABwAAAAcCAAAAABXZoBIAAADMUlEQVR4XgXB308bdQAA8N633971F3dHjx7XUq4o9geFFcsxnWGSQWyk6nQhYcmWaJYYE/8AffXNB33xyQdNjMb3qVESfsxBDGEDx4/RrkC7tV5Hf3FtKeV+9Gh7PT8fZDZgvfKjj4XNHLMfxPv5jhjKUq6HWLV3iAdzucqfLC0UXnxl8RmwrNHeyZi7P99w61TzLZA8R/LmRsk88S2d1H4SW/orXL/+zv5VDMBfoe1uAbUI46ri/yG253dlXamlmCFRRU8scgjkjzv0uJl/kKl9aZoYoYJjZIx1dudTUTUqgUgdbSwWPHd1B/E5PVEiBUpPeqIbCHGlbkHe874YS3+0g98+aIysYuFWJsT+1sgT1uf4LQ/y9a4cshQuQ1cvzEy+2Yqsw149jR/jxQJugxuXVG1WU1urkbbN+ogMjnr2zhzu8z7JZZGgk3BI39zrEu1Ud8W1yG0F/IPtllK0nkxmeOSeZUgrK+SUzn5nlse36Y4x1BhZm/7bLA/HQT8mbUk3IyL83l6+VvyQGUXPPJU5o6qedWZAB6QcndUk/ddgGv7bTi3Fj3ZszvpTLMifbwCDqnWfSZHdwBnRJJTs+ww+LfAqje5MLMqAP62EB8LLpIlBZjOl6We2rNqlBUXhYORt8MYgVYR+Qng1p++x9jhxfkc0EDRiPMlOYkDiNUhvjy5UkXA9xx0ZQK1pOzj0FP5TH5Tgy9eztW7XctRiqwFddHqKHYB2RjeHjFxdAW2oXNLCk9wRDIhK2oq2WwsEJ23TZFZggFs45FYQ1uN26hSGh6qvffrwifWS2RftxQR45Lku95Ll+/W2+PEHdv/1Gf6ziJwakewDRB32aN5NrYcy8DeHH9cX1DXD7XUxQa/P/zHVU4M3Mj6XaU30ovGEZvmHscEWmwyngr/LNtkLXh6am9K7M3lnOe1CcRFt7m6eHBfQO9aDN03IF9jK/KlCDh770t4lH/TGcVUbKp82uRWuhMScRbejv/1UGBtAalufLPeYylyT6lYr1zYZOECmGc32S9t9IZBq1Oi/GH5enbrPrmKVyThI9PXJxPItcxTjDHZl8XRtP5h7TKRjISQ/9z8mboJzXvh4hwAAAABJRU5ErkJggg==",
         "type": "image",
         "xaxis": "x12",
         "yaxis": "y12"
        },
        {
         "hovertemplate": "x: %{x}<br>y: %{y}<extra></extra>",
         "name": "2",
         "source": "data:image/png;base64,iVBORw0KGgoAAAANSUhEUgAAABwAAAAcCAAAAABXZoBIAAADLUlEQVR4XgXB+08bdQAA8H6/96Wv6/uuLW1pKbbcSstDpjAZHRssOrexh3EmBrNEl/gvmPhnaExM5o+6GENiFoNLcKviNmBQNipsK4VKWR+00DvvSnvX6z1aPx8Q/rgWEBNEx7kxBw2ssQjzIwkfD5mQh3wEPg1rysjCi9szRV0Fk/0qMyFnXTk82m5XobP1xHyoJ8eHsXPYO/BLvjW8siiv4Xpha52EJT2R4hXvPay+OAW7visGtMHZfkveI4//XgN32g45dp/C6LFM78/hoSWnIcCaGFD17VoHIDE6ZM1cqBFyofXn5XHQNx2vtaCApg8oUgPR3QXm2c6VHJAdePj9qG+/lu0KPOfmezRVPcx6poDDsHD+Zsrpxh76mOPUjdbrD9BFW8l8AjdcSUuogK8mnHupe6Zno+aH20MJXG7kqYoMz2sq7zJBTiZd8DNLT6Btn8UeXN3x5qtvbOuwWLH9aLSems+sezY3lwh03Kko5eseoNNrLqOBxsEZYqPzVWb/Jby7lvV5aLPWQot9uR5EIuoXhT7AJnZj/DBY4HXldP+3c8RqqXekxKvoH4C7Opt+VgjvpyentU8n/vgavHRYU/ZGAYeMtyMJ41V/933ljhuybyejSp7Ws6dj3pFXsHZJR1OSKa+LuH9gLHRZBctF5/NL+JLlrTCKL95iV2eaIYhshlTYM5jXDh45Nd+f5aQNiA4vqAf2WiYsHgtE06iWLKXHfSowUowoCwj9t6XKxbMSF0j4NWXabbM2VKnXwoUg3Qc7zH4b6xj05ebYqUngJfhCMBcz1Qt7wlQBnlu7xcaErQedqC2JQhmFq3bNml+c2HGUCcJ04xF1eBFQ8aP6aPfynCzgBeWJN6iNbEs8TE9GWPtr2nPUbeKWR38VgTHEIW05KdoMI2gwq8eC2cC2bIfA/dNHq2IT34z44zm63p0Dt7Pu+GOKMxFSjmROp6v9KzR5fX6oDTAlBdkvDE0flHDyr13J9hTvb9lm3qt/3mwOaBtnIP+N0TdWQuK647ZW9WSV3R67YF8oDf5bIvag95MPX/0t7rQiMtf1W1NccZ0kK0pUh1TD0bX/AZjtf0nVdFjCAAAAAElFTkSuQmCC",
         "type": "image",
         "xaxis": "x13",
         "yaxis": "y13"
        },
        {
         "hovertemplate": "x: %{x}<br>y: %{y}<extra></extra>",
         "name": "3",
         "source": "data:image/png;base64,iVBORw0KGgoAAAANSUhEUgAAABwAAAAcCAAAAABXZoBIAAADHUlEQVR4XgXBy3MSdwAAYPbHwu7ych9k2V0SQgB5NtYEktSmNY6HOhp7SMcZb+lFx4P/kIe2p3Y8OD3U3rSZMRVNMiTGxLwg0AXCc8nyXFiy7LL9Pmjxx0bN6csfx/L+ER9k+QF3Pl9K3VNHozIDiEvOdvNQWxAeuw/U4Qay56Rh56PqhzNTogs9E29d1E8JI+YTKPKrl/z9bLf9UD52Kx0pCB+34iHu4LthDzWRGciLsOcBbGd1rO9NwUmYWqnsNJ8X+zvftIeCQylventOSxFsUyDoBJUz2UeePoyGLunPN1w2BpZ385fp/tP2WOqDe3fVKifua9M30ICja7Ez/l+yIVV6I4fzNbi1yQnDEBQZtGSyVmKFansUKEQzkXFOCMF39EwkdrWlpHGHVCBiV183wophgzTbL0Nj8KLt3ft1FrM8oA+vVsd17aR09G132d8MmS0MILDmrZ9T3tfcx4nG79b/XIOp4CtbQ9aEojkFKjbCk+nZE+JQWZwnYgPi6GgpF/Wgb2ZlM5jJY6p92MGM7u1Pyui9Vp5jtemyB8AmAwd0WNnNKQ0poy8594IukYicANIxrMU3x9dATMdrnnNc3L8bRvx9b1DYH09OYtvO6g8dAaRtlpE/8XZqRiJQLvsnY7DzZ3LFCyNin4XWFgojU97jHk0UkFIdYd28Uwv8MXaxGTQOPfkSUFXfaZOlV5O88XZqgvMYq+IXcd6EJ2Fl/R39z53ybdifwRejg5lG4ZzJUj1Y0/g2aJeM6PO/c1vybx1WejmQPyt6fbWmUIggnEJrs7tNfJnP3tQ0kexIGGmtERRTLCIHeBS8V4ll4+Ehm+zG47YVA8QI+BWyBRyT6zgFPSGpt3qYzNF6ctKGnTw6oGU9Bm+IVMT4EbYmkgEwLZAUOhP8gKxoXcjSujCIiYqh4QfGV1FUL6UaDVLtRBwmYQmq+K1wq66YL1zQOmXtaVK0k6bPmNyDdJvTFuoGq9CeT4o0WGydtNyDfPB65SdUE5bmcqb9ofhv3vCXy4WDdyrbRNbE19u1T3OeND8K0xey/D2nPuv4uP8BafCMR5/78/EAAAAASUVORK5CYII=",
         "type": "image",
         "xaxis": "x14",
         "yaxis": "y14"
        },
        {
         "hovertemplate": "x: %{x}<br>y: %{y}<extra></extra>",
         "name": "4",
         "source": "data:image/png;base64,iVBORw0KGgoAAAANSUhEUgAAABwAAAAcCAAAAABXZoBIAAADMklEQVR4XgXB7W8SdwAA4Pv9ODjeuRegcFAoLWBLX0xxtHVrbZY6M7Opi7NqE7dlZu7bkiX7YPZ3LPHbsi0zRl2yGGOWLalj2mnX2lArAkKRUgotlNced8fdAceeBzjnJ+8spDxVjcvwr2l4k+jt+HUrluBjhYEJwNG+DI1VGRkiHfowb6m1abQ8W3pk75L6KLhYeJ9LnFWHW+a8yvtWBoryBwO3Tr8hx7T1I/Adi2jIQ0VX4LWNfuEQIyjBnHOIhq300DCkVXzrzwp3z+OxzYXOfGXSr/TWOqD8SK0ndyEqyUqzJF6XldRp3Q/Pp4ILaWXdYGzG3qmE4LNKTYHYTLhXb92uzplNUv/NI3xfNakRxAdQnTyFQK0Yi/I8Kwz6q1xv77JOTmCKQ5cCFhdtFD1oXrgh8lSHyab9rLp+3EoVhgZW3fD86jLC1AmCs+ozkT/+Hoh7e+ZmSPZNhEci8GC+XJP/a7MP7eAZZSms3lHUuNxLp+72tFYJc+x4yfFeivuC+afTdO1IvWhR/lSSQ9UiooLOXH1/nfiejRyTMO3ml08Wn0Z2s+7AzhVIfIbiiHTyVe/3E0kj36D87huvu8ltpzD9K8G9KcKMpNwJbn0cNd/NH1fmIo1Wb4Sk7eGboz4VA/mXTbV+Kp2NzYdI0ewkeNy0FJ7WPPxLMBlg/t0fqxHYds3Vj5INXk60GPbn6VggaKqLGAy0LhAuUaw9eEWcGH5apbo+LuDQB8Cx1kwUpWto5FzDcuk19G9bz7wlFENYLS7WH/OWX2bB+Ocglf22q6k6Ei8SmfFx3gJ0RCc6khAlHlwdMsL7Dvutu1ySTX2ESn4O0O77KablYlnwdRO6o3vnVBOaLfZqbUPHjGXb0RdjFKNdDwLyJBWfKOPotSeTHbB1MaorlTXsymxcxOwY+MZze0YkO3XpE66I2JIGwRt25wte4347MwOu6zu2lT4Fhi+rQj8NLKSWIvFBUpmXY30jFbCEg7INclRJpWSFSstz4IGh306t2UY3cBRqsbOjALGmKmjSqKNMIWoRW5tac4uSYz2NGjPLe9YCYhU28BK9O5l13ds3+sR+uPnhge9/yXiAg2yO95cAAAAASUVORK5CYII=",
         "type": "image",
         "xaxis": "x15",
         "yaxis": "y15"
        },
        {
         "hovertemplate": "x: %{x}<br>y: %{y}<extra></extra>",
         "name": "5",
         "source": "data:image/png;base64,iVBORw0KGgoAAAANSUhEUgAAABwAAAAcCAAAAABXZoBIAAADMElEQVR4XgXBSW8aZwAA0Pk+ZtgGGGPMsMTR4GAMtrGR42AHN2o2d1N6aCpVcdsoB58iVZUaqX+g9y7HHqr0VKk59OK0btKoqtNGobUdEQzYjFkmmGXGQNhmgRnWvge+f15nTddhmJ52Ht3kaRz94hs5ELEZgdCKgK8qdWt2jahIvqeEaqR0AvwpDl6nNhTzYw34eK2M6nN1Cdx5RE/S82OvQrzQV6NtLIb40P7Dus0ccCcO/lX3AzaancxaDVg0WHmfI0/BvYovhQ7auCds8PWOPyvrfqgsfph5cX2reDmNHqOqSqu3wHomLZjmk/3yea+a3zkOfn1mOo/CQSg5NM3oFqrPGimMjdRKus9JxhMPke7GHJwzqGdtm7WYKji5YXnUkLHl3YGvKugsR64d8CWUbHtt2/QJgVv2g08W69ALW+K5fBsyFEpPGcSxmQUH49bnC6KpR3RsdCdMNo2EYxvc67PziKRC2yvC05rWv/8OfqKNA5Wzge55IWv1/wO5VY5iuI9ugZyDaTrMfEUhsdKiD446h28eJWMPjFPFb1mtGsmdbpZd2PqJySC3wc/3lZvkH5dT+MUE10gOLyneNBU9E2+alsUu+uRdMeHudGl7hhGqG5oDVuER7H5wnosv/YXKZdbaculQsl22LEip/MoEmX181/4wVKPXYWfXTQmJpIkaJ0WhpL8YQ23yClYeyc+cTXT8QiFLSb/dGkKjL0EkXAV/N3s4ASRxBBiwqeIC9TeiwzE+64lPj6pXMv3hLH9I5VcRFs4Y1ClyT5DMxvn0XA54vE59e/RTaN8eedmAnG1qwHSrgocI3jV0TEvpola/c+fXa0rh9iXwacGLyHXnlS7fQsx6e0mJ2snD8Ad750VdGnxXZjBCBjmvay2sI/+b3bqaibssepgZ9wL4u/AakarI1bzy4DmudW37WdONWlMkcCEXg3PiRG9swm6Re2r3wckvdnWX2HKPD7iDRv4cXHo5oHBnpXpBXFWX4u4RX9KdFWKd5G0t+BMmy+/1o8VXZ7cl+oUvohoRlCjjzrwmaT6+Ad5e5nhrZ/1Hv9Hyd+MtFjFq9Kzs2F1ivFLxfyjCjKa/PERRAAAAAElFTkSuQmCC",
         "type": "image",
         "xaxis": "x16",
         "yaxis": "y16"
        },
        {
         "hovertemplate": "x: %{x}<br>y: %{y}<extra></extra>",
         "name": "6",
         "source": "data:image/png;base64,iVBORw0KGgoAAAANSUhEUgAAABwAAAAcCAAAAABXZoBIAAADLklEQVR4XgXBXUwadwAAcO5/fzyOO+5APaHAUTgsCsValfkBbGvdEtNm7ZLupVm2pMn61GSve2yy9z3vbdnDli7Zsrh2yVKra1rXFmergjAEJyAK9bzzOI4Pjy+hvx8y+/7b468ekDoGryGCcqvAl4qhtYlW64V94hEgl3fG19zGJL2usRzqv1Ngs0trvDR6w5T3AnAD/zuaQT5enNnLXOBH+M51Q+Y0zUpKe28Q2vrmkOMaTJhsZ7aITEBqxRk0yMu4r+ghAHq0HwFsfYj86fvU5aKfz/mXFmUNmY2CIIpc0xDuNy5xMl2uTFf1aNou0KN/NJhAEmcbkOsyeFky8E5nHIUJrelEr39oLF2JMV33AEA66EGgOzikWRV4K/ntsnkavxQeS1cH2ktPkU8w3cyPX2cuAyFyNzb1w0ifzvIa+dntzJO6c+AD5XDVuHp08uv/Vwu6l5Ml2mGjN79hh6M0loFZilPNvbmGfO++T+aWjPqzNWk6QjYWAHkFHI0mVKlpaA7VPA3xxOHk+/ddkUp23w6ol8BVxJAWYX5S+gsNsvIw+FDq5mxQON1TT05BRZ5rMoPPrhG+6sYLNidxUBvFNJ9baP+MDMGn/1HHsaHWcKW/GNj66FxupxayilWZxVMLMLC97mLN4fjjiz7g0vLauOJ7RWBS3SAWEjDtlESTmNI7u4/6e9I81vI+7dv0p6azKMaB+i8lEgpqOdvGrUwe74BNKuR56E3Q6bHz8MwyePF1sG34sioYhPmWo5YhdpNcF24aqwlAXerEuTR5KheCqfd2D4v7Xk/xvHHF5GWFMNCpXbrp0HsE/2/q9ujNcYLLLrBaqqA/rHShwo/0b60Hy/a2cBumqv+KpcqTCS3uUK1gEcjkSnbSCCzYs3Dk1W29VerhlLh984xDileReTcKLph/t6pHA0Jo6rmWUnfyJkN+8vhgDABU22jvRgN8zw+457XhuIKFPmOI2YaOgj7Q86BTaC75dnb9euFWxorU/9nYMtOwg7H1EvIFDpiY025qvEnc2WX68BiT9EJeq5TubBwAkbZJZrH8eCXcTqAPDv5UND1+nEBng3s9zTtOpnHQzdzCDAAAAABJRU5ErkJggg==",
         "type": "image",
         "xaxis": "x17",
         "yaxis": "y17"
        },
        {
         "hovertemplate": "x: %{x}<br>y: %{y}<extra></extra>",
         "name": "7",
         "source": "data:image/png;base64,iVBORw0KGgoAAAANSUhEUgAAABwAAAAcCAAAAABXZoBIAAADLklEQVR4XgXBS2/bdAAAcP//SxondtwkTpymdZzG2ZKSNFs2+lzZ1nXjgCgdY0LwAZg4MnHhgMSFb4DEQ5PgxITKDhwqdTzUsgoKfazdUght00RtF+fl2LFTx47zNL8f+Lju7LgzaLebtrHRTUqmD4gUE8oJgifOm4hTdWjFo7Jrnmrfr3Iq4Mm+h9vK7jFZbvLwkAj4wmbdgdO3hPC7tki2Z2xJ9pNyzsiy4NOnoTKG94qWKe6kTXp3zTTpWw3x+WCLPAYfWerQaNfuPyr1A1IRzXSxf/vejngh2PRvwMjmiEsg4r9MB66YHS0GWzZ1I8XGZDTTPuDA/XOKxP4b6mkRkbxeNPLPQ9YkPryK3vyjegO8lfh5tq7gASpoXSw7b5UNaaDx33nrtz43tgYePtcwo3wh8YKEEsem73LOf0TGv2JjlfQ1019HMUfqNUH9PXqm6d3CWtKr0U5jdFHuAyLMsd7dMfxwa9w1677hnOFeLQ6TWCeJOONANCUuPiQVk5svzD/1S4FD/yh6uab+FJqudFwS+KQgzGm5Mxdjyt/bKQ6JMshQ5kv0lxXyjQws6T6lQoN2e2xOHXbHaSgPEKX039qCZZkCdx01ukV4kqg+INxeeh21fe/FVLTggY7fXHCqPHiV3u8ilFzl10++sWMfepuW5ithrhdDTNYh2w+5iLStqf1kKUQ8ZlnO1Sr96Qi2OTt4UG4jnrlFUpcWSi/NKNpjGihP4OtkDq9D2kvVYXZcpdpnW5XaoNJcEhfqxSdOY2rYCpcYdVrR8zxvSzqv3Tk4aUV39il9hkaXCzj4WnrW72K3XU2Tm+8Z9nPHiCUwsrPn50eP/HBX0hiNlhmaqSmSO5+ebVtbqTtASoQ7fpNPRajCenzi8zCsBdNk7JlozFu+S7jgyuUCmCf0Hj7+4jwy8tVgKqK9/TiRCWFCF2xEYQ62oI+qr+5LFeGz4Bfg9v4D/zuqjcCQi0mHDmnYPZpsTGLp6pO93PuR6ObEKsifdcycry8KPvApI4+u71LI2kQMl5NX1fQV6VSfeZkNKgqsSsd7b54uxJDwJWHjRzeS7wMNmluxB5iK8j+xJX6b1F5EaAAAAABJRU5ErkJggg==",
         "type": "image",
         "xaxis": "x18",
         "yaxis": "y18"
        },
        {
         "hovertemplate": "x: %{x}<br>y: %{y}<extra></extra>",
         "name": "8",
         "source": "data:image/png;base64,iVBORw0KGgoAAAANSUhEUgAAABwAAAAcCAAAAABXZoBIAAADLUlEQVR4XgXB33PSdgAAcL7fhAQIBEL4kfBrocX+Ziiuda22PdzdNnvb9HQP2+70bmdvr7vd+bKn/R3zZY/zYXq3Bzd1m07WWm2x1rZAqNASKJACIhTKjwSSfT5gue4wnKQ4f2a+GGfbuPrSzrTL/fG0reMoQWziOOVy4QCJPn6HbbkzHP2hx4FlLxLjxmcQ95jI52xr8y/5wvTGotw4J688cVLMQyXr/hZ8R+F0KUVpJRUdK6mmXYBanOg7JPCYtJmhJ7ZPKVbO90mzUPwYioi2HBXagrrt0PG/gisUP2nQbDoXYhog24IFpTbVeZtD4nrNggonR4f3LGsZ63Pj/geBJcU7N+U59i0HlrQzCgNbGvZSpXyLtP+7ZK8L0Vq0utoh77mZkbsnMXAzuEkgQDyay/zys0G8P2wfCLhXC3dxJmuA70tDvUpxdu/lyE/eTnzR1FNcmNf2dDPitQ6jaR2rKu+VtCe49c0Ld/JweU0c4S2XDzLNU2fABX2fGdAgPfXRUQekpYFOsbzVVX0Jn5qwwotXMRCp1gqYtgkfrfsufe/UCzLxJIeVIkNwo947/NsxHzJKRez6lw5/foxy+daxhVjoRRAswyL0UX1FpXXjr8/+dtZ2UAs8yIcoUOriYNoeFKrm8jetsO6hJkVLDMnxLWf7XrDqGaARVW7ZDbWtfpqTEE/9zqc//qHfLlTIiR35PMzfL3ZFsuqXtYhzNU7e5hKjDNRovUjiYBXc0JCiuTInIpKAz8bbk9vX2NvGtski1MMC5NrGjofK8iQxQf7jrvU4ttLYcjd6O7Cag1klRueTmNO8okOHEv5R6+vVM/0Ey2tYXQj8QDSsG2ZxxFqV0H6IsB/z62FiT+n79Wtfw0yXT7LIfHd64NuJfCHtplpko6BWJxKyyYCOpRazXC6ZZELMQH6QXhkiw0XdqWdCc6u+ArsGPgnJ82HJyDx1ycS5mblHLPPKifHaaQrcAjVFstRPFKIbbJL8KL3+5mamS4uSYcBC5eCwdzrAHn32+SCB7xH70f9ssJzfkNHf8TS4Ml7233Vhl9ON2TtfgV3Pn3QNDeRmWofbpwP/A7KTdy7TSHNsAAAAAElFTkSuQmCC",
         "type": "image",
         "xaxis": "x19",
         "yaxis": "y19"
        },
        {
         "hovertemplate": "x: %{x}<br>y: %{y}<extra></extra>",
         "name": "9",
         "source": "data:image/png;base64,iVBORw0KGgoAAAANSUhEUgAAABwAAAAcCAAAAABXZoBIAAADN0lEQVR4XgEsA9P8AWz18+t0vu/6FeXjXNTyIrIOVNQL8vgIR6Y5yiQC7ALnALfLB93w3F797k4UTTYTFxUR9/3hSvIu6QQD/AJU9vIEFutlrjw4lg4FDt/g/yHtL/fAHiARAvY6+db2/+4fO8gc48YXJgL5Ghfy2hWtLwQotfYBUAnvNOj0PuYCW6fzDhk0fmWHMPsV7xMCEc4qOAE8FSq8IDHiAkvnFfsP7vfcRcfhBwIdzRnq20DHAg8b5QkL9A8Z6C0A76Hi2lfs8Dr9yOoRAOE70O8EMOkiLMP9B+HGBrE7MrH5/A8/8ehM0QLkGdcw+QKrysOOHB5AxS3kOgL4IyLxPe8G+ijyDDnyJtzeAU0V6zIK+s1AuvYR7zIfzi3eSczYABUh9eQa5RgC9AYUwQEK/ckkS/gf3OEb9jjkHx8C+/K4+dX6vAId1+8E1/8a/MXI9vY43hwFyek2KvcC/yUOGAQuBBTrEAMd0CvvHgog6e80AEHwAa5r8NUDBBboCPwBNCn6EwDu+yvr+irOQu7fL/rWFAsE+PAGDuKlbQJDzfQC7MgLyxD06P3IttuX+QPxHUAAzdvf9FjmBM4oFBEdD+MZ/PDpCRkeIRnaCC4k4NxBzQgjxiECDji19eruYfMXHQA+6RLLkb3n/8bTWej4/a0oCwIn3UjnDCLAC/Tf6eAd0CwDcjgU7uls/xj2SBDwAs39DRC66/kJzj5B8/4z23/uAP5VIS4RF/6+++UCTwINFhwV+PQQJP0t9iZIIRYS+Xz0D/Lw/Dbe/gIdE/fJPOVmHSvcLBNDzt3m5fPCDuQRHQUB3+7+AV5Axx/LJScG5hzXONYaBrcW/+YQ9wHyEP82zNgCFLpHsz2+6P4P6xT/H/e4Gb79KicKExXgJLgq1AFiPLcS6SAd4TEtvtT7DwkAA+oOA9gtMcow0txeAX/R8TndBAXX0k4OBiQN3QLUHQDuEwflIjS14/cEEwAbAO8UxS0lGibfwTLlD/sIC/P44k+w/vZh+wLT8ALtGPMZ/uzzwfwQ3AIFSPEnENkivBbvIOvoAiAyDgXqAxwA/xY7AioNQ/jh9YfkSt0m/w3w3SDTu4Ty1s+1RQAAAABJRU5ErkJggg==",
         "type": "image",
         "xaxis": "x20",
         "yaxis": "y20"
        },
        {
         "hovertemplate": "x: %{x}<br>y: %{y}<extra></extra>",
         "name": "10",
         "source": "data:image/png;base64,iVBORw0KGgoAAAANSUhEUgAAABwAAAAcCAAAAABXZoBIAAADM0lEQVR4XgXB308adwAAcO7LAccv4fhxIKcgKPLjmFac2s7WTmenNF3bNHXJkj0sfelLH/aw/QP7H/bebskeljWpSzaXprTLkNWmWERQsScgWn7dAR6Hxwl3QD8f6BGFH8xoX22uRbyREB5edkqeDFrPNWhsjjPC7M2z3Afhmhe+MtSLcfdLG3ZQxgMvNUttqwLUHpOfCKaTPlYmFQ/R1sV/p192bPTCTcpzGoW+s6SmUm23k7HQaYYQydHIlE/QSPYmDoYq8EQxSBtncwWoIiB+I9JBPEk50Ar8XnlEhCnkvbVwcqJut0sWPck7HGYfsvvv4ng+8BoHIhAlV1V2PM65G2miphkZVE4urHoT8n04CKCmi6/oooVbWA53OkLqBNx7qv0WyxiH+jVwQ+A52ZuZC9mszHrtHBp204vaX8LMHcmZOgx9LzMXi7btZdKl60qDPFfs5iqrxotqOeHtgT0r0ysha4XVK+0m3d9vOqW+NXqvkI3NSxtAT6f7MuZ3rJiyaxMMddQ65KHArnAJLTnDAOe62VD8TumYhQOXzSzdBOxp9dJFBHFtO0Ad8awW7T1PfkRXG/iNeJHFtcqBV5QFe2K8DmxPoy87x5lNQsyZ0el1b2h/+o/skitc/KZCQ/eGd9zyUvNzEoNGV/4pq5SH74lqys+aW/YcaGwvg2xv/k95RsKvc3ettFatfqubndly7ZyDMUMMM/eyWo/DKN7Qh7Ot6kL6qkl45twVC8COBtVK1IfI5uPcD66hJWrlLx7VVAn0+sgK9DhRMosx/2cHt1JcIv/j0diOhj1Gq/XAoagHtQ5pGr/NDH8dfX50pic5v5jfHqO8KqbjMMDR3lx7PXA7ok3PvVt8gXd/BoZiHTG4NFBDAzzT/7+e7OSlbx9UBlIuTqdWnPczINlmCdMubMtNJVHzV5StEMoY96Wmhv25Ea5UPZgO/gKaEy1djpgX1MnR+KftqV9trPuNuY9m6j62Bk+CD8ee0RQrU1gnmWSSy3UghYHKVPwboQz0U3xCtwMDVROV85xdtTnel9QHm4P6jcysCAUuy/NYdZoi+4oAv6XsEi0w/uy+sBX6O+j8CLIVhkq74PP+AAAAAElFTkSuQmCC",
         "type": "image",
         "xaxis": "x",
         "yaxis": "y"
        },
        {
         "hovertemplate": "x: %{x}<br>y: %{y}<extra></extra>",
         "name": "11",
         "source": "data:image/png;base64,iVBORw0KGgoAAAANSUhEUgAAABwAAAAcCAAAAABXZoBIAAADN0lEQVR4XgEsA9P8AXDuDR3CLgHp9uMhTcIY9LdFA+/TITLMHOLuMDYBaOga/ja36wYi5jn7BNIFI+UZ2uQdByTLGyjW0wLtTCnY9fsoGCT43/wL6wP19QIiBSsNxgss1iYiAiT/0wzVBPE30EYa3J0hMOkWC9wY5OYIJOj+yN4BhPD8/iHbzzH+FuL/GNsr9Rnx8wnmLtEJA/v+JALo0RwT0xkdyuT10vnGAPf8Ee7l6Aru/wbp8hTeBOczEdXyN/bnAB9h/7QY8BTuUNkO4NgS6TbW+AQCBgDX7Sidsj4tzP/BOSljSPsOHvgd7P7v2UH+DwFw8QUV2N0/E+jEHBYj8iXv8RcQGPfl0BMI5hCfAg3lHtUVHPfT/gxIPjMQI/sH36UG+u9Z4vIM/HEEzfjL/QcQ6gELMQQWJ+6v+vvl69D427Ud798CIQQj/Bvc3CcOCNwKJ8bDySgL+DH44vHvKu1JA+0BBAUH89o6/9gDORPZ9rxACN9GD+X89BbOH8sU1REBV9cxB90lBAZCkjwI8f41/irSAurTAuH2J+M1+QIOUgbl6RoHIepb8hg7N9rpB/e/ryXsJkQEHeXmAhnOMyQeuQayAeokz9ChzvK5+vw6uwhO5AI05P8C+ASb9DX59lCs3MUkyxoSHTHt3OMDGqgUD8dJDgIeQSUM6ksBqQv12Cg6C1v/svPT2vrn+NcB6+wrAsPdKPj02P0lsCU9pgkz9d4X7FQp+zj/FBEG59UC9e7W2wsVEdN/1/QP/AbmD9D98Aj31Tri0wgX8wIJ6vUQFtXmJeD5ACkO6bjX6i3z/w0OvELrBvjzAu4oFDn6dSrTFlYa3yquCvU4uA0IEtQorR050UcC6v7w2NXc4j3UAWT7ui0A/O0g5es5/980CL09AQQXMukgC87tNTTotvsd/v/+7sRC5OYr9xygSO+9AkTc+7sFFRP0x/7oRuMT3/73dgAQ4SYEx+cm+ykC2887FwMCCfFOFRTM0fEJCivrISzY+QncWPEXNwFgHLjZk8ruLObyCBYXyAnjQdLcNgkR6CnU4wr5BObiOSbl4fzN+DYE7Paydhfe/FLW7BH8vxoF4/63bpliYsJIWAAAAABJRU5ErkJggg==",
         "type": "image",
         "xaxis": "x2",
         "yaxis": "y2"
        },
        {
         "hovertemplate": "x: %{x}<br>y: %{y}<extra></extra>",
         "name": "12",
         "source": "data:image/png;base64,iVBORw0KGgoAAAANSUhEUgAAABwAAAAcCAAAAABXZoBIAAADI0lEQVR4XgXBS1ATZwAA4Px/dpNdNsnmRcibJBAiEUqMNSiggLY4YznV3nrouZ2xF3vuvTM999Zpp0cv1VHGTopFRYOdagSBmATyIprNY0nY3ew7j34fWJ7O8isuDffSc+vx1GtSK3FwMJz07ZkGqIAAZa6XFwWw8Kzh4Emd1P14zUAjL2YEjmzC66b3xDWxL29uvXKLVZpZnms3x1rm9H+7XARaKlz7TdUHr/yofb53076cI4jOcIcfixpqJvjXyddHnHPfo35ge1h+iIQduYn2WhfL2ebvwVO3tMbV48bnotW8mJv1Vd8Kh1I5MrrKhldgUJtVFgJI+sI5vw0BhzrPOFYHQXmD0f9RhHCS3X4RIJggqe9kpvqUVPrWRXEjS5t4BIVkd2EFxcpzzRR20I3ewSnfb5d7TUn7CdZPQbid5iS2qIoXql+ArYM9quO8R2iVWiVe0UHlhzNmvAH8y/WnuyMuJIJWmjavQU14xZ4H/JwujTIOB9HERFeo35V0GTdCHvT4CGvbgillMaxeuWTjYVuT5ILfvTJs0WdQmGjQm1/BGOqtxYsP3yEZrXyKwjtmy3xQfRujpvD5ISyyew6V1ZmtehQ7v1gJ+gP7LB4iGNky3ABfMrOBQ2MJGI0YHnZ3Wg/wAG0x/hMRZ0oq0r77S9/GLcHuIM3VxdUdjY0aRQ4+U1LTMolc/Nux9HKsVDxbb7nXJWhPFHwZvanQ8HqOCagvFR9p3gmRYM4Mhh/QB3+SVaP/yX7A+LtbBt+faDgTQrz3CRY6auk14skJyizB8L8UOwvhmn988gwk8LrLuhhz0r/aEBcARIaZmiDhRuHT42Q0pNov7XzjP1JuL42LeN5a9oqFWgfcLcQGeFkze5Sfz8QjoDySbH9ePp9t0YmWDpEM/VbH6X0EVh/OFD29ir4WShdBTOHf3H4Cfkp62TnRnkOGfDZqiqacCIWaj+lz9TBnhx+nR7rUZFKrDJw3sELKK+stgmWMQGN9vgJ9zdO4YzPRtFpbx/JqoKDPC/x9e2xbhJfrcPcqaxd7aatp36qGsqWLiEy2mFptPX1C+P4HyRyC+g/0XVoAAAAASUVORK5CYII=",
         "type": "image",
         "xaxis": "x3",
         "yaxis": "y3"
        },
        {
         "hovertemplate": "x: %{x}<br>y: %{y}<extra></extra>",
         "name": "13",
         "source": "data:image/png;base64,iVBORw0KGgoAAAANSUhEUgAAABwAAAAcCAAAAABXZoBIAAADKklEQVR4XgXBWU/bdgAAcPsfJ45z2blvcpCEAEkKDQFSMY3CxLSu1R4qMU1Vt36FSnuutC+xaQ97Wl9W7aFsmtQhRFvWToOUlkJaQgrkcAhuDhs7sZPg2N7vB9+XfR8EE2WIbOlCsCS2EgJXdIYVVjM0t4Batem3OzFaZLPvcAeNDC4hFM8NxglL43PQ49z/Ho5BRO6L/KKul9T2j+Wvm3rbq+Jv8j58Z2izqspc7O+U+6+r6D9zGjMFRRs1JFAREgBS6dbPzpONVAq7iaSmIoHdDP1YgS0UMmuG7wEhRE5Dljc90SRKpN3RIBZetOYeL6nWcWBDLk5vhK3pT32ipiwE5h2ium9108TxRYyHV7UmjePL89Z2jBFGIw+N0OB4otN1W5oKxiJpjpa5o8rQ3JGNh+1l3/Y16WXexVNBFmkh/GkJ80hTR93SAifFz+oelkTHTszkjAHqwffamZzOdHH1SVinyHzcLUDhHxbqKBnbObEDmzpn0OxLj5bAm0vnaGbCb1v3wqv6bwbLM0ugVddU0mN+8zOwuOh1PX/r6rYZ6IVx04Gly2A4hs2/GmmvaIcCb5rQ+9Z+terbh9V0jeeDiIFiUeWt9RenWBv449fqI1Ym4iXFEqXESKSfZC5ZJIHM/WigDtjbueuG4+yDqFjWwkwe9tyq3d7Tvsdt0E5Y14UbKwSINtY8H93qqh1cqSXfEwWCeTlvZ3BPYvmnakvOhcatTUnUAEhCSJcJxVc3HHeCvmIvxJIVVn7UCEPZfcSEA7xoKcz//K1TfjaEmguePe8kLva3rLUZ8Ml5A35dBwffZ5Qir+rEsd/vdpf6I0wq3qkj6rlT1fTTK9rXEppoVsdVxHX4aEcuoCULZwcDF8xbvpKTuqfYzuStaa9u5c9gUzBgeJMS4M/8xVkeNRbM7t37J6HLvL3bwx4GxGZW33kHfycJaszIDMwVlTdt51iCpDhdkLvwGtamEK9l4y5NP7G7snuVepRXNGIUFOjaKFHOdECvMNk6UFZmA+iNru9wqM2PV/djm66z/1z+ItD2+C0XXcSflx5IbKQ07P6BeJzBXc6/vZH8Hwaqe7GIE7ztAAAAAElFTkSuQmCC",
         "type": "image",
         "xaxis": "x4",
         "yaxis": "y4"
        },
        {
         "hovertemplate": "x: %{x}<br>y: %{y}<extra></extra>",
         "name": "14",
         "source": "data:image/png;base64,iVBORw0KGgoAAAANSUhEUgAAABwAAAAcCAAAAABXZoBIAAADKklEQVR4XgXB+08adwAAcO7LnXcH8jjAuxNEHsIEX1AWxXV1TbVZt5hlS5N2PzRt9tOSJf1xv+1v2JL9Bdt+W5r90L2SvXS2ytSigCIeoM46kYPjDcId3GufD/SRkWAo4tqbImFe5hew3Iunz+yIyHjCeRksox13YOii8aa1dGIO/ppsOnYXNOdjJl9RbAIOofA12XJ4yOF9LuH7x8/bz8IoSTRdLR40pCujN+3vzxRIi4bYca9TPSIbzsvX39Pvg812BC15U9F8T6GWHV8MlqIaD52F1Jw9UYXvThyUVLsIGT9tK8tY8fM0I8YLd/4MeWbjECjuEYG5HOR6Lxne3DTpkgM38kF09ElL6Wq7cGRDHrdll8r6xrZlreNjxh5idU/GZ5h47RNhA2p2xcJlb8b5QiF16skgvQB9KffNrSCSBb8Ra6ecmH6wwofUWb57L5o+4h2K1MIzMQwY+8tpJef4+rwXj2xjRPtgGlS4u2cmSQynAe7W3/TPY8eaKRaQvYRnzuH9Y3rt43JhRYyAhvl5gkyWbcLLxTIaxs8Rc/kmGuphru9SJTjEvEN3JGtiTPBWdIZVlI9det84/cU5KUgu0DYC7opt3j/XRugFB8FW+/7C1e0R97fuo3+hH7bQeiBTUeefr1BTP8p6We76kEfMPpQiJ8GBWrDqTIuogu8yGyO1mRx+yVV+flV4PTfcA9rhMsKOnho6tKlTUomtt6uOUTfd3Ddv5S8AJ9gQFSeOuyoOVzdci7Ebj+l67O8prcxZgSFLZorFeGBb/XDDssq8imTaIYM+SO69+5SFPrGXA0AQhlSG9ZhExBTsVWReoH6fP9qZhhmsrDsJ3zo2VO/R9Q6vldAiaw7vUhI9NQ59lbye1UKYGXfG1IkGT7xEpW7P0qk5/XE32CcV6fC2MuCeUYZvbIc/MbqjrnlVQvQM1oE+G7DB/t5If9Szqz5aF5wl3nbphJPzrbE2A4YFj7Y2MWk7S0ddeXlG9A4RRm7g53c62BLw67rj7Fttim622IJmJ7VuHBawSRW+1e4BOFsbv7L+1brh9gP6wjsUvazjyn+m1nVTeVD7H3JjjL377Jo2AAAAAElFTkSuQmCC",
         "type": "image",
         "xaxis": "x5",
         "yaxis": "y5"
        },
        {
         "hovertemplate": "x: %{x}<br>y: %{y}<extra></extra>",
         "name": "15",
         "source": "data:image/png;base64,iVBORw0KGgoAAAANSUhEUgAAABwAAAAcCAAAAABXZoBIAAADLElEQVR4XgXBXWwadQAA8P/9uTuO8nl87aBwlLHSWtrSlWrpd2uf1lQbM5+M+mJ8MdEnn40vxid9NT66ROPHTJyarUvdGm3Rsq2D68ZyMlpYKAcIB3fH13EFzt8P+aSOJt69Fe4PFr+czK78vir9+ZqIOSD3xId44OBMHS1sASL/UdTbLk3wCs6RwsHtRkixlZFr/mjhmSZynw+l1y0S0MiYP2ncs2Ku3FgdzjiOj1fL+/i12ob+cS/5gqv+VSrg2KzakqtQ6vF40jfHCbO/dpF9x0xh+op+3Cr+jAToENQxyjBFG1sleXv3TEN82s4Q5HfOFRs7QDEo5fXFpFIZa2SFDetc66XZD3inV5MbMUiCDN3zlYqav1nSmpRdmD9ZHPp+/2T9kD6rryVsUPibCAJ+zrlZt7jcxk2tpdJHk5cOzdaUmkaj3YcdMsCBSutAlM2ortuNxiamFHb57qt15PPaFbJxVJzOIk7zkeZia/u9HV5J4/6flmETrdkf6XBFG6NVQ5IWrzrja4pg7hJ3PlT7e9D8oLKNgjbapgz29ngE6PMniIbcmbz7Q1mPZhXpa4zqVk0uBgeO82qmMuLd9Zwu39vGaOgbvxSm0wl7/SGQXYfNAWzFnXyqvLdTE0sQMJryk9A7KIRg6GzdrlD91fjKK3A4d3pDgUUf1Xm5h59PeunqfNwnlGz3aKNDZX0w0ESu1ydaPXa5ZTwPP1oyek4B32H+IwktFuEIVF35xb7woCgXwzXTt58Zjv/1WzeLqNQ3MJYWDIwvDb2wLHSEmDjYEgK1CIXf6hxUCGIU6UA9Y5x2myXldff1MStxY716X3HIl4H5TkrxwyLG5suzhWEu+A1CWKs3mV5KHvZauiPk4ym07tV0kIxpNPVUm33jHK1GO2FOpZRBBINx6Gq4JPAW8xtrXCNYNvPxwMyCpX+ajbIEFJjxPLcE/3gb8blzG4eE+CMKRM8X0IB0npE66GPfvOBHxBClH7p9eW+e1BHkU0fMftGWEg64EEss4qyYn2EaprQbzUEqjU5tsLqJoOsIfvV+Xu6ZuKuFGRdub4JgQbI/v8DBfrbYs/0PWI98uFx/zHIAAAAASUVORK5CYII=",
         "type": "image",
         "xaxis": "x6",
         "yaxis": "y6"
        },
        {
         "hovertemplate": "x: %{x}<br>y: %{y}<extra></extra>",
         "name": "16",
         "source": "data:image/png;base64,iVBORw0KGgoAAAANSUhEUgAAABwAAAAcCAAAAABXZoBIAAADN0lEQVR4XgEsA9P8AXEY8d3/ylrjJwC+JgUICq4eCggu0/8J8DHICwgC9twNCCg4wRHYvEDSDNzYalD5APHx+QY+/0cB8AInHNQ53fJcHh89py7cKjXp5Djx+zviIM70iSH/ArcO9fUCF8X90r9B+vMPB+n3tP4pujLlJQNI+U0BVEbsvlDuyzD58/z5B/Dsa5tBDtQN/SfQ9u8WBwIlrPsOF98j7/BN+hMPViz3gPvT8QLKCAb89RL+AUMr2vcLFCP6N85ZvwQmzxUK3PX4w1CbVgfcQMcCDxQgKwbZ+eDuDcoQ1eoHA+8AH98i/ybguR275gIH9CQaFhzsGQ/4KgpG2wX75gX/4fqk+NkQrRxBAvqy9OT+4wXJ094V2ekmDjURFfQ8NjjbGQBb298CKhb38yUjAS8IOXwHstoPjP749ta6KDIY+wIgLwK/4tYUxkLh8d0cJuUVCAAhEBwu6vbL+eY70eWaAZMQud4YGvvoCNY1/AcqCQkP6vnJFtj3UZ4XBfoCy9r0axUlyvgeQgAeIBba9NjescnQXSPS8DgAHQFoDecVyUDlEtEs42rcFv3P+N0MLuoXAfzmDOf/AugXKt4r/fztLbYP4CP6AzT0Wdv4GaPSCQ+r7RcBe9kMGAIC9dUIHRr7JRUGxP/59tgZH8RA/t8sCAIGKQEH2AnmAe3nNDn/E9XRvdoc+wYAGBHOLsfRAvbd+Mny+BIRM0T2ojvA0foXHrT/NQMQuu7BD+kC9CD9HxfktwRD9gtH3wP+99raJxy1CAJFERkCJQQU+wvlP8NP3J9C/eUGKcswCSfxKM8LKBkZBfkGAtjtCAWoMNH+NQOy/BADYAkuOizo9C3pnQvm7OICERPzLIfmBvz6/FIZtO4G+xjPCg5GzQEYHDPx4AThBQ/sqTsGyC6HYw1imvhV5h274er9Scbz5+QRAWEi1wwD+SDT2iYSxUEl3uQc2i3t2QAv4hLnLOUEEswAD/j+2DQp+tE1/vTzDv5Q7MpO2PcOChgLBwLWFCQZVuXpp/YQHP3s2RQYvtDnIssvAAYK2fcgAhLO2vi6AidVCtES6P//8Mgt/R0W7d8YFOZPsdnHkoX5lc/bowAAAABJRU5ErkJggg==",
         "type": "image",
         "xaxis": "x7",
         "yaxis": "y7"
        },
        {
         "hovertemplate": "x: %{x}<br>y: %{y}<extra></extra>",
         "name": "17",
         "source": "data:image/png;base64,iVBORw0KGgoAAAANSUhEUgAAABwAAAAcCAAAAABXZoBIAAADK0lEQVR4XgXB3U8aBwAA8PsC7gD59DiPb5AeUbRWLVO7Rka/1qxNu2RtTF/22mQP+w+aPvepS/bcbdnbkiV92ZqZxc5WO6f4ScGCoAIeJ9wd53l8Csfdfj9wMkpyrKuPFBZeEp7Vm2Txz+8TjLs2tjuo8UJPreUWj/s6bHKmSD765bj6nOlrFXRodCQiI1qhRE4wqpF7N/nlnrKg6REpu60Ilj7BFAvGYcymdPCSOVREhGs1529R5N8vdDRgdC9moShLWdBLslF4D+qY5faaJjQ+maj4u6a2fQFaNSUU4SDS+rbuwRRvXaEIiJ07GNC8OfMawcdm3tan6IvjcDh3FDsPiw2fhHCa0xwEuiHfg1k1nudF1rJdtdaMPofu5yI3V/lH7wlvQdVNmspf2GduL8bVYA3Vml2RnqGAShFcdYM/ZrbiPGI5JHX5UGWM3DvyhKrTEieSb10qVKgrOO498QL5+SjVSbMu/65uHzd3EkG6ClWbs6tNRgScsqwPT2TlwJk/aM6l9wja7ITGKmqkq40OJse1p2d/XwqUsPe7qIjYcy59Fynd47KmyollBMUYKBsqaTgsznZr7BTooSFsX0/306EecaWdErSU42N78M1FOugCVjYYiId5RyXajDD9t4ZJ+zvhYeFr/GL+tXXksrUAOYysA+KmWt8dDRkyTvd04slpLMU9EQsGKQj+8BHOmEZQT6722j9MHgD3m3UHv07ieM7dgdaUlqNLRnC+Hptxprynqc8JdjGA1td94K/go5vHrvLwgYJIONBU49LoxtmrB/J2/LA4q0M+te+oibu6w5WYThxXq6ypsTfcvCvBOybRAL5Iwp1A8yqa+OaPCYIhaO+SAA8sPV4O2VrbENsszDHHDEtlptS1raPNV5LFU6IUvXV11ArO+q9mBp3MjfxEbaVt3j53OdQOpqmnP0uSVvCZqM1PN8CyakDsJ3BvfhFp31DyO7ct7TSCVLEPkd9tA1G21ejBXmZHuK7flOSA8T+Cvwf9Vb6VnQldXo/6r3SXakl56IMgwMMWQd2fBsCvbv30dEOSza3idax8rdI4z4WdywTdAmJA6X96yYmh3Ndo6AAAAABJRU5ErkJggg==",
         "type": "image",
         "xaxis": "x8",
         "yaxis": "y8"
        },
        {
         "hovertemplate": "x: %{x}<br>y: %{y}<extra></extra>",
         "name": "18",
         "source": "data:image/png;base64,iVBORw0KGgoAAAANSUhEUgAAABwAAAAcCAAAAABXZoBIAAADJElEQVR4XgXB+1PadgAA8OSbQAIEIkFegnBgFcHiLKVq0VXt1mvdtL1zvV7v9svuetfdft1v+zf2d9TeXnVnzz48zxXF1irUJyBqKeERHkkIISFknw/8oxjblFxI23Ai3cxuzjbdlb5OnTGbPbhcAqwj5YVkDLoqSxwxCxdcWNZjCg4XGPkjDZQ8995FYAh/HUheHp8/pA7TGtZM0mm9B/79VNKeYNXewRxW9/fvRbZLgTgaZm1d0dcCyktl1zQ6O8hZIzRzJLcGWtUf5jp+D+t9xoDSvcePNLRaSZcv8A5MIWf9ZMLelAjP2sMk+Bs52XCO5m+ic9mhs1F72dytOWrk+uvigvoTGs4oEAXgVpSbathl3fjO/FFnZXJa6CK7QeCknMOHHx1/6Sr4Y467QmbOY8KDkRNR2a86UYuQGlLMUg88VUyU/fFMvwEob13Gvu1p1QaaDJnXHqRCLLv8undfS6YzK8vYDZCfkrs8/Nsp6v7gg0yCjQkypU/GoerkfkbV+o+93S0ADKrayVbOsVf8uyJmKUPfJeHF8Vv6ua/kKPhCIXm9GAT4mJNMvfGPEOlI+209iRTjNgZtCKUBWQwq/yE8NGBD/I9W15lF5f1QVndQRq9XjD7r0dmHX14FAi9U1fciICzHZ+hEwWQl4Sc3yqcMO19XyzoZ5A0///vZIGqqdzcQE+IHPdXGNfdCq6hXcuinyMRabQZCmgSNVgpcGVi7yaN7xXWI7ffARn8v7rygWKNpT4FAjwI/rI/kL126jj4Xc6zeVs4kwsnV0D6peoGX0OFL+mqY+0IsPjdeZme8uXrjHWqJlhjePsjA9zHB5Gm6PwNMuz05vqNmvi68CeB7PpoQKBCmltD4AR3e0Slj0CqZlGP/jLFoCGqMB+wgcVDIexz8H7++rKJiLh91Ln9jabiF7NI6fAiu+FLfihht2muIBN9uPrdtSMfWLXVhBc/dB53p2Ja7O5arUfYgPgHdSUe2swgl/BmKPtCgofP2NctAjbD0gYqC6TafPiN6lPL3u3y6rYOXCM2t5FoghPJdV4f27HZEzMc4IO54Akn8Dz5ni3hd78wWAAAAAElFTkSuQmCC",
         "type": "image",
         "xaxis": "x9",
         "yaxis": "y9"
        },
        {
         "hovertemplate": "x: %{x}<br>y: %{y}<extra></extra>",
         "name": "19",
         "source": "data:image/png;base64,iVBORw0KGgoAAAANSUhEUgAAABwAAAAcCAAAAABXZoBIAAADLElEQVR4XgXBy2/adgAA4Px+GLCxY2LeEGIT3JIQaBolWUJKu3VNpRzWSl21HipNk6ppD2mXadr+it123HHS1EpbpU2KVFXttKprHoRkCQ1dCDhAAIN5gw0BYx77PvC1K6Hb61tIU2h559PEVd4ucTXTVAMNXYmJ4KHMGjhaiQNEchILL4KJFv1yVVfcd5kACc3XQ6XVaD+nJVgRe1U47cZblz3RFtaxMBwicMu7cI9c0PaNka7as3PNui8XZor0IMxawQagMDBQXRRuT1eyPbYQ3PWJSkR/EbtdLELhJm4zVy5Q1pqOOsl1oOkhgY4npbfXRynwZdz3Tvgi7GsQ/pjGXAqmVe0q0w7P/RzU96AO/W+BeaIuz9pzc+n38V/f/M6xXJwYBuiMCnxrzPbTbn6lffpJ/SnlRcvVKaXcIBWzMC9AJK9hNiSzB/8+kQy2N9OSv7dNMJgp50NJxCgqlS3l0dajt+HVLnaz447Wp65XU6AvNJogcJVoMEfDxRkuT5RtR4LPm8Gz46OcJ7ksIbj6BANVhpzPf3TmRsShPmUs+/78YO6ZBkch2rh1lByptNHJ0d00Y703QWgx+3K16vr85Wtw334hVe6VPdKts4iujHvNhzhWOl1/Pax3L0EXP8u7Y5HwzNsD0zlLPM5s852Kx0/TNpsB7q/3P6PiDPV02/bE8qrRy98YxDe6ocAzrUFAJuV3NHNGmYkT4zftZo2Aubwqu5SLLoooDseiRPbFMBGO02f9xtqRPkJVMWIPyXOu4z6cLLUs7vOR2BvzDHv4D9XuxIdL+IYFh3+spcBXwyHAR+l2NvAgO344ryjM2MmESvc3lFkDrEPZ8dck21yjfnEW7sL37M78ipES081a7QDM3Rkp3k2Wlz7edK0ct9eaDIWJP8kHjodbLPjxX24WyrwH2g272w+QwJA/doToG+Rv0+dd5M2ViCmDMK54UXAXjCGNLJZktWkHt2kQI7ysulOXC1DLjorgWhI+H0uQUSb1+Hkxd1gC3zVqfqmDMYOtATCNxwbdRdF54K8zzZaCQtuK95/WdD6ZcdQ6lHrcZ0VkdIl3qFU9PfgfO6WEZ3QRb8kAAAAASUVORK5CYII=",
         "type": "image",
         "xaxis": "x10",
         "yaxis": "y10"
        }
       ],
       "layout": {
        "annotations": [
         {
          "font": {},
          "showarrow": false,
          "text": "facet_col=10",
          "x": 0.04100000000000001,
          "xanchor": "center",
          "xref": "paper",
          "y": 0.46499999999999997,
          "yanchor": "bottom",
          "yref": "paper"
         },
         {
          "font": {},
          "showarrow": false,
          "text": "facet_col=11",
          "x": 0.14300000000000004,
          "xanchor": "center",
          "xref": "paper",
          "y": 0.46499999999999997,
          "yanchor": "bottom",
          "yref": "paper"
         },
         {
          "font": {},
          "showarrow": false,
          "text": "facet_col=12",
          "x": 0.24500000000000005,
          "xanchor": "center",
          "xref": "paper",
          "y": 0.46499999999999997,
          "yanchor": "bottom",
          "yref": "paper"
         },
         {
          "font": {},
          "showarrow": false,
          "text": "facet_col=13",
          "x": 0.3470000000000001,
          "xanchor": "center",
          "xref": "paper",
          "y": 0.46499999999999997,
          "yanchor": "bottom",
          "yref": "paper"
         },
         {
          "font": {},
          "showarrow": false,
          "text": "facet_col=14",
          "x": 0.44900000000000007,
          "xanchor": "center",
          "xref": "paper",
          "y": 0.46499999999999997,
          "yanchor": "bottom",
          "yref": "paper"
         },
         {
          "font": {},
          "showarrow": false,
          "text": "facet_col=15",
          "x": 0.5510000000000002,
          "xanchor": "center",
          "xref": "paper",
          "y": 0.46499999999999997,
          "yanchor": "bottom",
          "yref": "paper"
         },
         {
          "font": {},
          "showarrow": false,
          "text": "facet_col=16",
          "x": 0.6530000000000001,
          "xanchor": "center",
          "xref": "paper",
          "y": 0.46499999999999997,
          "yanchor": "bottom",
          "yref": "paper"
         },
         {
          "font": {},
          "showarrow": false,
          "text": "facet_col=17",
          "x": 0.7550000000000001,
          "xanchor": "center",
          "xref": "paper",
          "y": 0.46499999999999997,
          "yanchor": "bottom",
          "yref": "paper"
         },
         {
          "font": {},
          "showarrow": false,
          "text": "facet_col=18",
          "x": 0.8570000000000002,
          "xanchor": "center",
          "xref": "paper",
          "y": 0.46499999999999997,
          "yanchor": "bottom",
          "yref": "paper"
         },
         {
          "font": {},
          "showarrow": false,
          "text": "facet_col=19",
          "x": 0.9590000000000002,
          "xanchor": "center",
          "xref": "paper",
          "y": 0.46499999999999997,
          "yanchor": "bottom",
          "yref": "paper"
         },
         {
          "font": {},
          "showarrow": false,
          "text": "facet_col=0",
          "x": 0.04100000000000001,
          "xanchor": "center",
          "xref": "paper",
          "y": 0.9999999999999999,
          "yanchor": "bottom",
          "yref": "paper"
         },
         {
          "font": {},
          "showarrow": false,
          "text": "facet_col=1",
          "x": 0.14300000000000004,
          "xanchor": "center",
          "xref": "paper",
          "y": 0.9999999999999999,
          "yanchor": "bottom",
          "yref": "paper"
         },
         {
          "font": {},
          "showarrow": false,
          "text": "facet_col=2",
          "x": 0.24500000000000005,
          "xanchor": "center",
          "xref": "paper",
          "y": 0.9999999999999999,
          "yanchor": "bottom",
          "yref": "paper"
         },
         {
          "font": {},
          "showarrow": false,
          "text": "facet_col=3",
          "x": 0.3470000000000001,
          "xanchor": "center",
          "xref": "paper",
          "y": 0.9999999999999999,
          "yanchor": "bottom",
          "yref": "paper"
         },
         {
          "font": {},
          "showarrow": false,
          "text": "facet_col=4",
          "x": 0.44900000000000007,
          "xanchor": "center",
          "xref": "paper",
          "y": 0.9999999999999999,
          "yanchor": "bottom",
          "yref": "paper"
         },
         {
          "font": {},
          "showarrow": false,
          "text": "facet_col=5",
          "x": 0.5510000000000002,
          "xanchor": "center",
          "xref": "paper",
          "y": 0.9999999999999999,
          "yanchor": "bottom",
          "yref": "paper"
         },
         {
          "font": {},
          "showarrow": false,
          "text": "facet_col=6",
          "x": 0.6530000000000001,
          "xanchor": "center",
          "xref": "paper",
          "y": 0.9999999999999999,
          "yanchor": "bottom",
          "yref": "paper"
         },
         {
          "font": {},
          "showarrow": false,
          "text": "facet_col=7",
          "x": 0.7550000000000001,
          "xanchor": "center",
          "xref": "paper",
          "y": 0.9999999999999999,
          "yanchor": "bottom",
          "yref": "paper"
         },
         {
          "font": {},
          "showarrow": false,
          "text": "facet_col=8",
          "x": 0.8570000000000002,
          "xanchor": "center",
          "xref": "paper",
          "y": 0.9999999999999999,
          "yanchor": "bottom",
          "yref": "paper"
         },
         {
          "font": {},
          "showarrow": false,
          "text": "facet_col=9",
          "x": 0.9590000000000002,
          "xanchor": "center",
          "xref": "paper",
          "y": 0.9999999999999999,
          "yanchor": "bottom",
          "yref": "paper"
         }
        ],
        "template": {
         "data": {
          "bar": [
           {
            "error_x": {
             "color": "#2a3f5f"
            },
            "error_y": {
             "color": "#2a3f5f"
            },
            "marker": {
             "line": {
              "color": "#E5ECF6",
              "width": 0.5
             },
             "pattern": {
              "fillmode": "overlay",
              "size": 10,
              "solidity": 0.2
             }
            },
            "type": "bar"
           }
          ],
          "barpolar": [
           {
            "marker": {
             "line": {
              "color": "#E5ECF6",
              "width": 0.5
             },
             "pattern": {
              "fillmode": "overlay",
              "size": 10,
              "solidity": 0.2
             }
            },
            "type": "barpolar"
           }
          ],
          "carpet": [
           {
            "aaxis": {
             "endlinecolor": "#2a3f5f",
             "gridcolor": "white",
             "linecolor": "white",
             "minorgridcolor": "white",
             "startlinecolor": "#2a3f5f"
            },
            "baxis": {
             "endlinecolor": "#2a3f5f",
             "gridcolor": "white",
             "linecolor": "white",
             "minorgridcolor": "white",
             "startlinecolor": "#2a3f5f"
            },
            "type": "carpet"
           }
          ],
          "choropleth": [
           {
            "colorbar": {
             "outlinewidth": 0,
             "ticks": ""
            },
            "type": "choropleth"
           }
          ],
          "contour": [
           {
            "colorbar": {
             "outlinewidth": 0,
             "ticks": ""
            },
            "colorscale": [
             [
              0,
              "#0d0887"
             ],
             [
              0.1111111111111111,
              "#46039f"
             ],
             [
              0.2222222222222222,
              "#7201a8"
             ],
             [
              0.3333333333333333,
              "#9c179e"
             ],
             [
              0.4444444444444444,
              "#bd3786"
             ],
             [
              0.5555555555555556,
              "#d8576b"
             ],
             [
              0.6666666666666666,
              "#ed7953"
             ],
             [
              0.7777777777777778,
              "#fb9f3a"
             ],
             [
              0.8888888888888888,
              "#fdca26"
             ],
             [
              1,
              "#f0f921"
             ]
            ],
            "type": "contour"
           }
          ],
          "contourcarpet": [
           {
            "colorbar": {
             "outlinewidth": 0,
             "ticks": ""
            },
            "type": "contourcarpet"
           }
          ],
          "heatmap": [
           {
            "colorbar": {
             "outlinewidth": 0,
             "ticks": ""
            },
            "colorscale": [
             [
              0,
              "#0d0887"
             ],
             [
              0.1111111111111111,
              "#46039f"
             ],
             [
              0.2222222222222222,
              "#7201a8"
             ],
             [
              0.3333333333333333,
              "#9c179e"
             ],
             [
              0.4444444444444444,
              "#bd3786"
             ],
             [
              0.5555555555555556,
              "#d8576b"
             ],
             [
              0.6666666666666666,
              "#ed7953"
             ],
             [
              0.7777777777777778,
              "#fb9f3a"
             ],
             [
              0.8888888888888888,
              "#fdca26"
             ],
             [
              1,
              "#f0f921"
             ]
            ],
            "type": "heatmap"
           }
          ],
          "heatmapgl": [
           {
            "colorbar": {
             "outlinewidth": 0,
             "ticks": ""
            },
            "colorscale": [
             [
              0,
              "#0d0887"
             ],
             [
              0.1111111111111111,
              "#46039f"
             ],
             [
              0.2222222222222222,
              "#7201a8"
             ],
             [
              0.3333333333333333,
              "#9c179e"
             ],
             [
              0.4444444444444444,
              "#bd3786"
             ],
             [
              0.5555555555555556,
              "#d8576b"
             ],
             [
              0.6666666666666666,
              "#ed7953"
             ],
             [
              0.7777777777777778,
              "#fb9f3a"
             ],
             [
              0.8888888888888888,
              "#fdca26"
             ],
             [
              1,
              "#f0f921"
             ]
            ],
            "type": "heatmapgl"
           }
          ],
          "histogram": [
           {
            "marker": {
             "pattern": {
              "fillmode": "overlay",
              "size": 10,
              "solidity": 0.2
             }
            },
            "type": "histogram"
           }
          ],
          "histogram2d": [
           {
            "colorbar": {
             "outlinewidth": 0,
             "ticks": ""
            },
            "colorscale": [
             [
              0,
              "#0d0887"
             ],
             [
              0.1111111111111111,
              "#46039f"
             ],
             [
              0.2222222222222222,
              "#7201a8"
             ],
             [
              0.3333333333333333,
              "#9c179e"
             ],
             [
              0.4444444444444444,
              "#bd3786"
             ],
             [
              0.5555555555555556,
              "#d8576b"
             ],
             [
              0.6666666666666666,
              "#ed7953"
             ],
             [
              0.7777777777777778,
              "#fb9f3a"
             ],
             [
              0.8888888888888888,
              "#fdca26"
             ],
             [
              1,
              "#f0f921"
             ]
            ],
            "type": "histogram2d"
           }
          ],
          "histogram2dcontour": [
           {
            "colorbar": {
             "outlinewidth": 0,
             "ticks": ""
            },
            "colorscale": [
             [
              0,
              "#0d0887"
             ],
             [
              0.1111111111111111,
              "#46039f"
             ],
             [
              0.2222222222222222,
              "#7201a8"
             ],
             [
              0.3333333333333333,
              "#9c179e"
             ],
             [
              0.4444444444444444,
              "#bd3786"
             ],
             [
              0.5555555555555556,
              "#d8576b"
             ],
             [
              0.6666666666666666,
              "#ed7953"
             ],
             [
              0.7777777777777778,
              "#fb9f3a"
             ],
             [
              0.8888888888888888,
              "#fdca26"
             ],
             [
              1,
              "#f0f921"
             ]
            ],
            "type": "histogram2dcontour"
           }
          ],
          "mesh3d": [
           {
            "colorbar": {
             "outlinewidth": 0,
             "ticks": ""
            },
            "type": "mesh3d"
           }
          ],
          "parcoords": [
           {
            "line": {
             "colorbar": {
              "outlinewidth": 0,
              "ticks": ""
             }
            },
            "type": "parcoords"
           }
          ],
          "pie": [
           {
            "automargin": true,
            "type": "pie"
           }
          ],
          "scatter": [
           {
            "fillpattern": {
             "fillmode": "overlay",
             "size": 10,
             "solidity": 0.2
            },
            "type": "scatter"
           }
          ],
          "scatter3d": [
           {
            "line": {
             "colorbar": {
              "outlinewidth": 0,
              "ticks": ""
             }
            },
            "marker": {
             "colorbar": {
              "outlinewidth": 0,
              "ticks": ""
             }
            },
            "type": "scatter3d"
           }
          ],
          "scattercarpet": [
           {
            "marker": {
             "colorbar": {
              "outlinewidth": 0,
              "ticks": ""
             }
            },
            "type": "scattercarpet"
           }
          ],
          "scattergeo": [
           {
            "marker": {
             "colorbar": {
              "outlinewidth": 0,
              "ticks": ""
             }
            },
            "type": "scattergeo"
           }
          ],
          "scattergl": [
           {
            "marker": {
             "colorbar": {
              "outlinewidth": 0,
              "ticks": ""
             }
            },
            "type": "scattergl"
           }
          ],
          "scattermapbox": [
           {
            "marker": {
             "colorbar": {
              "outlinewidth": 0,
              "ticks": ""
             }
            },
            "type": "scattermapbox"
           }
          ],
          "scatterpolar": [
           {
            "marker": {
             "colorbar": {
              "outlinewidth": 0,
              "ticks": ""
             }
            },
            "type": "scatterpolar"
           }
          ],
          "scatterpolargl": [
           {
            "marker": {
             "colorbar": {
              "outlinewidth": 0,
              "ticks": ""
             }
            },
            "type": "scatterpolargl"
           }
          ],
          "scatterternary": [
           {
            "marker": {
             "colorbar": {
              "outlinewidth": 0,
              "ticks": ""
             }
            },
            "type": "scatterternary"
           }
          ],
          "surface": [
           {
            "colorbar": {
             "outlinewidth": 0,
             "ticks": ""
            },
            "colorscale": [
             [
              0,
              "#0d0887"
             ],
             [
              0.1111111111111111,
              "#46039f"
             ],
             [
              0.2222222222222222,
              "#7201a8"
             ],
             [
              0.3333333333333333,
              "#9c179e"
             ],
             [
              0.4444444444444444,
              "#bd3786"
             ],
             [
              0.5555555555555556,
              "#d8576b"
             ],
             [
              0.6666666666666666,
              "#ed7953"
             ],
             [
              0.7777777777777778,
              "#fb9f3a"
             ],
             [
              0.8888888888888888,
              "#fdca26"
             ],
             [
              1,
              "#f0f921"
             ]
            ],
            "type": "surface"
           }
          ],
          "table": [
           {
            "cells": {
             "fill": {
              "color": "#EBF0F8"
             },
             "line": {
              "color": "white"
             }
            },
            "header": {
             "fill": {
              "color": "#C8D4E3"
             },
             "line": {
              "color": "white"
             }
            },
            "type": "table"
           }
          ]
         },
         "layout": {
          "annotationdefaults": {
           "arrowcolor": "#2a3f5f",
           "arrowhead": 0,
           "arrowwidth": 1
          },
          "autotypenumbers": "strict",
          "coloraxis": {
           "colorbar": {
            "outlinewidth": 0,
            "ticks": ""
           }
          },
          "colorscale": {
           "diverging": [
            [
             0,
             "#8e0152"
            ],
            [
             0.1,
             "#c51b7d"
            ],
            [
             0.2,
             "#de77ae"
            ],
            [
             0.3,
             "#f1b6da"
            ],
            [
             0.4,
             "#fde0ef"
            ],
            [
             0.5,
             "#f7f7f7"
            ],
            [
             0.6,
             "#e6f5d0"
            ],
            [
             0.7,
             "#b8e186"
            ],
            [
             0.8,
             "#7fbc41"
            ],
            [
             0.9,
             "#4d9221"
            ],
            [
             1,
             "#276419"
            ]
           ],
           "sequential": [
            [
             0,
             "#0d0887"
            ],
            [
             0.1111111111111111,
             "#46039f"
            ],
            [
             0.2222222222222222,
             "#7201a8"
            ],
            [
             0.3333333333333333,
             "#9c179e"
            ],
            [
             0.4444444444444444,
             "#bd3786"
            ],
            [
             0.5555555555555556,
             "#d8576b"
            ],
            [
             0.6666666666666666,
             "#ed7953"
            ],
            [
             0.7777777777777778,
             "#fb9f3a"
            ],
            [
             0.8888888888888888,
             "#fdca26"
            ],
            [
             1,
             "#f0f921"
            ]
           ],
           "sequentialminus": [
            [
             0,
             "#0d0887"
            ],
            [
             0.1111111111111111,
             "#46039f"
            ],
            [
             0.2222222222222222,
             "#7201a8"
            ],
            [
             0.3333333333333333,
             "#9c179e"
            ],
            [
             0.4444444444444444,
             "#bd3786"
            ],
            [
             0.5555555555555556,
             "#d8576b"
            ],
            [
             0.6666666666666666,
             "#ed7953"
            ],
            [
             0.7777777777777778,
             "#fb9f3a"
            ],
            [
             0.8888888888888888,
             "#fdca26"
            ],
            [
             1,
             "#f0f921"
            ]
           ]
          },
          "colorway": [
           "#636efa",
           "#EF553B",
           "#00cc96",
           "#ab63fa",
           "#FFA15A",
           "#19d3f3",
           "#FF6692",
           "#B6E880",
           "#FF97FF",
           "#FECB52"
          ],
          "font": {
           "color": "#2a3f5f"
          },
          "geo": {
           "bgcolor": "white",
           "lakecolor": "white",
           "landcolor": "#E5ECF6",
           "showlakes": true,
           "showland": true,
           "subunitcolor": "white"
          },
          "hoverlabel": {
           "align": "left"
          },
          "hovermode": "closest",
          "mapbox": {
           "style": "light"
          },
          "paper_bgcolor": "white",
          "plot_bgcolor": "#E5ECF6",
          "polar": {
           "angularaxis": {
            "gridcolor": "white",
            "linecolor": "white",
            "ticks": ""
           },
           "bgcolor": "#E5ECF6",
           "radialaxis": {
            "gridcolor": "white",
            "linecolor": "white",
            "ticks": ""
           }
          },
          "scene": {
           "xaxis": {
            "backgroundcolor": "#E5ECF6",
            "gridcolor": "white",
            "gridwidth": 2,
            "linecolor": "white",
            "showbackground": true,
            "ticks": "",
            "zerolinecolor": "white"
           },
           "yaxis": {
            "backgroundcolor": "#E5ECF6",
            "gridcolor": "white",
            "gridwidth": 2,
            "linecolor": "white",
            "showbackground": true,
            "ticks": "",
            "zerolinecolor": "white"
           },
           "zaxis": {
            "backgroundcolor": "#E5ECF6",
            "gridcolor": "white",
            "gridwidth": 2,
            "linecolor": "white",
            "showbackground": true,
            "ticks": "",
            "zerolinecolor": "white"
           }
          },
          "shapedefaults": {
           "line": {
            "color": "#2a3f5f"
           }
          },
          "ternary": {
           "aaxis": {
            "gridcolor": "white",
            "linecolor": "white",
            "ticks": ""
           },
           "baxis": {
            "gridcolor": "white",
            "linecolor": "white",
            "ticks": ""
           },
           "bgcolor": "#E5ECF6",
           "caxis": {
            "gridcolor": "white",
            "linecolor": "white",
            "ticks": ""
           }
          },
          "title": {
           "x": 0.05
          },
          "xaxis": {
           "automargin": true,
           "gridcolor": "white",
           "linecolor": "white",
           "ticks": "",
           "title": {
            "standoff": 15
           },
           "zerolinecolor": "white",
           "zerolinewidth": 2
          },
          "yaxis": {
           "automargin": true,
           "gridcolor": "white",
           "linecolor": "white",
           "ticks": "",
           "title": {
            "standoff": 15
           },
           "zerolinecolor": "white",
           "zerolinewidth": 2
          }
         }
        },
        "title": {
         "text": "Original"
        },
        "xaxis": {
         "anchor": "y",
         "domain": [
          0,
          0.08200000000000002
         ]
        },
        "xaxis10": {
         "anchor": "y10",
         "domain": [
          0.9180000000000001,
          1
         ],
         "matches": "x"
        },
        "xaxis11": {
         "anchor": "y11",
         "domain": [
          0,
          0.08200000000000002
         ],
         "matches": "x",
         "showticklabels": false
        },
        "xaxis12": {
         "anchor": "y12",
         "domain": [
          0.10200000000000002,
          0.18400000000000005
         ],
         "matches": "x",
         "showticklabels": false
        },
        "xaxis13": {
         "anchor": "y13",
         "domain": [
          0.20400000000000004,
          0.28600000000000003
         ],
         "matches": "x",
         "showticklabels": false
        },
        "xaxis14": {
         "anchor": "y14",
         "domain": [
          0.30600000000000005,
          0.38800000000000007
         ],
         "matches": "x",
         "showticklabels": false
        },
        "xaxis15": {
         "anchor": "y15",
         "domain": [
          0.4080000000000001,
          0.4900000000000001
         ],
         "matches": "x",
         "showticklabels": false
        },
        "xaxis16": {
         "anchor": "y16",
         "domain": [
          0.5100000000000001,
          0.5920000000000001
         ],
         "matches": "x",
         "showticklabels": false
        },
        "xaxis17": {
         "anchor": "y17",
         "domain": [
          0.6120000000000001,
          0.6940000000000002
         ],
         "matches": "x",
         "showticklabels": false
        },
        "xaxis18": {
         "anchor": "y18",
         "domain": [
          0.7140000000000001,
          0.796
         ],
         "matches": "x",
         "showticklabels": false
        },
        "xaxis19": {
         "anchor": "y19",
         "domain": [
          0.8160000000000002,
          0.8980000000000001
         ],
         "matches": "x",
         "showticklabels": false
        },
        "xaxis2": {
         "anchor": "y2",
         "domain": [
          0.10200000000000002,
          0.18400000000000005
         ],
         "matches": "x"
        },
        "xaxis20": {
         "anchor": "y20",
         "domain": [
          0.9180000000000001,
          1
         ],
         "matches": "x",
         "showticklabels": false
        },
        "xaxis3": {
         "anchor": "y3",
         "domain": [
          0.20400000000000004,
          0.28600000000000003
         ],
         "matches": "x"
        },
        "xaxis4": {
         "anchor": "y4",
         "domain": [
          0.30600000000000005,
          0.38800000000000007
         ],
         "matches": "x"
        },
        "xaxis5": {
         "anchor": "y5",
         "domain": [
          0.4080000000000001,
          0.4900000000000001
         ],
         "matches": "x"
        },
        "xaxis6": {
         "anchor": "y6",
         "domain": [
          0.5100000000000001,
          0.5920000000000001
         ],
         "matches": "x"
        },
        "xaxis7": {
         "anchor": "y7",
         "domain": [
          0.6120000000000001,
          0.6940000000000002
         ],
         "matches": "x"
        },
        "xaxis8": {
         "anchor": "y8",
         "domain": [
          0.7140000000000001,
          0.796
         ],
         "matches": "x"
        },
        "xaxis9": {
         "anchor": "y9",
         "domain": [
          0.8160000000000002,
          0.8980000000000001
         ],
         "matches": "x"
        },
        "yaxis": {
         "anchor": "x",
         "domain": [
          0,
          0.46499999999999997
         ]
        },
        "yaxis10": {
         "anchor": "x10",
         "domain": [
          0,
          0.46499999999999997
         ],
         "matches": "y",
         "showticklabels": false
        },
        "yaxis11": {
         "anchor": "x11",
         "domain": [
          0.5349999999999999,
          0.9999999999999999
         ],
         "matches": "y"
        },
        "yaxis12": {
         "anchor": "x12",
         "domain": [
          0.5349999999999999,
          0.9999999999999999
         ],
         "matches": "y",
         "showticklabels": false
        },
        "yaxis13": {
         "anchor": "x13",
         "domain": [
          0.5349999999999999,
          0.9999999999999999
         ],
         "matches": "y",
         "showticklabels": false
        },
        "yaxis14": {
         "anchor": "x14",
         "domain": [
          0.5349999999999999,
          0.9999999999999999
         ],
         "matches": "y",
         "showticklabels": false
        },
        "yaxis15": {
         "anchor": "x15",
         "domain": [
          0.5349999999999999,
          0.9999999999999999
         ],
         "matches": "y",
         "showticklabels": false
        },
        "yaxis16": {
         "anchor": "x16",
         "domain": [
          0.5349999999999999,
          0.9999999999999999
         ],
         "matches": "y",
         "showticklabels": false
        },
        "yaxis17": {
         "anchor": "x17",
         "domain": [
          0.5349999999999999,
          0.9999999999999999
         ],
         "matches": "y",
         "showticklabels": false
        },
        "yaxis18": {
         "anchor": "x18",
         "domain": [
          0.5349999999999999,
          0.9999999999999999
         ],
         "matches": "y",
         "showticklabels": false
        },
        "yaxis19": {
         "anchor": "x19",
         "domain": [
          0.5349999999999999,
          0.9999999999999999
         ],
         "matches": "y",
         "showticklabels": false
        },
        "yaxis2": {
         "anchor": "x2",
         "domain": [
          0,
          0.46499999999999997
         ],
         "matches": "y",
         "showticklabels": false
        },
        "yaxis20": {
         "anchor": "x20",
         "domain": [
          0.5349999999999999,
          0.9999999999999999
         ],
         "matches": "y",
         "showticklabels": false
        },
        "yaxis3": {
         "anchor": "x3",
         "domain": [
          0,
          0.46499999999999997
         ],
         "matches": "y",
         "showticklabels": false
        },
        "yaxis4": {
         "anchor": "x4",
         "domain": [
          0,
          0.46499999999999997
         ],
         "matches": "y",
         "showticklabels": false
        },
        "yaxis5": {
         "anchor": "x5",
         "domain": [
          0,
          0.46499999999999997
         ],
         "matches": "y",
         "showticklabels": false
        },
        "yaxis6": {
         "anchor": "x6",
         "domain": [
          0,
          0.46499999999999997
         ],
         "matches": "y",
         "showticklabels": false
        },
        "yaxis7": {
         "anchor": "x7",
         "domain": [
          0,
          0.46499999999999997
         ],
         "matches": "y",
         "showticklabels": false
        },
        "yaxis8": {
         "anchor": "x8",
         "domain": [
          0,
          0.46499999999999997
         ],
         "matches": "y",
         "showticklabels": false
        },
        "yaxis9": {
         "anchor": "x9",
         "domain": [
          0,
          0.46499999999999997
         ],
         "matches": "y",
         "showticklabels": false
        }
       }
      }
     },
     "metadata": {},
     "output_type": "display_data"
    }
   ],
   "source": [
    "col_wrap = 10\n",
    "show_images(X, \"Original\", col_wrap=col_wrap)"
   ]
  },
  {
   "cell_type": "markdown",
   "metadata": {},
   "source": [
    "## Let's denoise with sklearn PCA and scipy filters !"
   ]
  },
  {
   "cell_type": "code",
   "execution_count": 115,
   "metadata": {},
   "outputs": [],
   "source": [
    "def apply_filters(images, side_length: int, sigma: int = None, size: int = None):\n",
    "    rows = []\n",
    "    for image in images:\n",
    "        image = image.reshape(side_length, side_length)\n",
    "        if size:\n",
    "            image = median_filter(image, size=size)\n",
    "        if sigma:\n",
    "            image = gaussian_filter(image, sigma=sigma)\n",
    "        rows.append(image.flatten())\n",
    "\n",
    "    return pd.DataFrame(rows)"
   ]
  },
  {
   "cell_type": "code",
   "execution_count": 116,
   "metadata": {},
   "outputs": [],
   "source": [
    "def denoise_sklearn(images: pd.DataFrame,\n",
    "            pca_components: float = 20,\n",
    "            gaussian_sigma: int = 1,\n",
    "            median_size: int = 1):\n",
    "\n",
    "    side_length = int(np.sqrt(images.shape[1]))\n",
    "\n",
    "    sk_pca = PCA(pca_components)\n",
    "    images = sk_pca.fit_transform(images.values)\n",
    "    images = sk_pca.inverse_transform(images)\n",
    "\n",
    "    images = apply_filters(images,\n",
    "                        side_length,\n",
    "                        sigma=gaussian_sigma,\n",
    "                        size=median_size)\n",
    "\n",
    "    return pd.DataFrame(images), sk_pca"
   ]
  },
  {
   "cell_type": "code",
   "execution_count": 133,
   "metadata": {},
   "outputs": [
    {
     "data": {
      "application/vnd.plotly.v1+json": {
       "config": {
        "plotlyServerURL": "https://plot.ly"
       },
       "data": [
        {
         "hovertemplate": "x: %{x}<br>y: %{y}<extra></extra>",
         "name": "0",
         "source": "data:image/png;base64,iVBORw0KGgoAAAANSUhEUgAAABwAAAAcCAAAAABXZoBIAAACaklEQVR4XgXB2Y7bNhQAUC6XpKjVezytMU0K9Ef6/09BXtIFaQIEM2OPbUkkLe7sOfjPjTRt+XLb7n9todx6pueHj+LUJXGEmnmgMIg9rfuUNlJNJopKXyzuFYgc7CJFVadssXpsXJa8IddiIgHY3nMMjncNSmfhjZRZl4oHP6oUIDjMYiuT3zouh31BWK4PRI9zthoCBAkdWZKZUAKRgT/9wd9Z4PVNQ2cc7w7WpxweqldsJYBj3f2uARYQGD3qvvKO8CAOaopb/zb/xZ/XGi3wTH/M5kwzLTJltG/Z6WBef8pm5edXsFbZ9K2VHQKB2HBaHfHnkQ/2ro2Ff9G6OqvV09o5Eu+rA5tuP8rA8uU8O/h724gyh2oIlOq6po+X/8Y6P2LpioBbiUR6nnWp4LdPtbtdNUnKt6LdvBNhA2+6Dl1Hy54/NjhFGu8vS9Lsl4ZgFB0diFkWEzFNBnoeNEJ2oUBh+XBq3u+GMYKx1eGnsX4gOxkdUQJi9eHj9/O8klI07huo75l1O9qqKaYeVmS8hECRPNXH+F5S4XkSbXYYOwrFXR9UsHU/dKBISLxOvpCgfTQdVD5eNHnaSynevkaWOEGi3ZaXMWIKJ83MWEd2bOM0mSCqdh2JLoFVzQAiRrYD7BDJaJVi3VRymTVyC6kT+G70tG2j6Y3b1ddmE7WdNPQ4YQVjowguJF/9vQx7Ecp8BpcZrJt8h5AJ7wUPr//AcVKWIetKVaW72EYOO1aznsQKELL+kdqKHpJalpZq+w614cQ6tm3Yq8IBGdRbXBG87nKYQJcY+M1jePsiPzUmPVDia3zRIWH0P9RPf0coqw5dAAAAAElFTkSuQmCC",
         "type": "image",
         "xaxis": "x11",
         "yaxis": "y11"
        },
        {
         "hovertemplate": "x: %{x}<br>y: %{y}<extra></extra>",
         "name": "1",
         "source": "data:image/png;base64,iVBORw0KGgoAAAANSUhEUgAAABwAAAAcCAAAAABXZoBIAAACY0lEQVR4XgXB2XLbNhQAUNyLi4WkuEg2XSedTGaaaZ/6Bf3/j0gekrTjLLIUm6S4ACC2ngP/vO2Gc/c+m7yYY80cQuF25oZJc6C7NaWmdJbuuY83oyuOhR9lzTQwwp2pI6UI6ziZHTvUjOKeCpGyoVwBMO9WyVGzthEQDAb0wTKeiAu5W5+t7v92v3gnwggehL1JVezkc8GW8kEd3/2JX8ay9NX0zLSNqEtO1yJm0R8f3h/v0om66taa7acftoAskWRQS1ojKca4qPvK+5Vm63KaHSVZd0j1A/6a09eX2WsFJ5qz3EUk6iLDWDy8U+en87fXj2/6D21WsXFj9hP1W7IyR5T++3NW03jBxwRZJwPJY1HhFJrSz9+fzOmez/N1AJJNldbyD6LgjOtw99b62Uc3fnZ/9QVeys0oyoBoF2sS0nqGmpYrP3VF9AWdb2QZHVirXDImGHqsaSmrClJtBl2RtEbfvWki5ZQ5t4e7+/tWkkLD+o4SbqmFli9U7UxMuVAYgpBxYxpIHOcIsOPFtBT8NmWVkcKSK6k9Ocmina9yq+rhtjIom+5UPT/dkG2ZLo+tN5MsxFvZvjrB6lZ19Y/VZm8Tbaydx7Vwxe9HZiLasmZgVjN7FgylNS5uFFrWJ4VxuqjeXf798vIa2+QIVwQa1ib/hHK5MRsOZnyZsrFSVlSAAU5he/l0Vs/20Kjrcrus6rdhy0it38u0A4yLpP9i3/C87znvdBqCIAPARA5mFxWL2V3x4K3E6KuT07RXXOE6z0wAl1LnLAOgSzbXUhKC5WXGpAFZZiytAXleoQC9i/8BEGB35NrIoncAAAAASUVORK5CYII=",
         "type": "image",
         "xaxis": "x12",
         "yaxis": "y12"
        },
        {
         "hovertemplate": "x: %{x}<br>y: %{y}<extra></extra>",
         "name": "2",
         "source": "data:image/png;base64,iVBORw0KGgoAAAANSUhEUgAAABwAAAAcCAAAAABXZoBIAAACSklEQVR4XgXByZLTOhQA0HulK8mSh2DC0N1FQ9Wrt2HD/38NVWyApoMTO5Y1S5yD/30zvigRbuaptZvWl2VOnpA/v3ff6esEBEZy39bWrHelI6NbobrWmZ63v5wXziBVlTqJOh9AO7LF8Uda7imBkI7JWhMDQQxlKwwhxhP90Z+9wyJt8/cw9T1gpCSl3FkfiI1n/8r6mBHL09MbOrYFRFJS8Hkgbl8hjYObQcQvXzrnnUchfEQskpjEDCzrB0vWtTHdtsmvGmtox5Ua61R2rz3nFP+W2dntDNfY1yTCC6P7JZS0b0yzoSbMINyVJJYiy07dtmDmHMKlalV808r6949t84OeyKwhtjb29jJ++jCtpTfhNAQXCRUjySUGqSAipbuEbcul5y93fXJ1oiSESMeFJVbW9kBb0p06GgFBWumKiKomLUo3P/+fLxzyHlSHHcY/RGdo2WBPlqpRaKL3TlTWOaNHevdR2ZU63er6qs7TOCRkeWeFiajIFJsy+Byu1+SzXZW6Wh6T6PzeqPy8EJKm4+Yncd9+xY4HI0G2PQKFdWOyHujLfBp5lsH38wBBbpEYOZgzteLBDKfHBx8s9ISoCiTs6Jr6xhRHLPLNoE9gmctBY8IMkow3gkUuW6rLD9bfvLdbnXJSs+iI5UZSNJ9jsjmZl2U9nPbdFFBWKuAFkw3KsStCcbeL1+Z3nQSFRG1kkkomSMK0O89FCjnCRQpWK/luegy/w6BOMnhxuNRUWcnAjmMkPL9Vy69kFLJslQ28FR9OxFc9wD+dPHGCVZO+NQAAAABJRU5ErkJggg==",
         "type": "image",
         "xaxis": "x13",
         "yaxis": "y13"
        },
        {
         "hovertemplate": "x: %{x}<br>y: %{y}<extra></extra>",
         "name": "3",
         "source": "data:image/png;base64,iVBORw0KGgoAAAANSUhEUgAAABwAAAAcCAAAAABXZoBIAAACUUlEQVR4XgXB2XLbNhQAUCwXFwsJSpTsSDOZtg/9lf7/PySZdGpbliyS2Iit59B/XjL5k/z76F1muMxyW4PStT22Y1mghgljIkhHuvX8i+5tkDa/O0bkDMmf5P2NdqN7l/2WR1ocksZ7LAR2EavvtktouCfSDAfuW0pZYoZu2jNeL9sjIHJpPlA33Fff+WHeYNKUdP1qiYA+U+eLoOEzSRswZ/ZHfaae9vH7WbQcfBcvF06lKiXcCRx/Pu2AWSn3fH60vszF2C1QyVoxIHhj04mLHN5uu9LaNFBxFYc9AGc/5EnhIKfD/t97dE7QVAgex5YKD+DOFIbeFx0SqcaeFSj+ulLnkD6gcXbkjrrs8KCtxE7YKPjgnDlE8L8nm1c60Om7MTasZUoohhf/FbMFE/Nn84TZs16zoInxwm3b8VqTZFdLC6+Pt1uVZV/qPJXYlfARLeOgp6rG6kv4pImsYe6+SEZB7CUpuCvJQhG9JmiFYKGaExbuC+G1wxa5IrUSYUcI07mWcTwGSGGy2bGjbXXPqVDB0Pz19zG6rkWuwyRbglONFELx72kmouSY2rYCcN4eS4CANMtTjC0lbLcUe8z5xZgtLPkMPy+8bnbAkB0I8llXB3RE5Ep7hItxgaKtJP3QpxFM2jnJKVR+8k820tyVbnV4HePvL2kMxG1Z6qSJMPAmYSh3znC4hmq5w6FC2Uvb18Tg0ARZ+sDuywBCtnvj2PZYHQ0R4XqrQqJi+fZN+Tzu1ZRWEmFCdwIPFf3h+PzwjPDn+zcD/YtbSca5jvg/Qnt8bsJR5/YAAAAASUVORK5CYII=",
         "type": "image",
         "xaxis": "x14",
         "yaxis": "y14"
        },
        {
         "hovertemplate": "x: %{x}<br>y: %{y}<extra></extra>",
         "name": "4",
         "source": "data:image/png;base64,iVBORw0KGgoAAAANSUhEUgAAABwAAAAcCAAAAABXZoBIAAACjElEQVR4XgXBSY/bNhgAUC4fScmiNtszY89SZ21RoMipt/7/WxDkkhQpkDiJx9WMLduyJJOiRIp5D6N/3pyMjZLFqvowLiekKG7JBujPYzKN4S9UmEDitj612JYYhgmlwuBpEHMECzs6G9Nq35p62OE45OnEjCiznBh46Ik1vTeBgwWtR8pwP5mTy7EeZilkB4PU4Pp4ulyh56HtGlcT2n73EhOwlybQXr6+T1798eNJ3vZHXXnqFJ+mOTzVLKY4evGGp0ZNZtlwPXyr8OyhcmQATW5SAyIOvLVpGFgReV6U5xS5cw0SMk5m+dvrHcG2cMnrBxwK2PNZ1w7wcn8gGt0vEr3fbT53K3iQE7ko4dT2Jfhg6JrKIgSP39r95tnIeefojdmMiYGSoTa4SxDrfm4QRufn9+HdKxKCG2UIbFTHbLp02/9LxcWtgU/63ZXAOPUQQ+SGBHcGl+u9ZuIK2aKK/pwD4VxpqMc+jJjSzdGn3FHaolkiIiWjbgDQ53OwmFLVoYkgvW0qMr3ieWsqHXBQ3fMMIRbXSg1U90OLWzPS2y3quSc8TDjuCb5YmeHt0wgyiUXnSADIgpNLh7BINL7sDgqC5Lc8rC/l97NSGTy+XTXHhsx9vtmexP3vyzvm2fbfUiPTQu+jcf3xJkcMXf0tXy6XWacPT8WJkl4Br7BRXz/YVX4/D4PQMtqsP71XqANHoCEK0vHRExQAJb69VOv1lyJENQunMA99JPh4/nKUXk+QjvzXeggQQYMUECVDMHpqf/wHuAivubQHmbGql5BzMIwjDLYxllJ7wmwnEB25YCl4S4RIOB575f2pz/MwgshdcEcZD50C0pi+ay2Gc0kSip02rRVDBB3P6C9Mk2v0FYtgvQAAAABJRU5ErkJggg==",
         "type": "image",
         "xaxis": "x15",
         "yaxis": "y15"
        },
        {
         "hovertemplate": "x: %{x}<br>y: %{y}<extra></extra>",
         "name": "5",
         "source": "data:image/png;base64,iVBORw0KGgoAAAANSUhEUgAAABwAAAAcCAAAAABXZoBIAAAChUlEQVR4XgXBW2/bNhgAUJH8RFLUzfIltZ25bboCxfaw/cL9wD0MA4ZuQPcyIKkTx7EtS+ZVpMSdg3779thnv7KvrzlhH6NCP/3y5yt+oV94988fcKGlYBm73y2/SxNiFp4NTgo8BQ+fYc8proNU9aJvO82SF9N7wkGdD9cMZB9SxnHSPuq80ITFRz+vDCY4ggYUy+FiBSc9bAWbY/V7u31/VlOrkIfuXfn0xpdz1lHRrAYlHt4Vqu/6awICmq2O5YKng+UZa5/i5oEezp0kFUkE7Mpxg+c3j5afv7RfH2d3OaYsi4W9aAfekVxLDv5+l3xvXZSyyQwvkjGfIiiWoqnY2n5Hvv0lJ+kBzLNaElxjDYn1IDJA80pd40Qcxv31ONDCda4BQ33AhsuVlgv0rwqduauDtnlQtAHhvDAX4lbp7WRvqhr5Ri3GSeIFstAc3byQK5uWon/poFniVyuSM86b+AZ9kUaYMWP6aze8zzkLnXYGkdFmCNpFnrrE0DKYdFFPE/tQ/80fkguf8A948KXQ++d8xbIcKx1ts8sxHp08OgqC6oQyRVIPRW9xkY7nU3sdIxK5hXpsy6oyvlc2QWn18Kn/r11zP+LFTOM7GJQyQaPyfl3D/c8f0amLqaAQUAEDSrUlZM6rdWe6T2t9VO42AiGwwWANItY1qAWqVz9u+6ezx1aWkOJbD9xpH6zZ+ynvytnh2JbTzfAS3aTEsPcDolPO5QG7VO33lBIgjMH1FS8gP4Ymm2ai1RU5Xp9s8TYZRkx0MqEwO2Q1CT7ESYzH4IjTZExuAQriO3iJ1aQx0k7Ik0wgpQlC4zDgmLESTmumhro+4ir2ceMlzlFOxFlglkz/AxqtefRcPhQaAAAAAElFTkSuQmCC",
         "type": "image",
         "xaxis": "x16",
         "yaxis": "y16"
        },
        {
         "hovertemplate": "x: %{x}<br>y: %{y}<extra></extra>",
         "name": "6",
         "source": "data:image/png;base64,iVBORw0KGgoAAAANSUhEUgAAABwAAAAcCAAAAABXZoBIAAACbklEQVR4XgXB2Y7bNhQAUC6XpEhttiWNZhCkCRCgfehb//8v8pSkQBMgMx5b3rRTXHsO/vPFwz/9jOvCvv3KK9xf6ZcB8tMV6CtorXjnIc4r9qbzEjGKqIxKzKOA6inR70m1ztIl7cOZMvEoEkmR5l/g79LMhHkbAq7kFkh0NKd2RTG0LZR+mJAKmByXVAFF6/KYmEcm4r2EfoswIsUNE4YJF5J8Oz6SZ2zLogFL0/U+yYwqWxDu7NPz9evIWGQZEuARJkJlh7QzDc/mS/35oPeTj/5qNogzEFbvn+vCfmDr6fBS70e3eujdwuBgVhyp9HfOh8XrbF/6lDUWz2xHIZSRZGnlhubtv0GROuWbNrPIKtkwYshmQ5IbY/vL+YGIvh4XN65eSfsbisFTxOJ5XI7Lmhe7RnfnUKrgLI0ATDGynvQSb70mGNP17cLyZuNFmgFPTYjv4/0h1R+x2mXnn1csqcZVqjGE+QTtLp9G+pypouXfb6uhYsH5ZeZwGeeQCIuFHxCLjY84zKgAOixcQn8Lyt5tKBnHDikHrAY9Fc7EA0BFJsWZaoXrRwfOU0KDw4YghiPU+atFTjTyPsz43nGk4qjH9aVCEYi2TLpLH/HSafFUc4xcXklMkdYA/zIK/atH1XXKP/+1/3a6dVoVSUvCssAsDStQOA4T5WkDnlLb42yXRG4ZQG7xB/l+ekRJzXl6T6oN060b13UvwZISRbYbKEvsL6x/KF5lsyZz59oSclESuwQpgoruIvDoQ37YIgKHb0R4EHbCObg79hctCH7MkiPZfqIn+PmxsqNDGxKTHk9PTiTr+EkEQgJZ/wcVwW//c8At4AAAAABJRU5ErkJggg==",
         "type": "image",
         "xaxis": "x17",
         "yaxis": "y17"
        },
        {
         "hovertemplate": "x: %{x}<br>y: %{y}<extra></extra>",
         "name": "7",
         "source": "data:image/png;base64,iVBORw0KGgoAAAANSUhEUgAAABwAAAAcCAAAAABXZoBIAAACb0lEQVR4XgXBaZLcNBgAUC2fJFtub70m3RVg/nMSrsNhUwWpITUEpqdX27JlbZbyHv7TlvG65Oz2tzq1E5HZgFWztWe9OXhYZpKsW7gqsLPhkVVpK3mQv1jqZ7gGGYKeuF23ZrWDccQhOaxxTM6C9TNCCCeEsXs0yfvMpwlNvlzRCWqDUVYU4kdHkb8OCxJYT4aVu8ZpkIFiUq2TxYgDlN0gC29YXTFrGaj0hG3y5b4KTjbkctvKa5/UdcYLgNDDJnNLXbL4puOnLwoZlBfn3uV+gdM3SmZK/YCx7m08hDSjuriKhhVb+K7ETE/o/RLIHKb7XyFVn1r3fEpEGFwZiwX6b4pCrnAcJvDAYq+Dpf4fOLpOZuNtbnLRggHSOome9rMxnPRAJrsnahb7fXFS5zUSsbd4J9971lTwmELvcEOKthSuqtO9j0TfAtuZfgO5xWiG0neJk6RfXlo0LHEOKxGvBk5xAWU4ipdkH5df//g9//YcB7csiEzgo/2w63HiokIGT691ITbDdPM7yhg8Zu03X7rR5VKL0wF9Xe8a69IoQ3KAW5pt5ZiQNbg5VZf3uzhKIG2Tyg/QNZe5eXQilgXPunNMPw6ccKp9JJDZoWYcyqpq7OgdMPPx2laxFzCXIALCUXzeu5IrjywvkxuqLKW6eByBJBYnueH/G21RkNITKIhKxFDawXeeFBptvaM6GrVqx4L6YbbqWREFjnFr3vT25RB91vPsGAft8YY+dZ7BVgTCTDa+Kk6OazQvaZhjbNKYSg4ZDRWrlRmuR6kxYOUzNnWtiWAt/CujLGNu5yDo2/24OcffmL/c15ul8z8BXySLheuMyjcAAAAASUVORK5CYII=",
         "type": "image",
         "xaxis": "x18",
         "yaxis": "y18"
        },
        {
         "hovertemplate": "x: %{x}<br>y: %{y}<extra></extra>",
         "name": "8",
         "source": "data:image/png;base64,iVBORw0KGgoAAAANSUhEUgAAABwAAAAcCAAAAABXZoBIAAAChUlEQVR4XgXBaW/bNhgAYIp8JVKyTju+Uieo0WIY0H3s/9k/HvqpwIBiaU4nvkTdvLnnCf4eNbjLYq2WnKcqHJ9hc3qlFUJEPMBSHU28gvr05rGxIKt0YYUMFom/YGC57XSoD6/bHQjmRR4KvJbYeXybwQHDom19iUNYkanVtUnSWCGvJS6B9+kdGLRj/34sN5woiXVklBVTMASg7Yem59rv017I5faTtqBGaN6bxaaEW3+S9ZPjj2K5Km4kY8aIiJzJY0QpZEXRPcbrSrrPN9Pzwd0EPbvRJp5NbQsRDjBsShRVX1D/9gud/FAO4uMty5UB2rWtTeGJbFzkOhIEUhpnj9dtLhP4bdWAYnmp5tRNUuF8hsjo5mFo6RaeojGs/MC+fS95QlfrPXp559PkrUQctvgBZYpk+x3Ws+X+++JxepGXaxhV5RxQGCmZ7lSpSfHX/eoresW5FaRkWZxAj9O6wUmJ2tzT5KSCc7we5uksGNsahoAS3mefBm7q6XpWt/cLUZS6paNBUEqlA3vCqi1sz3tOvllnZQ3zKVqBuDqVzEzYdBWtebrLPHHD4GNxjAg4Gqq0jLScPliEpyrE/sxZiQ4+GyANwRRYTYx4QUuVzwPOG4rbQ1EYwNbRYYryuMNJEhd/0OMzyWzXQIw3QIimwqJ8/d6wu/siv/56yNfNBPvIb+DsRD6feZKzpr/78+XH8XcP4BzTfWIgwNQlcDkkX+b/+eM/P1mYElo2/M1VKa5i3LaKyFPTjuOhKXYLEoce3BRWGJgC3GEL6LmRse8ScTDV2OLiFsUMGklAM5qt7Ht/Mb06nTZymKK0PI4j6ATka3i3CoOlzrPB9DPPPSnY1Xv7PyPXf3qXiFXLAAAAAElFTkSuQmCC",
         "type": "image",
         "xaxis": "x19",
         "yaxis": "y19"
        },
        {
         "hovertemplate": "x: %{x}<br>y: %{y}<extra></extra>",
         "name": "9",
         "source": "data:image/png;base64,iVBORw0KGgoAAAANSUhEUgAAABwAAAAcCAAAAABXZoBIAAAChUlEQVR4XgXBSXPbNhgAUCwfCJAgKIlaIsV1Xbcz6SHLIaf8pP7f5pLY09rxWIkjkRR3YiGQ9/A/L0/8Ez51ZPR7w+ev7AMbq/rwV9NVApwH2bZ1L5JFEsfjtdx2BA3GYJoM0LH8Oi5cYGIIpDQ2C1Pvg+9PlkzwsmEURSue0crQlDV0Mr0THpEZbeCZiBOXKb9al43Y0iOraDwrYZHf3MA0oXK3k/KPq/miYXqTPszjlKKinosCbjaIJICDcb59qOF9egNNOeBLJ4tHOAS0EsY8nH868/KvR+owJZty7BAgB3eOLVVi7GnGDPJpNCxemFIpl7YAo8B8QfRm+Kajq9d42Z0srSHHNtAdJHEUAW5RCD2q8S4jaKVGrzvqmhaURaZZoqPBRjKa70W8be4ufIwITSGZaOyL0Y2U2njFlsk8XH+40wiXOgXvIWpfbLzBEvHpvkt1+uer8j+Pjc9BjQjVz2SfBUT7y/CoxO2bNVRdHKQgJiL8cHtQon6cUCCm8LvM0sQDFRKAVevVb9jIcsDEl8XiNvn+VFvt8CoDEVJzQW7ymGjno/zvt/vi7kvtTSo7mIX0NR+H+aAoT17v8kPaRRYnrqcVvKvNxBiD5Q1CEcl/p+7/L5WKvfNFBZKc53h9aEmert3RVax/vNeKtf1UVHBcgDXp4tUss/3onz572nhvpzFd6QfwJvgwFNuFgnYcz0/NWiWBTyELSsE8VZbQ84/82vXI1M7UXmsZi+0ZPoL8VibmeP/MPi5nxR0yHGndiIxTwQH9tKJrCrucWf1dOs2XeTcy2Vr2NofKIWu052mE537OZIwH7XEzxFt1ALzQ2FNpUbJ0UZyX5Y/WJ7NuPK/DL41BfZX2lzewAAAAAElFTkSuQmCC",
         "type": "image",
         "xaxis": "x20",
         "yaxis": "y20"
        },
        {
         "hovertemplate": "x: %{x}<br>y: %{y}<extra></extra>",
         "name": "10",
         "source": "data:image/png;base64,iVBORw0KGgoAAAANSUhEUgAAABwAAAAcCAAAAABXZoBIAAACjElEQVR4XgXBSXMbRRgA0F6+2Xr2kSLJsoKccjhBil+S38yJAxc4pAqoFFXYRpFlrbP29PSa9/DnOb1V7vevKyOHzTr4sLn+KpYMmJvlGUCM+5p+XHtCHAGx+oC1TDeDV2V2gtZFpCXzra37wE/9t+ciL1YbY2P8eoIYK+q8iJmo0S7GMLPJcpbqWiiD4FEMIltS3pvBhD4qFkK64xhxab0cCFHIp3o4Nty703LxYDu3e7r3x8nNgAY+znxtBk0UKvTiHnO8rKe9tSaGcpCSqsHftOfkwydqIUSndPvfc0jGHuYS61absiiT9S+PWGtEd4MXb7ujPcMXpyX3AEeLbb7e6KblXRQkjDcuIfDnBoZhmUbLmRPHoutAkTtZy6ZncAE7Oo06mkhVkvPTjt9ZvxI7LSwT/8I7TzMyRfYYPlSY/392CYAe60kZ7RFiWOFpo02WsPB2OfRO34QabsMVP4C6IeYaV61cna9OdJUL2QS9agmzBjrilFVDePm7+en9+hPBz8ex6WeBsfwAklTkAvjqHF3H0c/9k7HTGWf21fZneF8HoQh8My/9sbWWc0ptFbFX5SkLD6fA0zZhj9XtdCrvKm533I+ljDNCSOb1Lgf/431B3v747RtZMRYz4A6dZQ7n4xBkEZvRb/8cWn+fp9jiOIrJNIEP+1Z3ukhutSAo8GPYX4nlZOaRor5AZp4OW7agZh2Ya5x615b3TTMm7yL5AhOC0VU/5o1Fch0WSlOHqT6JqGQr+Ito8TJbzUWPWRmTXR89VgR340CcD4woJN++VA5Vemz565SWOSBC20OswbF0EvwqGlTSTskhQETpNPW7LqjgeRtNyOr9VzH/oXnR4QaR4BricYHT1XeFgIYRi4iqcgAAAABJRU5ErkJggg==",
         "type": "image",
         "xaxis": "x",
         "yaxis": "y"
        },
        {
         "hovertemplate": "x: %{x}<br>y: %{y}<extra></extra>",
         "name": "11",
         "source": "data:image/png;base64,iVBORw0KGgoAAAANSUhEUgAAABwAAAAcCAAAAABXZoBIAAACi0lEQVR4XgXB7XbaNhgAYEl+LcvyF+BgIFlK27FmP3dJu9Fdxk7bU1jPuhEGmBhblm3JlrTnwb83GQjnlKzXv4mLUDlp3rJicIY9vYchcFN0kywbAgwTXxFlEVgy5an8A+K8vVJFFon1Sj1mcUcZi6zmaTi18DLV2owuiJ7kUaUL4hkEGlumxEDAXr0NpqeT4bojiHAmkjQ0crorG8NfrtBq/u/n9hP2+sj6PAyJJ0SvbYzh+ITvoz9OU7ykl8fNLEsb/SYmEzEGwM2l7sv6cdVT/u7DL5FZ511w8ftsLhsopMXVJc3QCS9DaIWsw3Qteoxr0QIefMQ4UVG2+Tm6lpV07CV1kdcR+itclNUk1ZC82xauPQgnqee/vqrIag6U4X4MrdUsOX79R9LNBpvb94qv+7ICQtRgxo7P0P34d/AxfonrCuc6MAgMnDEaZPLT09a2yQ49vt+9NUL5EbVkYYFPeBiDTREbPMuOdxzWf34Pw49kHGoNzxcaqnuCHE+RuMLt8O1wSnbrvsMSw1I2/vKOmgqed5IWwXn/5T5fBIO2DxxY3nsz7m59GD5H87UpxdAGNdJOrVewd673jLpNuX/abOPDGe9SF7NRyRuFPUaY0WBGA0JYUL8ee89rXaIaIGeQhBYPdPQ5jnN+/HFoXNnYtuqmNHIglnGcPYphsUWjft1X3mhmEap6GrMHMDxotSE83gb7urx3dHCzojexQXSCzUIN+odfZBIF3eSCyTJMcn07e+REnplqsIfV/b9uTj1MFx/WpiT4XPqLDTiFlR9ZY4YmmoDDwyRGPSJvRuMUWlfhaJCMCLkahZvGy5sXJv6n61lSOPBwZQ62oKtw7MscxDjXGNlBNafqfxdbflrdjcU3AAAAAElFTkSuQmCC",
         "type": "image",
         "xaxis": "x2",
         "yaxis": "y2"
        },
        {
         "hovertemplate": "x: %{x}<br>y: %{y}<extra></extra>",
         "name": "12",
         "source": "data:image/png;base64,iVBORw0KGgoAAAANSUhEUgAAABwAAAAcCAAAAABXZoBIAAACRklEQVR4XgXB3dLbNBAAUO1qJUuyYycfKS20M2W44Yr3fx6GMnyl+XHi2Ja0Wolz4POfgxpaq9vwmeZbB99uv8HDGDif4E5/BKXYFk7Z+5iTCWBd40Y8G6TfX3fiYFvJS6cQ7bGsSS8Ac/S/UEpQuIH0XtatoiHXuDKi5PxG/3RnTmRUcnJNIZiKHcKodLYBScxUH25aU6fWcXrDLc6F0JL4cyCzzaaQL6exqul8FF6SAFelTCZsULZc2Y6V96V53PKp37JAlfQkARVamYli2Zv9cBEe23+xqapeGx7Sj9z220tJCrppQFseqg9QW94oxJyglPL8zicXo+2W5TX81NbsyGLXVCvq4Jcrh18HcVMnwxHW2Dk/YavUsnIqVbW/EHMuW9895qrjThTRgNx3HSU9xx6vS52GLJ31ojJFQ9RxCsb05y8fSfYiG/hCHZQLOQ+mP0hXichpgPuzuoMqsHnt6HRsipEw8n0dzm/GCusUUydWjWS4QELi5zyTKOETXyOv5WhyQlrvN9QY6rzTGNp6yWO9FVE6fy+aeGcGg+mBb9MUMko21hyKe8UGBPa8irG5d6fz159/wM4UNEotuXqaddDa94Oq/tNRuz5EAfatgChNWnsrrTmVy/WvD/vaMhfsMw9Gd2Rrs9jiOzZ+Pi/t3/lR4JDtQTbTiDgGwsiw7znvtKSYRnqvo+ukUPVgdJGA0bm6WqBRjJVXtAaAJPUnft/CAFo2UxMriGC7ukO/IEynsH/7uzhjoSqpLb0ea218mcH/Dz/fhFkFWECcAAAAAElFTkSuQmCC",
         "type": "image",
         "xaxis": "x3",
         "yaxis": "y3"
        },
        {
         "hovertemplate": "x: %{x}<br>y: %{y}<extra></extra>",
         "name": "13",
         "source": "data:image/png;base64,iVBORw0KGgoAAAANSUhEUgAAABwAAAAcCAAAAABXZoBIAAACfElEQVR4XgXBSZLbNhQAUAwfBMBZVFtD1F12ko3L21wp58wFsnBSlV0WkV2ttkWLEkeQIKa8h39nrLXqFhWD31XzDXLrFxWKY6ohBjbfg5cxRSBpEAVjExGrFqV+xCWMXQCXZN5y5gIjeJrKDTL8Xl8PJVjPgGigE/UDjR6JI36ioMYx2BEgIisTlZiwnVK28hlhE/FFS8AtxErx6mlfjm0n+RpHYS3foYVqKd6+gjHd8XgoY06MRjHlKkBkCeYk8B6c2CTiJO7mnXhYOUZJqu99cAzZCsGhJ+bR8No/yUHJbSk27Z/fe53smU2gu3XIo3RcHkmjo0yWJ8kp1rqk7Qi14et4dhSUnSF9yaOxqelRTP18MbBOjrl763dGV9X+eDRv/9yKregHIjF4b/NsWobGPf3y65YO9ee/GiIRobmoweLkAEgNHanYrprqvz/X5jYzMkuZgnLU2gC6vfai+AgT/7lal1bLiQkPa7UtWg+b6Gtf/0vLK/uk3VnPKw4WQOVJhUy/bCvYhtfzK/70zOdBKpKYJxBOPSjBrHzhER7aH31xELhMG5d2KyTcNqXY7I77DN26mxXLQwJR2jFkYUcTdWHRtjilb1/ObXGSBg4UL3flcvjtW68aniUf3uvhbllW5s+5H70VYXCwHxuUaxyTydFtjssPu52q315HpAcFtfEsRdL/GCD6iFB0ysb+/F0x1A0a/mCrwAm5PIh/3hOLcH/tvtwRzvPVwYyw4KZVAYFhSUD9VPc0JUQABnhB+Cd6vVoh1wsqGPUxY8RCSpg0QF2RjVaIDG7ttwdnyy4JfiRIpN6DHlfsp/g4Xf4zLzCGrn+fpKGzpVXmf7QhcGkfQ6ocAAAAAElFTkSuQmCC",
         "type": "image",
         "xaxis": "x4",
         "yaxis": "y4"
        },
        {
         "hovertemplate": "x: %{x}<br>y: %{y}<extra></extra>",
         "name": "14",
         "source": "data:image/png;base64,iVBORw0KGgoAAAANSUhEUgAAABwAAAAcCAAAAABXZoBIAAACbElEQVR4XgXB2babNhQAUA1HEmIyGGzfLKfLTV/a/v+X9K0vWWmb2DeeLgYEQiPdG//+OUO1HaULR5jIrrvg7TBgPu2O/Q1O6Upd15c1HSyQr30Qa5U5ShLkNbRuhdlhnTK3cHdXu/ghC0580PgNNM7FFGuRRYzTNcSMMxawc49HcYJnm3kv6wYRJn6hj3/pUyPrnQ8eZqj3YiRptpcpT3+zpz/Pf009ZQZKiC+QC5Yolm8V8cuVUExP7XVhicLcLEBu24rST5kbnfqGWMf+2H39W0mwMTEQ1sXCllrdjYtx8dH8Wh7/+ViBoMXCmQUrgGzT2zMyG6i+5H7lbhHIYLCJG9Mc/6jUWWSe4MVNE6r0y0NioRI6qzOmhZ4FOJvmhzKWvnAT5zlw4gFswmIo83wTN4d9zD999Gzzcg2wmCFlQHqz3+y2ROa2Y024Art1BaQjY8HOZQiHtopqxWZONpv50kutoWIuk7eBibkX8/u4E8RW3b49j/KUg8D3KN8GN12eXXx5k4iIr+r80EQKQD5i2pi7WU0f16bhIm3k6+eEP6YJ5pmFwU8LqlCAdLv3uy/0/P5A2HgEo6JxNYYHgkaQ3jMBgHnWO6m/w8IiJezIx7tvcy7yOvnPjgFrai8z3PYJMeVRmAoX3JOKDN/Uul7nSmYFbAEwFSxr6qdZBR7en4+VczXx7ADQapPE6SJb9HrGmnY3rfBha4QgggJeMBqvQTS5stVEUUFWUuDIaBo1pDYQQv3QFWWCbKSUtwitwoWk8lDbhTJgQXmMjfewhNyoUiDrxAacS5xSftfQarU+LZ535THUaWezt/8BMUFumibAcbQAAAAASUVORK5CYII=",
         "type": "image",
         "xaxis": "x5",
         "yaxis": "y5"
        },
        {
         "hovertemplate": "x: %{x}<br>y: %{y}<extra></extra>",
         "name": "15",
         "source": "data:image/png;base64,iVBORw0KGgoAAAANSUhEUgAAABwAAAAcCAAAAABXZoBIAAACbUlEQVR4XgXB2W7jNhQA0EvykpRIWZbXOHVmiqJIX/oz/fY+DNCXok2KWSLbWilRFJeeQ/7IYvFzswDKmTfg4Xb/6eyUMH+5zyecnaZDCI+av1brHDQrCurrlWeIBsWmSPcWR6NDtkO7PZGpD81UkXWyWGaL527Fq07Nh8kwFmF2a8JMsBGnfs3211Qj+V5/m09c/5Znvpqsvpx7Wr9NHMptchTbxk3/1rDRSV3y3mCO+5Qe3UKHfJOlCVT+aW9dckDiUgcsbDeSlTENwSm5O1TNu8ePkAi5EeR25koRqToPRXl+kj/GmPtR5BYAn+9uc8w6GwYv8uBWhLKHp9JFX1B0p8NRNX2aQEtvV62/8tKbNQAJK20cpWZKzsq9ZMfff9EsoDNdh4Vw2A97Z0NIWcmjeHlV3dwpi8/DpHeI49K5BC3dFbPlpHm8PSKO/nmzPO1n3BvwYV1ETM7I+5bcG1S8/jh8EqNDTgiJRbUS4ExI5iIT9GymLbu/I640AA0FJtREK21l5R3Lp9lBnuHNxxQCoU6UcvdyWcxhdt9amZZd5TCW7Ry9Yx4EHl/Vl68WVp8V0nho8XKs7wvohx8P1aXya+PmQXJgc0cpbri2jFOHZblR49v7f1aKHfW+pdULDmylHHqWxR94WP78cvOX63XtA2CuscljgOTZ8l34nN/JGa6fzy2B4KFFlImW4u8P9Zz7d+aufuGxrwMuQQAKZFyr05htCzoICCKL861VxK6bExJDhTfqV02n6JhaojTdaCSFYDRNzR2IcXoXHbgReTD1oLLJ5jv4B9snK4vUhhSEsEMRZzqmc7p5AebxP9gIfeIHwFBYAAAAAElFTkSuQmCC",
         "type": "image",
         "xaxis": "x6",
         "yaxis": "y6"
        },
        {
         "hovertemplate": "x: %{x}<br>y: %{y}<extra></extra>",
         "name": "16",
         "source": "data:image/png;base64,iVBORw0KGgoAAAANSUhEUgAAABwAAAAcCAAAAABXZoBIAAACgklEQVR4XgXB2W7cNhQAUC6XFKllNJtkuwFqjNOgAfKSn+tX5ikPSYCgaGO7GXsyM9olUuLWc/BfMFTPj/eH1VO7KYT6IUhIfRIF1I891NRFtzTz54447ZOP6Ki56vPUYUyBQyNT2EfXdEJzlIOmWNrrzIZqtSZdzD0jyvlky7RbVK9ZhOhsA00OoGe2lKSPdmJsHZh7G2MUrbIwO1vB8sqCi7wsi66ma/aH/HYaKV6o86SGiwHdbXe3v+cPg9mFnUuvWoejwEIqcEkyVopkBPbFlHrSUtlNeKzchmIw843QYxMVMmXEAvPcnvul1R6lOcTtTHmvTrHY236VI0oHl6uLTcqIgqheeUgZcfOnwf1JB+SWMc5LnSY4APif0SbX0/Vim9ggEHRF2wUXsl80PGyflUV+WsJdnoKO+fGCpCeiN9MMDdv6gCyPfHizWWtnvr+E1TYYFVkBYwpuEIyHLs+Kleu6Jf1AXWxon8aEyoQkcQqmnTor9yxs0gS9VoSOYgvSk5wIVbV54RHtn66zqWiCgO2zHKQPWFul8N3hrsSPX38iq2923nRYeYBGGe09fXhfCHH+8l/Njdxl/eVCVgsUc+toPZf7uxseZkuy24zGmUC1lxLiOLJc+bGeprBk73fssNFn1+vtaABeUKZho4yt0D4q1qf1O/QS+sfHeTwB+aVI+W6HiWswGSeyLrhuTv9cW29f/oXJWi+y8tz9SDg8+cwdnz9/owVqr84Btz0ObGWc+v78tqw6gZq/TwlZQnRwQLDcsl+1/A1Xig/dGVIV7mGxgicWWpLfkuPABK2n62grdROngltuZh2Bn+NeT/s3QvshTOrksw2dbZ4301P5P3j7hHnEjbBZAAAAAElFTkSuQmCC",
         "type": "image",
         "xaxis": "x7",
         "yaxis": "y7"
        },
        {
         "hovertemplate": "x: %{x}<br>y: %{y}<extra></extra>",
         "name": "17",
         "source": "data:image/png;base64,iVBORw0KGgoAAAANSUhEUgAAABwAAAAcCAAAAABXZoBIAAACgklEQVR4XgXBSZPjNBgAUEv6ZHmLHbudpEN6lp6+UJznPP+eCzcOVAHDUAXpIY6TTrzJkrXyHvpS59pWcdttzt1msaVw1XFgUdbnP5TwmY8Dwcy1OPOEmj58Zp0a3SFL1xqCvmM5mpXu01LCRrgcpd4gh8zlDY5XGyPh7LsYe1eubx0nuARHWfD6HbTMi0AHuMB0uWkP6wJGtSI2CHcrGJTgOMbI6oKCx9vqg3JC+X+boq4hTbTNWHfxG4fq7ftPkbs/YtWItp/WsC1nHfeXCTuts2zz0/LrH/hTPqg4M1/BCsuQTcE7pYi1/Xj6J30pyx3Q9gTVxGtSoA5hy6zvfr5clnUC1Xs5ogykFDJnJqTspTBk4FLlHyLpzd2iFBxfbgiRCtFqH945iYb4Mbs3ncZ5DpEFquAhRI/5Mpy9vTbTxNtTR1G0ghkWLiiJ6q1+mxrSvpoStd/OkgoFcOIBxuE62tHXNz+Z8z3N+qUZgU3zGXfCWJVt9lvS/CfB0PLwvDLgbBCZBnaTlEH+dMiP1y5MWJy/bIDrRFoUECjpfWIssr//8ltA3EKfX9zp1EYpg0qBipVkcTR/vQI1ahW+ezp9n7xByoMDXaSlWdvO7tcQVh+r/Xj8CyJuB5skMA9lLLAnqweaFFHGlj9fHQTh0rGUQSmaAPX7Ok2DuLDuev62VCMv4JCEMyw8oLgtD1EVzO00HxuRhItnKiUFA42pS1b2zmrX3Mb+0gMOH7gFpDiFWPUGbN+jMbxfZ5QobynjuoB+InBZJm0N0FgAf7OEBVEkuymm80hK+Hu3QpirYIuScUy1NyKxQsuhl08MokeZjDdPztcfM1QugrcZDFIrX5Pgf906hFiZQ1+KAAAAAElFTkSuQmCC",
         "type": "image",
         "xaxis": "x8",
         "yaxis": "y8"
        },
        {
         "hovertemplate": "x: %{x}<br>y: %{y}<extra></extra>",
         "name": "18",
         "source": "data:image/png;base64,iVBORw0KGgoAAAANSUhEUgAAABwAAAAcCAAAAABXZoBIAAACSklEQVR4XgXByXIbNxAA0G6gsQ2HFEWVrKKXSg75kxzy/8fcUrEcq2Sbw1kw2NF5D//SY04Xud7uv/3hXws+iz0YU+j5gDMJSEyRze+zXKPvJ9yS1eYEKkyJRhF2o9CMMP+EZg6NW8uMYr35A31eUmYt9gxl1WawrQOXVYxybo5QfqQIzF6gQHd+ir+8OsmqUpeV5uGL+WZ0TkqRc44aJ28CN8cI+OfnT3N6gtxtC+o45LnsYf+Rzl+oW+L1nY3kJwMY4XxNvx71v3+j150z0KmDmeOlx25dMq539Unl8V5qTY1KILfWwaCmHte3n1PnZYuckqmaVPYJ+q4kB8Zpn5Y6TUveQbcC9HHyuVu5ZZQHGSUMtpda0KnQN8LaZAq6QMIN1YDHc3BsA6rYOq0eHlBqLLFlfby6h3ZfM7WOrD21A9tCx3Vf8fj88nI5fP/x34OxEqhN9BLaAE2gHfRRBP+hQg3CmZTdCKShCCXRNNdCkQBvr3PbZ7PVPl5Jy4qPfV2a6qCfn+6vb7uEFBPuVtM9TcOFfUDhhHI8hXg4VfZWcyv0PXpabdW6G+nq+33NdCrFANa+EKDRRojhAwArKvuGGFtNRMSVAhtjLRNdaCXR5EH5pcogJYEhkrb7quCmzlAlCC18lEbXiKOmeZBYe0b6x5yHXFNpgllh2bW70wlZ21qqzCRiSEmh7gR5S04bOqE0x3xLLM9274ooNVSqwOP12CiTHvRWW5C15A3RhkIazchtXujr6WrCVxgHg8v7baQFRiJsOpX92//dDXjJK1HCUAAAAABJRU5ErkJggg==",
         "type": "image",
         "xaxis": "x9",
         "yaxis": "y9"
        },
        {
         "hovertemplate": "x: %{x}<br>y: %{y}<extra></extra>",
         "name": "19",
         "source": "data:image/png;base64,iVBORw0KGgoAAAANSUhEUgAAABwAAAAcCAAAAABXZoBIAAACd0lEQVR4XgXB647bRBgA0Ll8M/aM74mTNt1lKwUhIfoD8US8NQK0SFUL7G7j2LEn9thz7Tn49x369oetATGsf/0xrNs6KhnV6OhkADtxBBUMqQz1k+fLhEAuYy+P7QTBIBA9AZHQTWFD3SBEthGRcLHA17rERpUZ51mwhppsw9yJU3+7lhbGMlJeBpU97dWcVU4uPNcX1xukJ5B0iSgS1hyL5GFXWL4yOqyvwDghcFBqdfW+fUjqnLbOGM61R8lhwekJ9ouH5SqyChH8opduoh+S7lXLnQkJFB9rMypMN9d1f95TWOOYDNeYIxABFLQbgsPhvP37tnxO3qXxxpJiXkBQTUYdSaSZfBLKJW2JgHiStQ1R4zzDP2eGMmQ4D6n1chxInsbJBz+v+R4oui3BiDQt3os9/+IDLvG9ZyJEJyFzvo+7Ki4NrDNP2tHnQoKfKqoMMMxpds69riMyHiS5pw1i1Quawx6IqDHVQ94sejTx9ZswJpXpgxzX3RmorOvpDann5l2w63SjTPc/sbv1DGYiaHdVFtwcHz898nld3HqX+3mg8v4/oOlujM2BM0NEBTokvCgTPE525OD0yuKyWv64guOnAX6QtYTMjyuzMBSpxc3wxR2eGuLz3w5nbv1mNpzscuhKqUnjJob+2wQr2g8t8dfPz89LHQlUEigJONvX/SW1MddX5ru//h78Ua/wi7lwttJT7v3Lle1aPQ1OT/XPbzArCN4ii06t6zal8Gjl5UIkdS4aPUNwKSa4PnZvN4B17CuMMFq+st3SBRAb4rW538w8hYylc/9eMEcfcvSSlpDsrWrqoUfWmUx4jgtGvGzFdCsO3wEsFHMYGuIRbgAAAABJRU5ErkJggg==",
         "type": "image",
         "xaxis": "x10",
         "yaxis": "y10"
        }
       ],
       "layout": {
        "annotations": [
         {
          "font": {},
          "showarrow": false,
          "text": "facet_col=10",
          "x": 0.04100000000000001,
          "xanchor": "center",
          "xref": "paper",
          "y": 0.46499999999999997,
          "yanchor": "bottom",
          "yref": "paper"
         },
         {
          "font": {},
          "showarrow": false,
          "text": "facet_col=11",
          "x": 0.14300000000000004,
          "xanchor": "center",
          "xref": "paper",
          "y": 0.46499999999999997,
          "yanchor": "bottom",
          "yref": "paper"
         },
         {
          "font": {},
          "showarrow": false,
          "text": "facet_col=12",
          "x": 0.24500000000000005,
          "xanchor": "center",
          "xref": "paper",
          "y": 0.46499999999999997,
          "yanchor": "bottom",
          "yref": "paper"
         },
         {
          "font": {},
          "showarrow": false,
          "text": "facet_col=13",
          "x": 0.3470000000000001,
          "xanchor": "center",
          "xref": "paper",
          "y": 0.46499999999999997,
          "yanchor": "bottom",
          "yref": "paper"
         },
         {
          "font": {},
          "showarrow": false,
          "text": "facet_col=14",
          "x": 0.44900000000000007,
          "xanchor": "center",
          "xref": "paper",
          "y": 0.46499999999999997,
          "yanchor": "bottom",
          "yref": "paper"
         },
         {
          "font": {},
          "showarrow": false,
          "text": "facet_col=15",
          "x": 0.5510000000000002,
          "xanchor": "center",
          "xref": "paper",
          "y": 0.46499999999999997,
          "yanchor": "bottom",
          "yref": "paper"
         },
         {
          "font": {},
          "showarrow": false,
          "text": "facet_col=16",
          "x": 0.6530000000000001,
          "xanchor": "center",
          "xref": "paper",
          "y": 0.46499999999999997,
          "yanchor": "bottom",
          "yref": "paper"
         },
         {
          "font": {},
          "showarrow": false,
          "text": "facet_col=17",
          "x": 0.7550000000000001,
          "xanchor": "center",
          "xref": "paper",
          "y": 0.46499999999999997,
          "yanchor": "bottom",
          "yref": "paper"
         },
         {
          "font": {},
          "showarrow": false,
          "text": "facet_col=18",
          "x": 0.8570000000000002,
          "xanchor": "center",
          "xref": "paper",
          "y": 0.46499999999999997,
          "yanchor": "bottom",
          "yref": "paper"
         },
         {
          "font": {},
          "showarrow": false,
          "text": "facet_col=19",
          "x": 0.9590000000000002,
          "xanchor": "center",
          "xref": "paper",
          "y": 0.46499999999999997,
          "yanchor": "bottom",
          "yref": "paper"
         },
         {
          "font": {},
          "showarrow": false,
          "text": "facet_col=0",
          "x": 0.04100000000000001,
          "xanchor": "center",
          "xref": "paper",
          "y": 0.9999999999999999,
          "yanchor": "bottom",
          "yref": "paper"
         },
         {
          "font": {},
          "showarrow": false,
          "text": "facet_col=1",
          "x": 0.14300000000000004,
          "xanchor": "center",
          "xref": "paper",
          "y": 0.9999999999999999,
          "yanchor": "bottom",
          "yref": "paper"
         },
         {
          "font": {},
          "showarrow": false,
          "text": "facet_col=2",
          "x": 0.24500000000000005,
          "xanchor": "center",
          "xref": "paper",
          "y": 0.9999999999999999,
          "yanchor": "bottom",
          "yref": "paper"
         },
         {
          "font": {},
          "showarrow": false,
          "text": "facet_col=3",
          "x": 0.3470000000000001,
          "xanchor": "center",
          "xref": "paper",
          "y": 0.9999999999999999,
          "yanchor": "bottom",
          "yref": "paper"
         },
         {
          "font": {},
          "showarrow": false,
          "text": "facet_col=4",
          "x": 0.44900000000000007,
          "xanchor": "center",
          "xref": "paper",
          "y": 0.9999999999999999,
          "yanchor": "bottom",
          "yref": "paper"
         },
         {
          "font": {},
          "showarrow": false,
          "text": "facet_col=5",
          "x": 0.5510000000000002,
          "xanchor": "center",
          "xref": "paper",
          "y": 0.9999999999999999,
          "yanchor": "bottom",
          "yref": "paper"
         },
         {
          "font": {},
          "showarrow": false,
          "text": "facet_col=6",
          "x": 0.6530000000000001,
          "xanchor": "center",
          "xref": "paper",
          "y": 0.9999999999999999,
          "yanchor": "bottom",
          "yref": "paper"
         },
         {
          "font": {},
          "showarrow": false,
          "text": "facet_col=7",
          "x": 0.7550000000000001,
          "xanchor": "center",
          "xref": "paper",
          "y": 0.9999999999999999,
          "yanchor": "bottom",
          "yref": "paper"
         },
         {
          "font": {},
          "showarrow": false,
          "text": "facet_col=8",
          "x": 0.8570000000000002,
          "xanchor": "center",
          "xref": "paper",
          "y": 0.9999999999999999,
          "yanchor": "bottom",
          "yref": "paper"
         },
         {
          "font": {},
          "showarrow": false,
          "text": "facet_col=9",
          "x": 0.9590000000000002,
          "xanchor": "center",
          "xref": "paper",
          "y": 0.9999999999999999,
          "yanchor": "bottom",
          "yref": "paper"
         }
        ],
        "template": {
         "data": {
          "bar": [
           {
            "error_x": {
             "color": "#2a3f5f"
            },
            "error_y": {
             "color": "#2a3f5f"
            },
            "marker": {
             "line": {
              "color": "#E5ECF6",
              "width": 0.5
             },
             "pattern": {
              "fillmode": "overlay",
              "size": 10,
              "solidity": 0.2
             }
            },
            "type": "bar"
           }
          ],
          "barpolar": [
           {
            "marker": {
             "line": {
              "color": "#E5ECF6",
              "width": 0.5
             },
             "pattern": {
              "fillmode": "overlay",
              "size": 10,
              "solidity": 0.2
             }
            },
            "type": "barpolar"
           }
          ],
          "carpet": [
           {
            "aaxis": {
             "endlinecolor": "#2a3f5f",
             "gridcolor": "white",
             "linecolor": "white",
             "minorgridcolor": "white",
             "startlinecolor": "#2a3f5f"
            },
            "baxis": {
             "endlinecolor": "#2a3f5f",
             "gridcolor": "white",
             "linecolor": "white",
             "minorgridcolor": "white",
             "startlinecolor": "#2a3f5f"
            },
            "type": "carpet"
           }
          ],
          "choropleth": [
           {
            "colorbar": {
             "outlinewidth": 0,
             "ticks": ""
            },
            "type": "choropleth"
           }
          ],
          "contour": [
           {
            "colorbar": {
             "outlinewidth": 0,
             "ticks": ""
            },
            "colorscale": [
             [
              0,
              "#0d0887"
             ],
             [
              0.1111111111111111,
              "#46039f"
             ],
             [
              0.2222222222222222,
              "#7201a8"
             ],
             [
              0.3333333333333333,
              "#9c179e"
             ],
             [
              0.4444444444444444,
              "#bd3786"
             ],
             [
              0.5555555555555556,
              "#d8576b"
             ],
             [
              0.6666666666666666,
              "#ed7953"
             ],
             [
              0.7777777777777778,
              "#fb9f3a"
             ],
             [
              0.8888888888888888,
              "#fdca26"
             ],
             [
              1,
              "#f0f921"
             ]
            ],
            "type": "contour"
           }
          ],
          "contourcarpet": [
           {
            "colorbar": {
             "outlinewidth": 0,
             "ticks": ""
            },
            "type": "contourcarpet"
           }
          ],
          "heatmap": [
           {
            "colorbar": {
             "outlinewidth": 0,
             "ticks": ""
            },
            "colorscale": [
             [
              0,
              "#0d0887"
             ],
             [
              0.1111111111111111,
              "#46039f"
             ],
             [
              0.2222222222222222,
              "#7201a8"
             ],
             [
              0.3333333333333333,
              "#9c179e"
             ],
             [
              0.4444444444444444,
              "#bd3786"
             ],
             [
              0.5555555555555556,
              "#d8576b"
             ],
             [
              0.6666666666666666,
              "#ed7953"
             ],
             [
              0.7777777777777778,
              "#fb9f3a"
             ],
             [
              0.8888888888888888,
              "#fdca26"
             ],
             [
              1,
              "#f0f921"
             ]
            ],
            "type": "heatmap"
           }
          ],
          "heatmapgl": [
           {
            "colorbar": {
             "outlinewidth": 0,
             "ticks": ""
            },
            "colorscale": [
             [
              0,
              "#0d0887"
             ],
             [
              0.1111111111111111,
              "#46039f"
             ],
             [
              0.2222222222222222,
              "#7201a8"
             ],
             [
              0.3333333333333333,
              "#9c179e"
             ],
             [
              0.4444444444444444,
              "#bd3786"
             ],
             [
              0.5555555555555556,
              "#d8576b"
             ],
             [
              0.6666666666666666,
              "#ed7953"
             ],
             [
              0.7777777777777778,
              "#fb9f3a"
             ],
             [
              0.8888888888888888,
              "#fdca26"
             ],
             [
              1,
              "#f0f921"
             ]
            ],
            "type": "heatmapgl"
           }
          ],
          "histogram": [
           {
            "marker": {
             "pattern": {
              "fillmode": "overlay",
              "size": 10,
              "solidity": 0.2
             }
            },
            "type": "histogram"
           }
          ],
          "histogram2d": [
           {
            "colorbar": {
             "outlinewidth": 0,
             "ticks": ""
            },
            "colorscale": [
             [
              0,
              "#0d0887"
             ],
             [
              0.1111111111111111,
              "#46039f"
             ],
             [
              0.2222222222222222,
              "#7201a8"
             ],
             [
              0.3333333333333333,
              "#9c179e"
             ],
             [
              0.4444444444444444,
              "#bd3786"
             ],
             [
              0.5555555555555556,
              "#d8576b"
             ],
             [
              0.6666666666666666,
              "#ed7953"
             ],
             [
              0.7777777777777778,
              "#fb9f3a"
             ],
             [
              0.8888888888888888,
              "#fdca26"
             ],
             [
              1,
              "#f0f921"
             ]
            ],
            "type": "histogram2d"
           }
          ],
          "histogram2dcontour": [
           {
            "colorbar": {
             "outlinewidth": 0,
             "ticks": ""
            },
            "colorscale": [
             [
              0,
              "#0d0887"
             ],
             [
              0.1111111111111111,
              "#46039f"
             ],
             [
              0.2222222222222222,
              "#7201a8"
             ],
             [
              0.3333333333333333,
              "#9c179e"
             ],
             [
              0.4444444444444444,
              "#bd3786"
             ],
             [
              0.5555555555555556,
              "#d8576b"
             ],
             [
              0.6666666666666666,
              "#ed7953"
             ],
             [
              0.7777777777777778,
              "#fb9f3a"
             ],
             [
              0.8888888888888888,
              "#fdca26"
             ],
             [
              1,
              "#f0f921"
             ]
            ],
            "type": "histogram2dcontour"
           }
          ],
          "mesh3d": [
           {
            "colorbar": {
             "outlinewidth": 0,
             "ticks": ""
            },
            "type": "mesh3d"
           }
          ],
          "parcoords": [
           {
            "line": {
             "colorbar": {
              "outlinewidth": 0,
              "ticks": ""
             }
            },
            "type": "parcoords"
           }
          ],
          "pie": [
           {
            "automargin": true,
            "type": "pie"
           }
          ],
          "scatter": [
           {
            "fillpattern": {
             "fillmode": "overlay",
             "size": 10,
             "solidity": 0.2
            },
            "type": "scatter"
           }
          ],
          "scatter3d": [
           {
            "line": {
             "colorbar": {
              "outlinewidth": 0,
              "ticks": ""
             }
            },
            "marker": {
             "colorbar": {
              "outlinewidth": 0,
              "ticks": ""
             }
            },
            "type": "scatter3d"
           }
          ],
          "scattercarpet": [
           {
            "marker": {
             "colorbar": {
              "outlinewidth": 0,
              "ticks": ""
             }
            },
            "type": "scattercarpet"
           }
          ],
          "scattergeo": [
           {
            "marker": {
             "colorbar": {
              "outlinewidth": 0,
              "ticks": ""
             }
            },
            "type": "scattergeo"
           }
          ],
          "scattergl": [
           {
            "marker": {
             "colorbar": {
              "outlinewidth": 0,
              "ticks": ""
             }
            },
            "type": "scattergl"
           }
          ],
          "scattermapbox": [
           {
            "marker": {
             "colorbar": {
              "outlinewidth": 0,
              "ticks": ""
             }
            },
            "type": "scattermapbox"
           }
          ],
          "scatterpolar": [
           {
            "marker": {
             "colorbar": {
              "outlinewidth": 0,
              "ticks": ""
             }
            },
            "type": "scatterpolar"
           }
          ],
          "scatterpolargl": [
           {
            "marker": {
             "colorbar": {
              "outlinewidth": 0,
              "ticks": ""
             }
            },
            "type": "scatterpolargl"
           }
          ],
          "scatterternary": [
           {
            "marker": {
             "colorbar": {
              "outlinewidth": 0,
              "ticks": ""
             }
            },
            "type": "scatterternary"
           }
          ],
          "surface": [
           {
            "colorbar": {
             "outlinewidth": 0,
             "ticks": ""
            },
            "colorscale": [
             [
              0,
              "#0d0887"
             ],
             [
              0.1111111111111111,
              "#46039f"
             ],
             [
              0.2222222222222222,
              "#7201a8"
             ],
             [
              0.3333333333333333,
              "#9c179e"
             ],
             [
              0.4444444444444444,
              "#bd3786"
             ],
             [
              0.5555555555555556,
              "#d8576b"
             ],
             [
              0.6666666666666666,
              "#ed7953"
             ],
             [
              0.7777777777777778,
              "#fb9f3a"
             ],
             [
              0.8888888888888888,
              "#fdca26"
             ],
             [
              1,
              "#f0f921"
             ]
            ],
            "type": "surface"
           }
          ],
          "table": [
           {
            "cells": {
             "fill": {
              "color": "#EBF0F8"
             },
             "line": {
              "color": "white"
             }
            },
            "header": {
             "fill": {
              "color": "#C8D4E3"
             },
             "line": {
              "color": "white"
             }
            },
            "type": "table"
           }
          ]
         },
         "layout": {
          "annotationdefaults": {
           "arrowcolor": "#2a3f5f",
           "arrowhead": 0,
           "arrowwidth": 1
          },
          "autotypenumbers": "strict",
          "coloraxis": {
           "colorbar": {
            "outlinewidth": 0,
            "ticks": ""
           }
          },
          "colorscale": {
           "diverging": [
            [
             0,
             "#8e0152"
            ],
            [
             0.1,
             "#c51b7d"
            ],
            [
             0.2,
             "#de77ae"
            ],
            [
             0.3,
             "#f1b6da"
            ],
            [
             0.4,
             "#fde0ef"
            ],
            [
             0.5,
             "#f7f7f7"
            ],
            [
             0.6,
             "#e6f5d0"
            ],
            [
             0.7,
             "#b8e186"
            ],
            [
             0.8,
             "#7fbc41"
            ],
            [
             0.9,
             "#4d9221"
            ],
            [
             1,
             "#276419"
            ]
           ],
           "sequential": [
            [
             0,
             "#0d0887"
            ],
            [
             0.1111111111111111,
             "#46039f"
            ],
            [
             0.2222222222222222,
             "#7201a8"
            ],
            [
             0.3333333333333333,
             "#9c179e"
            ],
            [
             0.4444444444444444,
             "#bd3786"
            ],
            [
             0.5555555555555556,
             "#d8576b"
            ],
            [
             0.6666666666666666,
             "#ed7953"
            ],
            [
             0.7777777777777778,
             "#fb9f3a"
            ],
            [
             0.8888888888888888,
             "#fdca26"
            ],
            [
             1,
             "#f0f921"
            ]
           ],
           "sequentialminus": [
            [
             0,
             "#0d0887"
            ],
            [
             0.1111111111111111,
             "#46039f"
            ],
            [
             0.2222222222222222,
             "#7201a8"
            ],
            [
             0.3333333333333333,
             "#9c179e"
            ],
            [
             0.4444444444444444,
             "#bd3786"
            ],
            [
             0.5555555555555556,
             "#d8576b"
            ],
            [
             0.6666666666666666,
             "#ed7953"
            ],
            [
             0.7777777777777778,
             "#fb9f3a"
            ],
            [
             0.8888888888888888,
             "#fdca26"
            ],
            [
             1,
             "#f0f921"
            ]
           ]
          },
          "colorway": [
           "#636efa",
           "#EF553B",
           "#00cc96",
           "#ab63fa",
           "#FFA15A",
           "#19d3f3",
           "#FF6692",
           "#B6E880",
           "#FF97FF",
           "#FECB52"
          ],
          "font": {
           "color": "#2a3f5f"
          },
          "geo": {
           "bgcolor": "white",
           "lakecolor": "white",
           "landcolor": "#E5ECF6",
           "showlakes": true,
           "showland": true,
           "subunitcolor": "white"
          },
          "hoverlabel": {
           "align": "left"
          },
          "hovermode": "closest",
          "mapbox": {
           "style": "light"
          },
          "paper_bgcolor": "white",
          "plot_bgcolor": "#E5ECF6",
          "polar": {
           "angularaxis": {
            "gridcolor": "white",
            "linecolor": "white",
            "ticks": ""
           },
           "bgcolor": "#E5ECF6",
           "radialaxis": {
            "gridcolor": "white",
            "linecolor": "white",
            "ticks": ""
           }
          },
          "scene": {
           "xaxis": {
            "backgroundcolor": "#E5ECF6",
            "gridcolor": "white",
            "gridwidth": 2,
            "linecolor": "white",
            "showbackground": true,
            "ticks": "",
            "zerolinecolor": "white"
           },
           "yaxis": {
            "backgroundcolor": "#E5ECF6",
            "gridcolor": "white",
            "gridwidth": 2,
            "linecolor": "white",
            "showbackground": true,
            "ticks": "",
            "zerolinecolor": "white"
           },
           "zaxis": {
            "backgroundcolor": "#E5ECF6",
            "gridcolor": "white",
            "gridwidth": 2,
            "linecolor": "white",
            "showbackground": true,
            "ticks": "",
            "zerolinecolor": "white"
           }
          },
          "shapedefaults": {
           "line": {
            "color": "#2a3f5f"
           }
          },
          "ternary": {
           "aaxis": {
            "gridcolor": "white",
            "linecolor": "white",
            "ticks": ""
           },
           "baxis": {
            "gridcolor": "white",
            "linecolor": "white",
            "ticks": ""
           },
           "bgcolor": "#E5ECF6",
           "caxis": {
            "gridcolor": "white",
            "linecolor": "white",
            "ticks": ""
           }
          },
          "title": {
           "x": 0.05
          },
          "xaxis": {
           "automargin": true,
           "gridcolor": "white",
           "linecolor": "white",
           "ticks": "",
           "title": {
            "standoff": 15
           },
           "zerolinecolor": "white",
           "zerolinewidth": 2
          },
          "yaxis": {
           "automargin": true,
           "gridcolor": "white",
           "linecolor": "white",
           "ticks": "",
           "title": {
            "standoff": 15
           },
           "zerolinecolor": "white",
           "zerolinewidth": 2
          }
         }
        },
        "title": {
         "text": "SKlearn PCA + scipy filters"
        },
        "xaxis": {
         "anchor": "y",
         "domain": [
          0,
          0.08200000000000002
         ]
        },
        "xaxis10": {
         "anchor": "y10",
         "domain": [
          0.9180000000000001,
          1
         ],
         "matches": "x"
        },
        "xaxis11": {
         "anchor": "y11",
         "domain": [
          0,
          0.08200000000000002
         ],
         "matches": "x",
         "showticklabels": false
        },
        "xaxis12": {
         "anchor": "y12",
         "domain": [
          0.10200000000000002,
          0.18400000000000005
         ],
         "matches": "x",
         "showticklabels": false
        },
        "xaxis13": {
         "anchor": "y13",
         "domain": [
          0.20400000000000004,
          0.28600000000000003
         ],
         "matches": "x",
         "showticklabels": false
        },
        "xaxis14": {
         "anchor": "y14",
         "domain": [
          0.30600000000000005,
          0.38800000000000007
         ],
         "matches": "x",
         "showticklabels": false
        },
        "xaxis15": {
         "anchor": "y15",
         "domain": [
          0.4080000000000001,
          0.4900000000000001
         ],
         "matches": "x",
         "showticklabels": false
        },
        "xaxis16": {
         "anchor": "y16",
         "domain": [
          0.5100000000000001,
          0.5920000000000001
         ],
         "matches": "x",
         "showticklabels": false
        },
        "xaxis17": {
         "anchor": "y17",
         "domain": [
          0.6120000000000001,
          0.6940000000000002
         ],
         "matches": "x",
         "showticklabels": false
        },
        "xaxis18": {
         "anchor": "y18",
         "domain": [
          0.7140000000000001,
          0.796
         ],
         "matches": "x",
         "showticklabels": false
        },
        "xaxis19": {
         "anchor": "y19",
         "domain": [
          0.8160000000000002,
          0.8980000000000001
         ],
         "matches": "x",
         "showticklabels": false
        },
        "xaxis2": {
         "anchor": "y2",
         "domain": [
          0.10200000000000002,
          0.18400000000000005
         ],
         "matches": "x"
        },
        "xaxis20": {
         "anchor": "y20",
         "domain": [
          0.9180000000000001,
          1
         ],
         "matches": "x",
         "showticklabels": false
        },
        "xaxis3": {
         "anchor": "y3",
         "domain": [
          0.20400000000000004,
          0.28600000000000003
         ],
         "matches": "x"
        },
        "xaxis4": {
         "anchor": "y4",
         "domain": [
          0.30600000000000005,
          0.38800000000000007
         ],
         "matches": "x"
        },
        "xaxis5": {
         "anchor": "y5",
         "domain": [
          0.4080000000000001,
          0.4900000000000001
         ],
         "matches": "x"
        },
        "xaxis6": {
         "anchor": "y6",
         "domain": [
          0.5100000000000001,
          0.5920000000000001
         ],
         "matches": "x"
        },
        "xaxis7": {
         "anchor": "y7",
         "domain": [
          0.6120000000000001,
          0.6940000000000002
         ],
         "matches": "x"
        },
        "xaxis8": {
         "anchor": "y8",
         "domain": [
          0.7140000000000001,
          0.796
         ],
         "matches": "x"
        },
        "xaxis9": {
         "anchor": "y9",
         "domain": [
          0.8160000000000002,
          0.8980000000000001
         ],
         "matches": "x"
        },
        "yaxis": {
         "anchor": "x",
         "domain": [
          0,
          0.46499999999999997
         ]
        },
        "yaxis10": {
         "anchor": "x10",
         "domain": [
          0,
          0.46499999999999997
         ],
         "matches": "y",
         "showticklabels": false
        },
        "yaxis11": {
         "anchor": "x11",
         "domain": [
          0.5349999999999999,
          0.9999999999999999
         ],
         "matches": "y"
        },
        "yaxis12": {
         "anchor": "x12",
         "domain": [
          0.5349999999999999,
          0.9999999999999999
         ],
         "matches": "y",
         "showticklabels": false
        },
        "yaxis13": {
         "anchor": "x13",
         "domain": [
          0.5349999999999999,
          0.9999999999999999
         ],
         "matches": "y",
         "showticklabels": false
        },
        "yaxis14": {
         "anchor": "x14",
         "domain": [
          0.5349999999999999,
          0.9999999999999999
         ],
         "matches": "y",
         "showticklabels": false
        },
        "yaxis15": {
         "anchor": "x15",
         "domain": [
          0.5349999999999999,
          0.9999999999999999
         ],
         "matches": "y",
         "showticklabels": false
        },
        "yaxis16": {
         "anchor": "x16",
         "domain": [
          0.5349999999999999,
          0.9999999999999999
         ],
         "matches": "y",
         "showticklabels": false
        },
        "yaxis17": {
         "anchor": "x17",
         "domain": [
          0.5349999999999999,
          0.9999999999999999
         ],
         "matches": "y",
         "showticklabels": false
        },
        "yaxis18": {
         "anchor": "x18",
         "domain": [
          0.5349999999999999,
          0.9999999999999999
         ],
         "matches": "y",
         "showticklabels": false
        },
        "yaxis19": {
         "anchor": "x19",
         "domain": [
          0.5349999999999999,
          0.9999999999999999
         ],
         "matches": "y",
         "showticklabels": false
        },
        "yaxis2": {
         "anchor": "x2",
         "domain": [
          0,
          0.46499999999999997
         ],
         "matches": "y",
         "showticklabels": false
        },
        "yaxis20": {
         "anchor": "x20",
         "domain": [
          0.5349999999999999,
          0.9999999999999999
         ],
         "matches": "y",
         "showticklabels": false
        },
        "yaxis3": {
         "anchor": "x3",
         "domain": [
          0,
          0.46499999999999997
         ],
         "matches": "y",
         "showticklabels": false
        },
        "yaxis4": {
         "anchor": "x4",
         "domain": [
          0,
          0.46499999999999997
         ],
         "matches": "y",
         "showticklabels": false
        },
        "yaxis5": {
         "anchor": "x5",
         "domain": [
          0,
          0.46499999999999997
         ],
         "matches": "y",
         "showticklabels": false
        },
        "yaxis6": {
         "anchor": "x6",
         "domain": [
          0,
          0.46499999999999997
         ],
         "matches": "y",
         "showticklabels": false
        },
        "yaxis7": {
         "anchor": "x7",
         "domain": [
          0,
          0.46499999999999997
         ],
         "matches": "y",
         "showticklabels": false
        },
        "yaxis8": {
         "anchor": "x8",
         "domain": [
          0,
          0.46499999999999997
         ],
         "matches": "y",
         "showticklabels": false
        },
        "yaxis9": {
         "anchor": "x9",
         "domain": [
          0,
          0.46499999999999997
         ],
         "matches": "y",
         "showticklabels": false
        }
       }
      }
     },
     "metadata": {},
     "output_type": "display_data"
    }
   ],
   "source": [
    "start = time.time()\n",
    "sklearn_result, sk_pca = denoise_sklearn(X, pca_components=.7, gaussian_sigma=.8, median_size=1)\n",
    "show_images(sklearn_result, \"SKlearn PCA + scipy filters\", col_wrap=col_wrap)\n",
    "sk_time = time.time() - start"
   ]
  },
  {
   "cell_type": "markdown",
   "metadata": {},
   "source": [
    "## Let's create our own PCA !"
   ]
  },
  {
   "cell_type": "code",
   "execution_count": 118,
   "metadata": {},
   "outputs": [],
   "source": [
    "class MyPCA:\n",
    "    def __init__(self, n_components: int = None) -> None:\n",
    "        self._components = n_components\n",
    "\n",
    "    def normalize_x(self, X):\n",
    "        mean = np.mean(X, axis=0)\n",
    "        std_dev = np.std(X, axis=0)\n",
    "\n",
    "        X = (X - mean) / std_dev\n",
    "\n",
    "        return X, mean, std_dev\n",
    "\n",
    "    def fit_transform(self, X):\n",
    "        if self._components is None:\n",
    "            self._components = X.shape[1]\n",
    "\n",
    "        # 1. Normalize X\n",
    "        X, self._X_mean, self._X_std_dev = self.normalize_x(X)\n",
    "\n",
    "        # 2. Calculate covariance matrix\n",
    "        cov_matrix = np.cov(X, rowvar=False)\n",
    "\n",
    "        # 3. Calculate eigen-vectors and eigen-values\n",
    "        self._eig_vals, self._eig_vecs = np.linalg.eig(cov_matrix)\n",
    "\n",
    "        # 4. Deduct PCA\n",
    "        indices = np.argsort(self._eig_vals)[::-1]\n",
    "\n",
    "        sort_eig_vecs = self._eig_vecs[:, indices]\n",
    "        self._sort_eig_vals = self._eig_vals[indices]\n",
    "\n",
    "        self._sel_eig_vecs = sort_eig_vecs[:, :self._components]\n",
    "\n",
    "        return np.dot(X, self._sel_eig_vecs)\n",
    "\n",
    "    def explained_variance_ratio_(self):\n",
    "        return np.real(self._sort_eig_vals / np.sum(self._sort_eig_vals))[:self._components]\n",
    "\n",
    "    def inverse_transform(self, X_pca):\n",
    "        dot_product = np.dot(X_pca, self._sel_eig_vecs.T)\n",
    "        return np.real((dot_product * self._X_std_dev) + self._X_mean)  # avoid complex issues"
   ]
  },
  {
   "cell_type": "code",
   "execution_count": 119,
   "metadata": {},
   "outputs": [],
   "source": [
    "def denoise(images: pd.DataFrame,\n",
    "            pca_components: float = None,\n",
    "            gaussian_strength: int = None,\n",
    "            median_strength: int = None):\n",
    "\n",
    "    side_length = int(np.sqrt(images.shape[1]))\n",
    "\n",
    "    my_pca = MyPCA(n_components=pca_components)\n",
    "    images = my_pca.fit_transform(images.values)\n",
    "    images = my_pca.inverse_transform(images)\n",
    "\n",
    "    images = apply_filters(images,\n",
    "                           side_length,\n",
    "                           sigma=gaussian_strength,\n",
    "                           size=median_strength)\n",
    "\n",
    "    return pd.DataFrame(images), my_pca"
   ]
  },
  {
   "cell_type": "code",
   "execution_count": 120,
   "metadata": {},
   "outputs": [
    {
     "data": {
      "application/vnd.plotly.v1+json": {
       "config": {
        "plotlyServerURL": "https://plot.ly"
       },
       "data": [
        {
         "hovertemplate": "x: %{x}<br>y: %{y}<extra></extra>",
         "name": "0",
         "source": "data:image/png;base64,iVBORw0KGgoAAAANSUhEUgAAABwAAAAcCAAAAABXZoBIAAADKklEQVR4XgXBS2zbZAAAYPu387bjvF91kq5tlmRt2qY009hKXyoT7DAJkCYOdBK3IeDEmQMSd27cKMcKCYkTQ3RCLB0tZSltQpsuz7puEzdp7DpNHMdxYofvg59o517Eu0ed4WpbsYxuPq5Xw93rK4h0C3IM/gYq2zXhjenITsxcNOFB5pVGtOheP4RFFEdPbF79z0i0yaha2mTJBgrDd+R20ADwtkMCi4PW7mpWJuebg300s39oSJRK/QNM36SrLfjrQpw9D/XqndWyXfI6TnrIhf6+b5PcBaQfhYIHhBPmx3vahmZxq1mDtLMO4WyYVD/+voXaTvmJLoW/dKrjuR8SF+qMSs8IhfhUWRofQbk9nCs9O5y12Q9dnKdYY5aqu2hJWVNu1iT4p0Gj1DG5eFPDmu6GkKHsnsLTf/Xm4qkei9LZnXvDfjtowPhxwqBDPV7XL03zoy23UQfA6Vuf3O7qhoBoCRJUFCMSxRib0YOF/H9sHTAVkexJlX3OABb/pAiNXXr5W0Lop7rviX547V5u4LkWzQtbsQvtZ0dClsxPCKCCaehwHkwe4V9aGLvywoMgH1R7JLHdqfYKRrzqThCg0R18Z/4Q5kcLrKOM8tTg7mgma8qL1O1hBwzuWB4+L3OelMISI1hgm6glH0sz0ehSMxUFuuPZ5a8Ad7piItuVYnBtgx5Jf1T1MmdYy4o6iW1W3L2b76wY5y//2HMsWJnKP6TttRcWaHDmUHeiCdYeVOV/kxMRidLPvO9qUnDt1rEPflpYYc79d8Y2Ph1mcgYXhHOM3RAypFplpx8Njmkcyama/EVdhIyh3y1u9O1zVyYiBx4cBwD0a7q13pf0CmKHrfVgGBGtsgyxwtWPZh60P8e6R+5AjvHh9Bzaqt03CMZLf+YpNgsYeF17GTsz3ZLA8qbO7ikCPvh8SUk+kG3XKA9ysT7jgZB++ltu/qpUhkebegpfdnCvopMK/Ey18mOmG+dBI0pPUkqoMoiXTwb8/N8R7Ar4KGyMToo15+LNdLViy3UebcOWZfP0uo9Q4ScmY9+T7b7b6OwZSfKNDdEbWSXy5twjhNP/A8hSjDc/VR1/AAAAAElFTkSuQmCC",
         "type": "image",
         "xaxis": "x11",
         "yaxis": "y11"
        },
        {
         "hovertemplate": "x: %{x}<br>y: %{y}<extra></extra>",
         "name": "1",
         "source": "data:image/png;base64,iVBORw0KGgoAAAANSUhEUgAAABwAAAAcCAAAAABXZoBIAAADNElEQVR4XgXB+28adQAAcO57d3DA0Tuu0EJ5r7tRSt/1NlrUWbt19bWZOaNxUWPiD+pPJib+C/627Cd/URMTTUxq1B9cjMvcsofF0q2ltIMOSDtKeZb3Acdx3MPPB3pnxGB9qPKh8GNnlDFAjYGsd8dD3+fjcwNZwBxVQ5BbLmx9hp3PGXgBOikO4jdp0oNKS+DJidJ3aNooc5u8O3ajpMvbFlx1JrkAjxK/IPRqvKbO2VjZ9Nd82IfvjrI3g/10VX8sKFMgsy/4PZ3m/SLx9QgTYJZWetdsvt6F6DL6WgsEJQ//UMGu8tjwB07yGMn5hKLqelKtnSxL0CoMuxOfblKvxhXPuv4UHA9I/5w0AHZgWHVD3zxCp7rswdyKjGEVwM5uKARIiM1qTVZIaKnjEwMZBBoa6Xhrm8ZlHt6rgomwPmarEsisgpv+vMzO5FPtW9qn1PaIH6t62hW0pBFDoIeYeO/jJjBeZSnoitkKPygTzq1ADNaYNYhLrjyZeyVbIW+Iz67n57t6SXF3vTAJZ5cowKWjdOFOdyg0j/rTffBHcf13FaESoOnkySHgYUM1Jo4eWgU1pxZq78vKG7ldXkD3z39bAelKetlFh7VYpjSWXR9OTjRFyNxpdV5UgnPgJaP5yOi379E17pngb5mq7wpazRAFh3IMjqS7MscnZmaKquDfxJk4jnIda7Ez2yyrHpxGCuf2e9au2NeR7QmLrHM2BZ4V3REX4uBaCMlV5PlIlygaLKV1T1ef1Lxl0kU2GUe+fhGQ/Wzwp8GpUe24TLnIleezH6b2UYGIC0YphBT8QfQcst23sPjHqe0zNB76ZEOJUHuUJccCTkH+O6CZgfL42UPoI+XeD4u3yt+PbbweLnFqxJ705hbXpMXnux27ae20xtIby0xvjn+HkWAIwXeohnSlEHbXICipL3kO4glNvTn+1VpmmoO+oH79MgTMzgze9P84iRhYCarbeb49/fPLSei9wbroGOYS9UmH0vrt89t6XeoFSQfngePQApxq8VKPuBOTdu6litcadtsC0TobVT09ihK70JuX/zWYIoG7b++dOlaUujo2KTYWttT0kYJe+B98WoZrSC1eWwAAAABJRU5ErkJggg==",
         "type": "image",
         "xaxis": "x12",
         "yaxis": "y12"
        },
        {
         "hovertemplate": "x: %{x}<br>y: %{y}<extra></extra>",
         "name": "2",
         "source": "data:image/png;base64,iVBORw0KGgoAAAANSUhEUgAAABwAAAAcCAAAAABXZoBIAAADNElEQVR4XgXB328adQAAcO57xwF3R6Ec3EGhDAZcmWWMTvejdtIuMVXS2SyL02SZM8aX+mTMHnz0wT/AZ93rTJ3GLelmnSZmXYbWbq39CaUrlCtw/P5R6HH07uDw84E8n6RDxyuGPrLzZcVaMqUkzv+HFwgFL+legD63wlVA5vu7s1yn3e4Ea9VJcc+ZMbkkuATs2JK2pAyEvZkr6ClxLoONbzxVr6JK7e9nOEj0TLGa6u0fNfTPV3raHyoUQn56XmH16OSTLvSRyVUNzVPOg8DrwIOhy385LKquriVV6FjACKw+CluegKxSU1m9MQ1Ck56moCopU7VLGiOgf3rSi+9dj1Iy0/cHT9P77Rw8vIXOu5p5BCTcYV6vX4rMbg1QwouRZOnVHYGd6XyAHlIFaPRi31ctWSzJHv6Cucnr/vvt/UvfRkR72paHQfCowqQt5RaJ4Xdp/BwgJ8Cj26wllmqcREFBJu7TttB8I06sR7dxpADl+6X3LDgtqW8hF1rJt8g4cXeDTarvvcx5ysV2B+93jWpa40Vs291ykRiPe+SRwQcQcRQNfH9Hs7QRHEsKEsi1zMzgzh6XMacfYpGhrZndr0dqeDhRUeo8yHlFvnxx1+FdHvjKQcrn/vSpUpz65I1hx1gMtKbhhqdDFXmb9htFTmXkk2dZ2+aUbcPodSLhxWu9tctNqpnUGhZpuy9rhY+0zHfvZs9EYaQ4JbPq+g5TETtWLcbXzWvrfj2MWtySCCEyxyKF4jvNLvH8FLwO5XVnkb5E+lUeoe0ABL96bO7Kmqocpt7EtMMoRyXO0ErylTDWAKOJzyqn+f3Ful/Fmv0ZMSsN3SZXZLMD2zSAWG2bSU4D/0wduqZ7PAfDUKz9lHERrk2iCRoXNEjwgKNblGPt8Ye/wn3BzRFQaUUyqCYQO6tXBsXgQc1bNg49vLoAhMbzAD1RidWDe9AXm/bQ/rCoQ82rfe34dsPwOkd8fN8n4TrpH5C/JemMOk5NPzqEsAWcRpHIVX5OpWfQwnnQuocbz8bVvWVyFpGdCehfGq2rf0+ZEofMPmKLuF/y3YJmdOkY/DKdLjqbjWODk7VUxezN/wG06Hxv0MLBXwAAAABJRU5ErkJggg==",
         "type": "image",
         "xaxis": "x13",
         "yaxis": "y13"
        },
        {
         "hovertemplate": "x: %{x}<br>y: %{y}<extra></extra>",
         "name": "3",
         "source": "data:image/png;base64,iVBORw0KGgoAAAANSUhEUgAAABwAAAAcCAAAAABXZoBIAAADKklEQVR4XgXBWW/bdAAAcPtvp7br+IibO87itElKk7TrUCndkU1aNwSbqkpooE1CSEyagAcekHjgQ/DENwAkkBDTYBKioi0Py7YOuqZNLyVL1qRNOud0Tjexndj8fvDNW+nMbfXoOHo4PuhapqqD4auJdnVB3g2mKYDvueeQ4thkaY5vFJw/DVcxnvPcer3KdS4xwGVAlsxWJl0YbDnvBJn1WLK9gu2rUzC+ToDcC00TpGnvDBXBn23ynINzv7sRtpmUkicB4I+kf3/9vGeLl7ZpVXJJ+bCOjKXaKdUxvwgaBS3qqtxwX1LCz685KWevkBg+zRnfdk0neXTprFdjxRzBciiPK5WAEnrvuysy/bNCbhpoe9vWR4SWzwJSg43Shb9CSmtSdtd130D3gyt8KzAezEL1Rgtkfa7z19iwT3v0xkuKIR39ATGljffXwkq51l9KHZBJ/aXQvoNrXMFJwZ8wdYdHNR/c/76H1Z2Ir0PM7uit5phR8jwHlQnC3a+p/Guj5XcE6LLeLc4dwF4kG+C9wLIC0TpEUy4raopgNbPkRlq2dowQO5IAcCy4VgIbepKbtzwOCXnCujfgnaXGZ+UhBqJ2TTXHrZlsdHz74gv6MpRjA07rnr71zukZKstab944ivSzqhsBf38KpO5huxyWJEXm4eXllwM8s1C0mvMYvDtrYkQYv7BSj0h61466f3SM0qFMtQsvx1n//GqQ5GHT283dKHwuDn/p2/c+/mLPPmapEOJiL3eMiDc2EUXyjbZTQEZG4a//zG6nHsID7xNz7aQjSB+qTYGpIE34G3uiK0TSEmTRj6eaDAThIhkZyRTJOBcDf3TgWPa/Aqg0iHv0QqNvK6AD7dRM8Q94HY31haQfmpZJ7GGRK9fv/j7KUuTZyQ6mTz0DjquvaHD1DUP6L5O/tYIGhh3tH3art4ekNA3Kvyyw3X8ST3rEGfux2Z6cBa4wStYa1FAcAdi4puP12Ez/gDqqnavsZLWZIi5NVKn1mgjminlSG1Ev8k8nbWITO59mTqn86dC6ucQz8FcEmrj+1qP+CYsurh1fxwzzRhgBsvpB3NP7H7+egALaryEWAAAAAElFTkSuQmCC",
         "type": "image",
         "xaxis": "x14",
         "yaxis": "y14"
        },
        {
         "hovertemplate": "x: %{x}<br>y: %{y}<extra></extra>",
         "name": "4",
         "source": "data:image/png;base64,iVBORw0KGgoAAAANSUhEUgAAABwAAAAcCAAAAABXZoBIAAADLklEQVR4XgXBy0/bdgAAYPsXP2KckMSxieMQSEJAhTRQKB0rKluqShV7ZGpV1Ko9TNuk7bRWveyy/2C33XZZz5M2aUNVEWPSmm6EduOVAiEwmraJEyAm2I6JE+dle98H2+5FnwwKnNG+2FixezC0tHmVfBLs2TJxlAFz5j8upyEe2W2Q04RfluFJgT8vFIImC53AX2WHSqW4+faEUSsMj9u6jcDod3OvulhUlOAHEIFBZXelhWttx2m7ByFaYZ4T4UK2NwSoTk1ahd7+ilWoifevfFlFRCwltZEE6OqRAdbgYbho/cYfZD8nU8sfTvaVOiY40v67ejwKdnHYBwdgbToUeZZzMeiZ7YFiLYxME2XPNvxwIy7VdVe1B7e7ZfDOEknXrS/df4XEdiANXn9Ch5AYfvuOofd36YlGxDWhX9a4PDuYi4DZxHz+Vbrb7Di8e7mFAzJP0aPCLHTFtYknwelFA3Lu4uCPkexaM7j+/HvixdbJ9jC6HfKzIGNMnbivn5Y+k3fhQ7tMeNK79Wmk6czLMg0CZ3xmC/+0tmAqTWon/nsscSCUKVSabblGgY8OXHc05r3KkbGv+sj71VpqoVO68Iy3qU/BHmbJhHcmdnx77fN4HlH3K5NOv2PjoZeV/cC9zSNkTKwkvf1cv79mmnbnrWSs+XdZ4ZogN/QTJMpaJC4fpfdw3VSws3nP2qVotaW4QbA2Y5B1gn9UQMZ9Px/XMVSYGUMD2iVlhkdMk+EDrPZxYCWS5aKKkxy78GbRmltXvI+iYJEOT+2zmIbPDQjLqWZfuKVQfu+fUaoRtiBEx878skTcTILHlP4tV78GCT7HEpNgrIcqfL9Md2fTX0D+8TX9vWK5A4bTx4UXA7RqKzaQ5V691FvPNGJPx8XnxXubekpqdJnRDUNiCfj2yPpkJVyE9alaxYgumq7ob7QgdrOHIhRBKMsAJqoogvwgzfw49q4aTKrsOSMj1+ghCb4RFLhmw0pUav2vKcnalrzugcfXVoY7RoUBwBW3NFlabPf9G5BtrQ8sd6tbl3e4N4ZD4OGvSx7VfUAC9FTu5Yp9ptZRicGNQffqR6u2/wH/RIQLEJ9PiAAAAABJRU5ErkJggg==",
         "type": "image",
         "xaxis": "x15",
         "yaxis": "y15"
        },
        {
         "hovertemplate": "x: %{x}<br>y: %{y}<extra></extra>",
         "name": "5",
         "source": "data:image/png;base64,iVBORw0KGgoAAAANSUhEUgAAABwAAAAcCAAAAABXZoBIAAADN0lEQVR4XgEsA9P8AZnJ7uYTNgLF3SIX4Vbf6gQDeoICJscVIPf188IC6AoEP/kLHDZTWfk/2wELBzmqDhruINkXGDH0NwFYQtYVDNf1+/pssNEc1iIpy0jg+voTAPf72PwvBAOu7g4TOADQ4Lz9/TYN48Yd1hUG/tYu70v0C98Bfdoo4wQA+Q0Xzwoo+dN52heL6zNi1MxJrOM73gFJBkW47/cu7UnTGQcFLd3XN9DnBCrIMLcKEwLtAgFAz/kCIgQk1NDn2QDlxvfj/GgF0CPOORkt7kUCKwkENB5o8twNNR9jF6327ghCyQwi9PUBG88hrAL56QgH8YYLL+wHAeCvRuYt2bEFFhYNSAT4HN1CAuPyCgYbMkM/7SwU4OPAEu0GFCXs28cB+vUcRNACJf3d/R4J2sEkGf3SEf4z1SIrwwnrJtQBBOKqIALeFyrAAuM58BXT6mRYANoV2egeIeTZ6BX72SsgAgj110TLzdChIBjmh+8LDgfb7VrnKwZI5RQWBfMBpaP7UResTN4FSs/e7M78Rf8k2hrRIdHrEDrq8QS4SPTRJQMDziDQ0eTvRhra7PXxAQ2XMy/pzTPPBP7t3SL1HgEKEPToFycR0+o8ERrNw2gauDjy20cCAcs3HejK1gsjCx318uQRPL8BG/g0DOb77rYX9AQOMNztKfqzYgX6CkLCA80l8zT04tcHEvz6/wfaBP3h5C/oTxbs/e3g/+UoIfdtoQAWN/HlF8519/8CJQUG4xTC+/MRECnjNekOLholCOIFqjbKK7fJ8ATxHArX+xvnABv+Iz3E7zQu0+L/ELVdpkTm8XfmAWjRLQr46hJP9ffj/wwfGt/10BQZ28FMyDjyGr4BlOjo/gzpFd0jKDbGBRbEMaZQ3NYeBxUD2go48gKw6+X6+fD3RO/+n7AC/yG0O+kKR+P0+Q4L7M/XAin/EAgJHxoU5esVQNjurhYG8BKuLRH359Lw5R8CN9L+GA4N7etD7jUA9eIwBurpABHv0O7MUhEEvQLN4U/9zu7fHrH/y9ohwvgEHhr+CwAd5xLZGdlSAUs74/ER81OULREOxe5J5/MUCQHz/grOOdI16dswsorNQG2hZQAAAABJRU5ErkJggg==",
         "type": "image",
         "xaxis": "x16",
         "yaxis": "y16"
        },
        {
         "hovertemplate": "x: %{x}<br>y: %{y}<extra></extra>",
         "name": "6",
         "source": "data:image/png;base64,iVBORw0KGgoAAAANSUhEUgAAABwAAAAcCAAAAABXZoBIAAADG0lEQVR4XgXBy2/adgAAYPvHzxhsYzs8DAmEhDcUaBmUrmmrVt0h29qduuu0Pm6Vep+0v2TSbjv0Mm3ttEhTl03rtEWrlnQhSQlZeCVgHjEP28TG5hHo96HrSfXds5+5rn9GDUo+vD8mdj/6zx7PN03hXShXjXEBw3TzTpbgB1ZoPGNtTKRgiE0EBJiDztMNSLpfpX8R77JOmbiMHlSEoMz1+7dg3CGtdwV1aiJuB3KgTazmwzccUjNpUVwAuIanGw0LImRz35XDjYDxLfbT8zOzvJkfpzrgdI+4MwD90IG80nvjkUZ+zR/Y+ZdMtfCOB5I0MZ31nXiC2ff2agI2jKa/dw9tBw6axYB2xtUtCzo0/G5pBakvm5gdiX3ItWko/VYH5/OjjBjHmbufYZ8bn+U+CfVWlpSmaC2q5yq4qWp/6lVD74+TNU3Z9GJM0GCtPzQZzSB+AktOqy0qZ/g3T1/pQmLTO7IqVfuGg4Am9B7ocnmlruPkdZUdsUpotXRR9oukRLlI5kcQa7PYlIu+rLdrEbW4In+hUMdWMyjODZ0Y6A5suml5+/GcbL47TA/1uffif0lcJ/oXl+foV77CfHb4Ab8Aq7GOg/CQh4W4eT9gcMDODP1arDFh/dr2QSxaQdyj4K+cytOaY9drLxtgLdXiCeqIsYKXNFt6wK9MihqyyK/pPO2A4EWAAcJULSPLFFPz25+7fIT09laDEtdPoNM0Xuo4LJGraGGmPBLQaEmVYATOJWw4BNolYm9JsLaQUlha+DZXO3GlINl7TS+mqzh0NyS3LtQzU2dOGN6J02389NM2PxgosoeDR2CZ265YjhP4WTxdmGxVTdqmu2XxKra9OWxF9sdXZQrgr29X9SfIUGT2FI28wZMT1oc+ulREE/AfyaSFRh/PWvpIVUv2WfV6c0RRYFyg0Xw3ZYklVfiNRP7AspY1SNzsFs7xDJgkzb6li0rbU8uq8f2Wu/xXY8Z5af2p3VAByRw6GZ+v3u8sbIQAoLLqtaa6uFVD/s7KO3DLxx4btbmoXal18BcPjtnxrJy5QiYQkXG/B5CHfQrrzd0GAAAAAElFTkSuQmCC",
         "type": "image",
         "xaxis": "x17",
         "yaxis": "y17"
        },
        {
         "hovertemplate": "x: %{x}<br>y: %{y}<extra></extra>",
         "name": "7",
         "source": "data:image/png;base64,iVBORw0KGgoAAAANSUhEUgAAABwAAAAcCAAAAABXZoBIAAADKklEQVR4XgXBy2/adgAAYPzDYPCLAAFSwhuSEZoXj9ASjaZrU6mTpkrdplWTdtjUabeddli1yw79S3bYZeoOSac9sqptHk2XNEobHilZFx4mJoCBYGNsMDbs+6AHHV+fhnGpT/FzlpKJtx0sPg+a6DIBhxvw9HaR7BhKV9aW9vOtAuNFO9plcDIfbiOtOthXh7WKzPXM6uu68a/iwRZA9yV7ju8WMwSMHZIdeDix3VNTg7d9LAVh+Q+3QtrfpgRfGlbdHIz0g/L99Y0AZmvTLgXB/ohnR35/D++ByLbZRGO3dxcW5lSQ2ajaHVWhaiviK6DnHegbG92KHDuwNjQwxmHxeSNKHnctu+rVFPs+9PncRthdBosAhH7qoAnoQt3VZP3Izy6jlANf0G5bvzgyv678hWLECx03CVUxz+HMkk3+GrrfmATZexKxpQIsMPQNFdmyArH1Xz+iQAgwI1fzE7B5QGhveqaMLso59JdacEaruJQa9ENwbcxuLZ8Q3rIf0jH4/NEi1d/z9qqX+CFM7Ak3Rm9KzoBKF81R2JmIPGXJO66HkpBIwQ1e0y37kTrudnYcfLidaYKpPeuekjjKROC2uV9RMT7l5VtcvioS0vS6r2vjz5PM1Q0RJDj3jPVMLV+rimdbj7+VHQ8NCg5HTVx5FoHVTefT80DlGAB8nFpm05NcfTr/ihE+43MOcIznFc/ddwuQca5fc3lNh3zIR977eFYujvPAEkRHzmpSGOfrp+BdqKp/LM92xHUrkQwB8LtVmOcaWZZplcZWbvzzWp55Vg+8WbUIBywO/ahKO1SRJ8MZSS9WENkgUxNOd/6lu+bJ2wEtsyhGDhKK3VPVuMVcTE8wuSioRuNCDCzpgfe0ELicqhcl07+W2A6Sn439HbwCNmMV6JZDy+G3nnhxsBNO6zrJX1Zpi735SnsSB1lg1pkNw0eZ1oXty+H3vXDjAbrMSyPvpflT1AyTfY65vn2H2yUKNcNdksokH40VyAmJdqLvQd8ZLgLPVv606jY/FUm27ruoB7po6lolbQMwSOX/oz44un1Z5Z5Adl4gRE3j0HDQmhD0N5v/A4lUe7y3sDfiAAAAAElFTkSuQmCC",
         "type": "image",
         "xaxis": "x18",
         "yaxis": "y18"
        },
        {
         "hovertemplate": "x: %{x}<br>y: %{y}<extra></extra>",
         "name": "8",
         "source": "data:image/png;base64,iVBORw0KGgoAAAANSUhEUgAAABwAAAAcCAAAAABXZoBIAAADMUlEQVR4XgXB31PadgAA8ORrIAEkCQRjDAJRoOJP6rRw7Wbr2tK12117PbuX9vq02/Wue9veu9e9bA/7B7brQ2+3p971breuXn+oU6AWOtAgIoh6ATVE5IcBQgj7fODvj6zAsOSZSX2e3PYW7KZIc2L3jGK2ulYqhRgcOdQbQGvIU4npHtujjOxH803h6imk5IA6gyMxq5z4wxEaj4+Q1UlDcs2lDj8vVZgF+LENwsspa92ks1nFMySrUn2ESdKY3BlnA9RK3q7hQxduFmLlBQ3VM2pkT/6vlQF08k94wbk8a8JesnffQ00dHkxgJ/NStAxnenE/Av/Yqu7MrmQelIyHnymXN4x0Aamg09Hj1XFyCHQc1F2Q/qFFvAvgB6mPm5F6WBp+asf8rxth+JE7xe6yx3Ig+cszrPrMR+lzJkJHLFnceQOYw8wysX3+cNH7a3+Dv2JDuoNVt3Mpe9FocQF+b6IucNW6aCKqYXR3+VKFHyu2Ql9lSwMX4OvUKWXu6LKjD+OqJgikmW4VcH48FlB2TODK1ZrhsigfGBquYT4evPUEA9ttMlKo8UEGWf+0b6vj8kGEMeG5Ldh8OxTk9L7W30l+/c+X8HdkWm/Ra72AZXVlazhAxeuDi/lLECqeMPA91SNUenShswnzW32GLX4iXFtWh5Tf5zJ0GxkDnWa/rrSMb3CnDkvj78pPvw0syfsDrNo6j+STI40eWvg2qutY3vac+znzzo2gR4gReuFAQI/XPsgKD8N4O5ydIgtignKvGBCXe31svgamjFbRQWUOZCok54La0XR/t7U5fKh97EUVsFeJnqsKZh8XUyjnmj9E8y85KMnEDNihC9AT9oFEfx6CRt/b5IuTMLG3Ur3DFpEbbJoDMSWSndL8Rh88uXbjfuPDv8dseyNd8e7DMIN4Nr+Q8JHVepubVbKdN3G31VUmA6/2RUl8BSQ6tdWRbvZBfeiH6YYl4J/hOWKNY4vYHA4/QQpY0Sg3cK2XIZoi4VjcvSeWBk+OaGgEKIkScM6Nt25fE9K1jMD/tT5ESp0tzL5q3gZCkGVfPN/4hi8uND23Rq9359tvPPUAWcNV9/+bX3Txd6UBmgAAAABJRU5ErkJggg==",
         "type": "image",
         "xaxis": "x19",
         "yaxis": "y19"
        },
        {
         "hovertemplate": "x: %{x}<br>y: %{y}<extra></extra>",
         "name": "9",
         "source": "data:image/png;base64,iVBORw0KGgoAAAANSUhEUgAAABwAAAAcCAAAAABXZoBIAAADN0lEQVR4XgEsA9P8AXfv9+pc3+76DPDRX8UIILIIUej6/vEGQrQyyCgC/Abo/ODM+tr252/iDFAJRjEj/RgB4QbjQPkr7gL6+xJJAxj/BeZSmwUmh9rKAeTy3Rn1IPu01QP4Atw+6PkJ+/4wMsAj7MksChfuBg/s4CasLQg0vAQBSB75I+3yNN0RTrL2DRU6hlWfKwD59yDuEsorSQE+Gh2/Jjnq8kP0EgMBCdLzScHX/v0n1wQA4TPcAg0k8RccAw8wDx0L5JrN50Lo+E0j0uwaDNs44eEBjeUd/uIDBPHpRsM6DKDwUwxF0q8/wgbmIvIo1gSs8BvtTggjhUf6Mfr/JQvmXfAoHBb3JSPRL/LNAUwk3iQPDdNByc8p4kcN5RXtMt/33vwt+P0C6gwC/fAb2hUC8cYITO0yweMA9Sr5JQHt/u2658HyswIe3/4EzwYp7N7N+O1M0y8Y1OcpFf0cGSERNwRFBBMX+gUtyyL+9xUJ2hI43j0rBMtd/dEPABXe9/MEzhvrJuAC3SX92zP2JfHVGP3YD6b+KdYj+AHFagJE1Qb+5bLz2gIY/xnT2gSO3vbvDjv12dbX70zkAVcPCgEX590bIb78Di3hKgjgDSs31b4bvDj61i4CABinDQLtY/8WL/g/5B+4rdDoAM3KTerzB7ovCwGC6P72IPb0+CTWxTkZ6SS4Y/0q1NHIKPsbFgfwAr4CCh3D+wAGyTNGCgkZ5X/yCQg/JjsMJAy1BdkCZAQMBCUO5fwRFBQh9B8/FygO9Ij58/nm5FjmBgT/CfndQcx6pS/sGRwLrwYV9fbVDt0nE933u/3+AVpRwhLVG0D43SryLtMGDawk++gC9/kECwE6vOQCNLg7vTzY1PMi8gj2FQi6HbMJJRX9Kw7XH7sp1gFdT7cS4DgN3TAY4+P7BvnmDPAW9+E1Dc5A2dxXAZTG7TD19QrK2VzvEzIPyBe2JwTwDhHUKzjHywUECvITGbsiwR0nGDjeozjr8xADJ9j322KqCPJmBQLX9AHTHvEPC/H12eUW3A8BNP8Q+vUipgbjCO7rAgssDxHm+hn0/hQpGyolNwbo75btJekd7hDm3h+AnITvco+QZgAAAABJRU5ErkJggg==",
         "type": "image",
         "xaxis": "x20",
         "yaxis": "y20"
        },
        {
         "hovertemplate": "x: %{x}<br>y: %{y}<extra></extra>",
         "name": "10",
         "source": "data:image/png;base64,iVBORw0KGgoAAAANSUhEUgAAABwAAAAcCAAAAABXZoBIAAADN0lEQVR4XgEsA9P8AWb1Id0mELbEX8EhykYT0j8cAKIkDOsGJ8g2+wwBZULpww0DJ+gJ9grR3SY09d0luwkqL7wFM/wLCALrmtEi9wnaDB3d5wpiFfv5uuhD8iLsPVXmJNu7AhA+9hH13A0Y8VMdD8EO/OVnyeph/BwEvyXRHhcEONwp6SI91unu9gL8JhAN6f0xzxD8+Qf53OczCAF5Btsb3CzjE/Pt6R4VBuUfHfz9Bd+1QivRGtMUAgIT/QE5ChQOxQkl7dAh8g0jDAYtNkgtzQbdElICA+Qk9vQO0PlWDt0lMSBVDc8U9awDeBTXIhPw2AHBt/XwKN4W5h4nsD0j8+gw+es+lOI6BfAA2AjwAXUKEOXgHs074DIIBQcx9ObuCerbPRrv+dHiHQ4C0Q3zAu4SX+5WPu/r3P/M9B0BFkbs1/PT5DMS+wII6dQE/PGqI97JLRnN5fHc/sruCiDP7ioA5RStBCn+/9NRplnh/QYWITwY5PznDvDnCizl2Qwt0w8C4wsoTuMYByDiMBfpDpcivO0aFwMRwPgbEpURPAIfn7+z+e3WwC8L4BUJMLwsRc03qOFDI7nlYOb8AVcovioD7OlWzhwCI0+p2xkL3dEl/sEmABvrKtUC/L9aCeDzP7AJ0wD4pf9aJ+YKExW4DT8vuyPE/QIeEbwMEQTnCCglD/07AbjP++c64UcU+7Mp0wDjAhYbNxgNHyQIDEjU8n4nJlL0TLzqBBTvKwNJHzwCIATN6gTI2FXgCD0PDnUIxkTXPCHsEtjkIa3d5QLk/90IH2f7DUrKqs3qD9zpMPzY0x7mMwr1BCgZBM70PPrEJUTLAuNJujbGHvaQBB3k/QUOJhD7/+cCLz7IyCTy5vjQadwR0x7nDAIM9wbWA9QA8S0L1wQJ2z/AH/xU6+vaSN0XyAQS9h3BDQfo5SkcA/1MATcCFwDyLjn/BtQm0C/6NKQS8CvNGPMS3fMm8u8EKxTU6R8X2ukI+Dwv99nc7/H6BP4P+eHtIL1G4AQa3zMQ3OIBCvwTvwbfLgzgIfX1/uf0HTKj6egSASdBBucU4z7j3AIBN/TMAvMt/f80pV7yyE2xNB2t/HozAHX3+wAAAABJRU5ErkJggg==",
         "type": "image",
         "xaxis": "x",
         "yaxis": "y"
        },
        {
         "hovertemplate": "x: %{x}<br>y: %{y}<extra></extra>",
         "name": "11",
         "source": "data:image/png;base64,iVBORw0KGgoAAAANSUhEUgAAABwAAAAcCAAAAABXZoBIAAADN0lEQVR4XgEsA9P8AXLyERvJGALvANgaZbwJBrBM+fTRGznBLdD8MTME9+oD/US87vkqBy3fEdz5V+oR5QQD3zzAJyPVjwLpViTQ//gvKisU6+0Y5QP+4AYcASsBxA8n3yknAjAD4QDLBd4o0D0f3JYYN9ccCuMS2un5J+n7wdQCD8z8MS8Z7+QB+98ESPDzDCHpHSUHNRbp7wELXwLi2jIZ1R8RvfPuz/HEB/v7D/Tt9g70+hLc5RfDAuIoE9beNSUK6SxjQgQj6hnpSis5GNgQ4TsL+xgCBwPP9jeOqEg6xvq7QCV0QwEZJAEa8QLf30v7CQFq+wQS099MCvO6HicN+R3/7RAaDAzavRoO5gewAiLmGOYtHOzW7hRHMTceI/EC76UC5vNv7+IHBXsEw+/S+xIV8P0ZNAMXL/C0+QHk49MD46wVD9X+/gFvARfg7CLzFMgbZMXuyx4O/Rf2AubrFfBWwvAVBA328Nk1/NzhRgfpAMk9CM9WF8wOFezOI8kb4BIBT+A6/d0eDA9CmkH/7Pk8/DPCCuDWCNz2LOcs7gIUWP7p5iURHutR5AE8HM7vEv+9ri/uJkoHGOPxAijMMykpsAis/ugj38i80vKy9wA3tgFY6QE/5/sC+Qum8Cz59VCm0cUizxkYJCPr0+QCJaAUBb9OEQIbQx8I91QEtRbtzzA2A1vvvPbF2PvVA9oF3/A1AV0cEOL49hf5nX/28CIoB9kQxv8Dz2LX+xnVBwoC8OnW4QQVHdKB1/MXEBT3Dr//9f3+3DTl4f0k9wIa4/UMJODmKdv+BB0E3rnW5zDj+goIrD/mD/j5Au0oBET8eCXNI1oJ2SmqAOo7sBYPHtcsoyA30joC0gQAzsvF40rHAWwGvR/19OIl7Po47OM6ELc8BgIeMP8aJNXLE2TjvOUNBgsm/7wi4eA6GSCzG9+kAkDl+Mj4GBfquPHoa+4k5fH0cAYR3iUCzeonAyYC4NZMDwrzEfVfFxW94/4XEijxFx7T9PvISPMdRwFbKbfZkMvzLOreCzMHyfntTcXeOv4Y7TXE6QT9AVD7MOglwgEP8kH3+BV4h+f07ynmAxvs7BTw2PgOtYsAuLsBUQAAAABJRU5ErkJggg==",
         "type": "image",
         "xaxis": "x2",
         "yaxis": "y2"
        },
        {
         "hovertemplate": "x: %{x}<br>y: %{y}<extra></extra>",
         "name": "12",
         "source": "data:image/png;base64,iVBORw0KGgoAAAANSUhEUgAAABwAAAAcCAAAAABXZoBIAAADEElEQVR4XgXBWW/adgAAcPtvG2xsIGBiIGCuBggJDTCtKWuXTaqqaZc6bdK0x/V1D/sG+wL7JtseplVapambtKNKUtocpZmWhi2EhPji8oXxFcN+P7jZNM/LJAGdLcdkeGcLV19uy2poZRAnHQnE3WCdp2Zi5R/ZQm73Lhx6VgunJMRTHBQ0oJej0gCG9sWLLNZdDa1vn/XSJzGh3RrGAamF8V7HvqzdJXv8+1zzrLt+OB53MqupMQR/2Xr4OJlYQFN8MZJS5LoU5Vd7JsC6NyYeGNyjv4DHxeiJEpi+ASoBgzN2UClavnn+0Qr8qXsTmS6Ro35DFTF/OH01PYxVLyA+6wckYFLmC42yZ0UbcVCf44PdD0OtYKjOBdw5cLzMx6otX3uvGESgH7IiIm5SxmAQVRZ9sDp4rFue6EYfcJtAbT9aBOq/2jIaFjPmHNiN2CzVdQr+Z0+OXc6rToVdgdmKsHnvmoa/PTCKl0gkqQ2QanrCEYFuQvE8VctQgV3Az9IJsVDyK0OIe6omG4fFn83czL/ht5/dgb8ZxY/D4yUtJpF4+73Cb3SIWLo4r8ziMi2j0tTI6A6REBwfXC9Bb02Tj2qxRVAPqMIJ/LULL6vAUEp6cBlak+U/sXyrvvLDLSeom0B6QDqoeet+ieZ/Ov9uRFnz/iay8wmQQlYKLbR8a88ZTjDir1F822vfFyYiAg58SBDBUaDsDfKnbg6Y0WRgkthjmpoR66DF+S/FPvyVgqkLmBEg6R0HLtFHK+3qXxumVt/XYQwlwrgNJDK0NGeO6w1Rf0K/poYJ/HTEoAz6imVbUSbrQeXnn6VVexuu9BeWyRX/7VAKuO3E7mSEbs2Tc60Xmv9o2fmPdbKJI/DBDRYI+uLSKJM/etdX2Nlp37UOUl1ZZ3Of726qaN5oM8Q1QlC8g2mu1cvq00zkd/vdp9W9dcDdSw15sk8szGSNVUYFM8d0KJYQ4iRqgcIfg7XG8E2jsJHjr+5GTiJjizgONYeetiWCv9+e5XuX3+fnEx0rG1DF8vy4S1zl9zXC/R+Yd4sSs3mLDQAAAABJRU5ErkJggg==",
         "type": "image",
         "xaxis": "x3",
         "yaxis": "y3"
        },
        {
         "hovertemplate": "x: %{x}<br>y: %{y}<extra></extra>",
         "name": "13",
         "source": "data:image/png;base64,iVBORw0KGgoAAAANSUhEUgAAABwAAAAcCAAAAABXZoBIAAADN0lEQVR4XgEsA9P8AWwJHt7/+OMOMLcSKwTnDdwvA+HuBCL+Bvr7F+cCAACuF/gUEer07zbg/x/rFAj3EgAZ4QIpEhHqRAL/8QzG5isBKM5X4zcR/hYO6tTlUOIME8fPqgHiAWb1FwcG4+wvvi4OvDL61zEHFOH/G/bXGAz64i8CA/n7w+zsQ/wjOxZKAUEnFiOzK+XABhEX/wFIFwFg/wcd3y0AJNDjAA7+9+8GFO0aSNHWLsMu+sX2Ah4R4tJCGQ0aIzzvD9v4HVAc6wHWABTnCdv9IQ0BUwgTEP9W8vHAPtYDFyyo//3w8SjlCQkf3/cW4QQuC+LjHeTk5hHeFwPP8Co5xS/8sPz37usg9/P7AgXM0O7oww/y2Nv59f8s77UEBeEICvcG5P4tEf0C2P5J+/b5rxDlB83G/aP7FPTHDaYXDhT++KaS4gIT+LsQAMr7uC710goPJTkjHAu8NfNR8mHpNCszBPTnKN1TBxj72BpCN/H/yB4g7tEFGMEKvh0PHsYC6DALO80X4kr+DgT0Fy3+FbieMPnq0Pow5OzTCQFf5/gl+/8VriUA/CEePvb6Aunq9iKtDBzcEyrbAvc4MRbz9hlQWPMC77u/GNYRNyNfwxkJ5vsR9NABIVrbUcIJ2hUN/9cfAvcC3EscDhD6pBL3CBLgHQIu0SnOHOQZ8sg5F/8UBilOqenlCsobRiH6BwYEBAACCNVDCf4XR8cdN/jxwTEp5QQg5wqoCBQCNbEEBQ3/JNMU4DeXZQYSmwH42Copvf4uHtP00PsJNAJV8+jozusC0GQuC77x+/4a+6VcAEXmEuAsTg32BAA04BJBvBwa1A72Jdn4IgAgEgzP0//GD930+esC5xkS6ww8FC4JsQ3MOEQnGwtGszX07BUVE9/k9QFHFecw+vAh0igin3TdIAzdGPDzDpMeFuQ0/frbAVwD+A34G+QDBd4aFCwVAOYe3OD3EhL66yD7uywBeSWuXfHhqCEwCNX6EDDlA/gMEQjhDdonGeEL6QFnCQYh2A/0ASX6/sUd5Q8fzD/lAAuyR/D1PQqeAh32+8IX8d0ZuNaG5/sd5ejmtvYQOh7VAifOrC0IOHoGgfi/JgAAAABJRU5ErkJggg==",
         "type": "image",
         "xaxis": "x4",
         "yaxis": "y4"
        },
        {
         "hovertemplate": "x: %{x}<br>y: %{y}<extra></extra>",
         "name": "14",
         "source": "data:image/png;base64,iVBORw0KGgoAAAANSUhEUgAAABwAAAAcCAAAAABXZoBIAAADGUlEQVR4XgXBS1PidgAA8OSfhBASICEuBFEC8lgF3G5LxxZXR6c767R7sJfO7PbSr9BDD51+hn6AXnrttQdn+nS301VadVxY3bpdBaFEhECIvEIIeRD7+8EfhWbLMXM4858rphvyvUFVevza7PjFu9GSC30XHRDuszabRt5ipK9qO739jDhmxi4RywOogy8d+bjLxnWgZ6qtIl9p7Yb8PlZP2O8A0qHpwSpvfdhQCNiygoUsncyzTfqfHT0NXsnzXDtz8/AkHKHWVr/o5Owrdl1ihqTnog6WH4A8TsGGf5PPfYoY36IY/PfR3K6HuJMcg1ZbZpJ7ihZW2dKLRU+dCC7F/dRmE+ZbAJ17Fk+K5NaIensb/tngO/Zj8lgsU8HpHytNQGZDKp7ryEVEvtTt7pF6ChYoo3M7XelA4C/llK3hx9sZR6ufHt6sedRLu4+QNbh7EQSOmYVfkBr3vUMRwEs6qZ6zltx5oFHe8XYVEJaxRWdxrMa17obHJ3TafE9Y/ml9+nzxEgcw/+8xe6gF4oXg+WjpDoSn8+vO3ADbfK4xKFNNh0VpoeCDMvUUmsbkC7GfvBLMIFF9BMzmpGLTwY+bAhdjsYszyOIm2ra89uumdQg4JsFnqR/3KMfI5TwoOg/solsBnyuB89wWisQqbBv7pKz1TubLIUk+xcxiZqc57sYtFAVjKTRa/Q3YnhAjKFz96Q1Jc4xZWBSQJlDdTHcqufXbyPTYO2A3CvOfJZTfj2aVSTWF9vZXeg1C8Fdmo6fQxp+Yt+Kmb5M0fRh5fxf+2lei3SZBIXnb7UINysefUJNhYiej74fRZ6v9wMsNEnKF7w/08BnthiY9NLUXIWA+An/TiEsoGnXMMC8mqaa0+MqyZiagTNqpvgbGcxVKXDBrRsWJfTfs7712X0vqByk6XGp44C9lKF0REA85Jzee/BBFmIau5q7O79VCVAH+augXEZ1XDrgEjulT/1DXII2TrNLK/AjEqdZ9O9MezaI9fTiuvxFuIvg1MfVmZXGK1q8TXX1/uhaSlqsmHguI7TcK1vCDCoga/wMxXYD326ESSQAAAABJRU5ErkJggg==",
         "type": "image",
         "xaxis": "x5",
         "yaxis": "y5"
        },
        {
         "hovertemplate": "x: %{x}<br>y: %{y}<extra></extra>",
         "name": "15",
         "source": "data:image/png;base64,iVBORw0KGgoAAAANSUhEUgAAABwAAAAcCAAAAABXZoBIAAADK0lEQVR4XgXB308adwAA8Pt+707ggMM7Dg8ERfQUpMW2o9K41lrSLNlGl7TLsoc9NG2WLFmyhz43S7Y/Ydn7nvqymJh169IlM62bdVVaZ2n5URmWH6KHHHccIHCH3OE+H3BvSKndfBQYtGM/+otnUjPFdJSuOhT0JeFioGVHJdNRWRfuR6bUIwofJhqotPtKH0PtRfCZ1y2XamF+z2O42MR4v26ESTZbd6m5RRGGaCm/0HuHfm53EG+qyEE+s97fz2uc5pALsHZcMZUXzjUz7OOy+e+WIzc/DOemLb+53ZdDmLLF+Qwq3UO6NxOtCfcP9hfTrS2KBclhDYHUGF5PtFJCjWhFbZT83tUvB10NEadITfZAeurgUBWSLG1AnoBm7pxx5Wn1UpYpSGfiMia8pukTZKY9+/ZKh22PMsZj0dZsPw2OFGEZPFgrQmOYL002DoBfmm0QNusfXm+96Go7+uB7OE6dJNNzdVxwZ2zCB7GvPhEtmz52laM18A1TsDcYvaB5xnNI51Pd/A/Rax+drn8naruQ2cc/pvsFYoBUYDXEcXXphQEz+a8sr2gn4AtVt+huseacTppPFhS0IpDjvzsvIk+uGxtwYszKeTsbhC4SA7B62u7y65yyXfj1VlvXIJKFp5ueG77D7hAgPsJxKxJ9FLvAn5cOH7SgMTgmx0pWIUJ7+t5U6L8SE/fVR7A4KdMYuJuZ63f3F9UeOnMwqXCHdN6QSQ1IqyuyR0Mp9ro2Oij3WrNAjvtciZ93tKXInGdUezZIwaAz6JLQxSN8LW+ODFgDFy5+q+QbGItnANQ6I2bUZxA99huT40MPubeb6OUGazSvIWwASooqo4HVoHhpBdslxWWpklXPB1BAm0Q7hgOFaG6P2qoPhzduSZ3GVf6aSBkU+/sIkYCAD8r47fSfYoglq2/KX2uOtDjxS1fK5REDrF/YQOZf3WU6FtuHz61wS3c2w8s2UMZ5wgjNO0sgTwmBKVl/fDa1ZCJx6iWZnGF503MShtN/TZgSley1xm7gX4o4NvW3GUs0Lvrd81vwpztNJ2D6Z/fcYTFY420ZOP0MR4beKSWe+B95TntU4wXTnQAAAABJRU5ErkJggg==",
         "type": "image",
         "xaxis": "x6",
         "yaxis": "y6"
        },
        {
         "hovertemplate": "x: %{x}<br>y: %{y}<extra></extra>",
         "name": "16",
         "source": "data:image/png;base64,iVBORw0KGgoAAAANSUhEUgAAABwAAAAcCAAAAABXZoBIAAADN0lEQVR4XgEsA9P8AXwV7tQTs2TjLvq5LAsCC6omBQYv0QcI7SrQBwcC7NYNFBpBxBDQqETZAuDXclXyBfP1+ABAEEcC8wIqIs5E5fdpJSFYoCjmJzXr1jzx/TzVKMjsjScCArkO9OD8FbP10rVS9uwPBt34uf0psjvdKghC91QBWUrkvlTszjX49vf4CO7vbJo/FcYZ9SbU9+8XCwIqqgQSH+Ud5vFS/RAUVDL1h/7R+/nKDwr58hH0AsIZwuiP+RkVR8GDLCslHgzlCgobwVd6CCoYJPsEDyEIBtrSFt4lE8IMxw0M+PX/K7Up+C/W402+7wIE8ikVEiD1IxvyJxJJ2f8A4/761vWe8doSoxdIAgSt6+4U4P3OwtwazuIqBj4OIPE0OEHdH/ta39wCKhz85holBysKP3INuM4dgQfy+eW9LzAX9w8cLQK65M4Uy0XU7dUeJdwQEPQdCCY66vW29ehJx+6SAZ0LtOIWGwHiDdND+AcpDAQS5PHKHc8CUpAbDPkCxNv9bxsqvP0aUP4gHhja8tDTsMHKZiHO+EX3GgFsEeIbwULoEtAn6mjoBAXT/s8OLu0aAfnpCuEAAuoSLN01/ALmKrEJ5BwMEDvxWtz4GJnSDwuq7BYBgN4IFwAH/LwTGyL3MA8WtP349dIlJ7lL7+kq/wIHKwAL4QnfEPLhOEADF8rKwdkc9Qb2IxDLKMLTAvvS98Dq8REMMk30nS/Axv4SIakOOgESsezADesC8CoDJBXntQZB/g1K6AoJ9NnUNiGtDv1PGBkKKwQj7ArnTLFR4p1JA+EHJ8c8ASvvKtUEIRcXBvYGAs3q/wiUOtL2RAKX/xUCYQcwPi7r7zvrkxDh59sCAxT1KpvaBAbu+2AesegH+RvHDxdMuQQXJDnx3AFQJPEF/UHEzHqFbAArnfdp7x+y5ub8WqIW4tkaAV4rzxf3/CXP2CIfwkAs29so0jbm0QU73hXZNd0EHs0A/f370j009dI0CfLyFfhY5dJYz+gDARUMDQLQECwqV+fvoPEIEgLm1woXvs7xLcM7CxMU5/IhBBvQ7yvdBClK8tgbzxH7CM4x+hsG5tMZ+9xVjzbmnXrXf7VxewAAAABJRU5ErkJggg==",
         "type": "image",
         "xaxis": "x7",
         "yaxis": "y7"
        },
        {
         "hovertemplate": "x: %{x}<br>y: %{y}<extra></extra>",
         "name": "17",
         "source": "data:image/png;base64,iVBORw0KGgoAAAANSUhEUgAAABwAAAAcCAAAAABXZoBIAAADMUlEQVR4XgXB3VPbBAAA8CRNP5IOKP0ILfSLtqxeKVQE6jagCCi3zd1224096G67m77qf+GLT54vvvimnudOnV83ZY4HnGNOBivFftK1TQtp07QhadK0zUfj7wcuhuwVzSjQKt38VjO5j43TOxsvqTHdyIFZjsLX+02xafZ2ib3oJnruFz31cQMYFUtv9hxoDrbs8EFdqyxTjxffLUkXgD7UteryShovz6ngNU7jQtpmCvZVJP4aYfxxRdl+W2zrxbGtInS+PTciOGTAkINtjV0+Z9L4/f/0ENom+NahLfhA7hTDzMWiWwsSvByc6TDRXET5qTHmB2/raxazg6lnJ8ON8jS3yLCO7IDSwk9E2g5Zbq3B7toRzjrzJZWTJs5Q31WbZ/lnrGe9DHHxUzdP2WM37q+RHnKCHLKKPMKgwpqrPgh++YKcpxDdoVebDifnvSdPnCj3HktlYt94WShjLaNme2YUSd8Nx6ASERprnn2h1Wm/nsniULsU3WwVCP2I0hiIxF4y2Okb4VAhVR1P2jHws/urCImZOpW5DiomXUhFSsxEamqmFRBsUOVGLyNTT+oeEaHkY/XP54RxvX9Sy/ppAwwhOwYc3V9qu7BagTR3jRV56LdOzho8Ey88gnalnh+PFAIl135nXD2CLhZuBejVH/TQAtKEPKFdgGkvMx/lnLbs0LgmvlGfJOn3u5zCu8HPU7q8bonBqvSWe0pXpa/CAi8lnIMDVUsFSiktsSMtTNXZiM9yPHzw9Jwk7dkMXArTboEb1/PGxvQrCuvSDgJZOY1un351pYNfSKdf10Lkr1b1AMSCid5UdyFayB5S6QlwxQL8rtUD4CeE0jajr5mTy9/PT+dhfuSh4GAf39v22nMiVKjhwVax0XTH17R/P2/u/9wwYO3zggF9dEmEaY+tiJlELHkn8VRENtlBg5IySBzfMz1wgZ8e2eOzfQ0BaCwqLZhCh0D5HUN+7y1Vn1XgpuaZ8aGPvZIeLtpa3v+Q7NUAfiw7EapML0F/kJf5mG72QXhwtp7gSC6wKbzqOiy0cOQTwZurX3xwyAt2evdDXggIauvf4PBflj7dX+5y/wMv56jMBg8fqwAAAABJRU5ErkJggg==",
         "type": "image",
         "xaxis": "x8",
         "yaxis": "y8"
        },
        {
         "hovertemplate": "x: %{x}<br>y: %{y}<extra></extra>",
         "name": "18",
         "source": "data:image/png;base64,iVBORw0KGgoAAAANSUhEUgAAABwAAAAcCAAAAABXZoBIAAADG0lEQVR4XgXBS2/bdAAAcP//ju04cRzn4TZpnTdt2qRLS5sujFEGYtO0aZQDQmjahMQJadqdL8IXQHDiBhw4jJVpDNq1a1fC4qbJQtMkzaOx83L8iOM4/H7gsTj3ryOjy81miECebyiBoaEQDKawOH4JBaq7aZ7VxXtj1epYt3QcF92EC2OBBc0JEAeT7Bo5Nd7YLsZEeXClP68JjM4ouVOCBT+8bIfyAKMdmPp6/trJyn4vUnKOnFrs8BMM5vbWdollaoGsevRgEThuMoUPYzN4+k3i9d9QXVv9ol+da/1p7cQxxeN9Jdp2zRph3Dy5roHNW4ETzsYv5ZJF2Pai0fa55CGI4vB9DfeBr2lJTnHFsc8Oz0wH3CiGlPxh1FnSkzXKkuLT4x2V6MsSfvXAlUIO592z684Cq5WhYhGFPGVMOx45SQodQ+Ppyly9RFrM7JcH83AUA036tBj3M9/tBgzoqJT2Xrq42vSjgTq2+PMDW3nN/WpoW42L+B6x2Vkius+85qWF+xV8Q/WtJQ8toSOCHUQaOJYq9KIdi0Qg+xE4O5rR/YAGMxjnKb+IjlySD54WzgBx/h4KHuLdaE3+uMVjYxsXmWpfPfld/vxcsQsOvgczSHgpTEuH96gPHgabk8hP1Kr+R5D/ryU4OHD/7osJLN/udieXHrLqv34ybDMD7dNdMaazcKE6vuW+I/C6v2Gjb6dPB+GgaXjKuUmtOYHuajebafMoJiV0bcr1zTowQ8LPYbIZR8Cj4jsXI58szYrplprqVhfqYd8+COv1uumGrhuta3cYbGOb0P1jZNPOg+xTydspSP4VFmQy9jPcv5y1ApVMaAJVWWkeofGdxRLbCMIHIyZGinz6ACwq9V6yDlzfBzB5HVEyixy4C9N5JEiVtp6QccM5MfoDg9nZLqnx3NZvcJ3Oez29hr0i0xV4bDynkER1uTaKP6X2PwPfksRf78LOP1eGN4j8CCVl5qi/BFuDCMeKcAWtXwWsi7WhRwWUtT5LHiO2C7Bt1ZqiCH9pNP3gx8sFZ8Cu+vLI1t50NaRSx8stwvX2fyYNeIa0q82UAAAAAElFTkSuQmCC",
         "type": "image",
         "xaxis": "x9",
         "yaxis": "y9"
        },
        {
         "hovertemplate": "x: %{x}<br>y: %{y}<extra></extra>",
         "name": "19",
         "source": "data:image/png;base64,iVBORw0KGgoAAAANSUhEUgAAABwAAAAcCAAAAABXZoBIAAADJ0lEQVR4XgXB328adQAAcL5fOLiD4+44ehy/7lZKC21ltHa1M82029zDtCbGLFkak5kYffGl/4NPPuvbosYnE2PUGJ1mmmzZtNEy0gIdO0CuBYQLu3L8vOPHHQz8fMDHS2fM3YseQKSv3rutXSgyaKHHYC+A7BSn4EMQ1Q1M7arxXHubSa2lCOrB9khPEpeGKAyuZ2rBtPaEfOYjWulGkk33FtcU2YlroQLM/r7ck5PILSs5a5zOImWL4+/yj34mMi2VvWAXC46tM7U13H5JLiGkOXK8YitXGSl9rXkKa5f6NF5wBglfJk/TN6Db6PsxLg/CA3QC9lWbqN9JxMadi+dDX/dl1WxPh5qJ+OdvUR2INcUI8z3dD831L3ffHh38/OWf/lTRwl6xpxHwKSFYBjbhWr2yX3g4vt6XDR7kdHpCnb5+Avatc3Vbi+bR2MHI9Q3htXkMhT3vY87QRIL8sIIfpvmTm08Tlsp8BKFLohbmAv7W4YkAtqJRBZeQ8Js/AXvD0hSWPTJejQ3yobMohK5FoaI2VILyBLsUp9sReVNffzi8UTbjJKSlaDE14abii9leO8q+x0QG3sB6p468k8hAxFpfxO6QwcJt+sTd5rANwr3ZHb5rct+nFiDW2SrNCfeTO7nqRGloX1eE3FhZX7XzGBMCO7tjvvQP80Z2jv92q4rlb8HWZOeHuPuLgNsO3l/L8lbB55uMrhtnzabqxtq2ldU/0JZhOOCoaisnTFK54sv0fJuCIZJKzXsIFcktzuB8rkHHc6rsUpbQp80PuiM6fhW9HDG1fltOgt0LKpjZz547VvZU+IhFPBwuGC7iV/NgwQF1h4s9WgjDgCdBynvsTT4sbTDaeUnRpBrUSGb4UdFiR9akX1wPjrOdNt/zHX2VerzzHwo+e/ac19WenafYeuIV0m+tNdCjwOr83c26DP8NtkwIwb02mh0Ppuhf0hPx4BRjEvecLn0ZkoPtcUfDTC61SPnyne/QbKzt7z5Os3JSAJ/UxaVYcbJgKhl5jtCrjSvVDZGVg8MKY7PMovixI/xoSvSbGEclX81gXjM+XTSjZcL6P2UQfSZTdRWdAAAAAElFTkSuQmCC",
         "type": "image",
         "xaxis": "x10",
         "yaxis": "y10"
        }
       ],
       "layout": {
        "annotations": [
         {
          "font": {},
          "showarrow": false,
          "text": "facet_col=10",
          "x": 0.04100000000000001,
          "xanchor": "center",
          "xref": "paper",
          "y": 0.46499999999999997,
          "yanchor": "bottom",
          "yref": "paper"
         },
         {
          "font": {},
          "showarrow": false,
          "text": "facet_col=11",
          "x": 0.14300000000000004,
          "xanchor": "center",
          "xref": "paper",
          "y": 0.46499999999999997,
          "yanchor": "bottom",
          "yref": "paper"
         },
         {
          "font": {},
          "showarrow": false,
          "text": "facet_col=12",
          "x": 0.24500000000000005,
          "xanchor": "center",
          "xref": "paper",
          "y": 0.46499999999999997,
          "yanchor": "bottom",
          "yref": "paper"
         },
         {
          "font": {},
          "showarrow": false,
          "text": "facet_col=13",
          "x": 0.3470000000000001,
          "xanchor": "center",
          "xref": "paper",
          "y": 0.46499999999999997,
          "yanchor": "bottom",
          "yref": "paper"
         },
         {
          "font": {},
          "showarrow": false,
          "text": "facet_col=14",
          "x": 0.44900000000000007,
          "xanchor": "center",
          "xref": "paper",
          "y": 0.46499999999999997,
          "yanchor": "bottom",
          "yref": "paper"
         },
         {
          "font": {},
          "showarrow": false,
          "text": "facet_col=15",
          "x": 0.5510000000000002,
          "xanchor": "center",
          "xref": "paper",
          "y": 0.46499999999999997,
          "yanchor": "bottom",
          "yref": "paper"
         },
         {
          "font": {},
          "showarrow": false,
          "text": "facet_col=16",
          "x": 0.6530000000000001,
          "xanchor": "center",
          "xref": "paper",
          "y": 0.46499999999999997,
          "yanchor": "bottom",
          "yref": "paper"
         },
         {
          "font": {},
          "showarrow": false,
          "text": "facet_col=17",
          "x": 0.7550000000000001,
          "xanchor": "center",
          "xref": "paper",
          "y": 0.46499999999999997,
          "yanchor": "bottom",
          "yref": "paper"
         },
         {
          "font": {},
          "showarrow": false,
          "text": "facet_col=18",
          "x": 0.8570000000000002,
          "xanchor": "center",
          "xref": "paper",
          "y": 0.46499999999999997,
          "yanchor": "bottom",
          "yref": "paper"
         },
         {
          "font": {},
          "showarrow": false,
          "text": "facet_col=19",
          "x": 0.9590000000000002,
          "xanchor": "center",
          "xref": "paper",
          "y": 0.46499999999999997,
          "yanchor": "bottom",
          "yref": "paper"
         },
         {
          "font": {},
          "showarrow": false,
          "text": "facet_col=0",
          "x": 0.04100000000000001,
          "xanchor": "center",
          "xref": "paper",
          "y": 0.9999999999999999,
          "yanchor": "bottom",
          "yref": "paper"
         },
         {
          "font": {},
          "showarrow": false,
          "text": "facet_col=1",
          "x": 0.14300000000000004,
          "xanchor": "center",
          "xref": "paper",
          "y": 0.9999999999999999,
          "yanchor": "bottom",
          "yref": "paper"
         },
         {
          "font": {},
          "showarrow": false,
          "text": "facet_col=2",
          "x": 0.24500000000000005,
          "xanchor": "center",
          "xref": "paper",
          "y": 0.9999999999999999,
          "yanchor": "bottom",
          "yref": "paper"
         },
         {
          "font": {},
          "showarrow": false,
          "text": "facet_col=3",
          "x": 0.3470000000000001,
          "xanchor": "center",
          "xref": "paper",
          "y": 0.9999999999999999,
          "yanchor": "bottom",
          "yref": "paper"
         },
         {
          "font": {},
          "showarrow": false,
          "text": "facet_col=4",
          "x": 0.44900000000000007,
          "xanchor": "center",
          "xref": "paper",
          "y": 0.9999999999999999,
          "yanchor": "bottom",
          "yref": "paper"
         },
         {
          "font": {},
          "showarrow": false,
          "text": "facet_col=5",
          "x": 0.5510000000000002,
          "xanchor": "center",
          "xref": "paper",
          "y": 0.9999999999999999,
          "yanchor": "bottom",
          "yref": "paper"
         },
         {
          "font": {},
          "showarrow": false,
          "text": "facet_col=6",
          "x": 0.6530000000000001,
          "xanchor": "center",
          "xref": "paper",
          "y": 0.9999999999999999,
          "yanchor": "bottom",
          "yref": "paper"
         },
         {
          "font": {},
          "showarrow": false,
          "text": "facet_col=7",
          "x": 0.7550000000000001,
          "xanchor": "center",
          "xref": "paper",
          "y": 0.9999999999999999,
          "yanchor": "bottom",
          "yref": "paper"
         },
         {
          "font": {},
          "showarrow": false,
          "text": "facet_col=8",
          "x": 0.8570000000000002,
          "xanchor": "center",
          "xref": "paper",
          "y": 0.9999999999999999,
          "yanchor": "bottom",
          "yref": "paper"
         },
         {
          "font": {},
          "showarrow": false,
          "text": "facet_col=9",
          "x": 0.9590000000000002,
          "xanchor": "center",
          "xref": "paper",
          "y": 0.9999999999999999,
          "yanchor": "bottom",
          "yref": "paper"
         }
        ],
        "template": {
         "data": {
          "bar": [
           {
            "error_x": {
             "color": "#2a3f5f"
            },
            "error_y": {
             "color": "#2a3f5f"
            },
            "marker": {
             "line": {
              "color": "#E5ECF6",
              "width": 0.5
             },
             "pattern": {
              "fillmode": "overlay",
              "size": 10,
              "solidity": 0.2
             }
            },
            "type": "bar"
           }
          ],
          "barpolar": [
           {
            "marker": {
             "line": {
              "color": "#E5ECF6",
              "width": 0.5
             },
             "pattern": {
              "fillmode": "overlay",
              "size": 10,
              "solidity": 0.2
             }
            },
            "type": "barpolar"
           }
          ],
          "carpet": [
           {
            "aaxis": {
             "endlinecolor": "#2a3f5f",
             "gridcolor": "white",
             "linecolor": "white",
             "minorgridcolor": "white",
             "startlinecolor": "#2a3f5f"
            },
            "baxis": {
             "endlinecolor": "#2a3f5f",
             "gridcolor": "white",
             "linecolor": "white",
             "minorgridcolor": "white",
             "startlinecolor": "#2a3f5f"
            },
            "type": "carpet"
           }
          ],
          "choropleth": [
           {
            "colorbar": {
             "outlinewidth": 0,
             "ticks": ""
            },
            "type": "choropleth"
           }
          ],
          "contour": [
           {
            "colorbar": {
             "outlinewidth": 0,
             "ticks": ""
            },
            "colorscale": [
             [
              0,
              "#0d0887"
             ],
             [
              0.1111111111111111,
              "#46039f"
             ],
             [
              0.2222222222222222,
              "#7201a8"
             ],
             [
              0.3333333333333333,
              "#9c179e"
             ],
             [
              0.4444444444444444,
              "#bd3786"
             ],
             [
              0.5555555555555556,
              "#d8576b"
             ],
             [
              0.6666666666666666,
              "#ed7953"
             ],
             [
              0.7777777777777778,
              "#fb9f3a"
             ],
             [
              0.8888888888888888,
              "#fdca26"
             ],
             [
              1,
              "#f0f921"
             ]
            ],
            "type": "contour"
           }
          ],
          "contourcarpet": [
           {
            "colorbar": {
             "outlinewidth": 0,
             "ticks": ""
            },
            "type": "contourcarpet"
           }
          ],
          "heatmap": [
           {
            "colorbar": {
             "outlinewidth": 0,
             "ticks": ""
            },
            "colorscale": [
             [
              0,
              "#0d0887"
             ],
             [
              0.1111111111111111,
              "#46039f"
             ],
             [
              0.2222222222222222,
              "#7201a8"
             ],
             [
              0.3333333333333333,
              "#9c179e"
             ],
             [
              0.4444444444444444,
              "#bd3786"
             ],
             [
              0.5555555555555556,
              "#d8576b"
             ],
             [
              0.6666666666666666,
              "#ed7953"
             ],
             [
              0.7777777777777778,
              "#fb9f3a"
             ],
             [
              0.8888888888888888,
              "#fdca26"
             ],
             [
              1,
              "#f0f921"
             ]
            ],
            "type": "heatmap"
           }
          ],
          "heatmapgl": [
           {
            "colorbar": {
             "outlinewidth": 0,
             "ticks": ""
            },
            "colorscale": [
             [
              0,
              "#0d0887"
             ],
             [
              0.1111111111111111,
              "#46039f"
             ],
             [
              0.2222222222222222,
              "#7201a8"
             ],
             [
              0.3333333333333333,
              "#9c179e"
             ],
             [
              0.4444444444444444,
              "#bd3786"
             ],
             [
              0.5555555555555556,
              "#d8576b"
             ],
             [
              0.6666666666666666,
              "#ed7953"
             ],
             [
              0.7777777777777778,
              "#fb9f3a"
             ],
             [
              0.8888888888888888,
              "#fdca26"
             ],
             [
              1,
              "#f0f921"
             ]
            ],
            "type": "heatmapgl"
           }
          ],
          "histogram": [
           {
            "marker": {
             "pattern": {
              "fillmode": "overlay",
              "size": 10,
              "solidity": 0.2
             }
            },
            "type": "histogram"
           }
          ],
          "histogram2d": [
           {
            "colorbar": {
             "outlinewidth": 0,
             "ticks": ""
            },
            "colorscale": [
             [
              0,
              "#0d0887"
             ],
             [
              0.1111111111111111,
              "#46039f"
             ],
             [
              0.2222222222222222,
              "#7201a8"
             ],
             [
              0.3333333333333333,
              "#9c179e"
             ],
             [
              0.4444444444444444,
              "#bd3786"
             ],
             [
              0.5555555555555556,
              "#d8576b"
             ],
             [
              0.6666666666666666,
              "#ed7953"
             ],
             [
              0.7777777777777778,
              "#fb9f3a"
             ],
             [
              0.8888888888888888,
              "#fdca26"
             ],
             [
              1,
              "#f0f921"
             ]
            ],
            "type": "histogram2d"
           }
          ],
          "histogram2dcontour": [
           {
            "colorbar": {
             "outlinewidth": 0,
             "ticks": ""
            },
            "colorscale": [
             [
              0,
              "#0d0887"
             ],
             [
              0.1111111111111111,
              "#46039f"
             ],
             [
              0.2222222222222222,
              "#7201a8"
             ],
             [
              0.3333333333333333,
              "#9c179e"
             ],
             [
              0.4444444444444444,
              "#bd3786"
             ],
             [
              0.5555555555555556,
              "#d8576b"
             ],
             [
              0.6666666666666666,
              "#ed7953"
             ],
             [
              0.7777777777777778,
              "#fb9f3a"
             ],
             [
              0.8888888888888888,
              "#fdca26"
             ],
             [
              1,
              "#f0f921"
             ]
            ],
            "type": "histogram2dcontour"
           }
          ],
          "mesh3d": [
           {
            "colorbar": {
             "outlinewidth": 0,
             "ticks": ""
            },
            "type": "mesh3d"
           }
          ],
          "parcoords": [
           {
            "line": {
             "colorbar": {
              "outlinewidth": 0,
              "ticks": ""
             }
            },
            "type": "parcoords"
           }
          ],
          "pie": [
           {
            "automargin": true,
            "type": "pie"
           }
          ],
          "scatter": [
           {
            "fillpattern": {
             "fillmode": "overlay",
             "size": 10,
             "solidity": 0.2
            },
            "type": "scatter"
           }
          ],
          "scatter3d": [
           {
            "line": {
             "colorbar": {
              "outlinewidth": 0,
              "ticks": ""
             }
            },
            "marker": {
             "colorbar": {
              "outlinewidth": 0,
              "ticks": ""
             }
            },
            "type": "scatter3d"
           }
          ],
          "scattercarpet": [
           {
            "marker": {
             "colorbar": {
              "outlinewidth": 0,
              "ticks": ""
             }
            },
            "type": "scattercarpet"
           }
          ],
          "scattergeo": [
           {
            "marker": {
             "colorbar": {
              "outlinewidth": 0,
              "ticks": ""
             }
            },
            "type": "scattergeo"
           }
          ],
          "scattergl": [
           {
            "marker": {
             "colorbar": {
              "outlinewidth": 0,
              "ticks": ""
             }
            },
            "type": "scattergl"
           }
          ],
          "scattermapbox": [
           {
            "marker": {
             "colorbar": {
              "outlinewidth": 0,
              "ticks": ""
             }
            },
            "type": "scattermapbox"
           }
          ],
          "scatterpolar": [
           {
            "marker": {
             "colorbar": {
              "outlinewidth": 0,
              "ticks": ""
             }
            },
            "type": "scatterpolar"
           }
          ],
          "scatterpolargl": [
           {
            "marker": {
             "colorbar": {
              "outlinewidth": 0,
              "ticks": ""
             }
            },
            "type": "scatterpolargl"
           }
          ],
          "scatterternary": [
           {
            "marker": {
             "colorbar": {
              "outlinewidth": 0,
              "ticks": ""
             }
            },
            "type": "scatterternary"
           }
          ],
          "surface": [
           {
            "colorbar": {
             "outlinewidth": 0,
             "ticks": ""
            },
            "colorscale": [
             [
              0,
              "#0d0887"
             ],
             [
              0.1111111111111111,
              "#46039f"
             ],
             [
              0.2222222222222222,
              "#7201a8"
             ],
             [
              0.3333333333333333,
              "#9c179e"
             ],
             [
              0.4444444444444444,
              "#bd3786"
             ],
             [
              0.5555555555555556,
              "#d8576b"
             ],
             [
              0.6666666666666666,
              "#ed7953"
             ],
             [
              0.7777777777777778,
              "#fb9f3a"
             ],
             [
              0.8888888888888888,
              "#fdca26"
             ],
             [
              1,
              "#f0f921"
             ]
            ],
            "type": "surface"
           }
          ],
          "table": [
           {
            "cells": {
             "fill": {
              "color": "#EBF0F8"
             },
             "line": {
              "color": "white"
             }
            },
            "header": {
             "fill": {
              "color": "#C8D4E3"
             },
             "line": {
              "color": "white"
             }
            },
            "type": "table"
           }
          ]
         },
         "layout": {
          "annotationdefaults": {
           "arrowcolor": "#2a3f5f",
           "arrowhead": 0,
           "arrowwidth": 1
          },
          "autotypenumbers": "strict",
          "coloraxis": {
           "colorbar": {
            "outlinewidth": 0,
            "ticks": ""
           }
          },
          "colorscale": {
           "diverging": [
            [
             0,
             "#8e0152"
            ],
            [
             0.1,
             "#c51b7d"
            ],
            [
             0.2,
             "#de77ae"
            ],
            [
             0.3,
             "#f1b6da"
            ],
            [
             0.4,
             "#fde0ef"
            ],
            [
             0.5,
             "#f7f7f7"
            ],
            [
             0.6,
             "#e6f5d0"
            ],
            [
             0.7,
             "#b8e186"
            ],
            [
             0.8,
             "#7fbc41"
            ],
            [
             0.9,
             "#4d9221"
            ],
            [
             1,
             "#276419"
            ]
           ],
           "sequential": [
            [
             0,
             "#0d0887"
            ],
            [
             0.1111111111111111,
             "#46039f"
            ],
            [
             0.2222222222222222,
             "#7201a8"
            ],
            [
             0.3333333333333333,
             "#9c179e"
            ],
            [
             0.4444444444444444,
             "#bd3786"
            ],
            [
             0.5555555555555556,
             "#d8576b"
            ],
            [
             0.6666666666666666,
             "#ed7953"
            ],
            [
             0.7777777777777778,
             "#fb9f3a"
            ],
            [
             0.8888888888888888,
             "#fdca26"
            ],
            [
             1,
             "#f0f921"
            ]
           ],
           "sequentialminus": [
            [
             0,
             "#0d0887"
            ],
            [
             0.1111111111111111,
             "#46039f"
            ],
            [
             0.2222222222222222,
             "#7201a8"
            ],
            [
             0.3333333333333333,
             "#9c179e"
            ],
            [
             0.4444444444444444,
             "#bd3786"
            ],
            [
             0.5555555555555556,
             "#d8576b"
            ],
            [
             0.6666666666666666,
             "#ed7953"
            ],
            [
             0.7777777777777778,
             "#fb9f3a"
            ],
            [
             0.8888888888888888,
             "#fdca26"
            ],
            [
             1,
             "#f0f921"
            ]
           ]
          },
          "colorway": [
           "#636efa",
           "#EF553B",
           "#00cc96",
           "#ab63fa",
           "#FFA15A",
           "#19d3f3",
           "#FF6692",
           "#B6E880",
           "#FF97FF",
           "#FECB52"
          ],
          "font": {
           "color": "#2a3f5f"
          },
          "geo": {
           "bgcolor": "white",
           "lakecolor": "white",
           "landcolor": "#E5ECF6",
           "showlakes": true,
           "showland": true,
           "subunitcolor": "white"
          },
          "hoverlabel": {
           "align": "left"
          },
          "hovermode": "closest",
          "mapbox": {
           "style": "light"
          },
          "paper_bgcolor": "white",
          "plot_bgcolor": "#E5ECF6",
          "polar": {
           "angularaxis": {
            "gridcolor": "white",
            "linecolor": "white",
            "ticks": ""
           },
           "bgcolor": "#E5ECF6",
           "radialaxis": {
            "gridcolor": "white",
            "linecolor": "white",
            "ticks": ""
           }
          },
          "scene": {
           "xaxis": {
            "backgroundcolor": "#E5ECF6",
            "gridcolor": "white",
            "gridwidth": 2,
            "linecolor": "white",
            "showbackground": true,
            "ticks": "",
            "zerolinecolor": "white"
           },
           "yaxis": {
            "backgroundcolor": "#E5ECF6",
            "gridcolor": "white",
            "gridwidth": 2,
            "linecolor": "white",
            "showbackground": true,
            "ticks": "",
            "zerolinecolor": "white"
           },
           "zaxis": {
            "backgroundcolor": "#E5ECF6",
            "gridcolor": "white",
            "gridwidth": 2,
            "linecolor": "white",
            "showbackground": true,
            "ticks": "",
            "zerolinecolor": "white"
           }
          },
          "shapedefaults": {
           "line": {
            "color": "#2a3f5f"
           }
          },
          "ternary": {
           "aaxis": {
            "gridcolor": "white",
            "linecolor": "white",
            "ticks": ""
           },
           "baxis": {
            "gridcolor": "white",
            "linecolor": "white",
            "ticks": ""
           },
           "bgcolor": "#E5ECF6",
           "caxis": {
            "gridcolor": "white",
            "linecolor": "white",
            "ticks": ""
           }
          },
          "title": {
           "x": 0.05
          },
          "xaxis": {
           "automargin": true,
           "gridcolor": "white",
           "linecolor": "white",
           "ticks": "",
           "title": {
            "standoff": 15
           },
           "zerolinecolor": "white",
           "zerolinewidth": 2
          },
          "yaxis": {
           "automargin": true,
           "gridcolor": "white",
           "linecolor": "white",
           "ticks": "",
           "title": {
            "standoff": 15
           },
           "zerolinecolor": "white",
           "zerolinewidth": 2
          }
         }
        },
        "title": {
         "text": "My PCA + scipy filters"
        },
        "xaxis": {
         "anchor": "y",
         "domain": [
          0,
          0.08200000000000002
         ]
        },
        "xaxis10": {
         "anchor": "y10",
         "domain": [
          0.9180000000000001,
          1
         ],
         "matches": "x"
        },
        "xaxis11": {
         "anchor": "y11",
         "domain": [
          0,
          0.08200000000000002
         ],
         "matches": "x",
         "showticklabels": false
        },
        "xaxis12": {
         "anchor": "y12",
         "domain": [
          0.10200000000000002,
          0.18400000000000005
         ],
         "matches": "x",
         "showticklabels": false
        },
        "xaxis13": {
         "anchor": "y13",
         "domain": [
          0.20400000000000004,
          0.28600000000000003
         ],
         "matches": "x",
         "showticklabels": false
        },
        "xaxis14": {
         "anchor": "y14",
         "domain": [
          0.30600000000000005,
          0.38800000000000007
         ],
         "matches": "x",
         "showticklabels": false
        },
        "xaxis15": {
         "anchor": "y15",
         "domain": [
          0.4080000000000001,
          0.4900000000000001
         ],
         "matches": "x",
         "showticklabels": false
        },
        "xaxis16": {
         "anchor": "y16",
         "domain": [
          0.5100000000000001,
          0.5920000000000001
         ],
         "matches": "x",
         "showticklabels": false
        },
        "xaxis17": {
         "anchor": "y17",
         "domain": [
          0.6120000000000001,
          0.6940000000000002
         ],
         "matches": "x",
         "showticklabels": false
        },
        "xaxis18": {
         "anchor": "y18",
         "domain": [
          0.7140000000000001,
          0.796
         ],
         "matches": "x",
         "showticklabels": false
        },
        "xaxis19": {
         "anchor": "y19",
         "domain": [
          0.8160000000000002,
          0.8980000000000001
         ],
         "matches": "x",
         "showticklabels": false
        },
        "xaxis2": {
         "anchor": "y2",
         "domain": [
          0.10200000000000002,
          0.18400000000000005
         ],
         "matches": "x"
        },
        "xaxis20": {
         "anchor": "y20",
         "domain": [
          0.9180000000000001,
          1
         ],
         "matches": "x",
         "showticklabels": false
        },
        "xaxis3": {
         "anchor": "y3",
         "domain": [
          0.20400000000000004,
          0.28600000000000003
         ],
         "matches": "x"
        },
        "xaxis4": {
         "anchor": "y4",
         "domain": [
          0.30600000000000005,
          0.38800000000000007
         ],
         "matches": "x"
        },
        "xaxis5": {
         "anchor": "y5",
         "domain": [
          0.4080000000000001,
          0.4900000000000001
         ],
         "matches": "x"
        },
        "xaxis6": {
         "anchor": "y6",
         "domain": [
          0.5100000000000001,
          0.5920000000000001
         ],
         "matches": "x"
        },
        "xaxis7": {
         "anchor": "y7",
         "domain": [
          0.6120000000000001,
          0.6940000000000002
         ],
         "matches": "x"
        },
        "xaxis8": {
         "anchor": "y8",
         "domain": [
          0.7140000000000001,
          0.796
         ],
         "matches": "x"
        },
        "xaxis9": {
         "anchor": "y9",
         "domain": [
          0.8160000000000002,
          0.8980000000000001
         ],
         "matches": "x"
        },
        "yaxis": {
         "anchor": "x",
         "domain": [
          0,
          0.46499999999999997
         ]
        },
        "yaxis10": {
         "anchor": "x10",
         "domain": [
          0,
          0.46499999999999997
         ],
         "matches": "y",
         "showticklabels": false
        },
        "yaxis11": {
         "anchor": "x11",
         "domain": [
          0.5349999999999999,
          0.9999999999999999
         ],
         "matches": "y"
        },
        "yaxis12": {
         "anchor": "x12",
         "domain": [
          0.5349999999999999,
          0.9999999999999999
         ],
         "matches": "y",
         "showticklabels": false
        },
        "yaxis13": {
         "anchor": "x13",
         "domain": [
          0.5349999999999999,
          0.9999999999999999
         ],
         "matches": "y",
         "showticklabels": false
        },
        "yaxis14": {
         "anchor": "x14",
         "domain": [
          0.5349999999999999,
          0.9999999999999999
         ],
         "matches": "y",
         "showticklabels": false
        },
        "yaxis15": {
         "anchor": "x15",
         "domain": [
          0.5349999999999999,
          0.9999999999999999
         ],
         "matches": "y",
         "showticklabels": false
        },
        "yaxis16": {
         "anchor": "x16",
         "domain": [
          0.5349999999999999,
          0.9999999999999999
         ],
         "matches": "y",
         "showticklabels": false
        },
        "yaxis17": {
         "anchor": "x17",
         "domain": [
          0.5349999999999999,
          0.9999999999999999
         ],
         "matches": "y",
         "showticklabels": false
        },
        "yaxis18": {
         "anchor": "x18",
         "domain": [
          0.5349999999999999,
          0.9999999999999999
         ],
         "matches": "y",
         "showticklabels": false
        },
        "yaxis19": {
         "anchor": "x19",
         "domain": [
          0.5349999999999999,
          0.9999999999999999
         ],
         "matches": "y",
         "showticklabels": false
        },
        "yaxis2": {
         "anchor": "x2",
         "domain": [
          0,
          0.46499999999999997
         ],
         "matches": "y",
         "showticklabels": false
        },
        "yaxis20": {
         "anchor": "x20",
         "domain": [
          0.5349999999999999,
          0.9999999999999999
         ],
         "matches": "y",
         "showticklabels": false
        },
        "yaxis3": {
         "anchor": "x3",
         "domain": [
          0,
          0.46499999999999997
         ],
         "matches": "y",
         "showticklabels": false
        },
        "yaxis4": {
         "anchor": "x4",
         "domain": [
          0,
          0.46499999999999997
         ],
         "matches": "y",
         "showticklabels": false
        },
        "yaxis5": {
         "anchor": "x5",
         "domain": [
          0,
          0.46499999999999997
         ],
         "matches": "y",
         "showticklabels": false
        },
        "yaxis6": {
         "anchor": "x6",
         "domain": [
          0,
          0.46499999999999997
         ],
         "matches": "y",
         "showticklabels": false
        },
        "yaxis7": {
         "anchor": "x7",
         "domain": [
          0,
          0.46499999999999997
         ],
         "matches": "y",
         "showticklabels": false
        },
        "yaxis8": {
         "anchor": "x8",
         "domain": [
          0,
          0.46499999999999997
         ],
         "matches": "y",
         "showticklabels": false
        },
        "yaxis9": {
         "anchor": "x9",
         "domain": [
          0,
          0.46499999999999997
         ],
         "matches": "y",
         "showticklabels": false
        }
       }
      }
     },
     "metadata": {},
     "output_type": "display_data"
    }
   ],
   "source": [
    "start = time.time()\n",
    "my_pca_result, my_pca = denoise(X, pca_components=15, gaussian_strength=None, median_strength=None)\n",
    "show_images(my_pca_result, \"My PCA + scipy filters\", col_wrap=col_wrap)\n",
    "my_time = time.time() - start"
   ]
  },
  {
   "cell_type": "code",
   "execution_count": 121,
   "metadata": {},
   "outputs": [],
   "source": [
    "# Guillaume's PCA\n",
    "\n",
    "def guillaume_pca(df):\n",
    "    covariance_matrix = np.cov(df, rowvar=False)\n",
    "    _, eigenvectors = np.linalg.eig(covariance_matrix)\n",
    "    return df.dot(eigenvectors)"
   ]
  },
  {
   "cell_type": "markdown",
   "metadata": {},
   "source": [
    "## ANALYSING RESULTS"
   ]
  },
  {
   "cell_type": "code",
   "execution_count": 122,
   "metadata": {},
   "outputs": [
    {
     "name": "stdout",
     "output_type": "stream",
     "text": [
      "SKLearn PCA -> 0.849988424446153 in 0.11943364143371582 seconds\n",
      "Manual PCA -> 0.8403438394894851 in 0.8397681713104248 seconds\n"
     ]
    }
   ],
   "source": [
    "print(f\"SKLearn PCA -> {sk_pca.explained_variance_ratio_.sum()} in {sk_time} seconds\")\n",
    "print(f\"Manual PCA -> {my_pca.explained_variance_ratio_().sum()} in {my_time} seconds\")"
   ]
  },
  {
   "cell_type": "code",
   "execution_count": null,
   "metadata": {},
   "outputs": [],
   "source": []
  },
  {
   "cell_type": "markdown",
   "metadata": {},
   "source": [
    "## EXPORT / REIMPORT"
   ]
  },
  {
   "cell_type": "code",
   "execution_count": 123,
   "metadata": {},
   "outputs": [],
   "source": [
    "my_pca_result.to_csv(\"output/denoised_images.csv\", index=False)"
   ]
  },
  {
   "cell_type": "code",
   "execution_count": 124,
   "metadata": {},
   "outputs": [
    {
     "data": {
      "application/vnd.plotly.v1+json": {
       "config": {
        "plotlyServerURL": "https://plot.ly"
       },
       "data": [
        {
         "hovertemplate": "x: %{x}<br>y: %{y}<extra></extra>",
         "name": "0",
         "source": "data:image/png;base64,iVBORw0KGgoAAAANSUhEUgAAABwAAAAcCAAAAABXZoBIAAADKklEQVR4XgXBS2zbZAAAYPu387bjvF91kq5tlmRt2qY009hKXyoT7DAJkCYOdBK3IeDEmQMSd27cKMcKCYkTQ3RCLB0tZSltQpsuz7puEzdp7DpNHMdxYofvg59o517Eu0ed4WpbsYxuPq5Xw93rK4h0C3IM/gYq2zXhjenITsxcNOFB5pVGtOheP4RFFEdPbF79z0i0yaha2mTJBgrDd+R20ADwtkMCi4PW7mpWJuebg300s39oSJRK/QNM36SrLfjrQpw9D/XqndWyXfI6TnrIhf6+b5PcBaQfhYIHhBPmx3vahmZxq1mDtLMO4WyYVD/+voXaTvmJLoW/dKrjuR8SF+qMSs8IhfhUWRofQbk9nCs9O5y12Q9dnKdYY5aqu2hJWVNu1iT4p0Gj1DG5eFPDmu6GkKHsnsLTf/Xm4qkei9LZnXvDfjtowPhxwqBDPV7XL03zoy23UQfA6Vuf3O7qhoBoCRJUFCMSxRib0YOF/H9sHTAVkexJlX3OABb/pAiNXXr5W0Lop7rviX547V5u4LkWzQtbsQvtZ0dClsxPCKCCaehwHkwe4V9aGLvywoMgH1R7JLHdqfYKRrzqThCg0R18Z/4Q5kcLrKOM8tTg7mgma8qL1O1hBwzuWB4+L3OelMISI1hgm6glH0sz0ehSMxUFuuPZ5a8Ad7piItuVYnBtgx5Jf1T1MmdYy4o6iW1W3L2b76wY5y//2HMsWJnKP6TttRcWaHDmUHeiCdYeVOV/kxMRidLPvO9qUnDt1rEPflpYYc79d8Y2Ph1mcgYXhHOM3RAypFplpx8Njmkcyama/EVdhIyh3y1u9O1zVyYiBx4cBwD0a7q13pf0CmKHrfVgGBGtsgyxwtWPZh60P8e6R+5AjvHh9Bzaqt03CMZLf+YpNgsYeF17GTsz3ZLA8qbO7ikCPvh8SUk+kG3XKA9ysT7jgZB++ltu/qpUhkebegpfdnCvopMK/Ey18mOmG+dBI0pPUkqoMoiXTwb8/N8R7Ar4KGyMToo15+LNdLViy3UebcOWZfP0uo9Q4ScmY9+T7b7b6OwZSfKNDdEbWSXy5twjhNP/A8hSjDc/VR1/AAAAAElFTkSuQmCC",
         "type": "image",
         "xaxis": "x11",
         "yaxis": "y11"
        },
        {
         "hovertemplate": "x: %{x}<br>y: %{y}<extra></extra>",
         "name": "1",
         "source": "data:image/png;base64,iVBORw0KGgoAAAANSUhEUgAAABwAAAAcCAAAAABXZoBIAAADNElEQVR4XgXB+28adQAAcO57d3DA0Tuu0EJ5r7tRSt/1NlrUWbt19bWZOaNxUWPiD+pPJib+C/627Cd/URMTTUxq1B9cjMvcsofF0q2ltIMOSDtKeZb3Acdx3MPPB3pnxGB9qPKh8GNnlDFAjYGsd8dD3+fjcwNZwBxVQ5BbLmx9hp3PGXgBOikO4jdp0oNKS+DJidJ3aNooc5u8O3ajpMvbFlx1JrkAjxK/IPRqvKbO2VjZ9Nd82IfvjrI3g/10VX8sKFMgsy/4PZ3m/SLx9QgTYJZWetdsvt6F6DL6WgsEJQ//UMGu8tjwB07yGMn5hKLqelKtnSxL0CoMuxOfblKvxhXPuv4UHA9I/5w0AHZgWHVD3zxCp7rswdyKjGEVwM5uKARIiM1qTVZIaKnjEwMZBBoa6Xhrm8ZlHt6rgomwPmarEsisgpv+vMzO5FPtW9qn1PaIH6t62hW0pBFDoIeYeO/jJjBeZSnoitkKPygTzq1ADNaYNYhLrjyZeyVbIW+Iz67n57t6SXF3vTAJZ5cowKWjdOFOdyg0j/rTffBHcf13FaESoOnkySHgYUM1Jo4eWgU1pxZq78vKG7ldXkD3z39bAelKetlFh7VYpjSWXR9OTjRFyNxpdV5UgnPgJaP5yOi379E17pngb5mq7wpazRAFh3IMjqS7MscnZmaKquDfxJk4jnIda7Ez2yyrHpxGCuf2e9au2NeR7QmLrHM2BZ4V3REX4uBaCMlV5PlIlygaLKV1T1ef1Lxl0kU2GUe+fhGQ/Wzwp8GpUe24TLnIleezH6b2UYGIC0YphBT8QfQcst23sPjHqe0zNB76ZEOJUHuUJccCTkH+O6CZgfL42UPoI+XeD4u3yt+PbbweLnFqxJ705hbXpMXnux27ae20xtIby0xvjn+HkWAIwXeohnSlEHbXICipL3kO4glNvTn+1VpmmoO+oH79MgTMzgze9P84iRhYCarbeb49/fPLSei9wbroGOYS9UmH0vrt89t6XeoFSQfngePQApxq8VKPuBOTdu6litcadtsC0TobVT09ihK70JuX/zWYIoG7b++dOlaUujo2KTYWttT0kYJe+B98WoZrSC1eWwAAAABJRU5ErkJggg==",
         "type": "image",
         "xaxis": "x12",
         "yaxis": "y12"
        },
        {
         "hovertemplate": "x: %{x}<br>y: %{y}<extra></extra>",
         "name": "2",
         "source": "data:image/png;base64,iVBORw0KGgoAAAANSUhEUgAAABwAAAAcCAAAAABXZoBIAAADNElEQVR4XgXB328adQAAcO57xwF3R6Ec3EGhDAZcmWWMTvejdtIuMVXS2SyL02SZM8aX+mTMHnz0wT/AZ93rTJ3GLelmnSZmXYbWbq39CaUrlCtw/P5R6HH07uDw84E8n6RDxyuGPrLzZcVaMqUkzv+HFwgFL+legD63wlVA5vu7s1yn3e4Ea9VJcc+ZMbkkuATs2JK2pAyEvZkr6ClxLoONbzxVr6JK7e9nOEj0TLGa6u0fNfTPV3raHyoUQn56XmH16OSTLvSRyVUNzVPOg8DrwIOhy385LKquriVV6FjACKw+CluegKxSU1m9MQ1Ck56moCopU7VLGiOgf3rSi+9dj1Iy0/cHT9P77Rw8vIXOu5p5BCTcYV6vX4rMbg1QwouRZOnVHYGd6XyAHlIFaPRi31ctWSzJHv6Cucnr/vvt/UvfRkR72paHQfCowqQt5RaJ4Xdp/BwgJ8Cj26wllmqcREFBJu7TttB8I06sR7dxpADl+6X3LDgtqW8hF1rJt8g4cXeDTarvvcx5ysV2B+93jWpa40Vs291ykRiPe+SRwQcQcRQNfH9Hs7QRHEsKEsi1zMzgzh6XMacfYpGhrZndr0dqeDhRUeo8yHlFvnxx1+FdHvjKQcrn/vSpUpz65I1hx1gMtKbhhqdDFXmb9htFTmXkk2dZ2+aUbcPodSLhxWu9tctNqpnUGhZpuy9rhY+0zHfvZs9EYaQ4JbPq+g5TETtWLcbXzWvrfj2MWtySCCEyxyKF4jvNLvH8FLwO5XVnkb5E+lUeoe0ABL96bO7Kmqocpt7EtMMoRyXO0ErylTDWAKOJzyqn+f3Ful/Fmv0ZMSsN3SZXZLMD2zSAWG2bSU4D/0wduqZ7PAfDUKz9lHERrk2iCRoXNEjwgKNblGPt8Ye/wn3BzRFQaUUyqCYQO6tXBsXgQc1bNg49vLoAhMbzAD1RidWDe9AXm/bQ/rCoQ82rfe34dsPwOkd8fN8n4TrpH5C/JemMOk5NPzqEsAWcRpHIVX5OpWfQwnnQuocbz8bVvWVyFpGdCehfGq2rf0+ZEofMPmKLuF/y3YJmdOkY/DKdLjqbjWODk7VUxezN/wG06Hxv0MLBXwAAAABJRU5ErkJggg==",
         "type": "image",
         "xaxis": "x13",
         "yaxis": "y13"
        },
        {
         "hovertemplate": "x: %{x}<br>y: %{y}<extra></extra>",
         "name": "3",
         "source": "data:image/png;base64,iVBORw0KGgoAAAANSUhEUgAAABwAAAAcCAAAAABXZoBIAAADKklEQVR4XgXBWW/bdAAAcPtvp7br+IibO87itElKk7TrUCndkU1aNwSbqkpooE1CSEyagAcekHjgQ/DENwAkkBDTYBKioi0Py7YOuqZNLyVL1qRNOud0Tjexndj8fvDNW+nMbfXoOHo4PuhapqqD4auJdnVB3g2mKYDvueeQ4thkaY5vFJw/DVcxnvPcer3KdS4xwGVAlsxWJl0YbDnvBJn1WLK9gu2rUzC+ToDcC00TpGnvDBXBn23ynINzv7sRtpmUkicB4I+kf3/9vGeLl7ZpVXJJ+bCOjKXaKdUxvwgaBS3qqtxwX1LCz685KWevkBg+zRnfdk0neXTprFdjxRzBciiPK5WAEnrvuysy/bNCbhpoe9vWR4SWzwJSg43Shb9CSmtSdtd130D3gyt8KzAezEL1Rgtkfa7z19iwT3v0xkuKIR39ATGljffXwkq51l9KHZBJ/aXQvoNrXMFJwZ8wdYdHNR/c/76H1Z2Ir0PM7uit5phR8jwHlQnC3a+p/Guj5XcE6LLeLc4dwF4kG+C9wLIC0TpEUy4raopgNbPkRlq2dowQO5IAcCy4VgIbepKbtzwOCXnCujfgnaXGZ+UhBqJ2TTXHrZlsdHz74gv6MpRjA07rnr71zukZKstab944ivSzqhsBf38KpO5huxyWJEXm4eXllwM8s1C0mvMYvDtrYkQYv7BSj0h61466f3SM0qFMtQsvx1n//GqQ5GHT283dKHwuDn/p2/c+/mLPPmapEOJiL3eMiDc2EUXyjbZTQEZG4a//zG6nHsID7xNz7aQjSB+qTYGpIE34G3uiK0TSEmTRj6eaDAThIhkZyRTJOBcDf3TgWPa/Aqg0iHv0QqNvK6AD7dRM8Q94HY31haQfmpZJ7GGRK9fv/j7KUuTZyQ6mTz0DjquvaHD1DUP6L5O/tYIGhh3tH3art4ekNA3Kvyyw3X8ST3rEGfux2Z6cBa4wStYa1FAcAdi4puP12Ez/gDqqnavsZLWZIi5NVKn1mgjminlSG1Ev8k8nbWITO59mTqn86dC6ucQz8FcEmrj+1qP+CYsurh1fxwzzRhgBsvpB3NP7H7+egALaryEWAAAAAElFTkSuQmCC",
         "type": "image",
         "xaxis": "x14",
         "yaxis": "y14"
        },
        {
         "hovertemplate": "x: %{x}<br>y: %{y}<extra></extra>",
         "name": "4",
         "source": "data:image/png;base64,iVBORw0KGgoAAAANSUhEUgAAABwAAAAcCAAAAABXZoBIAAADLklEQVR4XgXBy0/bdgAAYPsXP2KckMSxieMQSEJAhTRQKB0rKluqShV7ZGpV1Ko9TNuk7bRWveyy/2C33XZZz5M2aUNVEWPSmm6EduOVAiEwmraJEyAm2I6JE+dle98H2+5FnwwKnNG+2FixezC0tHmVfBLs2TJxlAFz5j8upyEe2W2Q04RfluFJgT8vFIImC53AX2WHSqW4+faEUSsMj9u6jcDod3OvulhUlOAHEIFBZXelhWttx2m7ByFaYZ4T4UK2NwSoTk1ahd7+ilWoifevfFlFRCwltZEE6OqRAdbgYbho/cYfZD8nU8sfTvaVOiY40v67ejwKdnHYBwdgbToUeZZzMeiZ7YFiLYxME2XPNvxwIy7VdVe1B7e7ZfDOEknXrS/df4XEdiANXn9Ch5AYfvuOofd36YlGxDWhX9a4PDuYi4DZxHz+Vbrb7Di8e7mFAzJP0aPCLHTFtYknwelFA3Lu4uCPkexaM7j+/HvixdbJ9jC6HfKzIGNMnbivn5Y+k3fhQ7tMeNK79Wmk6czLMg0CZ3xmC/+0tmAqTWon/nsscSCUKVSabblGgY8OXHc05r3KkbGv+sj71VpqoVO68Iy3qU/BHmbJhHcmdnx77fN4HlH3K5NOv2PjoZeV/cC9zSNkTKwkvf1cv79mmnbnrWSs+XdZ4ZogN/QTJMpaJC4fpfdw3VSws3nP2qVotaW4QbA2Y5B1gn9UQMZ9Px/XMVSYGUMD2iVlhkdMk+EDrPZxYCWS5aKKkxy78GbRmltXvI+iYJEOT+2zmIbPDQjLqWZfuKVQfu+fUaoRtiBEx878skTcTILHlP4tV78GCT7HEpNgrIcqfL9Md2fTX0D+8TX9vWK5A4bTx4UXA7RqKzaQ5V691FvPNGJPx8XnxXubekpqdJnRDUNiCfj2yPpkJVyE9alaxYgumq7ob7QgdrOHIhRBKMsAJqoogvwgzfw49q4aTKrsOSMj1+ghCb4RFLhmw0pUav2vKcnalrzugcfXVoY7RoUBwBW3NFlabPf9G5BtrQ8sd6tbl3e4N4ZD4OGvSx7VfUAC9FTu5Yp9ptZRicGNQffqR6u2/wH/RIQLEJ9PiAAAAABJRU5ErkJggg==",
         "type": "image",
         "xaxis": "x15",
         "yaxis": "y15"
        },
        {
         "hovertemplate": "x: %{x}<br>y: %{y}<extra></extra>",
         "name": "5",
         "source": "data:image/png;base64,iVBORw0KGgoAAAANSUhEUgAAABwAAAAcCAAAAABXZoBIAAADN0lEQVR4XgEsA9P8AZnJ7uYTNgLF3SIX4Vbf6gQDeoICJscVIPf188IC6AoEP/kLHDZTWfk/2wELBzmqDhruINkXGDH0NwFYQtYVDNf1+/pssNEc1iIpy0jg+voTAPf72PwvBAOu7g4TOADQ4Lz9/TYN48Yd1hUG/tYu70v0C98Bfdoo4wQA+Q0Xzwoo+dN52heL6zNi1MxJrOM73gFJBkW47/cu7UnTGQcFLd3XN9DnBCrIMLcKEwLtAgFAz/kCIgQk1NDn2QDlxvfj/GgF0CPOORkt7kUCKwkENB5o8twNNR9jF6327ghCyQwi9PUBG88hrAL56QgH8YYLL+wHAeCvRuYt2bEFFhYNSAT4HN1CAuPyCgYbMkM/7SwU4OPAEu0GFCXs28cB+vUcRNACJf3d/R4J2sEkGf3SEf4z1SIrwwnrJtQBBOKqIALeFyrAAuM58BXT6mRYANoV2egeIeTZ6BX72SsgAgj110TLzdChIBjmh+8LDgfb7VrnKwZI5RQWBfMBpaP7UResTN4FSs/e7M78Rf8k2hrRIdHrEDrq8QS4SPTRJQMDziDQ0eTvRhra7PXxAQ2XMy/pzTPPBP7t3SL1HgEKEPToFycR0+o8ERrNw2gauDjy20cCAcs3HejK1gsjCx318uQRPL8BG/g0DOb77rYX9AQOMNztKfqzYgX6CkLCA80l8zT04tcHEvz6/wfaBP3h5C/oTxbs/e3g/+UoIfdtoQAWN/HlF8519/8CJQUG4xTC+/MRECnjNekOLholCOIFqjbKK7fJ8ATxHArX+xvnABv+Iz3E7zQu0+L/ELVdpkTm8XfmAWjRLQr46hJP9ffj/wwfGt/10BQZ28FMyDjyGr4BlOjo/gzpFd0jKDbGBRbEMaZQ3NYeBxUD2go48gKw6+X6+fD3RO/+n7AC/yG0O+kKR+P0+Q4L7M/XAin/EAgJHxoU5esVQNjurhYG8BKuLRH359Lw5R8CN9L+GA4N7etD7jUA9eIwBurpABHv0O7MUhEEvQLN4U/9zu7fHrH/y9ohwvgEHhr+CwAd5xLZGdlSAUs74/ER81OULREOxe5J5/MUCQHz/grOOdI16dswsorNQG2hZQAAAABJRU5ErkJggg==",
         "type": "image",
         "xaxis": "x16",
         "yaxis": "y16"
        },
        {
         "hovertemplate": "x: %{x}<br>y: %{y}<extra></extra>",
         "name": "6",
         "source": "data:image/png;base64,iVBORw0KGgoAAAANSUhEUgAAABwAAAAcCAAAAABXZoBIAAADG0lEQVR4XgXBy2/adgAAYPvHzxhsYzs8DAmEhDcUaBmUrmmrVt0h29qduuu0Pm6Vep+0v2TSbjv0Mm3ttEhTl03rtEWrlnQhSQlZeCVgHjEP28TG5hHo96HrSfXds5+5rn9GDUo+vD8mdj/6zx7PN03hXShXjXEBw3TzTpbgB1ZoPGNtTKRgiE0EBJiDztMNSLpfpX8R77JOmbiMHlSEoMz1+7dg3CGtdwV1aiJuB3KgTazmwzccUjNpUVwAuIanGw0LImRz35XDjYDxLfbT8zOzvJkfpzrgdI+4MwD90IG80nvjkUZ+zR/Y+ZdMtfCOB5I0MZ31nXiC2ff2agI2jKa/dw9tBw6axYB2xtUtCzo0/G5pBakvm5gdiX3ItWko/VYH5/OjjBjHmbufYZ8bn+U+CfVWlpSmaC2q5yq4qWp/6lVD74+TNU3Z9GJM0GCtPzQZzSB+AktOqy0qZ/g3T1/pQmLTO7IqVfuGg4Am9B7ocnmlruPkdZUdsUpotXRR9oukRLlI5kcQa7PYlIu+rLdrEbW4In+hUMdWMyjODZ0Y6A5suml5+/GcbL47TA/1uffif0lcJ/oXl+foV77CfHb4Ab8Aq7GOg/CQh4W4eT9gcMDODP1arDFh/dr2QSxaQdyj4K+cytOaY9drLxtgLdXiCeqIsYKXNFt6wK9MihqyyK/pPO2A4EWAAcJULSPLFFPz25+7fIT09laDEtdPoNM0Xuo4LJGraGGmPBLQaEmVYATOJWw4BNolYm9JsLaQUlha+DZXO3GlINl7TS+mqzh0NyS3LtQzU2dOGN6J02389NM2PxgosoeDR2CZ265YjhP4WTxdmGxVTdqmu2XxKra9OWxF9sdXZQrgr29X9SfIUGT2FI28wZMT1oc+ulREE/AfyaSFRh/PWvpIVUv2WfV6c0RRYFyg0Xw3ZYklVfiNRP7AspY1SNzsFs7xDJgkzb6li0rbU8uq8f2Wu/xXY8Z5af2p3VAByRw6GZ+v3u8sbIQAoLLqtaa6uFVD/s7KO3DLxx4btbmoXal18BcPjtnxrJy5QiYQkXG/B5CHfQrrzd0GAAAAAElFTkSuQmCC",
         "type": "image",
         "xaxis": "x17",
         "yaxis": "y17"
        },
        {
         "hovertemplate": "x: %{x}<br>y: %{y}<extra></extra>",
         "name": "7",
         "source": "data:image/png;base64,iVBORw0KGgoAAAANSUhEUgAAABwAAAAcCAAAAABXZoBIAAADKklEQVR4XgXBy2/adgAAYPzDYPCLAAFSwhuSEZoXj9ASjaZrU6mTpkrdplWTdtjUabeddli1yw79S3bYZeoOSac9sqptHk2XNEobHilZFx4mJoCBYGNsMDbs+6AHHV+fhnGpT/FzlpKJtx0sPg+a6DIBhxvw9HaR7BhKV9aW9vOtAuNFO9plcDIfbiOtOthXh7WKzPXM6uu68a/iwRZA9yV7ju8WMwSMHZIdeDix3VNTg7d9LAVh+Q+3QtrfpgRfGlbdHIz0g/L99Y0AZmvTLgXB/ohnR35/D++ByLbZRGO3dxcW5lSQ2ajaHVWhaiviK6DnHegbG92KHDuwNjQwxmHxeSNKHnctu+rVFPs+9PncRthdBosAhH7qoAnoQt3VZP3Izy6jlANf0G5bvzgyv678hWLECx03CVUxz+HMkk3+GrrfmATZexKxpQIsMPQNFdmyArH1Xz+iQAgwI1fzE7B5QGhveqaMLso59JdacEaruJQa9ENwbcxuLZ8Q3rIf0jH4/NEi1d/z9qqX+CFM7Ak3Rm9KzoBKF81R2JmIPGXJO66HkpBIwQ1e0y37kTrudnYcfLidaYKpPeuekjjKROC2uV9RMT7l5VtcvioS0vS6r2vjz5PM1Q0RJDj3jPVMLV+rimdbj7+VHQ8NCg5HTVx5FoHVTefT80DlGAB8nFpm05NcfTr/ihE+43MOcIznFc/ddwuQca5fc3lNh3zIR977eFYujvPAEkRHzmpSGOfrp+BdqKp/LM92xHUrkQwB8LtVmOcaWZZplcZWbvzzWp55Vg+8WbUIBywO/ahKO1SRJ8MZSS9WENkgUxNOd/6lu+bJ2wEtsyhGDhKK3VPVuMVcTE8wuSioRuNCDCzpgfe0ELicqhcl07+W2A6Sn439HbwCNmMV6JZDy+G3nnhxsBNO6zrJX1Zpi735SnsSB1lg1pkNw0eZ1oXty+H3vXDjAbrMSyPvpflT1AyTfY65vn2H2yUKNcNdksokH40VyAmJdqLvQd8ZLgLPVv606jY/FUm27ruoB7po6lolbQMwSOX/oz44un1Z5Z5Adl4gRE3j0HDQmhD0N5v/A4lUe7y3sDfiAAAAAElFTkSuQmCC",
         "type": "image",
         "xaxis": "x18",
         "yaxis": "y18"
        },
        {
         "hovertemplate": "x: %{x}<br>y: %{y}<extra></extra>",
         "name": "8",
         "source": "data:image/png;base64,iVBORw0KGgoAAAANSUhEUgAAABwAAAAcCAAAAABXZoBIAAADMUlEQVR4XgXB31PadgAA8ORrIAEkCQRjDAJRoOJP6rRw7Wbr2tK12117PbuX9vq02/Wue9veu9e9bA/7B7brQ2+3p971breuXn+oU6AWOtAgIoh6ATVE5IcBQgj7fODvj6zAsOSZSX2e3PYW7KZIc2L3jGK2ulYqhRgcOdQbQGvIU4npHtujjOxH803h6imk5IA6gyMxq5z4wxEaj4+Q1UlDcs2lDj8vVZgF+LENwsspa92ks1nFMySrUn2ESdKY3BlnA9RK3q7hQxduFmLlBQ3VM2pkT/6vlQF08k94wbk8a8JesnffQ00dHkxgJ/NStAxnenE/Av/Yqu7MrmQelIyHnymXN4x0Aamg09Hj1XFyCHQc1F2Q/qFFvAvgB6mPm5F6WBp+asf8rxth+JE7xe6yx3Ig+cszrPrMR+lzJkJHLFnceQOYw8wysX3+cNH7a3+Dv2JDuoNVt3Mpe9FocQF+b6IucNW6aCKqYXR3+VKFHyu2Ql9lSwMX4OvUKWXu6LKjD+OqJgikmW4VcH48FlB2TODK1ZrhsigfGBquYT4evPUEA9ttMlKo8UEGWf+0b6vj8kGEMeG5Ldh8OxTk9L7W30l+/c+X8HdkWm/Ra72AZXVlazhAxeuDi/lLECqeMPA91SNUenShswnzW32GLX4iXFtWh5Tf5zJ0GxkDnWa/rrSMb3CnDkvj78pPvw0syfsDrNo6j+STI40eWvg2qutY3vac+znzzo2gR4gReuFAQI/XPsgKD8N4O5ydIgtignKvGBCXe31svgamjFbRQWUOZCok54La0XR/t7U5fKh97EUVsFeJnqsKZh8XUyjnmj9E8y85KMnEDNihC9AT9oFEfx6CRt/b5IuTMLG3Ur3DFpEbbJoDMSWSndL8Rh88uXbjfuPDv8dseyNd8e7DMIN4Nr+Q8JHVepubVbKdN3G31VUmA6/2RUl8BSQ6tdWRbvZBfeiH6YYl4J/hOWKNY4vYHA4/QQpY0Sg3cK2XIZoi4VjcvSeWBk+OaGgEKIkScM6Nt25fE9K1jMD/tT5ESp0tzL5q3gZCkGVfPN/4hi8uND23Rq9359tvPPUAWcNV9/+bX3Txd6UBmgAAAABJRU5ErkJggg==",
         "type": "image",
         "xaxis": "x19",
         "yaxis": "y19"
        },
        {
         "hovertemplate": "x: %{x}<br>y: %{y}<extra></extra>",
         "name": "9",
         "source": "data:image/png;base64,iVBORw0KGgoAAAANSUhEUgAAABwAAAAcCAAAAABXZoBIAAADN0lEQVR4XgEsA9P8AXfv9+pc3+76DPDRX8UIILIIUej6/vEGQrQyyCgC/Abo/ODM+tr252/iDFAJRjEj/RgB4QbjQPkr7gL6+xJJAxj/BeZSmwUmh9rKAeTy3Rn1IPu01QP4Atw+6PkJ+/4wMsAj7MksChfuBg/s4CasLQg0vAQBSB75I+3yNN0RTrL2DRU6hlWfKwD59yDuEsorSQE+Gh2/Jjnq8kP0EgMBCdLzScHX/v0n1wQA4TPcAg0k8RccAw8wDx0L5JrN50Lo+E0j0uwaDNs44eEBjeUd/uIDBPHpRsM6DKDwUwxF0q8/wgbmIvIo1gSs8BvtTggjhUf6Mfr/JQvmXfAoHBb3JSPRL/LNAUwk3iQPDdNByc8p4kcN5RXtMt/33vwt+P0C6gwC/fAb2hUC8cYITO0yweMA9Sr5JQHt/u2658HyswIe3/4EzwYp7N7N+O1M0y8Y1OcpFf0cGSERNwRFBBMX+gUtyyL+9xUJ2hI43j0rBMtd/dEPABXe9/MEzhvrJuAC3SX92zP2JfHVGP3YD6b+KdYj+AHFagJE1Qb+5bLz2gIY/xnT2gSO3vbvDjv12dbX70zkAVcPCgEX590bIb78Di3hKgjgDSs31b4bvDj61i4CABinDQLtY/8WL/g/5B+4rdDoAM3KTerzB7ovCwGC6P72IPb0+CTWxTkZ6SS4Y/0q1NHIKPsbFgfwAr4CCh3D+wAGyTNGCgkZ5X/yCQg/JjsMJAy1BdkCZAQMBCUO5fwRFBQh9B8/FygO9Ij58/nm5FjmBgT/CfndQcx6pS/sGRwLrwYV9fbVDt0nE933u/3+AVpRwhLVG0D43SryLtMGDawk++gC9/kECwE6vOQCNLg7vTzY1PMi8gj2FQi6HbMJJRX9Kw7XH7sp1gFdT7cS4DgN3TAY4+P7BvnmDPAW9+E1Dc5A2dxXAZTG7TD19QrK2VzvEzIPyBe2JwTwDhHUKzjHywUECvITGbsiwR0nGDjeozjr8xADJ9j322KqCPJmBQLX9AHTHvEPC/H12eUW3A8BNP8Q+vUipgbjCO7rAgssDxHm+hn0/hQpGyolNwbo75btJekd7hDm3h+AnITvco+QZgAAAABJRU5ErkJggg==",
         "type": "image",
         "xaxis": "x20",
         "yaxis": "y20"
        },
        {
         "hovertemplate": "x: %{x}<br>y: %{y}<extra></extra>",
         "name": "10",
         "source": "data:image/png;base64,iVBORw0KGgoAAAANSUhEUgAAABwAAAAcCAAAAABXZoBIAAADN0lEQVR4XgEsA9P8AWb1Id0mELbEX8EhykYT0j8cAKIkDOsGJ8g2+wwBZULpww0DJ+gJ9grR3SY09d0luwkqL7wFM/wLCALrmtEi9wnaDB3d5wpiFfv5uuhD8iLsPVXmJNu7AhA+9hH13A0Y8VMdD8EO/OVnyeph/BwEvyXRHhcEONwp6SI91unu9gL8JhAN6f0xzxD8+Qf53OczCAF5Btsb3CzjE/Pt6R4VBuUfHfz9Bd+1QivRGtMUAgIT/QE5ChQOxQkl7dAh8g0jDAYtNkgtzQbdElICA+Qk9vQO0PlWDt0lMSBVDc8U9awDeBTXIhPw2AHBt/XwKN4W5h4nsD0j8+gw+es+lOI6BfAA2AjwAXUKEOXgHs074DIIBQcx9ObuCerbPRrv+dHiHQ4C0Q3zAu4SX+5WPu/r3P/M9B0BFkbs1/PT5DMS+wII6dQE/PGqI97JLRnN5fHc/sruCiDP7ioA5RStBCn+/9NRplnh/QYWITwY5PznDvDnCizl2Qwt0w8C4wsoTuMYByDiMBfpDpcivO0aFwMRwPgbEpURPAIfn7+z+e3WwC8L4BUJMLwsRc03qOFDI7nlYOb8AVcovioD7OlWzhwCI0+p2xkL3dEl/sEmABvrKtUC/L9aCeDzP7AJ0wD4pf9aJ+YKExW4DT8vuyPE/QIeEbwMEQTnCCglD/07AbjP++c64UcU+7Mp0wDjAhYbNxgNHyQIDEjU8n4nJlL0TLzqBBTvKwNJHzwCIATN6gTI2FXgCD0PDnUIxkTXPCHsEtjkIa3d5QLk/90IH2f7DUrKqs3qD9zpMPzY0x7mMwr1BCgZBM70PPrEJUTLAuNJujbGHvaQBB3k/QUOJhD7/+cCLz7IyCTy5vjQadwR0x7nDAIM9wbWA9QA8S0L1wQJ2z/AH/xU6+vaSN0XyAQS9h3BDQfo5SkcA/1MATcCFwDyLjn/BtQm0C/6NKQS8CvNGPMS3fMm8u8EKxTU6R8X2ukI+Dwv99nc7/H6BP4P+eHtIL1G4AQa3zMQ3OIBCvwTvwbfLgzgIfX1/uf0HTKj6egSASdBBucU4z7j3AIBN/TMAvMt/f80pV7yyE2xNB2t/HozAHX3+wAAAABJRU5ErkJggg==",
         "type": "image",
         "xaxis": "x",
         "yaxis": "y"
        },
        {
         "hovertemplate": "x: %{x}<br>y: %{y}<extra></extra>",
         "name": "11",
         "source": "data:image/png;base64,iVBORw0KGgoAAAANSUhEUgAAABwAAAAcCAAAAABXZoBIAAADN0lEQVR4XgEsA9P8AXLyERvJGALvANgaZbwJBrBM+fTRGznBLdD8MTME9+oD/US87vkqBy3fEdz5V+oR5QQD3zzAJyPVjwLpViTQ//gvKisU6+0Y5QP+4AYcASsBxA8n3yknAjAD4QDLBd4o0D0f3JYYN9ccCuMS2un5J+n7wdQCD8z8MS8Z7+QB+98ESPDzDCHpHSUHNRbp7wELXwLi2jIZ1R8RvfPuz/HEB/v7D/Tt9g70+hLc5RfDAuIoE9beNSUK6SxjQgQj6hnpSis5GNgQ4TsL+xgCBwPP9jeOqEg6xvq7QCV0QwEZJAEa8QLf30v7CQFq+wQS099MCvO6HicN+R3/7RAaDAzavRoO5gewAiLmGOYtHOzW7hRHMTceI/EC76UC5vNv7+IHBXsEw+/S+xIV8P0ZNAMXL/C0+QHk49MD46wVD9X+/gFvARfg7CLzFMgbZMXuyx4O/Rf2AubrFfBWwvAVBA328Nk1/NzhRgfpAMk9CM9WF8wOFezOI8kb4BIBT+A6/d0eDA9CmkH/7Pk8/DPCCuDWCNz2LOcs7gIUWP7p5iURHutR5AE8HM7vEv+9ri/uJkoHGOPxAijMMykpsAis/ugj38i80vKy9wA3tgFY6QE/5/sC+Qum8Cz59VCm0cUizxkYJCPr0+QCJaAUBb9OEQIbQx8I91QEtRbtzzA2A1vvvPbF2PvVA9oF3/A1AV0cEOL49hf5nX/28CIoB9kQxv8Dz2LX+xnVBwoC8OnW4QQVHdKB1/MXEBT3Dr//9f3+3DTl4f0k9wIa4/UMJODmKdv+BB0E3rnW5zDj+goIrD/mD/j5Au0oBET8eCXNI1oJ2SmqAOo7sBYPHtcsoyA30joC0gQAzsvF40rHAWwGvR/19OIl7Po47OM6ELc8BgIeMP8aJNXLE2TjvOUNBgsm/7wi4eA6GSCzG9+kAkDl+Mj4GBfquPHoa+4k5fH0cAYR3iUCzeonAyYC4NZMDwrzEfVfFxW94/4XEijxFx7T9PvISPMdRwFbKbfZkMvzLOreCzMHyfntTcXeOv4Y7TXE6QT9AVD7MOglwgEP8kH3+BV4h+f07ynmAxvs7BTw2PgOtYsAuLsBUQAAAABJRU5ErkJggg==",
         "type": "image",
         "xaxis": "x2",
         "yaxis": "y2"
        },
        {
         "hovertemplate": "x: %{x}<br>y: %{y}<extra></extra>",
         "name": "12",
         "source": "data:image/png;base64,iVBORw0KGgoAAAANSUhEUgAAABwAAAAcCAAAAABXZoBIAAADEElEQVR4XgXBWW/adgAAcPtvG2xsIGBiIGCuBggJDTCtKWuXTaqqaZc6bdK0x/V1D/sG+wL7JtseplVapambtKNKUtocpZmWhi2EhPji8oXxFcN+P7jZNM/LJAGdLcdkeGcLV19uy2poZRAnHQnE3WCdp2Zi5R/ZQm73Lhx6VgunJMRTHBQ0oJej0gCG9sWLLNZdDa1vn/XSJzGh3RrGAamF8V7HvqzdJXv8+1zzrLt+OB53MqupMQR/2Xr4OJlYQFN8MZJS5LoU5Vd7JsC6NyYeGNyjv4DHxeiJEpi+ASoBgzN2UClavnn+0Qr8qXsTmS6Ro35DFTF/OH01PYxVLyA+6wckYFLmC42yZ0UbcVCf44PdD0OtYKjOBdw5cLzMx6otX3uvGESgH7IiIm5SxmAQVRZ9sDp4rFue6EYfcJtAbT9aBOq/2jIaFjPmHNiN2CzVdQr+Z0+OXc6rToVdgdmKsHnvmoa/PTCKl0gkqQ2QanrCEYFuQvE8VctQgV3Az9IJsVDyK0OIe6omG4fFn83czL/ht5/dgb8ZxY/D4yUtJpF4+73Cb3SIWLo4r8ziMi2j0tTI6A6REBwfXC9Bb02Tj2qxRVAPqMIJ/LULL6vAUEp6cBlak+U/sXyrvvLDLSeom0B6QDqoeet+ieZ/Ov9uRFnz/iay8wmQQlYKLbR8a88ZTjDir1F822vfFyYiAg58SBDBUaDsDfKnbg6Y0WRgkthjmpoR66DF+S/FPvyVgqkLmBEg6R0HLtFHK+3qXxumVt/XYQwlwrgNJDK0NGeO6w1Rf0K/poYJ/HTEoAz6imVbUSbrQeXnn6VVexuu9BeWyRX/7VAKuO3E7mSEbs2Tc60Xmv9o2fmPdbKJI/DBDRYI+uLSKJM/etdX2Nlp37UOUl1ZZ3Of726qaN5oM8Q1QlC8g2mu1cvq00zkd/vdp9W9dcDdSw15sk8szGSNVUYFM8d0KJYQ4iRqgcIfg7XG8E2jsJHjr+5GTiJjizgONYeetiWCv9+e5XuX3+fnEx0rG1DF8vy4S1zl9zXC/R+Yd4sSs3mLDQAAAABJRU5ErkJggg==",
         "type": "image",
         "xaxis": "x3",
         "yaxis": "y3"
        },
        {
         "hovertemplate": "x: %{x}<br>y: %{y}<extra></extra>",
         "name": "13",
         "source": "data:image/png;base64,iVBORw0KGgoAAAANSUhEUgAAABwAAAAcCAAAAABXZoBIAAADN0lEQVR4XgEsA9P8AWwJHt7/+OMOMLcSKwTnDdwvA+HuBCL+Bvr7F+cCAACuF/gUEer07zbg/x/rFAj3EgAZ4QIpEhHqRAL/8QzG5isBKM5X4zcR/hYO6tTlUOIME8fPqgHiAWb1FwcG4+wvvi4OvDL61zEHFOH/G/bXGAz64i8CA/n7w+zsQ/wjOxZKAUEnFiOzK+XABhEX/wFIFwFg/wcd3y0AJNDjAA7+9+8GFO0aSNHWLsMu+sX2Ah4R4tJCGQ0aIzzvD9v4HVAc6wHWABTnCdv9IQ0BUwgTEP9W8vHAPtYDFyyo//3w8SjlCQkf3/cW4QQuC+LjHeTk5hHeFwPP8Co5xS/8sPz37usg9/P7AgXM0O7oww/y2Nv59f8s77UEBeEICvcG5P4tEf0C2P5J+/b5rxDlB83G/aP7FPTHDaYXDhT++KaS4gIT+LsQAMr7uC710goPJTkjHAu8NfNR8mHpNCszBPTnKN1TBxj72BpCN/H/yB4g7tEFGMEKvh0PHsYC6DALO80X4kr+DgT0Fy3+FbieMPnq0Pow5OzTCQFf5/gl+/8VriUA/CEePvb6Aunq9iKtDBzcEyrbAvc4MRbz9hlQWPMC77u/GNYRNyNfwxkJ5vsR9NABIVrbUcIJ2hUN/9cfAvcC3EscDhD6pBL3CBLgHQIu0SnOHOQZ8sg5F/8UBilOqenlCsobRiH6BwYEBAACCNVDCf4XR8cdN/jxwTEp5QQg5wqoCBQCNbEEBQ3/JNMU4DeXZQYSmwH42Copvf4uHtP00PsJNAJV8+jozusC0GQuC77x+/4a+6VcAEXmEuAsTg32BAA04BJBvBwa1A72Jdn4IgAgEgzP0//GD930+esC5xkS6ww8FC4JsQ3MOEQnGwtGszX07BUVE9/k9QFHFecw+vAh0igin3TdIAzdGPDzDpMeFuQ0/frbAVwD+A34G+QDBd4aFCwVAOYe3OD3EhL66yD7uywBeSWuXfHhqCEwCNX6EDDlA/gMEQjhDdonGeEL6QFnCQYh2A/0ASX6/sUd5Q8fzD/lAAuyR/D1PQqeAh32+8IX8d0ZuNaG5/sd5ejmtvYQOh7VAifOrC0IOHoGgfi/JgAAAABJRU5ErkJggg==",
         "type": "image",
         "xaxis": "x4",
         "yaxis": "y4"
        },
        {
         "hovertemplate": "x: %{x}<br>y: %{y}<extra></extra>",
         "name": "14",
         "source": "data:image/png;base64,iVBORw0KGgoAAAANSUhEUgAAABwAAAAcCAAAAABXZoBIAAADGUlEQVR4XgXBS1PidgAA8OSfhBASICEuBFEC8lgF3G5LxxZXR6c767R7sJfO7PbSr9BDD51+hn6AXnrttQdn+nS301VadVxY3bpdBaFEhECIvEIIeRD7+8EfhWbLMXM4858rphvyvUFVevza7PjFu9GSC30XHRDuszabRt5ipK9qO739jDhmxi4RywOogy8d+bjLxnWgZ6qtIl9p7Yb8PlZP2O8A0qHpwSpvfdhQCNiygoUsncyzTfqfHT0NXsnzXDtz8/AkHKHWVr/o5Owrdl1ihqTnog6WH4A8TsGGf5PPfYoY36IY/PfR3K6HuJMcg1ZbZpJ7ihZW2dKLRU+dCC7F/dRmE+ZbAJ17Fk+K5NaIensb/tngO/Zj8lgsU8HpHytNQGZDKp7ryEVEvtTt7pF6ChYoo3M7XelA4C/llK3hx9sZR6ufHt6sedRLu4+QNbh7EQSOmYVfkBr3vUMRwEs6qZ6zltx5oFHe8XYVEJaxRWdxrMa17obHJ3TafE9Y/ml9+nzxEgcw/+8xe6gF4oXg+WjpDoSn8+vO3ADbfK4xKFNNh0VpoeCDMvUUmsbkC7GfvBLMIFF9BMzmpGLTwY+bAhdjsYszyOIm2ra89uumdQg4JsFnqR/3KMfI5TwoOg/solsBnyuB89wWisQqbBv7pKz1TubLIUk+xcxiZqc57sYtFAVjKTRa/Q3YnhAjKFz96Q1Jc4xZWBSQJlDdTHcqufXbyPTYO2A3CvOfJZTfj2aVSTWF9vZXeg1C8Fdmo6fQxp+Yt+Kmb5M0fRh5fxf+2lei3SZBIXnb7UINysefUJNhYiej74fRZ6v9wMsNEnKF7w/08BnthiY9NLUXIWA+An/TiEsoGnXMMC8mqaa0+MqyZiagTNqpvgbGcxVKXDBrRsWJfTfs7712X0vqByk6XGp44C9lKF0REA85Jzee/BBFmIau5q7O79VCVAH+augXEZ1XDrgEjulT/1DXII2TrNLK/AjEqdZ9O9MezaI9fTiuvxFuIvg1MfVmZXGK1q8TXX1/uhaSlqsmHguI7TcK1vCDCoga/wMxXYD326ESSQAAAABJRU5ErkJggg==",
         "type": "image",
         "xaxis": "x5",
         "yaxis": "y5"
        },
        {
         "hovertemplate": "x: %{x}<br>y: %{y}<extra></extra>",
         "name": "15",
         "source": "data:image/png;base64,iVBORw0KGgoAAAANSUhEUgAAABwAAAAcCAAAAABXZoBIAAADK0lEQVR4XgXB308adwAA8Pt+707ggMM7Dg8ERfQUpMW2o9K41lrSLNlGl7TLsoc9NG2WLFmyhz43S7Y/Ydn7nvqymJh169IlM62bdVVaZ2n5URmWH6KHHHccIHCH3OE+H3BvSKndfBQYtGM/+otnUjPFdJSuOhT0JeFioGVHJdNRWRfuR6bUIwofJhqotPtKH0PtRfCZ1y2XamF+z2O42MR4v26ESTZbd6m5RRGGaCm/0HuHfm53EG+qyEE+s97fz2uc5pALsHZcMZUXzjUz7OOy+e+WIzc/DOemLb+53ZdDmLLF+Qwq3UO6NxOtCfcP9hfTrS2KBclhDYHUGF5PtFJCjWhFbZT83tUvB10NEadITfZAeurgUBWSLG1AnoBm7pxx5Wn1UpYpSGfiMia8pukTZKY9+/ZKh22PMsZj0dZsPw2OFGEZPFgrQmOYL002DoBfmm0QNusfXm+96Go7+uB7OE6dJNNzdVxwZ2zCB7GvPhEtmz52laM18A1TsDcYvaB5xnNI51Pd/A/Rax+drn8naruQ2cc/pvsFYoBUYDXEcXXphQEz+a8sr2gn4AtVt+huseacTppPFhS0IpDjvzsvIk+uGxtwYszKeTsbhC4SA7B62u7y65yyXfj1VlvXIJKFp5ueG77D7hAgPsJxKxJ9FLvAn5cOH7SgMTgmx0pWIUJ7+t5U6L8SE/fVR7A4KdMYuJuZ63f3F9UeOnMwqXCHdN6QSQ1IqyuyR0Mp9ro2Oij3WrNAjvtciZ93tKXInGdUezZIwaAz6JLQxSN8LW+ODFgDFy5+q+QbGItnANQ6I2bUZxA99huT40MPubeb6OUGazSvIWwASooqo4HVoHhpBdslxWWpklXPB1BAm0Q7hgOFaG6P2qoPhzduSZ3GVf6aSBkU+/sIkYCAD8r47fSfYoglq2/KX2uOtDjxS1fK5REDrF/YQOZf3WU6FtuHz61wS3c2w8s2UMZ5wgjNO0sgTwmBKVl/fDa1ZCJx6iWZnGF503MShtN/TZgSley1xm7gX4o4NvW3GUs0Lvrd81vwpztNJ2D6Z/fcYTFY420ZOP0MR4beKSWe+B95TntU4wXTnQAAAABJRU5ErkJggg==",
         "type": "image",
         "xaxis": "x6",
         "yaxis": "y6"
        },
        {
         "hovertemplate": "x: %{x}<br>y: %{y}<extra></extra>",
         "name": "16",
         "source": "data:image/png;base64,iVBORw0KGgoAAAANSUhEUgAAABwAAAAcCAAAAABXZoBIAAADN0lEQVR4XgEsA9P8AXwV7tQTs2TjLvq5LAsCC6omBQYv0QcI7SrQBwcC7NYNFBpBxBDQqETZAuDXclXyBfP1+ABAEEcC8wIqIs5E5fdpJSFYoCjmJzXr1jzx/TzVKMjsjScCArkO9OD8FbP10rVS9uwPBt34uf0psjvdKghC91QBWUrkvlTszjX49vf4CO7vbJo/FcYZ9SbU9+8XCwIqqgQSH+Ud5vFS/RAUVDL1h/7R+/nKDwr58hH0AsIZwuiP+RkVR8GDLCslHgzlCgobwVd6CCoYJPsEDyEIBtrSFt4lE8IMxw0M+PX/K7Up+C/W402+7wIE8ikVEiD1IxvyJxJJ2f8A4/761vWe8doSoxdIAgSt6+4U4P3OwtwazuIqBj4OIPE0OEHdH/ta39wCKhz85holBysKP3INuM4dgQfy+eW9LzAX9w8cLQK65M4Uy0XU7dUeJdwQEPQdCCY66vW29ehJx+6SAZ0LtOIWGwHiDdND+AcpDAQS5PHKHc8CUpAbDPkCxNv9bxsqvP0aUP4gHhja8tDTsMHKZiHO+EX3GgFsEeIbwULoEtAn6mjoBAXT/s8OLu0aAfnpCuEAAuoSLN01/ALmKrEJ5BwMEDvxWtz4GJnSDwuq7BYBgN4IFwAH/LwTGyL3MA8WtP349dIlJ7lL7+kq/wIHKwAL4QnfEPLhOEADF8rKwdkc9Qb2IxDLKMLTAvvS98Dq8REMMk30nS/Axv4SIakOOgESsezADesC8CoDJBXntQZB/g1K6AoJ9NnUNiGtDv1PGBkKKwQj7ArnTLFR4p1JA+EHJ8c8ASvvKtUEIRcXBvYGAs3q/wiUOtL2RAKX/xUCYQcwPi7r7zvrkxDh59sCAxT1KpvaBAbu+2AesegH+RvHDxdMuQQXJDnx3AFQJPEF/UHEzHqFbAArnfdp7x+y5ub8WqIW4tkaAV4rzxf3/CXP2CIfwkAs29so0jbm0QU73hXZNd0EHs0A/f370j009dI0CfLyFfhY5dJYz+gDARUMDQLQECwqV+fvoPEIEgLm1woXvs7xLcM7CxMU5/IhBBvQ7yvdBClK8tgbzxH7CM4x+hsG5tMZ+9xVjzbmnXrXf7VxewAAAABJRU5ErkJggg==",
         "type": "image",
         "xaxis": "x7",
         "yaxis": "y7"
        },
        {
         "hovertemplate": "x: %{x}<br>y: %{y}<extra></extra>",
         "name": "17",
         "source": "data:image/png;base64,iVBORw0KGgoAAAANSUhEUgAAABwAAAAcCAAAAABXZoBIAAADMUlEQVR4XgXB3VPbBAAA8CRNP5IOKP0ILfSLtqxeKVQE6jagCCi3zd1224096G67m77qf+GLT54vvvimnudOnV83ZY4HnGNOBivFftK1TQtp07QhadK0zUfj7wcuhuwVzSjQKt38VjO5j43TOxsvqTHdyIFZjsLX+02xafZ2ib3oJnruFz31cQMYFUtv9hxoDrbs8EFdqyxTjxffLUkXgD7UteryShovz6ngNU7jQtpmCvZVJP4aYfxxRdl+W2zrxbGtInS+PTciOGTAkINtjV0+Z9L4/f/0ENom+NahLfhA7hTDzMWiWwsSvByc6TDRXET5qTHmB2/raxazg6lnJ8ON8jS3yLCO7IDSwk9E2g5Zbq3B7toRzjrzJZWTJs5Q31WbZ/lnrGe9DHHxUzdP2WM37q+RHnKCHLKKPMKgwpqrPgh++YKcpxDdoVebDifnvSdPnCj3HktlYt94WShjLaNme2YUSd8Nx6ASERprnn2h1Wm/nsniULsU3WwVCP2I0hiIxF4y2Okb4VAhVR1P2jHws/urCImZOpW5DiomXUhFSsxEamqmFRBsUOVGLyNTT+oeEaHkY/XP54RxvX9Sy/ppAwwhOwYc3V9qu7BagTR3jRV56LdOzho8Ey88gnalnh+PFAIl135nXD2CLhZuBejVH/TQAtKEPKFdgGkvMx/lnLbs0LgmvlGfJOn3u5zCu8HPU7q8bonBqvSWe0pXpa/CAi8lnIMDVUsFSiktsSMtTNXZiM9yPHzw9Jwk7dkMXArTboEb1/PGxvQrCuvSDgJZOY1un351pYNfSKdf10Lkr1b1AMSCid5UdyFayB5S6QlwxQL8rtUD4CeE0jajr5mTy9/PT+dhfuSh4GAf39v22nMiVKjhwVax0XTH17R/P2/u/9wwYO3zggF9dEmEaY+tiJlELHkn8VRENtlBg5IySBzfMz1wgZ8e2eOzfQ0BaCwqLZhCh0D5HUN+7y1Vn1XgpuaZ8aGPvZIeLtpa3v+Q7NUAfiw7EapML0F/kJf5mG72QXhwtp7gSC6wKbzqOiy0cOQTwZurX3xwyAt2evdDXggIauvf4PBflj7dX+5y/wMv56jMBg8fqwAAAABJRU5ErkJggg==",
         "type": "image",
         "xaxis": "x8",
         "yaxis": "y8"
        },
        {
         "hovertemplate": "x: %{x}<br>y: %{y}<extra></extra>",
         "name": "18",
         "source": "data:image/png;base64,iVBORw0KGgoAAAANSUhEUgAAABwAAAAcCAAAAABXZoBIAAADG0lEQVR4XgXBS2/bdAAAcP//ju04cRzn4TZpnTdt2qRLS5sujFEGYtO0aZQDQmjahMQJadqdL8IXQHDiBhw4jJVpDNq1a1fC4qbJQtMkzaOx83L8iOM4/H7gsTj3ryOjy81miECebyiBoaEQDKawOH4JBaq7aZ7VxXtj1epYt3QcF92EC2OBBc0JEAeT7Bo5Nd7YLsZEeXClP68JjM4ouVOCBT+8bIfyAKMdmPp6/trJyn4vUnKOnFrs8BMM5vbWdollaoGsevRgEThuMoUPYzN4+k3i9d9QXVv9ol+da/1p7cQxxeN9Jdp2zRph3Dy5roHNW4ETzsYv5ZJF2Pai0fa55CGI4vB9DfeBr2lJTnHFsc8Oz0wH3CiGlPxh1FnSkzXKkuLT4x2V6MsSfvXAlUIO592z684Cq5WhYhGFPGVMOx45SQodQ+Ppyly9RFrM7JcH83AUA036tBj3M9/tBgzoqJT2Xrq42vSjgTq2+PMDW3nN/WpoW42L+B6x2Vkius+85qWF+xV8Q/WtJQ8toSOCHUQaOJYq9KIdi0Qg+xE4O5rR/YAGMxjnKb+IjlySD54WzgBx/h4KHuLdaE3+uMVjYxsXmWpfPfld/vxcsQsOvgczSHgpTEuH96gPHgabk8hP1Kr+R5D/ryU4OHD/7osJLN/udieXHrLqv34ybDMD7dNdMaazcKE6vuW+I/C6v2Gjb6dPB+GgaXjKuUmtOYHuajebafMoJiV0bcr1zTowQ8LPYbIZR8Cj4jsXI58szYrplprqVhfqYd8+COv1uumGrhuta3cYbGOb0P1jZNPOg+xTydspSP4VFmQy9jPcv5y1ApVMaAJVWWkeofGdxRLbCMIHIyZGinz6ACwq9V6yDlzfBzB5HVEyixy4C9N5JEiVtp6QccM5MfoDg9nZLqnx3NZvcJ3Oez29hr0i0xV4bDynkER1uTaKP6X2PwPfksRf78LOP1eGN4j8CCVl5qi/BFuDCMeKcAWtXwWsi7WhRwWUtT5LHiO2C7Bt1ZqiCH9pNP3gx8sFZ8Cu+vLI1t50NaRSx8stwvX2fyYNeIa0q82UAAAAAElFTkSuQmCC",
         "type": "image",
         "xaxis": "x9",
         "yaxis": "y9"
        },
        {
         "hovertemplate": "x: %{x}<br>y: %{y}<extra></extra>",
         "name": "19",
         "source": "data:image/png;base64,iVBORw0KGgoAAAANSUhEUgAAABwAAAAcCAAAAABXZoBIAAADJ0lEQVR4XgXB328adQAAcL5fOLiD4+44ehy/7lZKC21ltHa1M82029zDtCbGLFkak5kYffGl/4NPPuvbosYnE2PUGJ1mmmzZtNEy0gIdO0CuBYQLu3L8vOPHHQz8fMDHS2fM3YseQKSv3rutXSgyaKHHYC+A7BSn4EMQ1Q1M7arxXHubSa2lCOrB9khPEpeGKAyuZ2rBtPaEfOYjWulGkk33FtcU2YlroQLM/r7ck5PILSs5a5zOImWL4+/yj34mMi2VvWAXC46tM7U13H5JLiGkOXK8YitXGSl9rXkKa5f6NF5wBglfJk/TN6Db6PsxLg/CA3QC9lWbqN9JxMadi+dDX/dl1WxPh5qJ+OdvUR2INcUI8z3dD831L3ffHh38/OWf/lTRwl6xpxHwKSFYBjbhWr2yX3g4vt6XDR7kdHpCnb5+Avatc3Vbi+bR2MHI9Q3htXkMhT3vY87QRIL8sIIfpvmTm08Tlsp8BKFLohbmAv7W4YkAtqJRBZeQ8Js/AXvD0hSWPTJejQ3yobMohK5FoaI2VILyBLsUp9sReVNffzi8UTbjJKSlaDE14abii9leO8q+x0QG3sB6p468k8hAxFpfxO6QwcJt+sTd5rANwr3ZHb5rct+nFiDW2SrNCfeTO7nqRGloX1eE3FhZX7XzGBMCO7tjvvQP80Z2jv92q4rlb8HWZOeHuPuLgNsO3l/L8lbB55uMrhtnzabqxtq2ldU/0JZhOOCoaisnTFK54sv0fJuCIZJKzXsIFcktzuB8rkHHc6rsUpbQp80PuiM6fhW9HDG1fltOgt0LKpjZz547VvZU+IhFPBwuGC7iV/NgwQF1h4s9WgjDgCdBynvsTT4sbTDaeUnRpBrUSGb4UdFiR9akX1wPjrOdNt/zHX2VerzzHwo+e/ac19WenafYeuIV0m+tNdCjwOr83c26DP8NtkwIwb02mh0Ppuhf0hPx4BRjEvecLn0ZkoPtcUfDTC61SPnyne/QbKzt7z5Os3JSAJ/UxaVYcbJgKhl5jtCrjSvVDZGVg8MKY7PMovixI/xoSvSbGEclX81gXjM+XTSjZcL6P2UQfSZTdRWdAAAAAElFTkSuQmCC",
         "type": "image",
         "xaxis": "x10",
         "yaxis": "y10"
        }
       ],
       "layout": {
        "annotations": [
         {
          "font": {},
          "showarrow": false,
          "text": "facet_col=10",
          "x": 0.04100000000000001,
          "xanchor": "center",
          "xref": "paper",
          "y": 0.46499999999999997,
          "yanchor": "bottom",
          "yref": "paper"
         },
         {
          "font": {},
          "showarrow": false,
          "text": "facet_col=11",
          "x": 0.14300000000000004,
          "xanchor": "center",
          "xref": "paper",
          "y": 0.46499999999999997,
          "yanchor": "bottom",
          "yref": "paper"
         },
         {
          "font": {},
          "showarrow": false,
          "text": "facet_col=12",
          "x": 0.24500000000000005,
          "xanchor": "center",
          "xref": "paper",
          "y": 0.46499999999999997,
          "yanchor": "bottom",
          "yref": "paper"
         },
         {
          "font": {},
          "showarrow": false,
          "text": "facet_col=13",
          "x": 0.3470000000000001,
          "xanchor": "center",
          "xref": "paper",
          "y": 0.46499999999999997,
          "yanchor": "bottom",
          "yref": "paper"
         },
         {
          "font": {},
          "showarrow": false,
          "text": "facet_col=14",
          "x": 0.44900000000000007,
          "xanchor": "center",
          "xref": "paper",
          "y": 0.46499999999999997,
          "yanchor": "bottom",
          "yref": "paper"
         },
         {
          "font": {},
          "showarrow": false,
          "text": "facet_col=15",
          "x": 0.5510000000000002,
          "xanchor": "center",
          "xref": "paper",
          "y": 0.46499999999999997,
          "yanchor": "bottom",
          "yref": "paper"
         },
         {
          "font": {},
          "showarrow": false,
          "text": "facet_col=16",
          "x": 0.6530000000000001,
          "xanchor": "center",
          "xref": "paper",
          "y": 0.46499999999999997,
          "yanchor": "bottom",
          "yref": "paper"
         },
         {
          "font": {},
          "showarrow": false,
          "text": "facet_col=17",
          "x": 0.7550000000000001,
          "xanchor": "center",
          "xref": "paper",
          "y": 0.46499999999999997,
          "yanchor": "bottom",
          "yref": "paper"
         },
         {
          "font": {},
          "showarrow": false,
          "text": "facet_col=18",
          "x": 0.8570000000000002,
          "xanchor": "center",
          "xref": "paper",
          "y": 0.46499999999999997,
          "yanchor": "bottom",
          "yref": "paper"
         },
         {
          "font": {},
          "showarrow": false,
          "text": "facet_col=19",
          "x": 0.9590000000000002,
          "xanchor": "center",
          "xref": "paper",
          "y": 0.46499999999999997,
          "yanchor": "bottom",
          "yref": "paper"
         },
         {
          "font": {},
          "showarrow": false,
          "text": "facet_col=0",
          "x": 0.04100000000000001,
          "xanchor": "center",
          "xref": "paper",
          "y": 0.9999999999999999,
          "yanchor": "bottom",
          "yref": "paper"
         },
         {
          "font": {},
          "showarrow": false,
          "text": "facet_col=1",
          "x": 0.14300000000000004,
          "xanchor": "center",
          "xref": "paper",
          "y": 0.9999999999999999,
          "yanchor": "bottom",
          "yref": "paper"
         },
         {
          "font": {},
          "showarrow": false,
          "text": "facet_col=2",
          "x": 0.24500000000000005,
          "xanchor": "center",
          "xref": "paper",
          "y": 0.9999999999999999,
          "yanchor": "bottom",
          "yref": "paper"
         },
         {
          "font": {},
          "showarrow": false,
          "text": "facet_col=3",
          "x": 0.3470000000000001,
          "xanchor": "center",
          "xref": "paper",
          "y": 0.9999999999999999,
          "yanchor": "bottom",
          "yref": "paper"
         },
         {
          "font": {},
          "showarrow": false,
          "text": "facet_col=4",
          "x": 0.44900000000000007,
          "xanchor": "center",
          "xref": "paper",
          "y": 0.9999999999999999,
          "yanchor": "bottom",
          "yref": "paper"
         },
         {
          "font": {},
          "showarrow": false,
          "text": "facet_col=5",
          "x": 0.5510000000000002,
          "xanchor": "center",
          "xref": "paper",
          "y": 0.9999999999999999,
          "yanchor": "bottom",
          "yref": "paper"
         },
         {
          "font": {},
          "showarrow": false,
          "text": "facet_col=6",
          "x": 0.6530000000000001,
          "xanchor": "center",
          "xref": "paper",
          "y": 0.9999999999999999,
          "yanchor": "bottom",
          "yref": "paper"
         },
         {
          "font": {},
          "showarrow": false,
          "text": "facet_col=7",
          "x": 0.7550000000000001,
          "xanchor": "center",
          "xref": "paper",
          "y": 0.9999999999999999,
          "yanchor": "bottom",
          "yref": "paper"
         },
         {
          "font": {},
          "showarrow": false,
          "text": "facet_col=8",
          "x": 0.8570000000000002,
          "xanchor": "center",
          "xref": "paper",
          "y": 0.9999999999999999,
          "yanchor": "bottom",
          "yref": "paper"
         },
         {
          "font": {},
          "showarrow": false,
          "text": "facet_col=9",
          "x": 0.9590000000000002,
          "xanchor": "center",
          "xref": "paper",
          "y": 0.9999999999999999,
          "yanchor": "bottom",
          "yref": "paper"
         }
        ],
        "template": {
         "data": {
          "bar": [
           {
            "error_x": {
             "color": "#2a3f5f"
            },
            "error_y": {
             "color": "#2a3f5f"
            },
            "marker": {
             "line": {
              "color": "#E5ECF6",
              "width": 0.5
             },
             "pattern": {
              "fillmode": "overlay",
              "size": 10,
              "solidity": 0.2
             }
            },
            "type": "bar"
           }
          ],
          "barpolar": [
           {
            "marker": {
             "line": {
              "color": "#E5ECF6",
              "width": 0.5
             },
             "pattern": {
              "fillmode": "overlay",
              "size": 10,
              "solidity": 0.2
             }
            },
            "type": "barpolar"
           }
          ],
          "carpet": [
           {
            "aaxis": {
             "endlinecolor": "#2a3f5f",
             "gridcolor": "white",
             "linecolor": "white",
             "minorgridcolor": "white",
             "startlinecolor": "#2a3f5f"
            },
            "baxis": {
             "endlinecolor": "#2a3f5f",
             "gridcolor": "white",
             "linecolor": "white",
             "minorgridcolor": "white",
             "startlinecolor": "#2a3f5f"
            },
            "type": "carpet"
           }
          ],
          "choropleth": [
           {
            "colorbar": {
             "outlinewidth": 0,
             "ticks": ""
            },
            "type": "choropleth"
           }
          ],
          "contour": [
           {
            "colorbar": {
             "outlinewidth": 0,
             "ticks": ""
            },
            "colorscale": [
             [
              0,
              "#0d0887"
             ],
             [
              0.1111111111111111,
              "#46039f"
             ],
             [
              0.2222222222222222,
              "#7201a8"
             ],
             [
              0.3333333333333333,
              "#9c179e"
             ],
             [
              0.4444444444444444,
              "#bd3786"
             ],
             [
              0.5555555555555556,
              "#d8576b"
             ],
             [
              0.6666666666666666,
              "#ed7953"
             ],
             [
              0.7777777777777778,
              "#fb9f3a"
             ],
             [
              0.8888888888888888,
              "#fdca26"
             ],
             [
              1,
              "#f0f921"
             ]
            ],
            "type": "contour"
           }
          ],
          "contourcarpet": [
           {
            "colorbar": {
             "outlinewidth": 0,
             "ticks": ""
            },
            "type": "contourcarpet"
           }
          ],
          "heatmap": [
           {
            "colorbar": {
             "outlinewidth": 0,
             "ticks": ""
            },
            "colorscale": [
             [
              0,
              "#0d0887"
             ],
             [
              0.1111111111111111,
              "#46039f"
             ],
             [
              0.2222222222222222,
              "#7201a8"
             ],
             [
              0.3333333333333333,
              "#9c179e"
             ],
             [
              0.4444444444444444,
              "#bd3786"
             ],
             [
              0.5555555555555556,
              "#d8576b"
             ],
             [
              0.6666666666666666,
              "#ed7953"
             ],
             [
              0.7777777777777778,
              "#fb9f3a"
             ],
             [
              0.8888888888888888,
              "#fdca26"
             ],
             [
              1,
              "#f0f921"
             ]
            ],
            "type": "heatmap"
           }
          ],
          "heatmapgl": [
           {
            "colorbar": {
             "outlinewidth": 0,
             "ticks": ""
            },
            "colorscale": [
             [
              0,
              "#0d0887"
             ],
             [
              0.1111111111111111,
              "#46039f"
             ],
             [
              0.2222222222222222,
              "#7201a8"
             ],
             [
              0.3333333333333333,
              "#9c179e"
             ],
             [
              0.4444444444444444,
              "#bd3786"
             ],
             [
              0.5555555555555556,
              "#d8576b"
             ],
             [
              0.6666666666666666,
              "#ed7953"
             ],
             [
              0.7777777777777778,
              "#fb9f3a"
             ],
             [
              0.8888888888888888,
              "#fdca26"
             ],
             [
              1,
              "#f0f921"
             ]
            ],
            "type": "heatmapgl"
           }
          ],
          "histogram": [
           {
            "marker": {
             "pattern": {
              "fillmode": "overlay",
              "size": 10,
              "solidity": 0.2
             }
            },
            "type": "histogram"
           }
          ],
          "histogram2d": [
           {
            "colorbar": {
             "outlinewidth": 0,
             "ticks": ""
            },
            "colorscale": [
             [
              0,
              "#0d0887"
             ],
             [
              0.1111111111111111,
              "#46039f"
             ],
             [
              0.2222222222222222,
              "#7201a8"
             ],
             [
              0.3333333333333333,
              "#9c179e"
             ],
             [
              0.4444444444444444,
              "#bd3786"
             ],
             [
              0.5555555555555556,
              "#d8576b"
             ],
             [
              0.6666666666666666,
              "#ed7953"
             ],
             [
              0.7777777777777778,
              "#fb9f3a"
             ],
             [
              0.8888888888888888,
              "#fdca26"
             ],
             [
              1,
              "#f0f921"
             ]
            ],
            "type": "histogram2d"
           }
          ],
          "histogram2dcontour": [
           {
            "colorbar": {
             "outlinewidth": 0,
             "ticks": ""
            },
            "colorscale": [
             [
              0,
              "#0d0887"
             ],
             [
              0.1111111111111111,
              "#46039f"
             ],
             [
              0.2222222222222222,
              "#7201a8"
             ],
             [
              0.3333333333333333,
              "#9c179e"
             ],
             [
              0.4444444444444444,
              "#bd3786"
             ],
             [
              0.5555555555555556,
              "#d8576b"
             ],
             [
              0.6666666666666666,
              "#ed7953"
             ],
             [
              0.7777777777777778,
              "#fb9f3a"
             ],
             [
              0.8888888888888888,
              "#fdca26"
             ],
             [
              1,
              "#f0f921"
             ]
            ],
            "type": "histogram2dcontour"
           }
          ],
          "mesh3d": [
           {
            "colorbar": {
             "outlinewidth": 0,
             "ticks": ""
            },
            "type": "mesh3d"
           }
          ],
          "parcoords": [
           {
            "line": {
             "colorbar": {
              "outlinewidth": 0,
              "ticks": ""
             }
            },
            "type": "parcoords"
           }
          ],
          "pie": [
           {
            "automargin": true,
            "type": "pie"
           }
          ],
          "scatter": [
           {
            "fillpattern": {
             "fillmode": "overlay",
             "size": 10,
             "solidity": 0.2
            },
            "type": "scatter"
           }
          ],
          "scatter3d": [
           {
            "line": {
             "colorbar": {
              "outlinewidth": 0,
              "ticks": ""
             }
            },
            "marker": {
             "colorbar": {
              "outlinewidth": 0,
              "ticks": ""
             }
            },
            "type": "scatter3d"
           }
          ],
          "scattercarpet": [
           {
            "marker": {
             "colorbar": {
              "outlinewidth": 0,
              "ticks": ""
             }
            },
            "type": "scattercarpet"
           }
          ],
          "scattergeo": [
           {
            "marker": {
             "colorbar": {
              "outlinewidth": 0,
              "ticks": ""
             }
            },
            "type": "scattergeo"
           }
          ],
          "scattergl": [
           {
            "marker": {
             "colorbar": {
              "outlinewidth": 0,
              "ticks": ""
             }
            },
            "type": "scattergl"
           }
          ],
          "scattermapbox": [
           {
            "marker": {
             "colorbar": {
              "outlinewidth": 0,
              "ticks": ""
             }
            },
            "type": "scattermapbox"
           }
          ],
          "scatterpolar": [
           {
            "marker": {
             "colorbar": {
              "outlinewidth": 0,
              "ticks": ""
             }
            },
            "type": "scatterpolar"
           }
          ],
          "scatterpolargl": [
           {
            "marker": {
             "colorbar": {
              "outlinewidth": 0,
              "ticks": ""
             }
            },
            "type": "scatterpolargl"
           }
          ],
          "scatterternary": [
           {
            "marker": {
             "colorbar": {
              "outlinewidth": 0,
              "ticks": ""
             }
            },
            "type": "scatterternary"
           }
          ],
          "surface": [
           {
            "colorbar": {
             "outlinewidth": 0,
             "ticks": ""
            },
            "colorscale": [
             [
              0,
              "#0d0887"
             ],
             [
              0.1111111111111111,
              "#46039f"
             ],
             [
              0.2222222222222222,
              "#7201a8"
             ],
             [
              0.3333333333333333,
              "#9c179e"
             ],
             [
              0.4444444444444444,
              "#bd3786"
             ],
             [
              0.5555555555555556,
              "#d8576b"
             ],
             [
              0.6666666666666666,
              "#ed7953"
             ],
             [
              0.7777777777777778,
              "#fb9f3a"
             ],
             [
              0.8888888888888888,
              "#fdca26"
             ],
             [
              1,
              "#f0f921"
             ]
            ],
            "type": "surface"
           }
          ],
          "table": [
           {
            "cells": {
             "fill": {
              "color": "#EBF0F8"
             },
             "line": {
              "color": "white"
             }
            },
            "header": {
             "fill": {
              "color": "#C8D4E3"
             },
             "line": {
              "color": "white"
             }
            },
            "type": "table"
           }
          ]
         },
         "layout": {
          "annotationdefaults": {
           "arrowcolor": "#2a3f5f",
           "arrowhead": 0,
           "arrowwidth": 1
          },
          "autotypenumbers": "strict",
          "coloraxis": {
           "colorbar": {
            "outlinewidth": 0,
            "ticks": ""
           }
          },
          "colorscale": {
           "diverging": [
            [
             0,
             "#8e0152"
            ],
            [
             0.1,
             "#c51b7d"
            ],
            [
             0.2,
             "#de77ae"
            ],
            [
             0.3,
             "#f1b6da"
            ],
            [
             0.4,
             "#fde0ef"
            ],
            [
             0.5,
             "#f7f7f7"
            ],
            [
             0.6,
             "#e6f5d0"
            ],
            [
             0.7,
             "#b8e186"
            ],
            [
             0.8,
             "#7fbc41"
            ],
            [
             0.9,
             "#4d9221"
            ],
            [
             1,
             "#276419"
            ]
           ],
           "sequential": [
            [
             0,
             "#0d0887"
            ],
            [
             0.1111111111111111,
             "#46039f"
            ],
            [
             0.2222222222222222,
             "#7201a8"
            ],
            [
             0.3333333333333333,
             "#9c179e"
            ],
            [
             0.4444444444444444,
             "#bd3786"
            ],
            [
             0.5555555555555556,
             "#d8576b"
            ],
            [
             0.6666666666666666,
             "#ed7953"
            ],
            [
             0.7777777777777778,
             "#fb9f3a"
            ],
            [
             0.8888888888888888,
             "#fdca26"
            ],
            [
             1,
             "#f0f921"
            ]
           ],
           "sequentialminus": [
            [
             0,
             "#0d0887"
            ],
            [
             0.1111111111111111,
             "#46039f"
            ],
            [
             0.2222222222222222,
             "#7201a8"
            ],
            [
             0.3333333333333333,
             "#9c179e"
            ],
            [
             0.4444444444444444,
             "#bd3786"
            ],
            [
             0.5555555555555556,
             "#d8576b"
            ],
            [
             0.6666666666666666,
             "#ed7953"
            ],
            [
             0.7777777777777778,
             "#fb9f3a"
            ],
            [
             0.8888888888888888,
             "#fdca26"
            ],
            [
             1,
             "#f0f921"
            ]
           ]
          },
          "colorway": [
           "#636efa",
           "#EF553B",
           "#00cc96",
           "#ab63fa",
           "#FFA15A",
           "#19d3f3",
           "#FF6692",
           "#B6E880",
           "#FF97FF",
           "#FECB52"
          ],
          "font": {
           "color": "#2a3f5f"
          },
          "geo": {
           "bgcolor": "white",
           "lakecolor": "white",
           "landcolor": "#E5ECF6",
           "showlakes": true,
           "showland": true,
           "subunitcolor": "white"
          },
          "hoverlabel": {
           "align": "left"
          },
          "hovermode": "closest",
          "mapbox": {
           "style": "light"
          },
          "paper_bgcolor": "white",
          "plot_bgcolor": "#E5ECF6",
          "polar": {
           "angularaxis": {
            "gridcolor": "white",
            "linecolor": "white",
            "ticks": ""
           },
           "bgcolor": "#E5ECF6",
           "radialaxis": {
            "gridcolor": "white",
            "linecolor": "white",
            "ticks": ""
           }
          },
          "scene": {
           "xaxis": {
            "backgroundcolor": "#E5ECF6",
            "gridcolor": "white",
            "gridwidth": 2,
            "linecolor": "white",
            "showbackground": true,
            "ticks": "",
            "zerolinecolor": "white"
           },
           "yaxis": {
            "backgroundcolor": "#E5ECF6",
            "gridcolor": "white",
            "gridwidth": 2,
            "linecolor": "white",
            "showbackground": true,
            "ticks": "",
            "zerolinecolor": "white"
           },
           "zaxis": {
            "backgroundcolor": "#E5ECF6",
            "gridcolor": "white",
            "gridwidth": 2,
            "linecolor": "white",
            "showbackground": true,
            "ticks": "",
            "zerolinecolor": "white"
           }
          },
          "shapedefaults": {
           "line": {
            "color": "#2a3f5f"
           }
          },
          "ternary": {
           "aaxis": {
            "gridcolor": "white",
            "linecolor": "white",
            "ticks": ""
           },
           "baxis": {
            "gridcolor": "white",
            "linecolor": "white",
            "ticks": ""
           },
           "bgcolor": "#E5ECF6",
           "caxis": {
            "gridcolor": "white",
            "linecolor": "white",
            "ticks": ""
           }
          },
          "title": {
           "x": 0.05
          },
          "xaxis": {
           "automargin": true,
           "gridcolor": "white",
           "linecolor": "white",
           "ticks": "",
           "title": {
            "standoff": 15
           },
           "zerolinecolor": "white",
           "zerolinewidth": 2
          },
          "yaxis": {
           "automargin": true,
           "gridcolor": "white",
           "linecolor": "white",
           "ticks": "",
           "title": {
            "standoff": 15
           },
           "zerolinecolor": "white",
           "zerolinewidth": 2
          }
         }
        },
        "title": {
         "text": "Result"
        },
        "xaxis": {
         "anchor": "y",
         "domain": [
          0,
          0.08200000000000002
         ]
        },
        "xaxis10": {
         "anchor": "y10",
         "domain": [
          0.9180000000000001,
          1
         ],
         "matches": "x"
        },
        "xaxis11": {
         "anchor": "y11",
         "domain": [
          0,
          0.08200000000000002
         ],
         "matches": "x",
         "showticklabels": false
        },
        "xaxis12": {
         "anchor": "y12",
         "domain": [
          0.10200000000000002,
          0.18400000000000005
         ],
         "matches": "x",
         "showticklabels": false
        },
        "xaxis13": {
         "anchor": "y13",
         "domain": [
          0.20400000000000004,
          0.28600000000000003
         ],
         "matches": "x",
         "showticklabels": false
        },
        "xaxis14": {
         "anchor": "y14",
         "domain": [
          0.30600000000000005,
          0.38800000000000007
         ],
         "matches": "x",
         "showticklabels": false
        },
        "xaxis15": {
         "anchor": "y15",
         "domain": [
          0.4080000000000001,
          0.4900000000000001
         ],
         "matches": "x",
         "showticklabels": false
        },
        "xaxis16": {
         "anchor": "y16",
         "domain": [
          0.5100000000000001,
          0.5920000000000001
         ],
         "matches": "x",
         "showticklabels": false
        },
        "xaxis17": {
         "anchor": "y17",
         "domain": [
          0.6120000000000001,
          0.6940000000000002
         ],
         "matches": "x",
         "showticklabels": false
        },
        "xaxis18": {
         "anchor": "y18",
         "domain": [
          0.7140000000000001,
          0.796
         ],
         "matches": "x",
         "showticklabels": false
        },
        "xaxis19": {
         "anchor": "y19",
         "domain": [
          0.8160000000000002,
          0.8980000000000001
         ],
         "matches": "x",
         "showticklabels": false
        },
        "xaxis2": {
         "anchor": "y2",
         "domain": [
          0.10200000000000002,
          0.18400000000000005
         ],
         "matches": "x"
        },
        "xaxis20": {
         "anchor": "y20",
         "domain": [
          0.9180000000000001,
          1
         ],
         "matches": "x",
         "showticklabels": false
        },
        "xaxis3": {
         "anchor": "y3",
         "domain": [
          0.20400000000000004,
          0.28600000000000003
         ],
         "matches": "x"
        },
        "xaxis4": {
         "anchor": "y4",
         "domain": [
          0.30600000000000005,
          0.38800000000000007
         ],
         "matches": "x"
        },
        "xaxis5": {
         "anchor": "y5",
         "domain": [
          0.4080000000000001,
          0.4900000000000001
         ],
         "matches": "x"
        },
        "xaxis6": {
         "anchor": "y6",
         "domain": [
          0.5100000000000001,
          0.5920000000000001
         ],
         "matches": "x"
        },
        "xaxis7": {
         "anchor": "y7",
         "domain": [
          0.6120000000000001,
          0.6940000000000002
         ],
         "matches": "x"
        },
        "xaxis8": {
         "anchor": "y8",
         "domain": [
          0.7140000000000001,
          0.796
         ],
         "matches": "x"
        },
        "xaxis9": {
         "anchor": "y9",
         "domain": [
          0.8160000000000002,
          0.8980000000000001
         ],
         "matches": "x"
        },
        "yaxis": {
         "anchor": "x",
         "domain": [
          0,
          0.46499999999999997
         ]
        },
        "yaxis10": {
         "anchor": "x10",
         "domain": [
          0,
          0.46499999999999997
         ],
         "matches": "y",
         "showticklabels": false
        },
        "yaxis11": {
         "anchor": "x11",
         "domain": [
          0.5349999999999999,
          0.9999999999999999
         ],
         "matches": "y"
        },
        "yaxis12": {
         "anchor": "x12",
         "domain": [
          0.5349999999999999,
          0.9999999999999999
         ],
         "matches": "y",
         "showticklabels": false
        },
        "yaxis13": {
         "anchor": "x13",
         "domain": [
          0.5349999999999999,
          0.9999999999999999
         ],
         "matches": "y",
         "showticklabels": false
        },
        "yaxis14": {
         "anchor": "x14",
         "domain": [
          0.5349999999999999,
          0.9999999999999999
         ],
         "matches": "y",
         "showticklabels": false
        },
        "yaxis15": {
         "anchor": "x15",
         "domain": [
          0.5349999999999999,
          0.9999999999999999
         ],
         "matches": "y",
         "showticklabels": false
        },
        "yaxis16": {
         "anchor": "x16",
         "domain": [
          0.5349999999999999,
          0.9999999999999999
         ],
         "matches": "y",
         "showticklabels": false
        },
        "yaxis17": {
         "anchor": "x17",
         "domain": [
          0.5349999999999999,
          0.9999999999999999
         ],
         "matches": "y",
         "showticklabels": false
        },
        "yaxis18": {
         "anchor": "x18",
         "domain": [
          0.5349999999999999,
          0.9999999999999999
         ],
         "matches": "y",
         "showticklabels": false
        },
        "yaxis19": {
         "anchor": "x19",
         "domain": [
          0.5349999999999999,
          0.9999999999999999
         ],
         "matches": "y",
         "showticklabels": false
        },
        "yaxis2": {
         "anchor": "x2",
         "domain": [
          0,
          0.46499999999999997
         ],
         "matches": "y",
         "showticklabels": false
        },
        "yaxis20": {
         "anchor": "x20",
         "domain": [
          0.5349999999999999,
          0.9999999999999999
         ],
         "matches": "y",
         "showticklabels": false
        },
        "yaxis3": {
         "anchor": "x3",
         "domain": [
          0,
          0.46499999999999997
         ],
         "matches": "y",
         "showticklabels": false
        },
        "yaxis4": {
         "anchor": "x4",
         "domain": [
          0,
          0.46499999999999997
         ],
         "matches": "y",
         "showticklabels": false
        },
        "yaxis5": {
         "anchor": "x5",
         "domain": [
          0,
          0.46499999999999997
         ],
         "matches": "y",
         "showticklabels": false
        },
        "yaxis6": {
         "anchor": "x6",
         "domain": [
          0,
          0.46499999999999997
         ],
         "matches": "y",
         "showticklabels": false
        },
        "yaxis7": {
         "anchor": "x7",
         "domain": [
          0,
          0.46499999999999997
         ],
         "matches": "y",
         "showticklabels": false
        },
        "yaxis8": {
         "anchor": "x8",
         "domain": [
          0,
          0.46499999999999997
         ],
         "matches": "y",
         "showticklabels": false
        },
        "yaxis9": {
         "anchor": "x9",
         "domain": [
          0,
          0.46499999999999997
         ],
         "matches": "y",
         "showticklabels": false
        }
       }
      }
     },
     "metadata": {},
     "output_type": "display_data"
    }
   ],
   "source": [
    "result_df = pd.read_csv(\"output/denoised_images.csv\")\n",
    "\n",
    "fig_noise = px.imshow(result_df.values.reshape(-1, 28, 28),\n",
    "                      binary_string=True,\n",
    "                      facet_col=0,\n",
    "                      facet_col_wrap=10,\n",
    "                      title=\"Result\")\n",
    "fig_noise.show()"
   ]
  }
 ],
 "metadata": {
  "kernelspec": {
   "display_name": "Python 3",
   "language": "python",
   "name": "python3"
  },
  "language_info": {
   "codemirror_mode": {
    "name": "ipython",
    "version": 3
   },
   "file_extension": ".py",
   "mimetype": "text/x-python",
   "name": "python",
   "nbconvert_exporter": "python",
   "pygments_lexer": "ipython3",
   "version": "3.12.3"
  }
 },
 "nbformat": 4,
 "nbformat_minor": 2
}
