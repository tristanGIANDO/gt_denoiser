{
 "cells": [
  {
   "cell_type": "code",
   "execution_count": 2,
   "metadata": {},
   "outputs": [],
   "source": [
    "import pandas as pd\n",
    "import numpy as np\n",
    "from sklearn.decomposition import PCA\n",
    "import plotly.express as px\n",
    "from scipy.ndimage import gaussian_filter, median_filter"
   ]
  },
  {
   "cell_type": "markdown",
   "metadata": {},
   "source": [
    "## PREPROCESSING"
   ]
  },
  {
   "cell_type": "code",
   "execution_count": 51,
   "metadata": {},
   "outputs": [],
   "source": [
    "X = pd.read_csv(\"src/noisy_images.csv\")"
   ]
  },
  {
   "cell_type": "code",
   "execution_count": 46,
   "metadata": {},
   "outputs": [
    {
     "data": {
      "text/html": [
       "<div>\n",
       "<style scoped>\n",
       "    .dataframe tbody tr th:only-of-type {\n",
       "        vertical-align: middle;\n",
       "    }\n",
       "\n",
       "    .dataframe tbody tr th {\n",
       "        vertical-align: top;\n",
       "    }\n",
       "\n",
       "    .dataframe thead th {\n",
       "        text-align: right;\n",
       "    }\n",
       "</style>\n",
       "<table border=\"1\" class=\"dataframe\">\n",
       "  <thead>\n",
       "    <tr style=\"text-align: right;\">\n",
       "      <th></th>\n",
       "      <th>pixel0</th>\n",
       "      <th>pixel1</th>\n",
       "      <th>pixel2</th>\n",
       "      <th>pixel3</th>\n",
       "      <th>pixel4</th>\n",
       "      <th>pixel5</th>\n",
       "      <th>pixel6</th>\n",
       "      <th>pixel7</th>\n",
       "      <th>pixel8</th>\n",
       "      <th>pixel9</th>\n",
       "      <th>...</th>\n",
       "      <th>pixel774</th>\n",
       "      <th>pixel775</th>\n",
       "      <th>pixel776</th>\n",
       "      <th>pixel777</th>\n",
       "      <th>pixel778</th>\n",
       "      <th>pixel779</th>\n",
       "      <th>pixel780</th>\n",
       "      <th>pixel781</th>\n",
       "      <th>pixel782</th>\n",
       "      <th>pixel783</th>\n",
       "    </tr>\n",
       "  </thead>\n",
       "  <tbody>\n",
       "    <tr>\n",
       "      <th>0</th>\n",
       "      <td>-176.321245</td>\n",
       "      <td>-52.743850</td>\n",
       "      <td>143.604939</td>\n",
       "      <td>-53.567749</td>\n",
       "      <td>80.289381</td>\n",
       "      <td>20.686379</td>\n",
       "      <td>-197.423519</td>\n",
       "      <td>-229.401206</td>\n",
       "      <td>-221.900009</td>\n",
       "      <td>64.194187</td>\n",
       "      <td>...</td>\n",
       "      <td>34.407070</td>\n",
       "      <td>1.950735</td>\n",
       "      <td>-25.095565</td>\n",
       "      <td>133.684095</td>\n",
       "      <td>-21.664094</td>\n",
       "      <td>-94.305438</td>\n",
       "      <td>-55.987821</td>\n",
       "      <td>-89.929231</td>\n",
       "      <td>40.394774</td>\n",
       "      <td>-214.754480</td>\n",
       "    </tr>\n",
       "    <tr>\n",
       "      <th>1</th>\n",
       "      <td>-158.421239</td>\n",
       "      <td>16.371695</td>\n",
       "      <td>62.810879</td>\n",
       "      <td>263.533916</td>\n",
       "      <td>-193.920320</td>\n",
       "      <td>-25.366668</td>\n",
       "      <td>107.062706</td>\n",
       "      <td>125.403427</td>\n",
       "      <td>83.536343</td>\n",
       "      <td>-55.713640</td>\n",
       "      <td>...</td>\n",
       "      <td>-5.419961</td>\n",
       "      <td>-123.584030</td>\n",
       "      <td>20.240434</td>\n",
       "      <td>-25.699206</td>\n",
       "      <td>-128.545930</td>\n",
       "      <td>52.525885</td>\n",
       "      <td>-54.214887</td>\n",
       "      <td>-133.842624</td>\n",
       "      <td>-30.141215</td>\n",
       "      <td>210.408665</td>\n",
       "    </tr>\n",
       "    <tr>\n",
       "      <th>2</th>\n",
       "      <td>-290.343750</td>\n",
       "      <td>81.586500</td>\n",
       "      <td>12.615232</td>\n",
       "      <td>146.567851</td>\n",
       "      <td>111.233602</td>\n",
       "      <td>-188.989259</td>\n",
       "      <td>-101.464605</td>\n",
       "      <td>-107.015195</td>\n",
       "      <td>-13.069827</td>\n",
       "      <td>-245.921093</td>\n",
       "      <td>...</td>\n",
       "      <td>-139.909318</td>\n",
       "      <td>-85.214133</td>\n",
       "      <td>167.495617</td>\n",
       "      <td>62.402411</td>\n",
       "      <td>-144.402970</td>\n",
       "      <td>152.263950</td>\n",
       "      <td>-4.687051</td>\n",
       "      <td>-59.270131</td>\n",
       "      <td>-93.193600</td>\n",
       "      <td>188.229794</td>\n",
       "    </tr>\n",
       "    <tr>\n",
       "      <th>3</th>\n",
       "      <td>-208.840590</td>\n",
       "      <td>136.190431</td>\n",
       "      <td>38.552191</td>\n",
       "      <td>-67.825346</td>\n",
       "      <td>24.316303</td>\n",
       "      <td>176.103673</td>\n",
       "      <td>31.581298</td>\n",
       "      <td>-163.582673</td>\n",
       "      <td>29.777077</td>\n",
       "      <td>-110.969396</td>\n",
       "      <td>...</td>\n",
       "      <td>-131.385192</td>\n",
       "      <td>40.329733</td>\n",
       "      <td>-10.111639</td>\n",
       "      <td>163.497435</td>\n",
       "      <td>41.010287</td>\n",
       "      <td>-21.408008</td>\n",
       "      <td>328.274235</td>\n",
       "      <td>-15.341672</td>\n",
       "      <td>121.570863</td>\n",
       "      <td>151.757537</td>\n",
       "    </tr>\n",
       "    <tr>\n",
       "      <th>4</th>\n",
       "      <td>-328.876288</td>\n",
       "      <td>-42.862900</td>\n",
       "      <td>174.651874</td>\n",
       "      <td>-228.833439</td>\n",
       "      <td>71.909654</td>\n",
       "      <td>-97.206392</td>\n",
       "      <td>48.048853</td>\n",
       "      <td>-34.071313</td>\n",
       "      <td>3.820465</td>\n",
       "      <td>137.807730</td>\n",
       "      <td>...</td>\n",
       "      <td>-135.713199</td>\n",
       "      <td>-71.396796</td>\n",
       "      <td>155.237981</td>\n",
       "      <td>-141.860908</td>\n",
       "      <td>155.657335</td>\n",
       "      <td>166.609760</td>\n",
       "      <td>-52.911774</td>\n",
       "      <td>267.150703</td>\n",
       "      <td>-36.749672</td>\n",
       "      <td>131.913772</td>\n",
       "    </tr>\n",
       "  </tbody>\n",
       "</table>\n",
       "<p>5 rows × 784 columns</p>\n",
       "</div>"
      ],
      "text/plain": [
       "       pixel0      pixel1      pixel2      pixel3      pixel4      pixel5  \\\n",
       "0 -176.321245  -52.743850  143.604939  -53.567749   80.289381   20.686379   \n",
       "1 -158.421239   16.371695   62.810879  263.533916 -193.920320  -25.366668   \n",
       "2 -290.343750   81.586500   12.615232  146.567851  111.233602 -188.989259   \n",
       "3 -208.840590  136.190431   38.552191  -67.825346   24.316303  176.103673   \n",
       "4 -328.876288  -42.862900  174.651874 -228.833439   71.909654  -97.206392   \n",
       "\n",
       "       pixel6      pixel7      pixel8      pixel9  ...    pixel774  \\\n",
       "0 -197.423519 -229.401206 -221.900009   64.194187  ...   34.407070   \n",
       "1  107.062706  125.403427   83.536343  -55.713640  ...   -5.419961   \n",
       "2 -101.464605 -107.015195  -13.069827 -245.921093  ... -139.909318   \n",
       "3   31.581298 -163.582673   29.777077 -110.969396  ... -131.385192   \n",
       "4   48.048853  -34.071313    3.820465  137.807730  ... -135.713199   \n",
       "\n",
       "     pixel775    pixel776    pixel777    pixel778    pixel779    pixel780  \\\n",
       "0    1.950735  -25.095565  133.684095  -21.664094  -94.305438  -55.987821   \n",
       "1 -123.584030   20.240434  -25.699206 -128.545930   52.525885  -54.214887   \n",
       "2  -85.214133  167.495617   62.402411 -144.402970  152.263950   -4.687051   \n",
       "3   40.329733  -10.111639  163.497435   41.010287  -21.408008  328.274235   \n",
       "4  -71.396796  155.237981 -141.860908  155.657335  166.609760  -52.911774   \n",
       "\n",
       "     pixel781    pixel782    pixel783  \n",
       "0  -89.929231   40.394774 -214.754480  \n",
       "1 -133.842624  -30.141215  210.408665  \n",
       "2  -59.270131  -93.193600  188.229794  \n",
       "3  -15.341672  121.570863  151.757537  \n",
       "4  267.150703  -36.749672  131.913772  \n",
       "\n",
       "[5 rows x 784 columns]"
      ]
     },
     "execution_count": 46,
     "metadata": {},
     "output_type": "execute_result"
    }
   ],
   "source": [
    "X.head()"
   ]
  },
  {
   "cell_type": "markdown",
   "metadata": {},
   "source": [
    "## DISPLAY"
   ]
  },
  {
   "cell_type": "code",
   "execution_count": 20,
   "metadata": {},
   "outputs": [],
   "source": [
    "def show_images(data: pd.DataFrame, title=\"Result\", col_wrap=10):\n",
    "    side_length = int(np.sqrt(data.shape[1]))\n",
    "    fig = px.imshow(data.values.reshape(-1, side_length, side_length),\n",
    "                    binary_string=True,\n",
    "                    facet_col=0,\n",
    "                    facet_col_wrap=col_wrap,\n",
    "                    title=title)\n",
    "    fig.show()"
   ]
  },
  {
   "cell_type": "markdown",
   "metadata": {},
   "source": [
    "## DENOISE\n",
    "\n",
    "### FILTERS"
   ]
  },
  {
   "cell_type": "code",
   "execution_count": 21,
   "metadata": {},
   "outputs": [],
   "source": [
    "def apply_gaussian_filter(images, side_length, sigma=1):\n",
    "    rows = []\n",
    "    for image in images.values:\n",
    "        image = image.reshape(side_length, side_length)\n",
    "        filtered_image = gaussian_filter(image, sigma=sigma)\n",
    "        rows.append(filtered_image.flatten())\n",
    "    return rows\n",
    "\n",
    "\n",
    "def apply_median_filter(images, side_length, size=3):\n",
    "    rows = []\n",
    "    for image in images.values:\n",
    "        image = image.reshape(side_length, side_length)\n",
    "        filtered_image = median_filter(image, size=size)\n",
    "        rows.append(filtered_image.flatten())\n",
    "    return rows\n",
    "\n",
    "def apply_filters(images: pd.DataFrame, side_length: int, sigma: int = 1, size: int = 3) -> pd.DataFrame:\n",
    "    images = pd.DataFrame(apply_median_filter(images, side_length, size=size))\n",
    "    images = pd.DataFrame(apply_gaussian_filter(images, side_length, sigma=sigma))\n",
    "    return images"
   ]
  },
  {
   "cell_type": "markdown",
   "metadata": {},
   "source": [
    "### PCA + APPLICATION"
   ]
  },
  {
   "cell_type": "code",
   "execution_count": 56,
   "metadata": {},
   "outputs": [
    {
     "data": {
      "application/vnd.plotly.v1+json": {
       "config": {
        "plotlyServerURL": "https://plot.ly"
       },
       "data": [
        {
         "hovertemplate": "x: %{x}<br>y: %{y}<extra></extra>",
         "name": "0",
         "source": "data:image/png;base64,iVBORw0KGgoAAAANSUhEUgAAABwAAAAcCAAAAABXZoBIAAADLElEQVR4XgXBS2zbZAAAYP+/EzdO4qTNo62T2qnTJqE0LctrQ1FZq4mOyzhMQZo2ceKAtMMkEEcOHDkiIQ5ISCBOSCAxhDQEDFXrtlJKUF9x+nDSZmnqvBM7bhLHzsN8H7jpDrL01Z4CV7uYSc9ey/XcDpbvxceLJg8Mu7asVW/Xd7dpnRerfp9PPX0hLMjgXLpidZcWA9gaUOZmLXbW82wuZtBZvBfvQEx0qvDNkeskWjQSUS2dsmx293G6WWn/MRrWtFwBNkrmkLYy0//qreGStvq+CLu8FksQpo5sZXQCeW4yVtrXJoYVX2QPDHjiHdJxzvPC7cdGOE+V7YNT6esk7ip8B0pjy0RN7ddCb7+O+9Z0pWeYdHJPXNLZkrN9N8cdXS+buVHmge/sRhl8SZ6wxJjjUj96bT/HCJ7u5JyK/FBbD27CDvg0k1qWUQzi/jw2PsA6ZMz9faET3cO8HKE7DzNIlmw5fM2qphdsi8UU3x0w1TdKz70IvDgRmKIilVL9ybt/pSlIVZ6z00phIxvhDBAlO7/Q4sDKPJWfBD43tH9GuVURZqan03EOkkeGh/ZTm7DpnwKJfN4a3LWkkWxkrGBxy1Ast7+wPkRLgUbD+o/UPestzlwUDQcKHzARULtBJP48PA5uqLI97rEf6FtbUUA7Q2t9zgv92ZXYo+YVv6a6keO6P/pNxn8cK7uyrHoxCz6py97ei0ie9phvbT+BtIw1WjZ04dRMpZ3wiBpLz8b5mSUcf1pZCmKCdn0FSqX+LsXqQeLgtm6HWfD/dkcuHY7w+SayP2DCw0Np27kMHk0M+R8/Qnpz+ma1NbGDYwGtYRQWDhlml4H4r3nk43ragZpIpVInmakqrU3oC+rFt/4UVD6waf8iof9kiyEXHr6qBBFlSnK9+tDCdCTwLmJ3XraXO3PRzwjSXAGaeyOsvFwfwhzV0hXvPdOcZmD46fF0fEcR/WgbCiFoSLdv2l+ChAMM3EN0MpmNlsJtgeKM1GWxX478vgrL0FqGxvquVKDv8+tZbryhC/49dRUxMO9ZaADu2FHMmcSjQjdJBJysEbGgPXX+TMR71Pb/3gODCkHrMe4AAAAASUVORK5CYII=",
         "type": "image",
         "xaxis": "x11",
         "yaxis": "y11"
        },
        {
         "hovertemplate": "x: %{x}<br>y: %{y}<extra></extra>",
         "name": "1",
         "source": "data:image/png;base64,iVBORw0KGgoAAAANSUhEUgAAABwAAAAcCAAAAABXZoBIAAADMUlEQVR4XgXB308bdQAA8N633971F3dHjx7XUq4o9geFFcsxnWGSQWyk6nQhYcmWaJYYE/8AffXNB33xyQdNjMb3qVESfsxBDGEDx4/RrkC7tV5Hf3FtKeV+9Gh7PT8fZDZgvfKjj4XNHLMfxPv5jhjKUq6HWLV3iAdzucqfLC0UXnxl8RmwrNHeyZi7P99w61TzLZA8R/LmRsk88S2d1H4SW/orXL/+zv5VDMBfoe1uAbUI46ri/yG253dlXamlmCFRRU8scgjkjzv0uJl/kKl9aZoYoYJjZIx1dudTUTUqgUgdbSwWPHd1B/E5PVEiBUpPeqIbCHGlbkHe874YS3+0g98+aIysYuFWJsT+1sgT1uf4LQ/y9a4cshQuQ1cvzEy+2Yqsw149jR/jxQJugxuXVG1WU1urkbbN+ogMjnr2zhzu8z7JZZGgk3BI39zrEu1Ud8W1yG0F/IPtllK0nkxmeOSeZUgrK+SUzn5nlse36Y4x1BhZm/7bLA/HQT8mbUk3IyL83l6+VvyQGUXPPJU5o6qedWZAB6QcndUk/ddgGv7bTi3Fj3ZszvpTLMifbwCDqnWfSZHdwBnRJJTs+ww+LfAqje5MLMqAP62EB8LLpIlBZjOl6We2rNqlBUXhYORt8MYgVYR+Qng1p++x9jhxfkc0EDRiPMlOYkDiNUhvjy5UkXA9xx0ZQK1pOzj0FP5TH5Tgy9eztW7XctRiqwFddHqKHYB2RjeHjFxdAW2oXNLCk9wRDIhK2oq2WwsEJ23TZFZggFs45FYQ1uN26hSGh6qvffrwifWS2RftxQR45Lku95Ll+/W2+PEHdv/1Gf6ziJwakewDRB32aN5NrYcy8DeHH9cX1DXD7XUxQa/P/zHVU4M3Mj6XaU30ovGEZvmHscEWmwyngr/LNtkLXh6am9K7M3lnOe1CcRFt7m6eHBfQO9aDN03IF9jK/KlCDh770t4lH/TGcVUbKp82uRWuhMScRbejv/1UGBtAalufLPeYylyT6lYr1zYZOECmGc32S9t9IZBq1Oi/GH5enbrPrmKVyThI9PXJxPItcxTjDHZl8XRtP5h7TKRjISQ/9z8mboJzXvh4hwAAAABJRU5ErkJggg==",
         "type": "image",
         "xaxis": "x12",
         "yaxis": "y12"
        },
        {
         "hovertemplate": "x: %{x}<br>y: %{y}<extra></extra>",
         "name": "2",
         "source": "data:image/png;base64,iVBORw0KGgoAAAANSUhEUgAAABwAAAAcCAAAAABXZoBIAAADLUlEQVR4XgXB+08bdQAA8H6/96Wv6/uuLW1pKbbcSstDpjAZHRssOrexh3EmBrNEl/gvmPhnaExM5o+6GENiFoNLcKviNmBQNipsK4VKWR+00DvvSnvX6z1aPx8Q/rgWEBNEx7kxBw2ssQjzIwkfD5mQh3wEPg1rysjCi9szRV0Fk/0qMyFnXTk82m5XobP1xHyoJ8eHsXPYO/BLvjW8siiv4Xpha52EJT2R4hXvPay+OAW7visGtMHZfkveI4//XgN32g45dp/C6LFM78/hoSWnIcCaGFD17VoHIDE6ZM1cqBFyofXn5XHQNx2vtaCApg8oUgPR3QXm2c6VHJAdePj9qG+/lu0KPOfmezRVPcx6poDDsHD+Zsrpxh76mOPUjdbrD9BFW8l8AjdcSUuogK8mnHupe6Zno+aH20MJXG7kqYoMz2sq7zJBTiZd8DNLT6Btn8UeXN3x5qtvbOuwWLH9aLSems+sezY3lwh03Kko5eseoNNrLqOBxsEZYqPzVWb/Jby7lvV5aLPWQot9uR5EIuoXhT7AJnZj/DBY4HXldP+3c8RqqXekxKvoH4C7Opt+VgjvpyentU8n/vgavHRYU/ZGAYeMtyMJ41V/933ljhuybyejSp7Ws6dj3pFXsHZJR1OSKa+LuH9gLHRZBctF5/NL+JLlrTCKL95iV2eaIYhshlTYM5jXDh45Nd+f5aQNiA4vqAf2WiYsHgtE06iWLKXHfSowUowoCwj9t6XKxbMSF0j4NWXabbM2VKnXwoUg3Qc7zH4b6xj05ebYqUngJfhCMBcz1Qt7wlQBnlu7xcaErQedqC2JQhmFq3bNml+c2HGUCcJ04xF1eBFQ8aP6aPfynCzgBeWJN6iNbEs8TE9GWPtr2nPUbeKWR38VgTHEIW05KdoMI2gwq8eC2cC2bIfA/dNHq2IT34z44zm63p0Dt7Pu+GOKMxFSjmROp6v9KzR5fX6oDTAlBdkvDE0flHDyr13J9hTvb9lm3qt/3mwOaBtnIP+N0TdWQuK647ZW9WSV3R67YF8oDf5bIvag95MPX/0t7rQiMtf1W1NccZ0kK0pUh1TD0bX/AZjtf0nVdFjCAAAAAElFTkSuQmCC",
         "type": "image",
         "xaxis": "x13",
         "yaxis": "y13"
        },
        {
         "hovertemplate": "x: %{x}<br>y: %{y}<extra></extra>",
         "name": "3",
         "source": "data:image/png;base64,iVBORw0KGgoAAAANSUhEUgAAABwAAAAcCAAAAABXZoBIAAADHUlEQVR4XgXBy3MSdwAAYPbHwu7ych9k2V0SQgB5NtYEktSmNY6HOhp7SMcZb+lFx4P/kIe2p3Y8OD3U3rSZMRVNMiTGxLwg0AXCc8nyXFiy7LL9Pmjxx0bN6csfx/L+ER9k+QF3Pl9K3VNHozIDiEvOdvNQWxAeuw/U4Qay56Rh56PqhzNTogs9E29d1E8JI+YTKPKrl/z9bLf9UD52Kx0pCB+34iHu4LthDzWRGciLsOcBbGd1rO9NwUmYWqnsNJ8X+zvftIeCQylventOSxFsUyDoBJUz2UeePoyGLunPN1w2BpZ385fp/tP2WOqDe3fVKifua9M30ICja7Ez/l+yIVV6I4fzNbi1yQnDEBQZtGSyVmKFansUKEQzkXFOCMF39EwkdrWlpHGHVCBiV183wophgzTbL0Nj8KLt3ft1FrM8oA+vVsd17aR09G132d8MmS0MILDmrZ9T3tfcx4nG79b/XIOp4CtbQ9aEojkFKjbCk+nZE+JQWZwnYgPi6GgpF/Wgb2ZlM5jJY6p92MGM7u1Pyui9Vp5jtemyB8AmAwd0WNnNKQ0poy8594IukYicANIxrMU3x9dATMdrnnNc3L8bRvx9b1DYH09OYtvO6g8dAaRtlpE/8XZqRiJQLvsnY7DzZ3LFCyNin4XWFgojU97jHk0UkFIdYd28Uwv8MXaxGTQOPfkSUFXfaZOlV5O88XZqgvMYq+IXcd6EJ2Fl/R39z53ybdifwRejg5lG4ZzJUj1Y0/g2aJeM6PO/c1vybx1WejmQPyt6fbWmUIggnEJrs7tNfJnP3tQ0kexIGGmtERRTLCIHeBS8V4ll4+Ehm+zG47YVA8QI+BWyBRyT6zgFPSGpt3qYzNF6ctKGnTw6oGU9Bm+IVMT4EbYmkgEwLZAUOhP8gKxoXcjSujCIiYqh4QfGV1FUL6UaDVLtRBwmYQmq+K1wq66YL1zQOmXtaVK0k6bPmNyDdJvTFuoGq9CeT4o0WGydtNyDfPB65SdUE5bmcqb9ofhv3vCXy4WDdyrbRNbE19u1T3OeND8K0xey/D2nPuv4uP8BafCMR5/78/EAAAAASUVORK5CYII=",
         "type": "image",
         "xaxis": "x14",
         "yaxis": "y14"
        },
        {
         "hovertemplate": "x: %{x}<br>y: %{y}<extra></extra>",
         "name": "4",
         "source": "data:image/png;base64,iVBORw0KGgoAAAANSUhEUgAAABwAAAAcCAAAAABXZoBIAAADMklEQVR4XgXB7W8SdwAA4Pv9ODjeuRegcFAoLWBLX0xxtHVrbZY6M7Opi7NqE7dlZu7bkiX7YPZ3LPHbsi0zRl2yGGOWLalj2mnX2lArAkKRUgotlNced8fdAceeBzjnJ+8spDxVjcvwr2l4k+jt+HUrluBjhYEJwNG+DI1VGRkiHfowb6m1abQ8W3pk75L6KLhYeJ9LnFWHW+a8yvtWBoryBwO3Tr8hx7T1I/Adi2jIQ0VX4LWNfuEQIyjBnHOIhq300DCkVXzrzwp3z+OxzYXOfGXSr/TWOqD8SK0ndyEqyUqzJF6XldRp3Q/Pp4ILaWXdYGzG3qmE4LNKTYHYTLhXb92uzplNUv/NI3xfNakRxAdQnTyFQK0Yi/I8Kwz6q1xv77JOTmCKQ5cCFhdtFD1oXrgh8lSHyab9rLp+3EoVhgZW3fD86jLC1AmCs+ozkT/+Hoh7e+ZmSPZNhEci8GC+XJP/a7MP7eAZZSms3lHUuNxLp+72tFYJc+x4yfFeivuC+afTdO1IvWhR/lSSQ9UiooLOXH1/nfiejRyTMO3ml08Wn0Z2s+7AzhVIfIbiiHTyVe/3E0kj36D87huvu8ltpzD9K8G9KcKMpNwJbn0cNd/NH1fmIo1Wb4Sk7eGboz4VA/mXTbV+Kp2NzYdI0ewkeNy0FJ7WPPxLMBlg/t0fqxHYds3Vj5INXk60GPbn6VggaKqLGAy0LhAuUaw9eEWcGH5apbo+LuDQB8Cx1kwUpWto5FzDcuk19G9bz7wlFENYLS7WH/OWX2bB+Ocglf22q6k6Ei8SmfFx3gJ0RCc6khAlHlwdMsL7Dvutu1ySTX2ESn4O0O77KablYlnwdRO6o3vnVBOaLfZqbUPHjGXb0RdjFKNdDwLyJBWfKOPotSeTHbB1MaorlTXsymxcxOwY+MZze0YkO3XpE66I2JIGwRt25wte4347MwOu6zu2lT4Fhi+rQj8NLKSWIvFBUpmXY30jFbCEg7INclRJpWSFSstz4IGh306t2UY3cBRqsbOjALGmKmjSqKNMIWoRW5tac4uSYz2NGjPLe9YCYhU28BK9O5l13ds3+sR+uPnhge9/yXiAg2yO95cAAAAASUVORK5CYII=",
         "type": "image",
         "xaxis": "x15",
         "yaxis": "y15"
        },
        {
         "hovertemplate": "x: %{x}<br>y: %{y}<extra></extra>",
         "name": "5",
         "source": "data:image/png;base64,iVBORw0KGgoAAAANSUhEUgAAABwAAAAcCAAAAABXZoBIAAADMElEQVR4XgXBSW8aZwAA0Pk+ZtgGGGPMsMTR4GAMtrGR42AHN2o2d1N6aCpVcdsoB58iVZUaqX+g9y7HHqr0VKk59OK0btKoqtNGobUdEQzYjFkmmGXGQNhmgRnWvge+f15nTddhmJ52Ht3kaRz94hs5ELEZgdCKgK8qdWt2jahIvqeEaqR0AvwpDl6nNhTzYw34eK2M6nN1Cdx5RE/S82OvQrzQV6NtLIb40P7Dus0ccCcO/lX3AzaancxaDVg0WHmfI0/BvYovhQ7auCds8PWOPyvrfqgsfph5cX2reDmNHqOqSqu3wHomLZjmk/3yea+a3zkOfn1mOo/CQSg5NM3oFqrPGimMjdRKus9JxhMPke7GHJwzqGdtm7WYKji5YXnUkLHl3YGvKugsR64d8CWUbHtt2/QJgVv2g08W69ALW+K5fBsyFEpPGcSxmQUH49bnC6KpR3RsdCdMNo2EYxvc67PziKRC2yvC05rWv/8OfqKNA5Wzge55IWv1/wO5VY5iuI9ugZyDaTrMfEUhsdKiD446h28eJWMPjFPFb1mtGsmdbpZd2PqJySC3wc/3lZvkH5dT+MUE10gOLyneNBU9E2+alsUu+uRdMeHudGl7hhGqG5oDVuER7H5wnosv/YXKZdbaculQsl22LEip/MoEmX181/4wVKPXYWfXTQmJpIkaJ0WhpL8YQ23yClYeyc+cTXT8QiFLSb/dGkKjL0EkXAV/N3s4ASRxBBiwqeIC9TeiwzE+64lPj6pXMv3hLH9I5VcRFs4Y1ClyT5DMxvn0XA54vE59e/RTaN8eedmAnG1qwHSrgocI3jV0TEvpola/c+fXa0rh9iXwacGLyHXnlS7fQsx6e0mJ2snD8Ad750VdGnxXZjBCBjmvay2sI/+b3bqaibssepgZ9wL4u/AakarI1bzy4DmudW37WdONWlMkcCEXg3PiRG9swm6Re2r3wckvdnWX2HKPD7iDRv4cXHo5oHBnpXpBXFWX4u4RX9KdFWKd5G0t+BMmy+/1o8VXZ7cl+oUvohoRlCjjzrwmaT6+Ad5e5nhrZ/1Hv9Hyd+MtFjFq9Kzs2F1ivFLxfyjCjKa/PERRAAAAAElFTkSuQmCC",
         "type": "image",
         "xaxis": "x16",
         "yaxis": "y16"
        },
        {
         "hovertemplate": "x: %{x}<br>y: %{y}<extra></extra>",
         "name": "6",
         "source": "data:image/png;base64,iVBORw0KGgoAAAANSUhEUgAAABwAAAAcCAAAAABXZoBIAAADLklEQVR4XgXBXUwadwAAcO5/fzyOO+5APaHAUTgsCsValfkBbGvdEtNm7ZLupVm2pMn61GSve2yy9z3vbdnDli7Zsrh2yVKra1rXFmergjAEJyAK9bzzOI4Pjy+hvx8y+/7b468ekDoGryGCcqvAl4qhtYlW64V94hEgl3fG19zGJL2usRzqv1Ngs0trvDR6w5T3AnAD/zuaQT5enNnLXOBH+M51Q+Y0zUpKe28Q2vrmkOMaTJhsZ7aITEBqxRk0yMu4r+ghAHq0HwFsfYj86fvU5aKfz/mXFmUNmY2CIIpc0xDuNy5xMl2uTFf1aNou0KN/NJhAEmcbkOsyeFky8E5nHIUJrelEr39oLF2JMV33AEA66EGgOzikWRV4K/ntsnkavxQeS1cH2ktPkU8w3cyPX2cuAyFyNzb1w0ifzvIa+dntzJO6c+AD5XDVuHp08uv/Vwu6l5Ml2mGjN79hh6M0loFZilPNvbmGfO++T+aWjPqzNWk6QjYWAHkFHI0mVKlpaA7VPA3xxOHk+/ddkUp23w6ol8BVxJAWYX5S+gsNsvIw+FDq5mxQON1TT05BRZ5rMoPPrhG+6sYLNidxUBvFNJ9baP+MDMGn/1HHsaHWcKW/GNj66FxupxayilWZxVMLMLC97mLN4fjjiz7g0vLauOJ7RWBS3SAWEjDtlESTmNI7u4/6e9I81vI+7dv0p6azKMaB+i8lEgpqOdvGrUwe74BNKuR56E3Q6bHz8MwyePF1sG34sioYhPmWo5YhdpNcF24aqwlAXerEuTR5KheCqfd2D4v7Xk/xvHHF5GWFMNCpXbrp0HsE/2/q9ujNcYLLLrBaqqA/rHShwo/0b60Hy/a2cBumqv+KpcqTCS3uUK1gEcjkSnbSCCzYs3Dk1W29VerhlLh984xDileReTcKLph/t6pHA0Jo6rmWUnfyJkN+8vhgDABU22jvRgN8zw+457XhuIKFPmOI2YaOgj7Q86BTaC75dnb9euFWxorU/9nYMtOwg7H1EvIFDpiY025qvEnc2WX68BiT9EJeq5TubBwAkbZJZrH8eCXcTqAPDv5UND1+nEBng3s9zTtOpnHQzdzCDAAAAABJRU5ErkJggg==",
         "type": "image",
         "xaxis": "x17",
         "yaxis": "y17"
        },
        {
         "hovertemplate": "x: %{x}<br>y: %{y}<extra></extra>",
         "name": "7",
         "source": "data:image/png;base64,iVBORw0KGgoAAAANSUhEUgAAABwAAAAcCAAAAABXZoBIAAADLklEQVR4XgXBS2/bdAAAcP//SxondtwkTpymdZzG2ZKSNFs2+lzZ1nXjgCgdY0LwAZg4MnHhgMSFb4DEQ5PgxITKDhwqdTzUsgoKfazdUght00RtF+fl2LFTx47zNL8f+Lju7LgzaLebtrHRTUqmD4gUE8oJgifOm4hTdWjFo7Jrnmrfr3Iq4Mm+h9vK7jFZbvLwkAj4wmbdgdO3hPC7tki2Z2xJ9pNyzsiy4NOnoTKG94qWKe6kTXp3zTTpWw3x+WCLPAYfWerQaNfuPyr1A1IRzXSxf/vejngh2PRvwMjmiEsg4r9MB66YHS0GWzZ1I8XGZDTTPuDA/XOKxP4b6mkRkbxeNPLPQ9YkPryK3vyjegO8lfh5tq7gASpoXSw7b5UNaaDx33nrtz43tgYePtcwo3wh8YKEEsem73LOf0TGv2JjlfQ1019HMUfqNUH9PXqm6d3CWtKr0U5jdFHuAyLMsd7dMfxwa9w1677hnOFeLQ6TWCeJOONANCUuPiQVk5svzD/1S4FD/yh6uab+FJqudFwS+KQgzGm5Mxdjyt/bKQ6JMshQ5kv0lxXyjQws6T6lQoN2e2xOHXbHaSgPEKX039qCZZkCdx01ukV4kqg+INxeeh21fe/FVLTggY7fXHCqPHiV3u8ilFzl10++sWMfepuW5ithrhdDTNYh2w+5iLStqf1kKUQ8ZlnO1Sr96Qi2OTt4UG4jnrlFUpcWSi/NKNpjGihP4OtkDq9D2kvVYXZcpdpnW5XaoNJcEhfqxSdOY2rYCpcYdVrR8zxvSzqv3Tk4aUV39il9hkaXCzj4WnrW72K3XU2Tm+8Z9nPHiCUwsrPn50eP/HBX0hiNlhmaqSmSO5+ebVtbqTtASoQ7fpNPRajCenzi8zCsBdNk7JlozFu+S7jgyuUCmCf0Hj7+4jwy8tVgKqK9/TiRCWFCF2xEYQ62oI+qr+5LFeGz4Bfg9v4D/zuqjcCQi0mHDmnYPZpsTGLp6pO93PuR6ObEKsifdcycry8KPvApI4+u71LI2kQMl5NX1fQV6VSfeZkNKgqsSsd7b54uxJDwJWHjRzeS7wMNmluxB5iK8j+xJX6b1F5EaAAAAABJRU5ErkJggg==",
         "type": "image",
         "xaxis": "x18",
         "yaxis": "y18"
        },
        {
         "hovertemplate": "x: %{x}<br>y: %{y}<extra></extra>",
         "name": "8",
         "source": "data:image/png;base64,iVBORw0KGgoAAAANSUhEUgAAABwAAAAcCAAAAABXZoBIAAADLUlEQVR4XgXB33PSdgAAcL7fhAQIBEL4kfBrocX+Ziiuda22PdzdNnvb9HQP2+70bmdvr7vd+bKn/R3zZY/zYXq3Bzd1m07WWm2x1rZAqNASKJACIhTKjwSSfT5gue4wnKQ4f2a+GGfbuPrSzrTL/fG0reMoQWziOOVy4QCJPn6HbbkzHP2hx4FlLxLjxmcQ95jI52xr8y/5wvTGotw4J688cVLMQyXr/hZ8R+F0KUVpJRUdK6mmXYBanOg7JPCYtJmhJ7ZPKVbO90mzUPwYioi2HBXagrrt0PG/gisUP2nQbDoXYhog24IFpTbVeZtD4nrNggonR4f3LGsZ63Pj/geBJcU7N+U59i0HlrQzCgNbGvZSpXyLtP+7ZK8L0Vq0utoh77mZkbsnMXAzuEkgQDyay/zys0G8P2wfCLhXC3dxJmuA70tDvUpxdu/lyE/eTnzR1FNcmNf2dDPitQ6jaR2rKu+VtCe49c0Ld/JweU0c4S2XDzLNU2fABX2fGdAgPfXRUQekpYFOsbzVVX0Jn5qwwotXMRCp1gqYtgkfrfsufe/UCzLxJIeVIkNwo947/NsxHzJKRez6lw5/foxy+daxhVjoRRAswyL0UX1FpXXjr8/+dtZ2UAs8yIcoUOriYNoeFKrm8jetsO6hJkVLDMnxLWf7XrDqGaARVW7ZDbWtfpqTEE/9zqc//qHfLlTIiR35PMzfL3ZFsuqXtYhzNU7e5hKjDNRovUjiYBXc0JCiuTInIpKAz8bbk9vX2NvGtski1MMC5NrGjofK8iQxQf7jrvU4ttLYcjd6O7Cag1klRueTmNO8okOHEv5R6+vVM/0Ey2tYXQj8QDSsG2ZxxFqV0H6IsB/z62FiT+n79Wtfw0yXT7LIfHd64NuJfCHtplpko6BWJxKyyYCOpRazXC6ZZELMQH6QXhkiw0XdqWdCc6u+ArsGPgnJ82HJyDx1ycS5mblHLPPKifHaaQrcAjVFstRPFKIbbJL8KL3+5mamS4uSYcBC5eCwdzrAHn32+SCB7xH70f9ssJzfkNHf8TS4Ml7233Vhl9ON2TtfgV3Pn3QNDeRmWofbpwP/A7KTdy7TSHNsAAAAAElFTkSuQmCC",
         "type": "image",
         "xaxis": "x19",
         "yaxis": "y19"
        },
        {
         "hovertemplate": "x: %{x}<br>y: %{y}<extra></extra>",
         "name": "9",
         "source": "data:image/png;base64,iVBORw0KGgoAAAANSUhEUgAAABwAAAAcCAAAAABXZoBIAAADN0lEQVR4XgEsA9P8AWz18+t0vu/6FeXjXNTyIrIOVNQL8vgIR6Y5yiQC7ALnALfLB93w3F797k4UTTYTFxUR9/3hSvIu6QQD/AJU9vIEFutlrjw4lg4FDt/g/yHtL/fAHiARAvY6+db2/+4fO8gc48YXJgL5Ghfy2hWtLwQotfYBUAnvNOj0PuYCW6fzDhk0fmWHMPsV7xMCEc4qOAE8FSq8IDHiAkvnFfsP7vfcRcfhBwIdzRnq20DHAg8b5QkL9A8Z6C0A76Hi2lfs8Dr9yOoRAOE70O8EMOkiLMP9B+HGBrE7MrH5/A8/8ehM0QLkGdcw+QKrysOOHB5AxS3kOgL4IyLxPe8G+ijyDDnyJtzeAU0V6zIK+s1AuvYR7zIfzi3eSczYABUh9eQa5RgC9AYUwQEK/ckkS/gf3OEb9jjkHx8C+/K4+dX6vAId1+8E1/8a/MXI9vY43hwFyek2KvcC/yUOGAQuBBTrEAMd0CvvHgog6e80AEHwAa5r8NUDBBboCPwBNCn6EwDu+yvr+irOQu7fL/rWFAsE+PAGDuKlbQJDzfQC7MgLyxD06P3IttuX+QPxHUAAzdvf9FjmBM4oFBEdD+MZ/PDpCRkeIRnaCC4k4NxBzQgjxiECDji19eruYfMXHQA+6RLLkb3n/8bTWej4/a0oCwIn3UjnDCLAC/Tf6eAd0CwDcjgU7uls/xj2SBDwAs39DRC66/kJzj5B8/4z23/uAP5VIS4RF/6+++UCTwINFhwV+PQQJP0t9iZIIRYS+Xz0D/Lw/Dbe/gIdE/fJPOVmHSvcLBNDzt3m5fPCDuQRHQUB3+7+AV5Axx/LJScG5hzXONYaBrcW/+YQ9wHyEP82zNgCFLpHsz2+6P4P6xT/H/e4Gb79KicKExXgJLgq1AFiPLcS6SAd4TEtvtT7DwkAA+oOA9gtMcow0txeAX/R8TndBAXX0k4OBiQN3QLUHQDuEwflIjS14/cEEwAbAO8UxS0lGibfwTLlD/sIC/P44k+w/vZh+wLT8ALtGPMZ/uzzwfwQ3AIFSPEnENkivBbvIOvoAiAyDgXqAxwA/xY7AioNQ/jh9YfkSt0m/w3w3SDTu4Ty1s+1RQAAAABJRU5ErkJggg==",
         "type": "image",
         "xaxis": "x20",
         "yaxis": "y20"
        },
        {
         "hovertemplate": "x: %{x}<br>y: %{y}<extra></extra>",
         "name": "10",
         "source": "data:image/png;base64,iVBORw0KGgoAAAANSUhEUgAAABwAAAAcCAAAAABXZoBIAAADM0lEQVR4XgXB308adwAAcO7LAccv4fhxIKcgKPLjmFac2s7WTmenNF3bNHXJkj0sfelLH/aw/QP7H/bebskeljWpSzaXprTLkNWmWERQsScgWn7dAR6Hxwl3QD8f6BGFH8xoX22uRbyREB5edkqeDFrPNWhsjjPC7M2z3Afhmhe+MtSLcfdLG3ZQxgMvNUttqwLUHpOfCKaTPlYmFQ/R1sV/p192bPTCTcpzGoW+s6SmUm23k7HQaYYQydHIlE/QSPYmDoYq8EQxSBtncwWoIiB+I9JBPEk50Ar8XnlEhCnkvbVwcqJut0sWPck7HGYfsvvv4ng+8BoHIhAlV1V2PM65G2miphkZVE4urHoT8n04CKCmi6/oooVbWA53OkLqBNx7qv0WyxiH+jVwQ+A52ZuZC9mszHrtHBp204vaX8LMHcmZOgx9LzMXi7btZdKl60qDPFfs5iqrxotqOeHtgT0r0ysha4XVK+0m3d9vOqW+NXqvkI3NSxtAT6f7MuZ3rJiyaxMMddQ65KHArnAJLTnDAOe62VD8TumYhQOXzSzdBOxp9dJFBHFtO0Ad8awW7T1PfkRXG/iNeJHFtcqBV5QFe2K8DmxPoy87x5lNQsyZ0el1b2h/+o/skitc/KZCQ/eGd9zyUvNzEoNGV/4pq5SH74lqys+aW/YcaGwvg2xv/k95RsKvc3ettFatfqubndly7ZyDMUMMM/eyWo/DKN7Qh7Ot6kL6qkl45twVC8COBtVK1IfI5uPcD66hJWrlLx7VVAn0+sgK9DhRMosx/2cHt1JcIv/j0diOhj1Gq/XAoagHtQ5pGr/NDH8dfX50pic5v5jfHqO8KqbjMMDR3lx7PXA7ok3PvVt8gXd/BoZiHTG4NFBDAzzT/7+e7OSlbx9UBlIuTqdWnPczINlmCdMubMtNJVHzV5StEMoY96Wmhv25Ea5UPZgO/gKaEy1djpgX1MnR+KftqV9trPuNuY9m6j62Bk+CD8ee0RQrU1gnmWSSy3UghYHKVPwboQz0U3xCtwMDVROV85xdtTnel9QHm4P6jcysCAUuy/NYdZoi+4oAv6XsEi0w/uy+sBX6O+j8CLIVhkq74PP+AAAAAElFTkSuQmCC",
         "type": "image",
         "xaxis": "x",
         "yaxis": "y"
        },
        {
         "hovertemplate": "x: %{x}<br>y: %{y}<extra></extra>",
         "name": "11",
         "source": "data:image/png;base64,iVBORw0KGgoAAAANSUhEUgAAABwAAAAcCAAAAABXZoBIAAADN0lEQVR4XgEsA9P8AXDuDR3CLgHp9uMhTcIY9LdFA+/TITLMHOLuMDYBaOga/ja36wYi5jn7BNIFI+UZ2uQdByTLGyjW0wLtTCnY9fsoGCT43/wL6wP19QIiBSsNxgss1iYiAiT/0wzVBPE30EYa3J0hMOkWC9wY5OYIJOj+yN4BhPD8/iHbzzH+FuL/GNsr9Rnx8wnmLtEJA/v+JALo0RwT0xkdyuT10vnGAPf8Ee7l6Aru/wbp8hTeBOczEdXyN/bnAB9h/7QY8BTuUNkO4NgS6TbW+AQCBgDX7Sidsj4tzP/BOSljSPsOHvgd7P7v2UH+DwFw8QUV2N0/E+jEHBYj8iXv8RcQGPfl0BMI5hCfAg3lHtUVHPfT/gxIPjMQI/sH36UG+u9Z4vIM/HEEzfjL/QcQ6gELMQQWJ+6v+vvl69D427Ud798CIQQj/Bvc3CcOCNwKJ8bDySgL+DH44vHvKu1JA+0BBAUH89o6/9gDORPZ9rxACN9GD+X89BbOH8sU1REBV9cxB90lBAZCkjwI8f41/irSAurTAuH2J+M1+QIOUgbl6RoHIepb8hg7N9rpB/e/ryXsJkQEHeXmAhnOMyQeuQayAeokz9ChzvK5+vw6uwhO5AI05P8C+ASb9DX59lCs3MUkyxoSHTHt3OMDGqgUD8dJDgIeQSUM6ksBqQv12Cg6C1v/svPT2vrn+NcB6+wrAsPdKPj02P0lsCU9pgkz9d4X7FQp+zj/FBEG59UC9e7W2wsVEdN/1/QP/AbmD9D98Aj31Tri0wgX8wIJ6vUQFtXmJeD5ACkO6bjX6i3z/w0OvELrBvjzAu4oFDn6dSrTFlYa3yquCvU4uA0IEtQorR050UcC6v7w2NXc4j3UAWT7ui0A/O0g5es5/980CL09AQQXMukgC87tNTTotvsd/v/+7sRC5OYr9xygSO+9AkTc+7sFFRP0x/7oRuMT3/73dgAQ4SYEx+cm+ykC2887FwMCCfFOFRTM0fEJCivrISzY+QncWPEXNwFgHLjZk8ruLObyCBYXyAnjQdLcNgkR6CnU4wr5BObiOSbl4fzN+DYE7Paydhfe/FLW7BH8vxoF4/63bpliYsJIWAAAAABJRU5ErkJggg==",
         "type": "image",
         "xaxis": "x2",
         "yaxis": "y2"
        },
        {
         "hovertemplate": "x: %{x}<br>y: %{y}<extra></extra>",
         "name": "12",
         "source": "data:image/png;base64,iVBORw0KGgoAAAANSUhEUgAAABwAAAAcCAAAAABXZoBIAAADI0lEQVR4XgXBS1ATZwAA4Px/dpNdNsnmRcibJBAiEUqMNSiggLY4YznV3nrouZ2xF3vuvTM999Zpp0cv1VHGTopFRYOdagSBmATyIprNY0nY3ew7j34fWJ7O8isuDffSc+vx1GtSK3FwMJz07ZkGqIAAZa6XFwWw8Kzh4Emd1P14zUAjL2YEjmzC66b3xDWxL29uvXKLVZpZnms3x1rm9H+7XARaKlz7TdUHr/yofb53076cI4jOcIcfixpqJvjXyddHnHPfo35ge1h+iIQduYn2WhfL2ebvwVO3tMbV48bnotW8mJv1Vd8Kh1I5MrrKhldgUJtVFgJI+sI5vw0BhzrPOFYHQXmD0f9RhHCS3X4RIJggqe9kpvqUVPrWRXEjS5t4BIVkd2EFxcpzzRR20I3ewSnfb5d7TUn7CdZPQbid5iS2qIoXql+ArYM9quO8R2iVWiVe0UHlhzNmvAH8y/WnuyMuJIJWmjavQU14xZ4H/JwujTIOB9HERFeo35V0GTdCHvT4CGvbgillMaxeuWTjYVuT5ILfvTJs0WdQmGjQm1/BGOqtxYsP3yEZrXyKwjtmy3xQfRujpvD5ISyyew6V1ZmtehQ7v1gJ+gP7LB4iGNky3ABfMrOBQ2MJGI0YHnZ3Wg/wAG0x/hMRZ0oq0r77S9/GLcHuIM3VxdUdjY0aRQ4+U1LTMolc/Nux9HKsVDxbb7nXJWhPFHwZvanQ8HqOCagvFR9p3gmRYM4Mhh/QB3+SVaP/yX7A+LtbBt+faDgTQrz3CRY6auk14skJyizB8L8UOwvhmn988gwk8LrLuhhz0r/aEBcARIaZmiDhRuHT42Q0pNov7XzjP1JuL42LeN5a9oqFWgfcLcQGeFkze5Sfz8QjoDySbH9ePp9t0YmWDpEM/VbH6X0EVh/OFD29ir4WShdBTOHf3H4Cfkp62TnRnkOGfDZqiqacCIWaj+lz9TBnhx+nR7rUZFKrDJw3sELKK+stgmWMQGN9vgJ9zdO4YzPRtFpbx/JqoKDPC/x9e2xbhJfrcPcqaxd7aatp36qGsqWLiEy2mFptPX1C+P4HyRyC+g/0XVoAAAAASUVORK5CYII=",
         "type": "image",
         "xaxis": "x3",
         "yaxis": "y3"
        },
        {
         "hovertemplate": "x: %{x}<br>y: %{y}<extra></extra>",
         "name": "13",
         "source": "data:image/png;base64,iVBORw0KGgoAAAANSUhEUgAAABwAAAAcCAAAAABXZoBIAAADKklEQVR4XgXBWU/bdgAAcPsfJ45z2blvcpCEAEkKDQFSMY3CxLSu1R4qMU1Vt36FSnuutC+xaQ97Wl9W7aFsmtQhRFvWToOUlkJaQgrkcAhuDhs7sZPg2N7vB9+XfR8EE2WIbOlCsCS2EgJXdIYVVjM0t4Batem3OzFaZLPvcAeNDC4hFM8NxglL43PQ49z/Ho5BRO6L/KKul9T2j+Wvm3rbq+Jv8j58Z2izqspc7O+U+6+r6D9zGjMFRRs1JFAREgBS6dbPzpONVAq7iaSmIoHdDP1YgS0UMmuG7wEhRE5Dljc90SRKpN3RIBZetOYeL6nWcWBDLk5vhK3pT32ipiwE5h2ium9108TxRYyHV7UmjePL89Z2jBFGIw+N0OB4otN1W5oKxiJpjpa5o8rQ3JGNh+1l3/Y16WXexVNBFmkh/GkJ80hTR93SAifFz+oelkTHTszkjAHqwffamZzOdHH1SVinyHzcLUDhHxbqKBnbObEDmzpn0OxLj5bAm0vnaGbCb1v3wqv6bwbLM0ugVddU0mN+8zOwuOh1PX/r6rYZ6IVx04Gly2A4hs2/GmmvaIcCb5rQ+9Z+terbh9V0jeeDiIFiUeWt9RenWBv449fqI1Ym4iXFEqXESKSfZC5ZJIHM/WigDtjbueuG4+yDqFjWwkwe9tyq3d7Tvsdt0E5Y14UbKwSINtY8H93qqh1cqSXfEwWCeTlvZ3BPYvmnakvOhcatTUnUAEhCSJcJxVc3HHeCvmIvxJIVVn7UCEPZfcSEA7xoKcz//K1TfjaEmguePe8kLva3rLUZ8Ml5A35dBwffZ5Qir+rEsd/vdpf6I0wq3qkj6rlT1fTTK9rXEppoVsdVxHX4aEcuoCULZwcDF8xbvpKTuqfYzuStaa9u5c9gUzBgeJMS4M/8xVkeNRbM7t37J6HLvL3bwx4GxGZW33kHfycJaszIDMwVlTdt51iCpDhdkLvwGtamEK9l4y5NP7G7snuVepRXNGIUFOjaKFHOdECvMNk6UFZmA+iNru9wqM2PV/djm66z/1z+ItD2+C0XXcSflx5IbKQ07P6BeJzBXc6/vZH8Hwaqe7GIE7ztAAAAAElFTkSuQmCC",
         "type": "image",
         "xaxis": "x4",
         "yaxis": "y4"
        },
        {
         "hovertemplate": "x: %{x}<br>y: %{y}<extra></extra>",
         "name": "14",
         "source": "data:image/png;base64,iVBORw0KGgoAAAANSUhEUgAAABwAAAAcCAAAAABXZoBIAAADKklEQVR4XgXB+08adwAAcO7LnXcH8jjAuxNEHsIEX1AWxXV1TbVZt5hlS5N2PzRt9tOSJf1xv+1v2JL9Bdt+W5r90L2SvXS2ytSigCIeoM46kYPjDcId3GufD/SRkWAo4tqbImFe5hew3Iunz+yIyHjCeRksox13YOii8aa1dGIO/ppsOnYXNOdjJl9RbAIOofA12XJ4yOF9LuH7x8/bz8IoSTRdLR40pCujN+3vzxRIi4bYca9TPSIbzsvX39Pvg812BC15U9F8T6GWHV8MlqIaD52F1Jw9UYXvThyUVLsIGT9tK8tY8fM0I8YLd/4MeWbjECjuEYG5HOR6Lxne3DTpkgM38kF09ElL6Wq7cGRDHrdll8r6xrZlreNjxh5idU/GZ5h47RNhA2p2xcJlb8b5QiF16skgvQB9KffNrSCSBb8Ra6ecmH6wwofUWb57L5o+4h2K1MIzMQwY+8tpJef4+rwXj2xjRPtgGlS4u2cmSQynAe7W3/TPY8eaKRaQvYRnzuH9Y3rt43JhRYyAhvl5gkyWbcLLxTIaxs8Rc/kmGuphru9SJTjEvEN3JGtiTPBWdIZVlI9det84/cU5KUgu0DYC7opt3j/XRugFB8FW+/7C1e0R97fuo3+hH7bQeiBTUeefr1BTP8p6We76kEfMPpQiJ8GBWrDqTIuogu8yGyO1mRx+yVV+flV4PTfcA9rhMsKOnho6tKlTUomtt6uOUTfd3Ddv5S8AJ9gQFSeOuyoOVzdci7Ebj+l67O8prcxZgSFLZorFeGBb/XDDssq8imTaIYM+SO69+5SFPrGXA0AQhlSG9ZhExBTsVWReoH6fP9qZhhmsrDsJ3zo2VO/R9Q6vldAiaw7vUhI9NQ59lbye1UKYGXfG1IkGT7xEpW7P0qk5/XE32CcV6fC2MuCeUYZvbIc/MbqjrnlVQvQM1oE+G7DB/t5If9Szqz5aF5wl3nbphJPzrbE2A4YFj7Y2MWk7S0ddeXlG9A4RRm7g53c62BLw67rj7Fttim622IJmJ7VuHBawSRW+1e4BOFsbv7L+1brh9gP6wjsUvazjyn+m1nVTeVD7H3JjjL377Jo2AAAAAElFTkSuQmCC",
         "type": "image",
         "xaxis": "x5",
         "yaxis": "y5"
        },
        {
         "hovertemplate": "x: %{x}<br>y: %{y}<extra></extra>",
         "name": "15",
         "source": "data:image/png;base64,iVBORw0KGgoAAAANSUhEUgAAABwAAAAcCAAAAABXZoBIAAADLElEQVR4XgXBXWwadQAA8P/9uTuO8nl87aBwlLHSWtrSlWrpd2uf1lQbM5+M+mJ8MdEnn40vxid9NT66ROPHTJyarUvdGm3Rsq2D68ZyMlpYKAcIB3fH13EFzt8P+aSOJt69Fe4PFr+czK78vir9+ZqIOSD3xId44OBMHS1sASL/UdTbLk3wCs6RwsHtRkixlZFr/mjhmSZynw+l1y0S0MiYP2ncs2Ku3FgdzjiOj1fL+/i12ob+cS/5gqv+VSrg2KzakqtQ6vF40jfHCbO/dpF9x0xh+op+3Cr+jAToENQxyjBFG1sleXv3TEN82s4Q5HfOFRs7QDEo5fXFpFIZa2SFDetc66XZD3inV5MbMUiCDN3zlYqav1nSmpRdmD9ZHPp+/2T9kD6rryVsUPibCAJ+zrlZt7jcxk2tpdJHk5cOzdaUmkaj3YcdMsCBSutAlM2ortuNxiamFHb57qt15PPaFbJxVJzOIk7zkeZia/u9HV5J4/6flmETrdkf6XBFG6NVQ5IWrzrja4pg7hJ3PlT7e9D8oLKNgjbapgz29ngE6PMniIbcmbz7Q1mPZhXpa4zqVk0uBgeO82qmMuLd9Zwu39vGaOgbvxSm0wl7/SGQXYfNAWzFnXyqvLdTE0sQMJryk9A7KIRg6GzdrlD91fjKK3A4d3pDgUUf1Xm5h59PeunqfNwnlGz3aKNDZX0w0ESu1ydaPXa5ZTwPP1oyek4B32H+IwktFuEIVF35xb7woCgXwzXTt58Zjv/1WzeLqNQ3MJYWDIwvDb2wLHSEmDjYEgK1CIXf6hxUCGIU6UA9Y5x2myXldff1MStxY716X3HIl4H5TkrxwyLG5suzhWEu+A1CWKs3mV5KHvZauiPk4ym07tV0kIxpNPVUm33jHK1GO2FOpZRBBINx6Gq4JPAW8xtrXCNYNvPxwMyCpX+ajbIEFJjxPLcE/3gb8blzG4eE+CMKRM8X0IB0npE66GPfvOBHxBClH7p9eW+e1BHkU0fMftGWEg64EEss4qyYn2EaprQbzUEqjU5tsLqJoOsIfvV+Xu6ZuKuFGRdub4JgQbI/v8DBfrbYs/0PWI98uFx/zHIAAAAASUVORK5CYII=",
         "type": "image",
         "xaxis": "x6",
         "yaxis": "y6"
        },
        {
         "hovertemplate": "x: %{x}<br>y: %{y}<extra></extra>",
         "name": "16",
         "source": "data:image/png;base64,iVBORw0KGgoAAAANSUhEUgAAABwAAAAcCAAAAABXZoBIAAADN0lEQVR4XgEsA9P8AXEY8d3/ylrjJwC+JgUICq4eCggu0/8J8DHICwgC9twNCCg4wRHYvEDSDNzYalD5APHx+QY+/0cB8AInHNQ53fJcHh89py7cKjXp5Djx+zviIM70iSH/ArcO9fUCF8X90r9B+vMPB+n3tP4pujLlJQNI+U0BVEbsvlDuyzD58/z5B/Dsa5tBDtQN/SfQ9u8WBwIlrPsOF98j7/BN+hMPViz3gPvT8QLKCAb89RL+AUMr2vcLFCP6N85ZvwQmzxUK3PX4w1CbVgfcQMcCDxQgKwbZ+eDuDcoQ1eoHA+8AH98i/ybguR275gIH9CQaFhzsGQ/4KgpG2wX75gX/4fqk+NkQrRxBAvqy9OT+4wXJ094V2ekmDjURFfQ8NjjbGQBb298CKhb38yUjAS8IOXwHstoPjP749ta6KDIY+wIgLwK/4tYUxkLh8d0cJuUVCAAhEBwu6vbL+eY70eWaAZMQud4YGvvoCNY1/AcqCQkP6vnJFtj3UZ4XBfoCy9r0axUlyvgeQgAeIBba9NjescnQXSPS8DgAHQFoDecVyUDlEtEs42rcFv3P+N0MLuoXAfzmDOf/AugXKt4r/fztLbYP4CP6AzT0Wdv4GaPSCQ+r7RcBe9kMGAIC9dUIHRr7JRUGxP/59tgZH8RA/t8sCAIGKQEH2AnmAe3nNDn/E9XRvdoc+wYAGBHOLsfRAvbd+Mny+BIRM0T2ojvA0foXHrT/NQMQuu7BD+kC9CD9HxfktwRD9gtH3wP+99raJxy1CAJFERkCJQQU+wvlP8NP3J9C/eUGKcswCSfxKM8LKBkZBfkGAtjtCAWoMNH+NQOy/BADYAkuOizo9C3pnQvm7OICERPzLIfmBvz6/FIZtO4G+xjPCg5GzQEYHDPx4AThBQ/sqTsGyC6HYw1imvhV5h274er9Scbz5+QRAWEi1wwD+SDT2iYSxUEl3uQc2i3t2QAv4hLnLOUEEswAD/j+2DQp+tE1/vTzDv5Q7MpO2PcOChgLBwLWFCQZVuXpp/YQHP3s2RQYvtDnIssvAAYK2fcgAhLO2vi6AidVCtES6P//8Mgt/R0W7d8YFOZPsdnHkoX5lc/bowAAAABJRU5ErkJggg==",
         "type": "image",
         "xaxis": "x7",
         "yaxis": "y7"
        },
        {
         "hovertemplate": "x: %{x}<br>y: %{y}<extra></extra>",
         "name": "17",
         "source": "data:image/png;base64,iVBORw0KGgoAAAANSUhEUgAAABwAAAAcCAAAAABXZoBIAAADK0lEQVR4XgXB3U8aBwAA8PsC7gD59DiPb5AeUbRWLVO7Rka/1qxNu2RtTF/22mQP+w+aPvepS/bcbdnbkiV92ZqZxc5WO6f4ScGCoAIeJ9wd53l8Csfdfj9wMkpyrKuPFBZeEp7Vm2Txz+8TjLs2tjuo8UJPreUWj/s6bHKmSD765bj6nOlrFXRodCQiI1qhRE4wqpF7N/nlnrKg6REpu60Ilj7BFAvGYcymdPCSOVREhGs1529R5N8vdDRgdC9moShLWdBLslF4D+qY5faaJjQ+maj4u6a2fQFaNSUU4SDS+rbuwRRvXaEIiJ07GNC8OfMawcdm3tan6IvjcDh3FDsPiw2fhHCa0xwEuiHfg1k1nudF1rJdtdaMPofu5yI3V/lH7wlvQdVNmspf2GduL8bVYA3Vml2RnqGAShFcdYM/ZrbiPGI5JHX5UGWM3DvyhKrTEieSb10qVKgrOO498QL5+SjVSbMu/65uHzd3EkG6ClWbs6tNRgScsqwPT2TlwJk/aM6l9wja7ITGKmqkq40OJse1p2d/XwqUsPe7qIjYcy59Fynd47KmyollBMUYKBsqaTgsznZr7BTooSFsX0/306EecaWdErSU42N78M1FOugCVjYYiId5RyXajDD9t4ZJ+zvhYeFr/GL+tXXksrUAOYysA+KmWt8dDRkyTvd04slpLMU9EQsGKQj+8BHOmEZQT6722j9MHgD3m3UHv07ieM7dgdaUlqNLRnC+Hptxprynqc8JdjGA1td94K/go5vHrvLwgYJIONBU49LoxtmrB/J2/LA4q0M+te+oibu6w5WYThxXq6ypsTfcvCvBOybRAL5Iwp1A8yqa+OaPCYIhaO+SAA8sPV4O2VrbENsszDHHDEtlptS1raPNV5LFU6IUvXV11ArO+q9mBp3MjfxEbaVt3j53OdQOpqmnP0uSVvCZqM1PN8CyakDsJ3BvfhFp31DyO7ct7TSCVLEPkd9tA1G21ejBXmZHuK7flOSA8T+Cvwf9Vb6VnQldXo/6r3SXakl56IMgwMMWQd2fBsCvbv30dEOSza3idax8rdI4z4WdywTdAmJA6X96yYmh3Ndo6AAAAABJRU5ErkJggg==",
         "type": "image",
         "xaxis": "x8",
         "yaxis": "y8"
        },
        {
         "hovertemplate": "x: %{x}<br>y: %{y}<extra></extra>",
         "name": "18",
         "source": "data:image/png;base64,iVBORw0KGgoAAAANSUhEUgAAABwAAAAcCAAAAABXZoBIAAADJElEQVR4XgXB+1PadgAA8OSbQAIEIkFegnBgFcHiLKVq0VXt1mvdtL1zvV7v9svuetfdft1v+zf2d9TeXnVnzz48zxXF1irUJyBqKeERHkkIISFknw/8oxjblFxI23Ai3cxuzjbdlb5OnTGbPbhcAqwj5YVkDLoqSxwxCxdcWNZjCg4XGPkjDZQ8995FYAh/HUheHp8/pA7TGtZM0mm9B/79VNKeYNXewRxW9/fvRbZLgTgaZm1d0dcCyktl1zQ6O8hZIzRzJLcGWtUf5jp+D+t9xoDSvcePNLRaSZcv8A5MIWf9ZMLelAjP2sMk+Bs52XCO5m+ic9mhs1F72dytOWrk+uvigvoTGs4oEAXgVpSbathl3fjO/FFnZXJa6CK7QeCknMOHHx1/6Sr4Y467QmbOY8KDkRNR2a86UYuQGlLMUg88VUyU/fFMvwEob13Gvu1p1QaaDJnXHqRCLLv8undfS6YzK8vYDZCfkrs8/Nsp6v7gg0yCjQkypU/GoerkfkbV+o+93S0ADKrayVbOsVf8uyJmKUPfJeHF8Vv6ua/kKPhCIXm9GAT4mJNMvfGPEOlI+209iRTjNgZtCKUBWQwq/yE8NGBD/I9W15lF5f1QVndQRq9XjD7r0dmHX14FAi9U1fciICzHZ+hEwWQl4Sc3yqcMO19XyzoZ5A0///vZIGqqdzcQE+IHPdXGNfdCq6hXcuinyMRabQZCmgSNVgpcGVi7yaN7xXWI7ffARn8v7rygWKNpT4FAjwI/rI/kL126jj4Xc6zeVs4kwsnV0D6peoGX0OFL+mqY+0IsPjdeZme8uXrjHWqJlhjePsjA9zHB5Gm6PwNMuz05vqNmvi68CeB7PpoQKBCmltD4AR3e0Slj0CqZlGP/jLFoCGqMB+wgcVDIexz8H7++rKJiLh91Ln9jabiF7NI6fAiu+FLfihht2muIBN9uPrdtSMfWLXVhBc/dB53p2Ja7O5arUfYgPgHdSUe2swgl/BmKPtCgofP2NctAjbD0gYqC6TafPiN6lPL3u3y6rYOXCM2t5FoghPJdV4f27HZEzMc4IO54Akn8Dz5ni3hd78wWAAAAAElFTkSuQmCC",
         "type": "image",
         "xaxis": "x9",
         "yaxis": "y9"
        },
        {
         "hovertemplate": "x: %{x}<br>y: %{y}<extra></extra>",
         "name": "19",
         "source": "data:image/png;base64,iVBORw0KGgoAAAANSUhEUgAAABwAAAAcCAAAAABXZoBIAAADLElEQVR4XgXBy2/adgAA4Px+GLCxY2LeEGIT3JIQaBolWUJKu3VNpRzWSl21HipNk6ppD2mXadr+it123HHS1EpbpU2KVFXttKprHoRkCQ1dCDhAAIN5gw0BYx77PvC1K6Hb61tIU2h559PEVd4ucTXTVAMNXYmJ4KHMGjhaiQNEchILL4KJFv1yVVfcd5kACc3XQ6XVaD+nJVgRe1U47cZblz3RFtaxMBwicMu7cI9c0PaNka7as3PNui8XZor0IMxawQagMDBQXRRuT1eyPbYQ3PWJSkR/EbtdLELhJm4zVy5Q1pqOOsl1oOkhgY4npbfXRynwZdz3Tvgi7GsQ/pjGXAqmVe0q0w7P/RzU96AO/W+BeaIuz9pzc+n38V/f/M6xXJwYBuiMCnxrzPbTbn6lffpJ/SnlRcvVKaXcIBWzMC9AJK9hNiSzB/8+kQy2N9OSv7dNMJgp50NJxCgqlS3l0dajt+HVLnaz447Wp65XU6AvNJogcJVoMEfDxRkuT5RtR4LPm8Gz46OcJ7ksIbj6BANVhpzPf3TmRsShPmUs+/78YO6ZBkch2rh1lByptNHJ0d00Y703QWgx+3K16vr85Wtw334hVe6VPdKts4iujHvNhzhWOl1/Pax3L0EXP8u7Y5HwzNsD0zlLPM5s852Kx0/TNpsB7q/3P6PiDPV02/bE8qrRy98YxDe6ocAzrUFAJuV3NHNGmYkT4zftZo2Aubwqu5SLLoooDseiRPbFMBGO02f9xtqRPkJVMWIPyXOu4z6cLLUs7vOR2BvzDHv4D9XuxIdL+IYFh3+spcBXwyHAR+l2NvAgO344ryjM2MmESvc3lFkDrEPZ8dck21yjfnEW7sL37M78ipES081a7QDM3Rkp3k2Wlz7edK0ct9eaDIWJP8kHjodbLPjxX24WyrwH2g272w+QwJA/doToG+Rv0+dd5M2ViCmDMK54UXAXjCGNLJZktWkHt2kQI7ysulOXC1DLjorgWhI+H0uQUSb1+Hkxd1gC3zVqfqmDMYOtATCNxwbdRdF54K8zzZaCQtuK95/WdD6ZcdQ6lHrcZ0VkdIl3qFU9PfgfO6WEZ3QRb8kAAAAASUVORK5CYII=",
         "type": "image",
         "xaxis": "x10",
         "yaxis": "y10"
        }
       ],
       "layout": {
        "annotations": [
         {
          "font": {},
          "showarrow": false,
          "text": "facet_col=10",
          "x": 0.04100000000000001,
          "xanchor": "center",
          "xref": "paper",
          "y": 0.46499999999999997,
          "yanchor": "bottom",
          "yref": "paper"
         },
         {
          "font": {},
          "showarrow": false,
          "text": "facet_col=11",
          "x": 0.14300000000000004,
          "xanchor": "center",
          "xref": "paper",
          "y": 0.46499999999999997,
          "yanchor": "bottom",
          "yref": "paper"
         },
         {
          "font": {},
          "showarrow": false,
          "text": "facet_col=12",
          "x": 0.24500000000000005,
          "xanchor": "center",
          "xref": "paper",
          "y": 0.46499999999999997,
          "yanchor": "bottom",
          "yref": "paper"
         },
         {
          "font": {},
          "showarrow": false,
          "text": "facet_col=13",
          "x": 0.3470000000000001,
          "xanchor": "center",
          "xref": "paper",
          "y": 0.46499999999999997,
          "yanchor": "bottom",
          "yref": "paper"
         },
         {
          "font": {},
          "showarrow": false,
          "text": "facet_col=14",
          "x": 0.44900000000000007,
          "xanchor": "center",
          "xref": "paper",
          "y": 0.46499999999999997,
          "yanchor": "bottom",
          "yref": "paper"
         },
         {
          "font": {},
          "showarrow": false,
          "text": "facet_col=15",
          "x": 0.5510000000000002,
          "xanchor": "center",
          "xref": "paper",
          "y": 0.46499999999999997,
          "yanchor": "bottom",
          "yref": "paper"
         },
         {
          "font": {},
          "showarrow": false,
          "text": "facet_col=16",
          "x": 0.6530000000000001,
          "xanchor": "center",
          "xref": "paper",
          "y": 0.46499999999999997,
          "yanchor": "bottom",
          "yref": "paper"
         },
         {
          "font": {},
          "showarrow": false,
          "text": "facet_col=17",
          "x": 0.7550000000000001,
          "xanchor": "center",
          "xref": "paper",
          "y": 0.46499999999999997,
          "yanchor": "bottom",
          "yref": "paper"
         },
         {
          "font": {},
          "showarrow": false,
          "text": "facet_col=18",
          "x": 0.8570000000000002,
          "xanchor": "center",
          "xref": "paper",
          "y": 0.46499999999999997,
          "yanchor": "bottom",
          "yref": "paper"
         },
         {
          "font": {},
          "showarrow": false,
          "text": "facet_col=19",
          "x": 0.9590000000000002,
          "xanchor": "center",
          "xref": "paper",
          "y": 0.46499999999999997,
          "yanchor": "bottom",
          "yref": "paper"
         },
         {
          "font": {},
          "showarrow": false,
          "text": "facet_col=0",
          "x": 0.04100000000000001,
          "xanchor": "center",
          "xref": "paper",
          "y": 0.9999999999999999,
          "yanchor": "bottom",
          "yref": "paper"
         },
         {
          "font": {},
          "showarrow": false,
          "text": "facet_col=1",
          "x": 0.14300000000000004,
          "xanchor": "center",
          "xref": "paper",
          "y": 0.9999999999999999,
          "yanchor": "bottom",
          "yref": "paper"
         },
         {
          "font": {},
          "showarrow": false,
          "text": "facet_col=2",
          "x": 0.24500000000000005,
          "xanchor": "center",
          "xref": "paper",
          "y": 0.9999999999999999,
          "yanchor": "bottom",
          "yref": "paper"
         },
         {
          "font": {},
          "showarrow": false,
          "text": "facet_col=3",
          "x": 0.3470000000000001,
          "xanchor": "center",
          "xref": "paper",
          "y": 0.9999999999999999,
          "yanchor": "bottom",
          "yref": "paper"
         },
         {
          "font": {},
          "showarrow": false,
          "text": "facet_col=4",
          "x": 0.44900000000000007,
          "xanchor": "center",
          "xref": "paper",
          "y": 0.9999999999999999,
          "yanchor": "bottom",
          "yref": "paper"
         },
         {
          "font": {},
          "showarrow": false,
          "text": "facet_col=5",
          "x": 0.5510000000000002,
          "xanchor": "center",
          "xref": "paper",
          "y": 0.9999999999999999,
          "yanchor": "bottom",
          "yref": "paper"
         },
         {
          "font": {},
          "showarrow": false,
          "text": "facet_col=6",
          "x": 0.6530000000000001,
          "xanchor": "center",
          "xref": "paper",
          "y": 0.9999999999999999,
          "yanchor": "bottom",
          "yref": "paper"
         },
         {
          "font": {},
          "showarrow": false,
          "text": "facet_col=7",
          "x": 0.7550000000000001,
          "xanchor": "center",
          "xref": "paper",
          "y": 0.9999999999999999,
          "yanchor": "bottom",
          "yref": "paper"
         },
         {
          "font": {},
          "showarrow": false,
          "text": "facet_col=8",
          "x": 0.8570000000000002,
          "xanchor": "center",
          "xref": "paper",
          "y": 0.9999999999999999,
          "yanchor": "bottom",
          "yref": "paper"
         },
         {
          "font": {},
          "showarrow": false,
          "text": "facet_col=9",
          "x": 0.9590000000000002,
          "xanchor": "center",
          "xref": "paper",
          "y": 0.9999999999999999,
          "yanchor": "bottom",
          "yref": "paper"
         }
        ],
        "template": {
         "data": {
          "bar": [
           {
            "error_x": {
             "color": "#2a3f5f"
            },
            "error_y": {
             "color": "#2a3f5f"
            },
            "marker": {
             "line": {
              "color": "#E5ECF6",
              "width": 0.5
             },
             "pattern": {
              "fillmode": "overlay",
              "size": 10,
              "solidity": 0.2
             }
            },
            "type": "bar"
           }
          ],
          "barpolar": [
           {
            "marker": {
             "line": {
              "color": "#E5ECF6",
              "width": 0.5
             },
             "pattern": {
              "fillmode": "overlay",
              "size": 10,
              "solidity": 0.2
             }
            },
            "type": "barpolar"
           }
          ],
          "carpet": [
           {
            "aaxis": {
             "endlinecolor": "#2a3f5f",
             "gridcolor": "white",
             "linecolor": "white",
             "minorgridcolor": "white",
             "startlinecolor": "#2a3f5f"
            },
            "baxis": {
             "endlinecolor": "#2a3f5f",
             "gridcolor": "white",
             "linecolor": "white",
             "minorgridcolor": "white",
             "startlinecolor": "#2a3f5f"
            },
            "type": "carpet"
           }
          ],
          "choropleth": [
           {
            "colorbar": {
             "outlinewidth": 0,
             "ticks": ""
            },
            "type": "choropleth"
           }
          ],
          "contour": [
           {
            "colorbar": {
             "outlinewidth": 0,
             "ticks": ""
            },
            "colorscale": [
             [
              0,
              "#0d0887"
             ],
             [
              0.1111111111111111,
              "#46039f"
             ],
             [
              0.2222222222222222,
              "#7201a8"
             ],
             [
              0.3333333333333333,
              "#9c179e"
             ],
             [
              0.4444444444444444,
              "#bd3786"
             ],
             [
              0.5555555555555556,
              "#d8576b"
             ],
             [
              0.6666666666666666,
              "#ed7953"
             ],
             [
              0.7777777777777778,
              "#fb9f3a"
             ],
             [
              0.8888888888888888,
              "#fdca26"
             ],
             [
              1,
              "#f0f921"
             ]
            ],
            "type": "contour"
           }
          ],
          "contourcarpet": [
           {
            "colorbar": {
             "outlinewidth": 0,
             "ticks": ""
            },
            "type": "contourcarpet"
           }
          ],
          "heatmap": [
           {
            "colorbar": {
             "outlinewidth": 0,
             "ticks": ""
            },
            "colorscale": [
             [
              0,
              "#0d0887"
             ],
             [
              0.1111111111111111,
              "#46039f"
             ],
             [
              0.2222222222222222,
              "#7201a8"
             ],
             [
              0.3333333333333333,
              "#9c179e"
             ],
             [
              0.4444444444444444,
              "#bd3786"
             ],
             [
              0.5555555555555556,
              "#d8576b"
             ],
             [
              0.6666666666666666,
              "#ed7953"
             ],
             [
              0.7777777777777778,
              "#fb9f3a"
             ],
             [
              0.8888888888888888,
              "#fdca26"
             ],
             [
              1,
              "#f0f921"
             ]
            ],
            "type": "heatmap"
           }
          ],
          "heatmapgl": [
           {
            "colorbar": {
             "outlinewidth": 0,
             "ticks": ""
            },
            "colorscale": [
             [
              0,
              "#0d0887"
             ],
             [
              0.1111111111111111,
              "#46039f"
             ],
             [
              0.2222222222222222,
              "#7201a8"
             ],
             [
              0.3333333333333333,
              "#9c179e"
             ],
             [
              0.4444444444444444,
              "#bd3786"
             ],
             [
              0.5555555555555556,
              "#d8576b"
             ],
             [
              0.6666666666666666,
              "#ed7953"
             ],
             [
              0.7777777777777778,
              "#fb9f3a"
             ],
             [
              0.8888888888888888,
              "#fdca26"
             ],
             [
              1,
              "#f0f921"
             ]
            ],
            "type": "heatmapgl"
           }
          ],
          "histogram": [
           {
            "marker": {
             "pattern": {
              "fillmode": "overlay",
              "size": 10,
              "solidity": 0.2
             }
            },
            "type": "histogram"
           }
          ],
          "histogram2d": [
           {
            "colorbar": {
             "outlinewidth": 0,
             "ticks": ""
            },
            "colorscale": [
             [
              0,
              "#0d0887"
             ],
             [
              0.1111111111111111,
              "#46039f"
             ],
             [
              0.2222222222222222,
              "#7201a8"
             ],
             [
              0.3333333333333333,
              "#9c179e"
             ],
             [
              0.4444444444444444,
              "#bd3786"
             ],
             [
              0.5555555555555556,
              "#d8576b"
             ],
             [
              0.6666666666666666,
              "#ed7953"
             ],
             [
              0.7777777777777778,
              "#fb9f3a"
             ],
             [
              0.8888888888888888,
              "#fdca26"
             ],
             [
              1,
              "#f0f921"
             ]
            ],
            "type": "histogram2d"
           }
          ],
          "histogram2dcontour": [
           {
            "colorbar": {
             "outlinewidth": 0,
             "ticks": ""
            },
            "colorscale": [
             [
              0,
              "#0d0887"
             ],
             [
              0.1111111111111111,
              "#46039f"
             ],
             [
              0.2222222222222222,
              "#7201a8"
             ],
             [
              0.3333333333333333,
              "#9c179e"
             ],
             [
              0.4444444444444444,
              "#bd3786"
             ],
             [
              0.5555555555555556,
              "#d8576b"
             ],
             [
              0.6666666666666666,
              "#ed7953"
             ],
             [
              0.7777777777777778,
              "#fb9f3a"
             ],
             [
              0.8888888888888888,
              "#fdca26"
             ],
             [
              1,
              "#f0f921"
             ]
            ],
            "type": "histogram2dcontour"
           }
          ],
          "mesh3d": [
           {
            "colorbar": {
             "outlinewidth": 0,
             "ticks": ""
            },
            "type": "mesh3d"
           }
          ],
          "parcoords": [
           {
            "line": {
             "colorbar": {
              "outlinewidth": 0,
              "ticks": ""
             }
            },
            "type": "parcoords"
           }
          ],
          "pie": [
           {
            "automargin": true,
            "type": "pie"
           }
          ],
          "scatter": [
           {
            "fillpattern": {
             "fillmode": "overlay",
             "size": 10,
             "solidity": 0.2
            },
            "type": "scatter"
           }
          ],
          "scatter3d": [
           {
            "line": {
             "colorbar": {
              "outlinewidth": 0,
              "ticks": ""
             }
            },
            "marker": {
             "colorbar": {
              "outlinewidth": 0,
              "ticks": ""
             }
            },
            "type": "scatter3d"
           }
          ],
          "scattercarpet": [
           {
            "marker": {
             "colorbar": {
              "outlinewidth": 0,
              "ticks": ""
             }
            },
            "type": "scattercarpet"
           }
          ],
          "scattergeo": [
           {
            "marker": {
             "colorbar": {
              "outlinewidth": 0,
              "ticks": ""
             }
            },
            "type": "scattergeo"
           }
          ],
          "scattergl": [
           {
            "marker": {
             "colorbar": {
              "outlinewidth": 0,
              "ticks": ""
             }
            },
            "type": "scattergl"
           }
          ],
          "scattermapbox": [
           {
            "marker": {
             "colorbar": {
              "outlinewidth": 0,
              "ticks": ""
             }
            },
            "type": "scattermapbox"
           }
          ],
          "scatterpolar": [
           {
            "marker": {
             "colorbar": {
              "outlinewidth": 0,
              "ticks": ""
             }
            },
            "type": "scatterpolar"
           }
          ],
          "scatterpolargl": [
           {
            "marker": {
             "colorbar": {
              "outlinewidth": 0,
              "ticks": ""
             }
            },
            "type": "scatterpolargl"
           }
          ],
          "scatterternary": [
           {
            "marker": {
             "colorbar": {
              "outlinewidth": 0,
              "ticks": ""
             }
            },
            "type": "scatterternary"
           }
          ],
          "surface": [
           {
            "colorbar": {
             "outlinewidth": 0,
             "ticks": ""
            },
            "colorscale": [
             [
              0,
              "#0d0887"
             ],
             [
              0.1111111111111111,
              "#46039f"
             ],
             [
              0.2222222222222222,
              "#7201a8"
             ],
             [
              0.3333333333333333,
              "#9c179e"
             ],
             [
              0.4444444444444444,
              "#bd3786"
             ],
             [
              0.5555555555555556,
              "#d8576b"
             ],
             [
              0.6666666666666666,
              "#ed7953"
             ],
             [
              0.7777777777777778,
              "#fb9f3a"
             ],
             [
              0.8888888888888888,
              "#fdca26"
             ],
             [
              1,
              "#f0f921"
             ]
            ],
            "type": "surface"
           }
          ],
          "table": [
           {
            "cells": {
             "fill": {
              "color": "#EBF0F8"
             },
             "line": {
              "color": "white"
             }
            },
            "header": {
             "fill": {
              "color": "#C8D4E3"
             },
             "line": {
              "color": "white"
             }
            },
            "type": "table"
           }
          ]
         },
         "layout": {
          "annotationdefaults": {
           "arrowcolor": "#2a3f5f",
           "arrowhead": 0,
           "arrowwidth": 1
          },
          "autotypenumbers": "strict",
          "coloraxis": {
           "colorbar": {
            "outlinewidth": 0,
            "ticks": ""
           }
          },
          "colorscale": {
           "diverging": [
            [
             0,
             "#8e0152"
            ],
            [
             0.1,
             "#c51b7d"
            ],
            [
             0.2,
             "#de77ae"
            ],
            [
             0.3,
             "#f1b6da"
            ],
            [
             0.4,
             "#fde0ef"
            ],
            [
             0.5,
             "#f7f7f7"
            ],
            [
             0.6,
             "#e6f5d0"
            ],
            [
             0.7,
             "#b8e186"
            ],
            [
             0.8,
             "#7fbc41"
            ],
            [
             0.9,
             "#4d9221"
            ],
            [
             1,
             "#276419"
            ]
           ],
           "sequential": [
            [
             0,
             "#0d0887"
            ],
            [
             0.1111111111111111,
             "#46039f"
            ],
            [
             0.2222222222222222,
             "#7201a8"
            ],
            [
             0.3333333333333333,
             "#9c179e"
            ],
            [
             0.4444444444444444,
             "#bd3786"
            ],
            [
             0.5555555555555556,
             "#d8576b"
            ],
            [
             0.6666666666666666,
             "#ed7953"
            ],
            [
             0.7777777777777778,
             "#fb9f3a"
            ],
            [
             0.8888888888888888,
             "#fdca26"
            ],
            [
             1,
             "#f0f921"
            ]
           ],
           "sequentialminus": [
            [
             0,
             "#0d0887"
            ],
            [
             0.1111111111111111,
             "#46039f"
            ],
            [
             0.2222222222222222,
             "#7201a8"
            ],
            [
             0.3333333333333333,
             "#9c179e"
            ],
            [
             0.4444444444444444,
             "#bd3786"
            ],
            [
             0.5555555555555556,
             "#d8576b"
            ],
            [
             0.6666666666666666,
             "#ed7953"
            ],
            [
             0.7777777777777778,
             "#fb9f3a"
            ],
            [
             0.8888888888888888,
             "#fdca26"
            ],
            [
             1,
             "#f0f921"
            ]
           ]
          },
          "colorway": [
           "#636efa",
           "#EF553B",
           "#00cc96",
           "#ab63fa",
           "#FFA15A",
           "#19d3f3",
           "#FF6692",
           "#B6E880",
           "#FF97FF",
           "#FECB52"
          ],
          "font": {
           "color": "#2a3f5f"
          },
          "geo": {
           "bgcolor": "white",
           "lakecolor": "white",
           "landcolor": "#E5ECF6",
           "showlakes": true,
           "showland": true,
           "subunitcolor": "white"
          },
          "hoverlabel": {
           "align": "left"
          },
          "hovermode": "closest",
          "mapbox": {
           "style": "light"
          },
          "paper_bgcolor": "white",
          "plot_bgcolor": "#E5ECF6",
          "polar": {
           "angularaxis": {
            "gridcolor": "white",
            "linecolor": "white",
            "ticks": ""
           },
           "bgcolor": "#E5ECF6",
           "radialaxis": {
            "gridcolor": "white",
            "linecolor": "white",
            "ticks": ""
           }
          },
          "scene": {
           "xaxis": {
            "backgroundcolor": "#E5ECF6",
            "gridcolor": "white",
            "gridwidth": 2,
            "linecolor": "white",
            "showbackground": true,
            "ticks": "",
            "zerolinecolor": "white"
           },
           "yaxis": {
            "backgroundcolor": "#E5ECF6",
            "gridcolor": "white",
            "gridwidth": 2,
            "linecolor": "white",
            "showbackground": true,
            "ticks": "",
            "zerolinecolor": "white"
           },
           "zaxis": {
            "backgroundcolor": "#E5ECF6",
            "gridcolor": "white",
            "gridwidth": 2,
            "linecolor": "white",
            "showbackground": true,
            "ticks": "",
            "zerolinecolor": "white"
           }
          },
          "shapedefaults": {
           "line": {
            "color": "#2a3f5f"
           }
          },
          "ternary": {
           "aaxis": {
            "gridcolor": "white",
            "linecolor": "white",
            "ticks": ""
           },
           "baxis": {
            "gridcolor": "white",
            "linecolor": "white",
            "ticks": ""
           },
           "bgcolor": "#E5ECF6",
           "caxis": {
            "gridcolor": "white",
            "linecolor": "white",
            "ticks": ""
           }
          },
          "title": {
           "x": 0.05
          },
          "xaxis": {
           "automargin": true,
           "gridcolor": "white",
           "linecolor": "white",
           "ticks": "",
           "title": {
            "standoff": 15
           },
           "zerolinecolor": "white",
           "zerolinewidth": 2
          },
          "yaxis": {
           "automargin": true,
           "gridcolor": "white",
           "linecolor": "white",
           "ticks": "",
           "title": {
            "standoff": 15
           },
           "zerolinecolor": "white",
           "zerolinewidth": 2
          }
         }
        },
        "title": {
         "text": "Base"
        },
        "xaxis": {
         "anchor": "y",
         "domain": [
          0,
          0.08200000000000002
         ]
        },
        "xaxis10": {
         "anchor": "y10",
         "domain": [
          0.9180000000000001,
          1
         ],
         "matches": "x"
        },
        "xaxis11": {
         "anchor": "y11",
         "domain": [
          0,
          0.08200000000000002
         ],
         "matches": "x",
         "showticklabels": false
        },
        "xaxis12": {
         "anchor": "y12",
         "domain": [
          0.10200000000000002,
          0.18400000000000005
         ],
         "matches": "x",
         "showticklabels": false
        },
        "xaxis13": {
         "anchor": "y13",
         "domain": [
          0.20400000000000004,
          0.28600000000000003
         ],
         "matches": "x",
         "showticklabels": false
        },
        "xaxis14": {
         "anchor": "y14",
         "domain": [
          0.30600000000000005,
          0.38800000000000007
         ],
         "matches": "x",
         "showticklabels": false
        },
        "xaxis15": {
         "anchor": "y15",
         "domain": [
          0.4080000000000001,
          0.4900000000000001
         ],
         "matches": "x",
         "showticklabels": false
        },
        "xaxis16": {
         "anchor": "y16",
         "domain": [
          0.5100000000000001,
          0.5920000000000001
         ],
         "matches": "x",
         "showticklabels": false
        },
        "xaxis17": {
         "anchor": "y17",
         "domain": [
          0.6120000000000001,
          0.6940000000000002
         ],
         "matches": "x",
         "showticklabels": false
        },
        "xaxis18": {
         "anchor": "y18",
         "domain": [
          0.7140000000000001,
          0.796
         ],
         "matches": "x",
         "showticklabels": false
        },
        "xaxis19": {
         "anchor": "y19",
         "domain": [
          0.8160000000000002,
          0.8980000000000001
         ],
         "matches": "x",
         "showticklabels": false
        },
        "xaxis2": {
         "anchor": "y2",
         "domain": [
          0.10200000000000002,
          0.18400000000000005
         ],
         "matches": "x"
        },
        "xaxis20": {
         "anchor": "y20",
         "domain": [
          0.9180000000000001,
          1
         ],
         "matches": "x",
         "showticklabels": false
        },
        "xaxis3": {
         "anchor": "y3",
         "domain": [
          0.20400000000000004,
          0.28600000000000003
         ],
         "matches": "x"
        },
        "xaxis4": {
         "anchor": "y4",
         "domain": [
          0.30600000000000005,
          0.38800000000000007
         ],
         "matches": "x"
        },
        "xaxis5": {
         "anchor": "y5",
         "domain": [
          0.4080000000000001,
          0.4900000000000001
         ],
         "matches": "x"
        },
        "xaxis6": {
         "anchor": "y6",
         "domain": [
          0.5100000000000001,
          0.5920000000000001
         ],
         "matches": "x"
        },
        "xaxis7": {
         "anchor": "y7",
         "domain": [
          0.6120000000000001,
          0.6940000000000002
         ],
         "matches": "x"
        },
        "xaxis8": {
         "anchor": "y8",
         "domain": [
          0.7140000000000001,
          0.796
         ],
         "matches": "x"
        },
        "xaxis9": {
         "anchor": "y9",
         "domain": [
          0.8160000000000002,
          0.8980000000000001
         ],
         "matches": "x"
        },
        "yaxis": {
         "anchor": "x",
         "domain": [
          0,
          0.46499999999999997
         ]
        },
        "yaxis10": {
         "anchor": "x10",
         "domain": [
          0,
          0.46499999999999997
         ],
         "matches": "y",
         "showticklabels": false
        },
        "yaxis11": {
         "anchor": "x11",
         "domain": [
          0.5349999999999999,
          0.9999999999999999
         ],
         "matches": "y"
        },
        "yaxis12": {
         "anchor": "x12",
         "domain": [
          0.5349999999999999,
          0.9999999999999999
         ],
         "matches": "y",
         "showticklabels": false
        },
        "yaxis13": {
         "anchor": "x13",
         "domain": [
          0.5349999999999999,
          0.9999999999999999
         ],
         "matches": "y",
         "showticklabels": false
        },
        "yaxis14": {
         "anchor": "x14",
         "domain": [
          0.5349999999999999,
          0.9999999999999999
         ],
         "matches": "y",
         "showticklabels": false
        },
        "yaxis15": {
         "anchor": "x15",
         "domain": [
          0.5349999999999999,
          0.9999999999999999
         ],
         "matches": "y",
         "showticklabels": false
        },
        "yaxis16": {
         "anchor": "x16",
         "domain": [
          0.5349999999999999,
          0.9999999999999999
         ],
         "matches": "y",
         "showticklabels": false
        },
        "yaxis17": {
         "anchor": "x17",
         "domain": [
          0.5349999999999999,
          0.9999999999999999
         ],
         "matches": "y",
         "showticklabels": false
        },
        "yaxis18": {
         "anchor": "x18",
         "domain": [
          0.5349999999999999,
          0.9999999999999999
         ],
         "matches": "y",
         "showticklabels": false
        },
        "yaxis19": {
         "anchor": "x19",
         "domain": [
          0.5349999999999999,
          0.9999999999999999
         ],
         "matches": "y",
         "showticklabels": false
        },
        "yaxis2": {
         "anchor": "x2",
         "domain": [
          0,
          0.46499999999999997
         ],
         "matches": "y",
         "showticklabels": false
        },
        "yaxis20": {
         "anchor": "x20",
         "domain": [
          0.5349999999999999,
          0.9999999999999999
         ],
         "matches": "y",
         "showticklabels": false
        },
        "yaxis3": {
         "anchor": "x3",
         "domain": [
          0,
          0.46499999999999997
         ],
         "matches": "y",
         "showticklabels": false
        },
        "yaxis4": {
         "anchor": "x4",
         "domain": [
          0,
          0.46499999999999997
         ],
         "matches": "y",
         "showticklabels": false
        },
        "yaxis5": {
         "anchor": "x5",
         "domain": [
          0,
          0.46499999999999997
         ],
         "matches": "y",
         "showticklabels": false
        },
        "yaxis6": {
         "anchor": "x6",
         "domain": [
          0,
          0.46499999999999997
         ],
         "matches": "y",
         "showticklabels": false
        },
        "yaxis7": {
         "anchor": "x7",
         "domain": [
          0,
          0.46499999999999997
         ],
         "matches": "y",
         "showticklabels": false
        },
        "yaxis8": {
         "anchor": "x8",
         "domain": [
          0,
          0.46499999999999997
         ],
         "matches": "y",
         "showticklabels": false
        },
        "yaxis9": {
         "anchor": "x9",
         "domain": [
          0,
          0.46499999999999997
         ],
         "matches": "y",
         "showticklabels": false
        }
       }
      }
     },
     "metadata": {},
     "output_type": "display_data"
    },
    {
     "data": {
      "application/vnd.plotly.v1+json": {
       "config": {
        "plotlyServerURL": "https://plot.ly"
       },
       "data": [
        {
         "hovertemplate": "x: %{x}<br>y: %{y}<extra></extra>",
         "name": "0",
         "source": "data:image/png;base64,iVBORw0KGgoAAAANSUhEUgAAABwAAAAcCAAAAABXZoBIAAACN0lEQVR4XgXB2XbjNgwAUICAuGhxbJ+ZPqT9qP7/c9JmlqS2KImLSKD34t+278hv/5r52/2OZbnl92i6fb2rEIso8XAfrJ8CgaO4HuCh7yD2wmftQuqdtwaaiDlXCTOl83f2hTW3xuiJWRIhKNEQFoQjbUdmZELjJmnSmhmtkwbfr6Xtp7TCjELDy5ziXvrA2My0/Ol+onGwZQ57ofkPa6qqIlSx1lE5ZPaJPF8lCXkeZu9rmHpWwsfjF74QieeblJw+3cneRxjuKkv49fE5jwg9cawAGyxhtIUaviwc8tveIedjW/ndIO2pfp9bUVT3guXzP/VU0/rM/DEGKNs5WICJZ1PS14/NwCkNHXA81ZOex9NNy8tVPx5xl5bI4WVcGWvjRUxdLwGny57TCXo8hjDcx8zdkbFTLUDGagA/D3EtBQjQeq7fXufHVtlR7x0Y1LhxEs8GxDNMr1d936+3m53x2bYvQ+7q7Nl6JV7MYUXU3v4arUn7GgeTMZhG1JXn+s8jm2mZllljPqo5TwjDmfXsyJeyPksZR+fs4y2CEJC7uP1IZZj49jzSgWCs1fj5GDzbC3EXADMt7FwlT1broVHtMHoXUkyldOw7CyNaN+NqWwwjTwFL/J2M8Sgr/5BDrF9cej/NEoh1+3qsLQQ/1Mo7wjRNM28RlqKAEJ+HQoFAZ+WL8ByIrMtSiygxDlbroYPGJxOGYEpnoqMoCE6LBdM7GVHh5LRQRmhfH+fsiqgdvSWFrob/Bz+bYKv0pjOOAAAAAElFTkSuQmCC",
         "type": "image",
         "xaxis": "x11",
         "yaxis": "y11"
        },
        {
         "hovertemplate": "x: %{x}<br>y: %{y}<extra></extra>",
         "name": "1",
         "source": "data:image/png;base64,iVBORw0KGgoAAAANSUhEUgAAABwAAAAcCAAAAABXZoBIAAACTUlEQVR4XgXBV3LbMBAAUAC7KCwiJVlWnPrj3P9GmUxmYjtuMptIlAU278mfn4/b2JyNwOS15RihjXOKs3cW8MQLVzZGoznRSmg0ymvkCiwwdiFibUoqvC4lq1ZLoWQWgFwyomAlE5GwTmSoHMhSwMQYhQZkjcWTgN3327KUWsclhB2MkzAOcdPI2Xb7rz9/qMe5duv75Z3dTMI1Egcnsepuvtz/OJM3+3bpevlMKeeUGHNWralcU8kQYwGH7R5Azo5kiKhN1Wq3vzHjuD5Mb3e7fncndBJRxoQHwSSq9rZ9fXp5urjTl/ub7PbHbYrhiqetrK5IVMufN7+9/3ulb0aYRkfPgI63FazNy8vjWrvrjH/VuWu6SpDrUQm6MgGFaVxZWvIPbPemqauFaiwsZQoUVp+8rPfNPOInskpXao5IjG3VaaKUOereZW+Nta52NmpUTPZ029kIUpBfDPaHxjU1Fn1TK4OUddu3IECK+DGSUlwYmKCpEas5l5LzEBoZfRDGWl2WMaBVBSeAdJ0+5NZ+n6eF7PHz+aSHhyElD/h8rP310lrzVc1jkOZw7jsMw7gFn3E91MUPfVvddiKllLujSsP75bJlv2GOIcXxrdSHO8d+WNouXn7/enpNlgVKrwtP7M3g7DatYQvb099LiBtXLXZACvOYxXaQH1c0DtfpI5hOsUDsMivMeQkvjt/CbmdKIC6k+ywBs5SgyuoLVmIkThpTBpGK0xKQDKAM4aoMgJMWmbmIkgtZBARZBIeNnBJSG1u2UCRHVpkV/gfbUn4aJKMuwwAAAABJRU5ErkJggg==",
         "type": "image",
         "xaxis": "x12",
         "yaxis": "y12"
        },
        {
         "hovertemplate": "x: %{x}<br>y: %{y}<extra></extra>",
         "name": "2",
         "source": "data:image/png;base64,iVBORw0KGgoAAAANSUhEUgAAABwAAAAcCAAAAABXZoBIAAAB80lEQVR4XgXBWZLURhAA0NxL6sVgwv7mj/sfbCAM0y2pKje/hz++f0EO977dwUv418d+A+lJ9xvIN2koxjxSB0SDPswgVmKkyDea3WzYkcSM/LSkjEX5zrtgVTZTG/d1xjCzyNmIXT7lFBNQPRuvz1MkYe9VhpXbw2T1pr2PXARljy9qFgBk2fbchNdbgMfGo9T+eVb28uoqqADRimjR/YnXGn//Oz/+XPOc2e2vlFHIWXO3qC77Ov9krnMCtr8P2VdbQ3iFI3iSSIdar9UVggzWyejvizEWczvedXUNdllJXWAyDxj3mwCsizguJ1Ui91gzIWcx6U3n65gdhwM2qnj3CuyF2EUGxytMswaykQsKArWLsm5/PYwyqqJ5DL6WmFAXsRKQbPs++ryCM6z9WjI2qUUbVbU76DBy2moJULNgeC4ECRIxacdBTt0TrFtqvTw4R9u47br+e6MEMtR1rRSE8sjLAWXfaM0Ft7xR5Hm1SsAGTuUMZHcpJB209XXEspt8GilTo9GKnIt3ZJGqS1RYGpkRPNFfH9tRZasCAPVuSGJMPPg4yutn/NZ5fF6iiKAEJUCEMohieedUP1/L1Nuoq6VJVYqf8XvWQrqiELFnW3lKgz7gM3ZhBm88k2qxFAGSS4mpn0ePSJgTFnKQKneQ9v+C9npuqNAMUwAAAABJRU5ErkJggg==",
         "type": "image",
         "xaxis": "x13",
         "yaxis": "y13"
        },
        {
         "hovertemplate": "x: %{x}<br>y: %{y}<extra></extra>",
         "name": "3",
         "source": "data:image/png;base64,iVBORw0KGgoAAAANSUhEUgAAABwAAAAcCAAAAABXZoBIAAACG0lEQVR4XgXBC5YTOQwAQFmSZfdvkgGG5Qp7/0vxgEeSSbrbtmSZqvD/R87f4Ne9581hu+D9hRy87nzpD54opVILpJl1lF0bLDFbtaAhMfUA96eOKByg/qk5mSYMoC9ELmhjtwmFiVwJp4mDWrNmSbgzar98jBM5ynW9cxrYjjpQZuLrQkrLV/p0lPf44hq9nQUnnwj4+7kDU9qm82h7PBUWfhTmoaMxr7d9WmeZox5/h/gzv1/gVUlUe2AYNvIa46i/f/YlW3SZrEgkgM5/MTPhoNRun8RpzsMhZnHtXnmfpii9nnCcKGnZKGK+CtaT+GQDWWNr1Vta3uY5AbO8hVFUJuLq2zRqXHH5IZcNaueQZnWJAzaW3nZQx2n+4dM17C1iXM4zbu7AXw4KWB645bkFQ+66M88NOHTnRULGXgs7GjXCWnefMJgyBLbIMsTBHHTInCAE8P12H4LM1aiH7jYwGKzfqPqy1fI4c9DC0ouFVjsjU/z4r95gXUyNBWrh1JpiH623GRNYq2PHwTK0vSqfIfSQc1ezOda7lfJcMknVasKPBbvLCkcBin72/ebLeweQmInfuBvmFRnuR73m/rwPyMEwz648dyOGijR/Pi2Qdzc1DHlKHrgAUd9boJCBsbssllCVbNfOiyEUIPjUmAmbeka2oubgg9/37oLSbV+odHEL3poFjiLILtoEtXbAcfiWWY+RUVLOX6d/fOhf/Dbq6YYAAAAASUVORK5CYII=",
         "type": "image",
         "xaxis": "x14",
         "yaxis": "y14"
        },
        {
         "hovertemplate": "x: %{x}<br>y: %{y}<extra></extra>",
         "name": "4",
         "source": "data:image/png;base64,iVBORw0KGgoAAAANSUhEUgAAABwAAAAcCAAAAABXZoBIAAACdElEQVR4XgXBCW7bRhQA0PkzfzYuWihZkuVsRoIACdL7H6OAi6IoUMRxEktxZJmkRIrDWfseqE+bc6fn+Xx2+BdWE7z0ItXeHzotIm7hZHmhknPWu9+tpIBMEn5Vcgi4TB5kqS7tWHvXoFKZyKKF3MQEuHSQiO87GtTbZBMQiDhx5mKC1jgfnO0HBll1s/KNS5c2GUKG45gJhcFZN8JiezV7/6p5TMo8180YrYmynOIx8Jzz9cet3sxpQG1XzbfnUakhhIhWLcrEq821KHWIjFM6qF0bO3DNiFk+1al8dbt2dDg+kdn1KoE+mB4GY3AZjQu62lbtfvf1p1v9kU2LKjWd9a5DNV4cvRJKuPu/fx+OqsObSIvly57mBCMx/aQs6Ph8v3OhPSi5vd7IQqVYTFGnaDKVmfrx6ZQsI/Xdw+esBCJoZCiDHjmxzXFXn1OsQjycpu+zBIL2I55GJyfStnU9ssSLeCKFZoyhwADY9o28KXgIjghKRRByORWck8EJgcPl7B1wgYmEED1ELQQTEx0cBBRaC5qoYGIC7Qsruc4zEWziHDyynACLbLLpxcPxXJTr9ayCp++PDiJiW13Z4ditN5S1ev3my7sF52T/335ILuG5yN0TmWXTrHpbZh9u13o4Pf7av8RgPNo6jMc+g9tq/pktriXH7ueffx2GkJxHd7KoyK9//OspZ2D6GL/d3T04O4DMUVKQEuX5vi6ZLybA/I+HJiaIQWkUgivG0e5+0HDRC8lD5/S899QKikRrjGQcBkeTwQsCo0oFj9rHhCDLZLxpjScCMaQogRFHKdOeIAk2DMZa17uiTJbEQCE5LokE/B8J93QGJXIg/QAAAABJRU5ErkJggg==",
         "type": "image",
         "xaxis": "x15",
         "yaxis": "y15"
        },
        {
         "hovertemplate": "x: %{x}<br>y: %{y}<extra></extra>",
         "name": "5",
         "source": "data:image/png;base64,iVBORw0KGgoAAAANSUhEUgAAABwAAAAcCAAAAABXZoBIAAACRklEQVR4XgXBi3bTRhAA0J3d2ZckS7bBoSX0FD6L3++BhKT4JUva9wz3wvfX/+vpc3nJx854CvD3p8vb7d4969uPX5hMz70q/vBB1Jyb4y2SshCpQIdR92RqbGhLSYsQa9vIIdO6sEcuJDKT4sDGW+HFdfMHym1bM2HKTAHRWKH3o1S0/FeHv9L77bwIgcGIx6rsBKy8VcTDcxtdDueHRMCDT1kYwYk6Gea7fv5q0vzgSYNgfJJrZV8LmcPx+vayO3zp10eAU16WgoalJjtlcTypx+UuM7gmGLXKHJBZKNB7AR/t5dc5CjRqeZsNNaEsPjRgE6z7fQkhNEGR31/PI6Rr9Ph7VDkTugm3IrWyNSqqJejWzIRtBVFFACmWS+7s077z/XCryRyURVeb683oZYtL6aanIyxRtMj9aBISam06r2rMTXZdi6YkYRU0AoWPfmdbUDvZ2DSV3vVhzHsf71TcJHMDw9cLOAEe5vsa9ICAGurGA6LISUoCIOU4+nGy5XGNXAkVoYGS/AdtWBol3enbP3ZeSAKyx4w7ErF1zvVat7P49O/HdL4mUMQSFepGcd4MTsOocji59ff7/UKGlR09MnOLeVjizu6+NXmZb+d1CYMDZsIicm51fumkSpP8+TNwKKydL+uKWESGjuX6g03Zy9cXNIy97GGd7w6HTXoHGu4w8ZxeQ5eK0LLmROuGPhjvpOJGLd8ewUKpXAuBM3XBtWEuxilj0pLlYDGx1Gs0PULA2apQPMjebMEeoTRq6MPMGkX5A/TcgRZuwRGGAAAAAElFTkSuQmCC",
         "type": "image",
         "xaxis": "x16",
         "yaxis": "y16"
        },
        {
         "hovertemplate": "x: %{x}<br>y: %{y}<extra></extra>",
         "name": "6",
         "source": "data:image/png;base64,iVBORw0KGgoAAAANSUhEUgAAABwAAAAcCAAAAABXZoBIAAACUklEQVR4XgXB2XLbNhQAUNyLi4UAKYmMHCvpQ2fap/7/93SaiZtUiWNL4oKNWHoODM+6/x0DHo7tvxc28cejO+8ot4DbN1JCwqwQfKk+RqaYEiik5J1rPf028rQ2u3sO/HBP3CgumuxUCvZMf6q0Rmx7amKSbSeolUMJLNTThWxttZUM7Q62PySoq1uIEUt8OJJnwFNB3URtZKlC274nNYp2HM8UpWlLpQOT9WSApeEy/P0GAEIBp4gojTh/pL4+mXibp8tn9dUTSzdeqHnBxGmc+hFGlYb5+Kmk8FqrX3Mm6zaopFmxzN1ZNsc+d8qwkpklEio3afu6mvu3RZmDtmHbm7RCHiRxLEx3ZvHp+rL0T7bMj2WPoIwER7YE5FTuN/j5Kwh5OOa3W1WCIdRCOhWU7tf7W7l50Ebz+fXG+g55h5FQQKtLnO/QDfZy6d7//blZAahlrrSHB4xCwM7HaXr+2P75cVsqAwy8NHosK+iecVG96/GUWy6hZIkbqI781kT1TYyxbGsSpPTgwmJ4QYk07FUSU9Pz/BZC8CQ6I7YMHRBndGit5ERngfcUo+u4NmbdmOk5Im6ZeHi95xYdO31+knVPZBQp1WKhF4boZ2769zz+8dfly/J+vTFz+EDznmghrgbJrtKhnSZYfdoeauplaVwTKtmNND9cVXW9pi+hGwvwsLv4wRLqQWtdPaDYv2P8GthoSil+ZqTJmKOqiSnBpHRXSD4Vq/aAhMpRAyXnhKrmykJUue4OB8kl49XRm27p4YxAsUfvNECLDoxltcX4P8h9XJMup8zuAAAAAElFTkSuQmCC",
         "type": "image",
         "xaxis": "x17",
         "yaxis": "y17"
        },
        {
         "hovertemplate": "x: %{x}<br>y: %{y}<extra></extra>",
         "name": "7",
         "source": "data:image/png;base64,iVBORw0KGgoAAAANSUhEUgAAABwAAAAcCAAAAABXZoBIAAACQ0lEQVR4XgXByXIbNxAA0EajscwMd1JSUi77kK/Ip/jnc3AOqVgJRc1CLI0G4PfUd3PEOZB9/NtudqtGkmM6trm/3DS5GvszAK1NMba1a+1H0FaDS0wiKDEIsrWIU9qKBwThpnNiqmIAlCEEXRSBNFertNTHETK5hrQbRzMvFZU06AglFvDjrjAZUXSwEznHzerzY9nvWUu3VnVNXAvuyU3DOSd78vPduBR5WZNIJ5OyR3TH1vJ70ZfrG0AITEGhRtqHynGncmR5plZd08bZ+LM71yw9nrwo87ivRff6OXex17cprotG0PSQLjX8F8HtJwxP6TWXkmtLWDNNsTifP/i0O13UMhhbVQI4f0qFTJ1FY+7D7e36UnfKtcfHnN04rNV72qLkTe3sYL3H8eA+I9aQgus5TeQKqkTepP950/33b9ctApfuVVlWekWGJKrJtvyzbl/+/OM0l86cKkIi0iXDwCvgKPek/tLenOpjDp6cpo25ns/LmhwJvv7GP47XM8xkXHWGNvRwnEJl8Gr/ut/mfNl5bZQVF+npDJFwUwA00DKD+ulBYw2VhUwXQ2Z8aWQrhCRm/QGeyqp19TRxUTj619Lbyg1GE+/TrWYZrT+RNFVz3xnOwWE1JBV7K61n1EIfhHmDz8PxYGxJSrNB6go5ZjtT17qlJ++/3qw13K3Km0p4jCtQpwu1qjkvfy/DdLYde6tlk+FUzY7IqDY4MTnGAz+bpmcg/UymIuRED2UG04bxEVR9347Te7i47U5etY1/AVcwgwKYR/gmAAAAAElFTkSuQmCC",
         "type": "image",
         "xaxis": "x18",
         "yaxis": "y18"
        },
        {
         "hovertemplate": "x: %{x}<br>y: %{y}<extra></extra>",
         "name": "8",
         "source": "data:image/png;base64,iVBORw0KGgoAAAANSUhEUgAAABwAAAAcCAAAAABXZoBIAAACXUlEQVR4XgXB2Y7bNhQAUC6XqyRLju1ZEgyCeUgK9Of6yUUzM00TS95kSiQvl55D/zpfcoxDW8joek3DIuTtwlrqw+UHQJOC0OJ2Yal4QpNuZE3I2h7lCl500sc4Tf3AuUieVGJo5BKUtPBLKlVjNYNQW4lzCrWxBiupVVO4FL2lmHe70X3qkGaURlaSfRQiA4n3hV/y8yAK1Ts8MMPXeb3P1/ZhgGecnDtyU8nD88EsttNp3uTT6lIBeGTNiLyRdfPtCacjT2QuG1Yo5GsERbRpHwzww4v9eH+T13DWT+TjgxpOATFWq+spSsDbdNPKLyzg5PZb08Ebyaj5vLb7xsVMxVAliyttFJctjAxlX714/fPz727bPH6t//6cbmuJQa7Q5ZXzwrevr319wv6P/Rh/LlfPeGcMyMwj2oM6GLX5IvoXcRGNqEJbLSSsHO7n2mzIXGYk13/UvXmcFmFEGj0sUKJfBz7+sOfx5NTL50e/jZnDPRXIPrqMSKAOy3R20H0X/7G6alkJQFgiCiXJ/LGUy0wkzSxiESIlGsFytLqVkvuJFiCGL+noZFNurCmw954qglFzUpWEw4Cn08qon20vgRPCy4otI4SbbvckTr+rTTFw3T4AIkJJRDcl8k+vg5jef8HuNktreQu3EHUnAigT2OHg3o7HwHktNYTcQCw1S1li3nMn5r/fK1M113Id044wI1hwyCvWmtw4RQG1YKJlWVIAiIwsyBQ5LqsX1+Bd7cJSbL8AA1eAITMbG04uS+/P914GD7ZPBcFrHj2zPUflqeS1kIqFKRMdLf8DXH6BHUKxd+sAAAAASUVORK5CYII=",
         "type": "image",
         "xaxis": "x19",
         "yaxis": "y19"
        },
        {
         "hovertemplate": "x: %{x}<br>y: %{y}<extra></extra>",
         "name": "9",
         "source": "data:image/png;base64,iVBORw0KGgoAAAANSUhEUgAAABwAAAAcCAAAAABXZoBIAAACZUlEQVR4XgXBh3LbNhgAYIyfIAaHRKmulZzv6vTc8VJ9716TDqdWMxxxgcQG+n34t/9e1C9iWoKvDoyaq/iJr6/68oimm4eEuQp22qkQdUXTsW8TKjGGknCGBfVnPkUiZPGpBMKQ3UOOm9EhwlXVgNnAWqYdSGx5dA4xEr2HDl4ueFKy6S/dtrID1mkyUEuRYuYDxBRGfD6ef7ikyVP0lv7rtYc8rSHO8GaoAq9wMB75T2P19Ia6cXFGG1hfoSNYCqy/zd/AfP6L4OOd/mdajcngN3gBeQLwi54qGina9kG0clc8V4jDIoAIcMy+hPo4SGV0IQFLEjM0oGqGcTabW43k/ekAtO8JQa4EV+CQcDLUfN1CkVXdnbtWLR+vOZdQGDSWVtYuu8GM1pAwNuzyKxpJ3JMEoADrzUJb1Qqtdu7F3f39568u+9IAYIrNLQ0SY+y9+ajO+L5l+41m0QCuCOPJN2LcscrGbL0Ck0pAIHtgOZSmDoRMu0tp06xrlz+vq8W8a4BjkizJgQKkhLn88ek0/v37p8SA7qCYLA5b15wUa/nD3dsH5p0tNQrawOOqXabc93esYuTw0JTn97MiOTs9Q0tiYMOxsOHQ5zH7eX3+MHHurBm/wIxJTPi7Hprh6Mj1D5vmLZKSVT1psDTlYjYleVnt9vphFhXCEKFN/QBxXyzZnq/9hUW0v043oUzgddvPzROgLzNFy3vd/HzKjK4+VMk72rCKHc4Qxk3acQrn78VmWUpMCe2BzZ6/O8EacXbG45rX2xaFoMjYENfIL8MjIEFQJnUB0aUslL6Nu6PR29CF6n8+YH3YeH+EKQAAAABJRU5ErkJggg==",
         "type": "image",
         "xaxis": "x20",
         "yaxis": "y20"
        },
        {
         "hovertemplate": "x: %{x}<br>y: %{y}<extra></extra>",
         "name": "10",
         "source": "data:image/png;base64,iVBORw0KGgoAAAANSUhEUgAAABwAAAAcCAAAAABXZoBIAAACcElEQVR4XgXBy47bNhQAUD4uKZESbWks2R03GCRBFtkUKNBV//8HWmSfRYKxOxnbsiU+JD7EnoP/PpSLsP+81kXym/3uWb19e7RNKaqub6DkZJ3SsYPkDRT0drYBno6Ytw2+A7IQHNkrrK3BNR0upOo/vqBc0ccdtjljUqiGiJEQlbTEVbfbIDNHE+HZGlSrcgnzFJXI5JCycG/gXCQliGhBVHF6jI7xxD70yK2Tg8UswIGXEknwwToXs1L977Csy/Q4E4IINDgFHFexo1h9+qOmtZiNeDoNkXgLwqLZZCS3jfvtr6/crZSMS6W6PIcZvnv9mEHCk2T9lw/54XziwGt1zYDg3w0aZ0WLti+p+eUNSkFGZ9zCsgZNcUIp48y2/jrefUNJvb4P98DsL5AUi5KwdVpqcr2fTKwwSvezDYA40MhZiMF7XNRo1GPLw4zNNK0FO8C8YB59xHKxbf/OJZ7uDpvZIkAJzArBO8wo56rvPmv3etYeCxKjuQClFdcr0kDlgbGX6/fxMdpqi23UFzg6UdCCsHaTroxgxgTLrAazIJfgOAIjsmqOavnvop5lpy+EgXcZg4JSByZz96mPP37emz8/Pg2iQBBTClnAcF1JVe768vz64zEeOpYSBk4T1QnDoCOjm3pdcMHLgq+3i3aYNm2jhxEY14NS+4Y2BN3UDg+XcUpLbFuZJvA52VB2fQqHua+23mYmM1gq1dbBKYf5/e0U1tkLUYSbkS97jLS3QCUghpf5VLQIlTkmM8ylqhGW42Q4glxsl/Q4DW6tymW0vlAJ56pGdiI1XIigwQy3N7Pdh7Mrd+tKE6dYBNX/D1iubtSL/yloAAAAAElFTkSuQmCC",
         "type": "image",
         "xaxis": "x",
         "yaxis": "y"
        },
        {
         "hovertemplate": "x: %{x}<br>y: %{y}<extra></extra>",
         "name": "11",
         "source": "data:image/png;base64,iVBORw0KGgoAAAANSUhEUgAAABwAAAAcCAAAAABXZoBIAAACaElEQVR4XgXB6a7TRhgA0Plmvlk8HttZbm6aUgTiBxLPxUsj0VaF6IITJ87ifdaeA1976juG/bl9/cKbju1FfV+vA6hcS7ScJLU4fVAZcSEzIibKgGOl+iMqHGz0WAmzDIFUuXeJEUsVT0NDt1lyIYXES2yvtDIioaLWE/sYAsZgmO8e51m4MRJRGQTglqR+sAp/FRUf3PlUHVClsljJ8uZ9O47Jqwwb6fphtg50YciHj+sMuvtlaKc8FxyFf3S3ti8qWZT8/ScTxWal3XQDETxqR8hwZRIW9qJyf7uBkls3xbBEgkvUBDNKsXx9x23d1HPxvpoTcSmrcI4pYhW42R/Wy+VY97ZLvKknSSaJJvjJAhDg+Hh7O9uqlLH5cVM6dHcUdnGzB25weh6fcvfpNZwGiTRFG/DhrLV889e7PDBDyo+f2XEh+QJAOEVMxBG5fSl40jtQL5vTv99GdiBxsB4PncXFL31rTRZ9JGP9z/f4xx6WECQe8B4KF9pOv+6C2fLLj/9+AkPqk1GodM9XIV6iAbX+cx0u9X3kcwuJ8oz+brspkbHt3DzwfdnXvVytypyTYEf8e5plAQkzJXXBh/OpJ5yKYg5AZ6wjW+1Fm+n1bsMvzdt9XAJ46yHLGfZa52aToflQ0Ed3uoyBlVrMC8syhZhrd42k2BxMez81g7VMV8K7EOOC6zz1djLbkjIJy+wCEQDKP56UeLrlc29DIGkOuZaUm03u+hi6pxcFEu8Cx9Bz4CoCgnZPyxIwSXmJDXil7DBbC/ntYcEOFoXEHXn+zPBYlCW9OsNXZL5fE598zilQpN1l+R8TYHRpSL50rQAAAABJRU5ErkJggg==",
         "type": "image",
         "xaxis": "x2",
         "yaxis": "y2"
        },
        {
         "hovertemplate": "x: %{x}<br>y: %{y}<extra></extra>",
         "name": "12",
         "source": "data:image/png;base64,iVBORw0KGgoAAAANSUhEUgAAABwAAAAcCAAAAABXZoBIAAACBElEQVR4XgXBSZLcNhAAwNpQIMheQqMIX3z2/19mSe4eNrHU4kz85+9H2XMtq0/5DMxfr+ctCA1bA/nBkQtzfUY9wEEO2nRNBwRS+QKLSRyxZkNE3W2ln17yHA/BDENWqOzvyzbU1q8wZwhb8to2wK30qfHfKdW9VpManNujyaCjwH1/nS2t7Q9hsGlUyOqtCs2z0EFNd8t8PMF99TGIUgcIW1/8KaXxdL7/lX/egKsj03xfwiuq+EV5va+2fWU/BSOQYkXIblArzcLv11JHZMqQO/lKH9IWbBrp379OxXCVWHCIX1AxhQjRocDrTx632ya0ZiEzFyWUOWUFkfclSZU+r/e1oYMgoMrMnMs/PCmX4fz97wfEoG5MacKVOGwWLLjdGvvo6BCojc4lrSFnAtoV2lrbsmcpvkh9uWwFIVijU49AUZU+chiSkkqYhdOe3alsjb0cvuxy1kIoPt4z+EZL2vO559mpOFDitGUiCWbcw+7Hz5/7NbsxaV28upGkHLmKDN6OH1/1NWeqbDHmp6PKu7KyEJECZj8XqxZFNC7A4llaQCT038qP0zQRgLVCdRQhLILfZ/Cw80HnPL1UQSEOFwTgQoXBA+ZZxnmZLqMmGSgJXHnRPa7ASdYXcWZMaJApmbzH91UrRI4F09CA2ZeoTImiOq7XXZDdfE2HC0tJG1T4fzEoaDOedJ9PAAAAAElFTkSuQmCC",
         "type": "image",
         "xaxis": "x3",
         "yaxis": "y3"
        },
        {
         "hovertemplate": "x: %{x}<br>y: %{y}<extra></extra>",
         "name": "13",
         "source": "data:image/png;base64,iVBORw0KGgoAAAANSUhEUgAAABwAAAAcCAAAAABXZoBIAAACb0lEQVR4XgXBSY/bNhQA4MfHR4qSLMtbYjvLBEFRIIf8qv7bXooglyKHHKaZJB4vY8tauJP9PvYXS4PRHSoD67W/8Tp5o2H1tgpYUTLW56LOvCDB5AzRgIpJCdNVNfVjRCzqEAueIiEYXZYs4v16W1VkAwBjVbaQvcuG+ZiiIK/v1txJxgiiWRbaO6tYBAiciPlQsHAiqV253O+b8doFSpgFm6/QjQH5y4FS9O3u4ys5Sa45U2ySqkgAlDN6ohLKel1PsCo6T4mS0d3NBOTUZGoghe5i7nFOLBSL+aw4//N0s+WSRElDP4yYah0b2YX9ZrFqSWG2QeFtoLP18GJYliX4clMtSnu9i1dKa30ayegg/UufmkaudrtN65/+feaLqhuAI8UAVTXmweU3D5/eqP7Xl6/HVgLHCok8qGUBw+0lLbBt0/nbt2cDjgcrKk+aC8qM0nBPq20lR7YtpuHqWJxJJLdYNQawCt1w+C7qa/7IpkdnIwJIclg32Du+e6+W7j9/4n8+LF0vJlSZk0hGI/Fqt68LuF6eoXzdVGvssrSOWhXukrfy3bu5O5yftRq7UlUDupASPQBOXRab/UP5dPrR1YuSKen1fTJJ0ufTZepZ2+z30fVBrXb7beNkTiw7oK05g8xCMRNgKWj94e0mHH8fR6+HRIfe8zmfhePI6Y/M613rTt8frwFcP9HfyQkh0vHG5fZ1wYj3l9+PR89lPVm6kahUuBpAafmSO2svZ4uFlJQ5bVi5wZN2Eu3PsC4QRMiQUAjBE8lc1y7LuojX3t4KlpYzAB1SrZCR9ShTqBt/+GVDBu/796UIfWJR+/8BGpZxoV2IVEwAAAAASUVORK5CYII=",
         "type": "image",
         "xaxis": "x4",
         "yaxis": "y4"
        },
        {
         "hovertemplate": "x: %{x}<br>y: %{y}<extra></extra>",
         "name": "14",
         "source": "data:image/png;base64,iVBORw0KGgoAAAANSUhEUgAAABwAAAAcCAAAAABXZoBIAAACMUlEQVR4XgXBy3bcNgwAUAAESZGyNBPncZxl/6P//xlddJcmtkejFykSQO/FvxO71A6Eis7fx/MEAgBZbSwLo7kg6xnyVC/anyf4nNhawyiOAWPcjuYodtPzcQyJ2JFjERq5ZU/KKedAkUFhCKjV+lFD/sLgqfT59uIj8wiPdzkvKV27mmN+iVZ1+vZjzD6O8lyeHx+Pw5Ci7xunLuB5/PnK0lqzcP/y9o+KNtOqzAu85JwH7tu27t1e/wosSyNBQy4FU5yTq5+/t+1Zveu3r7cDSAyAf1O4OgLa499Vjzq8/3IWonRDVG5TANPyjPt/azCVWjpwbGcLUHgc0Ee6nvG4KFCP0zxamqI8hJEjiG+7GwDuOFJPb1n9Kx/lPJrn2FG3joOFn+QdjHf5HL7GXzHvJfB9657qGqoFL4ebbINwjyu7aJFvesZ0tWXtOZd3alUwJCOpNN9YsDP7urd2lrK4wUKo6/XnY9dg3MQMQ70sRIApj274/g0fH7tqXRh58N3OlufhSsM92svb96Uc4PtVGInQLvWBiTmFiNlpFyDX9oN3MsOUgJxP5HjI4fPZFMVkP/lzdtrG2Sn4gYC9rpu4dTtyzsDJqQH5yFZPZCz7fkI8thLSRDxKM9w1TVxWHSZc9mLZXITuBramsD8p3u56OS3SAHvjIKje8Whkrdm5PGZGOWtHNlMH4kfPL80sspRdXKrotRHJ5d2gw23mS0zINcfe01rnwU41snQznn/8D3xAbW9x8iT+AAAAAElFTkSuQmCC",
         "type": "image",
         "xaxis": "x5",
         "yaxis": "y5"
        },
        {
         "hovertemplate": "x: %{x}<br>y: %{y}<extra></extra>",
         "name": "15",
         "source": "data:image/png;base64,iVBORw0KGgoAAAANSUhEUgAAABwAAAAcCAAAAABXZoBIAAACJUlEQVR4XgXBWZLjRBAA0Nxqk9pyLwNB8ME5uP9R+IGYmR7bLatUW1byHv69yvoqUA63hf2m896/hUJeprgmm6A1s/2nY4cI/hsk6GeP2BVl0z4Ogv2IHdi7mLgc42kXrGGRNhQnEq6u3s/qpwlNUAPm2eUHLUEcI437Z+GrDgSWFYQui9CzoqALONHKjNHUTCEs1PDyKivNA0CbpSh4vSDz2cY07S6bJNAxIZh30DC9xvLYi9Y5oT+ewtVEsE+qpJzepRxH1z5M5jnlpY8U7XkAByByBHN2dDyECCUEeVnKXpvIxYtLW3QDeYAPhGITcXREdXFb3j42/Zmp1QLJM0lr1EcZGBdRi1tgdtaqClAQKWqn5VNDHE9HPX8WwXv163YREIwIY4BPDqZIe9zyRBviLyEfEiIYMounOgi11YnmuPZZ9yyRrLFLHkZu3YjT6LmXupyRV2nQa2ccvWWSJbrVvvKvB2oPUWWMvZrYzOrePz5CO2v+qrKkfmCTpdeG1J85vv/510fv99v9Qa9LKKdnEVxh8qR0/e2P3+P+9d/3apfg+Jxhk4IcJsIbekI7b5+P3W3XaEoak5xewHSw9f376/HvXf1yfY+z+R5YDMk7vX1RGvd/1l9ZkufZwEznEEdAATKzF73lE5PAfDZ2o5EXUPQw5M2DzawgAUbDwoHIVLIXD7mnF9VWUazXKh6qegeH9JeUylkCO8zNwEYrLNjrSND+B6z/aJDNI4QEAAAAAElFTkSuQmCC",
         "type": "image",
         "xaxis": "x6",
         "yaxis": "y6"
        },
        {
         "hovertemplate": "x: %{x}<br>y: %{y}<extra></extra>",
         "name": "16",
         "source": "data:image/png;base64,iVBORw0KGgoAAAANSUhEUgAAABwAAAAcCAAAAABXZoBIAAACZUlEQVR4XgXB2W7bRhQA0FnurBySkiy4juzkoUiAflU/O3ko6iCFm0qRJYriMvtMz8F/ijy+/bv90o2xN7D+mpOUSbas2jVCCYnuqii3gQqQrVneE8+RNrmgCJosYJiSU83BQs/BelVtqTF3GopKERDlLc6kooqIAJEyLiGKDzChAgo79PjsLJbtPjc2ZRDJBT/DzVHBOTIvezchvX2uf/+8e1xioWiEayPtKvvd04EtqW17d7neUnClKJbAdU24AUuVPuyjZMUCW2/3OZItI4CQZLMdjrvNkw6Y5MrqNL5fgsRCglwnWvwA3aZVWRlEiV0xrwkkpUCmwiMu63h2BV4ONBU7xWYXOlUiMDTQRmc3nG7edE9K3Iu3wI2Oc4JHdbZYeHcmj13f601yY2aYK+SXAEltBUWYlXH34fOLTMPbwHSDy1KLhFXJmhCDZPP28IDG050fFGdpGIEBcEaKSNahGBMpw8kBZQkEB9VCA1UAvq/zRqPsx9fX85A7SSg3agMi5Zrz6uG3551eXr9+X1ZqFHN3Vyggb0OMmR7++NTTy18/Lkwz0+Xr2ZkIxiUfFrR7fNmL7APsnzaIt/HOM6mgG49oiqVmH9Hmc6N/38xXPwqTfYERa17ZNVc7abQXH7ef8H/leH33y4XASdFe8bmGNZaYxXaHbz9/HE+jW34lCAhTKfX9zDHKg0fX8vbtewZvI0EgcqQ4A7jjcvzYTavI538G2XjUmwgIc8MvC9/TafVmHgn3qRWVaC4rWNz2xdr9A1rW67wOqdNCSOx99BRyUmEZ6da44licb4FqQNTEy2Cb/wF8DYQKCvc6ggAAAABJRU5ErkJggg==",
         "type": "image",
         "xaxis": "x7",
         "yaxis": "y7"
        },
        {
         "hovertemplate": "x: %{x}<br>y: %{y}<extra></extra>",
         "name": "17",
         "source": "data:image/png;base64,iVBORw0KGgoAAAANSUhEUgAAABwAAAAcCAAAAABXZoBIAAACbklEQVR4XgXB2XLbNhQA0AvgAgS4W4stxW0m8bTTr8j/f0FeOtOJndixLFOUuQIEsfQc8q1IA6t4M6phUDEoj8n5SjNlss+3+GCMTYAsl1yV1DuX3KKZJ6zzLJmQmhExGGtNnqyCWV5guQATCrsOmw9fs8XRvZQBVD45AFGLKCV07ziMCUIILJXCTJ4q3FHLUu9cUgvUliw8iY6KBBiR1e6TTzo7/Hov6j2WaWAcxgs7FKy8efjrJrb73fL4XzNqhbe4ghiHiS+GZJv7f9i/T3DPL1Ql8xtKiIxRWdJgkFPf25+PxZft7pjHxqAal1zkK41cpAKaefqtN1JtjnxAhetiV8VRseLzlobxasb0kDnvtcUCF70wJFyKm/s9dDZ6q0rev181KTIEF9Y5yVR+VwXdr7ppgu5Pr50TUuHsrDPpJr3durZrzeXFlvPvx5MhNhA860CQknzPf73pfjpfstROpy5y/fGGo400yt1x051e0a9QHO7Ti49AydjSKiWLzw979v7SzIRnf/x9x+aVC4aMYM3DQlXun77/sFBA+edD0pxaKhGqBUlJURViem6ppElZfj2cX1rDqHVA0dVFxSqqw75g2fa4qcfTsyaLngIi+lUoQgE3G1RFmqH5+awBYJkw4chnE3lvylRxofx8fn2aU205wUR5dDYQ2V1luaX62jcvb5PISWRC8jRggBgZnS9esdO5vTYfUGYVWQnEFZH4yaNp+6bj7WlwngGhQKiEyQhsvHYQr5gP2F0sI4AwLTOPZhQJ+VozYDRgXamppzQujpPZcqLj/g5pxqkdVmb1kRdJnPsPxsy8rnAT4X9jjWA9sGS6VwAAAABJRU5ErkJggg==",
         "type": "image",
         "xaxis": "x8",
         "yaxis": "y8"
        },
        {
         "hovertemplate": "x: %{x}<br>y: %{y}<extra></extra>",
         "name": "18",
         "source": "data:image/png;base64,iVBORw0KGgoAAAANSUhEUgAAABwAAAAcCAAAAABXZoBIAAACJElEQVR4XgXBCW4kRRAAwLzq6GMG2yuDBOIr/P8LPGCNWe0wnqO768jKJAL/CjNCtLqV9z+OH0c8efGc3VOKKIM6UjV5K6G15pGKBkJBqg+TM2tB5jxLvXblRIDenQW2QvJnuR2O2Ku1Yp4zgGEvnmDzKBnAK6PuDA5pzk1rztCHo7Bc44s8IhTLOZpMCCGS9UYpEsjHK9m8Yo+zbj2toL/1+2WrsE5A0h/O0cN5CWMdp2+gv/DH3/3OCMNl1iYdXgWVZltmt9dTPPSn6j5ESOswnDsi47h3RStfFbg1RxSJMHyUrbG7GTsf6fbj8jQcBnKW2sZoX0huBinN2m67YqTamlhXH702Hwq0rtM5PY3XZDa4y3aAOAevjxaW+ddvy/Pfm0oYlkaX5CAtTm07bJqXl9/TcbvEVdjEqrxtQypJc46zDGer224LqWI4SxpN0N0phYDE9fb9q+Bhpaf5RQzdJz12m9K0vJ/37581UNfqRLPc+h4WqMpzjvOZLj/3fEZQJuyHXKxiiTDnKXEa189riwt2ErL2FHVkIp7eVh7cb5cNcYBWEIIhPUSJiYhPsbjuLWQrqBU0SBCN4tXZ7ml1V0gEz8GctWNw6Q5uDY3+Oa3cVFDRIGLZp9RkiUJi3dSzt70MRhmWvPZlEjlFibk/dEigpsCiwwIbry8zSgOOoY7h3Op+R7bWOQdcUO53+VzfSW+7BNHHf5ecyGnKooLt+vE/btJ41yYr+6cAAAAASUVORK5CYII=",
         "type": "image",
         "xaxis": "x9",
         "yaxis": "y9"
        },
        {
         "hovertemplate": "x: %{x}<br>y: %{y}<extra></extra>",
         "name": "19",
         "source": "data:image/png;base64,iVBORw0KGgoAAAANSUhEUgAAABwAAAAcCAAAAABXZoBIAAACXklEQVR4XgXBCW4bNxQAUJL/c5tVM5bkdEHaorlQrl8EKFzAsWzJI83OnX2Pfu/x/ceuBdOI3/5AM23LTONjFXKZUAN2f00p8zIlc4e4LlGIzRusSoXJBKJtAKnTPhOa/crKMitLmUz4WlVgDHBVii0hZIm01uDy8tAOBywYoTHyc+dzUxBiaOGv9hFN2FGxPbmI8vB8JMWxzn7NsFjOpWABOzsZJ09P56YF1cK2Bcwhiy5mUWB3d9SnXJYkues1DHd2ksNlV7VDirVot88dOITh82UFv+C5GIcgCYeAFmu0UHe/po/b9QN09h8FBbeCzA6vlUoE1eHL3QRVxcwghkritHmZ8XLOkQLT1SpKWjwmohSkmNMGssEU590jkbJ+LkJ4f/NlDfvoKY2eoiJuJseKpearjanv5lyKDTcMzowIwLU4am+rxngvdAqikC19fxlZjbyp20SHS39Im7c/3xIzrG20HEN9xqrp+/mx31+W1m3j5UNKI57LlBmHxBSZp83GddiLU53mxUTnlV5HH4ZXdDcfnFeMnzNqxRwX8tCovIyTRZxjIN5OO/2yI9FHW//d1g0Xbloh4V3zBHq5ydtcQPH7L89fdQjbsjioNa5VGTPSWdCRa9o9/daz5f31n3+nEgR2paA0iubULCMQpWcbtrcf/42uchP+aQ0wx9vS77cFDubnOlq75n4RdkTlHAX61ONlH5d4GfT9TjU1nsVtxEyAcWwO6/URs/n8LHLm3g6s3BeL0jkoiNu9maMWdgttBZmdeHrwBisaDGU70hRcUVELZZG9PuN9q/v/Afbef+xVVjJyAAAAAElFTkSuQmCC",
         "type": "image",
         "xaxis": "x10",
         "yaxis": "y10"
        }
       ],
       "layout": {
        "annotations": [
         {
          "font": {},
          "showarrow": false,
          "text": "facet_col=10",
          "x": 0.04100000000000001,
          "xanchor": "center",
          "xref": "paper",
          "y": 0.46499999999999997,
          "yanchor": "bottom",
          "yref": "paper"
         },
         {
          "font": {},
          "showarrow": false,
          "text": "facet_col=11",
          "x": 0.14300000000000004,
          "xanchor": "center",
          "xref": "paper",
          "y": 0.46499999999999997,
          "yanchor": "bottom",
          "yref": "paper"
         },
         {
          "font": {},
          "showarrow": false,
          "text": "facet_col=12",
          "x": 0.24500000000000005,
          "xanchor": "center",
          "xref": "paper",
          "y": 0.46499999999999997,
          "yanchor": "bottom",
          "yref": "paper"
         },
         {
          "font": {},
          "showarrow": false,
          "text": "facet_col=13",
          "x": 0.3470000000000001,
          "xanchor": "center",
          "xref": "paper",
          "y": 0.46499999999999997,
          "yanchor": "bottom",
          "yref": "paper"
         },
         {
          "font": {},
          "showarrow": false,
          "text": "facet_col=14",
          "x": 0.44900000000000007,
          "xanchor": "center",
          "xref": "paper",
          "y": 0.46499999999999997,
          "yanchor": "bottom",
          "yref": "paper"
         },
         {
          "font": {},
          "showarrow": false,
          "text": "facet_col=15",
          "x": 0.5510000000000002,
          "xanchor": "center",
          "xref": "paper",
          "y": 0.46499999999999997,
          "yanchor": "bottom",
          "yref": "paper"
         },
         {
          "font": {},
          "showarrow": false,
          "text": "facet_col=16",
          "x": 0.6530000000000001,
          "xanchor": "center",
          "xref": "paper",
          "y": 0.46499999999999997,
          "yanchor": "bottom",
          "yref": "paper"
         },
         {
          "font": {},
          "showarrow": false,
          "text": "facet_col=17",
          "x": 0.7550000000000001,
          "xanchor": "center",
          "xref": "paper",
          "y": 0.46499999999999997,
          "yanchor": "bottom",
          "yref": "paper"
         },
         {
          "font": {},
          "showarrow": false,
          "text": "facet_col=18",
          "x": 0.8570000000000002,
          "xanchor": "center",
          "xref": "paper",
          "y": 0.46499999999999997,
          "yanchor": "bottom",
          "yref": "paper"
         },
         {
          "font": {},
          "showarrow": false,
          "text": "facet_col=19",
          "x": 0.9590000000000002,
          "xanchor": "center",
          "xref": "paper",
          "y": 0.46499999999999997,
          "yanchor": "bottom",
          "yref": "paper"
         },
         {
          "font": {},
          "showarrow": false,
          "text": "facet_col=0",
          "x": 0.04100000000000001,
          "xanchor": "center",
          "xref": "paper",
          "y": 0.9999999999999999,
          "yanchor": "bottom",
          "yref": "paper"
         },
         {
          "font": {},
          "showarrow": false,
          "text": "facet_col=1",
          "x": 0.14300000000000004,
          "xanchor": "center",
          "xref": "paper",
          "y": 0.9999999999999999,
          "yanchor": "bottom",
          "yref": "paper"
         },
         {
          "font": {},
          "showarrow": false,
          "text": "facet_col=2",
          "x": 0.24500000000000005,
          "xanchor": "center",
          "xref": "paper",
          "y": 0.9999999999999999,
          "yanchor": "bottom",
          "yref": "paper"
         },
         {
          "font": {},
          "showarrow": false,
          "text": "facet_col=3",
          "x": 0.3470000000000001,
          "xanchor": "center",
          "xref": "paper",
          "y": 0.9999999999999999,
          "yanchor": "bottom",
          "yref": "paper"
         },
         {
          "font": {},
          "showarrow": false,
          "text": "facet_col=4",
          "x": 0.44900000000000007,
          "xanchor": "center",
          "xref": "paper",
          "y": 0.9999999999999999,
          "yanchor": "bottom",
          "yref": "paper"
         },
         {
          "font": {},
          "showarrow": false,
          "text": "facet_col=5",
          "x": 0.5510000000000002,
          "xanchor": "center",
          "xref": "paper",
          "y": 0.9999999999999999,
          "yanchor": "bottom",
          "yref": "paper"
         },
         {
          "font": {},
          "showarrow": false,
          "text": "facet_col=6",
          "x": 0.6530000000000001,
          "xanchor": "center",
          "xref": "paper",
          "y": 0.9999999999999999,
          "yanchor": "bottom",
          "yref": "paper"
         },
         {
          "font": {},
          "showarrow": false,
          "text": "facet_col=7",
          "x": 0.7550000000000001,
          "xanchor": "center",
          "xref": "paper",
          "y": 0.9999999999999999,
          "yanchor": "bottom",
          "yref": "paper"
         },
         {
          "font": {},
          "showarrow": false,
          "text": "facet_col=8",
          "x": 0.8570000000000002,
          "xanchor": "center",
          "xref": "paper",
          "y": 0.9999999999999999,
          "yanchor": "bottom",
          "yref": "paper"
         },
         {
          "font": {},
          "showarrow": false,
          "text": "facet_col=9",
          "x": 0.9590000000000002,
          "xanchor": "center",
          "xref": "paper",
          "y": 0.9999999999999999,
          "yanchor": "bottom",
          "yref": "paper"
         }
        ],
        "template": {
         "data": {
          "bar": [
           {
            "error_x": {
             "color": "#2a3f5f"
            },
            "error_y": {
             "color": "#2a3f5f"
            },
            "marker": {
             "line": {
              "color": "#E5ECF6",
              "width": 0.5
             },
             "pattern": {
              "fillmode": "overlay",
              "size": 10,
              "solidity": 0.2
             }
            },
            "type": "bar"
           }
          ],
          "barpolar": [
           {
            "marker": {
             "line": {
              "color": "#E5ECF6",
              "width": 0.5
             },
             "pattern": {
              "fillmode": "overlay",
              "size": 10,
              "solidity": 0.2
             }
            },
            "type": "barpolar"
           }
          ],
          "carpet": [
           {
            "aaxis": {
             "endlinecolor": "#2a3f5f",
             "gridcolor": "white",
             "linecolor": "white",
             "minorgridcolor": "white",
             "startlinecolor": "#2a3f5f"
            },
            "baxis": {
             "endlinecolor": "#2a3f5f",
             "gridcolor": "white",
             "linecolor": "white",
             "minorgridcolor": "white",
             "startlinecolor": "#2a3f5f"
            },
            "type": "carpet"
           }
          ],
          "choropleth": [
           {
            "colorbar": {
             "outlinewidth": 0,
             "ticks": ""
            },
            "type": "choropleth"
           }
          ],
          "contour": [
           {
            "colorbar": {
             "outlinewidth": 0,
             "ticks": ""
            },
            "colorscale": [
             [
              0,
              "#0d0887"
             ],
             [
              0.1111111111111111,
              "#46039f"
             ],
             [
              0.2222222222222222,
              "#7201a8"
             ],
             [
              0.3333333333333333,
              "#9c179e"
             ],
             [
              0.4444444444444444,
              "#bd3786"
             ],
             [
              0.5555555555555556,
              "#d8576b"
             ],
             [
              0.6666666666666666,
              "#ed7953"
             ],
             [
              0.7777777777777778,
              "#fb9f3a"
             ],
             [
              0.8888888888888888,
              "#fdca26"
             ],
             [
              1,
              "#f0f921"
             ]
            ],
            "type": "contour"
           }
          ],
          "contourcarpet": [
           {
            "colorbar": {
             "outlinewidth": 0,
             "ticks": ""
            },
            "type": "contourcarpet"
           }
          ],
          "heatmap": [
           {
            "colorbar": {
             "outlinewidth": 0,
             "ticks": ""
            },
            "colorscale": [
             [
              0,
              "#0d0887"
             ],
             [
              0.1111111111111111,
              "#46039f"
             ],
             [
              0.2222222222222222,
              "#7201a8"
             ],
             [
              0.3333333333333333,
              "#9c179e"
             ],
             [
              0.4444444444444444,
              "#bd3786"
             ],
             [
              0.5555555555555556,
              "#d8576b"
             ],
             [
              0.6666666666666666,
              "#ed7953"
             ],
             [
              0.7777777777777778,
              "#fb9f3a"
             ],
             [
              0.8888888888888888,
              "#fdca26"
             ],
             [
              1,
              "#f0f921"
             ]
            ],
            "type": "heatmap"
           }
          ],
          "heatmapgl": [
           {
            "colorbar": {
             "outlinewidth": 0,
             "ticks": ""
            },
            "colorscale": [
             [
              0,
              "#0d0887"
             ],
             [
              0.1111111111111111,
              "#46039f"
             ],
             [
              0.2222222222222222,
              "#7201a8"
             ],
             [
              0.3333333333333333,
              "#9c179e"
             ],
             [
              0.4444444444444444,
              "#bd3786"
             ],
             [
              0.5555555555555556,
              "#d8576b"
             ],
             [
              0.6666666666666666,
              "#ed7953"
             ],
             [
              0.7777777777777778,
              "#fb9f3a"
             ],
             [
              0.8888888888888888,
              "#fdca26"
             ],
             [
              1,
              "#f0f921"
             ]
            ],
            "type": "heatmapgl"
           }
          ],
          "histogram": [
           {
            "marker": {
             "pattern": {
              "fillmode": "overlay",
              "size": 10,
              "solidity": 0.2
             }
            },
            "type": "histogram"
           }
          ],
          "histogram2d": [
           {
            "colorbar": {
             "outlinewidth": 0,
             "ticks": ""
            },
            "colorscale": [
             [
              0,
              "#0d0887"
             ],
             [
              0.1111111111111111,
              "#46039f"
             ],
             [
              0.2222222222222222,
              "#7201a8"
             ],
             [
              0.3333333333333333,
              "#9c179e"
             ],
             [
              0.4444444444444444,
              "#bd3786"
             ],
             [
              0.5555555555555556,
              "#d8576b"
             ],
             [
              0.6666666666666666,
              "#ed7953"
             ],
             [
              0.7777777777777778,
              "#fb9f3a"
             ],
             [
              0.8888888888888888,
              "#fdca26"
             ],
             [
              1,
              "#f0f921"
             ]
            ],
            "type": "histogram2d"
           }
          ],
          "histogram2dcontour": [
           {
            "colorbar": {
             "outlinewidth": 0,
             "ticks": ""
            },
            "colorscale": [
             [
              0,
              "#0d0887"
             ],
             [
              0.1111111111111111,
              "#46039f"
             ],
             [
              0.2222222222222222,
              "#7201a8"
             ],
             [
              0.3333333333333333,
              "#9c179e"
             ],
             [
              0.4444444444444444,
              "#bd3786"
             ],
             [
              0.5555555555555556,
              "#d8576b"
             ],
             [
              0.6666666666666666,
              "#ed7953"
             ],
             [
              0.7777777777777778,
              "#fb9f3a"
             ],
             [
              0.8888888888888888,
              "#fdca26"
             ],
             [
              1,
              "#f0f921"
             ]
            ],
            "type": "histogram2dcontour"
           }
          ],
          "mesh3d": [
           {
            "colorbar": {
             "outlinewidth": 0,
             "ticks": ""
            },
            "type": "mesh3d"
           }
          ],
          "parcoords": [
           {
            "line": {
             "colorbar": {
              "outlinewidth": 0,
              "ticks": ""
             }
            },
            "type": "parcoords"
           }
          ],
          "pie": [
           {
            "automargin": true,
            "type": "pie"
           }
          ],
          "scatter": [
           {
            "fillpattern": {
             "fillmode": "overlay",
             "size": 10,
             "solidity": 0.2
            },
            "type": "scatter"
           }
          ],
          "scatter3d": [
           {
            "line": {
             "colorbar": {
              "outlinewidth": 0,
              "ticks": ""
             }
            },
            "marker": {
             "colorbar": {
              "outlinewidth": 0,
              "ticks": ""
             }
            },
            "type": "scatter3d"
           }
          ],
          "scattercarpet": [
           {
            "marker": {
             "colorbar": {
              "outlinewidth": 0,
              "ticks": ""
             }
            },
            "type": "scattercarpet"
           }
          ],
          "scattergeo": [
           {
            "marker": {
             "colorbar": {
              "outlinewidth": 0,
              "ticks": ""
             }
            },
            "type": "scattergeo"
           }
          ],
          "scattergl": [
           {
            "marker": {
             "colorbar": {
              "outlinewidth": 0,
              "ticks": ""
             }
            },
            "type": "scattergl"
           }
          ],
          "scattermapbox": [
           {
            "marker": {
             "colorbar": {
              "outlinewidth": 0,
              "ticks": ""
             }
            },
            "type": "scattermapbox"
           }
          ],
          "scatterpolar": [
           {
            "marker": {
             "colorbar": {
              "outlinewidth": 0,
              "ticks": ""
             }
            },
            "type": "scatterpolar"
           }
          ],
          "scatterpolargl": [
           {
            "marker": {
             "colorbar": {
              "outlinewidth": 0,
              "ticks": ""
             }
            },
            "type": "scatterpolargl"
           }
          ],
          "scatterternary": [
           {
            "marker": {
             "colorbar": {
              "outlinewidth": 0,
              "ticks": ""
             }
            },
            "type": "scatterternary"
           }
          ],
          "surface": [
           {
            "colorbar": {
             "outlinewidth": 0,
             "ticks": ""
            },
            "colorscale": [
             [
              0,
              "#0d0887"
             ],
             [
              0.1111111111111111,
              "#46039f"
             ],
             [
              0.2222222222222222,
              "#7201a8"
             ],
             [
              0.3333333333333333,
              "#9c179e"
             ],
             [
              0.4444444444444444,
              "#bd3786"
             ],
             [
              0.5555555555555556,
              "#d8576b"
             ],
             [
              0.6666666666666666,
              "#ed7953"
             ],
             [
              0.7777777777777778,
              "#fb9f3a"
             ],
             [
              0.8888888888888888,
              "#fdca26"
             ],
             [
              1,
              "#f0f921"
             ]
            ],
            "type": "surface"
           }
          ],
          "table": [
           {
            "cells": {
             "fill": {
              "color": "#EBF0F8"
             },
             "line": {
              "color": "white"
             }
            },
            "header": {
             "fill": {
              "color": "#C8D4E3"
             },
             "line": {
              "color": "white"
             }
            },
            "type": "table"
           }
          ]
         },
         "layout": {
          "annotationdefaults": {
           "arrowcolor": "#2a3f5f",
           "arrowhead": 0,
           "arrowwidth": 1
          },
          "autotypenumbers": "strict",
          "coloraxis": {
           "colorbar": {
            "outlinewidth": 0,
            "ticks": ""
           }
          },
          "colorscale": {
           "diverging": [
            [
             0,
             "#8e0152"
            ],
            [
             0.1,
             "#c51b7d"
            ],
            [
             0.2,
             "#de77ae"
            ],
            [
             0.3,
             "#f1b6da"
            ],
            [
             0.4,
             "#fde0ef"
            ],
            [
             0.5,
             "#f7f7f7"
            ],
            [
             0.6,
             "#e6f5d0"
            ],
            [
             0.7,
             "#b8e186"
            ],
            [
             0.8,
             "#7fbc41"
            ],
            [
             0.9,
             "#4d9221"
            ],
            [
             1,
             "#276419"
            ]
           ],
           "sequential": [
            [
             0,
             "#0d0887"
            ],
            [
             0.1111111111111111,
             "#46039f"
            ],
            [
             0.2222222222222222,
             "#7201a8"
            ],
            [
             0.3333333333333333,
             "#9c179e"
            ],
            [
             0.4444444444444444,
             "#bd3786"
            ],
            [
             0.5555555555555556,
             "#d8576b"
            ],
            [
             0.6666666666666666,
             "#ed7953"
            ],
            [
             0.7777777777777778,
             "#fb9f3a"
            ],
            [
             0.8888888888888888,
             "#fdca26"
            ],
            [
             1,
             "#f0f921"
            ]
           ],
           "sequentialminus": [
            [
             0,
             "#0d0887"
            ],
            [
             0.1111111111111111,
             "#46039f"
            ],
            [
             0.2222222222222222,
             "#7201a8"
            ],
            [
             0.3333333333333333,
             "#9c179e"
            ],
            [
             0.4444444444444444,
             "#bd3786"
            ],
            [
             0.5555555555555556,
             "#d8576b"
            ],
            [
             0.6666666666666666,
             "#ed7953"
            ],
            [
             0.7777777777777778,
             "#fb9f3a"
            ],
            [
             0.8888888888888888,
             "#fdca26"
            ],
            [
             1,
             "#f0f921"
            ]
           ]
          },
          "colorway": [
           "#636efa",
           "#EF553B",
           "#00cc96",
           "#ab63fa",
           "#FFA15A",
           "#19d3f3",
           "#FF6692",
           "#B6E880",
           "#FF97FF",
           "#FECB52"
          ],
          "font": {
           "color": "#2a3f5f"
          },
          "geo": {
           "bgcolor": "white",
           "lakecolor": "white",
           "landcolor": "#E5ECF6",
           "showlakes": true,
           "showland": true,
           "subunitcolor": "white"
          },
          "hoverlabel": {
           "align": "left"
          },
          "hovermode": "closest",
          "mapbox": {
           "style": "light"
          },
          "paper_bgcolor": "white",
          "plot_bgcolor": "#E5ECF6",
          "polar": {
           "angularaxis": {
            "gridcolor": "white",
            "linecolor": "white",
            "ticks": ""
           },
           "bgcolor": "#E5ECF6",
           "radialaxis": {
            "gridcolor": "white",
            "linecolor": "white",
            "ticks": ""
           }
          },
          "scene": {
           "xaxis": {
            "backgroundcolor": "#E5ECF6",
            "gridcolor": "white",
            "gridwidth": 2,
            "linecolor": "white",
            "showbackground": true,
            "ticks": "",
            "zerolinecolor": "white"
           },
           "yaxis": {
            "backgroundcolor": "#E5ECF6",
            "gridcolor": "white",
            "gridwidth": 2,
            "linecolor": "white",
            "showbackground": true,
            "ticks": "",
            "zerolinecolor": "white"
           },
           "zaxis": {
            "backgroundcolor": "#E5ECF6",
            "gridcolor": "white",
            "gridwidth": 2,
            "linecolor": "white",
            "showbackground": true,
            "ticks": "",
            "zerolinecolor": "white"
           }
          },
          "shapedefaults": {
           "line": {
            "color": "#2a3f5f"
           }
          },
          "ternary": {
           "aaxis": {
            "gridcolor": "white",
            "linecolor": "white",
            "ticks": ""
           },
           "baxis": {
            "gridcolor": "white",
            "linecolor": "white",
            "ticks": ""
           },
           "bgcolor": "#E5ECF6",
           "caxis": {
            "gridcolor": "white",
            "linecolor": "white",
            "ticks": ""
           }
          },
          "title": {
           "x": 0.05
          },
          "xaxis": {
           "automargin": true,
           "gridcolor": "white",
           "linecolor": "white",
           "ticks": "",
           "title": {
            "standoff": 15
           },
           "zerolinecolor": "white",
           "zerolinewidth": 2
          },
          "yaxis": {
           "automargin": true,
           "gridcolor": "white",
           "linecolor": "white",
           "ticks": "",
           "title": {
            "standoff": 15
           },
           "zerolinecolor": "white",
           "zerolinewidth": 2
          }
         }
        },
        "title": {
         "text": "Result"
        },
        "xaxis": {
         "anchor": "y",
         "domain": [
          0,
          0.08200000000000002
         ]
        },
        "xaxis10": {
         "anchor": "y10",
         "domain": [
          0.9180000000000001,
          1
         ],
         "matches": "x"
        },
        "xaxis11": {
         "anchor": "y11",
         "domain": [
          0,
          0.08200000000000002
         ],
         "matches": "x",
         "showticklabels": false
        },
        "xaxis12": {
         "anchor": "y12",
         "domain": [
          0.10200000000000002,
          0.18400000000000005
         ],
         "matches": "x",
         "showticklabels": false
        },
        "xaxis13": {
         "anchor": "y13",
         "domain": [
          0.20400000000000004,
          0.28600000000000003
         ],
         "matches": "x",
         "showticklabels": false
        },
        "xaxis14": {
         "anchor": "y14",
         "domain": [
          0.30600000000000005,
          0.38800000000000007
         ],
         "matches": "x",
         "showticklabels": false
        },
        "xaxis15": {
         "anchor": "y15",
         "domain": [
          0.4080000000000001,
          0.4900000000000001
         ],
         "matches": "x",
         "showticklabels": false
        },
        "xaxis16": {
         "anchor": "y16",
         "domain": [
          0.5100000000000001,
          0.5920000000000001
         ],
         "matches": "x",
         "showticklabels": false
        },
        "xaxis17": {
         "anchor": "y17",
         "domain": [
          0.6120000000000001,
          0.6940000000000002
         ],
         "matches": "x",
         "showticklabels": false
        },
        "xaxis18": {
         "anchor": "y18",
         "domain": [
          0.7140000000000001,
          0.796
         ],
         "matches": "x",
         "showticklabels": false
        },
        "xaxis19": {
         "anchor": "y19",
         "domain": [
          0.8160000000000002,
          0.8980000000000001
         ],
         "matches": "x",
         "showticklabels": false
        },
        "xaxis2": {
         "anchor": "y2",
         "domain": [
          0.10200000000000002,
          0.18400000000000005
         ],
         "matches": "x"
        },
        "xaxis20": {
         "anchor": "y20",
         "domain": [
          0.9180000000000001,
          1
         ],
         "matches": "x",
         "showticklabels": false
        },
        "xaxis3": {
         "anchor": "y3",
         "domain": [
          0.20400000000000004,
          0.28600000000000003
         ],
         "matches": "x"
        },
        "xaxis4": {
         "anchor": "y4",
         "domain": [
          0.30600000000000005,
          0.38800000000000007
         ],
         "matches": "x"
        },
        "xaxis5": {
         "anchor": "y5",
         "domain": [
          0.4080000000000001,
          0.4900000000000001
         ],
         "matches": "x"
        },
        "xaxis6": {
         "anchor": "y6",
         "domain": [
          0.5100000000000001,
          0.5920000000000001
         ],
         "matches": "x"
        },
        "xaxis7": {
         "anchor": "y7",
         "domain": [
          0.6120000000000001,
          0.6940000000000002
         ],
         "matches": "x"
        },
        "xaxis8": {
         "anchor": "y8",
         "domain": [
          0.7140000000000001,
          0.796
         ],
         "matches": "x"
        },
        "xaxis9": {
         "anchor": "y9",
         "domain": [
          0.8160000000000002,
          0.8980000000000001
         ],
         "matches": "x"
        },
        "yaxis": {
         "anchor": "x",
         "domain": [
          0,
          0.46499999999999997
         ]
        },
        "yaxis10": {
         "anchor": "x10",
         "domain": [
          0,
          0.46499999999999997
         ],
         "matches": "y",
         "showticklabels": false
        },
        "yaxis11": {
         "anchor": "x11",
         "domain": [
          0.5349999999999999,
          0.9999999999999999
         ],
         "matches": "y"
        },
        "yaxis12": {
         "anchor": "x12",
         "domain": [
          0.5349999999999999,
          0.9999999999999999
         ],
         "matches": "y",
         "showticklabels": false
        },
        "yaxis13": {
         "anchor": "x13",
         "domain": [
          0.5349999999999999,
          0.9999999999999999
         ],
         "matches": "y",
         "showticklabels": false
        },
        "yaxis14": {
         "anchor": "x14",
         "domain": [
          0.5349999999999999,
          0.9999999999999999
         ],
         "matches": "y",
         "showticklabels": false
        },
        "yaxis15": {
         "anchor": "x15",
         "domain": [
          0.5349999999999999,
          0.9999999999999999
         ],
         "matches": "y",
         "showticklabels": false
        },
        "yaxis16": {
         "anchor": "x16",
         "domain": [
          0.5349999999999999,
          0.9999999999999999
         ],
         "matches": "y",
         "showticklabels": false
        },
        "yaxis17": {
         "anchor": "x17",
         "domain": [
          0.5349999999999999,
          0.9999999999999999
         ],
         "matches": "y",
         "showticklabels": false
        },
        "yaxis18": {
         "anchor": "x18",
         "domain": [
          0.5349999999999999,
          0.9999999999999999
         ],
         "matches": "y",
         "showticklabels": false
        },
        "yaxis19": {
         "anchor": "x19",
         "domain": [
          0.5349999999999999,
          0.9999999999999999
         ],
         "matches": "y",
         "showticklabels": false
        },
        "yaxis2": {
         "anchor": "x2",
         "domain": [
          0,
          0.46499999999999997
         ],
         "matches": "y",
         "showticklabels": false
        },
        "yaxis20": {
         "anchor": "x20",
         "domain": [
          0.5349999999999999,
          0.9999999999999999
         ],
         "matches": "y",
         "showticklabels": false
        },
        "yaxis3": {
         "anchor": "x3",
         "domain": [
          0,
          0.46499999999999997
         ],
         "matches": "y",
         "showticklabels": false
        },
        "yaxis4": {
         "anchor": "x4",
         "domain": [
          0,
          0.46499999999999997
         ],
         "matches": "y",
         "showticklabels": false
        },
        "yaxis5": {
         "anchor": "x5",
         "domain": [
          0,
          0.46499999999999997
         ],
         "matches": "y",
         "showticklabels": false
        },
        "yaxis6": {
         "anchor": "x6",
         "domain": [
          0,
          0.46499999999999997
         ],
         "matches": "y",
         "showticklabels": false
        },
        "yaxis7": {
         "anchor": "x7",
         "domain": [
          0,
          0.46499999999999997
         ],
         "matches": "y",
         "showticklabels": false
        },
        "yaxis8": {
         "anchor": "x8",
         "domain": [
          0,
          0.46499999999999997
         ],
         "matches": "y",
         "showticklabels": false
        },
        "yaxis9": {
         "anchor": "x9",
         "domain": [
          0,
          0.46499999999999997
         ],
         "matches": "y",
         "showticklabels": false
        }
       }
      }
     },
     "metadata": {},
     "output_type": "display_data"
    }
   ],
   "source": [
    "# sizes of images\n",
    "col_wrap = 10\n",
    "\n",
    "# show base images\n",
    "show_images(X, \"Base\", col_wrap=col_wrap)\n",
    "\n",
    "def denoise(images: pd.DataFrame,\n",
    "            pca_components: float = .6,\n",
    "            gaussian_sigma: int = 1,\n",
    "            median_size: int = 1,\n",
    "            filters: bool = True):\n",
    "    side_length = int(np.sqrt(images.shape[1]))\n",
    "\n",
    "    pca = PCA(pca_components)\n",
    "    images = pca.fit_transform(images.values)\n",
    "    images = pd.DataFrame(pca.inverse_transform(images))\n",
    "\n",
    "    if filters :\n",
    "        images = apply_filters(images,\n",
    "                            side_length,\n",
    "                            sigma=gaussian_sigma,\n",
    "                            size=median_size)\n",
    "\n",
    "    return images\n",
    "\n",
    "result = denoise(X)\n",
    "\n",
    "show_images(result, \"Result\", col_wrap=col_wrap)"
   ]
  },
  {
   "cell_type": "markdown",
   "metadata": {},
   "source": [
    "## EXPORT"
   ]
  },
  {
   "cell_type": "code",
   "execution_count": 7,
   "metadata": {},
   "outputs": [],
   "source": [
    "df_reconstructed = pd.DataFrame(result.values, columns=X.columns, index=X.index)\n",
    "df_reconstructed.to_csv(\"output/denoised_images.csv\", index=False)"
   ]
  },
  {
   "cell_type": "markdown",
   "metadata": {},
   "source": [
    "## REIMPORT"
   ]
  },
  {
   "cell_type": "code",
   "execution_count": 8,
   "metadata": {},
   "outputs": [
    {
     "data": {
      "application/vnd.plotly.v1+json": {
       "config": {
        "plotlyServerURL": "https://plot.ly"
       },
       "data": [
        {
         "hovertemplate": "x: %{x}<br>y: %{y}<extra></extra>",
         "name": "0",
         "source": "data:image/png;base64,iVBORw0KGgoAAAANSUhEUgAAABwAAAAcCAAAAABXZoBIAAACN0lEQVR4XgXB2XbjNgwAUICAuGhxbJ+ZPqT9qP7/c9JmlqS2KImLSKD34t+278hv/5r52/2OZbnl92i6fb2rEIso8XAfrJ8CgaO4HuCh7yD2wmftQuqdtwaaiDlXCTOl83f2hTW3xuiJWRIhKNEQFoQjbUdmZELjJmnSmhmtkwbfr6Xtp7TCjELDy5ziXvrA2My0/Ol+onGwZQ57ofkPa6qqIlSx1lE5ZPaJPF8lCXkeZu9rmHpWwsfjF74QieeblJw+3cneRxjuKkv49fE5jwg9cawAGyxhtIUaviwc8tveIedjW/ndIO2pfp9bUVT3guXzP/VU0/rM/DEGKNs5WICJZ1PS14/NwCkNHXA81ZOex9NNy8tVPx5xl5bI4WVcGWvjRUxdLwGny57TCXo8hjDcx8zdkbFTLUDGagA/D3EtBQjQeq7fXufHVtlR7x0Y1LhxEs8GxDNMr1d936+3m53x2bYvQ+7q7Nl6JV7MYUXU3v4arUn7GgeTMZhG1JXn+s8jm2mZllljPqo5TwjDmfXsyJeyPksZR+fs4y2CEJC7uP1IZZj49jzSgWCs1fj5GDzbC3EXADMt7FwlT1broVHtMHoXUkyldOw7CyNaN+NqWwwjTwFL/J2M8Sgr/5BDrF9cej/NEoh1+3qsLQQ/1Mo7wjRNM28RlqKAEJ+HQoFAZ+WL8ByIrMtSiygxDlbroYPGJxOGYEpnoqMoCE6LBdM7GVHh5LRQRmhfH+fsiqgdvSWFrob/Bz+bYKv0pjOOAAAAAElFTkSuQmCC",
         "type": "image",
         "xaxis": "x11",
         "yaxis": "y11"
        },
        {
         "hovertemplate": "x: %{x}<br>y: %{y}<extra></extra>",
         "name": "1",
         "source": "data:image/png;base64,iVBORw0KGgoAAAANSUhEUgAAABwAAAAcCAAAAABXZoBIAAACTUlEQVR4XgXBV3LbMBAAUAC7KCwiJVlWnPrj3P9GmUxmYjtuMptIlAU278mfn4/b2JyNwOS15RihjXOKs3cW8MQLVzZGoznRSmg0ymvkCiwwdiFibUoqvC4lq1ZLoWQWgFwyomAlE5GwTmSoHMhSwMQYhQZkjcWTgN3327KUWsclhB2MkzAOcdPI2Xb7rz9/qMe5duv75Z3dTMI1Egcnsepuvtz/OJM3+3bpevlMKeeUGHNWralcU8kQYwGH7R5Azo5kiKhN1Wq3vzHjuD5Mb3e7fncndBJRxoQHwSSq9rZ9fXp5urjTl/ub7PbHbYrhiqetrK5IVMufN7+9/3ulb0aYRkfPgI63FazNy8vjWrvrjH/VuWu6SpDrUQm6MgGFaVxZWvIPbPemqauFaiwsZQoUVp+8rPfNPOInskpXao5IjG3VaaKUOereZW+Nta52NmpUTPZ029kIUpBfDPaHxjU1Fn1TK4OUddu3IECK+DGSUlwYmKCpEas5l5LzEBoZfRDGWl2WMaBVBSeAdJ0+5NZ+n6eF7PHz+aSHhyElD/h8rP310lrzVc1jkOZw7jsMw7gFn3E91MUPfVvddiKllLujSsP75bJlv2GOIcXxrdSHO8d+WNouXn7/enpNlgVKrwtP7M3g7DatYQvb099LiBtXLXZACvOYxXaQH1c0DtfpI5hOsUDsMivMeQkvjt/CbmdKIC6k+ywBs5SgyuoLVmIkThpTBpGK0xKQDKAM4aoMgJMWmbmIkgtZBARZBIeNnBJSG1u2UCRHVpkV/gfbUn4aJKMuwwAAAABJRU5ErkJggg==",
         "type": "image",
         "xaxis": "x12",
         "yaxis": "y12"
        },
        {
         "hovertemplate": "x: %{x}<br>y: %{y}<extra></extra>",
         "name": "2",
         "source": "data:image/png;base64,iVBORw0KGgoAAAANSUhEUgAAABwAAAAcCAAAAABXZoBIAAAB80lEQVR4XgXBWZLURhAA0NxL6sVgwv7mj/sfbCAM0y2pKje/hz++f0EO977dwUv418d+A+lJ9xvIN2koxjxSB0SDPswgVmKkyDea3WzYkcSM/LSkjEX5zrtgVTZTG/d1xjCzyNmIXT7lFBNQPRuvz1MkYe9VhpXbw2T1pr2PXARljy9qFgBk2fbchNdbgMfGo9T+eVb28uoqqADRimjR/YnXGn//Oz/+XPOc2e2vlFHIWXO3qC77Ov9krnMCtr8P2VdbQ3iFI3iSSIdar9UVggzWyejvizEWczvedXUNdllJXWAyDxj3mwCsizguJ1Ui91gzIWcx6U3n65gdhwM2qnj3CuyF2EUGxytMswaykQsKArWLsm5/PYwyqqJ5DL6WmFAXsRKQbPs++ryCM6z9WjI2qUUbVbU76DBy2moJULNgeC4ECRIxacdBTt0TrFtqvTw4R9u47br+e6MEMtR1rRSE8sjLAWXfaM0Ft7xR5Hm1SsAGTuUMZHcpJB209XXEspt8GilTo9GKnIt3ZJGqS1RYGpkRPNFfH9tRZasCAPVuSGJMPPg4yutn/NZ5fF6iiKAEJUCEMohieedUP1/L1Nuoq6VJVYqf8XvWQrqiELFnW3lKgz7gM3ZhBm88k2qxFAGSS4mpn0ePSJgTFnKQKneQ9v+C9npuqNAMUwAAAABJRU5ErkJggg==",
         "type": "image",
         "xaxis": "x13",
         "yaxis": "y13"
        },
        {
         "hovertemplate": "x: %{x}<br>y: %{y}<extra></extra>",
         "name": "3",
         "source": "data:image/png;base64,iVBORw0KGgoAAAANSUhEUgAAABwAAAAcCAAAAABXZoBIAAACG0lEQVR4XgXBC5YTOQwAQFmSZfdvkgGG5Qp7/0vxgEeSSbrbtmSZqvD/R87f4Ne9581hu+D9hRy87nzpD54opVILpJl1lF0bLDFbtaAhMfUA96eOKByg/qk5mSYMoC9ELmhjtwmFiVwJp4mDWrNmSbgzar98jBM5ynW9cxrYjjpQZuLrQkrLV/p0lPf44hq9nQUnnwj4+7kDU9qm82h7PBUWfhTmoaMxr7d9WmeZox5/h/gzv1/gVUlUe2AYNvIa46i/f/YlW3SZrEgkgM5/MTPhoNRun8RpzsMhZnHtXnmfpii9nnCcKGnZKGK+CtaT+GQDWWNr1Vta3uY5AbO8hVFUJuLq2zRqXHH5IZcNaueQZnWJAzaW3nZQx2n+4dM17C1iXM4zbu7AXw4KWB645bkFQ+66M88NOHTnRULGXgs7GjXCWnefMJgyBLbIMsTBHHTInCAE8P12H4LM1aiH7jYwGKzfqPqy1fI4c9DC0ouFVjsjU/z4r95gXUyNBWrh1JpiH623GRNYq2PHwTK0vSqfIfSQc1ezOda7lfJcMknVasKPBbvLCkcBin72/ebLeweQmInfuBvmFRnuR73m/rwPyMEwz648dyOGijR/Pi2Qdzc1DHlKHrgAUd9boJCBsbssllCVbNfOiyEUIPjUmAmbeka2oubgg9/37oLSbV+odHEL3poFjiLILtoEtXbAcfiWWY+RUVLOX6d/fOhf/Dbq6YYAAAAASUVORK5CYII=",
         "type": "image",
         "xaxis": "x14",
         "yaxis": "y14"
        },
        {
         "hovertemplate": "x: %{x}<br>y: %{y}<extra></extra>",
         "name": "4",
         "source": "data:image/png;base64,iVBORw0KGgoAAAANSUhEUgAAABwAAAAcCAAAAABXZoBIAAACdElEQVR4XgXBCW7bRhQA0PkzfzYuWihZkuVsRoIACdL7H6OAi6IoUMRxEktxZJmkRIrDWfseqE+bc6fn+Xx2+BdWE7z0ItXeHzotIm7hZHmhknPWu9+tpIBMEn5Vcgi4TB5kqS7tWHvXoFKZyKKF3MQEuHSQiO87GtTbZBMQiDhx5mKC1jgfnO0HBll1s/KNS5c2GUKG45gJhcFZN8JiezV7/6p5TMo8180YrYmynOIx8Jzz9cet3sxpQG1XzbfnUakhhIhWLcrEq821KHWIjFM6qF0bO3DNiFk+1al8dbt2dDg+kdn1KoE+mB4GY3AZjQu62lbtfvf1p1v9kU2LKjWd9a5DNV4cvRJKuPu/fx+OqsObSIvly57mBCMx/aQs6Ph8v3OhPSi5vd7IQqVYTFGnaDKVmfrx6ZQsI/Xdw+esBCJoZCiDHjmxzXFXn1OsQjycpu+zBIL2I55GJyfStnU9ssSLeCKFZoyhwADY9o28KXgIjghKRRByORWck8EJgcPl7B1wgYmEED1ELQQTEx0cBBRaC5qoYGIC7Qsruc4zEWziHDyynACLbLLpxcPxXJTr9ayCp++PDiJiW13Z4ditN5S1ev3my7sF52T/335ILuG5yN0TmWXTrHpbZh9u13o4Pf7av8RgPNo6jMc+g9tq/pktriXH7ueffx2GkJxHd7KoyK9//OspZ2D6GL/d3T04O4DMUVKQEuX5vi6ZLybA/I+HJiaIQWkUgivG0e5+0HDRC8lD5/S899QKikRrjGQcBkeTwQsCo0oFj9rHhCDLZLxpjScCMaQogRFHKdOeIAk2DMZa17uiTJbEQCE5LokE/B8J93QGJXIg/QAAAABJRU5ErkJggg==",
         "type": "image",
         "xaxis": "x15",
         "yaxis": "y15"
        },
        {
         "hovertemplate": "x: %{x}<br>y: %{y}<extra></extra>",
         "name": "5",
         "source": "data:image/png;base64,iVBORw0KGgoAAAANSUhEUgAAABwAAAAcCAAAAABXZoBIAAACRklEQVR4XgXBi3bTRhAA0J3d2ZckS7bBoSX0FD6L3++BhKT4JUva9wz3wvfX/+vpc3nJx854CvD3p8vb7d4969uPX5hMz70q/vBB1Jyb4y2SshCpQIdR92RqbGhLSYsQa9vIIdO6sEcuJDKT4sDGW+HFdfMHym1bM2HKTAHRWKH3o1S0/FeHv9L77bwIgcGIx6rsBKy8VcTDcxtdDueHRMCDT1kYwYk6Gea7fv5q0vzgSYNgfJJrZV8LmcPx+vayO3zp10eAU16WgoalJjtlcTypx+UuM7gmGLXKHJBZKNB7AR/t5dc5CjRqeZsNNaEsPjRgE6z7fQkhNEGR31/PI6Rr9Ph7VDkTugm3IrWyNSqqJejWzIRtBVFFACmWS+7s077z/XCryRyURVeb683oZYtL6aanIyxRtMj9aBISam06r2rMTXZdi6YkYRU0AoWPfmdbUDvZ2DSV3vVhzHsf71TcJHMDw9cLOAEe5vsa9ICAGurGA6LISUoCIOU4+nGy5XGNXAkVoYGS/AdtWBol3enbP3ZeSAKyx4w7ErF1zvVat7P49O/HdL4mUMQSFepGcd4MTsOocji59ff7/UKGlR09MnOLeVjizu6+NXmZb+d1CYMDZsIicm51fumkSpP8+TNwKKydL+uKWESGjuX6g03Zy9cXNIy97GGd7w6HTXoHGu4w8ZxeQ5eK0LLmROuGPhjvpOJGLd8ewUKpXAuBM3XBtWEuxilj0pLlYDGx1Gs0PULA2apQPMjebMEeoTRq6MPMGkX5A/TcgRZuwRGGAAAAAElFTkSuQmCC",
         "type": "image",
         "xaxis": "x16",
         "yaxis": "y16"
        },
        {
         "hovertemplate": "x: %{x}<br>y: %{y}<extra></extra>",
         "name": "6",
         "source": "data:image/png;base64,iVBORw0KGgoAAAANSUhEUgAAABwAAAAcCAAAAABXZoBIAAACUklEQVR4XgXB2XLbNhQAUNyLi4UAKYmMHCvpQ2fap/7/93SaiZtUiWNL4oKNWHoODM+6/x0DHo7tvxc28cejO+8ot4DbN1JCwqwQfKk+RqaYEiik5J1rPf028rQ2u3sO/HBP3CgumuxUCvZMf6q0Rmx7amKSbSeolUMJLNTThWxttZUM7Q62PySoq1uIEUt8OJJnwFNB3URtZKlC274nNYp2HM8UpWlLpQOT9WSApeEy/P0GAEIBp4gojTh/pL4+mXibp8tn9dUTSzdeqHnBxGmc+hFGlYb5+Kmk8FqrX3Mm6zaopFmxzN1ZNsc+d8qwkpklEio3afu6mvu3RZmDtmHbm7RCHiRxLEx3ZvHp+rL0T7bMj2WPoIwER7YE5FTuN/j5Kwh5OOa3W1WCIdRCOhWU7tf7W7l50Ebz+fXG+g55h5FQQKtLnO/QDfZy6d7//blZAahlrrSHB4xCwM7HaXr+2P75cVsqAwy8NHosK+iecVG96/GUWy6hZIkbqI781kT1TYyxbGsSpPTgwmJ4QYk07FUSU9Pz/BZC8CQ6I7YMHRBndGit5ERngfcUo+u4NmbdmOk5Im6ZeHi95xYdO31+knVPZBQp1WKhF4boZ2769zz+8dfly/J+vTFz+EDznmghrgbJrtKhnSZYfdoeauplaVwTKtmNND9cVXW9pi+hGwvwsLv4wRLqQWtdPaDYv2P8GthoSil+ZqTJmKOqiSnBpHRXSD4Vq/aAhMpRAyXnhKrmykJUue4OB8kl49XRm27p4YxAsUfvNECLDoxltcX4P8h9XJMup8zuAAAAAElFTkSuQmCC",
         "type": "image",
         "xaxis": "x17",
         "yaxis": "y17"
        },
        {
         "hovertemplate": "x: %{x}<br>y: %{y}<extra></extra>",
         "name": "7",
         "source": "data:image/png;base64,iVBORw0KGgoAAAANSUhEUgAAABwAAAAcCAAAAABXZoBIAAACQ0lEQVR4XgXByXIbNxAA0EajscwMd1JSUi77kK/Ip/jnc3AOqVgJRc1CLI0G4PfUd3PEOZB9/NtudqtGkmM6trm/3DS5GvszAK1NMba1a+1H0FaDS0wiKDEIsrWIU9qKBwThpnNiqmIAlCEEXRSBNFertNTHETK5hrQbRzMvFZU06AglFvDjrjAZUXSwEznHzerzY9nvWUu3VnVNXAvuyU3DOSd78vPduBR5WZNIJ5OyR3TH1vJ70ZfrG0AITEGhRtqHynGncmR5plZd08bZ+LM71yw9nrwo87ivRff6OXex17cprotG0PSQLjX8F8HtJwxP6TWXkmtLWDNNsTifP/i0O13UMhhbVQI4f0qFTJ1FY+7D7e36UnfKtcfHnN04rNV72qLkTe3sYL3H8eA+I9aQgus5TeQKqkTepP950/33b9ctApfuVVlWekWGJKrJtvyzbl/+/OM0l86cKkIi0iXDwCvgKPek/tLenOpjDp6cpo25ns/LmhwJvv7GP47XM8xkXHWGNvRwnEJl8Gr/ut/mfNl5bZQVF+npDJFwUwA00DKD+ulBYw2VhUwXQ2Z8aWQrhCRm/QGeyqp19TRxUTj619Lbyg1GE+/TrWYZrT+RNFVz3xnOwWE1JBV7K61n1EIfhHmDz8PxYGxJSrNB6go5ZjtT17qlJ++/3qw13K3Km0p4jCtQpwu1qjkvfy/DdLYde6tlk+FUzY7IqDY4MTnGAz+bpmcg/UymIuRED2UG04bxEVR9347Te7i47U5etY1/AVcwgwKYR/gmAAAAAElFTkSuQmCC",
         "type": "image",
         "xaxis": "x18",
         "yaxis": "y18"
        },
        {
         "hovertemplate": "x: %{x}<br>y: %{y}<extra></extra>",
         "name": "8",
         "source": "data:image/png;base64,iVBORw0KGgoAAAANSUhEUgAAABwAAAAcCAAAAABXZoBIAAACXUlEQVR4XgXB2Y7bNhQAUC6XqyRLju1ZEgyCeUgK9Of6yUUzM00TS95kSiQvl55D/zpfcoxDW8joek3DIuTtwlrqw+UHQJOC0OJ2Yal4QpNuZE3I2h7lCl500sc4Tf3AuUieVGJo5BKUtPBLKlVjNYNQW4lzCrWxBiupVVO4FL2lmHe70X3qkGaURlaSfRQiA4n3hV/y8yAK1Ts8MMPXeb3P1/ZhgGecnDtyU8nD88EsttNp3uTT6lIBeGTNiLyRdfPtCacjT2QuG1Yo5GsERbRpHwzww4v9eH+T13DWT+TjgxpOATFWq+spSsDbdNPKLyzg5PZb08Ebyaj5vLb7xsVMxVAliyttFJctjAxlX714/fPz727bPH6t//6cbmuJQa7Q5ZXzwrevr319wv6P/Rh/LlfPeGcMyMwj2oM6GLX5IvoXcRGNqEJbLSSsHO7n2mzIXGYk13/UvXmcFmFEGj0sUKJfBz7+sOfx5NTL50e/jZnDPRXIPrqMSKAOy3R20H0X/7G6alkJQFgiCiXJ/LGUy0wkzSxiESIlGsFytLqVkvuJFiCGL+noZFNurCmw954qglFzUpWEw4Cn08qon20vgRPCy4otI4SbbvckTr+rTTFw3T4AIkJJRDcl8k+vg5jef8HuNktreQu3EHUnAigT2OHg3o7HwHktNYTcQCw1S1li3nMn5r/fK1M113Id044wI1hwyCvWmtw4RQG1YKJlWVIAiIwsyBQ5LqsX1+Bd7cJSbL8AA1eAITMbG04uS+/P914GD7ZPBcFrHj2zPUflqeS1kIqFKRMdLf8DXH6BHUKxd+sAAAAASUVORK5CYII=",
         "type": "image",
         "xaxis": "x19",
         "yaxis": "y19"
        },
        {
         "hovertemplate": "x: %{x}<br>y: %{y}<extra></extra>",
         "name": "9",
         "source": "data:image/png;base64,iVBORw0KGgoAAAANSUhEUgAAABwAAAAcCAAAAABXZoBIAAACZUlEQVR4XgXBh3LbNhgAYIyfIAaHRKmulZzv6vTc8VJ9716TDqdWMxxxgcQG+n34t/9e1C9iWoKvDoyaq/iJr6/68oimm4eEuQp22qkQdUXTsW8TKjGGknCGBfVnPkUiZPGpBMKQ3UOOm9EhwlXVgNnAWqYdSGx5dA4xEr2HDl4ueFKy6S/dtrID1mkyUEuRYuYDxBRGfD6ef7ikyVP0lv7rtYc8rSHO8GaoAq9wMB75T2P19Ia6cXFGG1hfoSNYCqy/zd/AfP6L4OOd/mdajcngN3gBeQLwi54qGina9kG0clc8V4jDIoAIcMy+hPo4SGV0IQFLEjM0oGqGcTabW43k/ekAtO8JQa4EV+CQcDLUfN1CkVXdnbtWLR+vOZdQGDSWVtYuu8GM1pAwNuzyKxpJ3JMEoADrzUJb1Qqtdu7F3f39568u+9IAYIrNLQ0SY+y9+ajO+L5l+41m0QCuCOPJN2LcscrGbL0Ck0pAIHtgOZSmDoRMu0tp06xrlz+vq8W8a4BjkizJgQKkhLn88ek0/v37p8SA7qCYLA5b15wUa/nD3dsH5p0tNQrawOOqXabc93esYuTw0JTn97MiOTs9Q0tiYMOxsOHQ5zH7eX3+MHHurBm/wIxJTPi7Hprh6Mj1D5vmLZKSVT1psDTlYjYleVnt9vphFhXCEKFN/QBxXyzZnq/9hUW0v043oUzgddvPzROgLzNFy3vd/HzKjK4+VMk72rCKHc4Qxk3acQrn78VmWUpMCe2BzZ6/O8EacXbG45rX2xaFoMjYENfIL8MjIEFQJnUB0aUslL6Nu6PR29CF6n8+YH3YeH+EKQAAAABJRU5ErkJggg==",
         "type": "image",
         "xaxis": "x20",
         "yaxis": "y20"
        },
        {
         "hovertemplate": "x: %{x}<br>y: %{y}<extra></extra>",
         "name": "10",
         "source": "data:image/png;base64,iVBORw0KGgoAAAANSUhEUgAAABwAAAAcCAAAAABXZoBIAAACcElEQVR4XgXBy47bNhQAUD4uKZESbWks2R03GCRBFtkUKNBV//8HWmSfRYKxOxnbsiU+JD7EnoP/PpSLsP+81kXym/3uWb19e7RNKaqub6DkZJ3SsYPkDRT0drYBno6Ytw2+A7IQHNkrrK3BNR0upOo/vqBc0ccdtjljUqiGiJEQlbTEVbfbIDNHE+HZGlSrcgnzFJXI5JCycG/gXCQliGhBVHF6jI7xxD70yK2Tg8UswIGXEknwwToXs1L977Csy/Q4E4IINDgFHFexo1h9+qOmtZiNeDoNkXgLwqLZZCS3jfvtr6/crZSMS6W6PIcZvnv9mEHCk2T9lw/54XziwGt1zYDg3w0aZ0WLti+p+eUNSkFGZ9zCsgZNcUIp48y2/jrefUNJvb4P98DsL5AUi5KwdVpqcr2fTKwwSvezDYA40MhZiMF7XNRo1GPLw4zNNK0FO8C8YB59xHKxbf/OJZ7uDpvZIkAJzArBO8wo56rvPmv3etYeCxKjuQClFdcr0kDlgbGX6/fxMdpqi23UFzg6UdCCsHaTroxgxgTLrAazIJfgOAIjsmqOavnvop5lpy+EgXcZg4JSByZz96mPP37emz8/Pg2iQBBTClnAcF1JVe768vz64zEeOpYSBk4T1QnDoCOjm3pdcMHLgq+3i3aYNm2jhxEY14NS+4Y2BN3UDg+XcUpLbFuZJvA52VB2fQqHua+23mYmM1gq1dbBKYf5/e0U1tkLUYSbkS97jLS3QCUghpf5VLQIlTkmM8ylqhGW42Q4glxsl/Q4DW6tymW0vlAJ56pGdiI1XIigwQy3N7Pdh7Mrd+tKE6dYBNX/D1iubtSL/yloAAAAAElFTkSuQmCC",
         "type": "image",
         "xaxis": "x",
         "yaxis": "y"
        },
        {
         "hovertemplate": "x: %{x}<br>y: %{y}<extra></extra>",
         "name": "11",
         "source": "data:image/png;base64,iVBORw0KGgoAAAANSUhEUgAAABwAAAAcCAAAAABXZoBIAAACaElEQVR4XgXB6a7TRhgA0Plmvlk8HttZbm6aUgTiBxLPxUsj0VaF6IITJ87ifdaeA1976juG/bl9/cKbju1FfV+vA6hcS7ScJLU4fVAZcSEzIibKgGOl+iMqHGz0WAmzDIFUuXeJEUsVT0NDt1lyIYXES2yvtDIioaLWE/sYAsZgmO8e51m4MRJRGQTglqR+sAp/FRUf3PlUHVClsljJ8uZ9O47Jqwwb6fphtg50YciHj+sMuvtlaKc8FxyFf3S3ti8qWZT8/ScTxWal3XQDETxqR8hwZRIW9qJyf7uBkls3xbBEgkvUBDNKsXx9x23d1HPxvpoTcSmrcI4pYhW42R/Wy+VY97ZLvKknSSaJJvjJAhDg+Hh7O9uqlLH5cVM6dHcUdnGzB25weh6fcvfpNZwGiTRFG/DhrLV889e7PDBDyo+f2XEh+QJAOEVMxBG5fSl40jtQL5vTv99GdiBxsB4PncXFL31rTRZ9JGP9z/f4xx6WECQe8B4KF9pOv+6C2fLLj/9+AkPqk1GodM9XIV6iAbX+cx0u9X3kcwuJ8oz+brspkbHt3DzwfdnXvVytypyTYEf8e5plAQkzJXXBh/OpJ5yKYg5AZ6wjW+1Fm+n1bsMvzdt9XAJ46yHLGfZa52aToflQ0Ed3uoyBlVrMC8syhZhrd42k2BxMez81g7VMV8K7EOOC6zz1djLbkjIJy+wCEQDKP56UeLrlc29DIGkOuZaUm03u+hi6pxcFEu8Cx9Bz4CoCgnZPyxIwSXmJDXil7DBbC/ntYcEOFoXEHXn+zPBYlCW9OsNXZL5fE598zilQpN1l+R8TYHRpSL50rQAAAABJRU5ErkJggg==",
         "type": "image",
         "xaxis": "x2",
         "yaxis": "y2"
        },
        {
         "hovertemplate": "x: %{x}<br>y: %{y}<extra></extra>",
         "name": "12",
         "source": "data:image/png;base64,iVBORw0KGgoAAAANSUhEUgAAABwAAAAcCAAAAABXZoBIAAACBElEQVR4XgXBSZLcNhAAwNpQIMheQqMIX3z2/19mSe4eNrHU4kz85+9H2XMtq0/5DMxfr+ctCA1bA/nBkQtzfUY9wEEO2nRNBwRS+QKLSRyxZkNE3W2ln17yHA/BDENWqOzvyzbU1q8wZwhb8to2wK30qfHfKdW9VpManNujyaCjwH1/nS2t7Q9hsGlUyOqtCs2z0EFNd8t8PMF99TGIUgcIW1/8KaXxdL7/lX/egKsj03xfwiuq+EV5va+2fWU/BSOQYkXIblArzcLv11JHZMqQO/lKH9IWbBrp379OxXCVWHCIX1AxhQjRocDrTx632ya0ZiEzFyWUOWUFkfclSZU+r/e1oYMgoMrMnMs/PCmX4fz97wfEoG5MacKVOGwWLLjdGvvo6BCojc4lrSFnAtoV2lrbsmcpvkh9uWwFIVijU49AUZU+chiSkkqYhdOe3alsjb0cvuxy1kIoPt4z+EZL2vO559mpOFDitGUiCWbcw+7Hz5/7NbsxaV28upGkHLmKDN6OH1/1NWeqbDHmp6PKu7KyEJECZj8XqxZFNC7A4llaQCT038qP0zQRgLVCdRQhLILfZ/Cw80HnPL1UQSEOFwTgQoXBA+ZZxnmZLqMmGSgJXHnRPa7ASdYXcWZMaJApmbzH91UrRI4F09CA2ZeoTImiOq7XXZDdfE2HC0tJG1T4fzEoaDOedJ9PAAAAAElFTkSuQmCC",
         "type": "image",
         "xaxis": "x3",
         "yaxis": "y3"
        },
        {
         "hovertemplate": "x: %{x}<br>y: %{y}<extra></extra>",
         "name": "13",
         "source": "data:image/png;base64,iVBORw0KGgoAAAANSUhEUgAAABwAAAAcCAAAAABXZoBIAAACb0lEQVR4XgXBSY/bNhQA4MfHR4qSLMtbYjvLBEFRIIf8qv7bXooglyKHHKaZJB4vY8tauJP9PvYXS4PRHSoD67W/8Tp5o2H1tgpYUTLW56LOvCDB5AzRgIpJCdNVNfVjRCzqEAueIiEYXZYs4v16W1VkAwBjVbaQvcuG+ZiiIK/v1txJxgiiWRbaO6tYBAiciPlQsHAiqV253O+b8doFSpgFm6/QjQH5y4FS9O3u4ys5Sa45U2ySqkgAlDN6ohLKel1PsCo6T4mS0d3NBOTUZGoghe5i7nFOLBSL+aw4//N0s+WSRElDP4yYah0b2YX9ZrFqSWG2QeFtoLP18GJYliX4clMtSnu9i1dKa30ayegg/UufmkaudrtN65/+feaLqhuAI8UAVTXmweU3D5/eqP7Xl6/HVgLHCok8qGUBw+0lLbBt0/nbt2cDjgcrKk+aC8qM0nBPq20lR7YtpuHqWJxJJLdYNQawCt1w+C7qa/7IpkdnIwJIclg32Du+e6+W7j9/4n8+LF0vJlSZk0hGI/Fqt68LuF6eoXzdVGvssrSOWhXukrfy3bu5O5yftRq7UlUDupASPQBOXRab/UP5dPrR1YuSKen1fTJJ0ufTZepZ2+z30fVBrXb7beNkTiw7oK05g8xCMRNgKWj94e0mHH8fR6+HRIfe8zmfhePI6Y/M613rTt8frwFcP9HfyQkh0vHG5fZ1wYj3l9+PR89lPVm6kahUuBpAafmSO2svZ4uFlJQ5bVi5wZN2Eu3PsC4QRMiQUAjBE8lc1y7LuojX3t4KlpYzAB1SrZCR9ShTqBt/+GVDBu/796UIfWJR+/8BGpZxoV2IVEwAAAAASUVORK5CYII=",
         "type": "image",
         "xaxis": "x4",
         "yaxis": "y4"
        },
        {
         "hovertemplate": "x: %{x}<br>y: %{y}<extra></extra>",
         "name": "14",
         "source": "data:image/png;base64,iVBORw0KGgoAAAANSUhEUgAAABwAAAAcCAAAAABXZoBIAAACMUlEQVR4XgXBy3bcNgwAUAAESZGyNBPncZxl/6P//xlddJcmtkejFykSQO/FvxO71A6Eis7fx/MEAgBZbSwLo7kg6xnyVC/anyf4nNhawyiOAWPcjuYodtPzcQyJ2JFjERq5ZU/KKedAkUFhCKjV+lFD/sLgqfT59uIj8wiPdzkvKV27mmN+iVZ1+vZjzD6O8lyeHx+Pw5Ci7xunLuB5/PnK0lqzcP/y9o+KNtOqzAu85JwH7tu27t1e/wosSyNBQy4FU5yTq5+/t+1Zveu3r7cDSAyAf1O4OgLa499Vjzq8/3IWonRDVG5TANPyjPt/azCVWjpwbGcLUHgc0Ee6nvG4KFCP0zxamqI8hJEjiG+7GwDuOFJPb1n9Kx/lPJrn2FG3joOFn+QdjHf5HL7GXzHvJfB9657qGqoFL4ebbINwjyu7aJFvesZ0tWXtOZd3alUwJCOpNN9YsDP7urd2lrK4wUKo6/XnY9dg3MQMQ70sRIApj274/g0fH7tqXRh58N3OlufhSsM92svb96Uc4PtVGInQLvWBiTmFiNlpFyDX9oN3MsOUgJxP5HjI4fPZFMVkP/lzdtrG2Sn4gYC9rpu4dTtyzsDJqQH5yFZPZCz7fkI8thLSRDxKM9w1TVxWHSZc9mLZXITuBramsD8p3u56OS3SAHvjIKje8Whkrdm5PGZGOWtHNlMH4kfPL80sspRdXKrotRHJ5d2gw23mS0zINcfe01rnwU41snQznn/8D3xAbW9x8iT+AAAAAElFTkSuQmCC",
         "type": "image",
         "xaxis": "x5",
         "yaxis": "y5"
        },
        {
         "hovertemplate": "x: %{x}<br>y: %{y}<extra></extra>",
         "name": "15",
         "source": "data:image/png;base64,iVBORw0KGgoAAAANSUhEUgAAABwAAAAcCAAAAABXZoBIAAACJUlEQVR4XgXBWZLjRBAA0Nxqk9pyLwNB8ME5uP9R+IGYmR7bLatUW1byHv69yvoqUA63hf2m896/hUJeprgmm6A1s/2nY4cI/hsk6GeP2BVl0z4Ogv2IHdi7mLgc42kXrGGRNhQnEq6u3s/qpwlNUAPm2eUHLUEcI437Z+GrDgSWFYQui9CzoqALONHKjNHUTCEs1PDyKivNA0CbpSh4vSDz2cY07S6bJNAxIZh30DC9xvLYi9Y5oT+ewtVEsE+qpJzepRxH1z5M5jnlpY8U7XkAByByBHN2dDyECCUEeVnKXpvIxYtLW3QDeYAPhGITcXREdXFb3j42/Zmp1QLJM0lr1EcZGBdRi1tgdtaqClAQKWqn5VNDHE9HPX8WwXv163YREIwIY4BPDqZIe9zyRBviLyEfEiIYMounOgi11YnmuPZZ9yyRrLFLHkZu3YjT6LmXupyRV2nQa2ccvWWSJbrVvvKvB2oPUWWMvZrYzOrePz5CO2v+qrKkfmCTpdeG1J85vv/510fv99v9Qa9LKKdnEVxh8qR0/e2P3+P+9d/3apfg+Jxhk4IcJsIbekI7b5+P3W3XaEoak5xewHSw9f376/HvXf1yfY+z+R5YDMk7vX1RGvd/1l9ZkufZwEznEEdAATKzF73lE5PAfDZ2o5EXUPQw5M2DzawgAUbDwoHIVLIXD7mnF9VWUazXKh6qegeH9JeUylkCO8zNwEYrLNjrSND+B6z/aJDNI4QEAAAAAElFTkSuQmCC",
         "type": "image",
         "xaxis": "x6",
         "yaxis": "y6"
        },
        {
         "hovertemplate": "x: %{x}<br>y: %{y}<extra></extra>",
         "name": "16",
         "source": "data:image/png;base64,iVBORw0KGgoAAAANSUhEUgAAABwAAAAcCAAAAABXZoBIAAACZUlEQVR4XgXB2W7bRhQA0FnurBySkiy4juzkoUiAflU/O3ko6iCFm0qRJYriMvtMz8F/ijy+/bv90o2xN7D+mpOUSbas2jVCCYnuqii3gQqQrVneE8+RNrmgCJosYJiSU83BQs/BelVtqTF3GopKERDlLc6kooqIAJEyLiGKDzChAgo79PjsLJbtPjc2ZRDJBT/DzVHBOTIvezchvX2uf/+8e1xioWiEayPtKvvd04EtqW17d7neUnClKJbAdU24AUuVPuyjZMUCW2/3OZItI4CQZLMdjrvNkw6Y5MrqNL5fgsRCglwnWvwA3aZVWRlEiV0xrwkkpUCmwiMu63h2BV4ONBU7xWYXOlUiMDTQRmc3nG7edE9K3Iu3wI2Oc4JHdbZYeHcmj13f601yY2aYK+SXAEltBUWYlXH34fOLTMPbwHSDy1KLhFXJmhCDZPP28IDG050fFGdpGIEBcEaKSNahGBMpw8kBZQkEB9VCA1UAvq/zRqPsx9fX85A7SSg3agMi5Zrz6uG3551eXr9+X1ZqFHN3Vyggb0OMmR7++NTTy18/Lkwz0+Xr2ZkIxiUfFrR7fNmL7APsnzaIt/HOM6mgG49oiqVmH9Hmc6N/38xXPwqTfYERa17ZNVc7abQXH7ef8H/leH33y4XASdFe8bmGNZaYxXaHbz9/HE+jW34lCAhTKfX9zDHKg0fX8vbtewZvI0EgcqQ4A7jjcvzYTavI538G2XjUmwgIc8MvC9/TafVmHgn3qRWVaC4rWNz2xdr9A1rW67wOqdNCSOx99BRyUmEZ6da44licb4FqQNTEy2Cb/wF8DYQKCvc6ggAAAABJRU5ErkJggg==",
         "type": "image",
         "xaxis": "x7",
         "yaxis": "y7"
        },
        {
         "hovertemplate": "x: %{x}<br>y: %{y}<extra></extra>",
         "name": "17",
         "source": "data:image/png;base64,iVBORw0KGgoAAAANSUhEUgAAABwAAAAcCAAAAABXZoBIAAACbklEQVR4XgXB2XLbNhQA0AvgAgS4W4stxW0m8bTTr8j/f0FeOtOJndixLFOUuQIEsfQc8q1IA6t4M6phUDEoj8n5SjNlss+3+GCMTYAsl1yV1DuX3KKZJ6zzLJmQmhExGGtNnqyCWV5guQATCrsOmw9fs8XRvZQBVD45AFGLKCV07ziMCUIILJXCTJ4q3FHLUu9cUgvUliw8iY6KBBiR1e6TTzo7/Hov6j2WaWAcxgs7FKy8efjrJrb73fL4XzNqhbe4ghiHiS+GZJv7f9i/T3DPL1Ql8xtKiIxRWdJgkFPf25+PxZft7pjHxqAal1zkK41cpAKaefqtN1JtjnxAhetiV8VRseLzlobxasb0kDnvtcUCF70wJFyKm/s9dDZ6q0rev181KTIEF9Y5yVR+VwXdr7ppgu5Pr50TUuHsrDPpJr3durZrzeXFlvPvx5MhNhA860CQknzPf73pfjpfstROpy5y/fGGo400yt1x051e0a9QHO7Ti49AydjSKiWLzw979v7SzIRnf/x9x+aVC4aMYM3DQlXun77/sFBA+edD0pxaKhGqBUlJURViem6ppElZfj2cX1rDqHVA0dVFxSqqw75g2fa4qcfTsyaLngIi+lUoQgE3G1RFmqH5+awBYJkw4chnE3lvylRxofx8fn2aU205wUR5dDYQ2V1luaX62jcvb5PISWRC8jRggBgZnS9esdO5vTYfUGYVWQnEFZH4yaNp+6bj7WlwngGhQKiEyQhsvHYQr5gP2F0sI4AwLTOPZhQJ+VozYDRgXamppzQujpPZcqLj/g5pxqkdVmb1kRdJnPsPxsy8rnAT4X9jjWA9sGS6VwAAAABJRU5ErkJggg==",
         "type": "image",
         "xaxis": "x8",
         "yaxis": "y8"
        },
        {
         "hovertemplate": "x: %{x}<br>y: %{y}<extra></extra>",
         "name": "18",
         "source": "data:image/png;base64,iVBORw0KGgoAAAANSUhEUgAAABwAAAAcCAAAAABXZoBIAAACJElEQVR4XgXBCW4kRRAAwLzq6GMG2yuDBOIr/P8LPGCNWe0wnqO768jKJAL/CjNCtLqV9z+OH0c8efGc3VOKKIM6UjV5K6G15pGKBkJBqg+TM2tB5jxLvXblRIDenQW2QvJnuR2O2Ku1Yp4zgGEvnmDzKBnAK6PuDA5pzk1rztCHo7Bc44s8IhTLOZpMCCGS9UYpEsjHK9m8Yo+zbj2toL/1+2WrsE5A0h/O0cN5CWMdp2+gv/DH3/3OCMNl1iYdXgWVZltmt9dTPPSn6j5ESOswnDsi47h3RStfFbg1RxSJMHyUrbG7GTsf6fbj8jQcBnKW2sZoX0huBinN2m67YqTamlhXH702Hwq0rtM5PY3XZDa4y3aAOAevjxaW+ddvy/Pfm0oYlkaX5CAtTm07bJqXl9/TcbvEVdjEqrxtQypJc46zDGer224LqWI4SxpN0N0phYDE9fb9q+Bhpaf5RQzdJz12m9K0vJ/37581UNfqRLPc+h4WqMpzjvOZLj/3fEZQJuyHXKxiiTDnKXEa189riwt2ErL2FHVkIp7eVh7cb5cNcYBWEIIhPUSJiYhPsbjuLWQrqBU0SBCN4tXZ7ml1V0gEz8GctWNw6Q5uDY3+Oa3cVFDRIGLZp9RkiUJi3dSzt70MRhmWvPZlEjlFibk/dEigpsCiwwIbry8zSgOOoY7h3Op+R7bWOQdcUO53+VzfSW+7BNHHf5ecyGnKooLt+vE/btJ41yYr+6cAAAAASUVORK5CYII=",
         "type": "image",
         "xaxis": "x9",
         "yaxis": "y9"
        },
        {
         "hovertemplate": "x: %{x}<br>y: %{y}<extra></extra>",
         "name": "19",
         "source": "data:image/png;base64,iVBORw0KGgoAAAANSUhEUgAAABwAAAAcCAAAAABXZoBIAAACXklEQVR4XgXBCW4bNxQAUJL/c5tVM5bkdEHaorlQrl8EKFzAsWzJI83OnX2Pfu/x/ceuBdOI3/5AM23LTONjFXKZUAN2f00p8zIlc4e4LlGIzRusSoXJBKJtAKnTPhOa/crKMitLmUz4WlVgDHBVii0hZIm01uDy8tAOBywYoTHyc+dzUxBiaOGv9hFN2FGxPbmI8vB8JMWxzn7NsFjOpWABOzsZJ09P56YF1cK2Bcwhiy5mUWB3d9SnXJYkues1DHd2ksNlV7VDirVot88dOITh82UFv+C5GIcgCYeAFmu0UHe/po/b9QN09h8FBbeCzA6vlUoE1eHL3QRVxcwghkritHmZ8XLOkQLT1SpKWjwmohSkmNMGssEU590jkbJ+LkJ4f/NlDfvoKY2eoiJuJseKpearjanv5lyKDTcMzowIwLU4am+rxngvdAqikC19fxlZjbyp20SHS39Im7c/3xIzrG20HEN9xqrp+/mx31+W1m3j5UNKI57LlBmHxBSZp83GddiLU53mxUTnlV5HH4ZXdDcfnFeMnzNqxRwX8tCovIyTRZxjIN5OO/2yI9FHW//d1g0Xbloh4V3zBHq5ydtcQPH7L89fdQjbsjioNa5VGTPSWdCRa9o9/daz5f31n3+nEgR2paA0iubULCMQpWcbtrcf/42uchP+aQ0wx9vS77cFDubnOlq75n4RdkTlHAX61ONlH5d4GfT9TjU1nsVtxEyAcWwO6/URs/n8LHLm3g6s3BeL0jkoiNu9maMWdgttBZmdeHrwBisaDGU70hRcUVELZZG9PuN9q/v/Afbef+xVVjJyAAAAAElFTkSuQmCC",
         "type": "image",
         "xaxis": "x10",
         "yaxis": "y10"
        }
       ],
       "layout": {
        "annotations": [
         {
          "font": {},
          "showarrow": false,
          "text": "facet_col=10",
          "x": 0.04100000000000001,
          "xanchor": "center",
          "xref": "paper",
          "y": 0.46499999999999997,
          "yanchor": "bottom",
          "yref": "paper"
         },
         {
          "font": {},
          "showarrow": false,
          "text": "facet_col=11",
          "x": 0.14300000000000004,
          "xanchor": "center",
          "xref": "paper",
          "y": 0.46499999999999997,
          "yanchor": "bottom",
          "yref": "paper"
         },
         {
          "font": {},
          "showarrow": false,
          "text": "facet_col=12",
          "x": 0.24500000000000005,
          "xanchor": "center",
          "xref": "paper",
          "y": 0.46499999999999997,
          "yanchor": "bottom",
          "yref": "paper"
         },
         {
          "font": {},
          "showarrow": false,
          "text": "facet_col=13",
          "x": 0.3470000000000001,
          "xanchor": "center",
          "xref": "paper",
          "y": 0.46499999999999997,
          "yanchor": "bottom",
          "yref": "paper"
         },
         {
          "font": {},
          "showarrow": false,
          "text": "facet_col=14",
          "x": 0.44900000000000007,
          "xanchor": "center",
          "xref": "paper",
          "y": 0.46499999999999997,
          "yanchor": "bottom",
          "yref": "paper"
         },
         {
          "font": {},
          "showarrow": false,
          "text": "facet_col=15",
          "x": 0.5510000000000002,
          "xanchor": "center",
          "xref": "paper",
          "y": 0.46499999999999997,
          "yanchor": "bottom",
          "yref": "paper"
         },
         {
          "font": {},
          "showarrow": false,
          "text": "facet_col=16",
          "x": 0.6530000000000001,
          "xanchor": "center",
          "xref": "paper",
          "y": 0.46499999999999997,
          "yanchor": "bottom",
          "yref": "paper"
         },
         {
          "font": {},
          "showarrow": false,
          "text": "facet_col=17",
          "x": 0.7550000000000001,
          "xanchor": "center",
          "xref": "paper",
          "y": 0.46499999999999997,
          "yanchor": "bottom",
          "yref": "paper"
         },
         {
          "font": {},
          "showarrow": false,
          "text": "facet_col=18",
          "x": 0.8570000000000002,
          "xanchor": "center",
          "xref": "paper",
          "y": 0.46499999999999997,
          "yanchor": "bottom",
          "yref": "paper"
         },
         {
          "font": {},
          "showarrow": false,
          "text": "facet_col=19",
          "x": 0.9590000000000002,
          "xanchor": "center",
          "xref": "paper",
          "y": 0.46499999999999997,
          "yanchor": "bottom",
          "yref": "paper"
         },
         {
          "font": {},
          "showarrow": false,
          "text": "facet_col=0",
          "x": 0.04100000000000001,
          "xanchor": "center",
          "xref": "paper",
          "y": 0.9999999999999999,
          "yanchor": "bottom",
          "yref": "paper"
         },
         {
          "font": {},
          "showarrow": false,
          "text": "facet_col=1",
          "x": 0.14300000000000004,
          "xanchor": "center",
          "xref": "paper",
          "y": 0.9999999999999999,
          "yanchor": "bottom",
          "yref": "paper"
         },
         {
          "font": {},
          "showarrow": false,
          "text": "facet_col=2",
          "x": 0.24500000000000005,
          "xanchor": "center",
          "xref": "paper",
          "y": 0.9999999999999999,
          "yanchor": "bottom",
          "yref": "paper"
         },
         {
          "font": {},
          "showarrow": false,
          "text": "facet_col=3",
          "x": 0.3470000000000001,
          "xanchor": "center",
          "xref": "paper",
          "y": 0.9999999999999999,
          "yanchor": "bottom",
          "yref": "paper"
         },
         {
          "font": {},
          "showarrow": false,
          "text": "facet_col=4",
          "x": 0.44900000000000007,
          "xanchor": "center",
          "xref": "paper",
          "y": 0.9999999999999999,
          "yanchor": "bottom",
          "yref": "paper"
         },
         {
          "font": {},
          "showarrow": false,
          "text": "facet_col=5",
          "x": 0.5510000000000002,
          "xanchor": "center",
          "xref": "paper",
          "y": 0.9999999999999999,
          "yanchor": "bottom",
          "yref": "paper"
         },
         {
          "font": {},
          "showarrow": false,
          "text": "facet_col=6",
          "x": 0.6530000000000001,
          "xanchor": "center",
          "xref": "paper",
          "y": 0.9999999999999999,
          "yanchor": "bottom",
          "yref": "paper"
         },
         {
          "font": {},
          "showarrow": false,
          "text": "facet_col=7",
          "x": 0.7550000000000001,
          "xanchor": "center",
          "xref": "paper",
          "y": 0.9999999999999999,
          "yanchor": "bottom",
          "yref": "paper"
         },
         {
          "font": {},
          "showarrow": false,
          "text": "facet_col=8",
          "x": 0.8570000000000002,
          "xanchor": "center",
          "xref": "paper",
          "y": 0.9999999999999999,
          "yanchor": "bottom",
          "yref": "paper"
         },
         {
          "font": {},
          "showarrow": false,
          "text": "facet_col=9",
          "x": 0.9590000000000002,
          "xanchor": "center",
          "xref": "paper",
          "y": 0.9999999999999999,
          "yanchor": "bottom",
          "yref": "paper"
         }
        ],
        "template": {
         "data": {
          "bar": [
           {
            "error_x": {
             "color": "#2a3f5f"
            },
            "error_y": {
             "color": "#2a3f5f"
            },
            "marker": {
             "line": {
              "color": "#E5ECF6",
              "width": 0.5
             },
             "pattern": {
              "fillmode": "overlay",
              "size": 10,
              "solidity": 0.2
             }
            },
            "type": "bar"
           }
          ],
          "barpolar": [
           {
            "marker": {
             "line": {
              "color": "#E5ECF6",
              "width": 0.5
             },
             "pattern": {
              "fillmode": "overlay",
              "size": 10,
              "solidity": 0.2
             }
            },
            "type": "barpolar"
           }
          ],
          "carpet": [
           {
            "aaxis": {
             "endlinecolor": "#2a3f5f",
             "gridcolor": "white",
             "linecolor": "white",
             "minorgridcolor": "white",
             "startlinecolor": "#2a3f5f"
            },
            "baxis": {
             "endlinecolor": "#2a3f5f",
             "gridcolor": "white",
             "linecolor": "white",
             "minorgridcolor": "white",
             "startlinecolor": "#2a3f5f"
            },
            "type": "carpet"
           }
          ],
          "choropleth": [
           {
            "colorbar": {
             "outlinewidth": 0,
             "ticks": ""
            },
            "type": "choropleth"
           }
          ],
          "contour": [
           {
            "colorbar": {
             "outlinewidth": 0,
             "ticks": ""
            },
            "colorscale": [
             [
              0,
              "#0d0887"
             ],
             [
              0.1111111111111111,
              "#46039f"
             ],
             [
              0.2222222222222222,
              "#7201a8"
             ],
             [
              0.3333333333333333,
              "#9c179e"
             ],
             [
              0.4444444444444444,
              "#bd3786"
             ],
             [
              0.5555555555555556,
              "#d8576b"
             ],
             [
              0.6666666666666666,
              "#ed7953"
             ],
             [
              0.7777777777777778,
              "#fb9f3a"
             ],
             [
              0.8888888888888888,
              "#fdca26"
             ],
             [
              1,
              "#f0f921"
             ]
            ],
            "type": "contour"
           }
          ],
          "contourcarpet": [
           {
            "colorbar": {
             "outlinewidth": 0,
             "ticks": ""
            },
            "type": "contourcarpet"
           }
          ],
          "heatmap": [
           {
            "colorbar": {
             "outlinewidth": 0,
             "ticks": ""
            },
            "colorscale": [
             [
              0,
              "#0d0887"
             ],
             [
              0.1111111111111111,
              "#46039f"
             ],
             [
              0.2222222222222222,
              "#7201a8"
             ],
             [
              0.3333333333333333,
              "#9c179e"
             ],
             [
              0.4444444444444444,
              "#bd3786"
             ],
             [
              0.5555555555555556,
              "#d8576b"
             ],
             [
              0.6666666666666666,
              "#ed7953"
             ],
             [
              0.7777777777777778,
              "#fb9f3a"
             ],
             [
              0.8888888888888888,
              "#fdca26"
             ],
             [
              1,
              "#f0f921"
             ]
            ],
            "type": "heatmap"
           }
          ],
          "heatmapgl": [
           {
            "colorbar": {
             "outlinewidth": 0,
             "ticks": ""
            },
            "colorscale": [
             [
              0,
              "#0d0887"
             ],
             [
              0.1111111111111111,
              "#46039f"
             ],
             [
              0.2222222222222222,
              "#7201a8"
             ],
             [
              0.3333333333333333,
              "#9c179e"
             ],
             [
              0.4444444444444444,
              "#bd3786"
             ],
             [
              0.5555555555555556,
              "#d8576b"
             ],
             [
              0.6666666666666666,
              "#ed7953"
             ],
             [
              0.7777777777777778,
              "#fb9f3a"
             ],
             [
              0.8888888888888888,
              "#fdca26"
             ],
             [
              1,
              "#f0f921"
             ]
            ],
            "type": "heatmapgl"
           }
          ],
          "histogram": [
           {
            "marker": {
             "pattern": {
              "fillmode": "overlay",
              "size": 10,
              "solidity": 0.2
             }
            },
            "type": "histogram"
           }
          ],
          "histogram2d": [
           {
            "colorbar": {
             "outlinewidth": 0,
             "ticks": ""
            },
            "colorscale": [
             [
              0,
              "#0d0887"
             ],
             [
              0.1111111111111111,
              "#46039f"
             ],
             [
              0.2222222222222222,
              "#7201a8"
             ],
             [
              0.3333333333333333,
              "#9c179e"
             ],
             [
              0.4444444444444444,
              "#bd3786"
             ],
             [
              0.5555555555555556,
              "#d8576b"
             ],
             [
              0.6666666666666666,
              "#ed7953"
             ],
             [
              0.7777777777777778,
              "#fb9f3a"
             ],
             [
              0.8888888888888888,
              "#fdca26"
             ],
             [
              1,
              "#f0f921"
             ]
            ],
            "type": "histogram2d"
           }
          ],
          "histogram2dcontour": [
           {
            "colorbar": {
             "outlinewidth": 0,
             "ticks": ""
            },
            "colorscale": [
             [
              0,
              "#0d0887"
             ],
             [
              0.1111111111111111,
              "#46039f"
             ],
             [
              0.2222222222222222,
              "#7201a8"
             ],
             [
              0.3333333333333333,
              "#9c179e"
             ],
             [
              0.4444444444444444,
              "#bd3786"
             ],
             [
              0.5555555555555556,
              "#d8576b"
             ],
             [
              0.6666666666666666,
              "#ed7953"
             ],
             [
              0.7777777777777778,
              "#fb9f3a"
             ],
             [
              0.8888888888888888,
              "#fdca26"
             ],
             [
              1,
              "#f0f921"
             ]
            ],
            "type": "histogram2dcontour"
           }
          ],
          "mesh3d": [
           {
            "colorbar": {
             "outlinewidth": 0,
             "ticks": ""
            },
            "type": "mesh3d"
           }
          ],
          "parcoords": [
           {
            "line": {
             "colorbar": {
              "outlinewidth": 0,
              "ticks": ""
             }
            },
            "type": "parcoords"
           }
          ],
          "pie": [
           {
            "automargin": true,
            "type": "pie"
           }
          ],
          "scatter": [
           {
            "fillpattern": {
             "fillmode": "overlay",
             "size": 10,
             "solidity": 0.2
            },
            "type": "scatter"
           }
          ],
          "scatter3d": [
           {
            "line": {
             "colorbar": {
              "outlinewidth": 0,
              "ticks": ""
             }
            },
            "marker": {
             "colorbar": {
              "outlinewidth": 0,
              "ticks": ""
             }
            },
            "type": "scatter3d"
           }
          ],
          "scattercarpet": [
           {
            "marker": {
             "colorbar": {
              "outlinewidth": 0,
              "ticks": ""
             }
            },
            "type": "scattercarpet"
           }
          ],
          "scattergeo": [
           {
            "marker": {
             "colorbar": {
              "outlinewidth": 0,
              "ticks": ""
             }
            },
            "type": "scattergeo"
           }
          ],
          "scattergl": [
           {
            "marker": {
             "colorbar": {
              "outlinewidth": 0,
              "ticks": ""
             }
            },
            "type": "scattergl"
           }
          ],
          "scattermapbox": [
           {
            "marker": {
             "colorbar": {
              "outlinewidth": 0,
              "ticks": ""
             }
            },
            "type": "scattermapbox"
           }
          ],
          "scatterpolar": [
           {
            "marker": {
             "colorbar": {
              "outlinewidth": 0,
              "ticks": ""
             }
            },
            "type": "scatterpolar"
           }
          ],
          "scatterpolargl": [
           {
            "marker": {
             "colorbar": {
              "outlinewidth": 0,
              "ticks": ""
             }
            },
            "type": "scatterpolargl"
           }
          ],
          "scatterternary": [
           {
            "marker": {
             "colorbar": {
              "outlinewidth": 0,
              "ticks": ""
             }
            },
            "type": "scatterternary"
           }
          ],
          "surface": [
           {
            "colorbar": {
             "outlinewidth": 0,
             "ticks": ""
            },
            "colorscale": [
             [
              0,
              "#0d0887"
             ],
             [
              0.1111111111111111,
              "#46039f"
             ],
             [
              0.2222222222222222,
              "#7201a8"
             ],
             [
              0.3333333333333333,
              "#9c179e"
             ],
             [
              0.4444444444444444,
              "#bd3786"
             ],
             [
              0.5555555555555556,
              "#d8576b"
             ],
             [
              0.6666666666666666,
              "#ed7953"
             ],
             [
              0.7777777777777778,
              "#fb9f3a"
             ],
             [
              0.8888888888888888,
              "#fdca26"
             ],
             [
              1,
              "#f0f921"
             ]
            ],
            "type": "surface"
           }
          ],
          "table": [
           {
            "cells": {
             "fill": {
              "color": "#EBF0F8"
             },
             "line": {
              "color": "white"
             }
            },
            "header": {
             "fill": {
              "color": "#C8D4E3"
             },
             "line": {
              "color": "white"
             }
            },
            "type": "table"
           }
          ]
         },
         "layout": {
          "annotationdefaults": {
           "arrowcolor": "#2a3f5f",
           "arrowhead": 0,
           "arrowwidth": 1
          },
          "autotypenumbers": "strict",
          "coloraxis": {
           "colorbar": {
            "outlinewidth": 0,
            "ticks": ""
           }
          },
          "colorscale": {
           "diverging": [
            [
             0,
             "#8e0152"
            ],
            [
             0.1,
             "#c51b7d"
            ],
            [
             0.2,
             "#de77ae"
            ],
            [
             0.3,
             "#f1b6da"
            ],
            [
             0.4,
             "#fde0ef"
            ],
            [
             0.5,
             "#f7f7f7"
            ],
            [
             0.6,
             "#e6f5d0"
            ],
            [
             0.7,
             "#b8e186"
            ],
            [
             0.8,
             "#7fbc41"
            ],
            [
             0.9,
             "#4d9221"
            ],
            [
             1,
             "#276419"
            ]
           ],
           "sequential": [
            [
             0,
             "#0d0887"
            ],
            [
             0.1111111111111111,
             "#46039f"
            ],
            [
             0.2222222222222222,
             "#7201a8"
            ],
            [
             0.3333333333333333,
             "#9c179e"
            ],
            [
             0.4444444444444444,
             "#bd3786"
            ],
            [
             0.5555555555555556,
             "#d8576b"
            ],
            [
             0.6666666666666666,
             "#ed7953"
            ],
            [
             0.7777777777777778,
             "#fb9f3a"
            ],
            [
             0.8888888888888888,
             "#fdca26"
            ],
            [
             1,
             "#f0f921"
            ]
           ],
           "sequentialminus": [
            [
             0,
             "#0d0887"
            ],
            [
             0.1111111111111111,
             "#46039f"
            ],
            [
             0.2222222222222222,
             "#7201a8"
            ],
            [
             0.3333333333333333,
             "#9c179e"
            ],
            [
             0.4444444444444444,
             "#bd3786"
            ],
            [
             0.5555555555555556,
             "#d8576b"
            ],
            [
             0.6666666666666666,
             "#ed7953"
            ],
            [
             0.7777777777777778,
             "#fb9f3a"
            ],
            [
             0.8888888888888888,
             "#fdca26"
            ],
            [
             1,
             "#f0f921"
            ]
           ]
          },
          "colorway": [
           "#636efa",
           "#EF553B",
           "#00cc96",
           "#ab63fa",
           "#FFA15A",
           "#19d3f3",
           "#FF6692",
           "#B6E880",
           "#FF97FF",
           "#FECB52"
          ],
          "font": {
           "color": "#2a3f5f"
          },
          "geo": {
           "bgcolor": "white",
           "lakecolor": "white",
           "landcolor": "#E5ECF6",
           "showlakes": true,
           "showland": true,
           "subunitcolor": "white"
          },
          "hoverlabel": {
           "align": "left"
          },
          "hovermode": "closest",
          "mapbox": {
           "style": "light"
          },
          "paper_bgcolor": "white",
          "plot_bgcolor": "#E5ECF6",
          "polar": {
           "angularaxis": {
            "gridcolor": "white",
            "linecolor": "white",
            "ticks": ""
           },
           "bgcolor": "#E5ECF6",
           "radialaxis": {
            "gridcolor": "white",
            "linecolor": "white",
            "ticks": ""
           }
          },
          "scene": {
           "xaxis": {
            "backgroundcolor": "#E5ECF6",
            "gridcolor": "white",
            "gridwidth": 2,
            "linecolor": "white",
            "showbackground": true,
            "ticks": "",
            "zerolinecolor": "white"
           },
           "yaxis": {
            "backgroundcolor": "#E5ECF6",
            "gridcolor": "white",
            "gridwidth": 2,
            "linecolor": "white",
            "showbackground": true,
            "ticks": "",
            "zerolinecolor": "white"
           },
           "zaxis": {
            "backgroundcolor": "#E5ECF6",
            "gridcolor": "white",
            "gridwidth": 2,
            "linecolor": "white",
            "showbackground": true,
            "ticks": "",
            "zerolinecolor": "white"
           }
          },
          "shapedefaults": {
           "line": {
            "color": "#2a3f5f"
           }
          },
          "ternary": {
           "aaxis": {
            "gridcolor": "white",
            "linecolor": "white",
            "ticks": ""
           },
           "baxis": {
            "gridcolor": "white",
            "linecolor": "white",
            "ticks": ""
           },
           "bgcolor": "#E5ECF6",
           "caxis": {
            "gridcolor": "white",
            "linecolor": "white",
            "ticks": ""
           }
          },
          "title": {
           "x": 0.05
          },
          "xaxis": {
           "automargin": true,
           "gridcolor": "white",
           "linecolor": "white",
           "ticks": "",
           "title": {
            "standoff": 15
           },
           "zerolinecolor": "white",
           "zerolinewidth": 2
          },
          "yaxis": {
           "automargin": true,
           "gridcolor": "white",
           "linecolor": "white",
           "ticks": "",
           "title": {
            "standoff": 15
           },
           "zerolinecolor": "white",
           "zerolinewidth": 2
          }
         }
        },
        "title": {
         "text": "Result"
        },
        "xaxis": {
         "anchor": "y",
         "domain": [
          0,
          0.08200000000000002
         ]
        },
        "xaxis10": {
         "anchor": "y10",
         "domain": [
          0.9180000000000001,
          1
         ],
         "matches": "x"
        },
        "xaxis11": {
         "anchor": "y11",
         "domain": [
          0,
          0.08200000000000002
         ],
         "matches": "x",
         "showticklabels": false
        },
        "xaxis12": {
         "anchor": "y12",
         "domain": [
          0.10200000000000002,
          0.18400000000000005
         ],
         "matches": "x",
         "showticklabels": false
        },
        "xaxis13": {
         "anchor": "y13",
         "domain": [
          0.20400000000000004,
          0.28600000000000003
         ],
         "matches": "x",
         "showticklabels": false
        },
        "xaxis14": {
         "anchor": "y14",
         "domain": [
          0.30600000000000005,
          0.38800000000000007
         ],
         "matches": "x",
         "showticklabels": false
        },
        "xaxis15": {
         "anchor": "y15",
         "domain": [
          0.4080000000000001,
          0.4900000000000001
         ],
         "matches": "x",
         "showticklabels": false
        },
        "xaxis16": {
         "anchor": "y16",
         "domain": [
          0.5100000000000001,
          0.5920000000000001
         ],
         "matches": "x",
         "showticklabels": false
        },
        "xaxis17": {
         "anchor": "y17",
         "domain": [
          0.6120000000000001,
          0.6940000000000002
         ],
         "matches": "x",
         "showticklabels": false
        },
        "xaxis18": {
         "anchor": "y18",
         "domain": [
          0.7140000000000001,
          0.796
         ],
         "matches": "x",
         "showticklabels": false
        },
        "xaxis19": {
         "anchor": "y19",
         "domain": [
          0.8160000000000002,
          0.8980000000000001
         ],
         "matches": "x",
         "showticklabels": false
        },
        "xaxis2": {
         "anchor": "y2",
         "domain": [
          0.10200000000000002,
          0.18400000000000005
         ],
         "matches": "x"
        },
        "xaxis20": {
         "anchor": "y20",
         "domain": [
          0.9180000000000001,
          1
         ],
         "matches": "x",
         "showticklabels": false
        },
        "xaxis3": {
         "anchor": "y3",
         "domain": [
          0.20400000000000004,
          0.28600000000000003
         ],
         "matches": "x"
        },
        "xaxis4": {
         "anchor": "y4",
         "domain": [
          0.30600000000000005,
          0.38800000000000007
         ],
         "matches": "x"
        },
        "xaxis5": {
         "anchor": "y5",
         "domain": [
          0.4080000000000001,
          0.4900000000000001
         ],
         "matches": "x"
        },
        "xaxis6": {
         "anchor": "y6",
         "domain": [
          0.5100000000000001,
          0.5920000000000001
         ],
         "matches": "x"
        },
        "xaxis7": {
         "anchor": "y7",
         "domain": [
          0.6120000000000001,
          0.6940000000000002
         ],
         "matches": "x"
        },
        "xaxis8": {
         "anchor": "y8",
         "domain": [
          0.7140000000000001,
          0.796
         ],
         "matches": "x"
        },
        "xaxis9": {
         "anchor": "y9",
         "domain": [
          0.8160000000000002,
          0.8980000000000001
         ],
         "matches": "x"
        },
        "yaxis": {
         "anchor": "x",
         "domain": [
          0,
          0.46499999999999997
         ]
        },
        "yaxis10": {
         "anchor": "x10",
         "domain": [
          0,
          0.46499999999999997
         ],
         "matches": "y",
         "showticklabels": false
        },
        "yaxis11": {
         "anchor": "x11",
         "domain": [
          0.5349999999999999,
          0.9999999999999999
         ],
         "matches": "y"
        },
        "yaxis12": {
         "anchor": "x12",
         "domain": [
          0.5349999999999999,
          0.9999999999999999
         ],
         "matches": "y",
         "showticklabels": false
        },
        "yaxis13": {
         "anchor": "x13",
         "domain": [
          0.5349999999999999,
          0.9999999999999999
         ],
         "matches": "y",
         "showticklabels": false
        },
        "yaxis14": {
         "anchor": "x14",
         "domain": [
          0.5349999999999999,
          0.9999999999999999
         ],
         "matches": "y",
         "showticklabels": false
        },
        "yaxis15": {
         "anchor": "x15",
         "domain": [
          0.5349999999999999,
          0.9999999999999999
         ],
         "matches": "y",
         "showticklabels": false
        },
        "yaxis16": {
         "anchor": "x16",
         "domain": [
          0.5349999999999999,
          0.9999999999999999
         ],
         "matches": "y",
         "showticklabels": false
        },
        "yaxis17": {
         "anchor": "x17",
         "domain": [
          0.5349999999999999,
          0.9999999999999999
         ],
         "matches": "y",
         "showticklabels": false
        },
        "yaxis18": {
         "anchor": "x18",
         "domain": [
          0.5349999999999999,
          0.9999999999999999
         ],
         "matches": "y",
         "showticklabels": false
        },
        "yaxis19": {
         "anchor": "x19",
         "domain": [
          0.5349999999999999,
          0.9999999999999999
         ],
         "matches": "y",
         "showticklabels": false
        },
        "yaxis2": {
         "anchor": "x2",
         "domain": [
          0,
          0.46499999999999997
         ],
         "matches": "y",
         "showticklabels": false
        },
        "yaxis20": {
         "anchor": "x20",
         "domain": [
          0.5349999999999999,
          0.9999999999999999
         ],
         "matches": "y",
         "showticklabels": false
        },
        "yaxis3": {
         "anchor": "x3",
         "domain": [
          0,
          0.46499999999999997
         ],
         "matches": "y",
         "showticklabels": false
        },
        "yaxis4": {
         "anchor": "x4",
         "domain": [
          0,
          0.46499999999999997
         ],
         "matches": "y",
         "showticklabels": false
        },
        "yaxis5": {
         "anchor": "x5",
         "domain": [
          0,
          0.46499999999999997
         ],
         "matches": "y",
         "showticklabels": false
        },
        "yaxis6": {
         "anchor": "x6",
         "domain": [
          0,
          0.46499999999999997
         ],
         "matches": "y",
         "showticklabels": false
        },
        "yaxis7": {
         "anchor": "x7",
         "domain": [
          0,
          0.46499999999999997
         ],
         "matches": "y",
         "showticklabels": false
        },
        "yaxis8": {
         "anchor": "x8",
         "domain": [
          0,
          0.46499999999999997
         ],
         "matches": "y",
         "showticklabels": false
        },
        "yaxis9": {
         "anchor": "x9",
         "domain": [
          0,
          0.46499999999999997
         ],
         "matches": "y",
         "showticklabels": false
        }
       }
      }
     },
     "metadata": {},
     "output_type": "display_data"
    }
   ],
   "source": [
    "result_df = pd.read_csv(\"output/denoised_images.csv\")\n",
    "\n",
    "fig_noise = px.imshow(result_df.values.reshape(-1, 28, 28),\n",
    "                      binary_string=True,\n",
    "                      facet_col=0,\n",
    "                      facet_col_wrap=10,\n",
    "                      title=\"Result\")\n",
    "fig_noise.show()"
   ]
  },
  {
   "cell_type": "markdown",
   "metadata": {},
   "source": [
    "Ok, faisons une PCA manuelle maintenant !\n",
    "\n",
    "## MANUAL"
   ]
  },
  {
   "cell_type": "code",
   "execution_count": 94,
   "metadata": {},
   "outputs": [],
   "source": [
    "class MyPCA:\n",
    "    def __init__(self, n_components: int = None) -> None:\n",
    "        self._n_components = n_components\n",
    "        self._covariance_matrix = None\n",
    "        self._eigen_values = None\n",
    "        self._eigen_vectors = None\n",
    "        self._sorted_eigen_values = None\n",
    "        self._X_mean = None\n",
    "        self._X_std_dev = None\n",
    "\n",
    "    def standardize_data(self, X):\n",
    "        mean = np.mean(X, axis=0)\n",
    "        std_dev = np.std(X, axis=0)\n",
    "        X_standardized = (X - mean) / std_dev\n",
    "\n",
    "        return X_standardized, mean, std_dev\n",
    "\n",
    "    def calculate_covariance_matrix(self, X):\n",
    "        return np.cov(X, rowvar=False)\n",
    "\n",
    "    def get_eig(self):\n",
    "        return np.linalg.eig(self._covariance_matrix)\n",
    "\n",
    "    def _get_sorted_eigen_vectors(self, sorted_indices):\n",
    "        return self._eigen_vectors[:, sorted_indices]\n",
    "\n",
    "    def get_sorted_indices(self):\n",
    "        return np.argsort(self._eigen_values)[::-1]\n",
    "\n",
    "    def _get_sorted_eigen_values(self, sorted_indices):\n",
    "        return self._eigen_values[sorted_indices]\n",
    "\n",
    "    def fit_transform(self, X):\n",
    "        if self._n_components is None:\n",
    "            self._n_components = X.shape[1]\n",
    "\n",
    "        X_standardized, self._X_mean, self._X_std_dev = self.standardize_data(X)\n",
    "\n",
    "        self._covariance_matrix = self.calculate_covariance_matrix(X_standardized)\n",
    "\n",
    "        self._eigen_values, self._eigen_vectors = self.get_eig()\n",
    "\n",
    "        sorted_indices = self.get_sorted_indices()\n",
    "        sorted_eigen_vectors = self._get_sorted_eigen_vectors(sorted_indices)\n",
    "        self._sorted_eigen_values = self._get_sorted_eigen_values(sorted_indices)\n",
    "        self._selected_eigen_vectors = sorted_eigen_vectors[:, :self._n_components]\n",
    "\n",
    "        return np.dot(X_standardized, self._selected_eigen_vectors)\n",
    "\n",
    "    def get_explained_variance_ratio(self):\n",
    "        return self._sorted_eigen_values / np.sum(self._sorted_eigen_values)\n",
    "\n",
    "    def inverse_transform(self, X_pca):\n",
    "        X_original = np.dot(X_pca, self._selected_eigen_vectors.T)\n",
    "        X_original = (X_original * self._X_std_dev) + self._X_mean\n",
    "        X_original = np.real(X_original)  # avoid complex issues\n",
    "\n",
    "        return X_original\n",
    "\n",
    "\n",
    "def apply_filters(images, side_length, sigma: int = None, size: int = None):\n",
    "    rows = []\n",
    "    for image in images.values:\n",
    "        image = image.reshape(side_length, side_length)\n",
    "        if size:\n",
    "            image = median_filter(image, size=size)\n",
    "        if sigma:\n",
    "            image = gaussian_filter(image, sigma=sigma)\n",
    "        rows.append(image.flatten())\n",
    "\n",
    "    return pd.DataFrame(rows)\n",
    "\n",
    "def denoise(images: pd.DataFrame,\n",
    "            pca_components: float = .6,\n",
    "            gaussian_sigma: int = 1,\n",
    "            median_size: int = 1,\n",
    "            filters: bool = True):\n",
    "    side_length = int(np.sqrt(images.shape[1]))\n",
    "\n",
    "    if filters:\n",
    "        images = apply_filters(images, side_length, sigma=gaussian_sigma, size=median_size)\n",
    "\n",
    "    pca = MyPCA(n_components=pca_components)\n",
    "    images = pca.fit_transform(images.values)\n",
    "    images = pca.inverse_transform(images)\n",
    "\n",
    "    if not np.isrealobj(images):\n",
    "        raise ValueError(\"Complex values\")\n",
    "\n",
    "    images = pd.DataFrame(images)\n",
    "\n",
    "    return images\n"
   ]
  },
  {
   "cell_type": "code",
   "execution_count": 110,
   "metadata": {},
   "outputs": [
    {
     "data": {
      "application/vnd.plotly.v1+json": {
       "config": {
        "plotlyServerURL": "https://plot.ly"
       },
       "data": [
        {
         "hovertemplate": "x: %{x}<br>y: %{y}<extra></extra>",
         "name": "0",
         "source": "data:image/png;base64,iVBORw0KGgoAAAANSUhEUgAAABwAAAAcCAAAAABXZoBIAAADLElEQVR4XgXBS2zbZAAAYP+/EzdO4qTNo62T2qnTJqE0LctrQ1FZq4mOyzhMQZo2ceKAtMMkEEcOHDkiIQ5ISCBOSCAxhDQEDFXrtlJKUF9x+nDSZmnqvBM7bhLHzsN8H7jpDrL01Z4CV7uYSc9ey/XcDpbvxceLJg8Mu7asVW/Xd7dpnRerfp9PPX0hLMjgXLpidZcWA9gaUOZmLXbW82wuZtBZvBfvQEx0qvDNkeskWjQSUS2dsmx293G6WWn/MRrWtFwBNkrmkLYy0//qreGStvq+CLu8FksQpo5sZXQCeW4yVtrXJoYVX2QPDHjiHdJxzvPC7cdGOE+V7YNT6esk7ip8B0pjy0RN7ddCb7+O+9Z0pWeYdHJPXNLZkrN9N8cdXS+buVHmge/sRhl8SZ6wxJjjUj96bT/HCJ7u5JyK/FBbD27CDvg0k1qWUQzi/jw2PsA6ZMz9faET3cO8HKE7DzNIlmw5fM2qphdsi8UU3x0w1TdKz70IvDgRmKIilVL9ybt/pSlIVZ6z00phIxvhDBAlO7/Q4sDKPJWfBD43tH9GuVURZqan03EOkkeGh/ZTm7DpnwKJfN4a3LWkkWxkrGBxy1Ast7+wPkRLgUbD+o/UPestzlwUDQcKHzARULtBJP48PA5uqLI97rEf6FtbUUA7Q2t9zgv92ZXYo+YVv6a6keO6P/pNxn8cK7uyrHoxCz6py97ei0ie9phvbT+BtIw1WjZ04dRMpZ3wiBpLz8b5mSUcf1pZCmKCdn0FSqX+LsXqQeLgtm6HWfD/dkcuHY7w+SayP2DCw0Np27kMHk0M+R8/Qnpz+ma1NbGDYwGtYRQWDhlml4H4r3nk43ragZpIpVInmakqrU3oC+rFt/4UVD6waf8iof9kiyEXHr6qBBFlSnK9+tDCdCTwLmJ3XraXO3PRzwjSXAGaeyOsvFwfwhzV0hXvPdOcZmD46fF0fEcR/WgbCiFoSLdv2l+ChAMM3EN0MpmNlsJtgeKM1GWxX478vgrL0FqGxvquVKDv8+tZbryhC/49dRUxMO9ZaADu2FHMmcSjQjdJBJysEbGgPXX+TMR71Pb/3gODCkHrMe4AAAAASUVORK5CYII=",
         "type": "image",
         "xaxis": "x11",
         "yaxis": "y11"
        },
        {
         "hovertemplate": "x: %{x}<br>y: %{y}<extra></extra>",
         "name": "1",
         "source": "data:image/png;base64,iVBORw0KGgoAAAANSUhEUgAAABwAAAAcCAAAAABXZoBIAAADMUlEQVR4XgXB308bdQAA8N633971F3dHjx7XUq4o9geFFcsxnWGSQWyk6nQhYcmWaJYYE/8AffXNB33xyQdNjMb3qVESfsxBDGEDx4/RrkC7tV5Hf3FtKeV+9Gh7PT8fZDZgvfKjj4XNHLMfxPv5jhjKUq6HWLV3iAdzucqfLC0UXnxl8RmwrNHeyZi7P99w61TzLZA8R/LmRsk88S2d1H4SW/orXL/+zv5VDMBfoe1uAbUI46ri/yG253dlXamlmCFRRU8scgjkjzv0uJl/kKl9aZoYoYJjZIx1dudTUTUqgUgdbSwWPHd1B/E5PVEiBUpPeqIbCHGlbkHe874YS3+0g98+aIysYuFWJsT+1sgT1uf4LQ/y9a4cshQuQ1cvzEy+2Yqsw149jR/jxQJugxuXVG1WU1urkbbN+ogMjnr2zhzu8z7JZZGgk3BI39zrEu1Ud8W1yG0F/IPtllK0nkxmeOSeZUgrK+SUzn5nlse36Y4x1BhZm/7bLA/HQT8mbUk3IyL83l6+VvyQGUXPPJU5o6qedWZAB6QcndUk/ddgGv7bTi3Fj3ZszvpTLMifbwCDqnWfSZHdwBnRJJTs+ww+LfAqje5MLMqAP62EB8LLpIlBZjOl6We2rNqlBUXhYORt8MYgVYR+Qng1p++x9jhxfkc0EDRiPMlOYkDiNUhvjy5UkXA9xx0ZQK1pOzj0FP5TH5Tgy9eztW7XctRiqwFddHqKHYB2RjeHjFxdAW2oXNLCk9wRDIhK2oq2WwsEJ23TZFZggFs45FYQ1uN26hSGh6qvffrwifWS2RftxQR45Lku95Ll+/W2+PEHdv/1Gf6ziJwakewDRB32aN5NrYcy8DeHH9cX1DXD7XUxQa/P/zHVU4M3Mj6XaU30ovGEZvmHscEWmwyngr/LNtkLXh6am9K7M3lnOe1CcRFt7m6eHBfQO9aDN03IF9jK/KlCDh770t4lH/TGcVUbKp82uRWuhMScRbejv/1UGBtAalufLPeYylyT6lYr1zYZOECmGc32S9t9IZBq1Oi/GH5enbrPrmKVyThI9PXJxPItcxTjDHZl8XRtP5h7TKRjISQ/9z8mboJzXvh4hwAAAABJRU5ErkJggg==",
         "type": "image",
         "xaxis": "x12",
         "yaxis": "y12"
        },
        {
         "hovertemplate": "x: %{x}<br>y: %{y}<extra></extra>",
         "name": "2",
         "source": "data:image/png;base64,iVBORw0KGgoAAAANSUhEUgAAABwAAAAcCAAAAABXZoBIAAADLUlEQVR4XgXB+08bdQAA8H6/96Wv6/uuLW1pKbbcSstDpjAZHRssOrexh3EmBrNEl/gvmPhnaExM5o+6GENiFoNLcKviNmBQNipsK4VKWR+00DvvSnvX6z1aPx8Q/rgWEBNEx7kxBw2ssQjzIwkfD5mQh3wEPg1rysjCi9szRV0Fk/0qMyFnXTk82m5XobP1xHyoJ8eHsXPYO/BLvjW8siiv4Xpha52EJT2R4hXvPay+OAW7visGtMHZfkveI4//XgN32g45dp/C6LFM78/hoSWnIcCaGFD17VoHIDE6ZM1cqBFyofXn5XHQNx2vtaCApg8oUgPR3QXm2c6VHJAdePj9qG+/lu0KPOfmezRVPcx6poDDsHD+Zsrpxh76mOPUjdbrD9BFW8l8AjdcSUuogK8mnHupe6Zno+aH20MJXG7kqYoMz2sq7zJBTiZd8DNLT6Btn8UeXN3x5qtvbOuwWLH9aLSems+sezY3lwh03Kko5eseoNNrLqOBxsEZYqPzVWb/Jby7lvV5aLPWQot9uR5EIuoXhT7AJnZj/DBY4HXldP+3c8RqqXekxKvoH4C7Opt+VgjvpyentU8n/vgavHRYU/ZGAYeMtyMJ41V/933ljhuybyejSp7Ws6dj3pFXsHZJR1OSKa+LuH9gLHRZBctF5/NL+JLlrTCKL95iV2eaIYhshlTYM5jXDh45Nd+f5aQNiA4vqAf2WiYsHgtE06iWLKXHfSowUowoCwj9t6XKxbMSF0j4NWXabbM2VKnXwoUg3Qc7zH4b6xj05ebYqUngJfhCMBcz1Qt7wlQBnlu7xcaErQedqC2JQhmFq3bNml+c2HGUCcJ04xF1eBFQ8aP6aPfynCzgBeWJN6iNbEs8TE9GWPtr2nPUbeKWR38VgTHEIW05KdoMI2gwq8eC2cC2bIfA/dNHq2IT34z44zm63p0Dt7Pu+GOKMxFSjmROp6v9KzR5fX6oDTAlBdkvDE0flHDyr13J9hTvb9lm3qt/3mwOaBtnIP+N0TdWQuK647ZW9WSV3R67YF8oDf5bIvag95MPX/0t7rQiMtf1W1NccZ0kK0pUh1TD0bX/AZjtf0nVdFjCAAAAAElFTkSuQmCC",
         "type": "image",
         "xaxis": "x13",
         "yaxis": "y13"
        },
        {
         "hovertemplate": "x: %{x}<br>y: %{y}<extra></extra>",
         "name": "3",
         "source": "data:image/png;base64,iVBORw0KGgoAAAANSUhEUgAAABwAAAAcCAAAAABXZoBIAAADHUlEQVR4XgXBy3MSdwAAYPbHwu7ych9k2V0SQgB5NtYEktSmNY6HOhp7SMcZb+lFx4P/kIe2p3Y8OD3U3rSZMRVNMiTGxLwg0AXCc8nyXFiy7LL9Pmjxx0bN6csfx/L+ER9k+QF3Pl9K3VNHozIDiEvOdvNQWxAeuw/U4Qay56Rh56PqhzNTogs9E29d1E8JI+YTKPKrl/z9bLf9UD52Kx0pCB+34iHu4LthDzWRGciLsOcBbGd1rO9NwUmYWqnsNJ8X+zvftIeCQylventOSxFsUyDoBJUz2UeePoyGLunPN1w2BpZ385fp/tP2WOqDe3fVKifua9M30ICja7Ez/l+yIVV6I4fzNbi1yQnDEBQZtGSyVmKFansUKEQzkXFOCMF39EwkdrWlpHGHVCBiV183wophgzTbL0Nj8KLt3ft1FrM8oA+vVsd17aR09G132d8MmS0MILDmrZ9T3tfcx4nG79b/XIOp4CtbQ9aEojkFKjbCk+nZE+JQWZwnYgPi6GgpF/Wgb2ZlM5jJY6p92MGM7u1Pyui9Vp5jtemyB8AmAwd0WNnNKQ0poy8594IukYicANIxrMU3x9dATMdrnnNc3L8bRvx9b1DYH09OYtvO6g8dAaRtlpE/8XZqRiJQLvsnY7DzZ3LFCyNin4XWFgojU97jHk0UkFIdYd28Uwv8MXaxGTQOPfkSUFXfaZOlV5O88XZqgvMYq+IXcd6EJ2Fl/R39z53ybdifwRejg5lG4ZzJUj1Y0/g2aJeM6PO/c1vybx1WejmQPyt6fbWmUIggnEJrs7tNfJnP3tQ0kexIGGmtERRTLCIHeBS8V4ll4+Ehm+zG47YVA8QI+BWyBRyT6zgFPSGpt3qYzNF6ctKGnTw6oGU9Bm+IVMT4EbYmkgEwLZAUOhP8gKxoXcjSujCIiYqh4QfGV1FUL6UaDVLtRBwmYQmq+K1wq66YL1zQOmXtaVK0k6bPmNyDdJvTFuoGq9CeT4o0WGydtNyDfPB65SdUE5bmcqb9ofhv3vCXy4WDdyrbRNbE19u1T3OeND8K0xey/D2nPuv4uP8BafCMR5/78/EAAAAASUVORK5CYII=",
         "type": "image",
         "xaxis": "x14",
         "yaxis": "y14"
        },
        {
         "hovertemplate": "x: %{x}<br>y: %{y}<extra></extra>",
         "name": "4",
         "source": "data:image/png;base64,iVBORw0KGgoAAAANSUhEUgAAABwAAAAcCAAAAABXZoBIAAADMklEQVR4XgXB7W8SdwAA4Pv9ODjeuRegcFAoLWBLX0xxtHVrbZY6M7Opi7NqE7dlZu7bkiX7YPZ3LPHbsi0zRl2yGGOWLalj2mnX2lArAkKRUgotlNced8fdAceeBzjnJ+8spDxVjcvwr2l4k+jt+HUrluBjhYEJwNG+DI1VGRkiHfowb6m1abQ8W3pk75L6KLhYeJ9LnFWHW+a8yvtWBoryBwO3Tr8hx7T1I/Adi2jIQ0VX4LWNfuEQIyjBnHOIhq300DCkVXzrzwp3z+OxzYXOfGXSr/TWOqD8SK0ndyEqyUqzJF6XldRp3Q/Pp4ILaWXdYGzG3qmE4LNKTYHYTLhXb92uzplNUv/NI3xfNakRxAdQnTyFQK0Yi/I8Kwz6q1xv77JOTmCKQ5cCFhdtFD1oXrgh8lSHyab9rLp+3EoVhgZW3fD86jLC1AmCs+ozkT/+Hoh7e+ZmSPZNhEci8GC+XJP/a7MP7eAZZSms3lHUuNxLp+72tFYJc+x4yfFeivuC+afTdO1IvWhR/lSSQ9UiooLOXH1/nfiejRyTMO3ml08Wn0Z2s+7AzhVIfIbiiHTyVe/3E0kj36D87huvu8ltpzD9K8G9KcKMpNwJbn0cNd/NH1fmIo1Wb4Sk7eGboz4VA/mXTbV+Kp2NzYdI0ewkeNy0FJ7WPPxLMBlg/t0fqxHYds3Vj5INXk60GPbn6VggaKqLGAy0LhAuUaw9eEWcGH5apbo+LuDQB8Cx1kwUpWto5FzDcuk19G9bz7wlFENYLS7WH/OWX2bB+Ocglf22q6k6Ei8SmfFx3gJ0RCc6khAlHlwdMsL7Dvutu1ySTX2ESn4O0O77KablYlnwdRO6o3vnVBOaLfZqbUPHjGXb0RdjFKNdDwLyJBWfKOPotSeTHbB1MaorlTXsymxcxOwY+MZze0YkO3XpE66I2JIGwRt25wte4347MwOu6zu2lT4Fhi+rQj8NLKSWIvFBUpmXY30jFbCEg7INclRJpWSFSstz4IGh306t2UY3cBRqsbOjALGmKmjSqKNMIWoRW5tac4uSYz2NGjPLe9YCYhU28BK9O5l13ds3+sR+uPnhge9/yXiAg2yO95cAAAAASUVORK5CYII=",
         "type": "image",
         "xaxis": "x15",
         "yaxis": "y15"
        },
        {
         "hovertemplate": "x: %{x}<br>y: %{y}<extra></extra>",
         "name": "5",
         "source": "data:image/png;base64,iVBORw0KGgoAAAANSUhEUgAAABwAAAAcCAAAAABXZoBIAAADMElEQVR4XgXBSW8aZwAA0Pk+ZtgGGGPMsMTR4GAMtrGR42AHN2o2d1N6aCpVcdsoB58iVZUaqX+g9y7HHqr0VKk59OK0btKoqtNGobUdEQzYjFkmmGXGQNhmgRnWvge+f15nTddhmJ52Ht3kaRz94hs5ELEZgdCKgK8qdWt2jahIvqeEaqR0AvwpDl6nNhTzYw34eK2M6nN1Cdx5RE/S82OvQrzQV6NtLIb40P7Dus0ccCcO/lX3AzaancxaDVg0WHmfI0/BvYovhQ7auCds8PWOPyvrfqgsfph5cX2reDmNHqOqSqu3wHomLZjmk/3yea+a3zkOfn1mOo/CQSg5NM3oFqrPGimMjdRKus9JxhMPke7GHJwzqGdtm7WYKji5YXnUkLHl3YGvKugsR64d8CWUbHtt2/QJgVv2g08W69ALW+K5fBsyFEpPGcSxmQUH49bnC6KpR3RsdCdMNo2EYxvc67PziKRC2yvC05rWv/8OfqKNA5Wzge55IWv1/wO5VY5iuI9ugZyDaTrMfEUhsdKiD446h28eJWMPjFPFb1mtGsmdbpZd2PqJySC3wc/3lZvkH5dT+MUE10gOLyneNBU9E2+alsUu+uRdMeHudGl7hhGqG5oDVuER7H5wnosv/YXKZdbaculQsl22LEip/MoEmX181/4wVKPXYWfXTQmJpIkaJ0WhpL8YQ23yClYeyc+cTXT8QiFLSb/dGkKjL0EkXAV/N3s4ASRxBBiwqeIC9TeiwzE+64lPj6pXMv3hLH9I5VcRFs4Y1ClyT5DMxvn0XA54vE59e/RTaN8eedmAnG1qwHSrgocI3jV0TEvpola/c+fXa0rh9iXwacGLyHXnlS7fQsx6e0mJ2snD8Ad750VdGnxXZjBCBjmvay2sI/+b3bqaibssepgZ9wL4u/AakarI1bzy4DmudW37WdONWlMkcCEXg3PiRG9swm6Re2r3wckvdnWX2HKPD7iDRv4cXHo5oHBnpXpBXFWX4u4RX9KdFWKd5G0t+BMmy+/1o8VXZ7cl+oUvohoRlCjjzrwmaT6+Ad5e5nhrZ/1Hv9Hyd+MtFjFq9Kzs2F1ivFLxfyjCjKa/PERRAAAAAElFTkSuQmCC",
         "type": "image",
         "xaxis": "x16",
         "yaxis": "y16"
        },
        {
         "hovertemplate": "x: %{x}<br>y: %{y}<extra></extra>",
         "name": "6",
         "source": "data:image/png;base64,iVBORw0KGgoAAAANSUhEUgAAABwAAAAcCAAAAABXZoBIAAADLklEQVR4XgXBXUwadwAAcO5/fzyOO+5APaHAUTgsCsValfkBbGvdEtNm7ZLupVm2pMn61GSve2yy9z3vbdnDli7Zsrh2yVKra1rXFmergjAEJyAK9bzzOI4Pjy+hvx8y+/7b468ekDoGryGCcqvAl4qhtYlW64V94hEgl3fG19zGJL2usRzqv1Ngs0trvDR6w5T3AnAD/zuaQT5enNnLXOBH+M51Q+Y0zUpKe28Q2vrmkOMaTJhsZ7aITEBqxRk0yMu4r+ghAHq0HwFsfYj86fvU5aKfz/mXFmUNmY2CIIpc0xDuNy5xMl2uTFf1aNou0KN/NJhAEmcbkOsyeFky8E5nHIUJrelEr39oLF2JMV33AEA66EGgOzikWRV4K/ntsnkavxQeS1cH2ktPkU8w3cyPX2cuAyFyNzb1w0ifzvIa+dntzJO6c+AD5XDVuHp08uv/Vwu6l5Ml2mGjN79hh6M0loFZilPNvbmGfO++T+aWjPqzNWk6QjYWAHkFHI0mVKlpaA7VPA3xxOHk+/ddkUp23w6ol8BVxJAWYX5S+gsNsvIw+FDq5mxQON1TT05BRZ5rMoPPrhG+6sYLNidxUBvFNJ9baP+MDMGn/1HHsaHWcKW/GNj66FxupxayilWZxVMLMLC97mLN4fjjiz7g0vLauOJ7RWBS3SAWEjDtlESTmNI7u4/6e9I81vI+7dv0p6azKMaB+i8lEgpqOdvGrUwe74BNKuR56E3Q6bHz8MwyePF1sG34sioYhPmWo5YhdpNcF24aqwlAXerEuTR5KheCqfd2D4v7Xk/xvHHF5GWFMNCpXbrp0HsE/2/q9ujNcYLLLrBaqqA/rHShwo/0b60Hy/a2cBumqv+KpcqTCS3uUK1gEcjkSnbSCCzYs3Dk1W29VerhlLh984xDileReTcKLph/t6pHA0Jo6rmWUnfyJkN+8vhgDABU22jvRgN8zw+457XhuIKFPmOI2YaOgj7Q86BTaC75dnb9euFWxorU/9nYMtOwg7H1EvIFDpiY025qvEnc2WX68BiT9EJeq5TubBwAkbZJZrH8eCXcTqAPDv5UND1+nEBng3s9zTtOpnHQzdzCDAAAAABJRU5ErkJggg==",
         "type": "image",
         "xaxis": "x17",
         "yaxis": "y17"
        },
        {
         "hovertemplate": "x: %{x}<br>y: %{y}<extra></extra>",
         "name": "7",
         "source": "data:image/png;base64,iVBORw0KGgoAAAANSUhEUgAAABwAAAAcCAAAAABXZoBIAAADLklEQVR4XgXBS2/bdAAAcP//SxondtwkTpymdZzG2ZKSNFs2+lzZ1nXjgCgdY0LwAZg4MnHhgMSFb4DEQ5PgxITKDhwqdTzUsgoKfazdUght00RtF+fl2LFTx47zNL8f+Lju7LgzaLebtrHRTUqmD4gUE8oJgifOm4hTdWjFo7Jrnmrfr3Iq4Mm+h9vK7jFZbvLwkAj4wmbdgdO3hPC7tki2Z2xJ9pNyzsiy4NOnoTKG94qWKe6kTXp3zTTpWw3x+WCLPAYfWerQaNfuPyr1A1IRzXSxf/vejngh2PRvwMjmiEsg4r9MB66YHS0GWzZ1I8XGZDTTPuDA/XOKxP4b6mkRkbxeNPLPQ9YkPryK3vyjegO8lfh5tq7gASpoXSw7b5UNaaDx33nrtz43tgYePtcwo3wh8YKEEsem73LOf0TGv2JjlfQ1019HMUfqNUH9PXqm6d3CWtKr0U5jdFHuAyLMsd7dMfxwa9w1677hnOFeLQ6TWCeJOONANCUuPiQVk5svzD/1S4FD/yh6uab+FJqudFwS+KQgzGm5Mxdjyt/bKQ6JMshQ5kv0lxXyjQws6T6lQoN2e2xOHXbHaSgPEKX039qCZZkCdx01ukV4kqg+INxeeh21fe/FVLTggY7fXHCqPHiV3u8ilFzl10++sWMfepuW5ithrhdDTNYh2w+5iLStqf1kKUQ8ZlnO1Sr96Qi2OTt4UG4jnrlFUpcWSi/NKNpjGihP4OtkDq9D2kvVYXZcpdpnW5XaoNJcEhfqxSdOY2rYCpcYdVrR8zxvSzqv3Tk4aUV39il9hkaXCzj4WnrW72K3XU2Tm+8Z9nPHiCUwsrPn50eP/HBX0hiNlhmaqSmSO5+ebVtbqTtASoQ7fpNPRajCenzi8zCsBdNk7JlozFu+S7jgyuUCmCf0Hj7+4jwy8tVgKqK9/TiRCWFCF2xEYQ62oI+qr+5LFeGz4Bfg9v4D/zuqjcCQi0mHDmnYPZpsTGLp6pO93PuR6ObEKsifdcycry8KPvApI4+u71LI2kQMl5NX1fQV6VSfeZkNKgqsSsd7b54uxJDwJWHjRzeS7wMNmluxB5iK8j+xJX6b1F5EaAAAAABJRU5ErkJggg==",
         "type": "image",
         "xaxis": "x18",
         "yaxis": "y18"
        },
        {
         "hovertemplate": "x: %{x}<br>y: %{y}<extra></extra>",
         "name": "8",
         "source": "data:image/png;base64,iVBORw0KGgoAAAANSUhEUgAAABwAAAAcCAAAAABXZoBIAAADLUlEQVR4XgXB33PSdgAAcL7fhAQIBEL4kfBrocX+Ziiuda22PdzdNnvb9HQP2+70bmdvr7vd+bKn/R3zZY/zYXq3Bzd1m07WWm2x1rZAqNASKJACIhTKjwSSfT5gue4wnKQ4f2a+GGfbuPrSzrTL/fG0reMoQWziOOVy4QCJPn6HbbkzHP2hx4FlLxLjxmcQ95jI52xr8y/5wvTGotw4J688cVLMQyXr/hZ8R+F0KUVpJRUdK6mmXYBanOg7JPCYtJmhJ7ZPKVbO90mzUPwYioi2HBXagrrt0PG/gisUP2nQbDoXYhog24IFpTbVeZtD4nrNggonR4f3LGsZ63Pj/geBJcU7N+U59i0HlrQzCgNbGvZSpXyLtP+7ZK8L0Vq0utoh77mZkbsnMXAzuEkgQDyay/zys0G8P2wfCLhXC3dxJmuA70tDvUpxdu/lyE/eTnzR1FNcmNf2dDPitQ6jaR2rKu+VtCe49c0Ld/JweU0c4S2XDzLNU2fABX2fGdAgPfXRUQekpYFOsbzVVX0Jn5qwwotXMRCp1gqYtgkfrfsufe/UCzLxJIeVIkNwo947/NsxHzJKRez6lw5/foxy+daxhVjoRRAswyL0UX1FpXXjr8/+dtZ2UAs8yIcoUOriYNoeFKrm8jetsO6hJkVLDMnxLWf7XrDqGaARVW7ZDbWtfpqTEE/9zqc//qHfLlTIiR35PMzfL3ZFsuqXtYhzNU7e5hKjDNRovUjiYBXc0JCiuTInIpKAz8bbk9vX2NvGtski1MMC5NrGjofK8iQxQf7jrvU4ttLYcjd6O7Cag1klRueTmNO8okOHEv5R6+vVM/0Ey2tYXQj8QDSsG2ZxxFqV0H6IsB/z62FiT+n79Wtfw0yXT7LIfHd64NuJfCHtplpko6BWJxKyyYCOpRazXC6ZZELMQH6QXhkiw0XdqWdCc6u+ArsGPgnJ82HJyDx1ycS5mblHLPPKifHaaQrcAjVFstRPFKIbbJL8KL3+5mamS4uSYcBC5eCwdzrAHn32+SCB7xH70f9ssJzfkNHf8TS4Ml7233Vhl9ON2TtfgV3Pn3QNDeRmWofbpwP/A7KTdy7TSHNsAAAAAElFTkSuQmCC",
         "type": "image",
         "xaxis": "x19",
         "yaxis": "y19"
        },
        {
         "hovertemplate": "x: %{x}<br>y: %{y}<extra></extra>",
         "name": "9",
         "source": "data:image/png;base64,iVBORw0KGgoAAAANSUhEUgAAABwAAAAcCAAAAABXZoBIAAADN0lEQVR4XgEsA9P8AWz18+t0vu/6FeXjXNTyIrIOVNQL8vgIR6Y5yiQC7ALnALfLB93w3F797k4UTTYTFxUR9/3hSvIu6QQD/AJU9vIEFutlrjw4lg4FDt/g/yHtL/fAHiARAvY6+db2/+4fO8gc48YXJgL5Ghfy2hWtLwQotfYBUAnvNOj0PuYCW6fzDhk0fmWHMPsV7xMCEc4qOAE8FSq8IDHiAkvnFfsP7vfcRcfhBwIdzRnq20DHAg8b5QkL9A8Z6C0A76Hi2lfs8Dr9yOoRAOE70O8EMOkiLMP9B+HGBrE7MrH5/A8/8ehM0QLkGdcw+QKrysOOHB5AxS3kOgL4IyLxPe8G+ijyDDnyJtzeAU0V6zIK+s1AuvYR7zIfzi3eSczYABUh9eQa5RgC9AYUwQEK/ckkS/gf3OEb9jjkHx8C+/K4+dX6vAId1+8E1/8a/MXI9vY43hwFyek2KvcC/yUOGAQuBBTrEAMd0CvvHgog6e80AEHwAa5r8NUDBBboCPwBNCn6EwDu+yvr+irOQu7fL/rWFAsE+PAGDuKlbQJDzfQC7MgLyxD06P3IttuX+QPxHUAAzdvf9FjmBM4oFBEdD+MZ/PDpCRkeIRnaCC4k4NxBzQgjxiECDji19eruYfMXHQA+6RLLkb3n/8bTWej4/a0oCwIn3UjnDCLAC/Tf6eAd0CwDcjgU7uls/xj2SBDwAs39DRC66/kJzj5B8/4z23/uAP5VIS4RF/6+++UCTwINFhwV+PQQJP0t9iZIIRYS+Xz0D/Lw/Dbe/gIdE/fJPOVmHSvcLBNDzt3m5fPCDuQRHQUB3+7+AV5Axx/LJScG5hzXONYaBrcW/+YQ9wHyEP82zNgCFLpHsz2+6P4P6xT/H/e4Gb79KicKExXgJLgq1AFiPLcS6SAd4TEtvtT7DwkAA+oOA9gtMcow0txeAX/R8TndBAXX0k4OBiQN3QLUHQDuEwflIjS14/cEEwAbAO8UxS0lGibfwTLlD/sIC/P44k+w/vZh+wLT8ALtGPMZ/uzzwfwQ3AIFSPEnENkivBbvIOvoAiAyDgXqAxwA/xY7AioNQ/jh9YfkSt0m/w3w3SDTu4Ty1s+1RQAAAABJRU5ErkJggg==",
         "type": "image",
         "xaxis": "x20",
         "yaxis": "y20"
        },
        {
         "hovertemplate": "x: %{x}<br>y: %{y}<extra></extra>",
         "name": "10",
         "source": "data:image/png;base64,iVBORw0KGgoAAAANSUhEUgAAABwAAAAcCAAAAABXZoBIAAADM0lEQVR4XgXB308adwAAcO7LAccv4fhxIKcgKPLjmFac2s7WTmenNF3bNHXJkj0sfelLH/aw/QP7H/bebskeljWpSzaXprTLkNWmWERQsScgWn7dAR6Hxwl3QD8f6BGFH8xoX22uRbyREB5edkqeDFrPNWhsjjPC7M2z3Afhmhe+MtSLcfdLG3ZQxgMvNUttqwLUHpOfCKaTPlYmFQ/R1sV/p192bPTCTcpzGoW+s6SmUm23k7HQaYYQydHIlE/QSPYmDoYq8EQxSBtncwWoIiB+I9JBPEk50Ar8XnlEhCnkvbVwcqJut0sWPck7HGYfsvvv4ng+8BoHIhAlV1V2PM65G2miphkZVE4urHoT8n04CKCmi6/oooVbWA53OkLqBNx7qv0WyxiH+jVwQ+A52ZuZC9mszHrtHBp204vaX8LMHcmZOgx9LzMXi7btZdKl60qDPFfs5iqrxotqOeHtgT0r0ysha4XVK+0m3d9vOqW+NXqvkI3NSxtAT6f7MuZ3rJiyaxMMddQ65KHArnAJLTnDAOe62VD8TumYhQOXzSzdBOxp9dJFBHFtO0Ad8awW7T1PfkRXG/iNeJHFtcqBV5QFe2K8DmxPoy87x5lNQsyZ0el1b2h/+o/skitc/KZCQ/eGd9zyUvNzEoNGV/4pq5SH74lqys+aW/YcaGwvg2xv/k95RsKvc3ettFatfqubndly7ZyDMUMMM/eyWo/DKN7Qh7Ot6kL6qkl45twVC8COBtVK1IfI5uPcD66hJWrlLx7VVAn0+sgK9DhRMosx/2cHt1JcIv/j0diOhj1Gq/XAoagHtQ5pGr/NDH8dfX50pic5v5jfHqO8KqbjMMDR3lx7PXA7ok3PvVt8gXd/BoZiHTG4NFBDAzzT/7+e7OSlbx9UBlIuTqdWnPczINlmCdMubMtNJVHzV5StEMoY96Wmhv25Ea5UPZgO/gKaEy1djpgX1MnR+KftqV9trPuNuY9m6j62Bk+CD8ee0RQrU1gnmWSSy3UghYHKVPwboQz0U3xCtwMDVROV85xdtTnel9QHm4P6jcysCAUuy/NYdZoi+4oAv6XsEi0w/uy+sBX6O+j8CLIVhkq74PP+AAAAAElFTkSuQmCC",
         "type": "image",
         "xaxis": "x",
         "yaxis": "y"
        },
        {
         "hovertemplate": "x: %{x}<br>y: %{y}<extra></extra>",
         "name": "11",
         "source": "data:image/png;base64,iVBORw0KGgoAAAANSUhEUgAAABwAAAAcCAAAAABXZoBIAAADN0lEQVR4XgEsA9P8AXDuDR3CLgHp9uMhTcIY9LdFA+/TITLMHOLuMDYBaOga/ja36wYi5jn7BNIFI+UZ2uQdByTLGyjW0wLtTCnY9fsoGCT43/wL6wP19QIiBSsNxgss1iYiAiT/0wzVBPE30EYa3J0hMOkWC9wY5OYIJOj+yN4BhPD8/iHbzzH+FuL/GNsr9Rnx8wnmLtEJA/v+JALo0RwT0xkdyuT10vnGAPf8Ee7l6Aru/wbp8hTeBOczEdXyN/bnAB9h/7QY8BTuUNkO4NgS6TbW+AQCBgDX7Sidsj4tzP/BOSljSPsOHvgd7P7v2UH+DwFw8QUV2N0/E+jEHBYj8iXv8RcQGPfl0BMI5hCfAg3lHtUVHPfT/gxIPjMQI/sH36UG+u9Z4vIM/HEEzfjL/QcQ6gELMQQWJ+6v+vvl69D427Ud798CIQQj/Bvc3CcOCNwKJ8bDySgL+DH44vHvKu1JA+0BBAUH89o6/9gDORPZ9rxACN9GD+X89BbOH8sU1REBV9cxB90lBAZCkjwI8f41/irSAurTAuH2J+M1+QIOUgbl6RoHIepb8hg7N9rpB/e/ryXsJkQEHeXmAhnOMyQeuQayAeokz9ChzvK5+vw6uwhO5AI05P8C+ASb9DX59lCs3MUkyxoSHTHt3OMDGqgUD8dJDgIeQSUM6ksBqQv12Cg6C1v/svPT2vrn+NcB6+wrAsPdKPj02P0lsCU9pgkz9d4X7FQp+zj/FBEG59UC9e7W2wsVEdN/1/QP/AbmD9D98Aj31Tri0wgX8wIJ6vUQFtXmJeD5ACkO6bjX6i3z/w0OvELrBvjzAu4oFDn6dSrTFlYa3yquCvU4uA0IEtQorR050UcC6v7w2NXc4j3UAWT7ui0A/O0g5es5/980CL09AQQXMukgC87tNTTotvsd/v/+7sRC5OYr9xygSO+9AkTc+7sFFRP0x/7oRuMT3/73dgAQ4SYEx+cm+ykC2887FwMCCfFOFRTM0fEJCivrISzY+QncWPEXNwFgHLjZk8ruLObyCBYXyAnjQdLcNgkR6CnU4wr5BObiOSbl4fzN+DYE7Paydhfe/FLW7BH8vxoF4/63bpliYsJIWAAAAABJRU5ErkJggg==",
         "type": "image",
         "xaxis": "x2",
         "yaxis": "y2"
        },
        {
         "hovertemplate": "x: %{x}<br>y: %{y}<extra></extra>",
         "name": "12",
         "source": "data:image/png;base64,iVBORw0KGgoAAAANSUhEUgAAABwAAAAcCAAAAABXZoBIAAADI0lEQVR4XgXBS1ATZwAA4Px/dpNdNsnmRcibJBAiEUqMNSiggLY4YznV3nrouZ2xF3vuvTM999Zpp0cv1VHGTopFRYOdagSBmATyIprNY0nY3ew7j34fWJ7O8isuDffSc+vx1GtSK3FwMJz07ZkGqIAAZa6XFwWw8Kzh4Emd1P14zUAjL2YEjmzC66b3xDWxL29uvXKLVZpZnms3x1rm9H+7XARaKlz7TdUHr/yofb53076cI4jOcIcfixpqJvjXyddHnHPfo35ge1h+iIQduYn2WhfL2ebvwVO3tMbV48bnotW8mJv1Vd8Kh1I5MrrKhldgUJtVFgJI+sI5vw0BhzrPOFYHQXmD0f9RhHCS3X4RIJggqe9kpvqUVPrWRXEjS5t4BIVkd2EFxcpzzRR20I3ewSnfb5d7TUn7CdZPQbid5iS2qIoXql+ArYM9quO8R2iVWiVe0UHlhzNmvAH8y/WnuyMuJIJWmjavQU14xZ4H/JwujTIOB9HERFeo35V0GTdCHvT4CGvbgillMaxeuWTjYVuT5ILfvTJs0WdQmGjQm1/BGOqtxYsP3yEZrXyKwjtmy3xQfRujpvD5ISyyew6V1ZmtehQ7v1gJ+gP7LB4iGNky3ABfMrOBQ2MJGI0YHnZ3Wg/wAG0x/hMRZ0oq0r77S9/GLcHuIM3VxdUdjY0aRQ4+U1LTMolc/Nux9HKsVDxbb7nXJWhPFHwZvanQ8HqOCagvFR9p3gmRYM4Mhh/QB3+SVaP/yX7A+LtbBt+faDgTQrz3CRY6auk14skJyizB8L8UOwvhmn988gwk8LrLuhhz0r/aEBcARIaZmiDhRuHT42Q0pNov7XzjP1JuL42LeN5a9oqFWgfcLcQGeFkze5Sfz8QjoDySbH9ePp9t0YmWDpEM/VbH6X0EVh/OFD29ir4WShdBTOHf3H4Cfkp62TnRnkOGfDZqiqacCIWaj+lz9TBnhx+nR7rUZFKrDJw3sELKK+stgmWMQGN9vgJ9zdO4YzPRtFpbx/JqoKDPC/x9e2xbhJfrcPcqaxd7aatp36qGsqWLiEy2mFptPX1C+P4HyRyC+g/0XVoAAAAASUVORK5CYII=",
         "type": "image",
         "xaxis": "x3",
         "yaxis": "y3"
        },
        {
         "hovertemplate": "x: %{x}<br>y: %{y}<extra></extra>",
         "name": "13",
         "source": "data:image/png;base64,iVBORw0KGgoAAAANSUhEUgAAABwAAAAcCAAAAABXZoBIAAADKklEQVR4XgXBWU/bdgAAcPsfJ45z2blvcpCEAEkKDQFSMY3CxLSu1R4qMU1Vt36FSnuutC+xaQ97Wl9W7aFsmtQhRFvWToOUlkJaQgrkcAhuDhs7sZPg2N7vB9+XfR8EE2WIbOlCsCS2EgJXdIYVVjM0t4Batem3OzFaZLPvcAeNDC4hFM8NxglL43PQ49z/Ho5BRO6L/KKul9T2j+Wvm3rbq+Jv8j58Z2izqspc7O+U+6+r6D9zGjMFRRs1JFAREgBS6dbPzpONVAq7iaSmIoHdDP1YgS0UMmuG7wEhRE5Dljc90SRKpN3RIBZetOYeL6nWcWBDLk5vhK3pT32ipiwE5h2ium9108TxRYyHV7UmjePL89Z2jBFGIw+N0OB4otN1W5oKxiJpjpa5o8rQ3JGNh+1l3/Y16WXexVNBFmkh/GkJ80hTR93SAifFz+oelkTHTszkjAHqwffamZzOdHH1SVinyHzcLUDhHxbqKBnbObEDmzpn0OxLj5bAm0vnaGbCb1v3wqv6bwbLM0ugVddU0mN+8zOwuOh1PX/r6rYZ6IVx04Gly2A4hs2/GmmvaIcCb5rQ+9Z+terbh9V0jeeDiIFiUeWt9RenWBv449fqI1Ym4iXFEqXESKSfZC5ZJIHM/WigDtjbueuG4+yDqFjWwkwe9tyq3d7Tvsdt0E5Y14UbKwSINtY8H93qqh1cqSXfEwWCeTlvZ3BPYvmnakvOhcatTUnUAEhCSJcJxVc3HHeCvmIvxJIVVn7UCEPZfcSEA7xoKcz//K1TfjaEmguePe8kLva3rLUZ8Ml5A35dBwffZ5Qir+rEsd/vdpf6I0wq3qkj6rlT1fTTK9rXEppoVsdVxHX4aEcuoCULZwcDF8xbvpKTuqfYzuStaa9u5c9gUzBgeJMS4M/8xVkeNRbM7t37J6HLvL3bwx4GxGZW33kHfycJaszIDMwVlTdt51iCpDhdkLvwGtamEK9l4y5NP7G7snuVepRXNGIUFOjaKFHOdECvMNk6UFZmA+iNru9wqM2PV/djm66z/1z+ItD2+C0XXcSflx5IbKQ07P6BeJzBXc6/vZH8Hwaqe7GIE7ztAAAAAElFTkSuQmCC",
         "type": "image",
         "xaxis": "x4",
         "yaxis": "y4"
        },
        {
         "hovertemplate": "x: %{x}<br>y: %{y}<extra></extra>",
         "name": "14",
         "source": "data:image/png;base64,iVBORw0KGgoAAAANSUhEUgAAABwAAAAcCAAAAABXZoBIAAADKklEQVR4XgXB+08adwAAcO7LnXcH8jjAuxNEHsIEX1AWxXV1TbVZt5hlS5N2PzRt9tOSJf1xv+1v2JL9Bdt+W5r90L2SvXS2ytSigCIeoM46kYPjDcId3GufD/SRkWAo4tqbImFe5hew3Iunz+yIyHjCeRksox13YOii8aa1dGIO/ppsOnYXNOdjJl9RbAIOofA12XJ4yOF9LuH7x8/bz8IoSTRdLR40pCujN+3vzxRIi4bYca9TPSIbzsvX39Pvg812BC15U9F8T6GWHV8MlqIaD52F1Jw9UYXvThyUVLsIGT9tK8tY8fM0I8YLd/4MeWbjECjuEYG5HOR6Lxne3DTpkgM38kF09ElL6Wq7cGRDHrdll8r6xrZlreNjxh5idU/GZ5h47RNhA2p2xcJlb8b5QiF16skgvQB9KffNrSCSBb8Ra6ecmH6wwofUWb57L5o+4h2K1MIzMQwY+8tpJef4+rwXj2xjRPtgGlS4u2cmSQynAe7W3/TPY8eaKRaQvYRnzuH9Y3rt43JhRYyAhvl5gkyWbcLLxTIaxs8Rc/kmGuphru9SJTjEvEN3JGtiTPBWdIZVlI9det84/cU5KUgu0DYC7opt3j/XRugFB8FW+/7C1e0R97fuo3+hH7bQeiBTUeefr1BTP8p6We76kEfMPpQiJ8GBWrDqTIuogu8yGyO1mRx+yVV+flV4PTfcA9rhMsKOnho6tKlTUomtt6uOUTfd3Ddv5S8AJ9gQFSeOuyoOVzdci7Ebj+l67O8prcxZgSFLZorFeGBb/XDDssq8imTaIYM+SO69+5SFPrGXA0AQhlSG9ZhExBTsVWReoH6fP9qZhhmsrDsJ3zo2VO/R9Q6vldAiaw7vUhI9NQ59lbye1UKYGXfG1IkGT7xEpW7P0qk5/XE32CcV6fC2MuCeUYZvbIc/MbqjrnlVQvQM1oE+G7DB/t5If9Szqz5aF5wl3nbphJPzrbE2A4YFj7Y2MWk7S0ddeXlG9A4RRm7g53c62BLw67rj7Fttim622IJmJ7VuHBawSRW+1e4BOFsbv7L+1brh9gP6wjsUvazjyn+m1nVTeVD7H3JjjL377Jo2AAAAAElFTkSuQmCC",
         "type": "image",
         "xaxis": "x5",
         "yaxis": "y5"
        },
        {
         "hovertemplate": "x: %{x}<br>y: %{y}<extra></extra>",
         "name": "15",
         "source": "data:image/png;base64,iVBORw0KGgoAAAANSUhEUgAAABwAAAAcCAAAAABXZoBIAAADLElEQVR4XgXBXWwadQAA8P/9uTuO8nl87aBwlLHSWtrSlWrpd2uf1lQbM5+M+mJ8MdEnn40vxid9NT66ROPHTJyarUvdGm3Rsq2D68ZyMlpYKAcIB3fH13EFzt8P+aSOJt69Fe4PFr+czK78vir9+ZqIOSD3xId44OBMHS1sASL/UdTbLk3wCs6RwsHtRkixlZFr/mjhmSZynw+l1y0S0MiYP2ncs2Ku3FgdzjiOj1fL+/i12ob+cS/5gqv+VSrg2KzakqtQ6vF40jfHCbO/dpF9x0xh+op+3Cr+jAToENQxyjBFG1sleXv3TEN82s4Q5HfOFRs7QDEo5fXFpFIZa2SFDetc66XZD3inV5MbMUiCDN3zlYqav1nSmpRdmD9ZHPp+/2T9kD6rryVsUPibCAJ+zrlZt7jcxk2tpdJHk5cOzdaUmkaj3YcdMsCBSutAlM2ortuNxiamFHb57qt15PPaFbJxVJzOIk7zkeZia/u9HV5J4/6flmETrdkf6XBFG6NVQ5IWrzrja4pg7hJ3PlT7e9D8oLKNgjbapgz29ngE6PMniIbcmbz7Q1mPZhXpa4zqVk0uBgeO82qmMuLd9Zwu39vGaOgbvxSm0wl7/SGQXYfNAWzFnXyqvLdTE0sQMJryk9A7KIRg6GzdrlD91fjKK3A4d3pDgUUf1Xm5h59PeunqfNwnlGz3aKNDZX0w0ESu1ydaPXa5ZTwPP1oyek4B32H+IwktFuEIVF35xb7woCgXwzXTt58Zjv/1WzeLqNQ3MJYWDIwvDb2wLHSEmDjYEgK1CIXf6hxUCGIU6UA9Y5x2myXldff1MStxY716X3HIl4H5TkrxwyLG5suzhWEu+A1CWKs3mV5KHvZauiPk4ym07tV0kIxpNPVUm33jHK1GO2FOpZRBBINx6Gq4JPAW8xtrXCNYNvPxwMyCpX+ajbIEFJjxPLcE/3gb8blzG4eE+CMKRM8X0IB0npE66GPfvOBHxBClH7p9eW+e1BHkU0fMftGWEg64EEss4qyYn2EaprQbzUEqjU5tsLqJoOsIfvV+Xu6ZuKuFGRdub4JgQbI/v8DBfrbYs/0PWI98uFx/zHIAAAAASUVORK5CYII=",
         "type": "image",
         "xaxis": "x6",
         "yaxis": "y6"
        },
        {
         "hovertemplate": "x: %{x}<br>y: %{y}<extra></extra>",
         "name": "16",
         "source": "data:image/png;base64,iVBORw0KGgoAAAANSUhEUgAAABwAAAAcCAAAAABXZoBIAAADN0lEQVR4XgEsA9P8AXEY8d3/ylrjJwC+JgUICq4eCggu0/8J8DHICwgC9twNCCg4wRHYvEDSDNzYalD5APHx+QY+/0cB8AInHNQ53fJcHh89py7cKjXp5Djx+zviIM70iSH/ArcO9fUCF8X90r9B+vMPB+n3tP4pujLlJQNI+U0BVEbsvlDuyzD58/z5B/Dsa5tBDtQN/SfQ9u8WBwIlrPsOF98j7/BN+hMPViz3gPvT8QLKCAb89RL+AUMr2vcLFCP6N85ZvwQmzxUK3PX4w1CbVgfcQMcCDxQgKwbZ+eDuDcoQ1eoHA+8AH98i/ybguR275gIH9CQaFhzsGQ/4KgpG2wX75gX/4fqk+NkQrRxBAvqy9OT+4wXJ094V2ekmDjURFfQ8NjjbGQBb298CKhb38yUjAS8IOXwHstoPjP749ta6KDIY+wIgLwK/4tYUxkLh8d0cJuUVCAAhEBwu6vbL+eY70eWaAZMQud4YGvvoCNY1/AcqCQkP6vnJFtj3UZ4XBfoCy9r0axUlyvgeQgAeIBba9NjescnQXSPS8DgAHQFoDecVyUDlEtEs42rcFv3P+N0MLuoXAfzmDOf/AugXKt4r/fztLbYP4CP6AzT0Wdv4GaPSCQ+r7RcBe9kMGAIC9dUIHRr7JRUGxP/59tgZH8RA/t8sCAIGKQEH2AnmAe3nNDn/E9XRvdoc+wYAGBHOLsfRAvbd+Mny+BIRM0T2ojvA0foXHrT/NQMQuu7BD+kC9CD9HxfktwRD9gtH3wP+99raJxy1CAJFERkCJQQU+wvlP8NP3J9C/eUGKcswCSfxKM8LKBkZBfkGAtjtCAWoMNH+NQOy/BADYAkuOizo9C3pnQvm7OICERPzLIfmBvz6/FIZtO4G+xjPCg5GzQEYHDPx4AThBQ/sqTsGyC6HYw1imvhV5h274er9Scbz5+QRAWEi1wwD+SDT2iYSxUEl3uQc2i3t2QAv4hLnLOUEEswAD/j+2DQp+tE1/vTzDv5Q7MpO2PcOChgLBwLWFCQZVuXpp/YQHP3s2RQYvtDnIssvAAYK2fcgAhLO2vi6AidVCtES6P//8Mgt/R0W7d8YFOZPsdnHkoX5lc/bowAAAABJRU5ErkJggg==",
         "type": "image",
         "xaxis": "x7",
         "yaxis": "y7"
        },
        {
         "hovertemplate": "x: %{x}<br>y: %{y}<extra></extra>",
         "name": "17",
         "source": "data:image/png;base64,iVBORw0KGgoAAAANSUhEUgAAABwAAAAcCAAAAABXZoBIAAADK0lEQVR4XgXB3U8aBwAA8PsC7gD59DiPb5AeUbRWLVO7Rka/1qxNu2RtTF/22mQP+w+aPvepS/bcbdnbkiV92ZqZxc5WO6f4ScGCoAIeJ9wd53l8Csfdfj9wMkpyrKuPFBZeEp7Vm2Txz+8TjLs2tjuo8UJPreUWj/s6bHKmSD765bj6nOlrFXRodCQiI1qhRE4wqpF7N/nlnrKg6REpu60Ilj7BFAvGYcymdPCSOVREhGs1529R5N8vdDRgdC9moShLWdBLslF4D+qY5faaJjQ+maj4u6a2fQFaNSUU4SDS+rbuwRRvXaEIiJ07GNC8OfMawcdm3tan6IvjcDh3FDsPiw2fhHCa0xwEuiHfg1k1nudF1rJdtdaMPofu5yI3V/lH7wlvQdVNmspf2GduL8bVYA3Vml2RnqGAShFcdYM/ZrbiPGI5JHX5UGWM3DvyhKrTEieSb10qVKgrOO498QL5+SjVSbMu/65uHzd3EkG6ClWbs6tNRgScsqwPT2TlwJk/aM6l9wja7ITGKmqkq40OJse1p2d/XwqUsPe7qIjYcy59Fynd47KmyollBMUYKBsqaTgsznZr7BTooSFsX0/306EecaWdErSU42N78M1FOugCVjYYiId5RyXajDD9t4ZJ+zvhYeFr/GL+tXXksrUAOYysA+KmWt8dDRkyTvd04slpLMU9EQsGKQj+8BHOmEZQT6722j9MHgD3m3UHv07ieM7dgdaUlqNLRnC+Hptxprynqc8JdjGA1td94K/go5vHrvLwgYJIONBU49LoxtmrB/J2/LA4q0M+te+oibu6w5WYThxXq6ypsTfcvCvBOybRAL5Iwp1A8yqa+OaPCYIhaO+SAA8sPV4O2VrbENsszDHHDEtlptS1raPNV5LFU6IUvXV11ArO+q9mBp3MjfxEbaVt3j53OdQOpqmnP0uSVvCZqM1PN8CyakDsJ3BvfhFp31DyO7ct7TSCVLEPkd9tA1G21ejBXmZHuK7flOSA8T+Cvwf9Vb6VnQldXo/6r3SXakl56IMgwMMWQd2fBsCvbv30dEOSza3idax8rdI4z4WdywTdAmJA6X96yYmh3Ndo6AAAAABJRU5ErkJggg==",
         "type": "image",
         "xaxis": "x8",
         "yaxis": "y8"
        },
        {
         "hovertemplate": "x: %{x}<br>y: %{y}<extra></extra>",
         "name": "18",
         "source": "data:image/png;base64,iVBORw0KGgoAAAANSUhEUgAAABwAAAAcCAAAAABXZoBIAAADJElEQVR4XgXB+1PadgAA8OSbQAIEIkFegnBgFcHiLKVq0VXt1mvdtL1zvV7v9svuetfdft1v+zf2d9TeXnVnzz48zxXF1irUJyBqKeERHkkIISFknw/8oxjblFxI23Ai3cxuzjbdlb5OnTGbPbhcAqwj5YVkDLoqSxwxCxdcWNZjCg4XGPkjDZQ8995FYAh/HUheHp8/pA7TGtZM0mm9B/79VNKeYNXewRxW9/fvRbZLgTgaZm1d0dcCyktl1zQ6O8hZIzRzJLcGWtUf5jp+D+t9xoDSvcePNLRaSZcv8A5MIWf9ZMLelAjP2sMk+Bs52XCO5m+ic9mhs1F72dytOWrk+uvigvoTGs4oEAXgVpSbathl3fjO/FFnZXJa6CK7QeCknMOHHx1/6Sr4Y467QmbOY8KDkRNR2a86UYuQGlLMUg88VUyU/fFMvwEob13Gvu1p1QaaDJnXHqRCLLv8undfS6YzK8vYDZCfkrs8/Nsp6v7gg0yCjQkypU/GoerkfkbV+o+93S0ADKrayVbOsVf8uyJmKUPfJeHF8Vv6ua/kKPhCIXm9GAT4mJNMvfGPEOlI+209iRTjNgZtCKUBWQwq/yE8NGBD/I9W15lF5f1QVndQRq9XjD7r0dmHX14FAi9U1fciICzHZ+hEwWQl4Sc3yqcMO19XyzoZ5A0///vZIGqqdzcQE+IHPdXGNfdCq6hXcuinyMRabQZCmgSNVgpcGVi7yaN7xXWI7ffARn8v7rygWKNpT4FAjwI/rI/kL126jj4Xc6zeVs4kwsnV0D6peoGX0OFL+mqY+0IsPjdeZme8uXrjHWqJlhjePsjA9zHB5Gm6PwNMuz05vqNmvi68CeB7PpoQKBCmltD4AR3e0Slj0CqZlGP/jLFoCGqMB+wgcVDIexz8H7++rKJiLh91Ln9jabiF7NI6fAiu+FLfihht2muIBN9uPrdtSMfWLXVhBc/dB53p2Ja7O5arUfYgPgHdSUe2swgl/BmKPtCgofP2NctAjbD0gYqC6TafPiN6lPL3u3y6rYOXCM2t5FoghPJdV4f27HZEzMc4IO54Akn8Dz5ni3hd78wWAAAAAElFTkSuQmCC",
         "type": "image",
         "xaxis": "x9",
         "yaxis": "y9"
        },
        {
         "hovertemplate": "x: %{x}<br>y: %{y}<extra></extra>",
         "name": "19",
         "source": "data:image/png;base64,iVBORw0KGgoAAAANSUhEUgAAABwAAAAcCAAAAABXZoBIAAADLElEQVR4XgXBy2/adgAA4Px+GLCxY2LeEGIT3JIQaBolWUJKu3VNpRzWSl21HipNk6ppD2mXadr+it123HHS1EpbpU2KVFXttKprHoRkCQ1dCDhAAIN5gw0BYx77PvC1K6Hb61tIU2h559PEVd4ucTXTVAMNXYmJ4KHMGjhaiQNEchILL4KJFv1yVVfcd5kACc3XQ6XVaD+nJVgRe1U47cZblz3RFtaxMBwicMu7cI9c0PaNka7as3PNui8XZor0IMxawQagMDBQXRRuT1eyPbYQ3PWJSkR/EbtdLELhJm4zVy5Q1pqOOsl1oOkhgY4npbfXRynwZdz3Tvgi7GsQ/pjGXAqmVe0q0w7P/RzU96AO/W+BeaIuz9pzc+n38V/f/M6xXJwYBuiMCnxrzPbTbn6lffpJ/SnlRcvVKaXcIBWzMC9AJK9hNiSzB/8+kQy2N9OSv7dNMJgp50NJxCgqlS3l0dajt+HVLnaz447Wp65XU6AvNJogcJVoMEfDxRkuT5RtR4LPm8Gz46OcJ7ksIbj6BANVhpzPf3TmRsShPmUs+/78YO6ZBkch2rh1lByptNHJ0d00Y703QWgx+3K16vr85Wtw334hVe6VPdKts4iujHvNhzhWOl1/Pax3L0EXP8u7Y5HwzNsD0zlLPM5s852Kx0/TNpsB7q/3P6PiDPV02/bE8qrRy98YxDe6ocAzrUFAJuV3NHNGmYkT4zftZo2Aubwqu5SLLoooDseiRPbFMBGO02f9xtqRPkJVMWIPyXOu4z6cLLUs7vOR2BvzDHv4D9XuxIdL+IYFh3+spcBXwyHAR+l2NvAgO344ryjM2MmESvc3lFkDrEPZ8dck21yjfnEW7sL37M78ipES081a7QDM3Rkp3k2Wlz7edK0ct9eaDIWJP8kHjodbLPjxX24WyrwH2g272w+QwJA/doToG+Rv0+dd5M2ViCmDMK54UXAXjCGNLJZktWkHt2kQI7ysulOXC1DLjorgWhI+H0uQUSb1+Hkxd1gC3zVqfqmDMYOtATCNxwbdRdF54K8zzZaCQtuK95/WdD6ZcdQ6lHrcZ0VkdIl3qFU9PfgfO6WEZ3QRb8kAAAAASUVORK5CYII=",
         "type": "image",
         "xaxis": "x10",
         "yaxis": "y10"
        }
       ],
       "layout": {
        "annotations": [
         {
          "font": {},
          "showarrow": false,
          "text": "facet_col=10",
          "x": 0.04100000000000001,
          "xanchor": "center",
          "xref": "paper",
          "y": 0.46499999999999997,
          "yanchor": "bottom",
          "yref": "paper"
         },
         {
          "font": {},
          "showarrow": false,
          "text": "facet_col=11",
          "x": 0.14300000000000004,
          "xanchor": "center",
          "xref": "paper",
          "y": 0.46499999999999997,
          "yanchor": "bottom",
          "yref": "paper"
         },
         {
          "font": {},
          "showarrow": false,
          "text": "facet_col=12",
          "x": 0.24500000000000005,
          "xanchor": "center",
          "xref": "paper",
          "y": 0.46499999999999997,
          "yanchor": "bottom",
          "yref": "paper"
         },
         {
          "font": {},
          "showarrow": false,
          "text": "facet_col=13",
          "x": 0.3470000000000001,
          "xanchor": "center",
          "xref": "paper",
          "y": 0.46499999999999997,
          "yanchor": "bottom",
          "yref": "paper"
         },
         {
          "font": {},
          "showarrow": false,
          "text": "facet_col=14",
          "x": 0.44900000000000007,
          "xanchor": "center",
          "xref": "paper",
          "y": 0.46499999999999997,
          "yanchor": "bottom",
          "yref": "paper"
         },
         {
          "font": {},
          "showarrow": false,
          "text": "facet_col=15",
          "x": 0.5510000000000002,
          "xanchor": "center",
          "xref": "paper",
          "y": 0.46499999999999997,
          "yanchor": "bottom",
          "yref": "paper"
         },
         {
          "font": {},
          "showarrow": false,
          "text": "facet_col=16",
          "x": 0.6530000000000001,
          "xanchor": "center",
          "xref": "paper",
          "y": 0.46499999999999997,
          "yanchor": "bottom",
          "yref": "paper"
         },
         {
          "font": {},
          "showarrow": false,
          "text": "facet_col=17",
          "x": 0.7550000000000001,
          "xanchor": "center",
          "xref": "paper",
          "y": 0.46499999999999997,
          "yanchor": "bottom",
          "yref": "paper"
         },
         {
          "font": {},
          "showarrow": false,
          "text": "facet_col=18",
          "x": 0.8570000000000002,
          "xanchor": "center",
          "xref": "paper",
          "y": 0.46499999999999997,
          "yanchor": "bottom",
          "yref": "paper"
         },
         {
          "font": {},
          "showarrow": false,
          "text": "facet_col=19",
          "x": 0.9590000000000002,
          "xanchor": "center",
          "xref": "paper",
          "y": 0.46499999999999997,
          "yanchor": "bottom",
          "yref": "paper"
         },
         {
          "font": {},
          "showarrow": false,
          "text": "facet_col=0",
          "x": 0.04100000000000001,
          "xanchor": "center",
          "xref": "paper",
          "y": 0.9999999999999999,
          "yanchor": "bottom",
          "yref": "paper"
         },
         {
          "font": {},
          "showarrow": false,
          "text": "facet_col=1",
          "x": 0.14300000000000004,
          "xanchor": "center",
          "xref": "paper",
          "y": 0.9999999999999999,
          "yanchor": "bottom",
          "yref": "paper"
         },
         {
          "font": {},
          "showarrow": false,
          "text": "facet_col=2",
          "x": 0.24500000000000005,
          "xanchor": "center",
          "xref": "paper",
          "y": 0.9999999999999999,
          "yanchor": "bottom",
          "yref": "paper"
         },
         {
          "font": {},
          "showarrow": false,
          "text": "facet_col=3",
          "x": 0.3470000000000001,
          "xanchor": "center",
          "xref": "paper",
          "y": 0.9999999999999999,
          "yanchor": "bottom",
          "yref": "paper"
         },
         {
          "font": {},
          "showarrow": false,
          "text": "facet_col=4",
          "x": 0.44900000000000007,
          "xanchor": "center",
          "xref": "paper",
          "y": 0.9999999999999999,
          "yanchor": "bottom",
          "yref": "paper"
         },
         {
          "font": {},
          "showarrow": false,
          "text": "facet_col=5",
          "x": 0.5510000000000002,
          "xanchor": "center",
          "xref": "paper",
          "y": 0.9999999999999999,
          "yanchor": "bottom",
          "yref": "paper"
         },
         {
          "font": {},
          "showarrow": false,
          "text": "facet_col=6",
          "x": 0.6530000000000001,
          "xanchor": "center",
          "xref": "paper",
          "y": 0.9999999999999999,
          "yanchor": "bottom",
          "yref": "paper"
         },
         {
          "font": {},
          "showarrow": false,
          "text": "facet_col=7",
          "x": 0.7550000000000001,
          "xanchor": "center",
          "xref": "paper",
          "y": 0.9999999999999999,
          "yanchor": "bottom",
          "yref": "paper"
         },
         {
          "font": {},
          "showarrow": false,
          "text": "facet_col=8",
          "x": 0.8570000000000002,
          "xanchor": "center",
          "xref": "paper",
          "y": 0.9999999999999999,
          "yanchor": "bottom",
          "yref": "paper"
         },
         {
          "font": {},
          "showarrow": false,
          "text": "facet_col=9",
          "x": 0.9590000000000002,
          "xanchor": "center",
          "xref": "paper",
          "y": 0.9999999999999999,
          "yanchor": "bottom",
          "yref": "paper"
         }
        ],
        "template": {
         "data": {
          "bar": [
           {
            "error_x": {
             "color": "#2a3f5f"
            },
            "error_y": {
             "color": "#2a3f5f"
            },
            "marker": {
             "line": {
              "color": "#E5ECF6",
              "width": 0.5
             },
             "pattern": {
              "fillmode": "overlay",
              "size": 10,
              "solidity": 0.2
             }
            },
            "type": "bar"
           }
          ],
          "barpolar": [
           {
            "marker": {
             "line": {
              "color": "#E5ECF6",
              "width": 0.5
             },
             "pattern": {
              "fillmode": "overlay",
              "size": 10,
              "solidity": 0.2
             }
            },
            "type": "barpolar"
           }
          ],
          "carpet": [
           {
            "aaxis": {
             "endlinecolor": "#2a3f5f",
             "gridcolor": "white",
             "linecolor": "white",
             "minorgridcolor": "white",
             "startlinecolor": "#2a3f5f"
            },
            "baxis": {
             "endlinecolor": "#2a3f5f",
             "gridcolor": "white",
             "linecolor": "white",
             "minorgridcolor": "white",
             "startlinecolor": "#2a3f5f"
            },
            "type": "carpet"
           }
          ],
          "choropleth": [
           {
            "colorbar": {
             "outlinewidth": 0,
             "ticks": ""
            },
            "type": "choropleth"
           }
          ],
          "contour": [
           {
            "colorbar": {
             "outlinewidth": 0,
             "ticks": ""
            },
            "colorscale": [
             [
              0,
              "#0d0887"
             ],
             [
              0.1111111111111111,
              "#46039f"
             ],
             [
              0.2222222222222222,
              "#7201a8"
             ],
             [
              0.3333333333333333,
              "#9c179e"
             ],
             [
              0.4444444444444444,
              "#bd3786"
             ],
             [
              0.5555555555555556,
              "#d8576b"
             ],
             [
              0.6666666666666666,
              "#ed7953"
             ],
             [
              0.7777777777777778,
              "#fb9f3a"
             ],
             [
              0.8888888888888888,
              "#fdca26"
             ],
             [
              1,
              "#f0f921"
             ]
            ],
            "type": "contour"
           }
          ],
          "contourcarpet": [
           {
            "colorbar": {
             "outlinewidth": 0,
             "ticks": ""
            },
            "type": "contourcarpet"
           }
          ],
          "heatmap": [
           {
            "colorbar": {
             "outlinewidth": 0,
             "ticks": ""
            },
            "colorscale": [
             [
              0,
              "#0d0887"
             ],
             [
              0.1111111111111111,
              "#46039f"
             ],
             [
              0.2222222222222222,
              "#7201a8"
             ],
             [
              0.3333333333333333,
              "#9c179e"
             ],
             [
              0.4444444444444444,
              "#bd3786"
             ],
             [
              0.5555555555555556,
              "#d8576b"
             ],
             [
              0.6666666666666666,
              "#ed7953"
             ],
             [
              0.7777777777777778,
              "#fb9f3a"
             ],
             [
              0.8888888888888888,
              "#fdca26"
             ],
             [
              1,
              "#f0f921"
             ]
            ],
            "type": "heatmap"
           }
          ],
          "heatmapgl": [
           {
            "colorbar": {
             "outlinewidth": 0,
             "ticks": ""
            },
            "colorscale": [
             [
              0,
              "#0d0887"
             ],
             [
              0.1111111111111111,
              "#46039f"
             ],
             [
              0.2222222222222222,
              "#7201a8"
             ],
             [
              0.3333333333333333,
              "#9c179e"
             ],
             [
              0.4444444444444444,
              "#bd3786"
             ],
             [
              0.5555555555555556,
              "#d8576b"
             ],
             [
              0.6666666666666666,
              "#ed7953"
             ],
             [
              0.7777777777777778,
              "#fb9f3a"
             ],
             [
              0.8888888888888888,
              "#fdca26"
             ],
             [
              1,
              "#f0f921"
             ]
            ],
            "type": "heatmapgl"
           }
          ],
          "histogram": [
           {
            "marker": {
             "pattern": {
              "fillmode": "overlay",
              "size": 10,
              "solidity": 0.2
             }
            },
            "type": "histogram"
           }
          ],
          "histogram2d": [
           {
            "colorbar": {
             "outlinewidth": 0,
             "ticks": ""
            },
            "colorscale": [
             [
              0,
              "#0d0887"
             ],
             [
              0.1111111111111111,
              "#46039f"
             ],
             [
              0.2222222222222222,
              "#7201a8"
             ],
             [
              0.3333333333333333,
              "#9c179e"
             ],
             [
              0.4444444444444444,
              "#bd3786"
             ],
             [
              0.5555555555555556,
              "#d8576b"
             ],
             [
              0.6666666666666666,
              "#ed7953"
             ],
             [
              0.7777777777777778,
              "#fb9f3a"
             ],
             [
              0.8888888888888888,
              "#fdca26"
             ],
             [
              1,
              "#f0f921"
             ]
            ],
            "type": "histogram2d"
           }
          ],
          "histogram2dcontour": [
           {
            "colorbar": {
             "outlinewidth": 0,
             "ticks": ""
            },
            "colorscale": [
             [
              0,
              "#0d0887"
             ],
             [
              0.1111111111111111,
              "#46039f"
             ],
             [
              0.2222222222222222,
              "#7201a8"
             ],
             [
              0.3333333333333333,
              "#9c179e"
             ],
             [
              0.4444444444444444,
              "#bd3786"
             ],
             [
              0.5555555555555556,
              "#d8576b"
             ],
             [
              0.6666666666666666,
              "#ed7953"
             ],
             [
              0.7777777777777778,
              "#fb9f3a"
             ],
             [
              0.8888888888888888,
              "#fdca26"
             ],
             [
              1,
              "#f0f921"
             ]
            ],
            "type": "histogram2dcontour"
           }
          ],
          "mesh3d": [
           {
            "colorbar": {
             "outlinewidth": 0,
             "ticks": ""
            },
            "type": "mesh3d"
           }
          ],
          "parcoords": [
           {
            "line": {
             "colorbar": {
              "outlinewidth": 0,
              "ticks": ""
             }
            },
            "type": "parcoords"
           }
          ],
          "pie": [
           {
            "automargin": true,
            "type": "pie"
           }
          ],
          "scatter": [
           {
            "fillpattern": {
             "fillmode": "overlay",
             "size": 10,
             "solidity": 0.2
            },
            "type": "scatter"
           }
          ],
          "scatter3d": [
           {
            "line": {
             "colorbar": {
              "outlinewidth": 0,
              "ticks": ""
             }
            },
            "marker": {
             "colorbar": {
              "outlinewidth": 0,
              "ticks": ""
             }
            },
            "type": "scatter3d"
           }
          ],
          "scattercarpet": [
           {
            "marker": {
             "colorbar": {
              "outlinewidth": 0,
              "ticks": ""
             }
            },
            "type": "scattercarpet"
           }
          ],
          "scattergeo": [
           {
            "marker": {
             "colorbar": {
              "outlinewidth": 0,
              "ticks": ""
             }
            },
            "type": "scattergeo"
           }
          ],
          "scattergl": [
           {
            "marker": {
             "colorbar": {
              "outlinewidth": 0,
              "ticks": ""
             }
            },
            "type": "scattergl"
           }
          ],
          "scattermapbox": [
           {
            "marker": {
             "colorbar": {
              "outlinewidth": 0,
              "ticks": ""
             }
            },
            "type": "scattermapbox"
           }
          ],
          "scatterpolar": [
           {
            "marker": {
             "colorbar": {
              "outlinewidth": 0,
              "ticks": ""
             }
            },
            "type": "scatterpolar"
           }
          ],
          "scatterpolargl": [
           {
            "marker": {
             "colorbar": {
              "outlinewidth": 0,
              "ticks": ""
             }
            },
            "type": "scatterpolargl"
           }
          ],
          "scatterternary": [
           {
            "marker": {
             "colorbar": {
              "outlinewidth": 0,
              "ticks": ""
             }
            },
            "type": "scatterternary"
           }
          ],
          "surface": [
           {
            "colorbar": {
             "outlinewidth": 0,
             "ticks": ""
            },
            "colorscale": [
             [
              0,
              "#0d0887"
             ],
             [
              0.1111111111111111,
              "#46039f"
             ],
             [
              0.2222222222222222,
              "#7201a8"
             ],
             [
              0.3333333333333333,
              "#9c179e"
             ],
             [
              0.4444444444444444,
              "#bd3786"
             ],
             [
              0.5555555555555556,
              "#d8576b"
             ],
             [
              0.6666666666666666,
              "#ed7953"
             ],
             [
              0.7777777777777778,
              "#fb9f3a"
             ],
             [
              0.8888888888888888,
              "#fdca26"
             ],
             [
              1,
              "#f0f921"
             ]
            ],
            "type": "surface"
           }
          ],
          "table": [
           {
            "cells": {
             "fill": {
              "color": "#EBF0F8"
             },
             "line": {
              "color": "white"
             }
            },
            "header": {
             "fill": {
              "color": "#C8D4E3"
             },
             "line": {
              "color": "white"
             }
            },
            "type": "table"
           }
          ]
         },
         "layout": {
          "annotationdefaults": {
           "arrowcolor": "#2a3f5f",
           "arrowhead": 0,
           "arrowwidth": 1
          },
          "autotypenumbers": "strict",
          "coloraxis": {
           "colorbar": {
            "outlinewidth": 0,
            "ticks": ""
           }
          },
          "colorscale": {
           "diverging": [
            [
             0,
             "#8e0152"
            ],
            [
             0.1,
             "#c51b7d"
            ],
            [
             0.2,
             "#de77ae"
            ],
            [
             0.3,
             "#f1b6da"
            ],
            [
             0.4,
             "#fde0ef"
            ],
            [
             0.5,
             "#f7f7f7"
            ],
            [
             0.6,
             "#e6f5d0"
            ],
            [
             0.7,
             "#b8e186"
            ],
            [
             0.8,
             "#7fbc41"
            ],
            [
             0.9,
             "#4d9221"
            ],
            [
             1,
             "#276419"
            ]
           ],
           "sequential": [
            [
             0,
             "#0d0887"
            ],
            [
             0.1111111111111111,
             "#46039f"
            ],
            [
             0.2222222222222222,
             "#7201a8"
            ],
            [
             0.3333333333333333,
             "#9c179e"
            ],
            [
             0.4444444444444444,
             "#bd3786"
            ],
            [
             0.5555555555555556,
             "#d8576b"
            ],
            [
             0.6666666666666666,
             "#ed7953"
            ],
            [
             0.7777777777777778,
             "#fb9f3a"
            ],
            [
             0.8888888888888888,
             "#fdca26"
            ],
            [
             1,
             "#f0f921"
            ]
           ],
           "sequentialminus": [
            [
             0,
             "#0d0887"
            ],
            [
             0.1111111111111111,
             "#46039f"
            ],
            [
             0.2222222222222222,
             "#7201a8"
            ],
            [
             0.3333333333333333,
             "#9c179e"
            ],
            [
             0.4444444444444444,
             "#bd3786"
            ],
            [
             0.5555555555555556,
             "#d8576b"
            ],
            [
             0.6666666666666666,
             "#ed7953"
            ],
            [
             0.7777777777777778,
             "#fb9f3a"
            ],
            [
             0.8888888888888888,
             "#fdca26"
            ],
            [
             1,
             "#f0f921"
            ]
           ]
          },
          "colorway": [
           "#636efa",
           "#EF553B",
           "#00cc96",
           "#ab63fa",
           "#FFA15A",
           "#19d3f3",
           "#FF6692",
           "#B6E880",
           "#FF97FF",
           "#FECB52"
          ],
          "font": {
           "color": "#2a3f5f"
          },
          "geo": {
           "bgcolor": "white",
           "lakecolor": "white",
           "landcolor": "#E5ECF6",
           "showlakes": true,
           "showland": true,
           "subunitcolor": "white"
          },
          "hoverlabel": {
           "align": "left"
          },
          "hovermode": "closest",
          "mapbox": {
           "style": "light"
          },
          "paper_bgcolor": "white",
          "plot_bgcolor": "#E5ECF6",
          "polar": {
           "angularaxis": {
            "gridcolor": "white",
            "linecolor": "white",
            "ticks": ""
           },
           "bgcolor": "#E5ECF6",
           "radialaxis": {
            "gridcolor": "white",
            "linecolor": "white",
            "ticks": ""
           }
          },
          "scene": {
           "xaxis": {
            "backgroundcolor": "#E5ECF6",
            "gridcolor": "white",
            "gridwidth": 2,
            "linecolor": "white",
            "showbackground": true,
            "ticks": "",
            "zerolinecolor": "white"
           },
           "yaxis": {
            "backgroundcolor": "#E5ECF6",
            "gridcolor": "white",
            "gridwidth": 2,
            "linecolor": "white",
            "showbackground": true,
            "ticks": "",
            "zerolinecolor": "white"
           },
           "zaxis": {
            "backgroundcolor": "#E5ECF6",
            "gridcolor": "white",
            "gridwidth": 2,
            "linecolor": "white",
            "showbackground": true,
            "ticks": "",
            "zerolinecolor": "white"
           }
          },
          "shapedefaults": {
           "line": {
            "color": "#2a3f5f"
           }
          },
          "ternary": {
           "aaxis": {
            "gridcolor": "white",
            "linecolor": "white",
            "ticks": ""
           },
           "baxis": {
            "gridcolor": "white",
            "linecolor": "white",
            "ticks": ""
           },
           "bgcolor": "#E5ECF6",
           "caxis": {
            "gridcolor": "white",
            "linecolor": "white",
            "ticks": ""
           }
          },
          "title": {
           "x": 0.05
          },
          "xaxis": {
           "automargin": true,
           "gridcolor": "white",
           "linecolor": "white",
           "ticks": "",
           "title": {
            "standoff": 15
           },
           "zerolinecolor": "white",
           "zerolinewidth": 2
          },
          "yaxis": {
           "automargin": true,
           "gridcolor": "white",
           "linecolor": "white",
           "ticks": "",
           "title": {
            "standoff": 15
           },
           "zerolinecolor": "white",
           "zerolinewidth": 2
          }
         }
        },
        "title": {
         "text": "Base"
        },
        "xaxis": {
         "anchor": "y",
         "domain": [
          0,
          0.08200000000000002
         ]
        },
        "xaxis10": {
         "anchor": "y10",
         "domain": [
          0.9180000000000001,
          1
         ],
         "matches": "x"
        },
        "xaxis11": {
         "anchor": "y11",
         "domain": [
          0,
          0.08200000000000002
         ],
         "matches": "x",
         "showticklabels": false
        },
        "xaxis12": {
         "anchor": "y12",
         "domain": [
          0.10200000000000002,
          0.18400000000000005
         ],
         "matches": "x",
         "showticklabels": false
        },
        "xaxis13": {
         "anchor": "y13",
         "domain": [
          0.20400000000000004,
          0.28600000000000003
         ],
         "matches": "x",
         "showticklabels": false
        },
        "xaxis14": {
         "anchor": "y14",
         "domain": [
          0.30600000000000005,
          0.38800000000000007
         ],
         "matches": "x",
         "showticklabels": false
        },
        "xaxis15": {
         "anchor": "y15",
         "domain": [
          0.4080000000000001,
          0.4900000000000001
         ],
         "matches": "x",
         "showticklabels": false
        },
        "xaxis16": {
         "anchor": "y16",
         "domain": [
          0.5100000000000001,
          0.5920000000000001
         ],
         "matches": "x",
         "showticklabels": false
        },
        "xaxis17": {
         "anchor": "y17",
         "domain": [
          0.6120000000000001,
          0.6940000000000002
         ],
         "matches": "x",
         "showticklabels": false
        },
        "xaxis18": {
         "anchor": "y18",
         "domain": [
          0.7140000000000001,
          0.796
         ],
         "matches": "x",
         "showticklabels": false
        },
        "xaxis19": {
         "anchor": "y19",
         "domain": [
          0.8160000000000002,
          0.8980000000000001
         ],
         "matches": "x",
         "showticklabels": false
        },
        "xaxis2": {
         "anchor": "y2",
         "domain": [
          0.10200000000000002,
          0.18400000000000005
         ],
         "matches": "x"
        },
        "xaxis20": {
         "anchor": "y20",
         "domain": [
          0.9180000000000001,
          1
         ],
         "matches": "x",
         "showticklabels": false
        },
        "xaxis3": {
         "anchor": "y3",
         "domain": [
          0.20400000000000004,
          0.28600000000000003
         ],
         "matches": "x"
        },
        "xaxis4": {
         "anchor": "y4",
         "domain": [
          0.30600000000000005,
          0.38800000000000007
         ],
         "matches": "x"
        },
        "xaxis5": {
         "anchor": "y5",
         "domain": [
          0.4080000000000001,
          0.4900000000000001
         ],
         "matches": "x"
        },
        "xaxis6": {
         "anchor": "y6",
         "domain": [
          0.5100000000000001,
          0.5920000000000001
         ],
         "matches": "x"
        },
        "xaxis7": {
         "anchor": "y7",
         "domain": [
          0.6120000000000001,
          0.6940000000000002
         ],
         "matches": "x"
        },
        "xaxis8": {
         "anchor": "y8",
         "domain": [
          0.7140000000000001,
          0.796
         ],
         "matches": "x"
        },
        "xaxis9": {
         "anchor": "y9",
         "domain": [
          0.8160000000000002,
          0.8980000000000001
         ],
         "matches": "x"
        },
        "yaxis": {
         "anchor": "x",
         "domain": [
          0,
          0.46499999999999997
         ]
        },
        "yaxis10": {
         "anchor": "x10",
         "domain": [
          0,
          0.46499999999999997
         ],
         "matches": "y",
         "showticklabels": false
        },
        "yaxis11": {
         "anchor": "x11",
         "domain": [
          0.5349999999999999,
          0.9999999999999999
         ],
         "matches": "y"
        },
        "yaxis12": {
         "anchor": "x12",
         "domain": [
          0.5349999999999999,
          0.9999999999999999
         ],
         "matches": "y",
         "showticklabels": false
        },
        "yaxis13": {
         "anchor": "x13",
         "domain": [
          0.5349999999999999,
          0.9999999999999999
         ],
         "matches": "y",
         "showticklabels": false
        },
        "yaxis14": {
         "anchor": "x14",
         "domain": [
          0.5349999999999999,
          0.9999999999999999
         ],
         "matches": "y",
         "showticklabels": false
        },
        "yaxis15": {
         "anchor": "x15",
         "domain": [
          0.5349999999999999,
          0.9999999999999999
         ],
         "matches": "y",
         "showticklabels": false
        },
        "yaxis16": {
         "anchor": "x16",
         "domain": [
          0.5349999999999999,
          0.9999999999999999
         ],
         "matches": "y",
         "showticklabels": false
        },
        "yaxis17": {
         "anchor": "x17",
         "domain": [
          0.5349999999999999,
          0.9999999999999999
         ],
         "matches": "y",
         "showticklabels": false
        },
        "yaxis18": {
         "anchor": "x18",
         "domain": [
          0.5349999999999999,
          0.9999999999999999
         ],
         "matches": "y",
         "showticklabels": false
        },
        "yaxis19": {
         "anchor": "x19",
         "domain": [
          0.5349999999999999,
          0.9999999999999999
         ],
         "matches": "y",
         "showticklabels": false
        },
        "yaxis2": {
         "anchor": "x2",
         "domain": [
          0,
          0.46499999999999997
         ],
         "matches": "y",
         "showticklabels": false
        },
        "yaxis20": {
         "anchor": "x20",
         "domain": [
          0.5349999999999999,
          0.9999999999999999
         ],
         "matches": "y",
         "showticklabels": false
        },
        "yaxis3": {
         "anchor": "x3",
         "domain": [
          0,
          0.46499999999999997
         ],
         "matches": "y",
         "showticklabels": false
        },
        "yaxis4": {
         "anchor": "x4",
         "domain": [
          0,
          0.46499999999999997
         ],
         "matches": "y",
         "showticklabels": false
        },
        "yaxis5": {
         "anchor": "x5",
         "domain": [
          0,
          0.46499999999999997
         ],
         "matches": "y",
         "showticklabels": false
        },
        "yaxis6": {
         "anchor": "x6",
         "domain": [
          0,
          0.46499999999999997
         ],
         "matches": "y",
         "showticklabels": false
        },
        "yaxis7": {
         "anchor": "x7",
         "domain": [
          0,
          0.46499999999999997
         ],
         "matches": "y",
         "showticklabels": false
        },
        "yaxis8": {
         "anchor": "x8",
         "domain": [
          0,
          0.46499999999999997
         ],
         "matches": "y",
         "showticklabels": false
        },
        "yaxis9": {
         "anchor": "x9",
         "domain": [
          0,
          0.46499999999999997
         ],
         "matches": "y",
         "showticklabels": false
        }
       }
      }
     },
     "metadata": {},
     "output_type": "display_data"
    },
    {
     "data": {
      "application/vnd.plotly.v1+json": {
       "config": {
        "plotlyServerURL": "https://plot.ly"
       },
       "data": [
        {
         "hovertemplate": "x: %{x}<br>y: %{y}<extra></extra>",
         "name": "0",
         "source": "data:image/png;base64,iVBORw0KGgoAAAANSUhEUgAAABwAAAAcCAAAAABXZoBIAAACZElEQVR4XgXB624jNRgAUNvf59tcm6ZJ2SbaXajof97/PUBIIG2Blm0a0iQz9vhuzqG/bEZGj7/N+6eHlnranA9AD6/w8z3p17hBk0nobx86Cc5rvZQF9C7RKTmHq8UYx4bNGkOw1onEmOjRpMmKKw4lAPBhpeNccrb/FQrNhp9O04QCaeVDKzQUjELT6Dzt9l/TElwMAVkNDKuv0FYmhTVJPTx9egPeoUmoqgVgLHUyzr71pvKG2zPbraZLRCVZZIOqjRDRpLioRprDn/a+AxawW02XSoDRTIEkXG+etvPza5Bd9B5PnkK6xq4rERo9rveP8lfLhY82VvxDt3DxtBU15kzvPo/++LI0NThXBf71sBLEl3YmgZDmtpm+fT96P7lKgaCZNbCYZ1Kh/fR4F16e3ws1H4n30mCeh9UYl8lj3+y3dbqeL6n6SEjfRyypsGYMdtF9O7DzcU7eEsKEvhkTjuvd3el9iijUTS/z8Z8PSzSiEgI3+MO4vU/eidX2xz1c5ulgiNRKEBqXBnk6FgPD+OWnx/Xp28kpZIQw9MR5j2cZT0V+3n75unbf3ywdSXVE4GQvucdEcXa3u939TX59fovAaEyqBeocFXiXmXUVZa8u78ezwb5TFGMkSsoWe5ckQ+e5Os3OOw1KB78U4ERnjEAzpdl5dzZMcNWyWPPC27rEBf8dBFAuwt+HFyt71nBvoLhCA0LFqwKhmib9bolqQGpuCiHVnMuaExQUleZAsxGdZFQQhs5mX2gNC0IhEOZ0u8rTXAnJgCKCZpQxN2FKtcaP2GE68K32SehapJ6WEpbr/7ajbPSN3c6gAAAAAElFTkSuQmCC",
         "type": "image",
         "xaxis": "x11",
         "yaxis": "y11"
        },
        {
         "hovertemplate": "x: %{x}<br>y: %{y}<extra></extra>",
         "name": "1",
         "source": "data:image/png;base64,iVBORw0KGgoAAAANSUhEUgAAABwAAAAcCAAAAABXZoBIAAACYUlEQVR4XgXBaW7TQBgA0Fk+e+wZL0ldN6UgWvGLS3D/SyBVUJUsTRM79uwb7+Ff7YhO7LGh6Lyvn4S+RQ5Ynw9TNwL09pATk3jb+U+1bwuCCTGKDbHIEcrkQpktS1qby3kcypwB6UyInw0UDQ7ZJ7P63NkkOJJIgL0FRZMBBDW2i7Pu4Yc/6KZ2E+3LZjJVW2mIq6cOdf3jywv8+SwKM+KYOZCqvydgLRYVb59/7gbwjJcGp/1MeXRy9wBG0rYDqETDilbxIWMXdSrPH+YjgMY1g1rQhS7o+Je9jC3ZRM4KpO0bVO2GmGYY2fV4uZ7I6/Nzj7jlUCCrYGyETXz8Aq+//2GUD/r69b5gVfaRA/RYKsEbOr/9nbY9dZMMfMQse1PeAZGz1g9y2r+dFCHgTBYeRRvjLDtYbktEt5mYiPKaGkAJB61MomnB4EzinYip4iJ6w2mNGArWJyo2T9CZVG+H7VZVgBAy0DCWo3dqCcOO0LIgpBh2grclK2NClCS5Kqm9k6ABol2V9u2jl5lUhDZN1pfUJaLB55SW078Q26dwdOKu3n4bbfh03LkFDJC48Cutu027kf39dmiIMaukYbqAGqtZhpsfvz/Fw8yqzYiOnxdrNbgJKk6XpE+E0gHBxkpP/fX9bJRraQF9RmWpJanfRaWkXHRh3j9kcisVDOINYINNUH98o2W0aK8/LqFs1lgASJP7jtnFHj29WBGkD4SIgIHkALcQOCuuxxwsnjFSk0nDHXUrqkoEpgSC5PHIV8CpDsucsrFqmXUWDWhOiyAD27Y0oLDuLxW7IbWgbGD3H55yjE+TzwcKAAAAAElFTkSuQmCC",
         "type": "image",
         "xaxis": "x12",
         "yaxis": "y12"
        },
        {
         "hovertemplate": "x: %{x}<br>y: %{y}<extra></extra>",
         "name": "2",
         "source": "data:image/png;base64,iVBORw0KGgoAAAANSUhEUgAAABwAAAAcCAAAAABXZoBIAAACVklEQVR4XgXBy67bNhAA0BlySImkZFtWfXFjFE2RbIIA/f9f6aK7m6JIbcvWm2/mHPz81x/y+TGnePz2CW1Yp8THyTv99c/4L33W2xIv/bYfcNgti54zWRU6t8Fr6uHh1Fszr8aUuJckqsyoUMNvc0MIpQACCMmRRZc6g0oEQPt4ISl1ioAuc7AxHZNtDCT0IU9ONVRTHS1KtCHB9RpvTMwJAGOWTUc/4QDb8ahwL82X7+7v/61P0QfOkSP905L0c9tVS06u6Or5rNFxXoHbJ3pQ0mDvPu85fFzfVX4q2gVl5yGSSttZleWJaMq8ydNJLlAf8D6iCHSK83yo7LSx9xMLpW70ks5vcdnqrmPXytqQzcXEoHqcbcEiZdh511+uZIq3MzsaORopcRnXyHX8MeGxTIxegYEDRbLGJE71kOoL7tMqSxjvtLdcC+AILpW6lYQSlykabSgP1LVEXFTEFz/cnVIijZODiifV7nTt6tUZw6F2jx+vy/nwMW0sLQzBOTIqr0sWwm7Wb5PFKs9bK4SWfpwpPoabP7Fq3KLWYUBUdTQN19wBEN7+W5ANtFTN4fcmRcv6puXecZCSYPa1YAPJvmr6g9zH3Rxgi7z4JGlYUesU6KiYgAx+8yy7JGRx0dDClVZ7ZCWWdOf6PoXisK3BZa4pM9IipGJtohTE8/Fy0CsTXPEDLag1S6Jm414RwLq9XKfiCJntK03dsU8xqhwL8w5SUYe38zpVgiFSrH7rXvvOkHR5uQQojRbBVcmLM3Wf3st4s9LU6vXTRWjqrDQgj6F6+wXMEWyrP95KMQAAAABJRU5ErkJggg==",
         "type": "image",
         "xaxis": "x13",
         "yaxis": "y13"
        },
        {
         "hovertemplate": "x: %{x}<br>y: %{y}<extra></extra>",
         "name": "3",
         "source": "data:image/png;base64,iVBORw0KGgoAAAANSUhEUgAAABwAAAAcCAAAAABXZoBIAAACR0lEQVR4XgXB227bOBAA0CE5HJKSLDtOUvSCIgX61v3/79nFoqgDxIltyeKdw54j/vl1rE68veuDOKen4Z5HN/iLQoDKaMBQvC5MY0WlbjelBY7yegWrGJsXdD5VWxNMzpwa5Viep7zFIhjva+g8WlFWVL0hGdk4mPEeGBJKuaz15fn6v1eqmNqKk3wThKhtxkeXst7/WPJ7EVqTxonffXpEQinwR90yCvMlmaViV2b4hGndUEteg3zkNVuqOI9G+rVIRcdnm7dOXCRyqXY3+N57Clk4JLX78npnq0Eq/C+hJipo+BaVBmhFTdNkDZIE/DPPx1kCgL+xUa3nlJKYLa+xRVnk/pmS0G3dGhK0WivQ4dgusTd0oieO3VUunUVJ42D1oZm1SLvHI2xJu8xq/uwBoSDC8LSUjrU7POTqLTM8fHOvAaSF5fbJXW5Fi8ZYtQTdtkkdqJ6ufYd5GcLHuTCzRG87R4bNz25QYMZp2pvg32AiBdhLy4K6j2I65q9DFfsnlyzwOIULkklNiK5IyANZ/XruYkxKd+rXfzEQSFW9+JAzZd/fzng/GjPVdHm94lk3ryBEiEedty0LZHzcPS2t0HesaEIkXcOGsoWFBtEbKyXNeGj48yvXMEq2eKnMNMsCIOrd7x/Sii+HkqNhMfPJJ3qYYutctnvtLAg54k41xt6BgXRjaa1goZXPCusiuxJGBl9q1f2eyVHrDlQMhM0Xd5QlX73bXRqKWDxAUIoEWvworGf6/efUXx5CbKblJTsNZl9h+As9JnUKIPi+mgAAAABJRU5ErkJggg==",
         "type": "image",
         "xaxis": "x14",
         "yaxis": "y14"
        },
        {
         "hovertemplate": "x: %{x}<br>y: %{y}<extra></extra>",
         "name": "4",
         "source": "data:image/png;base64,iVBORw0KGgoAAAANSUhEUgAAABwAAAAcCAAAAABXZoBIAAACf0lEQVR4XgXB2W7jNhQAUC6XIkVZkq1YthMnMygKFM3rvMz//0BQ9KUYGB3UGcdxnMQrxUVc1HMw+rbsEM3YzT36ZXNrHKrT1tCrZaKARYY4ZhDUB+qcczaJjEobikagBF9y4KRAx2ufInWdozLPGpYyAQTDnwbhoY8eGBuV4aQSR0PdeGV0NYGH3clqQrLZbLrILqq7no2S1fnjwgWCTpveQb347fbh7vJcyH63fg2Dv+p8sLCymSBiulzcjHNT8AlZTP85ISw8VgqORcucbNpGRB3yDPFCwsvhmA9YO7gpG+rruz8WKhz2Z2hum/GDkEpz3Vn4YjuKUTmfou3Lzy1+eOQFr+PJf3ZBQe4vKZO9T2H3Y7M9r89kibCYXnaJM3AoaihLRt3ml05KZ+L9dl62R2CyBuhRwO0yd6fdESpq7N//Pn6f16ORlRUwJpMUwu9Xr06M2u7zJaCvDSY5tQT2MYqxTMf1f53ISBZSyhghmHGmDDynNGYynhQaYRKD67NxU9Yau0gHiP052BRjxHnqtescpTSfjGqcaIS5jThEKikth88TQrwqZYYoMNJ74AXRPoxaoPs3q0g9u63maXPd6N5EONwvP65vj4uKoxcrJ8u7RTWWm/XzxfcBtK3h7amdFaVspRw3bZ2xw8/VofMxwSe+2KN9Gv+eprKQGHFq3n/8dQzODzlcwQwUb59sw2pAOGqz36/2aHCeF3AvwgDcr20jvCJFLrpXpRnyKXACUz74QJBSK2Tfh5vZNF0QKWzICEdAcml1Qs6YFI5aRy8RSmmQlbUOgEnU294og/M6K0ccTEyeV3n31gMx2CrVB3WmTMCkYt2B5rSugHn/P4nscGqyJqW6AAAAAElFTkSuQmCC",
         "type": "image",
         "xaxis": "x15",
         "yaxis": "y15"
        },
        {
         "hovertemplate": "x: %{x}<br>y: %{y}<extra></extra>",
         "name": "5",
         "source": "data:image/png;base64,iVBORw0KGgoAAAANSUhEUgAAABwAAAAcCAAAAABXZoBIAAACX0lEQVR4XgXByW7UWBQA0Ddcv8FD2RVSiTpBvWLFis/k93qBWkgsiIDQqlS7XB6e33gv5/DPX76Mj5/Mvz9tpZ/kVX18//Kal+q5Pv/zFSb9fHfQ4mjbZZ15qpZzkJlRKQke4AezTcNcUm2cVuLykkhWRqTpklp4YwRIKRCPjZWg+A27Xhe2bUxABLlOtRJVVA/Hpob125u6k8t68ZJDbsU4maGHYk8PKrPhiZdrmq8rkxX0g1fdwYqMpoPxt3r/9/Hn6HbeUuLwV72VUrPMzKldv7/2/aF3sYiO3ByAkR22qoPcDtvLf95eTWe16UQUYYcFlWL1kwktfH+ZNEekNF8PlkuOQCVKU0tqhiyV5FQ1Ko3nfMyTUyB4ThIRHnm0D8EHD8OIuWDcq3uoUzZsy3CSbgql5D0rU9dsy1q30I+iU14SwzQvsjH89mvCcmOqMwl2pQAa4bdx8upOeEjzGpEzzlmGX22HOwGTwVFzKNg+H7AD7giphVXUJWxwGqCu2V5QPx7PmkLGqCS0VRCcR1GxSjlfKonLGjeXwDYc3kVHw10QIcfss353vy6uLRzN0DHol90phVw3JMt+/+G03CIHyyvdK4jI/f+yVkN3uvXL4zO6mJYNNCPdwOZCTlyV0BpuSNPb1W1zaqiUvQBlj5LnNxk7asz0+7JvN6+s9G4xsHsvlTLlTC0/mR+vGTCjFLjcygEgku10r3fH4kzn3RIWDDdcd7+BRntQQEjE1mtIVhNjZZkrwReCkdXcgwxe0uXCLGgjbdocb0WoYKzlThrWxMLkegOVrVrkqFQT8Q+fb377fmVrYwAAAABJRU5ErkJggg==",
         "type": "image",
         "xaxis": "x16",
         "yaxis": "y16"
        },
        {
         "hovertemplate": "x: %{x}<br>y: %{y}<extra></extra>",
         "name": "6",
         "source": "data:image/png;base64,iVBORw0KGgoAAAANSUhEUgAAABwAAAAcCAAAAABXZoBIAAACU0lEQVR4XgXB647iNhgAUF8++7NzGyBAmR2pff836q+VVlOJdiEhIXF8i+2eQ099fftaRrw0zNzLn93wa2vVVf7zK5EHQCgvQVh8Z0x+Cp9QEwClD252J/hEZ/6tcV8EkPJ24o+DoCwy3npyhE80SyE0x5UqWeJmgck05kzrQwc5UlE4E+E+/pBdjjMEETYqVHXtwGeki8cOp5zE0e8Wkx39ARJ0PTTYOpvxLNcNC7ELHspLFAGcEQmcMVHLH19iMg2G+dF95bt+Fp8miBA3y9nxdiW8v1Tud3/7a//bG7evkANIY6UAzJaJtG0OT2er1TE6T4UAIneOTZc3mH7GFLvzYx5cIrqX5wPsQKio62mVy38zNB95/L4Pz9xqDR4EY5kS+xpxzw6r68WOg0skcU0nqFna8sCWwIJxsjq1yxq0BNn2JMEtvnJ8hhhLpl3ft3b0UhYqPiqP0D3nFUHtr7fCy+WmptEHSimk2WwwDnMShINfZd/yWjrjnecK3pkp+J6SghShLYSTIjUNmZlMSIBLCxmwAVCINoq2UUqhXE2BPVWUwalKyABr1CartsHqZDbtDNOiCADBIVhJi19Anq+UcF7R2QlN7RuGHYUf1iOGrdN9/Xg+hzeV6oButXCHpup8WKzPimr7mDYzZXmUySYN7yPAqR63PRXvV/cddLtuyZHNfDTAmk5EIkAgEXHe70vpiEnUW4IN1E0DS6Qt+KTpO29jzFLv3rSqDiAA9o10WMxCXg6m1afTIRAuGzdConQPfI8lvvfFiVRY5p2lqPhv8z8tKG1/aAjoKAAAAABJRU5ErkJggg==",
         "type": "image",
         "xaxis": "x17",
         "yaxis": "y17"
        },
        {
         "hovertemplate": "x: %{x}<br>y: %{y}<extra></extra>",
         "name": "7",
         "source": "data:image/png;base64,iVBORw0KGgoAAAANSUhEUgAAABwAAAAcCAAAAABXZoBIAAACVElEQVR4XgXBh5YTNxQAUJWnNpriNcZZMOdQDv+Wz06AJCxex56qkZ4a99I/vVRhzvHltf06jM6Ci7HtcdyaPoP3tc4rI7S1cZq2IEprBdPvMKcADkn2gXPdqpRoXarqWIxFAkEEEQImkFLQsldKfIYQU/Bq0FBgoKUQNvRuDpbmhITshIaiWhMcANScuGqMTUyl5eWuVSKcWOY3hNkhydR1x0tFIev1F+NLJLPDuCHk7AVj+vD2iP/c29OXc/Rzpf9+z5RLEAQU6Ce97OHbw4zH6h15ggdn0hi4RcHbnl2nmh9+W39mlM9NCasQsoEIpBj1GGMLtoWEudqBzksgtWzwNi2U47TYodU8h1hSw6ZZGL9DBoqs5T41l49vhrhmd7v9P4Hs9eIaDfdoFKGG2bZrMOucXtcqbNTHtBRgTPBM9P7T9Yb454+fkG/Jla5xtxkuD8h7rmP4r9Vxv+jLp3xdXSJcwQwHv27E4OjtQH2Y/qayzwy3KCtISMXh8bTMtekZmnb51nWfO84dK10FlJp3XW0ZRKKt2Dfz5T2Zgs6RAVRlsyaVKxFFb/cVZ3NmrJKMtYHGFdEofaqsxLj7Wvfb60E4J4BpwA2VkE9vop/nTTJRfUygOWsgKbjuqFZurc/JRdkbwgFqNiSFssN3zmtY+lNziOjZ4ZSPEB6OhlfPPDgrME53fz790Qlqepnuq/MVx10FGBpZENO43YbDSVHghKxrJIRLxcA0kmMW5deP5/drll1Jab9ulg7Je0CgSjPrH5jGvx7nD7m0eX/pzkf8Mf4GpA+KXdqSDsQAAAAASUVORK5CYII=",
         "type": "image",
         "xaxis": "x18",
         "yaxis": "y18"
        },
        {
         "hovertemplate": "x: %{x}<br>y: %{y}<extra></extra>",
         "name": "8",
         "source": "data:image/png;base64,iVBORw0KGgoAAAANSUhEUgAAABwAAAAcCAAAAABXZoBIAAACaElEQVR4XgXB2XIbRRQA0L7dt9fZNJZkh0ogcTk88MDn8Ou8UWUbpESWrZFm751z4K8MdJ2bHRfDR0a4fJT75Whrw/l0wJZMK9Wksyx7AsiauoBmUYUUeMMC+WCd70fVNhkzUlhg5ymnsjRoHX/or0kaz7cq3mCd5V0ZIC2WKrytes+BtvhmU5WJo6up1WLnEZaM0c+Ovq2xjcHnpv00O6Fzf3q7mLrEbd3Z5RRVCO1+U0NDY864L/yU5QZrKm5WMrDNH7/F/sJ0srhhWOjpI6BidhSt78vfv7eHwzOUadKf2OknMX5AmolP2r0lnsbLuYMYJ2/yj+u+YgW+MjtFTqDYkP5qmSh8pJaqWkmzxSOsWVO6/f50986K+qG9nUbvXQ6WjqjDQkpeFF+2SlW/fPmzfvn7+fJ+5VwxgT5775qKbwg035b7z5XvhuucJGaC+M6BrOvmzgAHuf5MW2daUxsFSyJomU5jtCa4tTucOvH0KISq+4lDMqhpjj7mSvr69u95ZOWjJOvYA3eMIllTZELEzmp7HuWmVDLOC9WwxAsqmpCpUsAyOE9FU3F/6ZkmvedXrOaQKQmBJO8SV1XhPo4dkukqJSBlKXubChISFc3Dr/r4MhCXZ1puKgRFoyeZKQji82OD/fOrr0eHpiq/YiSAdQCi2zk/fe1eLueJlmlIbjQZ0WUsybjEe1ir5fWfkKRA8F3H8UwVDYEVOo5rDLfjR5YkqEIXGEFkZBBpyoTYU0hTGsj0g7QpyTaAYjgHxlzKm51cvKHUHf8rB7Gweh58wkGaeCa7hx2F9V53h5RcV7Imd1di/gcvcXBc+92H9gAAAABJRU5ErkJggg==",
         "type": "image",
         "xaxis": "x19",
         "yaxis": "y19"
        },
        {
         "hovertemplate": "x: %{x}<br>y: %{y}<extra></extra>",
         "name": "9",
         "source": "data:image/png;base64,iVBORw0KGgoAAAANSUhEUgAAABwAAAAcCAAAAABXZoBIAAACYElEQVR4XgXB2Y7bNhQAUJG8JEVt4/GWTAPMtGnQ5qWf0v9/aZCgroHZHEuyxPXysuewv6fx8NWfl5KPv7I4n7o/5HRxD4/ptiRwqWLz6jy0gyLQ+77BiuWUitAEGbo7WSne9sqj9UXgMtsYLGIBQAmCGdPszBrYJts6Wpt5IUowwNjLhXV3h9+205V1+ZouS9vxmuUoa/CNXMS96T8+hovj1S/5X/GOUG6Tm04wNDqU7KfrtsS3q3naCR7eMd5mci9QogBByxgW5Z9/CPxrb0/zvK4oyMG56e8Pnbv61UBM/mq7UoRshGe5A2LM7MxK01L0xihpZx+sGBynZg9DLUoh71L2mpltjzjs35EClkpCj8nNjMLCyOh2fzT6vthnVBxTA5yBcIQaBfSboel1wsNnnAWNVIMnrZZ30FsBmo3BDqn/sH8dcwm2A1a4SgvfqhQjZvay70ANcpmhqiVopU3PqebL2lEpGJ5a6UvlJGxq2BFRfaxKypFBcqtS6uf5ghShMzBQRKs4kaq15qL/8mUznn6skriIMFAONskiPyXdwd3Tw1bmiCBcGB18HW83btrSbISQ6vio3PO3SclQhXmCA4uu3X2SvKlN8TCG8b+T5axAma7wQqIgtQfGVZPp+s+EHikTdWUJ8Kpj8HBpBpWnOD6fR9WpzBhrYrsF9LclVd/f9se8YJ5jKpBj39fq1XwG9nOuwu2cNn9ukctcKoYedeZc3klAm8Bf5iod2hJ5Il3LEFcRav37ACgUYSqgpCiE0CK6RMnFXO8eoIvrmkXDpOkrKCqMb6NqRcUoof4fIbyV87oq10sAAAAASUVORK5CYII=",
         "type": "image",
         "xaxis": "x20",
         "yaxis": "y20"
        },
        {
         "hovertemplate": "x: %{x}<br>y: %{y}<extra></extra>",
         "name": "10",
         "source": "data:image/png;base64,iVBORw0KGgoAAAANSUhEUgAAABwAAAAcCAAAAABXZoBIAAACd0lEQVR4XgXBy5KcNhQAUAldJIGAhqbpmW6P7ZQnq1Rll6/JX2eTlauSjGuS6TcPIaEXyjn4d+ZVgb//wGaa91/qY3f7Q7/UOOHdNgfDuVvS49aP/chFMV60o0Udod4QDRLnRKO6WO+3Md2y0zsuts8dTrJ0HqDFa0yACUIhhQaJyoj9hiOntXXwVU2Gl2RercGMkU/diDKlyOpjioGZmGTcTr0yAJ4cdk6tj4EEE3gNa0S0AKWldCKt8qefyKT38/Cvd2kGlaPrahTeCdX8/JqVG+xU9XKWdnUTCMVkHwxvyNL+8o3hVZue1duDc+YE74iGKaHlvg6srpiblQYWSUZSbOF7i5TMy7LbBykH4r2mR6z07DLXw9J7FYwLLinxcpktc1llL5NCoM6QWs8gJPbWHcRN/tNvc7Q4eZc2OgbOJAKH1epAmbue7ykzV/O4TwYnRxiGpME6rHwanrcnvsndedHjNMY8xfDwzK4LAvrG8/bFTfZ0HnrPFx+igkBrLhO0LNP1LqrX89967i+0wFKZAT77kkWU5t0O33lFAVNKRA5+RS7Ar9eQ+iieX5vx7ePTkdfzg27SgARJBeznB+Ghff28Xt4eP347tJJzh2wCPsnhNoyYs31HPz5OffhSR2vtSgVZFErgY5rXzb7218kTUfBwv0kZkzJb1TgDI3JiZcdMi5lpd1RJrZzzVdOABqXm4MQhn2PdOFG7QGjusNFVUS/wl9RhHHtvMG0cmW492YsYrZ18ACBs49DlT1jLFs1a3UyaVile+vuFRcDlNqAhBp11TPWTzgqWgMjsbWY7eH/iyKp0OflLq/7roYseR8gSEZ6+/Q9RDoonyT4v9QAAAABJRU5ErkJggg==",
         "type": "image",
         "xaxis": "x",
         "yaxis": "y"
        },
        {
         "hovertemplate": "x: %{x}<br>y: %{y}<extra></extra>",
         "name": "11",
         "source": "data:image/png;base64,iVBORw0KGgoAAAANSUhEUgAAABwAAAAcCAAAAABXZoBIAAACeElEQVR4XgXBW2/bNhgAUF4+ipRE2pLtxK6bNi3QpwB92M/ZHx8wYFmWNHHs1q4tS5R4587Bf+ZauElfe/Lw4A/7bi5e31efkXZ8+wEIh0ztNSvGzNSlmYBCgEMwE/YvaJXpsqNSYPSrvxYlp9KWLqo5Ou1hCTZGREVN/W5gTSVyqSBh6s2IwBqkYtDHUOuLnYGSpkwkWXcJdAn7SpHQXH5FwBRjkMtAtdHWYcIZXHmeIuacVWU1Lr+sF/V4fn30SZbZAwl9P1m34BOozed7QZv1uui0r+q+A9CTOetaup5uPt5UpjstVneXdKZ+vIB2NCWcTK6//nFjuv17v/zOM82jNTXoCJnWOVR33zb5+OP4uzsT9vzuYbACJM4jZpHKBfux2xuyWiHz8+1UltRjYNlHQqjcyGF4zcv1lp0PI0khsLKAMaUJle3HLfHiE199uRtMCLTEgSgGMno9+nI2Q1EQlwnu/nu6Fp9wDDZAO2AVzXCmnDjT14r8+89zXK2wdf0EavJ8kexux9sbHytyfPx7L0TPEG5aYNJFntObnuWbtbolry+H89ycC5akgheSPYEwTCrnxZbtdkMpOYcQYgrwyAmVGItScVa4w9ObkxkTmBxGBi5V2bb8auvb2zY/PR4Gi4pkqE+cYXDNrF1KFm4fVmx8fpqSNgUNGvGymkOhymwZbjb37e+LR8kOjiuUgg8Uwdc2ut7keYN9wqJyjhFUzOxhKKYBPuTOc4oYmGhtyIVY2gnXWdtCeBj9NTc0Jteh6XQcqcJjxpjWnCYG+6RFGkfvFY/HXZCTs5kmWAyHlwj7gvHYn4p+2+TLQVFjcI7eJ/9zp/8HmcWIC5ua9W4AAAAASUVORK5CYII=",
         "type": "image",
         "xaxis": "x2",
         "yaxis": "y2"
        },
        {
         "hovertemplate": "x: %{x}<br>y: %{y}<extra></extra>",
         "name": "12",
         "source": "data:image/png;base64,iVBORw0KGgoAAAANSUhEUgAAABwAAAAcCAAAAABXZoBIAAACUklEQVR4XgXBaY8jNRAAUJddPvpKd5LRMEILWmk1///3rPiAECwwYdJJn26Xj+I9+Hoq7v2b/vhxelef/6xx9bY5vTaBQER8M6ISN56mtb2mzFiptrd0JILW4Lent3ks+0pVpGxrdQgHk0+HxB5LSNsGdXX125/YXq58fxIvJDPnjN/NOU+6q0EGEur6Zf2clUFlSTce72+9KNhyti0IWZ/JP8RgDWo0BYcqq65r167XwQuJaNx2OHkEyQV/crzJxpIZ8pJezkD2daRoi8f0lLXWWCgqRfsSL29lnImjz1hV/g/UlFOcU2tpSprL+t9tTZKzbnFcsZ8eh1DO6emp+qqwSKKtQWoNtkeRY1C6g+czdS8vJzj31eDmoGS2v+Jaesu93W8PlZOug6mxhlw4BfeOEdom5s/judQFDN2p0ZqK1loKh7NyNflQZNUMP7+KNTBHxkxojxvuJ3RGIosM2kHc7wtYyaFwmzz2gzESE+Uwj/MjLaEoSj6ydNjguexGx2OhtDbO7F6bsm9jciqgQznus81xp8ygyjaTU4oPbo6/XYesxUMCxCPXphCJkozritT3URMe1+62Y83LMfzyZfCXAwyy4Y2iIHy0Z4JmgGruXy5d9nxPQrpUhHMaLfHJuIZMlT/++mo7t60GO5uSqBReaFJVA55g/Q1ydZv2zWvRdajqgs3x1FcdiFWZfs/dFlqOMK21kSmhwcIQ5ohShPDvDMIYYt7ioI8ZwVQNjCvUDGhUltkvH/mq415ZltE0rZhmlimylmBk2G8/ZoDlqLr/AZD5fXt+sdiiAAAAAElFTkSuQmCC",
         "type": "image",
         "xaxis": "x3",
         "yaxis": "y3"
        },
        {
         "hovertemplate": "x: %{x}<br>y: %{y}<extra></extra>",
         "name": "13",
         "source": "data:image/png;base64,iVBORw0KGgoAAAANSUhEUgAAABwAAAAcCAAAAABXZoBIAAACdklEQVR4XgXB647jNBgAUF8+x46dJr1Nymxh2UUgkPgBb8a7IsQKIcHM7Fx2aNJmEruOHV84B/+GonV+JHQg7S4PaYtfTuL2hsdcKvDOoYJ7E4qS8wzeIbaO1oF15ADDEiiDYopKkphi9pmXNk52MssaLoShJVPplVjGZBnNNJOoU4jzAIESlMQ+GkDXlGkpQhFnnFGp6AA8RvX1hza/fBlpzlwBqqQwYeZk7KB0efPTL1srQiCIEJU0CBUAUZwNSIKEavgYVRukRDhYby4TUEaqGZqkz/fr6vTsBZb7Cig5/6F7UBvAAZw+X+K8NR1qiiCblYQF46wDy89P0I8uPeoKzbSua3nDQT+9QnuN1+7uAlp7lvr/UCHpplmpVb7880Xsl9m6DQXrkqrT1QTRfPux4d48PI6JEZBf8TOgAnEKcbZ6zqsDti8nJN0zEwhWGUAialHGuc8gqnWgx3J4+Gx1UiLBWFfMBdLI02vOy7sk33+cuL3YnL2Dzx/2u/lyRYp06fzpKW+/f3849lwjthCIgRbkzSXeNsWavE2PV7RH1UIQeA97RXxCBPiuLt0wWTR0HPPoMSEIfgCsZx1UfTyYv+7mut02u1UYejdjDL92k34byebm2NhJs83t7e1aQw4+Lgy+wRYXglVkrsojl++ON+J0//f9OTlTQG8d2dS4GO78+mcCvOHjw5/33cKzd/C7M0LyeTKj/vG7XTJBv949aVTuMtXgFlpJc3bK6pAsMt4OI61X5T7jAVqH98XiUcXOn7pDETIHWsYsOK49sEhJhhpWcX4dO0hp10qmrwsSIUJ0KYqFgen/nVqavL2KWoU+YPDpfxWzgghiXWc6AAAAAElFTkSuQmCC",
         "type": "image",
         "xaxis": "x4",
         "yaxis": "y4"
        },
        {
         "hovertemplate": "x: %{x}<br>y: %{y}<extra></extra>",
         "name": "14",
         "source": "data:image/png;base64,iVBORw0KGgoAAAANSUhEUgAAABwAAAAcCAAAAABXZoBIAAACX0lEQVR4XgXBy27jNhQAUD4uRUqUbEvO2E6BwXTTVf+mX99FgRRNMJkklh+yKFIk72XP4X+VHI2WhqXFV9sn+XrdkUMfjsdphN+c1wKXZIubWzmXQMyUVDUNeg8Cmuh88MhiDPjIjVV1FWlJU6rhrW5Lipwn0baWCdf0ViVc56XYE9y0ZEyppq66/sDOI8rkH4t7RGVr2NaUlG4Pw6bbnPh4vl+/phuuZdPWDDpMraH974Nk83v1cHyvhEjRNxsA6C5sx/FpLy/XC8E6H/788U18gDYtMMghL9J0wzr/dyk8eo7P5t9UoJK0wq+FReijUSwWnnkjQgatAiZMHmJVEobzq/ERCoEdWpzlVoasKEALmVfV9Z+dQ5DEu+eTSnpfjciEBpuDVmso0emmZdTvxcKfJC3rmhT0jyTDxCWjfv/NMi5+rqqHqZZEDRx4IZ94mvnT8Si8m6Y07H/kfAVuYTsv0Io5Bs+3lbuEx8zK99Ph4w7NAH7Ndlf/eoRxSs8Y2OLB39/fPuasGFzmtSir4krzy62tK+iHI738/YqoEa4LRp/9tIJ0yGplTn+048u7A0oOpihzILBcilBvjN2eBjiT0pzRDa7KMNZtvk9OqK5W23316W6l9ujGDJHYit0RguOtzlGw8e2TS+ehIIddwCIrZewmc8Hm8Xr7nDp7nTam56ASYhgXAJ5Q0vnnGBzVlImMTSC4yF9fDMEANHj3xDVSFFroZoVdIVhi8avt9IIRlWYzUoWRDQZaT7wwYYTk7s4YllqVVASl2BzAJ8HWB+x2io1zVetI0UdBLnbK/g/xaIjFK2EQxQAAAABJRU5ErkJggg==",
         "type": "image",
         "xaxis": "x5",
         "yaxis": "y5"
        },
        {
         "hovertemplate": "x: %{x}<br>y: %{y}<extra></extra>",
         "name": "15",
         "source": "data:image/png;base64,iVBORw0KGgoAAAANSUhEUgAAABwAAAAcCAAAAABXZoBIAAACWElEQVR4XgXB13IbNxQAUFzgoi6WTaYolzzE48kH5mszGb9kosSSKa64FR3wOfDnvPGzoCSugye80vH+dKE1vt/xfMQ76Tlj9f7q9IHSRkAc+XgNyLFuGPqehC0O99YfealVMRXjkE6S5BUNc4W41Vmp6+qBcctcY6UBExTbFETf5ZXb8nMMiu8e1MJMXcn5UeJ4rwdrYnZdeb+RjeidGqqmo4euxzDnSvy0FQ+FMtCXfk1AObbsJBoaarw52NXoQZin0+3fMbuQeRkJnq4bZ43bU5oX5McLf/uxQYoN/FTwN9dJ4b1qm8vZs767q1xliy3yhvrLWYfnOXmyww3Mk12dmWJtIOiMYwAR/XvanbU0j398LgylQElkT2e83uhjdC72WqXu21f+8jJA0icfZYe4jrkSVwGyq1KVl7++VzPQvW29rShFCQRUKRNSkrfp51WwUKbznm4MC3Cgx24BSpkwaiZQYZ+Lk9Nd4ZunlTBDmQGyOx2Wbh8KZZ5gTIAjIb5mjZJiUacdsOMWfW7VyAPBExnWFCIi6YH2/P4WRYuECdJowd+ruG6oUyrannWYBsdrqYzFyijK0kVReeIPD5cv5L/n/2fbGUHrDIcPOLTJgQLK0gpm+/73j6rMRxGTK8ziQrfZSL8k1S5Leo17+fjp0pZsK3isDKju19f8UZXn8WYFszJtnlAAj4QZst97W442/nO7ZUHj7TUY9KUXqEinFbWfYJeH9yUVjpvPmcromsSWuG1btJqVsCSeoTnYlZCA+gHfNKPFB92zVgnwmKtnsl1Xw1n4BQ2/dW1RnxYTAAAAAElFTkSuQmCC",
         "type": "image",
         "xaxis": "x6",
         "yaxis": "y6"
        },
        {
         "hovertemplate": "x: %{x}<br>y: %{y}<extra></extra>",
         "name": "16",
         "source": "data:image/png;base64,iVBORw0KGgoAAAANSUhEUgAAABwAAAAcCAAAAABXZoBIAAACa0lEQVR4XgXB127cRhQA0JnhncayLFqtDDsWYMgJECDfl9/MU5BAL66CvSG17NM4JefgP9n+7fPy8L7ce9zm5mZx2yx7eceH3kE8cH1hFbWrxVY09+aWQiJ5hYB5iBgVLW1Ps3FZkGe2qgM4yslmZAlTjVBBKEqZJISQ5DPgkZfYhqoDJXAoqI11bg7OSSOlNYRzo44YQaGEIqHlfeUUL8WZvHxZdMh8yIiGNUY7Fpfq7RupY57JaIag1C0jHCygnK6jyQMtL8dGgCgmojFzzFtCIMaTcOs6rw7ARoZSRkmYrqGGqgPdMyGtG4dz7lVZpoxRJnlGipOUECbasia4fVj3+EhD5GhX4g530s9QGbNU+bZeEbaiaQlDYZsJp/HVH/Crnn0MWrlbUVVYU/f6fWcCh/XwFjjNjhS911heHtuw3j79Y7p7PDqIEjZBfUAiBCcefyu3+frDdE1ORTZFDjFhBOB2C6I5n9hPJAqCJtm0mp6h9J4CTjp0v5wEs8PosUHEe9bKFvJJBaBHqj883cH8719fSQx1dSid3Cv4Y9NAVf3x9zfMv/z9PFZMnNp9GBMlEDBKwarz5ZKTQ2m4uzSiqWqwCjh4QmkWozVmR1nzRNsPtbNoC2vwARZMSwq7P/Y5sOaP9++eSN/P4xr9fwfsUshyXvGx1XxiqTvzbbwOP4ZteZng4CnhvFuHZ3UpDlfZb/3zVxVuS68cZD7EgCjbbH964Duu2Pz5mrjR9J0H53iJJ83yuEx743ZogmaQKJYCYMgeTujn1hXYTb0jS0glRSXS2ngKMyp8iuLELT5MIgvuKDMoJ0m/wv+Xln23404BMQAAAABJRU5ErkJggg==",
         "type": "image",
         "xaxis": "x7",
         "yaxis": "y7"
        },
        {
         "hovertemplate": "x: %{x}<br>y: %{y}<extra></extra>",
         "name": "17",
         "source": "data:image/png;base64,iVBORw0KGgoAAAANSUhEUgAAABwAAAAcCAAAAABXZoBIAAACcklEQVR4XgXBSXMbRRgA0Onur/fRbLJkWSGJD6Y48Sf4/8WNKqA44BhLiSRr9qV7euE99NtW9XYrO8tOjfCbR+vE9ZRUZaDbAn7t25lgNN8kToVzY1a6XgZgmOIBYvuBlV37xuYUS0xpZuTWU4T9tYM/GlRg4y0FEq3I1zWAiJQg6psbvJsSMEEyYryOIIMq2RCFWCKrBDjACWFoTbCeCZV6eyATj0lbC7WHZ0G4wvO8ZMJljy9HFcYsd+e+FgbDL+kaUG/c6hxKy88/h3+vcECnEbT/AB09JFFgDljzlK7GRiyJKogaZvDXcSuBU4bKjG3auwk01fSpnxakoblbLUgClH7+knSXmqaSoYiRnS2C3oFfIuZE7Y5uaIdsJcFMp+9LQhnIkIQRM6YqNTXnblo7XSy37zXe0AgCLb0lRb4/oG/nt7ab5Be3tGNCgl3BuKWedZUfi7e3ZrJjk3A0jUHD1A7YL9Pi5eNPD+vpI6EJKz4958HjtOSmBm1dpNVxF1//7IsQ1eHlyC4T4XxTOsAEY70r/T+//xUtNfLTV/zj2wVhDLmBG5QyO6r29a6FpkX5sj///WbBd+AcXI5PWD0kzfzwpJUuqt3w/uq1n9ok17DMgRNCaX7INnkqWPzvI+jMWIsig2q5bPRN7beZYCxxTfcDl8FiVnE+QeKMtHV1TPPYXLvhPpiYTjZGSQHAcIFx7KRb7em97jrLN5KbKRHBENDEznye74y6pjWrXxPpvfG5nq2AhrklqqJU0XYLRcHT0AyG49nIPbzvGDjT44CCWSjyZkWmjUvnlUJAKOe2720NBaNbVPcDIDNOs3hezv8DeU9to/tF/MsAAAAASUVORK5CYII=",
         "type": "image",
         "xaxis": "x8",
         "yaxis": "y8"
        },
        {
         "hovertemplate": "x: %{x}<br>y: %{y}<extra></extra>",
         "name": "18",
         "source": "data:image/png;base64,iVBORw0KGgoAAAANSUhEUgAAABwAAAAcCAAAAABXZoBIAAACVElEQVR4XgXBSZIbRRQA0Bz+z6FGSZYKArCJXrHiANz/GiwIAtuoRWuoyrFy4j36x3F8mmkW/q9wsVe1fBJCuaAvX2bzgBLIzjlXOGZ25LTHPRDZifLhvYdDsYnlIOTo2TRQta/OTTPdb8g5vL1vpabAMnR7GoS82dAqIXy3XIAetY29Kp6IOwEFjHazYkQWExv8N562TYJdKScFe5QjnVTwQATL8PfbURxVRcki4s8/EhgSycn5YZAIzD64IBXHAUI8/8ROJP97LdFzzg7wmVRiXMHpMqd3bIktsphikitUwWndict8AvTbs344gfr9I1XKQHVQw962vev91TgfjD8A+/MuK0qxf4M9hvTIxHx/z7w8bq0PjQCRIMjrH4g1ua1qmyrju03Dp2OYBQXJwrrCtqdM5IQxtOxheftt+FqVpLK6tAPhgjN5oU9CsOjPv79tfptkytHFCj/UGF9UIHScGzrP1WyvBtm51P0CBxGeuXHgpRQi0byua/yo+FrF6QTQqrrsubDkEz/PdjOVJSvsJicKm/co9wfrqUZc5qfJqDgyhObv8M1XBSFqxlVukth7CgV7ZLVQBy5wwrTq+0YzQAt+f25DX11GyaBwLFGMmtJKe+5zf0hbtnFNYwaoUplVMZ4LSnprQY8+EForR1ohAqUt3DM148XdKOtaEZlwSSlIOGlBaUoP5nrdYuIprYFJAlQvC/yqqp/Dy2R1utiy5vK61kkDw+XLArSKPt4TCDwP2OCVKtfzuTdZkyd81ctgbuU88x5Zzta2+Xg4dXxj9vv/GRNvPRMQgcIAAAAASUVORK5CYII=",
         "type": "image",
         "xaxis": "x9",
         "yaxis": "y9"
        },
        {
         "hovertemplate": "x: %{x}<br>y: %{y}<extra></extra>",
         "name": "19",
         "source": "data:image/png;base64,iVBORw0KGgoAAAANSUhEUgAAABwAAAAcCAAAAABXZoBIAAACaElEQVR4XgXBW4/TOBgA0Nj+bCdOnKRtZjqzi5Dmcf/U/mgkHlgJwaxUREtJmosv8ZVz0L88Tf9vvIwGD//8LXj8/T4ej+qygpnBRCLflLeBUkmMZeFRNCItCzo8G9g9qkqfCJcUbSbwQkeKjPKlkBaujFq0ISpfxWwT4BIiEEcF8tbC/UCLkBGuno+zqnrOA+DHDxdcUhNgCikCa47HA0+nAbIT7BqNTylZGJB2rm6Gc9vQ4li6bY+iYLU1mR7gZbXZFV1VY5TXgB6j76S+rokhxuGp1pZGJlhYxu8aFy5x7LRPuWIF8AJ43NvhNd5ut0vsG/SIDXE2go8wFdnvHjfDrH1ZLhuHAA1k41RO8LXjPkZPRDiRmr9vsaYoGodRYhwm6tedEtH1x/n3Wdy4wNkq0gJhFBik1Z8l54enOyb8LbkC6xpF5ewGncgiH8vdSH0f97KFLTP7QqfL6CpoOsYsWa/v8/pzTQE3EZenurksmleAZdtOsx3/q6lx6hEHmorhBBwRoICczjn6LfcfDvryUxO+M0ztoveQIY8L3h5qP9XN4NBsXSXqmq/TuNAAxBIa3DptZwT4HCryIo4nMerFcAoBAyn7cSruo6T87S92oojp+01j0cHcMiAkWKrf0aGS57Yu3Pjt05ep3zdI0REcUdfzu2q6V0JsNN8/f9sQUQqGfayIyn1P7dUNc7gu43pX5OOOtQGJrYnh8Mys3+1d/6qmX7rglNJgDLQMG026p/hjoaW7fa3znkDtdZ90hEHFzKgkUd+qodjV3kqWI5JUNwWcVzUzWWzerr7nNYKqk8lLaRHDfwDF/H6FjJBhqgAAAABJRU5ErkJggg==",
         "type": "image",
         "xaxis": "x10",
         "yaxis": "y10"
        }
       ],
       "layout": {
        "annotations": [
         {
          "font": {},
          "showarrow": false,
          "text": "facet_col=10",
          "x": 0.04100000000000001,
          "xanchor": "center",
          "xref": "paper",
          "y": 0.46499999999999997,
          "yanchor": "bottom",
          "yref": "paper"
         },
         {
          "font": {},
          "showarrow": false,
          "text": "facet_col=11",
          "x": 0.14300000000000004,
          "xanchor": "center",
          "xref": "paper",
          "y": 0.46499999999999997,
          "yanchor": "bottom",
          "yref": "paper"
         },
         {
          "font": {},
          "showarrow": false,
          "text": "facet_col=12",
          "x": 0.24500000000000005,
          "xanchor": "center",
          "xref": "paper",
          "y": 0.46499999999999997,
          "yanchor": "bottom",
          "yref": "paper"
         },
         {
          "font": {},
          "showarrow": false,
          "text": "facet_col=13",
          "x": 0.3470000000000001,
          "xanchor": "center",
          "xref": "paper",
          "y": 0.46499999999999997,
          "yanchor": "bottom",
          "yref": "paper"
         },
         {
          "font": {},
          "showarrow": false,
          "text": "facet_col=14",
          "x": 0.44900000000000007,
          "xanchor": "center",
          "xref": "paper",
          "y": 0.46499999999999997,
          "yanchor": "bottom",
          "yref": "paper"
         },
         {
          "font": {},
          "showarrow": false,
          "text": "facet_col=15",
          "x": 0.5510000000000002,
          "xanchor": "center",
          "xref": "paper",
          "y": 0.46499999999999997,
          "yanchor": "bottom",
          "yref": "paper"
         },
         {
          "font": {},
          "showarrow": false,
          "text": "facet_col=16",
          "x": 0.6530000000000001,
          "xanchor": "center",
          "xref": "paper",
          "y": 0.46499999999999997,
          "yanchor": "bottom",
          "yref": "paper"
         },
         {
          "font": {},
          "showarrow": false,
          "text": "facet_col=17",
          "x": 0.7550000000000001,
          "xanchor": "center",
          "xref": "paper",
          "y": 0.46499999999999997,
          "yanchor": "bottom",
          "yref": "paper"
         },
         {
          "font": {},
          "showarrow": false,
          "text": "facet_col=18",
          "x": 0.8570000000000002,
          "xanchor": "center",
          "xref": "paper",
          "y": 0.46499999999999997,
          "yanchor": "bottom",
          "yref": "paper"
         },
         {
          "font": {},
          "showarrow": false,
          "text": "facet_col=19",
          "x": 0.9590000000000002,
          "xanchor": "center",
          "xref": "paper",
          "y": 0.46499999999999997,
          "yanchor": "bottom",
          "yref": "paper"
         },
         {
          "font": {},
          "showarrow": false,
          "text": "facet_col=0",
          "x": 0.04100000000000001,
          "xanchor": "center",
          "xref": "paper",
          "y": 0.9999999999999999,
          "yanchor": "bottom",
          "yref": "paper"
         },
         {
          "font": {},
          "showarrow": false,
          "text": "facet_col=1",
          "x": 0.14300000000000004,
          "xanchor": "center",
          "xref": "paper",
          "y": 0.9999999999999999,
          "yanchor": "bottom",
          "yref": "paper"
         },
         {
          "font": {},
          "showarrow": false,
          "text": "facet_col=2",
          "x": 0.24500000000000005,
          "xanchor": "center",
          "xref": "paper",
          "y": 0.9999999999999999,
          "yanchor": "bottom",
          "yref": "paper"
         },
         {
          "font": {},
          "showarrow": false,
          "text": "facet_col=3",
          "x": 0.3470000000000001,
          "xanchor": "center",
          "xref": "paper",
          "y": 0.9999999999999999,
          "yanchor": "bottom",
          "yref": "paper"
         },
         {
          "font": {},
          "showarrow": false,
          "text": "facet_col=4",
          "x": 0.44900000000000007,
          "xanchor": "center",
          "xref": "paper",
          "y": 0.9999999999999999,
          "yanchor": "bottom",
          "yref": "paper"
         },
         {
          "font": {},
          "showarrow": false,
          "text": "facet_col=5",
          "x": 0.5510000000000002,
          "xanchor": "center",
          "xref": "paper",
          "y": 0.9999999999999999,
          "yanchor": "bottom",
          "yref": "paper"
         },
         {
          "font": {},
          "showarrow": false,
          "text": "facet_col=6",
          "x": 0.6530000000000001,
          "xanchor": "center",
          "xref": "paper",
          "y": 0.9999999999999999,
          "yanchor": "bottom",
          "yref": "paper"
         },
         {
          "font": {},
          "showarrow": false,
          "text": "facet_col=7",
          "x": 0.7550000000000001,
          "xanchor": "center",
          "xref": "paper",
          "y": 0.9999999999999999,
          "yanchor": "bottom",
          "yref": "paper"
         },
         {
          "font": {},
          "showarrow": false,
          "text": "facet_col=8",
          "x": 0.8570000000000002,
          "xanchor": "center",
          "xref": "paper",
          "y": 0.9999999999999999,
          "yanchor": "bottom",
          "yref": "paper"
         },
         {
          "font": {},
          "showarrow": false,
          "text": "facet_col=9",
          "x": 0.9590000000000002,
          "xanchor": "center",
          "xref": "paper",
          "y": 0.9999999999999999,
          "yanchor": "bottom",
          "yref": "paper"
         }
        ],
        "template": {
         "data": {
          "bar": [
           {
            "error_x": {
             "color": "#2a3f5f"
            },
            "error_y": {
             "color": "#2a3f5f"
            },
            "marker": {
             "line": {
              "color": "#E5ECF6",
              "width": 0.5
             },
             "pattern": {
              "fillmode": "overlay",
              "size": 10,
              "solidity": 0.2
             }
            },
            "type": "bar"
           }
          ],
          "barpolar": [
           {
            "marker": {
             "line": {
              "color": "#E5ECF6",
              "width": 0.5
             },
             "pattern": {
              "fillmode": "overlay",
              "size": 10,
              "solidity": 0.2
             }
            },
            "type": "barpolar"
           }
          ],
          "carpet": [
           {
            "aaxis": {
             "endlinecolor": "#2a3f5f",
             "gridcolor": "white",
             "linecolor": "white",
             "minorgridcolor": "white",
             "startlinecolor": "#2a3f5f"
            },
            "baxis": {
             "endlinecolor": "#2a3f5f",
             "gridcolor": "white",
             "linecolor": "white",
             "minorgridcolor": "white",
             "startlinecolor": "#2a3f5f"
            },
            "type": "carpet"
           }
          ],
          "choropleth": [
           {
            "colorbar": {
             "outlinewidth": 0,
             "ticks": ""
            },
            "type": "choropleth"
           }
          ],
          "contour": [
           {
            "colorbar": {
             "outlinewidth": 0,
             "ticks": ""
            },
            "colorscale": [
             [
              0,
              "#0d0887"
             ],
             [
              0.1111111111111111,
              "#46039f"
             ],
             [
              0.2222222222222222,
              "#7201a8"
             ],
             [
              0.3333333333333333,
              "#9c179e"
             ],
             [
              0.4444444444444444,
              "#bd3786"
             ],
             [
              0.5555555555555556,
              "#d8576b"
             ],
             [
              0.6666666666666666,
              "#ed7953"
             ],
             [
              0.7777777777777778,
              "#fb9f3a"
             ],
             [
              0.8888888888888888,
              "#fdca26"
             ],
             [
              1,
              "#f0f921"
             ]
            ],
            "type": "contour"
           }
          ],
          "contourcarpet": [
           {
            "colorbar": {
             "outlinewidth": 0,
             "ticks": ""
            },
            "type": "contourcarpet"
           }
          ],
          "heatmap": [
           {
            "colorbar": {
             "outlinewidth": 0,
             "ticks": ""
            },
            "colorscale": [
             [
              0,
              "#0d0887"
             ],
             [
              0.1111111111111111,
              "#46039f"
             ],
             [
              0.2222222222222222,
              "#7201a8"
             ],
             [
              0.3333333333333333,
              "#9c179e"
             ],
             [
              0.4444444444444444,
              "#bd3786"
             ],
             [
              0.5555555555555556,
              "#d8576b"
             ],
             [
              0.6666666666666666,
              "#ed7953"
             ],
             [
              0.7777777777777778,
              "#fb9f3a"
             ],
             [
              0.8888888888888888,
              "#fdca26"
             ],
             [
              1,
              "#f0f921"
             ]
            ],
            "type": "heatmap"
           }
          ],
          "heatmapgl": [
           {
            "colorbar": {
             "outlinewidth": 0,
             "ticks": ""
            },
            "colorscale": [
             [
              0,
              "#0d0887"
             ],
             [
              0.1111111111111111,
              "#46039f"
             ],
             [
              0.2222222222222222,
              "#7201a8"
             ],
             [
              0.3333333333333333,
              "#9c179e"
             ],
             [
              0.4444444444444444,
              "#bd3786"
             ],
             [
              0.5555555555555556,
              "#d8576b"
             ],
             [
              0.6666666666666666,
              "#ed7953"
             ],
             [
              0.7777777777777778,
              "#fb9f3a"
             ],
             [
              0.8888888888888888,
              "#fdca26"
             ],
             [
              1,
              "#f0f921"
             ]
            ],
            "type": "heatmapgl"
           }
          ],
          "histogram": [
           {
            "marker": {
             "pattern": {
              "fillmode": "overlay",
              "size": 10,
              "solidity": 0.2
             }
            },
            "type": "histogram"
           }
          ],
          "histogram2d": [
           {
            "colorbar": {
             "outlinewidth": 0,
             "ticks": ""
            },
            "colorscale": [
             [
              0,
              "#0d0887"
             ],
             [
              0.1111111111111111,
              "#46039f"
             ],
             [
              0.2222222222222222,
              "#7201a8"
             ],
             [
              0.3333333333333333,
              "#9c179e"
             ],
             [
              0.4444444444444444,
              "#bd3786"
             ],
             [
              0.5555555555555556,
              "#d8576b"
             ],
             [
              0.6666666666666666,
              "#ed7953"
             ],
             [
              0.7777777777777778,
              "#fb9f3a"
             ],
             [
              0.8888888888888888,
              "#fdca26"
             ],
             [
              1,
              "#f0f921"
             ]
            ],
            "type": "histogram2d"
           }
          ],
          "histogram2dcontour": [
           {
            "colorbar": {
             "outlinewidth": 0,
             "ticks": ""
            },
            "colorscale": [
             [
              0,
              "#0d0887"
             ],
             [
              0.1111111111111111,
              "#46039f"
             ],
             [
              0.2222222222222222,
              "#7201a8"
             ],
             [
              0.3333333333333333,
              "#9c179e"
             ],
             [
              0.4444444444444444,
              "#bd3786"
             ],
             [
              0.5555555555555556,
              "#d8576b"
             ],
             [
              0.6666666666666666,
              "#ed7953"
             ],
             [
              0.7777777777777778,
              "#fb9f3a"
             ],
             [
              0.8888888888888888,
              "#fdca26"
             ],
             [
              1,
              "#f0f921"
             ]
            ],
            "type": "histogram2dcontour"
           }
          ],
          "mesh3d": [
           {
            "colorbar": {
             "outlinewidth": 0,
             "ticks": ""
            },
            "type": "mesh3d"
           }
          ],
          "parcoords": [
           {
            "line": {
             "colorbar": {
              "outlinewidth": 0,
              "ticks": ""
             }
            },
            "type": "parcoords"
           }
          ],
          "pie": [
           {
            "automargin": true,
            "type": "pie"
           }
          ],
          "scatter": [
           {
            "fillpattern": {
             "fillmode": "overlay",
             "size": 10,
             "solidity": 0.2
            },
            "type": "scatter"
           }
          ],
          "scatter3d": [
           {
            "line": {
             "colorbar": {
              "outlinewidth": 0,
              "ticks": ""
             }
            },
            "marker": {
             "colorbar": {
              "outlinewidth": 0,
              "ticks": ""
             }
            },
            "type": "scatter3d"
           }
          ],
          "scattercarpet": [
           {
            "marker": {
             "colorbar": {
              "outlinewidth": 0,
              "ticks": ""
             }
            },
            "type": "scattercarpet"
           }
          ],
          "scattergeo": [
           {
            "marker": {
             "colorbar": {
              "outlinewidth": 0,
              "ticks": ""
             }
            },
            "type": "scattergeo"
           }
          ],
          "scattergl": [
           {
            "marker": {
             "colorbar": {
              "outlinewidth": 0,
              "ticks": ""
             }
            },
            "type": "scattergl"
           }
          ],
          "scattermapbox": [
           {
            "marker": {
             "colorbar": {
              "outlinewidth": 0,
              "ticks": ""
             }
            },
            "type": "scattermapbox"
           }
          ],
          "scatterpolar": [
           {
            "marker": {
             "colorbar": {
              "outlinewidth": 0,
              "ticks": ""
             }
            },
            "type": "scatterpolar"
           }
          ],
          "scatterpolargl": [
           {
            "marker": {
             "colorbar": {
              "outlinewidth": 0,
              "ticks": ""
             }
            },
            "type": "scatterpolargl"
           }
          ],
          "scatterternary": [
           {
            "marker": {
             "colorbar": {
              "outlinewidth": 0,
              "ticks": ""
             }
            },
            "type": "scatterternary"
           }
          ],
          "surface": [
           {
            "colorbar": {
             "outlinewidth": 0,
             "ticks": ""
            },
            "colorscale": [
             [
              0,
              "#0d0887"
             ],
             [
              0.1111111111111111,
              "#46039f"
             ],
             [
              0.2222222222222222,
              "#7201a8"
             ],
             [
              0.3333333333333333,
              "#9c179e"
             ],
             [
              0.4444444444444444,
              "#bd3786"
             ],
             [
              0.5555555555555556,
              "#d8576b"
             ],
             [
              0.6666666666666666,
              "#ed7953"
             ],
             [
              0.7777777777777778,
              "#fb9f3a"
             ],
             [
              0.8888888888888888,
              "#fdca26"
             ],
             [
              1,
              "#f0f921"
             ]
            ],
            "type": "surface"
           }
          ],
          "table": [
           {
            "cells": {
             "fill": {
              "color": "#EBF0F8"
             },
             "line": {
              "color": "white"
             }
            },
            "header": {
             "fill": {
              "color": "#C8D4E3"
             },
             "line": {
              "color": "white"
             }
            },
            "type": "table"
           }
          ]
         },
         "layout": {
          "annotationdefaults": {
           "arrowcolor": "#2a3f5f",
           "arrowhead": 0,
           "arrowwidth": 1
          },
          "autotypenumbers": "strict",
          "coloraxis": {
           "colorbar": {
            "outlinewidth": 0,
            "ticks": ""
           }
          },
          "colorscale": {
           "diverging": [
            [
             0,
             "#8e0152"
            ],
            [
             0.1,
             "#c51b7d"
            ],
            [
             0.2,
             "#de77ae"
            ],
            [
             0.3,
             "#f1b6da"
            ],
            [
             0.4,
             "#fde0ef"
            ],
            [
             0.5,
             "#f7f7f7"
            ],
            [
             0.6,
             "#e6f5d0"
            ],
            [
             0.7,
             "#b8e186"
            ],
            [
             0.8,
             "#7fbc41"
            ],
            [
             0.9,
             "#4d9221"
            ],
            [
             1,
             "#276419"
            ]
           ],
           "sequential": [
            [
             0,
             "#0d0887"
            ],
            [
             0.1111111111111111,
             "#46039f"
            ],
            [
             0.2222222222222222,
             "#7201a8"
            ],
            [
             0.3333333333333333,
             "#9c179e"
            ],
            [
             0.4444444444444444,
             "#bd3786"
            ],
            [
             0.5555555555555556,
             "#d8576b"
            ],
            [
             0.6666666666666666,
             "#ed7953"
            ],
            [
             0.7777777777777778,
             "#fb9f3a"
            ],
            [
             0.8888888888888888,
             "#fdca26"
            ],
            [
             1,
             "#f0f921"
            ]
           ],
           "sequentialminus": [
            [
             0,
             "#0d0887"
            ],
            [
             0.1111111111111111,
             "#46039f"
            ],
            [
             0.2222222222222222,
             "#7201a8"
            ],
            [
             0.3333333333333333,
             "#9c179e"
            ],
            [
             0.4444444444444444,
             "#bd3786"
            ],
            [
             0.5555555555555556,
             "#d8576b"
            ],
            [
             0.6666666666666666,
             "#ed7953"
            ],
            [
             0.7777777777777778,
             "#fb9f3a"
            ],
            [
             0.8888888888888888,
             "#fdca26"
            ],
            [
             1,
             "#f0f921"
            ]
           ]
          },
          "colorway": [
           "#636efa",
           "#EF553B",
           "#00cc96",
           "#ab63fa",
           "#FFA15A",
           "#19d3f3",
           "#FF6692",
           "#B6E880",
           "#FF97FF",
           "#FECB52"
          ],
          "font": {
           "color": "#2a3f5f"
          },
          "geo": {
           "bgcolor": "white",
           "lakecolor": "white",
           "landcolor": "#E5ECF6",
           "showlakes": true,
           "showland": true,
           "subunitcolor": "white"
          },
          "hoverlabel": {
           "align": "left"
          },
          "hovermode": "closest",
          "mapbox": {
           "style": "light"
          },
          "paper_bgcolor": "white",
          "plot_bgcolor": "#E5ECF6",
          "polar": {
           "angularaxis": {
            "gridcolor": "white",
            "linecolor": "white",
            "ticks": ""
           },
           "bgcolor": "#E5ECF6",
           "radialaxis": {
            "gridcolor": "white",
            "linecolor": "white",
            "ticks": ""
           }
          },
          "scene": {
           "xaxis": {
            "backgroundcolor": "#E5ECF6",
            "gridcolor": "white",
            "gridwidth": 2,
            "linecolor": "white",
            "showbackground": true,
            "ticks": "",
            "zerolinecolor": "white"
           },
           "yaxis": {
            "backgroundcolor": "#E5ECF6",
            "gridcolor": "white",
            "gridwidth": 2,
            "linecolor": "white",
            "showbackground": true,
            "ticks": "",
            "zerolinecolor": "white"
           },
           "zaxis": {
            "backgroundcolor": "#E5ECF6",
            "gridcolor": "white",
            "gridwidth": 2,
            "linecolor": "white",
            "showbackground": true,
            "ticks": "",
            "zerolinecolor": "white"
           }
          },
          "shapedefaults": {
           "line": {
            "color": "#2a3f5f"
           }
          },
          "ternary": {
           "aaxis": {
            "gridcolor": "white",
            "linecolor": "white",
            "ticks": ""
           },
           "baxis": {
            "gridcolor": "white",
            "linecolor": "white",
            "ticks": ""
           },
           "bgcolor": "#E5ECF6",
           "caxis": {
            "gridcolor": "white",
            "linecolor": "white",
            "ticks": ""
           }
          },
          "title": {
           "x": 0.05
          },
          "xaxis": {
           "automargin": true,
           "gridcolor": "white",
           "linecolor": "white",
           "ticks": "",
           "title": {
            "standoff": 15
           },
           "zerolinecolor": "white",
           "zerolinewidth": 2
          },
          "yaxis": {
           "automargin": true,
           "gridcolor": "white",
           "linecolor": "white",
           "ticks": "",
           "title": {
            "standoff": 15
           },
           "zerolinecolor": "white",
           "zerolinewidth": 2
          }
         }
        },
        "title": {
         "text": "Result"
        },
        "xaxis": {
         "anchor": "y",
         "domain": [
          0,
          0.08200000000000002
         ]
        },
        "xaxis10": {
         "anchor": "y10",
         "domain": [
          0.9180000000000001,
          1
         ],
         "matches": "x"
        },
        "xaxis11": {
         "anchor": "y11",
         "domain": [
          0,
          0.08200000000000002
         ],
         "matches": "x",
         "showticklabels": false
        },
        "xaxis12": {
         "anchor": "y12",
         "domain": [
          0.10200000000000002,
          0.18400000000000005
         ],
         "matches": "x",
         "showticklabels": false
        },
        "xaxis13": {
         "anchor": "y13",
         "domain": [
          0.20400000000000004,
          0.28600000000000003
         ],
         "matches": "x",
         "showticklabels": false
        },
        "xaxis14": {
         "anchor": "y14",
         "domain": [
          0.30600000000000005,
          0.38800000000000007
         ],
         "matches": "x",
         "showticklabels": false
        },
        "xaxis15": {
         "anchor": "y15",
         "domain": [
          0.4080000000000001,
          0.4900000000000001
         ],
         "matches": "x",
         "showticklabels": false
        },
        "xaxis16": {
         "anchor": "y16",
         "domain": [
          0.5100000000000001,
          0.5920000000000001
         ],
         "matches": "x",
         "showticklabels": false
        },
        "xaxis17": {
         "anchor": "y17",
         "domain": [
          0.6120000000000001,
          0.6940000000000002
         ],
         "matches": "x",
         "showticklabels": false
        },
        "xaxis18": {
         "anchor": "y18",
         "domain": [
          0.7140000000000001,
          0.796
         ],
         "matches": "x",
         "showticklabels": false
        },
        "xaxis19": {
         "anchor": "y19",
         "domain": [
          0.8160000000000002,
          0.8980000000000001
         ],
         "matches": "x",
         "showticklabels": false
        },
        "xaxis2": {
         "anchor": "y2",
         "domain": [
          0.10200000000000002,
          0.18400000000000005
         ],
         "matches": "x"
        },
        "xaxis20": {
         "anchor": "y20",
         "domain": [
          0.9180000000000001,
          1
         ],
         "matches": "x",
         "showticklabels": false
        },
        "xaxis3": {
         "anchor": "y3",
         "domain": [
          0.20400000000000004,
          0.28600000000000003
         ],
         "matches": "x"
        },
        "xaxis4": {
         "anchor": "y4",
         "domain": [
          0.30600000000000005,
          0.38800000000000007
         ],
         "matches": "x"
        },
        "xaxis5": {
         "anchor": "y5",
         "domain": [
          0.4080000000000001,
          0.4900000000000001
         ],
         "matches": "x"
        },
        "xaxis6": {
         "anchor": "y6",
         "domain": [
          0.5100000000000001,
          0.5920000000000001
         ],
         "matches": "x"
        },
        "xaxis7": {
         "anchor": "y7",
         "domain": [
          0.6120000000000001,
          0.6940000000000002
         ],
         "matches": "x"
        },
        "xaxis8": {
         "anchor": "y8",
         "domain": [
          0.7140000000000001,
          0.796
         ],
         "matches": "x"
        },
        "xaxis9": {
         "anchor": "y9",
         "domain": [
          0.8160000000000002,
          0.8980000000000001
         ],
         "matches": "x"
        },
        "yaxis": {
         "anchor": "x",
         "domain": [
          0,
          0.46499999999999997
         ]
        },
        "yaxis10": {
         "anchor": "x10",
         "domain": [
          0,
          0.46499999999999997
         ],
         "matches": "y",
         "showticklabels": false
        },
        "yaxis11": {
         "anchor": "x11",
         "domain": [
          0.5349999999999999,
          0.9999999999999999
         ],
         "matches": "y"
        },
        "yaxis12": {
         "anchor": "x12",
         "domain": [
          0.5349999999999999,
          0.9999999999999999
         ],
         "matches": "y",
         "showticklabels": false
        },
        "yaxis13": {
         "anchor": "x13",
         "domain": [
          0.5349999999999999,
          0.9999999999999999
         ],
         "matches": "y",
         "showticklabels": false
        },
        "yaxis14": {
         "anchor": "x14",
         "domain": [
          0.5349999999999999,
          0.9999999999999999
         ],
         "matches": "y",
         "showticklabels": false
        },
        "yaxis15": {
         "anchor": "x15",
         "domain": [
          0.5349999999999999,
          0.9999999999999999
         ],
         "matches": "y",
         "showticklabels": false
        },
        "yaxis16": {
         "anchor": "x16",
         "domain": [
          0.5349999999999999,
          0.9999999999999999
         ],
         "matches": "y",
         "showticklabels": false
        },
        "yaxis17": {
         "anchor": "x17",
         "domain": [
          0.5349999999999999,
          0.9999999999999999
         ],
         "matches": "y",
         "showticklabels": false
        },
        "yaxis18": {
         "anchor": "x18",
         "domain": [
          0.5349999999999999,
          0.9999999999999999
         ],
         "matches": "y",
         "showticklabels": false
        },
        "yaxis19": {
         "anchor": "x19",
         "domain": [
          0.5349999999999999,
          0.9999999999999999
         ],
         "matches": "y",
         "showticklabels": false
        },
        "yaxis2": {
         "anchor": "x2",
         "domain": [
          0,
          0.46499999999999997
         ],
         "matches": "y",
         "showticklabels": false
        },
        "yaxis20": {
         "anchor": "x20",
         "domain": [
          0.5349999999999999,
          0.9999999999999999
         ],
         "matches": "y",
         "showticklabels": false
        },
        "yaxis3": {
         "anchor": "x3",
         "domain": [
          0,
          0.46499999999999997
         ],
         "matches": "y",
         "showticklabels": false
        },
        "yaxis4": {
         "anchor": "x4",
         "domain": [
          0,
          0.46499999999999997
         ],
         "matches": "y",
         "showticklabels": false
        },
        "yaxis5": {
         "anchor": "x5",
         "domain": [
          0,
          0.46499999999999997
         ],
         "matches": "y",
         "showticklabels": false
        },
        "yaxis6": {
         "anchor": "x6",
         "domain": [
          0,
          0.46499999999999997
         ],
         "matches": "y",
         "showticklabels": false
        },
        "yaxis7": {
         "anchor": "x7",
         "domain": [
          0,
          0.46499999999999997
         ],
         "matches": "y",
         "showticklabels": false
        },
        "yaxis8": {
         "anchor": "x8",
         "domain": [
          0,
          0.46499999999999997
         ],
         "matches": "y",
         "showticklabels": false
        },
        "yaxis9": {
         "anchor": "x9",
         "domain": [
          0,
          0.46499999999999997
         ],
         "matches": "y",
         "showticklabels": false
        }
       }
      }
     },
     "metadata": {},
     "output_type": "display_data"
    }
   ],
   "source": [
    "col_wrap = 10\n",
    "\n",
    "show_images(X, \"Base\", col_wrap=col_wrap)\n",
    "\n",
    "result = denoise(X, pca_components=20, gaussian_sigma=1, median_size=1)\n",
    "\n",
    "show_images(result, \"Result\", col_wrap=col_wrap)"
   ]
  }
 ],
 "metadata": {
  "kernelspec": {
   "display_name": "Python 3",
   "language": "python",
   "name": "python3"
  },
  "language_info": {
   "codemirror_mode": {
    "name": "ipython",
    "version": 3
   },
   "file_extension": ".py",
   "mimetype": "text/x-python",
   "name": "python",
   "nbconvert_exporter": "python",
   "pygments_lexer": "ipython3",
   "version": "3.12.3"
  }
 },
 "nbformat": 4,
 "nbformat_minor": 2
}
